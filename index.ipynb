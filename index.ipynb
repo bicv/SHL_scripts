{
 "cells": [
  {
   "cell_type": "markdown",
   "metadata": {},
   "source": [
    "# Sparse Hebbian Learning "
   ]
  },
  {
   "cell_type": "code",
   "execution_count": 1,
   "metadata": {
    "ExecuteTime": {
     "end_time": "2018-09-26T12:58:38.326350Z",
     "start_time": "2018-09-26T12:58:38.303153Z"
    }
   },
   "outputs": [],
   "source": [
    "%load_ext autoreload\n",
    "%autoreload 2"
   ]
  },
  {
   "cell_type": "code",
   "execution_count": 2,
   "metadata": {
    "ExecuteTime": {
     "end_time": "2018-09-26T12:58:39.392780Z",
     "start_time": "2018-09-26T12:58:38.329893Z"
    }
   },
   "outputs": [
    {
     "name": "stdout",
     "output_type": "stream",
     "text": [
      " This is a collection of python scripts to test learning strategies to efficiently code natural image patches.  This is here restricted  to the framework of the [SparseNet algorithm from Bruno Olshausen](http://redwood.berkeley.edu/bruno/sparsenet/).\n"
     ]
    }
   ],
   "source": [
    "%run setup.py --description"
   ]
  },
  {
   "cell_type": "code",
   "execution_count": 3,
   "metadata": {
    "ExecuteTime": {
     "end_time": "2018-09-26T12:58:39.433488Z",
     "start_time": "2018-09-26T12:58:39.397272Z"
    }
   },
   "outputs": [],
   "source": [
    "%matplotlib inline\n",
    "import matplotlib.pyplot as plt\n",
    "import numpy as np\n",
    "np.set_printoptions(precision=2, suppress=True)"
   ]
  },
  {
   "cell_type": "code",
   "execution_count": null,
   "metadata": {
    "ExecuteTime": {
     "end_time": "2018-09-26T13:41:13.141085Z",
     "start_time": "2018-09-26T12:58:39.437458Z"
    },
    "scrolled": false
   },
   "outputs": [
    {
     "name": "stdout",
     "output_type": "stream",
     "text": [
      "Extracting data..loading the data called : probe/cache_dir/data_data\n",
      "Data is of shape : (65520, 441) - done in 3.35s.\n",
      "No cache found probe/cache_dir/HULK_HAP_dico.pkl: Learning the dictionary with algo = mp \n",
      " Training on 65520 patches\n",
      "Iteration   1 /   4097 (elapsed time:   2s,   0mn   2s)\n",
      "Iteration  33 /   4097 (elapsed time:  45s,   0mn  45s)\n",
      "Iteration  65 /   4097 (elapsed time:  87s,   1mn  27s)\n",
      "Iteration  97 /   4097 (elapsed time:  129s,   2mn   9s)\n",
      "Iteration  129 /   4097 (elapsed time:  170s,   2mn  50s)\n",
      "Iteration  161 /   4097 (elapsed time:  212s,   3mn  32s)\n",
      "Iteration  193 /   4097 (elapsed time:  254s,   4mn  14s)\n",
      "Iteration  225 /   4097 (elapsed time:  295s,   4mn  55s)\n",
      "Iteration  257 /   4097 (elapsed time:  337s,   5mn  37s)\n",
      "Iteration  289 /   4097 (elapsed time:  378s,   6mn  18s)\n",
      "Iteration  321 /   4097 (elapsed time:  420s,   7mn   0s)\n",
      "Iteration  353 /   4097 (elapsed time:  461s,   7mn  41s)\n",
      "Iteration  385 /   4097 (elapsed time:  503s,   8mn  23s)\n",
      "Iteration  417 /   4097 (elapsed time:  555s,   9mn  15s)\n",
      "Iteration  449 /   4097 (elapsed time:  614s,  10mn  14s)\n",
      "Iteration  481 /   4097 (elapsed time:  671s,  11mn  11s)\n",
      "Iteration  513 /   4097 (elapsed time:  728s,  12mn   8s)\n",
      "Iteration  545 /   4097 (elapsed time:  783s,  13mn   3s)\n",
      "Iteration  577 /   4097 (elapsed time:  843s,  14mn   3s)\n",
      "Iteration  609 /   4097 (elapsed time:  894s,  14mn  54s)\n",
      "Iteration  641 /   4097 (elapsed time:  937s,  15mn  37s)\n",
      "Iteration  673 /   4097 (elapsed time:  979s,  16mn  19s)\n",
      "Iteration  705 /   4097 (elapsed time:  1021s,  17mn   1s)\n",
      "Iteration  737 /   4097 (elapsed time:  1063s,  17mn  43s)\n",
      "Iteration  769 /   4097 (elapsed time:  1105s,  18mn  25s)\n",
      "Iteration  801 /   4097 (elapsed time:  1147s,  19mn   7s)\n",
      "Iteration  833 /   4097 (elapsed time:  1189s,  19mn  49s)\n",
      "Iteration  865 /   4097 (elapsed time:  1231s,  20mn  31s)\n",
      "Iteration  897 /   4097 (elapsed time:  1274s,  21mn  14s)\n",
      "Iteration  929 /   4097 (elapsed time:  1317s,  21mn  57s)\n",
      "Iteration  961 /   4097 (elapsed time:  1359s,  22mn  39s)\n",
      "Iteration  993 /   4097 (elapsed time:  1400s,  23mn  20s)\n",
      "Iteration  1025 /   4097 (elapsed time:  1442s,  24mn   2s)\n",
      "Iteration  1057 /   4097 (elapsed time:  1484s,  24mn  44s)\n",
      "Iteration  1089 /   4097 (elapsed time:  1525s,  25mn  25s)\n",
      "Iteration  1121 /   4097 (elapsed time:  1567s,  26mn   7s)\n",
      "Iteration  1153 /   4097 (elapsed time:  1609s,  26mn  49s)\n",
      "Iteration  1185 /   4097 (elapsed time:  1651s,  27mn  31s)\n",
      "Iteration  1217 /   4097 (elapsed time:  1693s,  28mn  13s)\n",
      "Iteration  1249 /   4097 (elapsed time:  1739s,  28mn  59s)\n",
      "Iteration  1281 /   4097 (elapsed time:  1783s,  29mn  43s)\n",
      "Iteration  1313 /   4097 (elapsed time:  1826s,  30mn  26s)\n",
      "Iteration  1345 /   4097 (elapsed time:  1868s,  31mn   8s)\n",
      "Iteration  1377 /   4097 (elapsed time:  1910s,  31mn  50s)\n",
      "Iteration  1409 /   4097 (elapsed time:  1952s,  32mn  32s)\n",
      "Iteration  1441 /   4097 (elapsed time:  1994s,  33mn  14s)\n",
      "Iteration  1473 /   4097 (elapsed time:  2036s,  33mn  56s)\n"
     ]
    }
   ],
   "source": [
    "from shl_scripts.shl_experiments import SHL\n",
    "\n",
    "DEBUG_DOWNSCALE, verbose = 10, 0\n",
    "DEBUG_DOWNSCALE, verbose = 10, 10\n",
    "DEBUG_DOWNSCALE, verbose = 1, 10\n",
    "\n",
    "list_figures = ['plot_variance',  'plot_variance_histogram',  'time_plot_prob',  'time_plot_kurt',  'time_plot_var', 'time_plot_MC']\n",
    "homeo_method='HAP'\n",
    "opts = dict(DEBUG_DOWNSCALE=DEBUG_DOWNSCALE, verbose=verbose, cache_dir='probe/cache_dir', datapath='database')\n",
    "shl = SHL(homeo_method=homeo_method, **opts)\n",
    "tag = 'HULK'\n",
    "data = shl.get_data(matname='data')\n",
    "dico = shl.learn_dico(data=data, matname=tag + '_' + homeo_method, list_figures=list_figures)   "
   ]
  },
  {
   "cell_type": "code",
   "execution_count": null,
   "metadata": {},
   "outputs": [],
   "source": [
    "dico.dictionary.shape, shl.patch_width**2"
   ]
  },
  {
   "cell_type": "code",
   "execution_count": null,
   "metadata": {},
   "outputs": [],
   "source": [
    "fig, ax = shl.show_dico(dico, order=False)\n",
    "plt.savefig('probe/shl_HEH.png')"
   ]
  },
  {
   "cell_type": "code",
   "execution_count": null,
   "metadata": {},
   "outputs": [],
   "source": [
    "fig, ax = shl.show_Pcum(dico)\n",
    "plt.savefig('probe/shl_HEH_Pcum.png')"
   ]
  },
  {
   "cell_type": "markdown",
   "metadata": {},
   "source": [
    "### control: learning with a simplified homeostasis\n",
    "\n",
    "We build up a simpler heuristics based on the probability of activation of filters"
   ]
  },
  {
   "cell_type": "code",
   "execution_count": null,
   "metadata": {
    "ExecuteTime": {
     "end_time": "2018-09-26T13:41:14.021040Z",
     "start_time": "2018-09-26T13:41:13.144172Z"
    }
   },
   "outputs": [],
   "source": [
    "shl = SHL(homeo_method='HAP', **opts)\n",
    "dico = shl.learn_dico(data=data, matname=tag + '_HAP', list_figures=list_figures)"
   ]
  },
  {
   "cell_type": "code",
   "execution_count": null,
   "metadata": {
    "ExecuteTime": {
     "end_time": "2018-09-26T13:41:14.021040Z",
     "start_time": "2018-09-26T13:41:13.144172Z"
    }
   },
   "outputs": [],
   "source": [
    "fig, ax = shl.show_dico(dico, order=False)\n",
    "plt.savefig('probe/shl_HAP.png')"
   ]
  },
  {
   "cell_type": "code",
   "execution_count": null,
   "metadata": {
    "ExecuteTime": {
     "end_time": "2018-09-26T13:41:14.021040Z",
     "start_time": "2018-09-26T13:41:13.144172Z"
    }
   },
   "outputs": [],
   "source": [
    "fig, ax = shl.show_Pcum(dico)\n",
    "plt.savefig('probe/shl_HAP_Pcum.png')"
   ]
  },
  {
   "cell_type": "markdown",
   "metadata": {},
   "source": [
    "### control: learning without homeostasis\n",
    "\n",
    "During the learning, to avoid divergence, the norm of the filters is shunted to $1$."
   ]
  },
  {
   "cell_type": "code",
   "execution_count": null,
   "metadata": {
    "ExecuteTime": {
     "end_time": "2018-09-26T13:51:28.088388Z",
     "start_time": "2018-09-26T13:41:15.783143Z"
    },
    "scrolled": false
   },
   "outputs": [],
   "source": [
    "shl = SHL(homeo_method='None', **opts)\n",
    "dico = shl.learn_dico(data=data, matname=tag + '_nohomeo', list_figures=list_figures) "
   ]
  },
  {
   "cell_type": "code",
   "execution_count": null,
   "metadata": {
    "ExecuteTime": {
     "end_time": "2018-09-26T13:51:30.438167Z",
     "start_time": "2018-09-26T13:51:28.091222Z"
    }
   },
   "outputs": [],
   "source": [
    "fig, ax = shl.show_dico(dico, order=False)\n",
    "plt.savefig('probe/shl_nohomeo.png')"
   ]
  },
  {
   "cell_type": "code",
   "execution_count": null,
   "metadata": {
    "ExecuteTime": {
     "end_time": "2018-09-26T13:51:30.438167Z",
     "start_time": "2018-09-26T13:51:28.091222Z"
    }
   },
   "outputs": [],
   "source": [
    "fig, ax = shl.show_Pcum(dico)\n",
    "plt.savefig('probe/shl_nohomeo_Pcum.png')"
   ]
  },
  {
   "cell_type": "markdown",
   "metadata": {},
   "source": [
    "# Sparse Hebbian Learning : reproducing SparseNet\n",
    "\n",
    "If we test the convergence of SparseNet as a function of different learning parameters, it shows the relative robusteness of this method according to the coding parameters, but also the importance of homeostasis to obtain an efficient set of filters:\n",
    "\n",
    "See :\n",
    "* http://blog.invibe.net/posts/2015-05-05-reproducing-olshausens-classical-sparsenet.html for a description of how SparseNet is implemented in the ``scikit-learn`` package\n",
    "* http://blog.invibe.net/posts/2015-05-06-reproducing-olshausens-classical-sparsenet-part-2.html for a descrtiption of how we managed to implement the homeostasis"
   ]
  },
  {
   "cell_type": "markdown",
   "metadata": {},
   "source": [
    "## Version used"
   ]
  },
  {
   "cell_type": "code",
   "execution_count": null,
   "metadata": {
    "ExecuteTime": {
     "end_time": "2018-09-26T13:51:30.770144Z",
     "start_time": "2018-09-26T13:51:30.613044Z"
    }
   },
   "outputs": [],
   "source": [
    "!ls -l {shl.cache_dir}/{tag}*"
   ]
  },
  {
   "cell_type": "code",
   "execution_count": null,
   "metadata": {
    "ExecuteTime": {
     "end_time": "2018-09-26T13:51:30.609537Z",
     "start_time": "2018-09-26T13:51:30.440909Z"
    }
   },
   "outputs": [],
   "source": [
    "!rm -fr {shl.cache_dir}/{tag}*"
   ]
  },
  {
   "cell_type": "code",
   "execution_count": null,
   "metadata": {
    "ExecuteTime": {
     "end_time": "2018-09-26T13:51:30.829452Z",
     "start_time": "2018-09-26T13:51:30.773084Z"
    }
   },
   "outputs": [],
   "source": [
    "%load_ext watermark\n",
    "%watermark -i -h -m -v -p numpy,matplotlib,shl_scripts"
   ]
  }
 ],
 "metadata": {
  "kernelspec": {
   "display_name": "Python 3",
   "language": "python",
   "name": "python3"
  },
  "language_info": {
   "codemirror_mode": {
    "name": "ipython",
    "version": 3
   },
   "file_extension": ".py",
   "mimetype": "text/x-python",
   "name": "python",
   "nbconvert_exporter": "python",
   "pygments_lexer": "ipython3",
   "version": "3.6.8"
  },
  "toc": {
   "base_numbering": 1,
   "nav_menu": {
    "height": "99px",
    "width": "252px"
   },
   "number_sections": true,
   "sideBar": true,
   "skip_h1_title": false,
   "title_cell": "Table of Contents",
   "title_sidebar": "Contents",
   "toc_cell": false,
   "toc_position": {},
   "toc_section_display": "block",
   "toc_window_display": false
  }
 },
 "nbformat": 4,
 "nbformat_minor": 2
}
