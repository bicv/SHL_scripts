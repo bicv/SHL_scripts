{
 "cells": [
  {
   "cell_type": "markdown",
   "metadata": {
    "collapsed": true
   },
   "source": [
    "# Sparse Hebbian Learning "
   ]
  },
  {
   "cell_type": "code",
   "execution_count": 1,
   "metadata": {},
   "outputs": [],
   "source": [
    "%load_ext autoreload\n",
    "%autoreload 2"
   ]
  },
  {
   "cell_type": "code",
   "execution_count": 2,
   "metadata": {},
   "outputs": [
    {
     "name": "stdout",
     "output_type": "stream",
     "text": [
      " This is a collection of python scripts to test learning strategies to efficiently code natural image patches.  This is here restricted  to the framework of the [SparseNet algorithm from Bruno Olshausen](http://redwood.berkeley.edu/bruno/sparsenet/).\n"
     ]
    }
   ],
   "source": [
    "%run setup.py --description"
   ]
  },
  {
   "cell_type": "code",
   "execution_count": 3,
   "metadata": {},
   "outputs": [
    {
     "name": "stdout",
     "output_type": "stream",
     "text": [
      "Object `SHL` not found.\n"
     ]
    }
   ],
   "source": [
    "SHL?"
   ]
  },
  {
   "cell_type": "code",
   "execution_count": null,
   "metadata": {},
   "outputs": [],
   "source": [
    "%matplotlib inline\n",
    "import matplotlib.pyplot as plt\n",
    "import numpy as np\n",
    "np.set_printoptions(precision=2, suppress=True)"
   ]
  },
  {
   "cell_type": "code",
   "execution_count": null,
   "metadata": {
    "scrolled": false
   },
   "outputs": [
    {
     "name": "stdout",
     "output_type": "stream",
     "text": [
      "loading the data called : probe/data_cache/HULK_data\n",
      "loading the dico called : probe/data_cache/HULK_homeo_dico.pkl\n",
      "dooh\n",
      "dooh\n",
      "dooh\n",
      "dooh\n",
      "dooh\n",
      "dooh\n",
      "dooh\n",
      "dooh\n",
      "dooh\n",
      "dooh\n",
      "dooh\n",
      "dooh\n",
      "dooh\n",
      "dooh\n",
      "dooh\n",
      "dooh\n",
      "dooh\n",
      "dooh\n",
      "dooh\n",
      "dooh\n",
      "dooh\n",
      "dooh\n",
      "dooh\n",
      "dooh\n",
      "dooh\n",
      "dooh\n",
      "dooh\n",
      "dooh\n",
      "dooh\n",
      "dooh\n",
      "dooh\n",
      "dooh\n",
      "dooh\n",
      "dooh\n",
      "dooh\n",
      "dooh\n",
      "dooh\n",
      "dooh\n",
      "dooh\n",
      "dooh\n",
      "dooh\n",
      "dooh\n",
      "dooh\n",
      "dooh\n",
      "dooh\n",
      "dooh\n",
      "dooh\n",
      "dooh\n",
      "dooh\n",
      "dooh\n",
      "dooh\n",
      "dooh\n",
      "dooh\n",
      "dooh\n",
      "dooh\n",
      "dooh\n",
      "dooh\n",
      "dooh\n",
      "dooh\n",
      "dooh\n",
      "dooh\n",
      "dooh\n",
      "dooh\n",
      "dooh\n",
      "dooh\n",
      "dooh\n",
      "dooh\n",
      "dooh\n",
      "dooh\n",
      "dooh\n",
      "dooh\n",
      "dooh\n",
      "dooh\n",
      "dooh\n",
      "dooh\n",
      "dooh\n",
      "dooh\n",
      "dooh\n",
      "dooh\n",
      "dooh\n",
      "dooh\n",
      "dooh\n",
      "dooh\n",
      "dooh\n",
      "dooh\n",
      "dooh\n",
      "dooh\n",
      "dooh\n",
      "dooh\n",
      "dooh\n",
      "dooh\n",
      "dooh\n",
      "dooh\n",
      "dooh\n",
      "dooh\n",
      "dooh\n",
      "dooh\n",
      "dooh\n",
      "dooh\n",
      "dooh\n",
      "dooh\n",
      "dooh\n",
      "dooh\n",
      "dooh\n",
      "dooh\n",
      "dooh\n",
      "dooh\n",
      "dooh\n",
      "dooh\n",
      "dooh\n",
      "dooh\n",
      "dooh\n",
      "dooh\n",
      "dooh\n",
      "dooh\n",
      "dooh\n",
      "dooh\n",
      "dooh\n",
      "dooh\n",
      "dooh\n",
      "dooh\n",
      "dooh\n",
      "dooh\n",
      "dooh\n",
      "dooh\n",
      "dooh\n",
      "dooh\n",
      "dooh\n",
      "dooh\n",
      "dooh\n",
      "dooh\n",
      "dooh\n",
      "dooh\n",
      "dooh\n",
      "dooh\n",
      "dooh\n",
      "dooh\n",
      "dooh\n",
      "dooh\n",
      "dooh\n",
      "dooh\n",
      "dooh\n",
      "dooh\n",
      "dooh\n",
      "dooh\n",
      "dooh\n"
     ]
    }
   ],
   "source": [
    "from shl_scripts.shl_experiments import SHL\n",
    "\n",
    "DEBUG_DOWNSCALE, verbose = 10, 0\n",
    "DEBUG_DOWNSCALE, verbose = 10, 10\n",
    "DEBUG_DOWNSCALE, verbose = 1, 10\n",
    "\n",
    "list_figures = ['show_dico', 'plot_variance',  'plot_variance_histogram',  'time_plot_prob',  'time_plot_kurt',  'time_plot_var']\n",
    "\n",
    "shl = SHL(DEBUG_DOWNSCALE=DEBUG_DOWNSCALE, verbose=verbose, data_cache='probe/data_cache', datapath='probe/database')\n",
    "tag = 'HULK'\n",
    "data = shl.get_data(matname=tag)\n",
    "dico = shl.learn_dico(data=data, matname=tag + '_homeo', list_figures=list_figures)   "
   ]
  },
  {
   "cell_type": "raw",
   "metadata": {},
   "source": [
    "!rm -fr probe/data_cache/{tag}*"
   ]
  },
  {
   "cell_type": "code",
   "execution_count": 1,
   "metadata": {},
   "outputs": [
    {
     "name": "stdout",
     "output_type": "stream",
     "text": [
      "probe/data_cache/HULK_data.npy         probe/data_cache/HULK_homeo_dico.pkl\r\n",
      "probe/data_cache/HULK_homeo_coding.npy\r\n"
     ]
    }
   ],
   "source": [
    "!rm -dfr probe/data_cache/HULK*"
   ]
  },
  {
   "cell_type": "markdown",
   "metadata": {},
   "source": [
    "### control: learning without homeostasis\n",
    "\n",
    "During the learning, to avoid divergence, the norm of the filters is shunted to $1$."
   ]
  },
  {
   "cell_type": "code",
   "execution_count": null,
   "metadata": {
    "scrolled": false
   },
   "outputs": [],
   "source": [
    "shl = SHL(homeo_method='None', DEBUG_DOWNSCALE=DEBUG_DOWNSCALE)\n",
    "matname = tag + '_nohomeo'\n",
    "dico = shl.learn_dico(data=data, matname=matname, list_figures=list_figures) "
   ]
  },
  {
   "cell_type": "markdown",
   "metadata": {},
   "source": [
    "# Sparse Hebbian Learning : reproducing SparseNet\n",
    "\n",
    "If we test the convergence of SparseNet as a function of different learning parameters, it shows the relative robusteness of this method according to the coding parameters, but also the importance of homeostasis to obtain an efficient set of filters:\n",
    "\n",
    "See :\n",
    "* http://blog.invibe.net/posts/2015-05-05-reproducing-olshausens-classical-sparsenet.html for a description of how SparseNet is implemented in the ``scikit-learn`` package\n",
    "* http://blog.invibe.net/posts/2015-05-06-reproducing-olshausens-classical-sparsenet-part-2.html for a descrtiption of how we managed to implement the homeostasis"
   ]
  },
  {
   "cell_type": "markdown",
   "metadata": {},
   "source": [
    "## Version used"
   ]
  },
  {
   "cell_type": "code",
   "execution_count": null,
   "metadata": {},
   "outputs": [],
   "source": [
    "%load_ext version_information\n",
    "%version_information numpy, shl_scripts"
   ]
  }
 ],
 "metadata": {
  "kernelspec": {
   "display_name": "Python 3",
   "language": "python",
   "name": "python3"
  },
  "language_info": {
   "codemirror_mode": {
    "name": "ipython",
    "version": 3
   },
   "file_extension": ".py",
   "mimetype": "text/x-python",
   "name": "python",
   "nbconvert_exporter": "python",
   "pygments_lexer": "ipython3",
   "version": "3.6.3"
  },
  "toc": {
   "colors": {
    "hover_highlight": "#DAA520",
    "navigate_num": "#000000",
    "navigate_text": "#333333",
    "running_highlight": "#FF0000",
    "selected_highlight": "#FFD700",
    "sidebar_border": "#EEEEEE",
    "wrapper_background": "#FFFFFF"
   },
   "moveMenuLeft": true,
   "nav_menu": {
    "height": "99px",
    "width": "252px"
   },
   "navigate_menu": true,
   "number_sections": true,
   "sideBar": true,
   "skip_h1_title": false,
   "threshold": 4,
   "toc_cell": false,
   "toc_position": {},
   "toc_section_display": "block",
   "toc_window_display": false,
   "widenNotebook": false
  }
 },
 "nbformat": 4,
 "nbformat_minor": 1
}
