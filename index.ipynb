{
 "cells": [
  {
   "cell_type": "markdown",
   "metadata": {
    "collapsed": true
   },
   "source": [
    "# Sparse Hebbian Learning "
   ]
  },
  {
   "cell_type": "code",
   "execution_count": 1,
   "metadata": {
    "ExecuteTime": {
     "end_time": "2018-09-12T14:17:34.131058Z",
     "start_time": "2018-09-12T14:17:34.115335Z"
    }
   },
   "outputs": [],
   "source": [
    "%load_ext autoreload\n",
    "%autoreload 2"
   ]
  },
  {
   "cell_type": "code",
   "execution_count": 2,
   "metadata": {
    "ExecuteTime": {
     "end_time": "2018-09-12T14:17:34.852822Z",
     "start_time": "2018-09-12T14:17:34.133522Z"
    }
   },
   "outputs": [
    {
     "name": "stdout",
     "output_type": "stream",
     "text": [
      " This is a collection of python scripts to test learning strategies to efficiently code natural image patches.  This is here restricted  to the framework of the [SparseNet algorithm from Bruno Olshausen](http://redwood.berkeley.edu/bruno/sparsenet/).\n"
     ]
    }
   ],
   "source": [
    "%run setup.py --description"
   ]
  },
  {
   "cell_type": "code",
   "execution_count": 3,
   "metadata": {
    "ExecuteTime": {
     "end_time": "2018-09-12T14:17:34.878333Z",
     "start_time": "2018-09-12T14:17:34.855271Z"
    }
   },
   "outputs": [],
   "source": [
    "%matplotlib inline\n",
    "import matplotlib.pyplot as plt\n",
    "import numpy as np\n",
    "np.set_printoptions(precision=2, suppress=True)"
   ]
  },
  {
   "cell_type": "code",
   "execution_count": null,
   "metadata": {
    "ExecuteTime": {
     "start_time": "2018-09-12T14:17:34.103Z"
    },
    "scrolled": false
   },
   "outputs": [
    {
     "name": "stdout",
     "output_type": "stream",
     "text": [
      "Extracting data..loading the data called : probe/cache_dir/data_data\n",
      "Data is of shape : (65520, 144) - done in 0.05s.\n",
      "No cache found probe/cache_dir/HULK_homeo_dico.pkl: Learning the dictionary with algo = mp \n",
      " Training on 65520 patches\n",
      "Iteration   1 /   4097 (elapsed time:   0s,   0mn   0s)\n",
      "Iteration  33 /   4097 (elapsed time:  13s,   0mn  13s)\n",
      "Iteration  65 /   4097 (elapsed time:  27s,   0mn  27s)\n",
      "Iteration  97 /   4097 (elapsed time:  40s,   0mn  40s)\n",
      "Iteration  129 /   4097 (elapsed time:  53s,   0mn  53s)\n",
      "Iteration  161 /   4097 (elapsed time:  66s,   1mn   6s)\n",
      "Iteration  193 /   4097 (elapsed time:  79s,   1mn  19s)\n",
      "Iteration  225 /   4097 (elapsed time:  92s,   1mn  32s)\n",
      "Iteration  257 /   4097 (elapsed time:  105s,   1mn  45s)\n",
      "Iteration  289 /   4097 (elapsed time:  118s,   1mn  58s)\n",
      "Iteration  321 /   4097 (elapsed time:  131s,   2mn  11s)\n",
      "Iteration  353 /   4097 (elapsed time:  144s,   2mn  24s)\n",
      "Iteration  385 /   4097 (elapsed time:  157s,   2mn  37s)\n",
      "Iteration  417 /   4097 (elapsed time:  170s,   2mn  50s)\n",
      "Iteration  449 /   4097 (elapsed time:  183s,   3mn   3s)\n",
      "Iteration  481 /   4097 (elapsed time:  196s,   3mn  16s)\n",
      "Iteration  513 /   4097 (elapsed time:  209s,   3mn  29s)\n",
      "Iteration  545 /   4097 (elapsed time:  222s,   3mn  42s)\n",
      "Iteration  577 /   4097 (elapsed time:  236s,   3mn  56s)\n",
      "Iteration  609 /   4097 (elapsed time:  249s,   4mn   9s)\n",
      "Iteration  641 /   4097 (elapsed time:  261s,   4mn  21s)\n",
      "Iteration  673 /   4097 (elapsed time:  272s,   4mn  32s)\n",
      "Iteration  705 /   4097 (elapsed time:  284s,   4mn  44s)\n",
      "Iteration  737 /   4097 (elapsed time:  296s,   4mn  56s)\n",
      "Iteration  769 /   4097 (elapsed time:  307s,   5mn   7s)\n",
      "Iteration  801 /   4097 (elapsed time:  319s,   5mn  19s)\n",
      "Iteration  833 /   4097 (elapsed time:  330s,   5mn  30s)\n",
      "Iteration  865 /   4097 (elapsed time:  342s,   5mn  42s)\n",
      "Iteration  897 /   4097 (elapsed time:  354s,   5mn  54s)\n",
      "Iteration  929 /   4097 (elapsed time:  365s,   6mn   5s)\n",
      "Iteration  961 /   4097 (elapsed time:  377s,   6mn  17s)\n",
      "Iteration  993 /   4097 (elapsed time:  388s,   6mn  28s)\n",
      "Iteration  1025 /   4097 (elapsed time:  400s,   6mn  40s)\n",
      "Iteration  1057 /   4097 (elapsed time:  411s,   6mn  51s)\n",
      "Iteration  1089 /   4097 (elapsed time:  422s,   7mn   2s)\n",
      "Iteration  1121 /   4097 (elapsed time:  433s,   7mn  13s)\n",
      "Iteration  1153 /   4097 (elapsed time:  444s,   7mn  24s)\n",
      "Iteration  1185 /   4097 (elapsed time:  455s,   7mn  35s)\n",
      "Iteration  1217 /   4097 (elapsed time:  466s,   7mn  46s)\n",
      "Iteration  1249 /   4097 (elapsed time:  477s,   7mn  57s)\n",
      "Iteration  1281 /   4097 (elapsed time:  488s,   8mn   8s)\n",
      "Iteration  1313 /   4097 (elapsed time:  499s,   8mn  19s)\n",
      "Iteration  1345 /   4097 (elapsed time:  510s,   8mn  30s)\n",
      "Iteration  1377 /   4097 (elapsed time:  521s,   8mn  41s)\n",
      "Iteration  1409 /   4097 (elapsed time:  532s,   8mn  52s)\n",
      "Iteration  1441 /   4097 (elapsed time:  543s,   9mn   3s)\n",
      "Iteration  1473 /   4097 (elapsed time:  554s,   9mn  14s)\n",
      "Iteration  1505 /   4097 (elapsed time:  565s,   9mn  25s)\n",
      "Iteration  1537 /   4097 (elapsed time:  577s,   9mn  37s)\n",
      "Iteration  1569 /   4097 (elapsed time:  588s,   9mn  48s)\n",
      "Iteration  1601 /   4097 (elapsed time:  599s,   9mn  59s)\n",
      "Iteration  1633 /   4097 (elapsed time:  610s,  10mn  10s)\n",
      "Iteration  1665 /   4097 (elapsed time:  621s,  10mn  21s)\n",
      "Iteration  1697 /   4097 (elapsed time:  632s,  10mn  32s)\n",
      "Iteration  1729 /   4097 (elapsed time:  643s,  10mn  43s)\n",
      "Iteration  1761 /   4097 (elapsed time:  654s,  10mn  54s)\n",
      "Iteration  1793 /   4097 (elapsed time:  665s,  11mn   5s)\n",
      "Iteration  1825 /   4097 (elapsed time:  676s,  11mn  16s)\n",
      "Iteration  1857 /   4097 (elapsed time:  687s,  11mn  27s)\n",
      "Iteration  1889 /   4097 (elapsed time:  698s,  11mn  38s)\n",
      "Iteration  1921 /   4097 (elapsed time:  709s,  11mn  49s)\n",
      "Iteration  1953 /   4097 (elapsed time:  720s,  12mn   0s)\n",
      "Iteration  1985 /   4097 (elapsed time:  731s,  12mn  11s)\n",
      "Iteration  2017 /   4097 (elapsed time:  742s,  12mn  22s)\n",
      "Iteration  2049 /   4097 (elapsed time:  753s,  12mn  33s)\n",
      "Iteration  2081 /   4097 (elapsed time:  764s,  12mn  44s)\n",
      "Iteration  2113 /   4097 (elapsed time:  775s,  12mn  55s)\n",
      "Iteration  2145 /   4097 (elapsed time:  786s,  13mn   6s)\n",
      "Iteration  2177 /   4097 (elapsed time:  797s,  13mn  17s)\n",
      "Iteration  2209 /   4097 (elapsed time:  808s,  13mn  28s)\n",
      "Iteration  2241 /   4097 (elapsed time:  819s,  13mn  39s)\n",
      "Iteration  2273 /   4097 (elapsed time:  830s,  13mn  50s)\n",
      "Iteration  2305 /   4097 (elapsed time:  841s,  14mn   1s)\n",
      "Iteration  2337 /   4097 (elapsed time:  852s,  14mn  12s)\n"
     ]
    }
   ],
   "source": [
    "from shl_scripts.shl_experiments import SHL\n",
    "\n",
    "DEBUG_DOWNSCALE, verbose = 10, 0\n",
    "DEBUG_DOWNSCALE, verbose = 10, 10\n",
    "DEBUG_DOWNSCALE, verbose = 1, 10\n",
    "\n",
    "list_figures = ['show_dico', 'plot_variance',  'plot_variance_histogram',  'time_plot_prob',  'time_plot_kurt',  'time_plot_var', 'time_plot_MC']\n",
    "opts= dict(DEBUG_DOWNSCALE=DEBUG_DOWNSCALE, verbose=verbose, cache_dir='probe/cache_dir', datapath='database')\n",
    "shl = SHL(homeo_method='HAP', **opts)\n",
    "tag = 'HULK'\n",
    "data = shl.get_data(matname='data')\n",
    "dico = shl.learn_dico(data=data, matname=tag + '_homeo', list_figures=list_figures)   "
   ]
  },
  {
   "cell_type": "markdown",
   "metadata": {},
   "source": [
    "### control: learning without homeostasis\n",
    "\n",
    "During the learning, to avoid divergence, the norm of the filters is shunted to $1$."
   ]
  },
  {
   "cell_type": "code",
   "execution_count": null,
   "metadata": {
    "ExecuteTime": {
     "start_time": "2018-09-12T14:17:34.105Z"
    },
    "scrolled": false
   },
   "outputs": [],
   "source": [
    "shl = SHL(homeo_method='None', **opts)\n",
    "matname = tag + '_nohomeo'\n",
    "dico = shl.learn_dico(data=data, matname=matname, list_figures=list_figures) "
   ]
  },
  {
   "cell_type": "markdown",
   "metadata": {},
   "source": [
    "# Sparse Hebbian Learning : reproducing SparseNet\n",
    "\n",
    "If we test the convergence of SparseNet as a function of different learning parameters, it shows the relative robusteness of this method according to the coding parameters, but also the importance of homeostasis to obtain an efficient set of filters:\n",
    "\n",
    "See :\n",
    "* http://blog.invibe.net/posts/2015-05-05-reproducing-olshausens-classical-sparsenet.html for a description of how SparseNet is implemented in the ``scikit-learn`` package\n",
    "* http://blog.invibe.net/posts/2015-05-06-reproducing-olshausens-classical-sparsenet-part-2.html for a descrtiption of how we managed to implement the homeostasis"
   ]
  },
  {
   "cell_type": "markdown",
   "metadata": {},
   "source": [
    "## Version used"
   ]
  },
  {
   "cell_type": "code",
   "execution_count": null,
   "metadata": {
    "ExecuteTime": {
     "start_time": "2018-09-12T14:17:34.107Z"
    }
   },
   "outputs": [],
   "source": [
    "!rm -fr {shl.cache_dir}/{tag}*"
   ]
  },
  {
   "cell_type": "code",
   "execution_count": null,
   "metadata": {
    "ExecuteTime": {
     "start_time": "2018-09-12T14:17:34.108Z"
    }
   },
   "outputs": [],
   "source": [
    "!ls {shl.cache_dir}/HULK_*\n"
   ]
  },
  {
   "cell_type": "code",
   "execution_count": null,
   "metadata": {
    "ExecuteTime": {
     "start_time": "2018-09-12T14:17:34.111Z"
    }
   },
   "outputs": [],
   "source": [
    "%load_ext version_information\n",
    "%version_information numpy, shl_scripts"
   ]
  }
 ],
 "metadata": {
  "kernelspec": {
   "display_name": "Python 3",
   "language": "python",
   "name": "python3"
  },
  "language_info": {
   "codemirror_mode": {
    "name": "ipython",
    "version": 3
   },
   "file_extension": ".py",
   "mimetype": "text/x-python",
   "name": "python",
   "nbconvert_exporter": "python",
   "pygments_lexer": "ipython3",
   "version": "3.6.5"
  },
  "toc": {
   "base_numbering": 1,
   "nav_menu": {
    "height": "99px",
    "width": "252px"
   },
   "number_sections": true,
   "sideBar": true,
   "skip_h1_title": false,
   "title_cell": "Table of Contents",
   "title_sidebar": "Contents",
   "toc_cell": false,
   "toc_position": {},
   "toc_section_display": "block",
   "toc_window_display": false
  }
 },
 "nbformat": 4,
 "nbformat_minor": 1
}
