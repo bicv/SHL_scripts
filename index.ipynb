{
 "cells": [
  {
   "cell_type": "markdown",
   "metadata": {
    "collapsed": true
   },
   "source": [
    "# Sparse Hebbian Learning "
   ]
  },
  {
   "cell_type": "code",
   "execution_count": 1,
   "metadata": {
    "ExecuteTime": {
     "end_time": "2018-09-26T08:12:54.235468Z",
     "start_time": "2018-09-26T08:12:54.213026Z"
    }
   },
   "outputs": [],
   "source": [
    "%load_ext autoreload\n",
    "%autoreload 2"
   ]
  },
  {
   "cell_type": "code",
   "execution_count": 2,
   "metadata": {
    "ExecuteTime": {
     "end_time": "2018-09-26T08:12:55.141010Z",
     "start_time": "2018-09-26T08:12:54.237998Z"
    }
   },
   "outputs": [
    {
     "name": "stdout",
     "output_type": "stream",
     "text": [
      " This is a collection of python scripts to test learning strategies to efficiently code natural image patches.  This is here restricted  to the framework of the [SparseNet algorithm from Bruno Olshausen](http://redwood.berkeley.edu/bruno/sparsenet/).\n"
     ]
    }
   ],
   "source": [
    "%run setup.py --description"
   ]
  },
  {
   "cell_type": "code",
   "execution_count": 3,
   "metadata": {
    "ExecuteTime": {
     "end_time": "2018-09-26T08:12:55.176298Z",
     "start_time": "2018-09-26T08:12:55.144503Z"
    }
   },
   "outputs": [],
   "source": [
    "%matplotlib inline\n",
    "import matplotlib.pyplot as plt\n",
    "import numpy as np\n",
    "np.set_printoptions(precision=2, suppress=True)"
   ]
  },
  {
   "cell_type": "code",
   "execution_count": null,
   "metadata": {
    "ExecuteTime": {
     "start_time": "2018-09-26T08:12:54.192Z"
    },
    "scrolled": false
   },
   "outputs": [
    {
     "name": "stdout",
     "output_type": "stream",
     "text": [
      "Extracting data..loading the data called : probe/cache_dir/data_data\n",
      "Data is of shape : (65520, 196) - done in 0.18s.\n",
      "No cache found probe/cache_dir/HULK_homeo_dico.pkl: Learning the dictionary with algo = mp \n",
      " Training on 65520 patches\n",
      "Iteration   1 /   8193 (elapsed time:   0s,   0mn   0s)\n",
      "Iteration  129 /   8193 (elapsed time:  59s,   0mn  59s)\n",
      "Iteration  257 /   8193 (elapsed time:  119s,   1mn  59s)\n",
      "Iteration  385 /   8193 (elapsed time:  178s,   2mn  58s)\n",
      "Iteration  513 /   8193 (elapsed time:  236s,   3mn  56s)\n",
      "Iteration  641 /   8193 (elapsed time:  294s,   4mn  54s)\n",
      "Iteration  769 /   8193 (elapsed time:  353s,   5mn  53s)\n",
      "Iteration  897 /   8193 (elapsed time:  410s,   6mn  50s)\n",
      "Iteration  1025 /   8193 (elapsed time:  468s,   7mn  48s)\n",
      "Iteration  1153 /   8193 (elapsed time:  528s,   8mn  48s)\n",
      "Iteration  1281 /   8193 (elapsed time:  588s,   9mn  48s)\n",
      "Iteration  1409 /   8193 (elapsed time:  649s,  10mn  49s)\n",
      "Iteration  1537 /   8193 (elapsed time:  710s,  11mn  50s)\n",
      "Iteration  1665 /   8193 (elapsed time:  771s,  12mn  51s)\n",
      "Iteration  1793 /   8193 (elapsed time:  831s,  13mn  51s)\n",
      "Iteration  1921 /   8193 (elapsed time:  892s,  14mn  52s)\n",
      "Iteration  2049 /   8193 (elapsed time:  953s,  15mn  53s)\n",
      "Iteration  2177 /   8193 (elapsed time:  1013s,  16mn  53s)\n",
      "Iteration  2305 /   8193 (elapsed time:  1074s,  17mn  54s)\n",
      "Iteration  2433 /   8193 (elapsed time:  1134s,  18mn  54s)\n",
      "Iteration  2561 /   8193 (elapsed time:  1183s,  19mn  43s)\n",
      "Iteration  2689 /   8193 (elapsed time:  1234s,  20mn  34s)\n",
      "Iteration  2817 /   8193 (elapsed time:  1283s,  21mn  23s)\n",
      "Iteration  2945 /   8193 (elapsed time:  1333s,  22mn  13s)\n",
      "Iteration  3073 /   8193 (elapsed time:  1383s,  23mn   3s)\n",
      "Iteration  3201 /   8193 (elapsed time:  1432s,  23mn  52s)\n",
      "Iteration  3329 /   8193 (elapsed time:  1481s,  24mn  41s)\n",
      "Iteration  3457 /   8193 (elapsed time:  1531s,  25mn  31s)\n",
      "Iteration  3585 /   8193 (elapsed time:  1581s,  26mn  21s)\n",
      "Iteration  3713 /   8193 (elapsed time:  1631s,  27mn  11s)\n",
      "Iteration  3841 /   8193 (elapsed time:  1680s,  28mn   0s)\n",
      "Iteration  3969 /   8193 (elapsed time:  1726s,  28mn  46s)\n",
      "Iteration  4097 /   8193 (elapsed time:  1770s,  29mn  30s)\n",
      "Iteration  4225 /   8193 (elapsed time:  1815s,  30mn  15s)\n",
      "Iteration  4353 /   8193 (elapsed time:  1860s,  31mn   0s)\n",
      "Iteration  4481 /   8193 (elapsed time:  1904s,  31mn  44s)\n",
      "Iteration  4609 /   8193 (elapsed time:  1947s,  32mn  27s)\n",
      "Iteration  4737 /   8193 (elapsed time:  1991s,  33mn  11s)\n",
      "Iteration  4865 /   8193 (elapsed time:  2035s,  33mn  55s)\n",
      "Iteration  4993 /   8193 (elapsed time:  2079s,  34mn  39s)\n"
     ]
    }
   ],
   "source": [
    "from shl_scripts.shl_experiments import SHL\n",
    "\n",
    "DEBUG_DOWNSCALE, verbose = 10, 0\n",
    "DEBUG_DOWNSCALE, verbose = 10, 10\n",
    "DEBUG_DOWNSCALE, verbose = 1, 10\n",
    "\n",
    "list_figures = ['show_dico', 'plot_variance',  'plot_variance_histogram',  'time_plot_prob',  'time_plot_kurt',  'time_plot_var', 'time_plot_MC']\n",
    "opts= dict(DEBUG_DOWNSCALE=DEBUG_DOWNSCALE, verbose=verbose, cache_dir='probe/cache_dir', datapath='database')\n",
    "shl = SHL(**opts)\n",
    "tag = 'HULK'\n",
    "data = shl.get_data(matname='data')\n",
    "dico = shl.learn_dico(data=data, matname=tag + '_homeo', list_figures=list_figures)   "
   ]
  },
  {
   "cell_type": "markdown",
   "metadata": {},
   "source": [
    "### control: learning without homeostasis\n",
    "\n",
    "During the learning, to avoid divergence, the norm of the filters is shunted to $1$."
   ]
  },
  {
   "cell_type": "code",
   "execution_count": null,
   "metadata": {
    "ExecuteTime": {
     "start_time": "2018-09-26T08:12:54.198Z"
    },
    "scrolled": false
   },
   "outputs": [],
   "source": [
    "shl = SHL(homeo_method='None', **opts)\n",
    "matname = tag + '_nohomeo'\n",
    "dico = shl.learn_dico(data=data, matname=matname, list_figures=list_figures) "
   ]
  },
  {
   "cell_type": "markdown",
   "metadata": {},
   "source": [
    "# Sparse Hebbian Learning : reproducing SparseNet\n",
    "\n",
    "If we test the convergence of SparseNet as a function of different learning parameters, it shows the relative robusteness of this method according to the coding parameters, but also the importance of homeostasis to obtain an efficient set of filters:\n",
    "\n",
    "See :\n",
    "* http://blog.invibe.net/posts/2015-05-05-reproducing-olshausens-classical-sparsenet.html for a description of how SparseNet is implemented in the ``scikit-learn`` package\n",
    "* http://blog.invibe.net/posts/2015-05-06-reproducing-olshausens-classical-sparsenet-part-2.html for a descrtiption of how we managed to implement the homeostasis"
   ]
  },
  {
   "cell_type": "markdown",
   "metadata": {},
   "source": [
    "## Version used"
   ]
  },
  {
   "cell_type": "code",
   "execution_count": null,
   "metadata": {
    "ExecuteTime": {
     "start_time": "2018-09-26T08:12:54.203Z"
    }
   },
   "outputs": [],
   "source": [
    "!rm -fr {shl.cache_dir}/{tag}*"
   ]
  },
  {
   "cell_type": "code",
   "execution_count": null,
   "metadata": {
    "ExecuteTime": {
     "start_time": "2018-09-26T08:12:54.207Z"
    }
   },
   "outputs": [],
   "source": [
    "!ls {shl.cache_dir}/HULK_*"
   ]
  },
  {
   "cell_type": "code",
   "execution_count": null,
   "metadata": {
    "ExecuteTime": {
     "start_time": "2018-09-26T08:12:54.211Z"
    }
   },
   "outputs": [],
   "source": [
    "%load_ext version_information\n",
    "%version_information numpy, shl_scripts"
   ]
  }
 ],
 "metadata": {
  "kernelspec": {
   "display_name": "Python 3",
   "language": "python",
   "name": "python3"
  },
  "language_info": {
   "codemirror_mode": {
    "name": "ipython",
    "version": 3
   },
   "file_extension": ".py",
   "mimetype": "text/x-python",
   "name": "python",
   "nbconvert_exporter": "python",
   "pygments_lexer": "ipython3",
   "version": "3.6.5"
  },
  "toc": {
   "base_numbering": 1,
   "nav_menu": {
    "height": "99px",
    "width": "252px"
   },
   "number_sections": true,
   "sideBar": true,
   "skip_h1_title": false,
   "title_cell": "Table of Contents",
   "title_sidebar": "Contents",
   "toc_cell": false,
   "toc_position": {},
   "toc_section_display": "block",
   "toc_window_display": false
  }
 },
 "nbformat": 4,
 "nbformat_minor": 1
}
