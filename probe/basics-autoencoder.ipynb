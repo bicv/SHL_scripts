{
 "cells": [
  {
   "cell_type": "markdown",
   "metadata": {
    "collapsed": true
   },
   "source": [
    "# Sparse Hebbian Learning: basics\n",
    "\n",
    "We are interested here in learning the \"optimal\" components of a set of images (let's say some \"natural\", usual images). As there is no supervisor to guide the learning, this is called unsupervised learning. Our basic hypothesis to find the best (\"optimal\") components will be to assume that *a priori* the most sparse is more plausible. We will implement the derived algorithm in this set of scripts.\n",
    "\n",
    "Here, we will show the basic operations that are implemented in this package. "
   ]
  },
  {
   "cell_type": "code",
   "execution_count": null,
   "metadata": {
    "ExecuteTime": {
     "end_time": "2018-02-07T21:53:05.239253Z",
     "start_time": "2018-02-07T21:53:05.211474Z"
    }
   },
   "outputs": [],
   "source": [
    "%load_ext autoreload\n",
    "%autoreload 2"
   ]
  },
  {
   "cell_type": "code",
   "execution_count": null,
   "metadata": {
    "ExecuteTime": {
     "end_time": "2018-02-07T21:53:05.713370Z",
     "start_time": "2018-02-07T21:53:05.241855Z"
    }
   },
   "outputs": [],
   "source": [
    "%matplotlib inline\n",
    "import matplotlib.pyplot as plt\n",
    "import numpy as np\n",
    "np.set_printoptions(precision=4, suppress=True)"
   ]
  },
  {
   "cell_type": "markdown",
   "metadata": {},
   "source": [
    "## experiments\n",
    "\n",
    "To test and control for the role of different parameters, we will have a first object (in the [shl_experiments.py](https://github.com/bicv/SHL_scripts/blob/master/shl_scripts/shl_experiments.py) script) that controls a learning experiment. It contains all relevant parameters, but can also keep a trace of the history of some statistics. This is useful to compare the relative efficiency of the different solutions.\n"
   ]
  },
  {
   "cell_type": "code",
   "execution_count": null,
   "metadata": {
    "ExecuteTime": {
     "end_time": "2018-02-07T21:53:05.738997Z",
     "start_time": "2018-02-07T21:53:05.715215Z"
    }
   },
   "outputs": [],
   "source": [
    "DEBUG_DOWNSCALE, verbose = 10, 0\n",
    "DEBUG_DOWNSCALE, verbose = 1, 0\n",
    "DEBUG_DOWNSCALE, verbose = 10, 10\n",
    "DEBUG_DOWNSCALE, verbose = 1, 10\n",
    "#matname = 'HAP_quantization'\n",
    "homeo_method = 'HEH'\n",
    "matname = 'autoencoder_' + homeo_method\n",
    "homeo_params = dict(eta_homeo=0.05, alpha_homeo=0.02, C=5., nb_quant=128, P_cum=None)\n",
    "opts = dict(DEBUG_DOWNSCALE=DEBUG_DOWNSCALE, homeo_method=homeo_method, homeo_params=homeo_params, verbose=verbose)"
   ]
  },
  {
   "cell_type": "code",
   "execution_count": null,
   "metadata": {
    "ExecuteTime": {
     "end_time": "2018-02-07T21:53:06.104662Z",
     "start_time": "2018-02-07T21:53:05.741267Z"
    },
    "scrolled": false
   },
   "outputs": [],
   "source": [
    "from shl_scripts.shl_experiments import SHL\n",
    "shl = SHL(**opts)\n",
    "data = shl.get_data(matname='autoencoder')"
   ]
  },
  {
   "cell_type": "code",
   "execution_count": null,
   "metadata": {
    "ExecuteTime": {
     "end_time": "2018-02-07T21:53:06.249370Z",
     "start_time": "2018-02-07T21:53:06.106763Z"
    },
    "scrolled": true
   },
   "outputs": [],
   "source": [
    "!ls -l {shl.data_cache}/{matname}*"
   ]
  },
  {
   "cell_type": "raw",
   "metadata": {
    "ExecuteTime": {
     "end_time": "2018-02-07T08:30:32.507082Z",
     "start_time": "2018-02-07T08:30:32.360408Z"
    }
   },
   "source": [
    "!rm {shl.data_cache}/{matname}*"
   ]
  },
  {
   "cell_type": "code",
   "execution_count": null,
   "metadata": {
    "ExecuteTime": {
     "end_time": "2018-02-07T21:53:06.401638Z",
     "start_time": "2018-02-07T21:53:06.252189Z"
    }
   },
   "outputs": [],
   "source": [
    "!ls -l {shl.data_cache}/{matname}*"
   ]
  },
  {
   "cell_type": "code",
   "execution_count": null,
   "metadata": {
    "ExecuteTime": {
     "end_time": "2018-02-07T21:53:06.667068Z",
     "start_time": "2018-02-07T21:53:06.405105Z"
    },
    "scrolled": false
   },
   "outputs": [],
   "source": [
    "print('number of patches, size of patches = ', data.shape)\n",
    "print('average of patches = ', data.mean(), ' +/- ', data.mean(axis=1).std())\n",
    "SE = np.sqrt(np.mean(data**2, axis=1))\n",
    "print('average energy of data = ', SE.mean(), '+/-', SE.std())"
   ]
  },
  {
   "cell_type": "code",
   "execution_count": null,
   "metadata": {
    "ExecuteTime": {
     "end_time": "2018-02-07T21:53:06.698527Z",
     "start_time": "2018-02-07T21:53:06.669847Z"
    },
    "scrolled": true
   },
   "outputs": [],
   "source": [
    "shl.do_precision"
   ]
  },
  {
   "cell_type": "markdown",
   "metadata": {},
   "source": [
    "## learning\n",
    "\n",
    "The actual learning is done in a second object (here ``dico``) from which we can access another set of properties and functions  (see the [shl_learn.py](https://github.com/bicv/SHL_scripts/blob/master/shl_scripts/shl_learn.py) script):"
   ]
  },
  {
   "cell_type": "code",
   "execution_count": null,
   "metadata": {
    "ExecuteTime": {
     "end_time": "2018-02-07T21:53:29.433897Z",
     "start_time": "2018-02-07T21:53:06.701180Z"
    },
    "scrolled": false
   },
   "outputs": [],
   "source": [
    "list_figures = ['show_dico', 'time_plot_error', 'time_plot_aerror']#, 'plot_variance',  'plot_variance_histogram',  'time_plot_prob',  'time_plot_kurt',  'time_plot_var']\n",
    "\n",
    "dico = shl.learn_dico(data=data, list_figures=list_figures, matname=matname)"
   ]
  },
  {
   "cell_type": "code",
   "execution_count": null,
   "metadata": {
    "ExecuteTime": {
     "end_time": "2018-02-07T21:53:29.435269Z",
     "start_time": "2018-02-07T21:53:05.236Z"
    }
   },
   "outputs": [],
   "source": [
    "print('size of dictionary = (number of filters, size of imagelets) = ', dico.dictionary.shape)\n",
    "print('average of filters = ',  dico.dictionary.mean(axis=1).mean(), \n",
    "      '+/-',  dico.dictionary.mean(axis=1).std())\n",
    "SE = np.sqrt(np.sum(dico.dictionary**2, axis=1))\n",
    "print('average energy of filters = ', SE.mean(), '+/-', SE.std())"
   ]
  },
  {
   "cell_type": "markdown",
   "metadata": {},
   "source": [
    "## coding\n",
    "\n",
    "The learning itself is done via a gradient descent but is highly dependent on the coding / decoding algorithm. This belongs to a another function (in the [shl_encode.py](https://github.com/bicv/SHL_scripts/blob/master/shl_scripts/shl_encode.py) script)"
   ]
  },
  {
   "cell_type": "raw",
   "metadata": {
    "ExecuteTime": {
     "end_time": "2018-01-19T13:07:21.084535Z",
     "start_time": "2018-01-19T13:07:20.898988Z"
    }
   },
   "source": [
    "!rm /tmp/data_cache/quantization_coding.npy"
   ]
  },
  {
   "cell_type": "code",
   "execution_count": null,
   "metadata": {
    "ExecuteTime": {
     "end_time": "2018-02-07T21:53:29.436885Z",
     "start_time": "2018-02-07T21:53:05.263Z"
    },
    "scrolled": false
   },
   "outputs": [],
   "source": [
    "from shl_scripts.shl_encode import mp\n",
    "nb_quant = 128\n",
    "record_num_batches = 2048\n",
    "np.random.seed(1973)\n",
    "indx = np.random.permutation(data.shape[0])[:record_num_batches]\n",
    "#sparse_code = shl.code(data, dico, matname=matname)\n",
    "P_cum_zeroeffect = np.linspace(0, 1, nb_quant, endpoint=True)[np.newaxis, :] * np.ones((shl.n_dictionary, 1))\n",
    "#P_cum = dico.P_cum\n",
    "#P_cum = None\n",
    "l0_sparseness = 200\n",
    "l0_sparseness = shl.l0_sparseness\n",
    "for P_cum, gain in zip([None, P_cum_zeroeffect, dico.P_cum], [np.ones(shl.n_dictionary), None, None]):\n",
    "    print(50*'🐒')\n",
    "    sparse_code = mp(data[indx, :], dico.dictionary, l0_sparseness=l0_sparseness, P_cum=P_cum, gain=gain)\n",
    "\n",
    "    print('number of codes, size of codewords = ', sparse_code.shape)\n",
    "    print('average of codewords = ', sparse_code.mean())\n",
    "    print('l0-sparseness of codewords = ', (sparse_code>0).mean(), ' ~= l0/M =', shl.l0_sparseness/shl.n_dictionary)\n",
    "    print('average energy of codewords = ', sparse_code.std(axis=0).mean())\n",
    "    print('std of the average of individual patches = ', sparse_code.mean(axis=0).std())\n",
    "\n",
    "    patches = sparse_code @ dico.dictionary\n",
    "    print('number of codes, size of reconstructed images = ', patches.shape)\n",
    "\n",
    "    from shl_scripts.shl_tools import show_data\n",
    "    max_patches = 10\n",
    "    fig, axs = show_data(data[indx, :][:max_patches, :])\n",
    "    plt.show()\n",
    "    fig, axs = show_data(patches[:max_patches, :])\n",
    "    plt.show()\n",
    "    error = data[indx, :] - patches\n",
    "    fig, axs = show_data(error[:max_patches, :], cmax=np.max(np.abs(error[:max_patches, :])))\n",
    "    plt.show()\n",
    "    print('average of data patches = ', data.mean(), '+/-', data.mean(axis=1).std())\n",
    "    print('average of residual patches = ', error.mean(), '+/-', error.mean(axis=1).std())\n",
    "    SD = np.sqrt(np.mean(data[indx, :]**2, axis=1))\n",
    "    #SD = np.linalg.norm(data[indx, :])/record_num_batches\n",
    "\n",
    "    print('median energy of data = ', np.median(SD))\n",
    "    print('average energy of data = ', SD.mean(), '+/-', SD.std())\n",
    "    #print('total energy of data = ', np.sqrt(np.sum(data**2)))\n",
    "    #print('total deviation of data = ', np.sum(np.abs(data)))\n",
    "    print('average error = ', error.mean(), '+/-', error.std())\n",
    "    SE = np.sqrt(np.mean(error**2, axis=1))\n",
    "    #SE = np.linalg.norm(error)/record_num_batches\n",
    "\n",
    "    print('average energy of residual = ', SE.mean(), '+/-', SE.std())\n",
    "    print('median energy of residual = ', np.median(SE))\n",
    "    #print('total energy of residual = ', np.sqrt(np.sum(error**2)))\n",
    "    #print('total deviation of residual = ', np.sum(np.abs(error)))\n",
    "    print('average gain of coding = ', (SD/SE).mean(), '+/-', (SD/SE).std())"
   ]
  },
  {
   "cell_type": "markdown",
   "metadata": {},
   "source": [
    "## Shuffling the coefficients"
   ]
  },
  {
   "cell_type": "code",
   "execution_count": null,
   "metadata": {
    "ExecuteTime": {
     "end_time": "2018-02-07T21:53:29.438248Z",
     "start_time": "2018-02-07T21:53:05.267Z"
    }
   },
   "outputs": [],
   "source": [
    "print(sparse_code.shape)"
   ]
  },
  {
   "cell_type": "code",
   "execution_count": null,
   "metadata": {
    "ExecuteTime": {
     "end_time": "2018-02-07T21:53:29.439446Z",
     "start_time": "2018-02-07T21:53:05.271Z"
    }
   },
   "outputs": [],
   "source": [
    "help(np.random.shuffle)"
   ]
  },
  {
   "cell_type": "code",
   "execution_count": null,
   "metadata": {
    "ExecuteTime": {
     "end_time": "2018-02-07T21:53:29.441023Z",
     "start_time": "2018-02-07T21:53:05.275Z"
    }
   },
   "outputs": [],
   "source": [
    "sparse_code_bar = sparse_code.copy()\n",
    "#sparse_code_bar = sparse_code_bar.T\n",
    "np.random.shuffle(sparse_code_bar)\n",
    "#sparse_code_bar = sparse_code_bar.T\n",
    "print('average non-zeros', np.count_nonzero(sparse_code_bar, axis=0))\n",
    "print('average non-zeros', np.count_nonzero(sparse_code, axis=0))"
   ]
  },
  {
   "cell_type": "code",
   "execution_count": null,
   "metadata": {
    "ExecuteTime": {
     "end_time": "2018-02-07T21:53:29.442455Z",
     "start_time": "2018-02-07T21:53:05.279Z"
    }
   },
   "outputs": [],
   "source": [
    "print(sparse_code_bar.shape)"
   ]
  },
  {
   "cell_type": "code",
   "execution_count": null,
   "metadata": {
    "ExecuteTime": {
     "end_time": "2018-02-07T21:53:29.443702Z",
     "start_time": "2018-02-07T21:53:05.284Z"
    }
   },
   "outputs": [],
   "source": [
    "patches_bar = sparse_code_bar @ dico.dictionary\n",
    "sparse_code_rec = mp(patches_bar, dico.dictionary, l0_sparseness=l0_sparseness, P_cum=P_cum, gain=gain)"
   ]
  },
  {
   "cell_type": "code",
   "execution_count": null,
   "metadata": {
    "ExecuteTime": {
     "end_time": "2018-02-07T21:53:29.445072Z",
     "start_time": "2018-02-07T21:53:05.289Z"
    }
   },
   "outputs": [],
   "source": [
    "plt.matshow(sparse_code_bar[:20, :])"
   ]
  },
  {
   "cell_type": "code",
   "execution_count": null,
   "metadata": {
    "ExecuteTime": {
     "end_time": "2018-02-07T21:53:29.446513Z",
     "start_time": "2018-02-07T21:53:05.294Z"
    }
   },
   "outputs": [],
   "source": [
    "plt.matshow(sparse_code_rec[:20, :])"
   ]
  },
  {
   "cell_type": "code",
   "execution_count": null,
   "metadata": {
    "ExecuteTime": {
     "end_time": "2018-02-07T21:53:29.448392Z",
     "start_time": "2018-02-07T21:53:05.297Z"
    }
   },
   "outputs": [],
   "source": [
    "print('mean deviation of coefficients = ', np.mean(np.abs(sparse_code_rec)))\n",
    "print('total deviation of coefficients = ', np.mean(np.abs(sparse_code_bar-sparse_code_rec)))"
   ]
  },
  {
   "cell_type": "code",
   "execution_count": null,
   "metadata": {
    "ExecuteTime": {
     "end_time": "2018-02-07T21:53:29.450741Z",
     "start_time": "2018-02-07T21:53:05.301Z"
    }
   },
   "outputs": [],
   "source": [
    "from shl_scripts.shl_encode import quantile, rescaling\n",
    "#sparse_code = mp(data, dico.dictionary, l0_sparseness=l0_sparseness, P_cum=P_cum)\n",
    "stick = np.arange(shl.n_dictionary)*nb_quant\n",
    "C = 5.\n",
    "q_rec = quantile(P_cum, rescaling(sparse_code_rec, C=C), stick, do_fast=True)\n",
    "q_bar = quantile(P_cum, rescaling(sparse_code_bar, C=C), stick, do_fast=True)"
   ]
  },
  {
   "cell_type": "code",
   "execution_count": null,
   "metadata": {
    "ExecuteTime": {
     "end_time": "2018-02-07T21:53:29.452325Z",
     "start_time": "2018-02-07T21:53:05.305Z"
    },
    "scrolled": true
   },
   "outputs": [],
   "source": [
    "print('mean deviation of coefficients = ', np.mean(np.abs(q_bar)))\n",
    "print('total deviation of coefficients = ', np.mean(np.abs(q_bar-q_rec)))"
   ]
  },
  {
   "cell_type": "code",
   "execution_count": null,
   "metadata": {
    "ExecuteTime": {
     "end_time": "2018-02-07T21:53:29.453476Z",
     "start_time": "2018-02-07T21:53:05.311Z"
    },
    "scrolled": false
   },
   "outputs": [],
   "source": [
    "patches_rec = sparse_code_rec @ dico.dictionary\n",
    "error = patches_bar - patches_rec\n",
    "fig, axs = show_data(patches_bar[:max_patches, :], cmax=np.max(np.abs(patches_bar[:max_patches, :])))\n",
    "plt.show()\n",
    "fig, axs = show_data(patches_rec[:max_patches, :], cmax=np.max(np.abs(patches_bar[:max_patches, :])))\n",
    "plt.show()\n",
    "fig, axs = show_data(error[:max_patches, :], cmax=np.max(np.abs(error[:max_patches, :])))\n",
    "print('average of data patches = ', patches_bar.mean(), '+/-', patches_bar.mean(axis=1).std())\n",
    "print('average of residual patches = ', error.mean(), '+/-', error.mean(axis=1).std())\n",
    "SD = np.sqrt(np.mean(patches_bar**2, axis=1))\n",
    "print('median energy of data = ', np.median(SD))\n",
    "print('average energy of data = ', SD.mean(), '+/-', SD.std())\n",
    "\n",
    "SE = np.sqrt(np.mean(error**2, axis=1))\n",
    "print('average energy of residual = ', SE.mean(), '+/-', SE.std())\n",
    "print('median energy of residual = ', np.median(SE))\n",
    "#print('total energy of residual = ', np.sqrt(np.sum(error**2)))\n",
    "#print('total deviation of residual = ', np.sum(np.abs(error)))\n",
    "print('average gain of coding = ', (SD/SE).mean(), '+/-', (SD/SE).std())"
   ]
  },
  {
   "cell_type": "markdown",
   "metadata": {},
   "source": [
    "## Version used"
   ]
  },
  {
   "cell_type": "code",
   "execution_count": null,
   "metadata": {
    "ExecuteTime": {
     "end_time": "2018-02-07T21:53:29.454938Z",
     "start_time": "2018-02-07T21:53:05.319Z"
    }
   },
   "outputs": [],
   "source": [
    "%load_ext version_information\n",
    "%version_information numpy, shl_scripts"
   ]
  }
 ],
 "metadata": {
  "kernelspec": {
   "display_name": "Python 3",
   "language": "python",
   "name": "python3"
  },
  "language_info": {
   "codemirror_mode": {
    "name": "ipython",
    "version": 3
   },
   "file_extension": ".py",
   "mimetype": "text/x-python",
   "name": "python",
   "nbconvert_exporter": "python",
   "pygments_lexer": "ipython3",
   "version": "3.6.4"
  },
  "toc": {
   "nav_menu": {
    "height": "102px",
    "width": "252px"
   },
   "number_sections": true,
   "sideBar": true,
   "skip_h1_title": false,
   "toc_cell": false,
   "toc_position": {},
   "toc_section_display": "block",
   "toc_window_display": false
  }
 },
 "nbformat": 4,
 "nbformat_minor": 1
}
