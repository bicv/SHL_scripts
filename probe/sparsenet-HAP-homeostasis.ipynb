{
 "cells": [
  {
   "cell_type": "markdown",
   "metadata": {},
   "source": [
    "# Homeostasis à-la-SparseNet on the activation probability\n",
    "\n",
    "In this notebook, we test the convergence of SparseNet as a function of different learning parameters. This shows the relative robusteness of this method according to the coding parameters, but also the importance of homeostasis to obtain an efficient set of filters.\n",
    "\n",
    "See also :\n",
    "* http://blog.invibe.net/posts/2015-05-05-reproducing-olshausens-classical-sparsenet.html for a description of how SparseNet is implemented in the scikit-learn package\n",
    "* http://blog.invibe.net/posts/2015-05-06-reproducing-olshausens-classical-sparsenet-part-2.html for a descrtiption of how we managed to implement the homeostasis"
   ]
  },
  {
   "cell_type": "code",
   "execution_count": 1,
   "metadata": {
    "ExecuteTime": {
     "end_time": "2018-02-15T07:54:11.977073Z",
     "start_time": "2018-02-15T07:54:11.953039Z"
    }
   },
   "outputs": [],
   "source": [
    "%load_ext autoreload\n",
    "%autoreload 2"
   ]
  },
  {
   "cell_type": "code",
   "execution_count": 2,
   "metadata": {
    "ExecuteTime": {
     "end_time": "2018-02-15T07:54:12.577233Z",
     "start_time": "2018-02-15T07:54:11.980400Z"
    }
   },
   "outputs": [],
   "source": [
    "%matplotlib inline\n",
    "import matplotlib.pyplot as plt\n",
    "import numpy as np\n",
    "np.set_printoptions(precision=2, suppress=True)"
   ]
  },
  {
   "cell_type": "code",
   "execution_count": 3,
   "metadata": {
    "ExecuteTime": {
     "end_time": "2018-02-15T07:54:13.016267Z",
     "start_time": "2018-02-15T07:54:12.581278Z"
    }
   },
   "outputs": [],
   "source": [
    "from shl_scripts.shl_experiments import SHL_set\n",
    "tag = 'HAP'\n",
    "opts = dict(homeo_method=tag, eta_homeo=0.05, alpha_homeo=0.02, verbose=0)\n",
    "experiments = SHL_set(opts, tag=tag)"
   ]
  },
  {
   "cell_type": "code",
   "execution_count": 4,
   "metadata": {
    "ExecuteTime": {
     "end_time": "2018-02-15T07:54:13.044144Z",
     "start_time": "2018-02-15T07:54:13.018698Z"
    }
   },
   "outputs": [
    {
     "name": "stdout",
     "output_type": "stream",
     "text": [
      "Writing data_cache/HAP.py\n"
     ]
    }
   ],
   "source": [
    "%%writefile {experiments.shl.data_cache}/{tag}.py\n",
    "\n",
    "from shl_scripts.shl_experiments import SHL_set\n",
    "tag = 'HAP'\n",
    "opts = dict(homeo_method=tag, eta_homeo=0.05, alpha_homeo=0.02, verbose=0)\n",
    "experiments = SHL_set(opts, tag=tag)\n",
    "list_figures = []\n",
    "\n",
    "for variable in ['eta', 'alpha_homeo', 'eta_homeo', 'l0_sparseness']:\n",
    "    experiments.scan(variable=variable, list_figures=list_figures, display='')\n"
   ]
  },
  {
   "cell_type": "code",
   "execution_count": null,
   "metadata": {
    "ExecuteTime": {
     "end_time": "2018-02-15T07:54:13.215854Z",
     "start_time": "2018-02-15T07:54:13.046894Z"
    },
    "scrolled": false
   },
   "outputs": [
    {
     "name": "stdout",
     "output_type": "stream",
     "text": [
      "-rw-rw-r-- 1 laurent laurent 340 févr. 15 11:50 data_cache/HAP.py\r\n"
     ]
    }
   ],
   "source": [
    "!ls -l {experiments.shl.data_cache}/{tag}*"
   ]
  },
  {
   "cell_type": "raw",
   "metadata": {
    "ExecuteTime": {
     "end_time": "2018-02-14T11:14:42.362496Z",
     "start_time": "2018-02-14T11:14:41.943187Z"
    }
   },
   "source": [
    "!rm -fr {experiments.shl.data_cache}/{tag}*lock*\n",
    "!rm -fr {experiments.shl.data_cache}/{tag}*\n",
    "#!rm -fr {shl.data_cache}/{tag}*\n",
    "\n",
    "!ls -l {experiments.shl.data_cache}/{tag}*"
   ]
  },
  {
   "cell_type": "raw",
   "metadata": {
    "ExecuteTime": {
     "end_time": "2018-01-19T14:18:13.936883Z",
     "start_time": "2018-01-19T14:18:13.537227Z"
    }
   },
   "source": [
    "!rm -fr {experiments.shl.data_cache}/data*"
   ]
  },
  {
   "cell_type": "code",
   "execution_count": null,
   "metadata": {
    "ExecuteTime": {
     "end_time": "2018-02-15T07:54:20.300084Z",
     "start_time": "2018-02-15T07:54:13.219692Z"
    },
    "scrolled": false
   },
   "outputs": [],
   "source": [
    "%run {experiments.shl.data_cache}/{tag}.py"
   ]
  },
  {
   "cell_type": "markdown",
   "metadata": {},
   "source": [
    "## Homeostasis à-la-SparseNet on the activation probability"
   ]
  },
  {
   "cell_type": "code",
   "execution_count": null,
   "metadata": {
    "ExecuteTime": {
     "end_time": "2018-02-15T07:55:22.289235Z",
     "start_time": "2018-02-15T07:54:20.304849Z"
    },
    "scrolled": false
   },
   "outputs": [],
   "source": [
    "#fig, ax = experiments.scan(variable='eta', list_figures=[], display='dynamic')\n",
    "#fig, ax = experiments.scan(variable='eta', list_figures=[], display='final')\n",
    "list_figures = ['show_dico']\n",
    "display_variables = ['error', 'qerror', 'aerror', 'perror', 'perror_high', 'cputime']\n",
    "for variable in ['eta', 'alpha_homeo', 'eta_homeo', 'l0_sparseness']:\n",
    "    experiments = SHL_set(opts, tag=tag)\n",
    "    experiments.scan(variable='eta', list_figures=[], display='')\n",
    "    plt.show()\n",
    "    fig, ax = experiments.scan(variable=variable, list_figures=[], display='dynamic')\n",
    "    plt.show()\n",
    "    for display_variable in display_variables:\n",
    "        print(display_variable)\n",
    "        fig, ax = experiments.scan(variable=variable, list_figures=[], display='final', \n",
    "                                   label=tag, display_variable=display_variable)\n",
    "        plt.show()\n"
   ]
  },
  {
   "cell_type": "raw",
   "metadata": {
    "ExecuteTime": {
     "start_time": "2018-02-13T08:24:42.526Z"
    },
    "scrolled": false
   },
   "source": [
    "experiments.scan(variable='eta_homeo', list_figures=[], display='')\n",
    "fig, ax = experiments.scan(variable='eta_homeo', list_figures=[], display='dynamic')\n",
    "fig, ax = experiments.scan(variable='eta_homeo', list_figures=[], display='final')"
   ]
  },
  {
   "cell_type": "raw",
   "metadata": {
    "ExecuteTime": {
     "start_time": "2018-02-13T08:24:42.531Z"
    },
    "scrolled": false
   },
   "source": [
    "fig, ax = experiments.scan(variable='alpha_homeo', list_figures=[], display='dynamic')\n",
    "fig, ax = experiments.scan(variable='alpha_homeo', list_figures=[], display='final')"
   ]
  },
  {
   "cell_type": "markdown",
   "metadata": {},
   "source": [
    "## different sparseness\n"
   ]
  },
  {
   "cell_type": "raw",
   "metadata": {
    "ExecuteTime": {
     "start_time": "2018-02-13T08:24:42.536Z"
    },
    "scrolled": false
   },
   "source": [
    "fig, ax = experiments.scan(variable='l0_sparseness', base=4, list_figures=[], display='dynamic')\n",
    "fig, ax = experiments.scan(variable='l0_sparseness', base=4, list_figures=[], display='final')"
   ]
  },
  {
   "cell_type": "markdown",
   "metadata": {},
   "source": [
    "## Version used"
   ]
  },
  {
   "cell_type": "code",
   "execution_count": null,
   "metadata": {
    "ExecuteTime": {
     "end_time": "2018-02-15T07:55:22.394302Z",
     "start_time": "2018-02-15T07:55:22.292696Z"
    }
   },
   "outputs": [],
   "source": [
    "%load_ext version_information\n",
    "%version_information numpy, shl_scripts, pandas"
   ]
  }
 ],
 "metadata": {
  "kernelspec": {
   "display_name": "Python 3",
   "language": "python",
   "name": "python3"
  },
  "language_info": {
   "codemirror_mode": {
    "name": "ipython",
    "version": 3
   },
   "file_extension": ".py",
   "mimetype": "text/x-python",
   "name": "python",
   "nbconvert_exporter": "python",
   "pygments_lexer": "ipython3",
   "version": "3.5.2"
  },
  "toc": {
   "nav_menu": {
    "height": "99px",
    "width": "252px"
   },
   "number_sections": true,
   "sideBar": true,
   "skip_h1_title": false,
   "toc_cell": false,
   "toc_position": {},
   "toc_section_display": "block",
   "toc_window_display": false
  }
 },
 "nbformat": 4,
 "nbformat_minor": 2
}
