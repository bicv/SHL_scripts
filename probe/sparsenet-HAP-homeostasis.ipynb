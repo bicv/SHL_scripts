{
 "cells": [
  {
   "cell_type": "markdown",
   "metadata": {},
   "source": [
    "# Homeostasis à-la-SparseNet on the activation probability\n",
    "\n",
    "In this notebook, we test the convergence of SparseNet as a function of different learning parameters. This shows the relative robusteness of this method according to the coding parameters, but also the importance of homeostasis to obtain an efficient set of filters.\n",
    "\n",
    "See also :\n",
    "* http://blog.invibe.net/posts/2015-05-05-reproducing-olshausens-classical-sparsenet.html for a description of how SparseNet is implemented in the scikit-learn package\n",
    "* http://blog.invibe.net/posts/2015-05-06-reproducing-olshausens-classical-sparsenet-part-2.html for a descrtiption of how we managed to implement the homeostasis"
   ]
  },
  {
   "cell_type": "code",
   "execution_count": 1,
   "metadata": {
    "ExecuteTime": {
     "end_time": "2018-05-13T18:26:40.951187Z",
     "start_time": "2018-05-13T18:26:40.926551Z"
    }
   },
   "outputs": [],
   "source": [
    "%load_ext autoreload\n",
    "%autoreload 2"
   ]
  },
  {
   "cell_type": "code",
   "execution_count": 2,
   "metadata": {
    "ExecuteTime": {
     "end_time": "2018-05-13T18:26:41.458730Z",
     "start_time": "2018-05-13T18:26:40.954505Z"
    }
   },
   "outputs": [],
   "source": [
    "%matplotlib inline"
   ]
  },
  {
   "cell_type": "code",
   "execution_count": 3,
   "metadata": {
    "ExecuteTime": {
     "end_time": "2018-05-13T18:26:41.528018Z",
     "start_time": "2018-05-13T18:26:41.460739Z"
    }
   },
   "outputs": [],
   "source": [
    "import shl_scripts"
   ]
  },
  {
   "cell_type": "code",
   "execution_count": 4,
   "metadata": {
    "ExecuteTime": {
     "end_time": "2018-05-13T18:26:41.841849Z",
     "start_time": "2018-05-13T18:26:41.531571Z"
    }
   },
   "outputs": [],
   "source": [
    "from shl_scripts.shl_experiments import SHL_set\n",
    "tag = 'HAP'\n",
    "experiments = SHL_set({})"
   ]
  },
  {
   "cell_type": "code",
   "execution_count": 5,
   "metadata": {
    "ExecuteTime": {
     "end_time": "2018-05-13T18:26:41.866274Z",
     "start_time": "2018-05-13T18:26:41.844464Z"
    },
    "scrolled": true
   },
   "outputs": [
    {
     "name": "stdout",
     "output_type": "stream",
     "text": [
      "Overwriting data_cache/HAP.py\n"
     ]
    }
   ],
   "source": [
    "%%writefile {experiments.shl.data_cache}/{tag}.py\n",
    "\n",
    "import numpy as np\n",
    "np.set_printoptions(precision=2, suppress=True)\n",
    "\n",
    "try:\n",
    "    import sys\n",
    "    command = sys.argv[1]\n",
    "except:\n",
    "    command = 'run'\n",
    "\n",
    "from shl_scripts.shl_experiments import SHL_set\n",
    "tag = 'HAP'\n",
    "#opts = dict(homeo_method=tag, eta_homeo=0.01, alpha_homeo=0.7, verbose=0)\n",
    "opts = dict(homeo_method=tag, verbose=0)\n",
    "\n",
    "n_jobs = 1\n",
    "n_jobs = 10\n",
    "n_jobs = 4\n",
    "\n",
    "experiments = SHL_set(opts, tag=tag)\n",
    "\n",
    "variables = ['eta', 'alpha_homeo']\n",
    "variables = ['eta', 'alpha_homeo']\n",
    "variables = ['eta', 'eta_homeo', 'l0_sparseness', 'alpha_homeo', 'eta_homeo']\n",
    "\n",
    "list_figures = ['show_dico']\n",
    "list_figures = []\n",
    "\n",
    "\n",
    "display_variables = ['error', 'logL',  'MC', 'aerror', 'MI', 'cputime']\n",
    "display_variables = ['error', 'qerror', 'cputime']\n",
    "\n",
    "\n",
    "if command == 'run':\n",
    "    experiments.run(variables=variables, n_jobs=n_jobs)\n",
    "\n",
    "if command == 'plot':\n",
    "    import matplotlib.pyplot as plt\n",
    "\n",
    "    #fig, ax = experiments.scan(variable='eta', list_figures=[], display='dynamic')\n",
    "    #fig, ax = experiments.scan(variable='eta', list_figures=[], display='final')\n",
    "    for variable in variables:\n",
    "        experiments = SHL_set(opts, tag=tag)\n",
    "        experiments.scan(variable=variable, list_figures=list_figures, display='')\n",
    "        plt.show()\n",
    "\n",
    "        for display_variable in display_variables:\n",
    "            print('Time evolution of ', display_variable)\n",
    "            fig, ax = experiments.scan(variable=variable, list_figures=[], display='dynamic', display_variable=display_variable)\n",
    "            plt.show()\n",
    "        plt.show()\n",
    "\n",
    "        for display_variable in display_variables:\n",
    "            print('Comparison at the end of learning for ', display_variable)\n",
    "            fig, ax = experiments.scan(variable=variable, list_figures=[], display='final', \n",
    "                                       label=tag, display_variable=display_variable)\n",
    "            plt.show()\n",
    "        "
   ]
  },
  {
   "cell_type": "code",
   "execution_count": 6,
   "metadata": {
    "ExecuteTime": {
     "end_time": "2018-05-13T18:26:42.164818Z",
     "start_time": "2018-05-13T18:26:41.874253Z"
    },
    "scrolled": false
   },
   "outputs": [],
   "source": [
    "%run {experiments.shl.data_cache}/{tag}.py load"
   ]
  },
  {
   "cell_type": "code",
   "execution_count": 7,
   "metadata": {
    "ExecuteTime": {
     "end_time": "2018-05-13T18:26:42.496703Z",
     "start_time": "2018-05-13T18:26:42.172824Z"
    },
    "scrolled": false
   },
   "outputs": [
    {
     "name": "stdout",
     "output_type": "stream",
     "text": [
      "-rw-r--r--  1 laurentperrinet  staff  1468079 May 11 13:11 data_cache/HAP - alpha_homeo=0.20000_dico.pkl\r\n",
      "-rw-r--r--  1 laurentperrinet  staff  1468079 May 11 13:11 data_cache/HAP - alpha_homeo=0.31748_dico.pkl\r\n",
      "-rw-r--r--  1 laurentperrinet  staff  1468079 May 11 13:11 data_cache/HAP - alpha_homeo=0.50397_dico.pkl\r\n",
      "-rw-r--r--  1 laurentperrinet  staff  1468079 May 11 13:14 data_cache/HAP - alpha_homeo=0.80000_dico.pkl\r\n",
      "-rw-r--r--  1 laurentperrinet  staff  1468079 May 11 13:14 data_cache/HAP - alpha_homeo=1.26992_dico.pkl\r\n",
      "-rw-r--r--  1 laurentperrinet  staff  1468079 May 11 13:14 data_cache/HAP - alpha_homeo=2.01587_dico.pkl\r\n",
      "-rw-r--r--  1 laurentperrinet  staff  1468079 May 11 13:17 data_cache/HAP - alpha_homeo=3.20000_dico.pkl\r\n",
      "-rw-r--r--  1 laurentperrinet  staff  1468079 May 11 13:07 data_cache/HAP - eta=0.00125_dico.pkl\r\n",
      "-rw-r--r--  1 laurentperrinet  staff  1468079 May 11 13:07 data_cache/HAP - eta=0.00198_dico.pkl\r\n",
      "-rw-r--r--  1 laurentperrinet  staff  1468079 May 11 13:07 data_cache/HAP - eta=0.00315_dico.pkl\r\n",
      "-rw-r--r--  1 laurentperrinet  staff  1468079 May 11 13:07 data_cache/HAP - eta=0.00500_dico.pkl\r\n",
      "-rw-r--r--  1 laurentperrinet  staff  1468079 May 11 13:26 data_cache/HAP - eta=0.00794_dico.pkl\r\n",
      "-rw-r--r--  1 laurentperrinet  staff  1468079 May 11 13:26 data_cache/HAP - eta=0.01260_dico.pkl\r\n",
      "-rw-r--r--  1 laurentperrinet  staff  1468079 May 11 13:26 data_cache/HAP - eta=0.02000_dico.pkl\r\n",
      "-rw-r--r--  1 laurentperrinet  staff  1468079 May 11 13:26 data_cache/HAP - eta_homeo=0.00750_dico.pkl\r\n",
      "-rw-r--r--  1 laurentperrinet  staff  1468079 May 11 13:29 data_cache/HAP - eta_homeo=0.01191_dico.pkl\r\n",
      "-rw-r--r--  1 laurentperrinet  staff  1468079 May 11 13:29 data_cache/HAP - eta_homeo=0.01890_dico.pkl\r\n",
      "-rw-r--r--  1 laurentperrinet  staff  1468079 May 11 13:29 data_cache/HAP - eta_homeo=0.03000_dico.pkl\r\n",
      "-rw-r--r--  1 laurentperrinet  staff  1468079 May 11 13:29 data_cache/HAP - eta_homeo=0.04762_dico.pkl\r\n",
      "-rw-r--r--  1 laurentperrinet  staff  1468079 May 11 13:33 data_cache/HAP - eta_homeo=0.07560_dico.pkl\r\n",
      "-rw-r--r--  1 laurentperrinet  staff  1468079 May 11 13:33 data_cache/HAP - eta_homeo=0.12000_dico.pkl\r\n",
      "-rw-r--r--  1 laurentperrinet  staff  1468024 May 11 13:42 data_cache/HAP - l0_sparseness=100_dico.pkl\r\n",
      "-rw-r--r--  1 laurentperrinet  staff  1468024 May 11 13:34 data_cache/HAP - l0_sparseness=15_dico.pkl\r\n",
      "-rw-r--r--  1 laurentperrinet  staff  1468024 May 11 13:35 data_cache/HAP - l0_sparseness=25_dico.pkl\r\n",
      "-rw-r--r--  1 laurentperrinet  staff  1468024 May 11 13:37 data_cache/HAP - l0_sparseness=39_dico.pkl\r\n",
      "-rw-r--r--  1 laurentperrinet  staff  1468024 May 11 13:39 data_cache/HAP - l0_sparseness=62_dico.pkl\r\n",
      "-rw-r--r--  1 laurentperrinet  staff  1468024 May 11 13:31 data_cache/HAP - l0_sparseness=6_dico.pkl\r\n",
      "-rw-r--r--  1 laurentperrinet  staff  1468024 May 11 13:31 data_cache/HAP - l0_sparseness=9_dico.pkl\r\n",
      "-rw-r--r--  1 laurentperrinet  staff     1818 May 13 20:26 data_cache/HAP.py\r\n"
     ]
    }
   ],
   "source": [
    "!ls -l {experiments.shl.data_cache}/{tag}*\n",
    "!rm -fr {experiments.shl.data_cache}/{tag}*lock*"
   ]
  },
  {
   "cell_type": "raw",
   "metadata": {},
   "source": [
    "!rm -fr {experiments.shl.data_cache}/{tag}*\n",
    "!ls -l {experiments.shl.data_cache}/{tag}*\n",
    "#!rm -fr {experiments.shl.data_cache}/data*"
   ]
  },
  {
   "cell_type": "code",
   "execution_count": 8,
   "metadata": {
    "ExecuteTime": {
     "end_time": "2018-05-13T18:26:53.107818Z",
     "start_time": "2018-05-13T18:26:42.505797Z"
    },
    "scrolled": false
   },
   "outputs": [
    {
     "name": "stderr",
     "output_type": "stream",
     "text": [
      "[Parallel(n_jobs=4)]: Done   1 tasks      | elapsed:    1.0s\n",
      "[Parallel(n_jobs=4)]: Done   2 tasks      | elapsed:    1.1s\n",
      "[Parallel(n_jobs=4)]: Done   3 tasks      | elapsed:    1.4s\n",
      "[Parallel(n_jobs=4)]: Done   4 tasks      | elapsed:    1.7s\n",
      "[Parallel(n_jobs=4)]: Done   5 tasks      | elapsed:    1.7s\n",
      "[Parallel(n_jobs=4)]: Done   6 tasks      | elapsed:    2.0s\n",
      "[Parallel(n_jobs=4)]: Done   7 tasks      | elapsed:    2.3s\n",
      "[Parallel(n_jobs=4)]: Done   8 tasks      | elapsed:    2.5s\n",
      "[Parallel(n_jobs=4)]: Done   9 tasks      | elapsed:    2.8s\n",
      "[Parallel(n_jobs=4)]: Done  10 tasks      | elapsed:    3.0s\n",
      "[Parallel(n_jobs=4)]: Done  11 tasks      | elapsed:    3.3s\n",
      "[Parallel(n_jobs=4)]: Done  12 tasks      | elapsed:    3.6s\n",
      "[Parallel(n_jobs=4)]: Done  13 tasks      | elapsed:    3.8s\n",
      "[Parallel(n_jobs=4)]: Done  14 tasks      | elapsed:    4.1s\n",
      "[Parallel(n_jobs=4)]: Done  15 tasks      | elapsed:    4.3s\n",
      "[Parallel(n_jobs=4)]: Done  16 tasks      | elapsed:    4.6s\n",
      "[Parallel(n_jobs=4)]: Done  17 tasks      | elapsed:    4.9s\n",
      "[Parallel(n_jobs=4)]: Done  18 tasks      | elapsed:    5.1s\n",
      "[Parallel(n_jobs=4)]: Done  19 tasks      | elapsed:    5.4s\n",
      "[Parallel(n_jobs=4)]: Done  20 tasks      | elapsed:    5.7s\n",
      "[Parallel(n_jobs=4)]: Done  21 tasks      | elapsed:    6.0s\n",
      "[Parallel(n_jobs=4)]: Done  22 tasks      | elapsed:    6.3s\n",
      "[Parallel(n_jobs=4)]: Done  23 tasks      | elapsed:    6.6s\n",
      "[Parallel(n_jobs=4)]: Done  24 tasks      | elapsed:    7.0s\n",
      "[Parallel(n_jobs=4)]: Done  25 tasks      | elapsed:    7.3s\n",
      "[Parallel(n_jobs=4)]: Done  26 tasks      | elapsed:    7.6s\n",
      "[Parallel(n_jobs=4)]: Done  27 tasks      | elapsed:    7.9s\n",
      "[Parallel(n_jobs=4)]: Done  28 tasks      | elapsed:    8.2s\n",
      "[Parallel(n_jobs=4)]: Done  31 out of  35 | elapsed:    9.0s remaining:    1.2s\n",
      "[Parallel(n_jobs=4)]: Done  35 out of  35 | elapsed:   10.2s finished\n"
     ]
    }
   ],
   "source": [
    "%run {experiments.shl.data_cache}/{tag}.py run"
   ]
  },
  {
   "cell_type": "code",
   "execution_count": 9,
   "metadata": {
    "ExecuteTime": {
     "end_time": "2018-05-13T18:26:54.604588Z",
     "start_time": "2018-05-13T18:26:53.111508Z"
    },
    "scrolled": false
   },
   "outputs": [
    {
     "name": "stdout",
     "output_type": "stream",
     "text": [
      "Time evolution of  error\n"
     ]
    },
    {
     "data": {
      "image/png": "[encoded data removed]",
      "text/plain": [
       "<Figure size 1152x288 with 1 Axes>"
      ]
     },
     "metadata": {},
     "output_type": "display_data"
    },
    {
     "name": "stdout",
     "output_type": "stream",
     "text": [
      "Time evolution of  qerror\n"
     ]
    },
    {
     "ename": "KeyError",
     "evalue": "'qerror'",
     "output_type": "error",
     "traceback": [
      "\u001b[0;31m---------------------------------------------------------------------------\u001b[0m",
      "\u001b[0;31mKeyError\u001b[0m                                  Traceback (most recent call last)",
      "\u001b[0;32m/usr/local/lib/python3.6/site-packages/pandas/core/indexes/base.py\u001b[0m in \u001b[0;36mget_loc\u001b[0;34m(self, key, method, tolerance)\u001b[0m\n\u001b[1;32m   2524\u001b[0m             \u001b[0;32mtry\u001b[0m\u001b[0;34m:\u001b[0m\u001b[0;34m\u001b[0m\u001b[0m\n\u001b[0;32m-> 2525\u001b[0;31m                 \u001b[0;32mreturn\u001b[0m \u001b[0mself\u001b[0m\u001b[0;34m.\u001b[0m\u001b[0m_engine\u001b[0m\u001b[0;34m.\u001b[0m\u001b[0mget_loc\u001b[0m\u001b[0;34m(\u001b[0m\u001b[0mkey\u001b[0m\u001b[0;34m)\u001b[0m\u001b[0;34m\u001b[0m\u001b[0m\n\u001b[0m\u001b[1;32m   2526\u001b[0m             \u001b[0;32mexcept\u001b[0m \u001b[0mKeyError\u001b[0m\u001b[0;34m:\u001b[0m\u001b[0;34m\u001b[0m\u001b[0m\n",
      "\u001b[0;32mpandas/_libs/index.pyx\u001b[0m in \u001b[0;36mpandas._libs.index.IndexEngine.get_loc\u001b[0;34m()\u001b[0m\n",
      "\u001b[0;32mpandas/_libs/index.pyx\u001b[0m in \u001b[0;36mpandas._libs.index.IndexEngine.get_loc\u001b[0;34m()\u001b[0m\n",
      "\u001b[0;32mpandas/_libs/hashtable_class_helper.pxi\u001b[0m in \u001b[0;36mpandas._libs.hashtable.PyObjectHashTable.get_item\u001b[0;34m()\u001b[0m\n",
      "\u001b[0;32mpandas/_libs/hashtable_class_helper.pxi\u001b[0m in \u001b[0;36mpandas._libs.hashtable.PyObjectHashTable.get_item\u001b[0;34m()\u001b[0m\n",
      "\u001b[0;31mKeyError\u001b[0m: 'qerror'",
      "\nDuring handling of the above exception, another exception occurred:\n",
      "\u001b[0;31mKeyError\u001b[0m                                  Traceback (most recent call last)",
      "\u001b[0;32m~/science/SHL_master/probe/data_cache/HAP.py\u001b[0m in \u001b[0;36m<module>\u001b[0;34m()\u001b[0m\n\u001b[1;32m     47\u001b[0m         \u001b[0;32mfor\u001b[0m \u001b[0mdisplay_variable\u001b[0m \u001b[0;32min\u001b[0m \u001b[0mdisplay_variables\u001b[0m\u001b[0;34m:\u001b[0m\u001b[0;34m\u001b[0m\u001b[0m\n\u001b[1;32m     48\u001b[0m             \u001b[0mprint\u001b[0m\u001b[0;34m(\u001b[0m\u001b[0;34m'Time evolution of '\u001b[0m\u001b[0;34m,\u001b[0m \u001b[0mdisplay_variable\u001b[0m\u001b[0;34m)\u001b[0m\u001b[0;34m\u001b[0m\u001b[0m\n\u001b[0;32m---> 49\u001b[0;31m             \u001b[0mfig\u001b[0m\u001b[0;34m,\u001b[0m \u001b[0max\u001b[0m \u001b[0;34m=\u001b[0m \u001b[0mexperiments\u001b[0m\u001b[0;34m.\u001b[0m\u001b[0mscan\u001b[0m\u001b[0;34m(\u001b[0m\u001b[0mvariable\u001b[0m\u001b[0;34m=\u001b[0m\u001b[0mvariable\u001b[0m\u001b[0;34m,\u001b[0m \u001b[0mlist_figures\u001b[0m\u001b[0;34m=\u001b[0m\u001b[0;34m[\u001b[0m\u001b[0;34m]\u001b[0m\u001b[0;34m,\u001b[0m \u001b[0mdisplay\u001b[0m\u001b[0;34m=\u001b[0m\u001b[0;34m'dynamic'\u001b[0m\u001b[0;34m,\u001b[0m \u001b[0mdisplay_variable\u001b[0m\u001b[0;34m=\u001b[0m\u001b[0mdisplay_variable\u001b[0m\u001b[0;34m)\u001b[0m\u001b[0;34m\u001b[0m\u001b[0m\n\u001b[0m\u001b[1;32m     50\u001b[0m             \u001b[0mplt\u001b[0m\u001b[0;34m.\u001b[0m\u001b[0mshow\u001b[0m\u001b[0;34m(\u001b[0m\u001b[0;34m)\u001b[0m\u001b[0;34m\u001b[0m\u001b[0m\n\u001b[1;32m     51\u001b[0m         \u001b[0mplt\u001b[0m\u001b[0;34m.\u001b[0m\u001b[0mshow\u001b[0m\u001b[0;34m(\u001b[0m\u001b[0;34m)\u001b[0m\u001b[0;34m\u001b[0m\u001b[0m\n",
      "\u001b[0;32m~/science/SHL_master/shl_scripts/shl_experiments.py\u001b[0m in \u001b[0;36mscan\u001b[0;34m(self, N_scan, variable, list_figures, base, display, display_variable, alpha, color, label, fname, fig, ax, verbose)\u001b[0m\n\u001b[1;32m    440\u001b[0m                     \u001b[0mlabel\u001b[0m \u001b[0;34m=\u001b[0m \u001b[0;34m'%s=%d'\u001b[0m \u001b[0;34m%\u001b[0m \u001b[0;34m(\u001b[0m\u001b[0mvariable\u001b[0m\u001b[0;34m,\u001b[0m \u001b[0mvalue\u001b[0m\u001b[0;34m)\u001b[0m\u001b[0;34m\u001b[0m\u001b[0m\n\u001b[1;32m    441\u001b[0m                 fig_error, ax_error = shl.time_plot(dico, variable=display_variable,\n\u001b[0;32m--> 442\u001b[0;31m                         fig=fig_error, ax=ax_error, label=label)\n\u001b[0m\u001b[1;32m    443\u001b[0m             \u001b[0;32melif\u001b[0m \u001b[0mdisplay\u001b[0m \u001b[0;34m==\u001b[0m \u001b[0;34m'final'\u001b[0m\u001b[0;34m:\u001b[0m\u001b[0;34m\u001b[0m\u001b[0m\n\u001b[1;32m    444\u001b[0m                 \u001b[0;32mtry\u001b[0m\u001b[0;34m:\u001b[0m\u001b[0;34m\u001b[0m\u001b[0m\n",
      "\u001b[0;32m~/science/SHL_master/shl_scripts/shl_experiments.py\u001b[0m in \u001b[0;36mtime_plot\u001b[0;34m(self, dico, variable, fname, N_nosample, color, label, fig, ax)\u001b[0m\n\u001b[1;32m    337\u001b[0m     \u001b[0;32mdef\u001b[0m \u001b[0mtime_plot\u001b[0m\u001b[0;34m(\u001b[0m\u001b[0mself\u001b[0m\u001b[0;34m,\u001b[0m \u001b[0mdico\u001b[0m\u001b[0;34m,\u001b[0m \u001b[0mvariable\u001b[0m\u001b[0;34m=\u001b[0m\u001b[0;34m'kurt'\u001b[0m\u001b[0;34m,\u001b[0m \u001b[0mfname\u001b[0m\u001b[0;34m=\u001b[0m\u001b[0;32mNone\u001b[0m\u001b[0;34m,\u001b[0m \u001b[0mN_nosample\u001b[0m\u001b[0;34m=\u001b[0m\u001b[0;36m1\u001b[0m\u001b[0;34m,\u001b[0m \u001b[0mcolor\u001b[0m\u001b[0;34m=\u001b[0m\u001b[0;32mNone\u001b[0m\u001b[0;34m,\u001b[0m \u001b[0mlabel\u001b[0m\u001b[0;34m=\u001b[0m\u001b[0;32mNone\u001b[0m\u001b[0;34m,\u001b[0m \u001b[0mfig\u001b[0m\u001b[0;34m=\u001b[0m\u001b[0;32mNone\u001b[0m\u001b[0;34m,\u001b[0m \u001b[0max\u001b[0m\u001b[0;34m=\u001b[0m\u001b[0;32mNone\u001b[0m\u001b[0;34m)\u001b[0m\u001b[0;34m:\u001b[0m\u001b[0;34m\u001b[0m\u001b[0m\n\u001b[1;32m    338\u001b[0m         \u001b[0;32mfrom\u001b[0m \u001b[0mshl_scripts\u001b[0m\u001b[0;34m.\u001b[0m\u001b[0mshl_tools\u001b[0m \u001b[0;32mimport\u001b[0m \u001b[0mtime_plot\u001b[0m\u001b[0;34m\u001b[0m\u001b[0m\n\u001b[0;32m--> 339\u001b[0;31m         \u001b[0;32mreturn\u001b[0m \u001b[0mtime_plot\u001b[0m\u001b[0;34m(\u001b[0m\u001b[0mself\u001b[0m\u001b[0;34m,\u001b[0m \u001b[0mdico\u001b[0m\u001b[0;34m,\u001b[0m \u001b[0mvariable\u001b[0m\u001b[0;34m=\u001b[0m\u001b[0mvariable\u001b[0m\u001b[0;34m,\u001b[0m \u001b[0mfname\u001b[0m\u001b[0;34m=\u001b[0m\u001b[0mfname\u001b[0m\u001b[0;34m,\u001b[0m \u001b[0mN_nosample\u001b[0m\u001b[0;34m=\u001b[0m\u001b[0mN_nosample\u001b[0m\u001b[0;34m,\u001b[0m \u001b[0mcolor\u001b[0m\u001b[0;34m=\u001b[0m\u001b[0mcolor\u001b[0m\u001b[0;34m,\u001b[0m \u001b[0mlabel\u001b[0m\u001b[0;34m=\u001b[0m\u001b[0mlabel\u001b[0m\u001b[0;34m,\u001b[0m \u001b[0mfig\u001b[0m\u001b[0;34m=\u001b[0m\u001b[0mfig\u001b[0m\u001b[0;34m,\u001b[0m \u001b[0max\u001b[0m\u001b[0;34m=\u001b[0m\u001b[0max\u001b[0m\u001b[0;34m)\u001b[0m\u001b[0;34m\u001b[0m\u001b[0m\n\u001b[0m\u001b[1;32m    340\u001b[0m \u001b[0;34m\u001b[0m\u001b[0m\n\u001b[1;32m    341\u001b[0m     \u001b[0;32mdef\u001b[0m \u001b[0mshow_dico\u001b[0m\u001b[0;34m(\u001b[0m\u001b[0mself\u001b[0m\u001b[0;34m,\u001b[0m \u001b[0mdico\u001b[0m\u001b[0;34m,\u001b[0m \u001b[0mdata\u001b[0m\u001b[0;34m=\u001b[0m\u001b[0;32mNone\u001b[0m\u001b[0;34m,\u001b[0m \u001b[0mtitle\u001b[0m\u001b[0;34m=\u001b[0m\u001b[0;32mNone\u001b[0m\u001b[0;34m,\u001b[0m \u001b[0mfname\u001b[0m\u001b[0;34m=\u001b[0m\u001b[0;32mNone\u001b[0m\u001b[0;34m,\u001b[0m \u001b[0mdpi\u001b[0m\u001b[0;34m=\u001b[0m\u001b[0;36m200\u001b[0m\u001b[0;34m,\u001b[0m \u001b[0mfig\u001b[0m\u001b[0;34m=\u001b[0m\u001b[0;32mNone\u001b[0m\u001b[0;34m,\u001b[0m \u001b[0max\u001b[0m\u001b[0;34m=\u001b[0m\u001b[0;32mNone\u001b[0m\u001b[0;34m)\u001b[0m\u001b[0;34m:\u001b[0m\u001b[0;34m\u001b[0m\u001b[0m\n",
      "\u001b[0;32m~/science/SHL_master/shl_scripts/shl_tools.py\u001b[0m in \u001b[0;36mtime_plot\u001b[0;34m(shl_exp, dico, variable, N_nosample, alpha, color, label, fname, fig, ax)\u001b[0m\n\u001b[1;32m    639\u001b[0m \u001b[0;34m\u001b[0m\u001b[0m\n\u001b[1;32m    640\u001b[0m     \u001b[0;31m# try:\u001b[0m\u001b[0;34m\u001b[0m\u001b[0;34m\u001b[0m\u001b[0m\n\u001b[0;32m--> 641\u001b[0;31m     \u001b[0mdf_variable\u001b[0m \u001b[0;34m=\u001b[0m \u001b[0mdico\u001b[0m\u001b[0;34m.\u001b[0m\u001b[0mrecord\u001b[0m\u001b[0;34m[\u001b[0m\u001b[0mvariable\u001b[0m\u001b[0;34m]\u001b[0m\u001b[0;34m\u001b[0m\u001b[0m\n\u001b[0m\u001b[1;32m    642\u001b[0m     \u001b[0mlearning_time\u001b[0m \u001b[0;34m=\u001b[0m \u001b[0mnp\u001b[0m\u001b[0;34m.\u001b[0m\u001b[0marray\u001b[0m\u001b[0;34m(\u001b[0m\u001b[0mdf_variable\u001b[0m\u001b[0;34m.\u001b[0m\u001b[0mindex\u001b[0m\u001b[0;34m)\u001b[0m \u001b[0;31m#np.arange(0, dico.n_iter, dico.record_each)\u001b[0m\u001b[0;34m\u001b[0m\u001b[0m\n\u001b[1;32m    643\u001b[0m     \u001b[0;31m# if df_variable.ndim==1:\u001b[0m\u001b[0;34m\u001b[0m\u001b[0;34m\u001b[0m\u001b[0m\n",
      "\u001b[0;32m/usr/local/lib/python3.6/site-packages/pandas/core/frame.py\u001b[0m in \u001b[0;36m__getitem__\u001b[0;34m(self, key)\u001b[0m\n\u001b[1;32m   2137\u001b[0m             \u001b[0;32mreturn\u001b[0m \u001b[0mself\u001b[0m\u001b[0;34m.\u001b[0m\u001b[0m_getitem_multilevel\u001b[0m\u001b[0;34m(\u001b[0m\u001b[0mkey\u001b[0m\u001b[0;34m)\u001b[0m\u001b[0;34m\u001b[0m\u001b[0m\n\u001b[1;32m   2138\u001b[0m         \u001b[0;32melse\u001b[0m\u001b[0;34m:\u001b[0m\u001b[0;34m\u001b[0m\u001b[0m\n\u001b[0;32m-> 2139\u001b[0;31m             \u001b[0;32mreturn\u001b[0m \u001b[0mself\u001b[0m\u001b[0;34m.\u001b[0m\u001b[0m_getitem_column\u001b[0m\u001b[0;34m(\u001b[0m\u001b[0mkey\u001b[0m\u001b[0;34m)\u001b[0m\u001b[0;34m\u001b[0m\u001b[0m\n\u001b[0m\u001b[1;32m   2140\u001b[0m \u001b[0;34m\u001b[0m\u001b[0m\n\u001b[1;32m   2141\u001b[0m     \u001b[0;32mdef\u001b[0m \u001b[0m_getitem_column\u001b[0m\u001b[0;34m(\u001b[0m\u001b[0mself\u001b[0m\u001b[0;34m,\u001b[0m \u001b[0mkey\u001b[0m\u001b[0;34m)\u001b[0m\u001b[0;34m:\u001b[0m\u001b[0;34m\u001b[0m\u001b[0m\n",
      "\u001b[0;32m/usr/local/lib/python3.6/site-packages/pandas/core/frame.py\u001b[0m in \u001b[0;36m_getitem_column\u001b[0;34m(self, key)\u001b[0m\n\u001b[1;32m   2144\u001b[0m         \u001b[0;31m# get column\u001b[0m\u001b[0;34m\u001b[0m\u001b[0;34m\u001b[0m\u001b[0m\n\u001b[1;32m   2145\u001b[0m         \u001b[0;32mif\u001b[0m \u001b[0mself\u001b[0m\u001b[0;34m.\u001b[0m\u001b[0mcolumns\u001b[0m\u001b[0;34m.\u001b[0m\u001b[0mis_unique\u001b[0m\u001b[0;34m:\u001b[0m\u001b[0;34m\u001b[0m\u001b[0m\n\u001b[0;32m-> 2146\u001b[0;31m             \u001b[0;32mreturn\u001b[0m \u001b[0mself\u001b[0m\u001b[0;34m.\u001b[0m\u001b[0m_get_item_cache\u001b[0m\u001b[0;34m(\u001b[0m\u001b[0mkey\u001b[0m\u001b[0;34m)\u001b[0m\u001b[0;34m\u001b[0m\u001b[0m\n\u001b[0m\u001b[1;32m   2147\u001b[0m \u001b[0;34m\u001b[0m\u001b[0m\n\u001b[1;32m   2148\u001b[0m         \u001b[0;31m# duplicate columns & possible reduce dimensionality\u001b[0m\u001b[0;34m\u001b[0m\u001b[0;34m\u001b[0m\u001b[0m\n",
      "\u001b[0;32m/usr/local/lib/python3.6/site-packages/pandas/core/generic.py\u001b[0m in \u001b[0;36m_get_item_cache\u001b[0;34m(self, item)\u001b[0m\n\u001b[1;32m   1840\u001b[0m         \u001b[0mres\u001b[0m \u001b[0;34m=\u001b[0m \u001b[0mcache\u001b[0m\u001b[0;34m.\u001b[0m\u001b[0mget\u001b[0m\u001b[0;34m(\u001b[0m\u001b[0mitem\u001b[0m\u001b[0;34m)\u001b[0m\u001b[0;34m\u001b[0m\u001b[0m\n\u001b[1;32m   1841\u001b[0m         \u001b[0;32mif\u001b[0m \u001b[0mres\u001b[0m \u001b[0;32mis\u001b[0m \u001b[0;32mNone\u001b[0m\u001b[0;34m:\u001b[0m\u001b[0;34m\u001b[0m\u001b[0m\n\u001b[0;32m-> 1842\u001b[0;31m             \u001b[0mvalues\u001b[0m \u001b[0;34m=\u001b[0m \u001b[0mself\u001b[0m\u001b[0;34m.\u001b[0m\u001b[0m_data\u001b[0m\u001b[0;34m.\u001b[0m\u001b[0mget\u001b[0m\u001b[0;34m(\u001b[0m\u001b[0mitem\u001b[0m\u001b[0;34m)\u001b[0m\u001b[0;34m\u001b[0m\u001b[0m\n\u001b[0m\u001b[1;32m   1843\u001b[0m             \u001b[0mres\u001b[0m \u001b[0;34m=\u001b[0m \u001b[0mself\u001b[0m\u001b[0;34m.\u001b[0m\u001b[0m_box_item_values\u001b[0m\u001b[0;34m(\u001b[0m\u001b[0mitem\u001b[0m\u001b[0;34m,\u001b[0m \u001b[0mvalues\u001b[0m\u001b[0;34m)\u001b[0m\u001b[0;34m\u001b[0m\u001b[0m\n\u001b[1;32m   1844\u001b[0m             \u001b[0mcache\u001b[0m\u001b[0;34m[\u001b[0m\u001b[0mitem\u001b[0m\u001b[0;34m]\u001b[0m \u001b[0;34m=\u001b[0m \u001b[0mres\u001b[0m\u001b[0;34m\u001b[0m\u001b[0m\n",
      "\u001b[0;32m/usr/local/lib/python3.6/site-packages/pandas/core/internals.py\u001b[0m in \u001b[0;36mget\u001b[0;34m(self, item, fastpath)\u001b[0m\n\u001b[1;32m   3841\u001b[0m \u001b[0;34m\u001b[0m\u001b[0m\n\u001b[1;32m   3842\u001b[0m             \u001b[0;32mif\u001b[0m \u001b[0;32mnot\u001b[0m \u001b[0misna\u001b[0m\u001b[0;34m(\u001b[0m\u001b[0mitem\u001b[0m\u001b[0;34m)\u001b[0m\u001b[0;34m:\u001b[0m\u001b[0;34m\u001b[0m\u001b[0m\n\u001b[0;32m-> 3843\u001b[0;31m                 \u001b[0mloc\u001b[0m \u001b[0;34m=\u001b[0m \u001b[0mself\u001b[0m\u001b[0;34m.\u001b[0m\u001b[0mitems\u001b[0m\u001b[0;34m.\u001b[0m\u001b[0mget_loc\u001b[0m\u001b[0;34m(\u001b[0m\u001b[0mitem\u001b[0m\u001b[0;34m)\u001b[0m\u001b[0;34m\u001b[0m\u001b[0m\n\u001b[0m\u001b[1;32m   3844\u001b[0m             \u001b[0;32melse\u001b[0m\u001b[0;34m:\u001b[0m\u001b[0;34m\u001b[0m\u001b[0m\n\u001b[1;32m   3845\u001b[0m                 \u001b[0mindexer\u001b[0m \u001b[0;34m=\u001b[0m \u001b[0mnp\u001b[0m\u001b[0;34m.\u001b[0m\u001b[0marange\u001b[0m\u001b[0;34m(\u001b[0m\u001b[0mlen\u001b[0m\u001b[0;34m(\u001b[0m\u001b[0mself\u001b[0m\u001b[0;34m.\u001b[0m\u001b[0mitems\u001b[0m\u001b[0;34m)\u001b[0m\u001b[0;34m)\u001b[0m\u001b[0;34m[\u001b[0m\u001b[0misna\u001b[0m\u001b[0;34m(\u001b[0m\u001b[0mself\u001b[0m\u001b[0;34m.\u001b[0m\u001b[0mitems\u001b[0m\u001b[0;34m)\u001b[0m\u001b[0;34m]\u001b[0m\u001b[0;34m\u001b[0m\u001b[0m\n",
      "\u001b[0;32m/usr/local/lib/python3.6/site-packages/pandas/core/indexes/base.py\u001b[0m in \u001b[0;36mget_loc\u001b[0;34m(self, key, method, tolerance)\u001b[0m\n\u001b[1;32m   2525\u001b[0m                 \u001b[0;32mreturn\u001b[0m \u001b[0mself\u001b[0m\u001b[0;34m.\u001b[0m\u001b[0m_engine\u001b[0m\u001b[0;34m.\u001b[0m\u001b[0mget_loc\u001b[0m\u001b[0;34m(\u001b[0m\u001b[0mkey\u001b[0m\u001b[0;34m)\u001b[0m\u001b[0;34m\u001b[0m\u001b[0m\n\u001b[1;32m   2526\u001b[0m             \u001b[0;32mexcept\u001b[0m \u001b[0mKeyError\u001b[0m\u001b[0;34m:\u001b[0m\u001b[0;34m\u001b[0m\u001b[0m\n\u001b[0;32m-> 2527\u001b[0;31m                 \u001b[0;32mreturn\u001b[0m \u001b[0mself\u001b[0m\u001b[0;34m.\u001b[0m\u001b[0m_engine\u001b[0m\u001b[0;34m.\u001b[0m\u001b[0mget_loc\u001b[0m\u001b[0;34m(\u001b[0m\u001b[0mself\u001b[0m\u001b[0;34m.\u001b[0m\u001b[0m_maybe_cast_indexer\u001b[0m\u001b[0;34m(\u001b[0m\u001b[0mkey\u001b[0m\u001b[0;34m)\u001b[0m\u001b[0;34m)\u001b[0m\u001b[0;34m\u001b[0m\u001b[0m\n\u001b[0m\u001b[1;32m   2528\u001b[0m \u001b[0;34m\u001b[0m\u001b[0m\n\u001b[1;32m   2529\u001b[0m         \u001b[0mindexer\u001b[0m \u001b[0;34m=\u001b[0m \u001b[0mself\u001b[0m\u001b[0;34m.\u001b[0m\u001b[0mget_indexer\u001b[0m\u001b[0;34m(\u001b[0m\u001b[0;34m[\u001b[0m\u001b[0mkey\u001b[0m\u001b[0;34m]\u001b[0m\u001b[0;34m,\u001b[0m \u001b[0mmethod\u001b[0m\u001b[0;34m=\u001b[0m\u001b[0mmethod\u001b[0m\u001b[0;34m,\u001b[0m \u001b[0mtolerance\u001b[0m\u001b[0;34m=\u001b[0m\u001b[0mtolerance\u001b[0m\u001b[0;34m)\u001b[0m\u001b[0;34m\u001b[0m\u001b[0m\n",
      "\u001b[0;32mpandas/_libs/index.pyx\u001b[0m in \u001b[0;36mpandas._libs.index.IndexEngine.get_loc\u001b[0;34m()\u001b[0m\n",
      "\u001b[0;32mpandas/_libs/index.pyx\u001b[0m in \u001b[0;36mpandas._libs.index.IndexEngine.get_loc\u001b[0;34m()\u001b[0m\n",
      "\u001b[0;32mpandas/_libs/hashtable_class_helper.pxi\u001b[0m in \u001b[0;36mpandas._libs.hashtable.PyObjectHashTable.get_item\u001b[0;34m()\u001b[0m\n",
      "\u001b[0;32mpandas/_libs/hashtable_class_helper.pxi\u001b[0m in \u001b[0;36mpandas._libs.hashtable.PyObjectHashTable.get_item\u001b[0;34m()\u001b[0m\n",
      "\u001b[0;31mKeyError\u001b[0m: 'qerror'"
     ]
    }
   ],
   "source": [
    "%run {experiments.shl.data_cache}/{tag}.py plot"
   ]
  },
  {
   "cell_type": "markdown",
   "metadata": {},
   "source": [
    "## Version used"
   ]
  },
  {
   "cell_type": "code",
   "execution_count": 10,
   "metadata": {
    "ExecuteTime": {
     "end_time": "2018-05-13T18:26:54.969744Z",
     "start_time": "2018-05-13T18:26:54.606698Z"
    }
   },
   "outputs": [
    {
     "data": {
      "application/json": {
       "Software versions": [
        {
         "module": "Python",
         "version": "3.6.5 64bit [GCC 4.2.1 Compatible Apple LLVM 9.0.0 (clang-900.0.39.2)]"
        },
        {
         "module": "IPython",
         "version": "6.3.1"
        },
        {
         "module": "OS",
         "version": "Darwin 17.5.0 x86_64 i386 64bit"
        },
        {
         "module": "numpy",
         "version": "1.14.3"
        },
        {
         "module": "shl_scripts",
         "version": "20171221"
        },
        {
         "module": "pandas",
         "version": "0.22.0"
        }
       ]
      },
      "text/html": [
       "<table><tr><th>Software</th><th>Version</th></tr><tr><td>Python</td><td>3.6.5 64bit [GCC 4.2.1 Compatible Apple LLVM 9.0.0 (clang-900.0.39.2)]</td></tr><tr><td>IPython</td><td>6.3.1</td></tr><tr><td>OS</td><td>Darwin 17.5.0 x86_64 i386 64bit</td></tr><tr><td>numpy</td><td>1.14.3</td></tr><tr><td>shl_scripts</td><td>20171221</td></tr><tr><td>pandas</td><td>0.22.0</td></tr><tr><td colspan='2'>Sun May 13 20:26:54 2018 CEST</td></tr></table>"
      ],
      "text/latex": [
       "\\begin{tabular}{|l|l|}\\hline\n",
       "{\\bf Software} & {\\bf Version} \\\\ \\hline\\hline\n",
       "Python & 3.6.5 64bit [GCC 4.2.1 Compatible Apple LLVM 9.0.0 (clang-900.0.39.2)] \\\\ \\hline\n",
       "IPython & 6.3.1 \\\\ \\hline\n",
       "OS & Darwin 17.5.0 x86\\_64 i386 64bit \\\\ \\hline\n",
       "numpy & 1.14.3 \\\\ \\hline\n",
       "shl_scripts & 20171221 \\\\ \\hline\n",
       "pandas & 0.22.0 \\\\ \\hline\n",
       "\\hline \\multicolumn{2}{|l|}{Sun May 13 20:26:54 2018 CEST} \\\\ \\hline\n",
       "\\end{tabular}\n"
      ],
      "text/plain": [
       "Software versions\n",
       "Python 3.6.5 64bit [GCC 4.2.1 Compatible Apple LLVM 9.0.0 (clang-900.0.39.2)]\n",
       "IPython 6.3.1\n",
       "OS Darwin 17.5.0 x86_64 i386 64bit\n",
       "numpy 1.14.3\n",
       "shl_scripts 20171221\n",
       "pandas 0.22.0\n",
       "Sun May 13 20:26:54 2018 CEST"
      ]
     },
     "execution_count": 10,
     "metadata": {},
     "output_type": "execute_result"
    }
   ],
   "source": [
    "%load_ext version_information\n",
    "%version_information numpy, shl_scripts, pandas"
   ]
  }
 ],
 "metadata": {
  "kernelspec": {
   "display_name": "Python 3",
   "language": "python",
   "name": "python3"
  },
  "language_info": {
   "codemirror_mode": {
    "name": "ipython",
    "version": 3
   },
   "file_extension": ".py",
   "mimetype": "text/x-python",
   "name": "python",
   "nbconvert_exporter": "python",
   "pygments_lexer": "ipython3",
   "version": "3.6.5"
  },
  "toc": {
   "base_numbering": 1,
   "nav_menu": {
    "height": "99px",
    "width": "252px"
   },
   "number_sections": true,
   "sideBar": true,
   "skip_h1_title": false,
   "title_cell": "Table of Contents",
   "title_sidebar": "Contents",
   "toc_cell": false,
   "toc_position": {},
   "toc_section_display": "block",
   "toc_window_display": false
  }
 },
 "nbformat": 4,
 "nbformat_minor": 2
}
