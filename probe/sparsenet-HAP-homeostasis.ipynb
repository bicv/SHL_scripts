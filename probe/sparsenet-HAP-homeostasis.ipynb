{
 "cells": [
  {
   "cell_type": "markdown",
   "metadata": {},
   "source": [
    "# Homeostasis à-la-SparseNet on the activation probability\n",
    "\n",
    "In this notebook, we test the convergence of SparseNet as a function of different learning parameters. This shows the relative robusteness of this method according to the coding parameters, but also the importance of homeostasis to obtain an efficient set of filters.\n",
    "\n",
    "See also :\n",
    "* http://blog.invibe.net/posts/2015-05-05-reproducing-olshausens-classical-sparsenet.html for a description of how SparseNet is implemented in the scikit-learn package\n",
    "* http://blog.invibe.net/posts/2015-05-06-reproducing-olshausens-classical-sparsenet-part-2.html for a descrtiption of how we managed to implement the homeostasis"
   ]
  },
  {
   "cell_type": "code",
   "execution_count": 1,
   "metadata": {
    "ExecuteTime": {
     "end_time": "2018-09-27T10:47:31.710115Z",
     "start_time": "2018-09-27T10:47:31.698464Z"
    }
   },
   "outputs": [],
   "source": [
    "%load_ext autoreload\n",
    "%autoreload 2"
   ]
  },
  {
   "cell_type": "code",
   "execution_count": 2,
   "metadata": {
    "ExecuteTime": {
     "end_time": "2018-09-27T10:47:31.998445Z",
     "start_time": "2018-09-27T10:47:31.711733Z"
    }
   },
   "outputs": [],
   "source": [
    "%matplotlib inline"
   ]
  },
  {
   "cell_type": "code",
   "execution_count": 3,
   "metadata": {
    "ExecuteTime": {
     "end_time": "2018-09-27T10:47:32.112690Z",
     "start_time": "2018-09-27T10:47:32.002421Z"
    }
   },
   "outputs": [],
   "source": [
    "from shl_scripts import SHL_set\n",
    "tag = 'HAP'\n",
    "experiments = SHL_set({})"
   ]
  },
  {
   "cell_type": "code",
   "execution_count": 4,
   "metadata": {
    "ExecuteTime": {
     "end_time": "2018-09-27T10:47:32.127047Z",
     "start_time": "2018-09-27T10:47:32.114343Z"
    },
    "scrolled": true
   },
   "outputs": [
    {
     "name": "stdout",
     "output_type": "stream",
     "text": [
      "Overwriting cache_dir/HAP.py\n"
     ]
    }
   ],
   "source": [
    "%%writefile {experiments.shl.cache_dir}/{tag}.py\n",
    "\n",
    "import numpy as np\n",
    "np.set_printoptions(precision=2, suppress=True)\n",
    "\n",
    "try:\n",
    "    import sys\n",
    "    command = sys.argv[1]\n",
    "except:\n",
    "    command = 'run'\n",
    "try:\n",
    "    n_jobs = sys.argv[2]\n",
    "except:\n",
    "    n_jobs = 1\n",
    "    n_jobs = 4\n",
    "    n_jobs = 9\n",
    "    n_jobs = 10\n",
    "    n_jobs = 35\n",
    "\n",
    "from shl_scripts.shl_experiments import SHL_set\n",
    "tag = 'HAP'\n",
    "opts = dict(homeo_method=tag, verbose=0)\n",
    "\n",
    "\n",
    "experiments = SHL_set(opts, tag=tag)\n",
    "\n",
    "variables = ['eta']\n",
    "variables = ['eta', 'alpha_homeo']\n",
    "variables = ['eta', 'eta_homeo', 'alpha_MP', 'eta_precision', ]\n",
    "variables = ['eta', 'eta_homeo', 'alpha_homeo', 'alpha_MP']\n",
    "variables = ['eta', 'eta_homeo', 'alpha_homeo']\n",
    "variables = ['eta', 'eta_homeo', 'alpha_homeo', 'l0_sparseness']\n",
    "\n",
    "list_figures = []\n",
    "list_figures = ['show_dico', ]\n",
    "list_figures = ['show_dico', 'show_Pcum']\n",
    "\n",
    "display_variables = ['error', 'logL', 'perror', 'aerror', 'MI', 'cputime', 'F']\n",
    "display_variables = ['error', 'qerror', 'F']\n",
    "\n",
    "if command == 'run':\n",
    "    experiments.run(variables=variables, n_jobs=n_jobs)\n",
    "\n",
    "if command == 'plot':\n",
    "    import matplotlib.pyplot as plt\n",
    "    for variable in variables:\n",
    "        experiments = SHL_set(opts, tag=tag)\n",
    "        experiments.scan(variable=variable, list_figures=list_figures, display='', fig_kwargs={'dim_graph':(2, 15)}, verbose=1)\n",
    "        plt.show()\n",
    "\n",
    "        for display_variable in display_variables:\n",
    "            print('Time evolution of ', display_variable)\n",
    "            fig, ax = experiments.scan(variable=variable, list_figures=[], display='dynamic', display_variable=display_variable)\n",
    "            plt.show()\n",
    "        plt.show()\n",
    "\n",
    "        for display_variable in display_variables:\n",
    "            print('Comparison at the end of learning for ', display_variable)\n",
    "            fig, ax = experiments.scan(variable=variable, list_figures=[], display='final', \n",
    "                                       label=tag, display_variable=display_variable)\n",
    "            plt.show()\n",
    "        "
   ]
  },
  {
   "cell_type": "code",
   "execution_count": 5,
   "metadata": {
    "ExecuteTime": {
     "end_time": "2018-09-27T10:47:32.219104Z",
     "start_time": "2018-09-27T10:47:32.128824Z"
    },
    "scrolled": false
   },
   "outputs": [],
   "source": [
    "%run {experiments.shl.cache_dir}/{tag}.py load"
   ]
  },
  {
   "cell_type": "code",
   "execution_count": 6,
   "metadata": {
    "ExecuteTime": {
     "end_time": "2018-09-27T10:47:32.476726Z",
     "start_time": "2018-09-27T10:47:32.220842Z"
    },
    "scrolled": false
   },
   "outputs": [
    {
     "name": "stdout",
     "output_type": "stream",
     "text": [
      "-rw-r--r--  1 laurentperrinet  staff     1846 Sep 27 12:47 cache_dir/HAP.py\r\n",
      "-rw-r--r--  1 laurentperrinet  staff  2617680 Sep 27 12:34 cache_dir/HAP_alpha_MP=0.21654_dico.pkl\r\n",
      "-rw-r--r--  1 laurentperrinet  staff  2617680 Sep 27 12:34 cache_dir/HAP_alpha_MP=0.26218_dico.pkl\r\n",
      "-rw-r--r--  1 laurentperrinet  staff  2617680 Sep 27 12:34 cache_dir/HAP_alpha_MP=0.31744_dico.pkl\r\n",
      "-rw-r--r--  1 laurentperrinet  staff  2617680 Sep 27 12:34 cache_dir/HAP_alpha_MP=0.38434_dico.pkl\r\n",
      "-rw-r--r--  1 laurentperrinet  staff  2617680 Sep 27 12:34 cache_dir/HAP_alpha_MP=0.46534_dico.pkl\r\n",
      "-rw-r--r--  1 laurentperrinet  staff  2617680 Sep 27 12:34 cache_dir/HAP_alpha_MP=0.56342_dico.pkl\r\n",
      "-rw-r--r--  1 laurentperrinet  staff  2617680 Sep 27 12:34 cache_dir/HAP_alpha_MP=0.68216_dico.pkl\r\n",
      "-rw-r--r--  1 laurentperrinet  staff  2617680 Sep 27 12:34 cache_dir/HAP_alpha_MP=0.82593_dico.pkl\r\n",
      "-rw-r--r--  1 laurentperrinet  staff  2617680 Sep 27 12:38 cache_dir/HAP_alpha_MP=1.00000_dico.pkl\r\n",
      "-rw-r--r--  1 laurentperrinet  staff  2617680 Sep 27 12:34 cache_dir/HAP_alpha_homeo=0.03248_dico.pkl\r\n",
      "-rw-r--r--  1 laurentperrinet  staff  2617680 Sep 27 12:34 cache_dir/HAP_alpha_homeo=0.04762_dico.pkl\r\n",
      "-rw-r--r--  1 laurentperrinet  staff  2617680 Sep 27 12:34 cache_dir/HAP_alpha_homeo=0.06980_dico.pkl\r\n",
      "-rw-r--r--  1 laurentperrinet  staff  2617680 Sep 27 12:34 cache_dir/HAP_alpha_homeo=0.10232_dico.pkl\r\n",
      "-rw-r--r--  1 laurentperrinet  staff        0 Sep 27 12:47 cache_dir/HAP_alpha_homeo=0.10827_dico.pkl_lock\r\n",
      "-rw-r--r--  1 laurentperrinet  staff        0 Sep 27 12:47 cache_dir/HAP_alpha_homeo=0.10827_dico.pkl_lock_pid-56026_host-fortytwo\r\n",
      "-rw-r--r--  1 laurentperrinet  staff  2617680 Sep 27 12:34 cache_dir/HAP_alpha_homeo=0.15000_dico.pkl\r\n",
      "-rw-r--r--  1 laurentperrinet  staff        0 Sep 27 12:47 cache_dir/HAP_alpha_homeo=0.15872_dico.pkl_lock\r\n",
      "-rw-r--r--  1 laurentperrinet  staff        0 Sep 27 12:47 cache_dir/HAP_alpha_homeo=0.15872_dico.pkl_lock_pid-56028_host-fortytwo\r\n",
      "-rw-r--r--  1 laurentperrinet  staff  2617680 Sep 27 12:34 cache_dir/HAP_alpha_homeo=0.21989_dico.pkl\r\n",
      "-rw-r--r--  1 laurentperrinet  staff        0 Sep 27 12:47 cache_dir/HAP_alpha_homeo=0.23267_dico.pkl_lock\r\n",
      "-rw-r--r--  1 laurentperrinet  staff        0 Sep 27 12:47 cache_dir/HAP_alpha_homeo=0.23267_dico.pkl_lock_pid-56029_host-fortytwo\r\n",
      "-rw-r--r--  1 laurentperrinet  staff  2617680 Sep 27 12:34 cache_dir/HAP_alpha_homeo=0.32234_dico.pkl\r\n",
      "-rw-r--r--  1 laurentperrinet  staff        0 Sep 27 12:47 cache_dir/HAP_alpha_homeo=0.34108_dico.pkl_lock\r\n",
      "-rw-r--r--  1 laurentperrinet  staff        0 Sep 27 12:47 cache_dir/HAP_alpha_homeo=0.34108_dico.pkl_lock_pid-56032_host-fortytwo\r\n",
      "-rw-r--r--  1 laurentperrinet  staff  2617680 Sep 27 12:34 cache_dir/HAP_alpha_homeo=0.47253_dico.pkl\r\n",
      "-rw-r--r--  1 laurentperrinet  staff        0 Sep 27 12:47 cache_dir/HAP_alpha_homeo=0.50000_dico.pkl_lock\r\n",
      "-rw-r--r--  1 laurentperrinet  staff        0 Sep 27 12:47 cache_dir/HAP_alpha_homeo=0.50000_dico.pkl_lock_pid-56030_host-fortytwo\r\n",
      "-rw-r--r--  1 laurentperrinet  staff  2617680 Sep 27 12:34 cache_dir/HAP_alpha_homeo=0.69270_dico.pkl\r\n",
      "-rw-r--r--  1 laurentperrinet  staff        0 Sep 27 12:47 cache_dir/HAP_alpha_homeo=0.73297_dico.pkl_lock\r\n",
      "-rw-r--r--  1 laurentperrinet  staff        0 Sep 27 12:47 cache_dir/HAP_alpha_homeo=0.73297_dico.pkl_lock_pid-56031_host-fortytwo\r\n",
      "-rw-r--r--  1 laurentperrinet  staff        0 Sep 27 12:47 cache_dir/HAP_alpha_homeo=1.07448_dico.pkl_lock\r\n",
      "-rw-r--r--  1 laurentperrinet  staff        0 Sep 27 12:47 cache_dir/HAP_alpha_homeo=1.07448_dico.pkl_lock_pid-56033_host-fortytwo\r\n",
      "-rw-r--r--  1 laurentperrinet  staff        0 Sep 27 12:47 cache_dir/HAP_alpha_homeo=1.57512_dico.pkl_lock\r\n",
      "-rw-r--r--  1 laurentperrinet  staff        0 Sep 27 12:47 cache_dir/HAP_alpha_homeo=1.57512_dico.pkl_lock_pid-56035_host-fortytwo\r\n",
      "-rw-r--r--  1 laurentperrinet  staff        0 Sep 27 12:47 cache_dir/HAP_alpha_homeo=2.30902_dico.pkl_lock\r\n",
      "-rw-r--r--  1 laurentperrinet  staff        0 Sep 27 12:47 cache_dir/HAP_alpha_homeo=2.30902_dico.pkl_lock_pid-56034_host-fortytwo\r\n",
      "-rw-r--r--  1 laurentperrinet  staff        0 Sep 27 12:47 cache_dir/HAP_eta=0.00071_dico.pkl_lock\r\n",
      "-rw-r--r--  1 laurentperrinet  staff        0 Sep 27 12:47 cache_dir/HAP_eta=0.00071_dico.pkl_lock_pid-56009_host-fortytwo\r\n",
      "-rw-r--r--  1 laurentperrinet  staff        0 Sep 27 12:47 cache_dir/HAP_eta=0.00105_dico.pkl_lock\r\n",
      "-rw-r--r--  1 laurentperrinet  staff        0 Sep 27 12:47 cache_dir/HAP_eta=0.00105_dico.pkl_lock_pid-56012_host-fortytwo\r\n",
      "-rw-r--r--  1 laurentperrinet  staff  2617680 Sep 27 12:33 cache_dir/HAP_eta=0.00108_dico.pkl\r\n",
      "-rw-r--r--  1 laurentperrinet  staff        0 Sep 27 12:47 cache_dir/HAP_eta=0.00154_dico.pkl_lock\r\n",
      "-rw-r--r--  1 laurentperrinet  staff        0 Sep 27 12:47 cache_dir/HAP_eta=0.00154_dico.pkl_lock_pid-56010_host-fortytwo\r\n",
      "-rw-r--r--  1 laurentperrinet  staff  2617680 Sep 27 12:33 cache_dir/HAP_eta=0.00159_dico.pkl\r\n",
      "-rw-r--r--  1 laurentperrinet  staff        0 Sep 27 12:47 cache_dir/HAP_eta=0.00225_dico.pkl_lock\r\n",
      "-rw-r--r--  1 laurentperrinet  staff        0 Sep 27 12:47 cache_dir/HAP_eta=0.00225_dico.pkl_lock_pid-56011_host-fortytwo\r\n",
      "-rw-r--r--  1 laurentperrinet  staff  2617680 Sep 27 12:34 cache_dir/HAP_eta=0.00233_dico.pkl\r\n",
      "-rw-r--r--  1 laurentperrinet  staff        0 Sep 27 12:47 cache_dir/HAP_eta=0.00330_dico.pkl_lock\r\n",
      "-rw-r--r--  1 laurentperrinet  staff        0 Sep 27 12:47 cache_dir/HAP_eta=0.00330_dico.pkl_lock_pid-56013_host-fortytwo\r\n",
      "-rw-r--r--  1 laurentperrinet  staff  2617680 Sep 27 12:34 cache_dir/HAP_eta=0.00341_dico.pkl\r\n",
      "-rw-r--r--  1 laurentperrinet  staff        0 Sep 27 12:47 cache_dir/HAP_eta=0.00484_dico.pkl_lock\r\n",
      "-rw-r--r--  1 laurentperrinet  staff        0 Sep 27 12:47 cache_dir/HAP_eta=0.00484_dico.pkl_lock_pid-56014_host-fortytwo\r\n",
      "-rw-r--r--  1 laurentperrinet  staff  2617680 Sep 27 12:34 cache_dir/HAP_eta=0.00500_dico.pkl\r\n",
      "-rw-r--r--  1 laurentperrinet  staff        0 Sep 27 12:47 cache_dir/HAP_eta=0.00709_dico.pkl_lock\r\n",
      "-rw-r--r--  1 laurentperrinet  staff        0 Sep 27 12:47 cache_dir/HAP_eta=0.00709_dico.pkl_lock_pid-56017_host-fortytwo\r\n",
      "-rw-r--r--  1 laurentperrinet  staff  2617680 Sep 27 12:33 cache_dir/HAP_eta=0.00733_dico.pkl\r\n",
      "-rw-r--r--  1 laurentperrinet  staff        0 Sep 27 12:47 cache_dir/HAP_eta=0.01040_dico.pkl_lock\r\n",
      "-rw-r--r--  1 laurentperrinet  staff        0 Sep 27 12:47 cache_dir/HAP_eta=0.01040_dico.pkl_lock_pid-56016_host-fortytwo\r\n",
      "-rw-r--r--  1 laurentperrinet  staff  2617680 Sep 27 12:34 cache_dir/HAP_eta=0.01074_dico.pkl\r\n",
      "-rw-r--r--  1 laurentperrinet  staff        0 Sep 27 12:47 cache_dir/HAP_eta=0.01524_dico.pkl_lock\r\n",
      "-rw-r--r--  1 laurentperrinet  staff        0 Sep 27 12:47 cache_dir/HAP_eta=0.01524_dico.pkl_lock_pid-56015_host-fortytwo\r\n",
      "-rw-r--r--  1 laurentperrinet  staff  2617680 Sep 27 12:34 cache_dir/HAP_eta=0.01575_dico.pkl\r\n",
      "-rw-r--r--  1 laurentperrinet  staff  2617680 Sep 27 12:34 cache_dir/HAP_eta=0.02309_dico.pkl\r\n",
      "-rw-r--r--  1 laurentperrinet  staff  2617680 Sep 27 12:34 cache_dir/HAP_eta_homeo=0.01083_dico.pkl\r\n",
      "-rw-r--r--  1 laurentperrinet  staff  2617680 Sep 27 12:34 cache_dir/HAP_eta_homeo=0.01587_dico.pkl\r\n",
      "-rw-r--r--  1 laurentperrinet  staff  2617680 Sep 27 12:34 cache_dir/HAP_eta_homeo=0.02327_dico.pkl\r\n",
      "-rw-r--r--  1 laurentperrinet  staff  2617680 Sep 27 12:34 cache_dir/HAP_eta_homeo=0.03411_dico.pkl\r\n",
      "-rw-r--r--  1 laurentperrinet  staff  2617680 Sep 27 12:34 cache_dir/HAP_eta_homeo=0.05000_dico.pkl\r\n",
      "-rw-r--r--  1 laurentperrinet  staff  2617680 Sep 27 12:34 cache_dir/HAP_eta_homeo=0.07330_dico.pkl\r\n",
      "-rw-r--r--  1 laurentperrinet  staff  2617680 Sep 27 12:34 cache_dir/HAP_eta_homeo=0.10745_dico.pkl\r\n",
      "-rw-r--r--  1 laurentperrinet  staff  2617680 Sep 27 12:34 cache_dir/HAP_eta_homeo=0.15751_dico.pkl\r\n",
      "-rw-r--r--  1 laurentperrinet  staff  2617680 Sep 27 12:34 cache_dir/HAP_eta_homeo=0.23090_dico.pkl\r\n",
      "-rw-r--r--  1 laurentperrinet  staff  2617625 Sep 27 12:39 cache_dir/HAP_l0_sparseness=13_dico.pkl\r\n",
      "-rw-r--r--  1 laurentperrinet  staff  2617625 Sep 27 12:39 cache_dir/HAP_l0_sparseness=19_dico.pkl\r\n",
      "-rw-r--r--  1 laurentperrinet  staff  2617625 Sep 27 12:39 cache_dir/HAP_l0_sparseness=27_dico.pkl\r\n",
      "-rw-r--r--  1 laurentperrinet  staff  2617625 Sep 27 12:38 cache_dir/HAP_l0_sparseness=2_dico.pkl\r\n",
      "-rw-r--r--  1 laurentperrinet  staff  2617625 Sep 27 12:40 cache_dir/HAP_l0_sparseness=40_dico.pkl\r\n",
      "-rw-r--r--  1 laurentperrinet  staff  2617625 Sep 27 12:38 cache_dir/HAP_l0_sparseness=4_dico.pkl\r\n",
      "-rw-r--r--  1 laurentperrinet  staff  2617625 Sep 27 12:40 cache_dir/HAP_l0_sparseness=60_dico.pkl\r\n",
      "-rw-r--r--  1 laurentperrinet  staff  2617625 Sep 27 12:38 cache_dir/HAP_l0_sparseness=6_dico.pkl\r\n",
      "-rw-r--r--  1 laurentperrinet  staff  2617625 Sep 27 12:39 cache_dir/HAP_l0_sparseness=8_dico.pkl\r\n"
     ]
    }
   ],
   "source": [
    "!ls -l {experiments.shl.cache_dir}/{tag}*\n",
    "!rm -fr {experiments.shl.cache_dir}/{tag}*lock*"
   ]
  },
  {
   "cell_type": "code",
   "execution_count": 7,
   "metadata": {
    "ExecuteTime": {
     "end_time": "2018-09-27T10:47:32.745751Z",
     "start_time": "2018-09-27T10:47:32.480351Z"
    }
   },
   "outputs": [
    {
     "name": "stdout",
     "output_type": "stream",
     "text": [
      "-rw-r--r--  1 laurentperrinet  staff  1846 Sep 27 12:47 cache_dir/HAP.py\r\n"
     ]
    }
   ],
   "source": [
    "# this removes older computations and restarts computations\n",
    "!rm -fr {experiments.shl.cache_dir}/{tag}*pkl\n",
    "!ls -l {experiments.shl.cache_dir}/{tag}*"
   ]
  },
  {
   "cell_type": "code",
   "execution_count": null,
   "metadata": {
    "ExecuteTime": {
     "start_time": "2018-09-27T10:47:31.692Z"
    },
    "scrolled": false
   },
   "outputs": [
    {
     "name": "stderr",
     "output_type": "stream",
     "text": [
      "[Parallel(n_jobs=35)]: Using backend LokyBackend with 35 concurrent workers.\n"
     ]
    }
   ],
   "source": [
    "%run {experiments.shl.cache_dir}/{tag}.py run"
   ]
  },
  {
   "cell_type": "code",
   "execution_count": null,
   "metadata": {
    "ExecuteTime": {
     "start_time": "2018-09-27T10:47:31.693Z"
    },
    "scrolled": false
   },
   "outputs": [],
   "source": [
    "%run {experiments.shl.cache_dir}/{tag}.py plot"
   ]
  },
  {
   "cell_type": "code",
   "execution_count": null,
   "metadata": {
    "ExecuteTime": {
     "start_time": "2018-09-27T10:47:31.694Z"
    }
   },
   "outputs": [],
   "source": [
    "%load_ext version_information\n",
    "%version_information shl_scripts, numpy, shl_scripts, pandas, matplotlib"
   ]
  }
 ],
 "metadata": {
  "kernelspec": {
   "display_name": "Python 3",
   "language": "python",
   "name": "python3"
  },
  "language_info": {
   "codemirror_mode": {
    "name": "ipython",
    "version": 3
   },
   "file_extension": ".py",
   "mimetype": "text/x-python",
   "name": "python",
   "nbconvert_exporter": "python",
   "pygments_lexer": "ipython3",
   "version": "3.6.5"
  },
  "toc": {
   "base_numbering": 1,
   "nav_menu": {
    "height": "99px",
    "width": "252px"
   },
   "number_sections": true,
   "sideBar": true,
   "skip_h1_title": false,
   "title_cell": "Table of Contents",
   "title_sidebar": "Contents",
   "toc_cell": false,
   "toc_position": {},
   "toc_section_display": "block",
   "toc_window_display": false
  }
 },
 "nbformat": 4,
 "nbformat_minor": 2
}
