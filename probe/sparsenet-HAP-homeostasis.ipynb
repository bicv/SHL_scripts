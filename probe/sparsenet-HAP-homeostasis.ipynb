{
 "cells": [
  {
   "cell_type": "markdown",
   "metadata": {},
   "source": [
    "# Homeostasis à-la-SparseNet on the activation probability\n",
    "\n",
    "In this notebook, we test the convergence of SparseNet as a function of different learning parameters. This shows the relative robusteness of this method according to the coding parameters, but also the importance of homeostasis to obtain an efficient set of filters.\n",
    "\n",
    "See also :\n",
    "* http://blog.invibe.net/posts/2015-05-05-reproducing-olshausens-classical-sparsenet.html for a description of how SparseNet is implemented in the scikit-learn package\n",
    "* http://blog.invibe.net/posts/2015-05-06-reproducing-olshausens-classical-sparsenet-part-2.html for a descrtiption of how we managed to implement the homeostasis"
   ]
  },
  {
   "cell_type": "code",
   "execution_count": null,
   "metadata": {},
   "outputs": [],
   "source": [
    "%load_ext autoreload\n",
    "%autoreload 2"
   ]
  },
  {
   "cell_type": "code",
   "execution_count": null,
   "metadata": {},
   "outputs": [],
   "source": [
    "%matplotlib inline"
   ]
  },
  {
   "cell_type": "code",
   "execution_count": null,
   "metadata": {},
   "outputs": [],
   "source": [
    "from shl_scripts import SHL_set\n",
    "tag = 'HAP'\n",
    "experiments = SHL_set({})"
   ]
  },
  {
   "cell_type": "code",
   "execution_count": null,
   "metadata": {
    "scrolled": true
   },
   "outputs": [],
   "source": [
    "%%writefile {experiments.shl.cache_dir}/{tag}.py\n",
    "\n",
    "import numpy as np\n",
    "np.set_printoptions(precision=2, suppress=True)\n",
    "\n",
    "try:\n",
    "    import sys\n",
    "    command = sys.argv[1]\n",
    "except:\n",
    "    command = 'run'\n",
    "\n",
    "from shl_scripts.shl_experiments import SHL_set\n",
    "tag = 'HAP'\n",
    "opts = dict(homeo_method=tag, verbose=0)\n",
    "\n",
    "n_jobs = 10\n",
    "n_jobs = 1\n",
    "n_jobs = 4\n",
    "n_jobs = 9\n",
    "\n",
    "\n",
    "\n",
    "experiments = SHL_set(opts, tag=tag)\n",
    "\n",
    "variables = ['eta']\n",
    "variables = ['eta', 'alpha_homeo']\n",
    "variables = ['eta', 'eta_homeo', 'l0_sparseness', 'alpha_homeo']\n",
    "\n",
    "\n",
    "list_figures = []\n",
    "list_figures = ['show_dico']\n",
    "\n",
    "display_variables = ['error', 'logL', 'perror', 'aerror', 'MI', 'cputime', 'F']\n",
    "display_variables = ['F']\n",
    "\n",
    "if command == 'run':\n",
    "    experiments.run(variables=variables, n_jobs=n_jobs)\n",
    "\n",
    "if command == 'plot':\n",
    "    import matplotlib.pyplot as plt\n",
    "    for variable in variables:\n",
    "        experiments = SHL_set(opts, tag=tag)\n",
    "        experiments.scan(variable=variable, list_figures=list_figures, display='')\n",
    "        plt.show()\n",
    "\n",
    "        for display_variable in display_variables:\n",
    "            print('Time evolution of ', display_variable)\n",
    "            fig, ax = experiments.scan(variable=variable, list_figures=[], display='dynamic', display_variable=display_variable)\n",
    "            plt.show()\n",
    "        plt.show()\n",
    "\n",
    "        for display_variable in display_variables:\n",
    "            print('Comparison at the end of learning for ', display_variable)\n",
    "            fig, ax = experiments.scan(variable=variable, list_figures=[], display='final', \n",
    "                                       label=tag, display_variable=display_variable)\n",
    "            plt.show()\n",
    "        "
   ]
  },
  {
   "cell_type": "code",
   "execution_count": null,
   "metadata": {
    "scrolled": false
   },
   "outputs": [],
   "source": [
    "%run {experiments.shl.cache_dir}/{tag}.py load"
   ]
  },
  {
   "cell_type": "code",
   "execution_count": null,
   "metadata": {
    "scrolled": false
   },
   "outputs": [],
   "source": [
    "!ls -l {experiments.shl.cache_dir}/{tag}*\n",
    "!rm -fr {experiments.shl.cache_dir}/{tag}*lock*"
   ]
  },
  {
   "cell_type": "raw",
   "metadata": {},
   "source": [
    "!rm -fr {experiments.shl.cache_dir}/{tag}*\n",
    "!ls -l {experiments.shl.cache_dir}/{tag}*\n",
    "#!rm -fr {experiments.shl.cache_dir}/data*"
   ]
  },
  {
   "cell_type": "code",
   "execution_count": null,
   "metadata": {
    "scrolled": false
   },
   "outputs": [],
   "source": [
    "%run {experiments.shl.cache_dir}/{tag}.py run"
   ]
  },
  {
   "cell_type": "code",
   "execution_count": null,
   "metadata": {
    "scrolled": false
   },
   "outputs": [],
   "source": [
    "%run {experiments.shl.cache_dir}/{tag}.py plot"
   ]
  },
  {
   "cell_type": "markdown",
   "metadata": {},
   "source": [
    "## Version used"
   ]
  },
  {
   "cell_type": "code",
   "execution_count": null,
   "metadata": {},
   "outputs": [],
   "source": [
    "%load_ext version_information\n",
    "%version_information numpy, shl_scripts, pandas"
   ]
  }
 ],
 "metadata": {
  "kernelspec": {
   "display_name": "Python 3",
   "language": "python",
   "name": "python3"
  },
  "language_info": {
   "codemirror_mode": {
    "name": "ipython",
    "version": 3
   },
   "file_extension": ".py",
   "mimetype": "text/x-python",
   "name": "python",
   "nbconvert_exporter": "python",
   "pygments_lexer": "ipython3",
   "version": "3.6.5"
  },
  "toc": {
   "base_numbering": 1,
   "nav_menu": {
    "height": "99px",
    "width": "252px"
   },
   "number_sections": true,
   "sideBar": true,
   "skip_h1_title": false,
   "title_cell": "Table of Contents",
   "title_sidebar": "Contents",
   "toc_cell": false,
   "toc_position": {},
   "toc_section_display": "block",
   "toc_window_display": false
  }
 },
 "nbformat": 4,
 "nbformat_minor": 2
}
