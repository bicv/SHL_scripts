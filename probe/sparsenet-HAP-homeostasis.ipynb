{
 "cells": [
  {
   "cell_type": "markdown",
   "metadata": {},
   "source": [
    "# Homeostasis à-la-SparseNet on the activation probability\n",
    "\n",
    "In this notebook, we test the convergence of SparseNet as a function of different learning parameters. This shows the relative robusteness of this method according to the coding parameters, but also the importance of homeostasis to obtain an efficient set of filters.\n",
    "\n",
    "See also :\n",
    "* http://blog.invibe.net/posts/2015-05-05-reproducing-olshausens-classical-sparsenet.html for a description of how SparseNet is implemented in the scikit-learn package\n",
    "* http://blog.invibe.net/posts/2015-05-06-reproducing-olshausens-classical-sparsenet-part-2.html for a descrtiption of how we managed to implement the homeostasis"
   ]
  },
  {
   "cell_type": "raw",
   "metadata": {
    "ExecuteTime": {
     "end_time": "2018-01-23T07:58:48.361547Z",
     "start_time": "2018-01-23T07:58:48.334855Z"
    }
   },
   "source": [
    "%load_ext autoreload\n",
    "%autoreload 2"
   ]
  },
  {
   "cell_type": "code",
   "execution_count": null,
   "metadata": {
    "ExecuteTime": {
     "end_time": "2018-01-23T21:58:23.241349Z",
     "start_time": "2018-01-23T21:58:22.620597Z"
    }
   },
   "outputs": [],
   "source": [
    "%matplotlib inline\n",
    "import matplotlib.pyplot as plt\n",
    "import numpy as np\n",
    "np.set_printoptions(precision=2, suppress=True)"
   ]
  },
  {
   "cell_type": "code",
   "execution_count": null,
   "metadata": {
    "ExecuteTime": {
     "end_time": "2018-01-23T21:58:23.588168Z",
     "start_time": "2018-01-23T21:58:23.245023Z"
    }
   },
   "outputs": [],
   "source": [
    "from shl_scripts.shl_experiments import SHL\n",
    "\n",
    "DEBUG_DOWNSCALE, verbose = 10, 0\n",
    "DEBUG_DOWNSCALE, verbose = 10, 100\n",
    "DEBUG_DOWNSCALE, verbose = 1, 10\n",
    "N_scan = 7\n",
    "tag = 'HAP'\n",
    "opts = dict(DEBUG_DOWNSCALE=DEBUG_DOWNSCALE, homeo_method=tag, verbose=verbose)\n",
    "shl_0 = SHL(**opts)\n",
    "data = shl_0.get_data(matname='data')\n",
    "list_figures = ['show_dico', 'time_plot_error', 'time_plot_qerror']#, 'plot_variance',  'plot_variance_histogram',  'time_plot_prob',  'time_plot_kurt',  'time_plot_var']"
   ]
  },
  {
   "cell_type": "raw",
   "metadata": {
    "ExecuteTime": {
     "end_time": "2018-01-19T14:22:30.973474Z",
     "start_time": "2018-01-19T14:22:30.702353Z"
    }
   },
   "source": [
    "!rm -fr {shl.data_cache}/{tag}*lock*\n",
    "!rm -fr {shl.data_cache}/{tag}*"
   ]
  },
  {
   "cell_type": "raw",
   "metadata": {
    "ExecuteTime": {
     "end_time": "2018-01-19T14:18:13.936883Z",
     "start_time": "2018-01-19T14:18:13.537227Z"
    }
   },
   "source": [
    "!rm -fr {shl.data_cache}/data*"
   ]
  },
  {
   "cell_type": "markdown",
   "metadata": {},
   "source": [
    "## Homeostasis à-la-SparseNet on the activation probability"
   ]
  },
  {
   "cell_type": "code",
   "execution_count": null,
   "metadata": {
    "ExecuteTime": {
     "end_time": "2018-01-23T22:01:18.962373Z",
     "start_time": "2018-01-23T21:58:23.606531Z"
    },
    "scrolled": false
   },
   "outputs": [],
   "source": [
    "homeo_params = SHL(**opts).homeo_params\n",
    "for eta_homeo in np.logspace(-1, 1, N_scan, base=10)*homeo_params['eta_homeo']:\n",
    "    shl = SHL(**opts)    \n",
    "    matname = tag + ' - eta_homeo={}'.format(eta_homeo)\n",
    "    print(shl.homeo_params['eta_homeo'])\n",
    "    shl.homeo_params.update(eta_homeo=eta_homeo)\n",
    "    print(shl.homeo_params['eta_homeo'])\n",
    "    dico = shl.learn_dico(data=data, matname=matname, list_figures=list_figures)    \n",
    "    plt.show()"
   ]
  },
  {
   "cell_type": "code",
   "execution_count": null,
   "metadata": {
    "ExecuteTime": {
     "end_time": "2018-01-23T22:09:16.570790Z",
     "start_time": "2018-01-23T22:01:18.969325Z"
    },
    "scrolled": false
   },
   "outputs": [],
   "source": [
    "homeo_params = SHL(**opts).homeo_params\n",
    "for alpha_homeo in np.logspace(-1, 0.4, N_scan, base=10)*homeo_params['alpha_homeo']:\n",
    "    shl = SHL(**opts)    \n",
    "    print(shl.homeo_params['eta_homeo'])\n",
    "    matname = tag + ' - alpha_homeo={}'.format(alpha_homeo)\n",
    "    shl.homeo_params.update(alpha_homeo=alpha_homeo)\n",
    "    dico = shl.learn_dico(data=data, matname=matname, list_figures=list_figures)\n",
    "    plt.show()"
   ]
  },
  {
   "cell_type": "code",
   "execution_count": null,
   "metadata": {
    "ExecuteTime": {
     "end_time": "2018-01-23T23:36:16.608690Z",
     "start_time": "2018-01-23T22:09:16.573348Z"
    },
    "scrolled": false
   },
   "outputs": [],
   "source": [
    "for eta in np.logspace(-1, 1, N_scan, base=10)*SHL(**opts).eta['eta']:\n",
    "    shl = SHL(**opts)\n",
    "    matname = tag + ' - eta={}'.format(eta)\n",
    "    shl.eta.update(eta=eta)\n",
    "    dico = shl.learn_dico(data=data, matname=matname, list_figures=list_figures)    \n",
    "    plt.show()\n",
    "    \n",
    "fig_error, ax_error = None, None\n",
    "for eta in np.logspace(-1, 1, N_scan, base=10)*SHL(**opts).eta['eta']:\n",
    "    shl = SHL(**opts)\n",
    "    matname = tag + ' - eta={}'.format(eta)\n",
    "    dico = shl.learn_dico(data=data, matname=matname, list_figures=list_figures)    \n",
    "    fig_error, ax_error = shl.time_plot(dico, variable='error', fig=fig_error, ax=ax_error, label='eta=%.3f' % eta)\n",
    "    "
   ]
  },
  {
   "cell_type": "code",
   "execution_count": null,
   "metadata": {
    "ExecuteTime": {
     "end_time": "2018-01-23T23:36:16.623998Z",
     "start_time": "2018-01-23T23:36:16.611859Z"
    },
    "scrolled": false
   },
   "outputs": [],
   "source": [
    "for eta in np.logspace(-1, 1, N_scan, base=10)*SHL(**opts).eta['eta']:\n",
    "    shl = SHL(**opts)\n",
    "    shl.eta.update(eta=eta)\n",
    "    print('eta=', shl.eta['eta'])\n"
   ]
  },
  {
   "cell_type": "code",
   "execution_count": null,
   "metadata": {
    "ExecuteTime": {
     "end_time": "2018-01-23T23:36:16.632981Z",
     "start_time": "2018-01-23T23:36:16.626362Z"
    }
   },
   "outputs": [],
   "source": [
    "opts"
   ]
  },
  {
   "cell_type": "code",
   "execution_count": null,
   "metadata": {
    "ExecuteTime": {
     "end_time": "2018-01-23T23:38:40.835204Z",
     "start_time": "2018-01-23T23:36:16.635506Z"
    },
    "scrolled": false
   },
   "outputs": [],
   "source": [
    "for l0_sparseness in 2**np.arange(N_scan):\n",
    "    shl = SHL(**opts, l0_sparseness=l0_sparseness)\n",
    "    matname = tag + ' - l0_sparseness={l0_sparseness}'.format(l0_sparseness=l0_sparseness)\n",
    "    dico = shl.learn_dico(data=data, matname=matname, list_figures=list_figures)    \n",
    "    print('eta=', shl.eta['eta'])\n",
    "    plt.show()"
   ]
  },
  {
   "cell_type": "markdown",
   "metadata": {},
   "source": [
    "## Version used"
   ]
  },
  {
   "cell_type": "code",
   "execution_count": null,
   "metadata": {
    "ExecuteTime": {
     "end_time": "2018-01-23T23:38:40.889918Z",
     "start_time": "2018-01-23T23:38:40.837967Z"
    }
   },
   "outputs": [],
   "source": [
    "%load_ext version_information\n",
    "%version_information numpy, shl_scripts"
   ]
  }
 ],
 "metadata": {
  "kernelspec": {
   "display_name": "Python 3",
   "language": "python",
   "name": "python3"
  },
  "language_info": {
   "codemirror_mode": {
    "name": "ipython",
    "version": 3
   },
   "file_extension": ".py",
   "mimetype": "text/x-python",
   "name": "python",
   "nbconvert_exporter": "python",
   "pygments_lexer": "ipython3",
   "version": "3.6.4"
  },
  "toc": {
   "nav_menu": {
    "height": "99px",
    "width": "252px"
   },
   "number_sections": true,
   "sideBar": true,
   "skip_h1_title": false,
   "toc_cell": false,
   "toc_position": {},
   "toc_section_display": "block",
   "toc_window_display": false
  }
 },
 "nbformat": 4,
 "nbformat_minor": 2
}
