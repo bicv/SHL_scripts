{
 "cells": [
  {
   "cell_type": "markdown",
   "metadata": {},
   "source": [
    "# Homeostasis à-la-SparseNet on the activation probability\n",
    "\n",
    "In this notebook, we test the convergence of SparseNet as a function of different learning parameters. This shows the relative robusteness of this method according to the coding parameters, but also the importance of homeostasis to obtain an efficient set of filters.\n",
    "\n",
    "See also :\n",
    "* http://blog.invibe.net/posts/2015-05-05-reproducing-olshausens-classical-sparsenet.html for a description of how SparseNet is implemented in the scikit-learn package\n",
    "* http://blog.invibe.net/posts/2015-05-06-reproducing-olshausens-classical-sparsenet-part-2.html for a descrtiption of how we managed to implement the homeostasis"
   ]
  },
  {
   "cell_type": "code",
   "execution_count": 1,
   "metadata": {
    "ExecuteTime": {
     "end_time": "2018-05-11T14:53:50.602862Z",
     "start_time": "2018-05-11T14:53:50.591533Z"
    }
   },
   "outputs": [],
   "source": [
    "%load_ext autoreload\n",
    "%autoreload 2"
   ]
  },
  {
   "cell_type": "code",
   "execution_count": 2,
   "metadata": {
    "ExecuteTime": {
     "end_time": "2018-05-11T14:53:50.828194Z",
     "start_time": "2018-05-11T14:53:50.604630Z"
    }
   },
   "outputs": [],
   "source": [
    "%matplotlib inline"
   ]
  },
  {
   "cell_type": "code",
   "execution_count": 3,
   "metadata": {
    "ExecuteTime": {
     "end_time": "2018-05-11T14:53:50.871815Z",
     "start_time": "2018-05-11T14:53:50.829839Z"
    }
   },
   "outputs": [],
   "source": [
    "import shl_scripts"
   ]
  },
  {
   "cell_type": "code",
   "execution_count": 4,
   "metadata": {
    "ExecuteTime": {
     "end_time": "2018-05-11T14:53:50.966646Z",
     "start_time": "2018-05-11T14:53:50.873365Z"
    }
   },
   "outputs": [],
   "source": [
    "from shl_scripts.shl_experiments import SHL_set\n",
    "tag = 'HAP'\n",
    "experiments = SHL_set({})"
   ]
  },
  {
   "cell_type": "code",
   "execution_count": 5,
   "metadata": {
    "ExecuteTime": {
     "end_time": "2018-05-11T14:53:50.982087Z",
     "start_time": "2018-05-11T14:53:50.968760Z"
    },
    "scrolled": true
   },
   "outputs": [
    {
     "name": "stdout",
     "output_type": "stream",
     "text": [
      "Overwriting data_cache/HAP.py\n"
     ]
    }
   ],
   "source": [
    "%%writefile {experiments.shl.data_cache}/{tag}.py\n",
    "\n",
    "import numpy as np\n",
    "np.set_printoptions(precision=2, suppress=True)\n",
    "\n",
    "try:\n",
    "    import sys\n",
    "    command = sys.argv[1]\n",
    "except:\n",
    "    command = 'run'\n",
    "\n",
    "from shl_scripts.shl_experiments import SHL_set\n",
    "tag = 'HAP'\n",
    "#opts = dict(homeo_method=tag, eta_homeo=0.01, alpha_homeo=0.7, verbose=0)\n",
    "opts = dict(homeo_method=tag, verbose=0)\n",
    "\n",
    "n_jobs = 10\n",
    "n_jobs = 1\n",
    "n_jobs = 4\n",
    "\n",
    "\n",
    "experiments = SHL_set(opts, tag=tag)\n",
    "\n",
    "variables = ['eta', 'alpha_homeo']\n",
    "variables = ['eta', 'alpha_homeo']\n",
    "variables = ['eta', 'eta_homeo', 'l0_sparseness', 'alpha_homeo', 'eta_homeo']\n",
    "\n",
    "if command == 'run':\n",
    "    experiments.run(variables=variables, n_jobs=n_jobs)\n",
    "\n",
    "if command == 'plot':\n",
    "    import matplotlib.pyplot as plt\n",
    "\n",
    "    #fig, ax = experiments.scan(variable='eta', list_figures=[], display='dynamic')\n",
    "    #fig, ax = experiments.scan(variable='eta', list_figures=[], display='final')\n",
    "    list_figures = []\n",
    "    list_figures = ['show_dico']\n",
    "\n",
    "    display_variables = ['error', 'logL', 'perror', 'aerror', 'MI', 'cputime']\n",
    "    display_variables = ['error', 'logL', 'perror', 'MC', 'cputime']\n",
    "    for variable in variables:\n",
    "        experiments = SHL_set(opts, tag=tag)\n",
    "        experiments.scan(variable=variable, list_figures=list_figures, display='')\n",
    "        plt.show()\n",
    "\n",
    "        for display_variable in display_variables:\n",
    "            print('Time evolution of ', display_variable)\n",
    "            fig, ax = experiments.scan(variable=variable, list_figures=[], display='dynamic', display_variable=display_variable)\n",
    "            plt.show()\n",
    "        plt.show()\n",
    "\n",
    "        for display_variable in display_variables:\n",
    "            print('Comparison at the end of learning for ', display_variable)\n",
    "            fig, ax = experiments.scan(variable=variable, list_figures=[], display='final', \n",
    "                                       label=tag, display_variable=display_variable)\n",
    "            plt.show()\n",
    "        "
   ]
  },
  {
   "cell_type": "code",
   "execution_count": 6,
   "metadata": {
    "ExecuteTime": {
     "end_time": "2018-05-11T14:53:51.090377Z",
     "start_time": "2018-05-11T14:53:50.983952Z"
    },
    "scrolled": false
   },
   "outputs": [],
   "source": [
    "%run {experiments.shl.data_cache}/{tag}.py load"
   ]
  },
  {
   "cell_type": "code",
   "execution_count": 7,
   "metadata": {
    "ExecuteTime": {
     "end_time": "2018-05-11T14:53:51.340890Z",
     "start_time": "2018-05-11T14:53:51.091863Z"
    },
    "scrolled": false
   },
   "outputs": [
    {
     "name": "stdout",
     "output_type": "stream",
     "text": [
      "-rw-r--r--  1 laurentperrinet  staff        0 May 11 16:47 data_cache/HAP - alpha_homeo=0.49443_dico.pkl_lock\r\n",
      "-rw-r--r--  1 laurentperrinet  staff        0 May 11 16:47 data_cache/HAP - alpha_homeo=0.49443_dico.pkl_lock_pid-2391_host-fortytwo\r\n",
      "-rw-r--r--  1 laurentperrinet  staff        0 May 11 16:48 data_cache/HAP - alpha_homeo=0.58045_dico.pkl_lock\r\n",
      "-rw-r--r--  1 laurentperrinet  staff        0 May 11 16:48 data_cache/HAP - alpha_homeo=0.58045_dico.pkl_lock_pid-2391_host-fortytwo\r\n",
      "-rw-r--r--  1 laurentperrinet  staff        0 May 11 16:48 data_cache/HAP - alpha_homeo=0.68144_dico.pkl_lock\r\n",
      "-rw-r--r--  1 laurentperrinet  staff        0 May 11 16:48 data_cache/HAP - alpha_homeo=0.68144_dico.pkl_lock_pid-2391_host-fortytwo\r\n",
      "-rw-r--r--  1 laurentperrinet  staff  1468079 May 11 15:26 data_cache/HAP - eta=0.00309_dico.pkl\r\n",
      "-rw-r--r--  1 laurentperrinet  staff  1468079 May 11 15:26 data_cache/HAP - eta=0.00363_dico.pkl\r\n",
      "-rw-r--r--  1 laurentperrinet  staff  1468079 May 11 15:26 data_cache/HAP - eta=0.00426_dico.pkl\r\n",
      "-rw-r--r--  1 laurentperrinet  staff  1468079 May 11 15:26 data_cache/HAP - eta=0.00500_dico.pkl\r\n",
      "-rw-r--r--  1 laurentperrinet  staff  1468079 May 11 15:28 data_cache/HAP - eta=0.00587_dico.pkl\r\n",
      "-rw-r--r--  1 laurentperrinet  staff  1468079 May 11 15:28 data_cache/HAP - eta=0.00689_dico.pkl\r\n",
      "-rw-r--r--  1 laurentperrinet  staff  1468079 May 11 15:28 data_cache/HAP - eta=0.00809_dico.pkl\r\n",
      "-rw-r--r--  1 laurentperrinet  staff  1468079 May 11 15:28 data_cache/HAP - eta_homeo=0.01854_dico.pkl\r\n",
      "-rw-r--r--  1 laurentperrinet  staff  1468079 May 11 15:28 data_cache/HAP - eta_homeo=0.02177_dico.pkl\r\n",
      "-rw-r--r--  1 laurentperrinet  staff  1468079 May 11 15:28 data_cache/HAP - eta_homeo=0.02555_dico.pkl\r\n",
      "-rw-r--r--  1 laurentperrinet  staff  1468079 May 11 15:28 data_cache/HAP - eta_homeo=0.03000_dico.pkl\r\n",
      "-rw-r--r--  1 laurentperrinet  staff  1468079 May 11 15:28 data_cache/HAP - eta_homeo=0.03522_dico.pkl\r\n",
      "-rw-r--r--  1 laurentperrinet  staff  1468079 May 11 16:39 data_cache/HAP - eta_homeo=0.04135_dico.pkl\r\n",
      "-rw-r--r--  1 laurentperrinet  staff  1468079 May 11 16:39 data_cache/HAP - eta_homeo=0.04854_dico.pkl\r\n",
      "-rw-r--r--  1 laurentperrinet  staff  1468024 May 11 16:47 data_cache/HAP - l0_sparseness=11_dico.pkl\r\n",
      "-rw-r--r--  1 laurentperrinet  staff  1468024 May 11 16:47 data_cache/HAP - l0_sparseness=13_dico.pkl\r\n",
      "-rw-r--r--  1 laurentperrinet  staff  1468024 May 11 16:48 data_cache/HAP - l0_sparseness=15_dico.pkl\r\n",
      "-rw-r--r--  1 laurentperrinet  staff  1468024 May 11 16:48 data_cache/HAP - l0_sparseness=17_dico.pkl\r\n",
      "-rw-r--r--  1 laurentperrinet  staff        0 May 11 16:47 data_cache/HAP - l0_sparseness=21_dico.pkl_lock\r\n",
      "-rw-r--r--  1 laurentperrinet  staff        0 May 11 16:47 data_cache/HAP - l0_sparseness=21_dico.pkl_lock_pid-2391_host-fortytwo\r\n",
      "-rw-r--r--  1 laurentperrinet  staff  1468024 May 11 16:39 data_cache/HAP - l0_sparseness=8_dico.pkl\r\n",
      "-rw-r--r--  1 laurentperrinet  staff  1468024 May 11 16:39 data_cache/HAP - l0_sparseness=9_dico.pkl\r\n",
      "-rw-r--r--  1 laurentperrinet  staff     1849 May 11 16:53 data_cache/HAP.py\r\n"
     ]
    }
   ],
   "source": [
    "!ls -l {experiments.shl.data_cache}/{tag}*\n",
    "!rm -fr {experiments.shl.data_cache}/{tag}*lock*"
   ]
  },
  {
   "cell_type": "raw",
   "metadata": {},
   "source": [
    "!rm -fr {experiments.shl.data_cache}/{tag}*\n",
    "!ls -l {experiments.shl.data_cache}/{tag}*\n",
    "#!rm -fr {experiments.shl.data_cache}/data*"
   ]
  },
  {
   "cell_type": "code",
   "execution_count": null,
   "metadata": {
    "ExecuteTime": {
     "start_time": "2018-05-11T14:53:50.594Z"
    },
    "scrolled": false
   },
   "outputs": [
    {
     "name": "stderr",
     "output_type": "stream",
     "text": [
      "[Parallel(n_jobs=4)]: Done   1 tasks      | elapsed:    0.1s\n",
      "[Parallel(n_jobs=4)]: Done   2 tasks      | elapsed:    0.1s\n",
      "[Parallel(n_jobs=4)]: Done   3 tasks      | elapsed:    0.1s\n",
      "[Parallel(n_jobs=4)]: Done   4 tasks      | elapsed:    0.1s\n",
      "[Parallel(n_jobs=4)]: Done   5 tasks      | elapsed:    0.1s\n",
      "[Parallel(n_jobs=4)]: Done   6 tasks      | elapsed:    0.1s\n",
      "[Parallel(n_jobs=4)]: Done   7 tasks      | elapsed:    0.1s\n",
      "[Parallel(n_jobs=4)]: Done   8 tasks      | elapsed:    0.1s\n",
      "[Parallel(n_jobs=4)]: Done   9 tasks      | elapsed:    0.1s\n",
      "[Parallel(n_jobs=4)]: Done  10 tasks      | elapsed:    0.1s\n",
      "[Parallel(n_jobs=4)]: Done  11 tasks      | elapsed:    0.1s\n",
      "[Parallel(n_jobs=4)]: Done  12 tasks      | elapsed:    0.1s\n",
      "[Parallel(n_jobs=4)]: Done  13 tasks      | elapsed:    0.1s\n",
      "[Parallel(n_jobs=4)]: Done  14 tasks      | elapsed:    0.1s\n",
      "[Parallel(n_jobs=4)]: Done  15 tasks      | elapsed:    0.1s\n",
      "[Parallel(n_jobs=4)]: Done  16 tasks      | elapsed:    0.1s\n",
      "[Parallel(n_jobs=4)]: Done  17 tasks      | elapsed:    0.1s\n",
      "[Parallel(n_jobs=4)]: Done  18 tasks      | elapsed:    0.1s\n",
      "[Parallel(n_jobs=4)]: Done  19 tasks      | elapsed:    0.1s\n",
      "[Parallel(n_jobs=4)]: Done  20 tasks      | elapsed:    0.1s\n"
     ]
    }
   ],
   "source": [
    "%run {experiments.shl.data_cache}/{tag}.py run"
   ]
  },
  {
   "cell_type": "code",
   "execution_count": null,
   "metadata": {
    "ExecuteTime": {
     "start_time": "2018-05-11T14:53:50.596Z"
    },
    "scrolled": false
   },
   "outputs": [],
   "source": [
    "%run {experiments.shl.data_cache}/{tag}.py plot"
   ]
  },
  {
   "cell_type": "markdown",
   "metadata": {},
   "source": [
    "## Version used"
   ]
  },
  {
   "cell_type": "code",
   "execution_count": null,
   "metadata": {
    "ExecuteTime": {
     "start_time": "2018-05-11T14:53:50.597Z"
    }
   },
   "outputs": [],
   "source": [
    "%load_ext version_information\n",
    "%version_information numpy, shl_scripts, pandas"
   ]
  }
 ],
 "metadata": {
  "kernelspec": {
   "display_name": "Python 3",
   "language": "python",
   "name": "python3"
  },
  "language_info": {
   "codemirror_mode": {
    "name": "ipython",
    "version": 3
   },
   "file_extension": ".py",
   "mimetype": "text/x-python",
   "name": "python",
   "nbconvert_exporter": "python",
   "pygments_lexer": "ipython3",
   "version": "3.6.5"
  },
  "toc": {
   "base_numbering": 1,
   "nav_menu": {
    "height": "99px",
    "width": "252px"
   },
   "number_sections": true,
   "sideBar": true,
   "skip_h1_title": false,
   "title_cell": "Table of Contents",
   "title_sidebar": "Contents",
   "toc_cell": false,
   "toc_position": {},
   "toc_section_display": "block",
   "toc_window_display": false
  }
 },
 "nbformat": 4,
 "nbformat_minor": 2
}
