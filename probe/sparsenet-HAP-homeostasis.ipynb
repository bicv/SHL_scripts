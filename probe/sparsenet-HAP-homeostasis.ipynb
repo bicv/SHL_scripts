{
 "cells": [
  {
   "cell_type": "markdown",
   "metadata": {},
   "source": [
    "# Homeostasis à-la-SparseNet on the activation probability\n",
    "\n",
    "In this notebook, we test the convergence of SparseNet as a function of different learning parameters. This shows the relative robusteness of this method according to the coding parameters, but also the importance of homeostasis to obtain an efficient set of filters.\n",
    "\n",
    "See also :\n",
    "* http://blog.invibe.net/posts/2015-05-05-reproducing-olshausens-classical-sparsenet.html for a description of how SparseNet is implemented in the scikit-learn package\n",
    "* http://blog.invibe.net/posts/2015-05-06-reproducing-olshausens-classical-sparsenet-part-2.html for a descrtiption of how we managed to implement the homeostasis"
   ]
  },
  {
   "cell_type": "raw",
   "metadata": {
    "ExecuteTime": {
     "end_time": "2018-01-23T07:58:48.361547Z",
     "start_time": "2018-01-23T07:58:48.334855Z"
    }
   },
   "source": [
    "%load_ext autoreload\n",
    "%autoreload 2"
   ]
  },
  {
   "cell_type": "code",
   "execution_count": null,
   "metadata": {
    "ExecuteTime": {
     "end_time": "2018-02-07T16:01:55.424857Z",
     "start_time": "2018-02-07T16:01:54.677208Z"
    }
   },
   "outputs": [],
   "source": [
    "%matplotlib inline\n",
    "import matplotlib.pyplot as plt\n",
    "import numpy as np\n",
    "np.set_printoptions(precision=2, suppress=True)"
   ]
  },
  {
   "cell_type": "code",
   "execution_count": null,
   "metadata": {
    "ExecuteTime": {
     "end_time": "2018-02-07T16:01:55.794018Z",
     "start_time": "2018-02-07T16:01:55.427625Z"
    }
   },
   "outputs": [],
   "source": [
    "from shl_scripts.shl_experiments import SHL_set\n",
    "tag = 'HAP'\n",
    "homeo_params = dict(eta_homeo=0.05, alpha_homeo=0.02)\n",
    "opts = dict(homeo_method=tag, homeo_params=homeo_params, verbose=0)\n",
    "opts['n_iter'] = 2**11 + 1\n",
    "experiments = SHL_set(opts, tag=tag)\n",
    "list_figures = []\n",
    "list_figures = ['show_dico']"
   ]
  },
  {
   "cell_type": "code",
   "execution_count": null,
   "metadata": {
    "ExecuteTime": {
     "end_time": "2018-02-07T16:01:55.940064Z",
     "start_time": "2018-02-07T16:01:55.796401Z"
    },
    "scrolled": false
   },
   "outputs": [],
   "source": [
    "!ls -l {experiments.shl.data_cache}/{tag}*"
   ]
  },
  {
   "cell_type": "code",
   "execution_count": null,
   "metadata": {
    "ExecuteTime": {
     "end_time": "2018-02-07T16:01:56.205115Z",
     "start_time": "2018-02-07T16:01:55.943599Z"
    }
   },
   "outputs": [],
   "source": [
    "!rm -fr {experiments.shl.data_cache}/{tag}*lock*\n",
    "!rm -fr {experiments.shl.data_cache}/{tag}*\n",
    "#!rm -fr {shl.data_cache}/{tag}*"
   ]
  },
  {
   "cell_type": "code",
   "execution_count": null,
   "metadata": {
    "ExecuteTime": {
     "end_time": "2018-02-07T16:01:56.344764Z",
     "start_time": "2018-02-07T16:01:56.208671Z"
    }
   },
   "outputs": [],
   "source": [
    "!ls -l {experiments.shl.data_cache}/{tag}*"
   ]
  },
  {
   "cell_type": "raw",
   "metadata": {
    "ExecuteTime": {
     "end_time": "2018-01-19T14:18:13.936883Z",
     "start_time": "2018-01-19T14:18:13.537227Z"
    }
   },
   "source": [
    "!rm -fr {experiments.shl.data_cache}/data*"
   ]
  },
  {
   "cell_type": "markdown",
   "metadata": {},
   "source": [
    "## Homeostasis à-la-SparseNet on the activation probability"
   ]
  },
  {
   "cell_type": "code",
   "execution_count": null,
   "metadata": {
    "ExecuteTime": {
     "end_time": "2018-02-07T17:36:08.178537Z",
     "start_time": "2018-02-07T16:01:56.348313Z"
    },
    "scrolled": false
   },
   "outputs": [],
   "source": [
    "experiments.scan(vtype='eta', variable='eta', list_figures=list_figures, display='dynamic', display_variable='aerror')\n",
    "fig, ax = experiments.scan(vtype='eta', variable='eta', list_figures=[], display='final')"
   ]
  },
  {
   "cell_type": "code",
   "execution_count": null,
   "metadata": {
    "ExecuteTime": {
     "end_time": "2018-02-07T18:20:03.954434Z",
     "start_time": "2018-02-07T17:36:08.181717Z"
    },
    "scrolled": false
   },
   "outputs": [],
   "source": [
    "experiments.scan(vtype='homeo_params', variable='eta_homeo', list_figures=list_figures, display='dynamic')\n",
    "fig, ax = experiments.scan(vtype='homeo_params', variable='eta_homeo', list_figures=[], display='final')"
   ]
  },
  {
   "cell_type": "code",
   "execution_count": null,
   "metadata": {
    "ExecuteTime": {
     "end_time": "2018-02-07T19:03:46.783121Z",
     "start_time": "2018-02-07T18:20:03.958023Z"
    },
    "scrolled": false
   },
   "outputs": [],
   "source": [
    "experiments.scan(vtype='homeo_params', variable='alpha_homeo', list_figures=list_figures, display='dynamic')\n",
    "fig, ax = experiments.scan(vtype='homeo_params', variable='alpha_homeo', list_figures=[], display='final')"
   ]
  },
  {
   "cell_type": "markdown",
   "metadata": {},
   "source": [
    "## different sparseness\n"
   ]
  },
  {
   "cell_type": "code",
   "execution_count": null,
   "metadata": {
    "ExecuteTime": {
     "end_time": "2018-02-07T19:57:45.851143Z",
     "start_time": "2018-02-07T19:03:46.785079Z"
    },
    "scrolled": false
   },
   "outputs": [],
   "source": [
    "experiments.scan(vtype='', variable='l0_sparseness', base=4, list_figures=list_figures, display='dynamic')\n",
    "fig, ax = experiments.scan(vtype='', variable='l0_sparseness', base=4, list_figures=[], display='final')"
   ]
  },
  {
   "cell_type": "markdown",
   "metadata": {},
   "source": [
    "## Version used"
   ]
  },
  {
   "cell_type": "code",
   "execution_count": null,
   "metadata": {
    "ExecuteTime": {
     "end_time": "2018-02-07T19:57:45.906494Z",
     "start_time": "2018-02-07T19:57:45.853688Z"
    }
   },
   "outputs": [],
   "source": [
    "%load_ext version_information\n",
    "%version_information numpy, shl_scripts"
   ]
  }
 ],
 "metadata": {
  "kernelspec": {
   "display_name": "Python 3",
   "language": "python",
   "name": "python3"
  },
  "language_info": {
   "codemirror_mode": {
    "name": "ipython",
    "version": 3
   },
   "file_extension": ".py",
   "mimetype": "text/x-python",
   "name": "python",
   "nbconvert_exporter": "python",
   "pygments_lexer": "ipython3",
   "version": "3.6.4"
  },
  "toc": {
   "nav_menu": {
    "height": "99px",
    "width": "252px"
   },
   "number_sections": true,
   "sideBar": true,
   "skip_h1_title": false,
   "toc_cell": false,
   "toc_position": {},
   "toc_section_display": "block",
   "toc_window_display": false
  }
 },
 "nbformat": 4,
 "nbformat_minor": 2
}
