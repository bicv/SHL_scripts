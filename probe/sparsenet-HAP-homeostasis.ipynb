{
 "cells": [
  {
   "cell_type": "markdown",
   "metadata": {},
   "source": [
    "# Homeostasis à-la-SparseNet on the activation probability\n",
    "\n",
    "In this notebook, we test the convergence of SparseNet as a function of different learning parameters. This shows the relative robusteness of this method according to the coding parameters, but also the importance of homeostasis to obtain an efficient set of filters.\n",
    "\n",
    "See also :\n",
    "* http://blog.invibe.net/posts/2015-05-05-reproducing-olshausens-classical-sparsenet.html for a description of how SparseNet is implemented in the scikit-learn package\n",
    "* http://blog.invibe.net/posts/2015-05-06-reproducing-olshausens-classical-sparsenet-part-2.html for a descrtiption of how we managed to implement the homeostasis"
   ]
  },
  {
   "cell_type": "code",
   "execution_count": 1,
   "metadata": {
    "ExecuteTime": {
     "end_time": "2018-03-08T14:50:11.152152Z",
     "start_time": "2018-03-08T14:50:11.139861Z"
    }
   },
   "outputs": [],
   "source": [
    "%load_ext autoreload\n",
    "%autoreload 2"
   ]
  },
  {
   "cell_type": "code",
   "execution_count": 2,
   "metadata": {
    "ExecuteTime": {
     "end_time": "2018-03-08T14:50:11.416204Z",
     "start_time": "2018-03-08T14:50:11.154040Z"
    }
   },
   "outputs": [],
   "source": [
    "%matplotlib inline"
   ]
  },
  {
   "cell_type": "code",
   "execution_count": 3,
   "metadata": {
    "ExecuteTime": {
     "end_time": "2018-03-08T14:50:11.526019Z",
     "start_time": "2018-03-08T14:50:11.417941Z"
    }
   },
   "outputs": [],
   "source": [
    "from shl_scripts.shl_experiments import SHL_set\n",
    "tag = 'HAP'\n",
    "experiments = SHL_set({})"
   ]
  },
  {
   "cell_type": "code",
   "execution_count": 4,
   "metadata": {
    "ExecuteTime": {
     "end_time": "2018-03-08T14:50:11.541673Z",
     "start_time": "2018-03-08T14:50:11.528126Z"
    },
    "scrolled": true
   },
   "outputs": [
    {
     "name": "stdout",
     "output_type": "stream",
     "text": [
      "Overwriting data_cache/HAP.py\n"
     ]
    }
   ],
   "source": [
    "%%writefile {experiments.shl.data_cache}/{tag}.py\n",
    "\n",
    "import numpy as np\n",
    "np.set_printoptions(precision=2, suppress=True)\n",
    "\n",
    "try:\n",
    "    import sys\n",
    "    command = sys.argv[1]\n",
    "except:\n",
    "    command = 'run'\n",
    "\n",
    "from shl_scripts.shl_experiments import SHL_set\n",
    "tag = 'HAP'\n",
    "#opts = dict(homeo_method=tag, eta_homeo=0.01, alpha_homeo=0.7, verbose=0)\n",
    "opts = dict(homeo_method=tag, verbose=0)\n",
    "\n",
    "experiments = SHL_set(opts, tag=tag)\n",
    "\n",
    "variables = ['eta', 'alpha_homeo']\n",
    "variables = ['eta', 'alpha_homeo', 'eta_homeo', 'l0_sparseness']\n",
    "variables = ['eta', 'alpha_homeo', 'eta_homeo']\n",
    "\n",
    "if command == 'run':\n",
    "    experiments.run(variables=variables)\n",
    "\n",
    "if command == 'plot':\n",
    "    import matplotlib.pyplot as plt\n",
    "\n",
    "    #fig, ax = experiments.scan(variable='eta', list_figures=[], display='dynamic')\n",
    "    #fig, ax = experiments.scan(variable='eta', list_figures=[], display='final')\n",
    "    list_figures = []\n",
    "    list_figures = ['show_dico']\n",
    "    display_variables = ['error', 'logL', 'cputime']\n",
    "    for variable in variables:\n",
    "        experiments = SHL_set(opts, tag=tag)\n",
    "        experiments.scan(variable=variable, list_figures=list_figures, display='')\n",
    "        plt.show()\n",
    "\n",
    "        for display_variable in display_variables:\n",
    "            print('Time evolution of ', display_variable)\n",
    "            fig, ax = experiments.scan(variable=variable, list_figures=[], display='dynamic', display_variable=display_variable)\n",
    "            plt.show()\n",
    "        plt.show()\n",
    "\n",
    "        for display_variable in display_variables:\n",
    "            print('Comparison at the end of learning for ', display_variable)\n",
    "            fig, ax = experiments.scan(variable=variable, list_figures=[], display='final', \n",
    "                                       label=tag, display_variable=display_variable)\n",
    "            plt.show()\n",
    "        "
   ]
  },
  {
   "cell_type": "code",
   "execution_count": 5,
   "metadata": {
    "ExecuteTime": {
     "end_time": "2018-03-08T14:50:11.796870Z",
     "start_time": "2018-03-08T14:50:11.543376Z"
    },
    "scrolled": false
   },
   "outputs": [
    {
     "name": "stdout",
     "output_type": "stream",
     "text": [
      "-rw-r--r--  1 laurentperrinet  staff  1702 Mar  8 15:50 data_cache/HAP.py\r\n"
     ]
    }
   ],
   "source": [
    "!ls -l {experiments.shl.data_cache}/{tag}*\n",
    "!rm -fr {experiments.shl.data_cache}/{tag}*lock*"
   ]
  },
  {
   "cell_type": "raw",
   "metadata": {
    "ExecuteTime": {
     "end_time": "2018-03-08T14:01:27.801976Z",
     "start_time": "2018-03-08T14:01:27.544681Z"
    }
   },
   "source": [
    "!rm -fr {experiments.shl.data_cache}/{tag}*\n",
    "!ls -l {experiments.shl.data_cache}/{tag}*\n",
    "#!rm -fr {experiments.shl.data_cache}/data*"
   ]
  },
  {
   "cell_type": "code",
   "execution_count": 6,
   "metadata": {
    "ExecuteTime": {
     "end_time": "2018-03-08T14:50:11.814236Z",
     "start_time": "2018-03-08T14:50:11.799458Z"
    }
   },
   "outputs": [],
   "source": [
    "toto = ['eta'] * 8"
   ]
  },
  {
   "cell_type": "code",
   "execution_count": 7,
   "metadata": {
    "ExecuteTime": {
     "end_time": "2018-03-08T14:50:11.829306Z",
     "start_time": "2018-03-08T14:50:11.816397Z"
    }
   },
   "outputs": [],
   "source": [
    "toto.extend(['tata'] * 8)"
   ]
  },
  {
   "cell_type": "code",
   "execution_count": 8,
   "metadata": {
    "ExecuteTime": {
     "end_time": "2018-03-08T14:50:11.846512Z",
     "start_time": "2018-03-08T14:50:11.831362Z"
    }
   },
   "outputs": [
    {
     "data": {
      "text/plain": [
       "['eta',\n",
       " 'eta',\n",
       " 'eta',\n",
       " 'eta',\n",
       " 'eta',\n",
       " 'eta',\n",
       " 'eta',\n",
       " 'eta',\n",
       " 'tata',\n",
       " 'tata',\n",
       " 'tata',\n",
       " 'tata',\n",
       " 'tata',\n",
       " 'tata',\n",
       " 'tata',\n",
       " 'tata']"
      ]
     },
     "execution_count": 8,
     "metadata": {},
     "output_type": "execute_result"
    }
   ],
   "source": [
    "toto"
   ]
  },
  {
   "cell_type": "code",
   "execution_count": null,
   "metadata": {
    "ExecuteTime": {
     "start_time": "2018-03-08T14:50:11.144Z"
    },
    "scrolled": false
   },
   "outputs": [
    {
     "name": "stdout",
     "output_type": "stream",
     "text": [
      "['eta', 'eta', 'eta', 'eta', 'eta', 'eta', 'eta', 'alpha_homeo', 'alpha_homeo', 'alpha_homeo', 'alpha_homeo', 'alpha_homeo', 'alpha_homeo', 'alpha_homeo', 'eta_homeo', 'eta_homeo', 'eta_homeo', 'eta_homeo', 'eta_homeo', 'eta_homeo', 'eta_homeo'] [0.   0.   0.   0.   0.   0.01 0.01 0.1  0.16 0.25 0.4  0.63 1.01 1.6\n",
      " 0.01 0.01 0.01 0.02 0.03 0.05 0.08]\n",
      "eta 0.0005\n",
      "eta 0.0007937005259840997\n",
      "eta 0.0012599210498948732\n",
      "eta 0.002\n",
      "eta 0.003174802103936399\n",
      "eta 0.005039684199579492\n",
      "eta 0.008\n",
      "alpha_homeo 0.1\n",
      "alpha_homeo 0.15874010519681994\n",
      "alpha_homeo 0.25198420997897464\n",
      "alpha_homeo 0.4\n",
      "alpha_homeo 0.6349604207872798\n",
      "alpha_homeo 1.0079368399158983\n",
      "alpha_homeo 1.6\n",
      "eta_homeo 0.005\n",
      "eta_homeo 0.007937005259840996\n",
      "eta_homeo 0.012599210498948733\n",
      "eta_homeo 0.02\n",
      "eta_homeo 0.031748021039363986\n",
      "eta_homeo 0.050396841995794917\n",
      "eta_homeo 0.08\n"
     ]
    }
   ],
   "source": [
    "%run {experiments.shl.data_cache}/{tag}.py run"
   ]
  },
  {
   "cell_type": "code",
   "execution_count": null,
   "metadata": {
    "ExecuteTime": {
     "start_time": "2018-03-08T14:50:11.148Z"
    },
    "scrolled": false
   },
   "outputs": [],
   "source": [
    "%run {experiments.shl.data_cache}/{tag}.py plot"
   ]
  },
  {
   "cell_type": "raw",
   "metadata": {
    "ExecuteTime": {
     "start_time": "2018-02-22T12:11:32.042Z"
    },
    "scrolled": false
   },
   "source": [
    "#fig, ax = experiments.scan(variable='eta', list_figures=[], display='dynamic')\n",
    "#fig, ax = experiments.scan(variable='eta', list_figures=[], display='final')\n",
    "list_figures = ['show_dico']\n",
    "display_variables = ['error', 'logL', 'cputime']\n",
    "for variable in ['eta', 'alpha_homeo', 'eta_homeo', 'l0_sparseness']:\n",
    "    experiments = SHL_set(opts, tag=tag)\n",
    "    experiments.scan(variable='eta', list_figures=[], display='')\n",
    "    plt.show()\n",
    "    fig, ax = experiments.scan(variable=variable, list_figures=[], display='dynamic')\n",
    "    plt.show()\n",
    "    for display_variable in display_variables:\n",
    "        print(display_variable)\n",
    "        fig, ax = experiments.scan(variable=variable, list_figures=[], display='final', \n",
    "                                   label=tag, display_variable=display_variable)\n",
    "        plt.show()\n"
   ]
  },
  {
   "cell_type": "markdown",
   "metadata": {},
   "source": [
    "## Version used"
   ]
  },
  {
   "cell_type": "code",
   "execution_count": null,
   "metadata": {
    "ExecuteTime": {
     "start_time": "2018-03-08T14:50:11.164Z"
    }
   },
   "outputs": [],
   "source": [
    "%load_ext version_information\n",
    "%version_information numpy, shl_scripts, pandas"
   ]
  }
 ],
 "metadata": {
  "kernelspec": {
   "display_name": "Python 3",
   "language": "python",
   "name": "python3"
  },
  "language_info": {
   "codemirror_mode": {
    "name": "ipython",
    "version": 3
   },
   "file_extension": ".py",
   "mimetype": "text/x-python",
   "name": "python",
   "nbconvert_exporter": "python",
   "pygments_lexer": "ipython3",
   "version": "3.6.4"
  },
  "toc": {
   "nav_menu": {
    "height": "99px",
    "width": "252px"
   },
   "number_sections": true,
   "sideBar": true,
   "skip_h1_title": false,
   "title_cell": "Table of Contents",
   "title_sidebar": "Contents",
   "toc_cell": false,
   "toc_position": {},
   "toc_section_display": "block",
   "toc_window_display": false
  }
 },
 "nbformat": 4,
 "nbformat_minor": 2
}
