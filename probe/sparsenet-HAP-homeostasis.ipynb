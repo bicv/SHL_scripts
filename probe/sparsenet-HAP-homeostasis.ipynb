{
 "cells": [
  {
   "cell_type": "markdown",
   "metadata": {},
   "source": [
    "# Homeostasis à-la-SparseNet on the activation probability\n",
    "\n",
    "In this notebook, we test the convergence of SparseNet as a function of different learning parameters. This shows the relative robusteness of this method according to the coding parameters, but also the importance of homeostasis to obtain an efficient set of filters.\n",
    "\n",
    "See also :\n",
    "* http://blog.invibe.net/posts/2015-05-05-reproducing-olshausens-classical-sparsenet.html for a description of how SparseNet is implemented in the scikit-learn package\n",
    "* http://blog.invibe.net/posts/2015-05-06-reproducing-olshausens-classical-sparsenet-part-2.html for a descrtiption of how we managed to implement the homeostasis"
   ]
  },
  {
   "cell_type": "raw",
   "metadata": {
    "ExecuteTime": {
     "end_time": "2018-01-23T07:58:48.361547Z",
     "start_time": "2018-01-23T07:58:48.334855Z"
    }
   },
   "source": [
    "%load_ext autoreload\n",
    "%autoreload 2"
   ]
  },
  {
   "cell_type": "code",
   "execution_count": 1,
   "metadata": {
    "ExecuteTime": {
     "end_time": "2018-02-13T15:29:40.995335Z",
     "start_time": "2018-02-13T15:29:40.363853Z"
    }
   },
   "outputs": [],
   "source": [
    "%matplotlib inline\n",
    "import matplotlib.pyplot as plt\n",
    "import numpy as np\n",
    "np.set_printoptions(precision=2, suppress=True)"
   ]
  },
  {
   "cell_type": "raw",
   "metadata": {
    "ExecuteTime": {
     "end_time": "2018-02-13T15:29:41.175225Z",
     "start_time": "2018-02-13T15:29:40.999142Z"
    }
   },
   "source": [
    "from shl_scripts.shl_experiments import SHL_set\n",
    "tag = 'HAP'\n",
    "opts = dict(homeo_method=tag, eta_homeo=0.05, alpha_homeo=0.02, verbose=0)\n",
    "experiments = SHL_set(opts, tag=tag)"
   ]
  },
  {
   "cell_type": "code",
   "execution_count": 3,
   "metadata": {
    "ExecuteTime": {
     "end_time": "2018-02-13T15:29:41.196693Z",
     "start_time": "2018-02-13T15:29:41.186388Z"
    }
   },
   "outputs": [
    {
     "name": "stdout",
     "output_type": "stream",
     "text": [
      "Writing data_cache/HAP.py\n"
     ]
    }
   ],
   "source": [
    "%%writefile {experiments.shl.data_cache}/{tag}.py\n",
    "\n",
    "from shl_scripts.shl_experiments import SHL_set\n",
    "tag = 'HAP'\n",
    "opts = dict(homeo_method=tag, eta_homeo=0.05, alpha_homeo=0.02, verbose=0)\n",
    "experiments = SHL_set(opts, tag=tag)\n",
    "list_figures = []\n",
    "\n",
    "for variable in ['eta', 'alpha_homeo', 'eta_homeo', 'l0_sparseness']:\n",
    "    experiments.scan(variable=variable, list_figures=list_figures, display='')\n"
   ]
  },
  {
   "cell_type": "code",
   "execution_count": null,
   "metadata": {
    "ExecuteTime": {
     "start_time": "2018-02-13T15:29:40.333Z"
    },
    "scrolled": false
   },
   "outputs": [
    {
     "name": "stdout",
     "output_type": "stream",
     "text": [
      "-rw-r--r--  1 laurentperrinet  staff  340 Feb 13 16:29 data_cache/HAP.py\r\n"
     ]
    }
   ],
   "source": [
    "!ls -l {experiments.shl.data_cache}/{tag}*"
   ]
  },
  {
   "cell_type": "raw",
   "metadata": {
    "ExecuteTime": {
     "end_time": "2018-02-13T15:29:29.981957Z",
     "start_time": "2018-02-13T15:29:29.682484Z"
    }
   },
   "source": [
    "!rm -fr {experiments.shl.data_cache}/{tag}*lock*\n",
    "!rm -fr {experiments.shl.data_cache}/{tag}*\n",
    "#!rm -fr {shl.data_cache}/{tag}*"
   ]
  },
  {
   "cell_type": "raw",
   "metadata": {
    "ExecuteTime": {
     "end_time": "2018-02-08T20:54:23.877723Z",
     "start_time": "2018-02-08T20:54:23.755045Z"
    }
   },
   "source": [
    "!ls -l {experiments.shl.data_cache}/{tag}*"
   ]
  },
  {
   "cell_type": "raw",
   "metadata": {
    "ExecuteTime": {
     "end_time": "2018-01-19T14:18:13.936883Z",
     "start_time": "2018-01-19T14:18:13.537227Z"
    }
   },
   "source": [
    "!rm -fr {experiments.shl.data_cache}/data*"
   ]
  },
  {
   "cell_type": "code",
   "execution_count": null,
   "metadata": {
    "ExecuteTime": {
     "start_time": "2018-02-13T15:29:40.418Z"
    },
    "scrolled": false
   },
   "outputs": [],
   "source": [
    "%run {experiments.shl.data_cache}/{tag}.py"
   ]
  },
  {
   "cell_type": "markdown",
   "metadata": {},
   "source": [
    "## Homeostasis à-la-SparseNet on the activation probability"
   ]
  },
  {
   "cell_type": "code",
   "execution_count": null,
   "metadata": {
    "ExecuteTime": {
     "start_time": "2018-02-13T15:29:40.431Z"
    },
    "scrolled": false
   },
   "outputs": [],
   "source": [
    "#fig, ax = experiments.scan(variable='eta', list_figures=[], display='dynamic')\n",
    "#fig, ax = experiments.scan(variable='eta', list_figures=[], display='final')\n",
    "list_figures = ['show_dico']\n",
    "display_variables = ['error', 'qerror', 'aerror', 'perror', 'cputime']\n",
    "for variable in ['eta', 'alpha_homeo', 'eta_homeo', 'l0_sparseness']:\n",
    "    experiments = SHL_set(opts, tag=tag)\n",
    "    experiments.scan(variable='eta', list_figures=[], display='')\n",
    "    plt.show()\n",
    "    fig, ax = experiments.scan(variable=variable, list_figures=[], display='dynamic')\n",
    "    plt.show()\n",
    "    for display_variable in display_variables:\n",
    "        fig, ax = experiments.scan(variable=variable, list_figures=[], display='final', \n",
    "                                   fig=fig, ax=ax, label=tag, display_variable=display_variable)\n",
    "        plt.show()\n"
   ]
  },
  {
   "cell_type": "raw",
   "metadata": {
    "ExecuteTime": {
     "start_time": "2018-02-13T08:24:42.526Z"
    },
    "scrolled": false
   },
   "source": [
    "experiments.scan(variable='eta_homeo', list_figures=[], display='')\n",
    "fig, ax = experiments.scan(variable='eta_homeo', list_figures=[], display='dynamic')\n",
    "fig, ax = experiments.scan(variable='eta_homeo', list_figures=[], display='final')"
   ]
  },
  {
   "cell_type": "raw",
   "metadata": {
    "ExecuteTime": {
     "start_time": "2018-02-13T08:24:42.531Z"
    },
    "scrolled": false
   },
   "source": [
    "fig, ax = experiments.scan(variable='alpha_homeo', list_figures=[], display='dynamic')\n",
    "fig, ax = experiments.scan(variable='alpha_homeo', list_figures=[], display='final')"
   ]
  },
  {
   "cell_type": "markdown",
   "metadata": {},
   "source": [
    "## different sparseness\n"
   ]
  },
  {
   "cell_type": "raw",
   "metadata": {
    "ExecuteTime": {
     "start_time": "2018-02-13T08:24:42.536Z"
    },
    "scrolled": false
   },
   "source": [
    "fig, ax = experiments.scan(variable='l0_sparseness', base=4, list_figures=[], display='dynamic')\n",
    "fig, ax = experiments.scan(variable='l0_sparseness', base=4, list_figures=[], display='final')"
   ]
  },
  {
   "cell_type": "markdown",
   "metadata": {},
   "source": [
    "## Version used"
   ]
  },
  {
   "cell_type": "code",
   "execution_count": null,
   "metadata": {
    "ExecuteTime": {
     "start_time": "2018-02-13T15:29:40.534Z"
    }
   },
   "outputs": [],
   "source": [
    "%load_ext version_information\n",
    "%version_information numpy, shl_scripts, pandas"
   ]
  }
 ],
 "metadata": {
  "kernelspec": {
   "display_name": "Python 3",
   "language": "python",
   "name": "python3"
  },
  "language_info": {
   "codemirror_mode": {
    "name": "ipython",
    "version": 3
   },
   "file_extension": ".py",
   "mimetype": "text/x-python",
   "name": "python",
   "nbconvert_exporter": "python",
   "pygments_lexer": "ipython3",
   "version": "3.6.4"
  },
  "toc": {
   "nav_menu": {
    "height": "99px",
    "width": "252px"
   },
   "number_sections": true,
   "sideBar": true,
   "skip_h1_title": false,
   "toc_cell": false,
   "toc_position": {},
   "toc_section_display": "block",
   "toc_window_display": false
  }
 },
 "nbformat": 4,
 "nbformat_minor": 2
}
