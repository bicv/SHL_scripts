{
 "cells": [
  {
   "cell_type": "markdown",
   "metadata": {},
   "source": [
    "# Homeostasis à-la-SparseNet on the activation probability\n",
    "\n",
    "In this notebook, we test the convergence of SparseNet as a function of different learning parameters. This shows the relative robusteness of this method according to the coding parameters, but also the importance of homeostasis to obtain an efficient set of filters.\n",
    "\n",
    "See also :\n",
    "* http://blog.invibe.net/posts/2015-05-05-reproducing-olshausens-classical-sparsenet.html for a description of how SparseNet is implemented in the scikit-learn package\n",
    "* http://blog.invibe.net/posts/2015-05-06-reproducing-olshausens-classical-sparsenet-part-2.html for a descrtiption of how we managed to implement the homeostasis"
   ]
  },
  {
   "cell_type": "code",
   "execution_count": 1,
   "metadata": {
    "ExecuteTime": {
     "end_time": "2018-09-28T13:29:56.745768Z",
     "start_time": "2018-09-28T13:29:56.691047Z"
    }
   },
   "outputs": [],
   "source": [
    "%load_ext autoreload\n",
    "%autoreload 2"
   ]
  },
  {
   "cell_type": "code",
   "execution_count": 2,
   "metadata": {
    "ExecuteTime": {
     "end_time": "2018-09-28T13:29:58.936074Z",
     "start_time": "2018-09-28T13:29:56.757570Z"
    }
   },
   "outputs": [],
   "source": [
    "%matplotlib inline"
   ]
  },
  {
   "cell_type": "code",
   "execution_count": 3,
   "metadata": {
    "ExecuteTime": {
     "end_time": "2018-09-28T13:29:59.656326Z",
     "start_time": "2018-09-28T13:29:58.952091Z"
    }
   },
   "outputs": [],
   "source": [
    "from shl_scripts import SHL_set\n",
    "tag = 'HAP'\n",
    "experiments = SHL_set({})"
   ]
  },
  {
   "cell_type": "code",
   "execution_count": 4,
   "metadata": {
    "ExecuteTime": {
     "end_time": "2018-09-28T13:29:59.747806Z",
     "start_time": "2018-09-28T13:29:59.667573Z"
    },
    "scrolled": true
   },
   "outputs": [
    {
     "name": "stdout",
     "output_type": "stream",
     "text": [
      "Overwriting cache_dir/HAP.py\n"
     ]
    }
   ],
   "source": [
    "%%writefile {experiments.shl.cache_dir}/{tag}.py\n",
    "\n",
    "import numpy as np\n",
    "np.set_printoptions(precision=2, suppress=True)\n",
    "\n",
    "try:\n",
    "    import sys\n",
    "    command = sys.argv[1]\n",
    "except:\n",
    "    command = 'run'\n",
    "try:\n",
    "    n_jobs = sys.argv[2]\n",
    "except:\n",
    "    n_jobs = 1\n",
    "    n_jobs = 9\n",
    "    n_jobs = 35\n",
    "    n_jobs = 4\n",
    "    n_jobs = 10\n",
    "\n",
    "from shl_scripts.shl_experiments import SHL_set\n",
    "tag = 'HAP'\n",
    "opts = dict(homeo_method=tag, verbose=0)\n",
    "\n",
    "experiments = SHL_set(opts, tag=tag)\n",
    "\n",
    "variables = ['eta']\n",
    "variables = ['eta', 'alpha_homeo']\n",
    "variables = ['eta', 'eta_homeo', 'alpha_MP', 'eta_precision', ]\n",
    "variables = ['eta', 'eta_homeo', 'alpha_MP']\n",
    "variables = ['eta', 'eta_homeo', 'l0_sparseness']\n",
    "#variables = ['eta', 'eta_homeo']\n",
    "\n",
    "list_figures = []\n",
    "list_figures = ['show_dico', 'show_Pcum']\n",
    "list_figures = ['show_dico', ]\n",
    "\n",
    "display_variables = ['error', 'logL', 'perror', 'aerror', 'MI', 'cputime', 'F']\n",
    "display_variables = ['error', 'qerror', 'F']\n",
    "\n",
    "if command == 'run':\n",
    "    experiments.run(variables=variables, n_jobs=n_jobs)\n",
    "\n",
    "if command == 'plot':\n",
    "    import matplotlib.pyplot as plt\n",
    "    for variable in variables:\n",
    "        experiments = SHL_set(opts, tag=tag)\n",
    "        experiments.scan(variable=variable, list_figures=list_figures, display='', fig_kwargs={'dim_graph':(2, 15)}, verbose=1)\n",
    "        plt.show()\n",
    "\n",
    "        for display_variable in display_variables:\n",
    "            print('Time evolution of ', display_variable)\n",
    "            fig, ax = experiments.scan(variable=variable, list_figures=[], display='dynamic', display_variable=display_variable)\n",
    "            plt.show()\n",
    "        plt.show()\n",
    "\n",
    "        for display_variable in display_variables:\n",
    "            print('Comparison at the end of learning for ', display_variable)\n",
    "            fig, ax = experiments.scan(variable=variable, list_figures=[], display='final', \n",
    "                                       label=tag, display_variable=display_variable)\n",
    "            plt.show()\n",
    "        "
   ]
  },
  {
   "cell_type": "code",
   "execution_count": 5,
   "metadata": {
    "ExecuteTime": {
     "end_time": "2018-09-28T13:30:00.293572Z",
     "start_time": "2018-09-28T13:29:59.758885Z"
    }
   },
   "outputs": [],
   "source": [
    "%run {experiments.shl.cache_dir}/{tag}.py load"
   ]
  },
  {
   "cell_type": "code",
   "execution_count": 6,
   "metadata": {},
   "outputs": [
    {
     "name": "stdout",
     "output_type": "stream",
     "text": [
      "# of pixels per patch = 441\n"
     ]
    }
   ],
   "source": [
    "print('# of pixels per patch =', experiments.shl.patch_width**2)"
   ]
  },
  {
   "cell_type": "raw",
   "metadata": {},
   "source": [
    "import pickle\n",
    "fmatname = 'cache_dir/HAP_eta_homeo=0.04000_dico.pkl'\n",
    "\n",
    "with open(fmatname, 'rb') as fp:\n",
    "    dico = pickle.load(fp)\n"
   ]
  },
  {
   "cell_type": "raw",
   "metadata": {},
   "source": [
    "dico.dictionary.shape"
   ]
  },
  {
   "cell_type": "code",
   "execution_count": 7,
   "metadata": {},
   "outputs": [
    {
     "data": {
      "text/plain": [
       "(26.0, 64.0)"
      ]
     },
     "execution_count": 7,
     "metadata": {},
     "output_type": "execute_result"
    }
   ],
   "source": [
    "676**.5, 4096**.5"
   ]
  },
  {
   "cell_type": "code",
   "execution_count": 8,
   "metadata": {
    "ExecuteTime": {
     "end_time": "2018-09-28T13:30:00.765295Z",
     "start_time": "2018-09-28T13:30:00.306864Z"
    }
   },
   "outputs": [
    {
     "name": "stdout",
     "output_type": "stream",
     "text": [
      "-rw-r--r--  1 laurentperrinet  staff     1846 Jul 19 11:14 cache_dir/HAP.py\n",
      "-rw-r--r--  1 laurentperrinet  staff  7589089 Jul 17 21:14 cache_dir/HAP_eta=0.00125_dico.pkl\n",
      "-rw-r--r--  1 laurentperrinet  staff  7589089 Jul 17 21:18 cache_dir/HAP_eta=0.00177_dico.pkl\n",
      "-rw-r--r--  1 laurentperrinet  staff  7589089 Jul 17 21:15 cache_dir/HAP_eta=0.00250_dico.pkl\n",
      "-rw-r--r--  1 laurentperrinet  staff  7589089 Jul 17 21:16 cache_dir/HAP_eta=0.00354_dico.pkl\n",
      "-rw-r--r--  1 laurentperrinet  staff  7589089 Jul 17 21:11 cache_dir/HAP_eta=0.00500_dico.pkl\n",
      "-rw-r--r--  1 laurentperrinet  staff  7589089 Jul 17 21:18 cache_dir/HAP_eta=0.00707_dico.pkl\n",
      "-rw-r--r--  1 laurentperrinet  staff  7589089 Jul 17 21:17 cache_dir/HAP_eta=0.01000_dico.pkl\n",
      "-rw-r--r--  1 laurentperrinet  staff  7589089 Jul 17 21:14 cache_dir/HAP_eta=0.01414_dico.pkl\n",
      "-rw-r--r--  1 laurentperrinet  staff  7589089 Jul 17 21:13 cache_dir/HAP_eta=0.02000_dico.pkl\n",
      "-rw-r--r--  1 laurentperrinet  staff  7589089 Jul 17 21:15 cache_dir/HAP_eta_homeo=0.01000_dico.pkl\n",
      "-rw-r--r--  1 laurentperrinet  staff  7589089 Jul 18 06:26 cache_dir/HAP_eta_homeo=0.01414_dico.pkl\n",
      "-rw-r--r--  1 laurentperrinet  staff  7589089 Jul 18 06:30 cache_dir/HAP_eta_homeo=0.02000_dico.pkl\n",
      "-rw-r--r--  1 laurentperrinet  staff  7589089 Jul 18 06:27 cache_dir/HAP_eta_homeo=0.02828_dico.pkl\n",
      "-rw-r--r--  1 laurentperrinet  staff  7589089 Jul 18 06:31 cache_dir/HAP_eta_homeo=0.04000_dico.pkl\n",
      "-rw-r--r--  1 laurentperrinet  staff  7589089 Jul 18 06:30 cache_dir/HAP_eta_homeo=0.05657_dico.pkl\n",
      "-rw-r--r--  1 laurentperrinet  staff  7589089 Jul 18 06:29 cache_dir/HAP_eta_homeo=0.08000_dico.pkl\n",
      "-rw-r--r--  1 laurentperrinet  staff  7589089 Jul 18 06:32 cache_dir/HAP_eta_homeo=0.11314_dico.pkl\n",
      "-rw-r--r--  1 laurentperrinet  staff  7589089 Jul 18 06:31 cache_dir/HAP_eta_homeo=0.16000_dico.pkl\n"
     ]
    }
   ],
   "source": [
    "!ls -l {experiments.shl.cache_dir}/{tag}*\n",
    "!rm -fr {experiments.shl.cache_dir}/{tag}*lock*"
   ]
  },
  {
   "cell_type": "raw",
   "metadata": {
    "ExecuteTime": {
     "end_time": "2018-09-28T13:30:01.235269Z",
     "start_time": "2018-09-28T13:30:00.787402Z"
    }
   },
   "source": [
    "# this removes older computations and restarts computations\n",
    "!rm -fr {experiments.shl.cache_dir}/{tag}*pkl\n",
    "!ls -l {experiments.shl.cache_dir}/{tag}*"
   ]
  },
  {
   "cell_type": "code",
   "execution_count": null,
   "metadata": {
    "ExecuteTime": {
     "start_time": "2018-09-28T13:29:56.806Z"
    },
    "scrolled": true
   },
   "outputs": [
    {
     "name": "stderr",
     "output_type": "stream",
     "text": [
      "[Parallel(n_jobs=10)]: Using backend LokyBackend with 10 concurrent workers.\n",
      "[Parallel(n_jobs=10)]: Done   1 tasks      | elapsed:    2.7s\n",
      "[Parallel(n_jobs=10)]: Done   2 tasks      | elapsed:    2.7s\n",
      "[Parallel(n_jobs=10)]: Done   3 tasks      | elapsed:    2.7s\n",
      "[Parallel(n_jobs=10)]: Done   4 tasks      | elapsed:    2.7s\n",
      "[Parallel(n_jobs=10)]: Done   5 tasks      | elapsed:    2.8s\n",
      "[Parallel(n_jobs=10)]: Done   6 tasks      | elapsed:    2.8s\n",
      "[Parallel(n_jobs=10)]: Done   7 tasks      | elapsed:    2.8s\n",
      "[Parallel(n_jobs=10)]: Done   8 tasks      | elapsed:    2.8s\n",
      "[Parallel(n_jobs=10)]: Done  10 out of  27 | elapsed:    2.8s remaining:    4.7s\n",
      "[Parallel(n_jobs=10)]: Done  12 out of  27 | elapsed:    2.8s remaining:    3.5s\n",
      "[Parallel(n_jobs=10)]: Done  14 out of  27 | elapsed:    2.8s remaining:    2.6s\n",
      "[Parallel(n_jobs=10)]: Done  16 out of  27 | elapsed:    2.8s remaining:    1.9s\n",
      "[Parallel(n_jobs=10)]: Done  18 out of  27 | elapsed: 64.2min remaining: 32.1min\n",
      "[Parallel(n_jobs=10)]: Done  20 out of  27 | elapsed: 100.4min remaining: 35.1min\n",
      "[Parallel(n_jobs=10)]: Done  22 out of  27 | elapsed: 127.2min remaining: 28.9min\n",
      "[Parallel(n_jobs=10)]: Done  24 out of  27 | elapsed: 159.8min remaining: 20.0min\n"
     ]
    }
   ],
   "source": [
    "%run {experiments.shl.cache_dir}/{tag}.py run"
   ]
  },
  {
   "cell_type": "code",
   "execution_count": null,
   "metadata": {
    "ExecuteTime": {
     "start_time": "2018-09-28T13:29:56.853Z"
    }
   },
   "outputs": [],
   "source": [
    "%run {experiments.shl.cache_dir}/{tag}.py plot"
   ]
  },
  {
   "cell_type": "code",
   "execution_count": null,
   "metadata": {
    "ExecuteTime": {
     "start_time": "2018-09-28T13:29:56.872Z"
    }
   },
   "outputs": [],
   "source": [
    "%load_ext version_information\n",
    "%version_information shl_scripts, numpy, shl_scripts, pandas, matplotlib"
   ]
  }
 ],
 "metadata": {
  "kernelspec": {
   "display_name": "Python 3",
   "language": "python",
   "name": "python3"
  },
  "language_info": {
   "codemirror_mode": {
    "name": "ipython",
    "version": 3
   },
   "file_extension": ".py",
   "mimetype": "text/x-python",
   "name": "python",
   "nbconvert_exporter": "python",
   "pygments_lexer": "ipython3",
   "version": "3.7.4"
  },
  "toc": {
   "base_numbering": 1,
   "nav_menu": {
    "height": "99px",
    "width": "252px"
   },
   "number_sections": true,
   "sideBar": true,
   "skip_h1_title": false,
   "title_cell": "Table of Contents",
   "title_sidebar": "Contents",
   "toc_cell": false,
   "toc_position": {},
   "toc_section_display": "block",
   "toc_window_display": false
  }
 },
 "nbformat": 4,
 "nbformat_minor": 4
}
