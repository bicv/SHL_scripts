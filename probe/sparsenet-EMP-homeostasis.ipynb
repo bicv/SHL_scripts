{
 "cells": [
  {
   "cell_type": "markdown",
   "metadata": {},
   "source": [
    "# Homeostasis à-la-SparseNet on the activation probability\n",
    "\n",
    "In this notebook, we test the convergence of SparseNet as a function of different learning parameters. This shows the relative robusteness of this method according to the coding parameters, but also the importance of homeostasis to obtain an efficient set of filters.\n",
    "\n",
    "See also :\n",
    "* http://blog.invibe.net/posts/2015-05-05-reproducing-olshausens-classical-sparsenet.html for a description of how SparseNet is implemented in the scikit-learn package\n",
    "* http://blog.invibe.net/posts/2015-05-06-reproducing-olshausens-classical-sparsenet-part-2.html for a descrtiption of how we managed to implement the homeostasis"
   ]
  },
  {
   "cell_type": "code",
   "execution_count": 1,
   "metadata": {
    "ExecuteTime": {
     "end_time": "2018-01-31T17:20:14.134396Z",
     "start_time": "2018-01-31T17:20:14.104215Z"
    }
   },
   "outputs": [],
   "source": [
    "%load_ext autoreload\n",
    "%autoreload 2"
   ]
  },
  {
   "cell_type": "code",
   "execution_count": 2,
   "metadata": {
    "ExecuteTime": {
     "end_time": "2018-01-31T17:20:14.804358Z",
     "start_time": "2018-01-31T17:20:14.136826Z"
    }
   },
   "outputs": [],
   "source": [
    "%matplotlib inline\n",
    "import matplotlib.pyplot as plt\n",
    "import numpy as np\n",
    "np.set_printoptions(precision=2, suppress=True)"
   ]
  },
  {
   "cell_type": "code",
   "execution_count": 3,
   "metadata": {
    "ExecuteTime": {
     "end_time": "2018-01-31T17:20:15.925459Z",
     "start_time": "2018-01-31T17:20:14.807388Z"
    }
   },
   "outputs": [],
   "source": [
    "from shl_scripts.shl_experiments import SHL_set\n",
    "tag = 'EMP'\n",
    "opts = dict(homeo_method=tag, eta_homeo=0.01, alpha_homeo=0.1, verbose=0)\n",
    "experiments = SHL_set(opts, tag=tag)\n",
    "list_figures = ['show_dico']\n",
    "list_figures = []\n",
    "display_variables = ['error', 'logL', 'cputime']\n"
   ]
  },
  {
   "cell_type": "code",
   "execution_count": 4,
   "metadata": {
    "ExecuteTime": {
     "end_time": "2018-01-31T17:20:16.556488Z",
     "start_time": "2018-01-31T17:20:15.933696Z"
    }
   },
   "outputs": [],
   "source": [
    "!rm -fr {experiments.shl.data_cache}/{tag}*lock*\n",
    "#!rm -fr {experiments.shl.data_cache}/{tag}*"
   ]
  },
  {
   "cell_type": "markdown",
   "metadata": {},
   "source": [
    "## Homeostasis à-la-SparseNet on the activation probability"
   ]
  },
  {
   "cell_type": "code",
   "execution_count": 5,
   "metadata": {
    "ExecuteTime": {
     "end_time": "2018-01-31T17:20:20.778749Z",
     "start_time": "2018-01-31T17:20:16.561399Z"
    },
    "scrolled": false
   },
   "outputs": [
    {
     "name": "stdout",
     "output_type": "stream",
     "text": [
      "While processing  EMP - eta=0.00030000000000000003 _lock_pid-56604_host-ada\n",
      "We encountered error 'qerror'  with <shl_scripts.shl_learn.SparseHebbianLearning object at 0x1125836d8>\n",
      "While processing  EMP - eta=0.000646330407009565 _lock_pid-56604_host-ada\n",
      "We encountered error 'qerror'  with <shl_scripts.shl_learn.SparseHebbianLearning object at 0x112583a20>\n",
      "While processing  EMP - eta=0.0013924766500838337 _lock_pid-56604_host-ada\n",
      "We encountered error 'qerror'  with <shl_scripts.shl_learn.SparseHebbianLearning object at 0x1125836a0>\n",
      "While processing  EMP - eta=0.003 _lock_pid-56604_host-ada\n",
      "We encountered error 'qerror'  with <shl_scripts.shl_learn.SparseHebbianLearning object at 0x112583a20>\n",
      "While processing  EMP - eta=0.00646330407009565 _lock_pid-56604_host-ada\n",
      "We encountered error 'qerror'  with <shl_scripts.shl_learn.SparseHebbianLearning object at 0x1125836a0>\n",
      "While processing  EMP - eta=0.013924766500838332 _lock_pid-56604_host-ada\n",
      "We encountered error 'qerror'  with <shl_scripts.shl_learn.SparseHebbianLearning object at 0x112583a20>\n",
      "While processing  EMP - eta=0.03 _lock_pid-56604_host-ada\n",
      "We encountered error 'qerror'  with <shl_scripts.shl_learn.SparseHebbianLearning object at 0x1125836a0>\n"
     ]
    },
    {
     "data": {
      "image/png": "[encoded data removed]",
      "text/plain": [
       "<matplotlib.figure.Figure at 0x115858f28>"
      ]
     },
     "metadata": {},
     "output_type": "display_data"
    },
    {
     "data": {
      "image/png": "[encoded data removed]",
      "text/plain": [
       "<matplotlib.figure.Figure at 0x10e08bd68>"
      ]
     },
     "metadata": {},
     "output_type": "display_data"
    },
    {
     "data": {
      "image/png": "[encoded data removed]",
      "text/plain": [
       "<matplotlib.figure.Figure at 0x1125836a0>"
      ]
     },
     "metadata": {},
     "output_type": "display_data"
    }
   ],
   "source": [
    "experiments.scan(variable='eta', list_figures=list_figures, display='')\n",
    "for display_variable in display_variables:\n",
    "    fig, ax = experiments.scan(variable='eta', list_figures=[], display='final', display_variable=display_variable)"
   ]
  },
  {
   "cell_type": "code",
   "execution_count": null,
   "metadata": {
    "ExecuteTime": {
     "end_time": "2018-01-31T17:20:22.426402Z",
     "start_time": "2018-01-31T17:20:20.781409Z"
    },
    "scrolled": false
   },
   "outputs": [],
   "source": [
    "experiments.scan(variable='eta_homeo', list_figures=list_figures, display='')\n",
    "for display_variable in display_variables:\n",
    "    fig, ax = experiments.scan(variable='eta_homeo', list_figures=[], display='final', display_variable=display_variable)"
   ]
  },
  {
   "cell_type": "code",
   "execution_count": null,
   "metadata": {
    "ExecuteTime": {
     "end_time": "2018-01-31T17:32:01.022622Z",
     "start_time": "2018-01-31T17:20:22.429098Z"
    },
    "scrolled": false
   },
   "outputs": [],
   "source": [
    "experiments.scan(variable='alpha_homeo', list_figures=list_figures, display='')\n",
    "for display_variable in display_variables:\n",
    "    fig, ax = experiments.scan(variable='alpha_homeo', list_figures=[], display='final', display_variable=display_variable)"
   ]
  },
  {
   "cell_type": "markdown",
   "metadata": {},
   "source": [
    "## Version used"
   ]
  },
  {
   "cell_type": "code",
   "execution_count": null,
   "metadata": {
    "ExecuteTime": {
     "end_time": "2018-01-31T17:32:01.081272Z",
     "start_time": "2018-01-31T17:32:01.025083Z"
    }
   },
   "outputs": [],
   "source": [
    "%load_ext version_information\n",
    "%version_information numpy, shl_scripts"
   ]
  }
 ],
 "metadata": {
  "kernelspec": {
   "display_name": "Python 3",
   "language": "python",
   "name": "python3"
  },
  "language_info": {
   "codemirror_mode": {
    "name": "ipython",
    "version": 3
   },
   "file_extension": ".py",
   "mimetype": "text/x-python",
   "name": "python",
   "nbconvert_exporter": "python",
   "pygments_lexer": "ipython3",
   "version": "3.6.4"
  },
  "toc": {
   "nav_menu": {
    "height": "99px",
    "width": "252px"
   },
   "number_sections": true,
   "sideBar": true,
   "skip_h1_title": false,
   "title_cell": "Table of Contents",
   "title_sidebar": "Contents",
   "toc_cell": false,
   "toc_position": {},
   "toc_section_display": "block",
   "toc_window_display": false
  }
 },
 "nbformat": 4,
 "nbformat_minor": 2
}
