{
 "cells": [
  {
   "cell_type": "markdown",
   "metadata": {},
   "source": [
    "# Homeostasis à-la-SparseNet on the activation probability\n",
    "\n",
    "In this notebook, we test the convergence of SparseNet as a function of different learning parameters. This shows the relative robusteness of this method according to the coding parameters, but also the importance of homeostasis to obtain an efficient set of filters.\n",
    "\n",
    "See also :\n",
    "* http://blog.invibe.net/posts/2015-05-05-reproducing-olshausens-classical-sparsenet.html for a description of how SparseNet is implemented in the scikit-learn package\n",
    "* http://blog.invibe.net/posts/2015-05-06-reproducing-olshausens-classical-sparsenet-part-2.html for a descrtiption of how we managed to implement the homeostasis"
   ]
  },
  {
   "cell_type": "code",
   "execution_count": 1,
   "metadata": {
    "ExecuteTime": {
     "end_time": "2018-09-07T13:00:49.644301Z",
     "start_time": "2018-09-07T13:00:49.616527Z"
    }
   },
   "outputs": [],
   "source": [
    "%load_ext autoreload\n",
    "%autoreload 2"
   ]
  },
  {
   "cell_type": "code",
   "execution_count": 2,
   "metadata": {
    "ExecuteTime": {
     "end_time": "2018-09-07T13:00:50.114337Z",
     "start_time": "2018-09-07T13:00:49.647333Z"
    }
   },
   "outputs": [],
   "source": [
    "%matplotlib inline\n",
    "import matplotlib.pyplot as plt\n",
    "import numpy as np\n",
    "np.set_printoptions(precision=2, suppress=True)"
   ]
  },
  {
   "cell_type": "code",
   "execution_count": 3,
   "metadata": {
    "ExecuteTime": {
     "end_time": "2018-09-07T13:00:50.327927Z",
     "start_time": "2018-09-07T13:00:50.118825Z"
    }
   },
   "outputs": [],
   "source": [
    "from shl_scripts.shl_experiments import SHL_set\n",
    "tag = 'EMP'\n",
    "opts = dict(homeo_method=tag, eta_homeo=0.01, alpha_homeo=0.1, verbose=0)\n",
    "opts = dict(homeo_method=tag, verbose=0)\n",
    "experiments = SHL_set(opts, tag=tag)\n",
    "list_figures = ['show_dico']\n",
    "list_figures = []\n",
    "display_variables = ['error', 'logL', 'cputime']\n",
    "display_variables = ['error', 'logL', 'qerror', 'aerror', 'MI', 'cputime']\n",
    "display_variables = ['error', 'logL', 'perror', 'MC', 'cputime']"
   ]
  },
  {
   "cell_type": "code",
   "execution_count": 4,
   "metadata": {
    "ExecuteTime": {
     "end_time": "2018-09-07T13:00:50.489426Z",
     "start_time": "2018-09-07T13:00:50.331428Z"
    }
   },
   "outputs": [],
   "source": [
    "!rm -fr {experiments.shl.cache_dir}/{tag}*lock*"
   ]
  },
  {
   "cell_type": "raw",
   "metadata": {},
   "source": [
    "!rm -fr {experiments.shl.cache_dir}/{tag}*"
   ]
  },
  {
   "cell_type": "markdown",
   "metadata": {},
   "source": [
    "## Homeostasis à-la-SparseNet on the activation probability"
   ]
  },
  {
   "cell_type": "code",
   "execution_count": null,
   "metadata": {
    "ExecuteTime": {
     "start_time": "2018-09-07T13:00:49.617Z"
    },
    "scrolled": false
   },
   "outputs": [],
   "source": [
    "experiments.scan(variable='eta', list_figures=list_figures, display='')\n",
    "for display_variable in display_variables:\n",
    "    fig, ax = experiments.scan(variable='eta', list_figures=[], display='final', display_variable=display_variable)"
   ]
  },
  {
   "cell_type": "code",
   "execution_count": null,
   "metadata": {
    "ExecuteTime": {
     "start_time": "2018-09-07T13:00:49.621Z"
    },
    "scrolled": false
   },
   "outputs": [],
   "source": [
    "experiments.scan(variable='eta_homeo', list_figures=list_figures, display='')\n",
    "for display_variable in display_variables:\n",
    "    fig, ax = experiments.scan(variable='eta_homeo', list_figures=[], display='final', display_variable=display_variable)"
   ]
  },
  {
   "cell_type": "code",
   "execution_count": null,
   "metadata": {
    "ExecuteTime": {
     "start_time": "2018-09-07T13:00:49.625Z"
    },
    "scrolled": false
   },
   "outputs": [],
   "source": [
    "experiments.scan(variable='alpha_homeo', list_figures=list_figures, display='')\n",
    "for display_variable in display_variables:\n",
    "    fig, ax = experiments.scan(variable='alpha_homeo', list_figures=[], display='final', display_variable=display_variable)"
   ]
  },
  {
   "cell_type": "markdown",
   "metadata": {},
   "source": [
    "## Version used"
   ]
  },
  {
   "cell_type": "code",
   "execution_count": null,
   "metadata": {
    "ExecuteTime": {
     "start_time": "2018-09-07T13:00:49.629Z"
    }
   },
   "outputs": [],
   "source": [
    "%load_ext version_information\n",
    "%version_information numpy, shl_scripts"
   ]
  }
 ],
 "metadata": {
  "kernelspec": {
   "display_name": "Python 3",
   "language": "python",
   "name": "python3"
  },
  "language_info": {
   "codemirror_mode": {
    "name": "ipython",
    "version": 3
   },
   "file_extension": ".py",
   "mimetype": "text/x-python",
   "name": "python",
   "nbconvert_exporter": "python",
   "pygments_lexer": "ipython3",
   "version": "3.6.5"
  },
  "toc": {
   "base_numbering": 1,
   "nav_menu": {
    "height": "99px",
    "width": "252px"
   },
   "number_sections": true,
   "sideBar": true,
   "skip_h1_title": false,
   "title_cell": "Table of Contents",
   "title_sidebar": "Contents",
   "toc_cell": false,
   "toc_position": {},
   "toc_section_display": "block",
   "toc_window_display": false
  }
 },
 "nbformat": 4,
 "nbformat_minor": 2
}
