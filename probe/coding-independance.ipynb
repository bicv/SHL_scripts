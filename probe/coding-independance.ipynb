{
 "cells": [
  {
   "cell_type": "markdown",
   "metadata": {},
   "source": [
    "# Sparse Hebbian Learning: toward a quantitative measure of the quality of filters\n",
    "\n",
    "We are interested here in learning the \"optimal\" components of a set of images (let's say some \"natural\", usual images). As there is no supervisor to guide the learning, this is called unsupervised learning. Our basic hypothesis to find the best (\"optimal\") components will be to assume that *a priori* the most sparse is more plausible. We will implement the derived algorithm in this set of scripts.\n",
    "\n"
   ]
  },
  {
   "cell_type": "code",
   "execution_count": 1,
   "metadata": {
    "ExecuteTime": {
     "end_time": "2018-09-07T13:00:37.831709Z",
     "start_time": "2018-09-07T13:00:37.810429Z"
    }
   },
   "outputs": [],
   "source": [
    "%load_ext autoreload\n",
    "%autoreload 2"
   ]
  },
  {
   "cell_type": "code",
   "execution_count": 2,
   "metadata": {
    "ExecuteTime": {
     "end_time": "2018-09-07T13:00:38.589699Z",
     "start_time": "2018-09-07T13:00:37.834227Z"
    }
   },
   "outputs": [],
   "source": [
    "%matplotlib inline\n",
    "import matplotlib.pyplot as plt\n",
    "import numpy as np\n",
    "np.set_printoptions(precision=4, suppress=True)\n",
    "import pandas as pd"
   ]
  },
  {
   "cell_type": "markdown",
   "metadata": {},
   "source": [
    "## experiments\n",
    "\n",
    "To test and control for the role of different parameters, we will have a first object (in the [shl_experiments.py](https://github.com/bicv/SHL_scripts/blob/master/shl_scripts/shl_experiments.py) script) that controls a learning experiment. It contains all relevant parameters, but can also keep a trace of the history of some statistics. This is useful to compare the relative efficiency of the different solutions.\n"
   ]
  },
  {
   "cell_type": "code",
   "execution_count": 3,
   "metadata": {
    "ExecuteTime": {
     "end_time": "2018-09-07T13:00:38.757439Z",
     "start_time": "2018-09-07T13:00:38.593404Z"
    }
   },
   "outputs": [
    {
     "name": "stdout",
     "output_type": "stream",
     "text": [
      "🐶🐶🐶🐶🐶🐶🐶🐶🐶🐶🐶🐶🐶🐶🐶Non🐶🐶🐶🐶🐶🐶🐶🐶🐶🐶🐶🐶🐶🐶🐶\n",
      "🐶🐶🐶🐶🐶🐶🐶🐶🐶🐶🐶🐶🐶🐶🐶HAP🐶🐶🐶🐶🐶🐶🐶🐶🐶🐶🐶🐶🐶🐶🐶\n",
      "🐶🐶🐶🐶🐶🐶🐶🐶🐶🐶🐶🐶🐶🐶🐶HEH🐶🐶🐶🐶🐶🐶🐶🐶🐶🐶🐶🐶🐶🐶🐶\n"
     ]
    }
   ],
   "source": [
    "tag = 'coding'\n",
    "homeo_methods = ['None', 'HAP', 'HEH']\n",
    "\n",
    "\n",
    "record_num_batches = 2**12\n",
    "\n",
    "seed = 42\n",
    "np.random.seed(seed)\n",
    "\n",
    "from shl_scripts.shl_experiments import SHL\n",
    "shl = SHL()\n",
    "data = shl.get_data(matname=tag + '_test')\n",
    "indx = np.random.permutation(data.shape[0])[:record_num_batches]\n",
    "\n",
    "list_figures = []\n",
    "\n",
    "dico = {}\n",
    "for homeo_method in homeo_methods:\n",
    "    print(15*'🐶' + homeo_method[:3] + 15*'🐶')\n",
    "    shl = SHL(homeo_method=homeo_method)\n",
    "    dico[homeo_method] = shl.learn_dico(data=data, list_figures=list_figures, matname=tag + '_' + homeo_method)"
   ]
  },
  {
   "cell_type": "markdown",
   "metadata": {},
   "source": [
    "## theory\n",
    "\n"
   ]
  },
  {
   "cell_type": "code",
   "execution_count": 4,
   "metadata": {
    "ExecuteTime": {
     "end_time": "2018-09-07T13:00:39.556699Z",
     "start_time": "2018-09-07T13:00:38.760635Z"
    }
   },
   "outputs": [
    {
     "name": "stdout",
     "output_type": "stream",
     "text": [
      "Sum of non-zero coefficients 53318 ~= 53248\n",
      "average non-zeros 120.90249433106575 ~= 120.7437641723356\n"
     ]
    },
    {
     "data": {
      "text/plain": [
       "<matplotlib.legend.Legend at 0x1201f8208>"
      ]
     },
     "execution_count": 4,
     "metadata": {},
     "output_type": "execute_result"
    },
    {
     "data": {
      "image/png": "[encoded data removed]",
      "text/plain": [
       "<Figure size 936x360 with 1 Axes>"
      ]
     },
     "metadata": {
      "needs_background": "light"
     },
     "output_type": "display_data"
    }
   ],
   "source": [
    "from scipy.stats import binom\n",
    "# define the mean\n",
    "rho = shl.l0_sparseness / shl.n_dictionary\n",
    "\n",
    "# draw binomial samples\n",
    "sparse_code_binary = np.random.rand(record_num_batches, shl.n_dictionary) > 1 - rho\n",
    "\n",
    "# define the theoretical standard deviation\n",
    "sd = np.sqrt(rho*(1-rho)*record_num_batches)\n",
    "\n",
    "# the binomial probability is defined from 0 to record_num_batches \\times shl.n_dictionary\n",
    "# for visualization, we show the part around non-zero probabilities:\n",
    "#record_num_batches_high = int(rho * record_num_batches + 15. * sd)\n",
    "record_num_batches_high = int(2. * rho * record_num_batches)\n",
    "bins = np.arange(record_num_batches_high)\n",
    "\n",
    "print('Sum of non-zero coefficients', sparse_code_binary.sum(), '~=', shl.l0_sparseness*record_num_batches)\n",
    "print('average non-zeros', np.count_nonzero(sparse_code_binary, axis=0).mean(), '~=', rho*record_num_batches)\n",
    "fig, ax= plt.subplots(figsize=(13, 5))\n",
    "smarts, edges = np.histogram(np.count_nonzero(sparse_code_binary, axis=0), density=True, bins=bins)\n",
    "smarts /= smarts.sum()\n",
    "ax.step(edges, np.hstack((smarts, 0)), where='pre', label='data');\n",
    "#edges_mid = .5*( edges[1:] + edges[:-1] )\n",
    "#print(rho, s, edges)\n",
    "proba = np.exp(-.5 * (edges - rho*record_num_batches)**2 / sd**2)\n",
    "proba /= proba.sum()\n",
    "ax.plot(edges, proba, label='gaussian pmf');\n",
    "proba_binom = binom.pmf(edges, record_num_batches, rho)\n",
    "proba_binom /= proba_binom.sum()\n",
    "ax.plot(edges, proba_binom, 'bo', ms=1, label='binom pmf')\n",
    "ax.legend()"
   ]
  },
  {
   "cell_type": "code",
   "execution_count": 5,
   "metadata": {
    "ExecuteTime": {
     "end_time": "2018-09-07T13:00:39.587361Z",
     "start_time": "2018-09-07T13:00:39.559997Z"
    }
   },
   "outputs": [],
   "source": [
    "from shl_scripts.shl_tools import get_logL"
   ]
  },
  {
   "cell_type": "code",
   "execution_count": 6,
   "metadata": {
    "ExecuteTime": {
     "end_time": "2018-09-07T13:00:40.020112Z",
     "start_time": "2018-09-07T13:00:39.590675Z"
    }
   },
   "outputs": [
    {
     "name": "stdout",
     "output_type": "stream",
     "text": [
      "log-likelihood for random sample= -3.7376724162406307 +/- 0.6515582070605965\n",
      "log-likelihood for random sample= -3.7631641088880383 +/- 0.6365885612755249\n",
      "log-likelihood for random sample= -3.786860330620101 +/- 0.7128116773568868\n",
      "log-likelihood for random sample= -3.8411149294497324 +/- 0.7986338577607869\n",
      "log-likelihood for random sample= -3.7705613565258513 +/- 0.6429981908054959\n",
      "log-likelihood for random sample= -3.7596370028726054 +/- 0.6249931678364128\n",
      "log-likelihood for random sample= -3.7405123860615124 +/- 0.5953322953994119\n",
      "log-likelihood for random sample= -3.777034226800912 +/- 0.6742506830799426\n",
      "log-likelihood for random sample= -3.8257924374609793 +/- 0.6656509152303305\n",
      "log-likelihood for random sample= -3.7786288200011793 +/- 0.603534718132044\n"
     ]
    }
   ],
   "source": [
    "rho = shl.l0_sparseness / shl.n_dictionary\n",
    "sd = np.sqrt(rho*(1-rho)*record_num_batches)\n",
    "\n",
    "for _ in range(10):\n",
    "    sparse_code_binary = np.random.rand(record_num_batches, shl.n_dictionary) > 1 - rho\n",
    "    logL = get_logL(sparse_code_binary)\n",
    "    print ('log-likelihood for random sample=', logL.mean(), '+/-', logL.std())\n"
   ]
  },
  {
   "cell_type": "markdown",
   "metadata": {},
   "source": [
    "## coding\n",
    "\n",
    "The learning itself is done via a gradient descent but is highly dependent on the coding / decoding algorithm. This belongs to a another function (in the [shl_encode.py](https://github.com/bicv/SHL_scripts/blob/master/shl_scripts/shl_encode.py) script)"
   ]
  },
  {
   "cell_type": "code",
   "execution_count": 7,
   "metadata": {
    "ExecuteTime": {
     "end_time": "2018-09-07T13:00:41.309274Z",
     "start_time": "2018-09-07T13:00:40.022822Z"
    },
    "scrolled": false
   },
   "outputs": [
    {
     "name": "stdout",
     "output_type": "stream",
     "text": [
      "🐶🐶🐶🐶🐶🐶🐶🐶🐶🐶🐶🐶🐶🐶🐶🐶🐶🐶🐶🐶🐶🐶🐶🐶🐶🐶🐶🐶🐶🐶🐶🐶🐶🐶🐶🐶🐶🐶🐶🐶🐶🐶\n",
      "🐶🐶🐶🐶🐶🐶🐶🐶🐶🐶🐶🐶🐶🐶🐶🐶🐶🐶🐶None🐶🐶🐶🐶🐶🐶🐶🐶🐶🐶\n",
      "🐶🐶🐶🐶🐶🐶🐶🐶🐶🐶🐶🐶🐶🐶🐶🐶🐶🐶🐶🐶🐶🐶🐶🐶🐶🐶🐶🐶🐶🐶🐶🐶🐶🐶🐶🐶🐶🐶🐶🐶🐶🐶\n",
      "average gain of coding =  1.9807984097516098 +/- 0.4133479535894755\n",
      "🐶🐶🐶🐶🐶🐶🐶🐶🐶🐶🐶🐶🐶🐶🐶🐶🐶🐶🐶🐶🐶🐶🐶🐶🐶🐶🐶🐶🐶🐶🐶🐶🐶🐶🐶🐶🐶🐶🐶🐶🐶🐶\n",
      "🐶🐶🐶🐶🐶🐶🐶🐶🐶🐶🐶🐶🐶🐶🐶🐶🐶🐶🐶HAP🐶🐶🐶🐶🐶🐶🐶🐶🐶🐶\n",
      "🐶🐶🐶🐶🐶🐶🐶🐶🐶🐶🐶🐶🐶🐶🐶🐶🐶🐶🐶🐶🐶🐶🐶🐶🐶🐶🐶🐶🐶🐶🐶🐶🐶🐶🐶🐶🐶🐶🐶🐶🐶🐶\n",
      "average gain of coding =  1.9903629667642275 +/- 0.4262996192433071\n",
      "🐶🐶🐶🐶🐶🐶🐶🐶🐶🐶🐶🐶🐶🐶🐶🐶🐶🐶🐶🐶🐶🐶🐶🐶🐶🐶🐶🐶🐶🐶🐶🐶🐶🐶🐶🐶🐶🐶🐶🐶🐶🐶\n",
      "🐶🐶🐶🐶🐶🐶🐶🐶🐶🐶🐶🐶🐶🐶🐶🐶🐶🐶🐶HEH🐶🐶🐶🐶🐶🐶🐶🐶🐶🐶\n",
      "🐶🐶🐶🐶🐶🐶🐶🐶🐶🐶🐶🐶🐶🐶🐶🐶🐶🐶🐶🐶🐶🐶🐶🐶🐶🐶🐶🐶🐶🐶🐶🐶🐶🐶🐶🐶🐶🐶🐶🐶🐶🐶\n",
      "average gain of coding =  1.9804205979237626 +/- 0.4226652609271103\n"
     ]
    }
   ],
   "source": [
    "from shl_scripts.shl_encode import sparse_encode\n",
    "sparse_code = {}\n",
    "for homeo_method in homeo_methods:\n",
    "    print(42*'🐶')\n",
    "    print(19*'🐶' + homeo_method + 10*'🐶')\n",
    "    print(42*'🐶')\n",
    "    \n",
    "    if dico[homeo_method].P_cum is None: \n",
    "        gain = np.ones(shl.n_dictionary)\n",
    "    else:\n",
    "        gain = None\n",
    "    sparse_code[homeo_method] = sparse_encode(data[indx, :], dico[homeo_method].dictionary, \n",
    "#                                              P_cum=dico[homeo_method].P_cum, \n",
    "                                              P_cum=None, gain=np.ones(shl.n_dictionary),\n",
    "                                             l0_sparseness=shl.l0_sparseness, C=shl.C)\n",
    "    from shl_scripts.shl_tools import print_stats\n",
    "    SD, SE = print_stats(data[indx, :], dico[homeo_method].dictionary, sparse_code[homeo_method], verbose=False, display=False)\n",
    "    print('average gain of coding = ', (SD/SE).mean(), '+/-', (SD/SE).std())"
   ]
  },
  {
   "cell_type": "code",
   "execution_count": 8,
   "metadata": {
    "ExecuteTime": {
     "end_time": "2018-09-07T13:00:41.345488Z",
     "start_time": "2018-09-07T13:00:41.312694Z"
    }
   },
   "outputs": [
    {
     "data": {
      "text/plain": [
       "(4096, 441)"
      ]
     },
     "execution_count": 8,
     "metadata": {},
     "output_type": "execute_result"
    }
   ],
   "source": [
    "sparse_code[homeo_method].shape"
   ]
  },
  {
   "cell_type": "code",
   "execution_count": 9,
   "metadata": {
    "ExecuteTime": {
     "end_time": "2018-09-07T13:00:41.917253Z",
     "start_time": "2018-09-07T13:00:41.349087Z"
    }
   },
   "outputs": [
    {
     "name": "stdout",
     "output_type": "stream",
     "text": [
      "🐶🐶🐶🐶🐶🐶🐶🐶🐶🐶🐶🐶🐶🐶🐶🐶🐶🐶🐶🐶🐶🐶🐶🐶🐶🐶🐶🐶🐶🐶🐶🐶🐶🐶🐶🐶🐶🐶🐶🐶🐶🐶\n",
      "🐶🐶🐶🐶🐶🐶🐶🐶🐶🐶🐶🐶🐶🐶🐶Non🐶🐶🐶🐶🐶🐶🐶🐶🐶🐶🐶🐶🐶🐶🐶\n",
      "🐶🐶🐶🐶🐶🐶🐶🐶🐶🐶🐶🐶🐶🐶🐶🐶🐶🐶🐶🐶🐶🐶🐶🐶🐶🐶🐶🐶🐶🐶🐶🐶🐶🐶🐶🐶🐶🐶🐶🐶🐶🐶\n",
      "Average of non-zero coefficients 0.029404274730725623 ~= 0.02947845804988662\n",
      "Mean of non-zero coefficients 120.43990929705215 ~= 120.7437641723356\n",
      "Mean of non-zero coefficients 120.43990929705215 +/- 18.22887107259641\n",
      "Median of non-zero coefficients 119.0\n",
      "🐶🐶🐶🐶🐶🐶🐶🐶🐶🐶🐶🐶🐶🐶🐶🐶🐶🐶🐶🐶🐶🐶🐶🐶🐶🐶🐶🐶🐶🐶🐶🐶🐶🐶🐶🐶🐶🐶🐶🐶🐶🐶\n",
      "🐶🐶🐶🐶🐶🐶🐶🐶🐶🐶🐶🐶🐶🐶🐶HAP🐶🐶🐶🐶🐶🐶🐶🐶🐶🐶🐶🐶🐶🐶🐶\n",
      "🐶🐶🐶🐶🐶🐶🐶🐶🐶🐶🐶🐶🐶🐶🐶🐶🐶🐶🐶🐶🐶🐶🐶🐶🐶🐶🐶🐶🐶🐶🐶🐶🐶🐶🐶🐶🐶🐶🐶🐶🐶🐶\n",
      "Average of non-zero coefficients 0.029417007688492064 ~= 0.02947845804988662\n",
      "Mean of non-zero coefficients 120.4920634920635 ~= 120.7437641723356\n",
      "Mean of non-zero coefficients 120.4920634920635 +/- 15.779677953987834\n",
      "Median of non-zero coefficients 120.0\n",
      "🐶🐶🐶🐶🐶🐶🐶🐶🐶🐶🐶🐶🐶🐶🐶🐶🐶🐶🐶🐶🐶🐶🐶🐶🐶🐶🐶🐶🐶🐶🐶🐶🐶🐶🐶🐶🐶🐶🐶🐶🐶🐶\n",
      "🐶🐶🐶🐶🐶🐶🐶🐶🐶🐶🐶🐶🐶🐶🐶HEH🐶🐶🐶🐶🐶🐶🐶🐶🐶🐶🐶🐶🐶🐶🐶\n",
      "🐶🐶🐶🐶🐶🐶🐶🐶🐶🐶🐶🐶🐶🐶🐶🐶🐶🐶🐶🐶🐶🐶🐶🐶🐶🐶🐶🐶🐶🐶🐶🐶🐶🐶🐶🐶🐶🐶🐶🐶🐶🐶\n",
      "Average of non-zero coefficients 0.029417007688492064 ~= 0.02947845804988662\n",
      "Mean of non-zero coefficients 120.4920634920635 ~= 120.7437641723356\n",
      "Mean of non-zero coefficients 120.4920634920635 +/- 19.554576351489136\n",
      "Median of non-zero coefficients 120.0\n"
     ]
    },
    {
     "data": {
      "image/png": "[encoded data removed]",
      "text/plain": [
       "<Figure size 936x360 with 1 Axes>"
      ]
     },
     "metadata": {
      "needs_background": "light"
     },
     "output_type": "display_data"
    }
   ],
   "source": [
    "rho = shl.l0_sparseness / shl.n_dictionary\n",
    "sd = np.sqrt(rho*(1-rho)*record_num_batches)\n",
    "\n",
    "fig, ax= plt.subplots(figsize=(13, 5))\n",
    "for homeo_method, color in zip(homeo_methods, ['g', 'r', 'b']):\n",
    "    print(42*'🐶')\n",
    "    print(15*'🐶' + homeo_method[:3] + 15*'🐶')\n",
    "    print(42*'🐶')\n",
    "    print('Average of non-zero coefficients', (sparse_code[homeo_method]>0).mean(), '~=', rho)\n",
    "    n_i = np.count_nonzero(sparse_code[homeo_method], axis=0)\n",
    "    print('Mean of non-zero coefficients', n_i.mean(), '~=', rho*record_num_batches)\n",
    "    print('Mean of non-zero coefficients', n_i.mean(), '+/-', n_i.std())\n",
    "    print('Median of non-zero coefficients', np.median(n_i))\n",
    "    smarts, edges = np.histogram(n_i, density=True, bins=bins)\n",
    "    smarts /= smarts.sum()\n",
    "    # ax.step(edges, np.hstack((smarts, 0)), where='pre', label='data_' + homeo_method);\n",
    "    ax.fill_between(edges[:-1], smarts, step='pre', label='data_' + homeo_method, alpha=.25, color=color);\n",
    "\n",
    "proba = 1 / np.sqrt(2*np.pi) / sd *  np.exp(-.5 * (edges - rho*record_num_batches)**2 / sd**2)\n",
    "#proba /= proba.sum()\n",
    "ax.plot(edges, proba, 'k--', label='expected', lw=3)\n",
    "ax.legend();"
   ]
  },
  {
   "cell_type": "raw",
   "metadata": {},
   "source": [
    "rho, sparse_code[homeo_method].mean(), homeo_methods"
   ]
  },
  {
   "cell_type": "markdown",
   "metadata": {},
   "source": [
    "## measuring the distance to independance "
   ]
  },
  {
   "cell_type": "code",
   "execution_count": 10,
   "metadata": {
    "ExecuteTime": {
     "end_time": "2018-09-07T13:00:42.013683Z",
     "start_time": "2018-09-07T13:00:41.920181Z"
    }
   },
   "outputs": [
    {
     "name": "stdout",
     "output_type": "stream",
     "text": [
      "log-likelihood for   None is -4.720875025054333 +/- 2.07828683168139\n",
      "log-likelihood for   HAP is -4.3643735817489615 +/- 1.4687173105253584\n",
      "log-likelihood for   HEH is -4.934643000677849 +/- 2.260898521370791\n",
      "log-likelihood for theory is -3.766056288801335 +/- 0.7308084852046445\n"
     ]
    }
   ],
   "source": [
    "\n",
    "#fig, ax= plt.subplots(figsize=(13, 5))\n",
    "for homeo_method in homeo_methods:\n",
    "    logL = get_logL(sparse_code[homeo_method])\n",
    "    print ('log-likelihood for  ', homeo_method, 'is', logL.mean(), '+/-', logL.std())\n",
    "    #ax.vline(edges, proba, label=homeo_method)\n",
    "\n",
    "logL = get_logL(np.random.rand(record_num_batches, shl.n_dictionary) > 1 - rho)\n",
    "print ('log-likelihood for theory is', logL.mean(), '+/-', logL.std())\n",
    "#for _ in range(10):\n",
    "#    logL = get_logL(np.random.rand(record_num_batches, shl.n_dictionary) > 1 - rho)\n",
    "#ax.plot(edges, proba, label='theory')\n",
    "#ax.legend();"
   ]
  },
  {
   "cell_type": "markdown",
   "metadata": {},
   "source": [
    "## Version used"
   ]
  },
  {
   "cell_type": "code",
   "execution_count": 11,
   "metadata": {
    "ExecuteTime": {
     "end_time": "2018-09-07T13:00:42.425148Z",
     "start_time": "2018-09-07T13:00:42.017052Z"
    }
   },
   "outputs": [
    {
     "data": {
      "application/json": {
       "Software versions": [
        {
         "module": "Python",
         "version": "3.6.5 64bit [GCC 4.2.1 Compatible Apple LLVM 9.1.0 (clang-902.0.39.2)]"
        },
        {
         "module": "IPython",
         "version": "6.5.0"
        },
        {
         "module": "OS",
         "version": "Darwin 17.7.0 x86_64 i386 64bit"
        },
        {
         "module": "numpy",
         "version": "1.15.1"
        },
        {
         "module": "shl_scripts",
         "version": "20171221"
        },
        {
         "module": "pandas",
         "version": "0.23.4"
        }
       ]
      },
      "text/html": [
       "<table><tr><th>Software</th><th>Version</th></tr><tr><td>Python</td><td>3.6.5 64bit [GCC 4.2.1 Compatible Apple LLVM 9.1.0 (clang-902.0.39.2)]</td></tr><tr><td>IPython</td><td>6.5.0</td></tr><tr><td>OS</td><td>Darwin 17.7.0 x86_64 i386 64bit</td></tr><tr><td>numpy</td><td>1.15.1</td></tr><tr><td>shl_scripts</td><td>20171221</td></tr><tr><td>pandas</td><td>0.23.4</td></tr><tr><td colspan='2'>Fri Sep 07 15:00:42 2018 CEST</td></tr></table>"
      ],
      "text/latex": [
       "\\begin{tabular}{|l|l|}\\hline\n",
       "{\\bf Software} & {\\bf Version} \\\\ \\hline\\hline\n",
       "Python & 3.6.5 64bit [GCC 4.2.1 Compatible Apple LLVM 9.1.0 (clang-902.0.39.2)] \\\\ \\hline\n",
       "IPython & 6.5.0 \\\\ \\hline\n",
       "OS & Darwin 17.7.0 x86\\_64 i386 64bit \\\\ \\hline\n",
       "numpy & 1.15.1 \\\\ \\hline\n",
       "shl_scripts & 20171221 \\\\ \\hline\n",
       "pandas & 0.23.4 \\\\ \\hline\n",
       "\\hline \\multicolumn{2}{|l|}{Fri Sep 07 15:00:42 2018 CEST} \\\\ \\hline\n",
       "\\end{tabular}\n"
      ],
      "text/plain": [
       "Software versions\n",
       "Python 3.6.5 64bit [GCC 4.2.1 Compatible Apple LLVM 9.1.0 (clang-902.0.39.2)]\n",
       "IPython 6.5.0\n",
       "OS Darwin 17.7.0 x86_64 i386 64bit\n",
       "numpy 1.15.1\n",
       "shl_scripts 20171221\n",
       "pandas 0.23.4\n",
       "Fri Sep 07 15:00:42 2018 CEST"
      ]
     },
     "execution_count": 11,
     "metadata": {},
     "output_type": "execute_result"
    }
   ],
   "source": [
    "%load_ext version_information\n",
    "%version_information numpy, shl_scripts, pandas"
   ]
  }
 ],
 "metadata": {
  "kernelspec": {
   "display_name": "Python 3",
   "language": "python",
   "name": "python3"
  },
  "language_info": {
   "codemirror_mode": {
    "name": "ipython",
    "version": 3
   },
   "file_extension": ".py",
   "mimetype": "text/x-python",
   "name": "python",
   "nbconvert_exporter": "python",
   "pygments_lexer": "ipython3",
   "version": "3.6.5"
  },
  "toc": {
   "base_numbering": 1,
   "nav_menu": {
    "height": "102px",
    "width": "252px"
   },
   "number_sections": true,
   "sideBar": true,
   "skip_h1_title": false,
   "title_cell": "Table of Contents",
   "title_sidebar": "Contents",
   "toc_cell": false,
   "toc_position": {},
   "toc_section_display": "block",
   "toc_window_display": false
  }
 },
 "nbformat": 4,
 "nbformat_minor": 2
}
