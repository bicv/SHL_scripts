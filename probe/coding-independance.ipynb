{
 "cells": [
  {
   "cell_type": "markdown",
   "metadata": {},
   "source": [
    "# Sparse Hebbian Learning: toward a quantitative measure of the quality of filters\n",
    "\n",
    "We are interested here in learning the \"optimal\" components of a set of images (let's say some \"natural\", usual images). As there is no supervisor to guide the learning, this is called unsupervised learning. Our basic hypothesis to find the best (\"optimal\") components will be to assume that *a priori* the most sparse is more plausible. We will implement the derived algorithm in this set of scripts.\n",
    "\n"
   ]
  },
  {
   "cell_type": "code",
   "execution_count": 1,
   "metadata": {
    "ExecuteTime": {
     "end_time": "2018-09-25T09:37:18.178724Z",
     "start_time": "2018-09-25T09:37:18.153731Z"
    }
   },
   "outputs": [],
   "source": [
    "%load_ext autoreload\n",
    "%autoreload 2"
   ]
  },
  {
   "cell_type": "code",
   "execution_count": 2,
   "metadata": {
    "ExecuteTime": {
     "end_time": "2018-09-25T09:37:19.343312Z",
     "start_time": "2018-09-25T09:37:18.182501Z"
    }
   },
   "outputs": [],
   "source": [
    "%matplotlib inline\n",
    "import matplotlib.pyplot as plt\n",
    "import numpy as np\n",
    "np.set_printoptions(precision=4, suppress=True)\n",
    "import pandas as pd"
   ]
  },
  {
   "cell_type": "markdown",
   "metadata": {},
   "source": [
    "## experiments\n",
    "\n",
    "To test and control for the role of different parameters, we will have a first object (in the [shl_experiments.py](https://github.com/bicv/SparseHebbianLearning/blob/master/shl_scripts/shl_experiments.py) script) that controls a learning experiment. It contains all relevant parameters, but can also keep a trace of the history of some statistics. This is useful to compare the relative efficiency of the different solutions.\n"
   ]
  },
  {
   "cell_type": "code",
   "execution_count": 3,
   "metadata": {
    "ExecuteTime": {
     "end_time": "2018-09-25T09:37:19.502443Z",
     "start_time": "2018-09-25T09:37:19.347190Z"
    }
   },
   "outputs": [
    {
     "name": "stdout",
     "output_type": "stream",
     "text": [
      "🐶🐶🐶🐶🐶🐶🐶🐶🐶🐶🐶🐶🐶🐶🐶Non🐶🐶🐶🐶🐶🐶🐶🐶🐶🐶🐶🐶🐶🐶🐶\n",
      "🐶🐶🐶🐶🐶🐶🐶🐶🐶🐶🐶🐶🐶🐶🐶HAP🐶🐶🐶🐶🐶🐶🐶🐶🐶🐶🐶🐶🐶🐶🐶\n",
      "🐶🐶🐶🐶🐶🐶🐶🐶🐶🐶🐶🐶🐶🐶🐶HEH🐶🐶🐶🐶🐶🐶🐶🐶🐶🐶🐶🐶🐶🐶🐶\n"
     ]
    }
   ],
   "source": [
    "tag = 'coding'\n",
    "homeo_methods = ['None', 'HAP', 'HEH']\n",
    "\n",
    "\n",
    "record_num_batches = 2**12\n",
    "\n",
    "seed = 42\n",
    "np.random.seed(seed)\n",
    "\n",
    "from shl_scripts.shl_experiments import SHL\n",
    "shl = SHL()\n",
    "data = shl.get_data(matname=tag + '_test')\n",
    "indx = np.random.permutation(data.shape[0])[:record_num_batches]\n",
    "\n",
    "list_figures = []\n",
    "\n",
    "dico = {}\n",
    "for homeo_method in homeo_methods:\n",
    "    print(15*'🐶' + homeo_method[:3] + 15*'🐶')\n",
    "    shl = SHL(homeo_method=homeo_method)\n",
    "    dico[homeo_method] = shl.learn_dico(data=data, list_figures=list_figures, matname=tag + '_' + homeo_method)"
   ]
  },
  {
   "cell_type": "markdown",
   "metadata": {},
   "source": [
    "## theory\n",
    "\n"
   ]
  },
  {
   "cell_type": "code",
   "execution_count": 4,
   "metadata": {
    "ExecuteTime": {
     "end_time": "2018-09-25T09:37:20.725984Z",
     "start_time": "2018-09-25T09:37:19.505600Z"
    }
   },
   "outputs": [
    {
     "name": "stdout",
     "output_type": "stream",
     "text": [
      "Sum of non-zero coefficients 57293 ~= 57344\n",
      "average non-zeros 129.91609977324262 ~= 130.03174603174602\n"
     ]
    },
    {
     "data": {
      "text/plain": [
       "<matplotlib.legend.Legend at 0x12e17c9e8>"
      ]
     },
     "execution_count": 4,
     "metadata": {},
     "output_type": "execute_result"
    },
    {
     "data": {
      "image/png": "[encoded data removed]",
      "text/plain": [
       "<Figure size 936x360 with 1 Axes>"
      ]
     },
     "metadata": {
      "needs_background": "light"
     },
     "output_type": "display_data"
    }
   ],
   "source": [
    "from scipy.stats import binom\n",
    "# define the mean\n",
    "rho = shl.l0_sparseness / shl.n_dictionary\n",
    "\n",
    "# draw binomial samples\n",
    "sparse_code_binary = np.random.rand(record_num_batches, shl.n_dictionary) > 1 - rho\n",
    "\n",
    "# define the theoretical standard deviation\n",
    "sd = np.sqrt(rho*(1-rho)*record_num_batches)\n",
    "\n",
    "# the binomial probability is defined from 0 to record_num_batches \\times shl.n_dictionary\n",
    "# for visualization, we show the part around non-zero probabilities:\n",
    "#record_num_batches_high = int(rho * record_num_batches + 15. * sd)\n",
    "record_num_batches_high = int(2. * rho * record_num_batches)\n",
    "bins = np.arange(record_num_batches_high)\n",
    "\n",
    "print('Sum of non-zero coefficients', sparse_code_binary.sum(), '~=', shl.l0_sparseness*record_num_batches)\n",
    "print('average non-zeros', np.count_nonzero(sparse_code_binary, axis=0).mean(), '~=', rho*record_num_batches)\n",
    "fig, ax= plt.subplots(figsize=(13, 5))\n",
    "smarts, edges = np.histogram(np.count_nonzero(sparse_code_binary, axis=0), density=True, bins=bins)\n",
    "smarts /= smarts.sum()\n",
    "ax.step(edges, np.hstack((smarts, 0)), where='pre', label='data');\n",
    "#edges_mid = .5*( edges[1:] + edges[:-1] )\n",
    "#print(rho, s, edges)\n",
    "proba = np.exp(-.5 * (edges - rho*record_num_batches)**2 / sd**2)\n",
    "proba /= proba.sum()\n",
    "ax.plot(edges, proba, label='gaussian pmf');\n",
    "proba_binom = binom.pmf(edges, record_num_batches, rho)\n",
    "proba_binom /= proba_binom.sum()\n",
    "ax.plot(edges, proba_binom, 'bo', ms=1, label='binom pmf')\n",
    "ax.legend()"
   ]
  },
  {
   "cell_type": "code",
   "execution_count": 5,
   "metadata": {
    "ExecuteTime": {
     "end_time": "2018-09-25T09:37:20.759462Z",
     "start_time": "2018-09-25T09:37:20.729532Z"
    }
   },
   "outputs": [],
   "source": [
    "from shl_scripts.shl_tools import get_logL"
   ]
  },
  {
   "cell_type": "code",
   "execution_count": 6,
   "metadata": {
    "ExecuteTime": {
     "end_time": "2018-09-25T09:37:21.286098Z",
     "start_time": "2018-09-25T09:37:20.762972Z"
    }
   },
   "outputs": [
    {
     "name": "stdout",
     "output_type": "stream",
     "text": [
      "log-likelihood for random sample= -3.76387940586001 +/- 0.6394233965097887\n",
      "log-likelihood for random sample= -3.800818552006567 +/- 0.658681152895099\n",
      "log-likelihood for random sample= -3.846016287722609 +/- 0.7262992412972811\n",
      "log-likelihood for random sample= -3.8535762448100606 +/- 0.7498041354292282\n",
      "log-likelihood for random sample= -3.8168418968071114 +/- 0.678044496007739\n",
      "log-likelihood for random sample= -3.7900506348029084 +/- 0.6343680060474037\n",
      "log-likelihood for random sample= -3.7930513505570143 +/- 0.6328836944429539\n",
      "log-likelihood for random sample= -3.798679062797547 +/- 0.655594243534411\n",
      "log-likelihood for random sample= -3.8537540812998983 +/- 0.6508670972885935\n",
      "log-likelihood for random sample= -3.814420558990265 +/- 0.5945830920429345\n"
     ]
    }
   ],
   "source": [
    "rho = shl.l0_sparseness / shl.n_dictionary\n",
    "sd = np.sqrt(rho*(1-rho)*record_num_batches)\n",
    "\n",
    "for _ in range(10):\n",
    "    sparse_code_binary = np.random.rand(record_num_batches, shl.n_dictionary) > 1 - rho\n",
    "    logL = get_logL(sparse_code_binary)\n",
    "    print ('log-likelihood for random sample=', logL.mean(), '+/-', logL.std())\n"
   ]
  },
  {
   "cell_type": "markdown",
   "metadata": {},
   "source": [
    "## coding\n",
    "\n",
    "The learning itself is done via a gradient descent but is highly dependent on the coding / decoding algorithm. This belongs to a another function (in the [shl_encode.py](https://github.com/bicv/SparseHebbianLearning/blob/master/shl_scripts/shl_encode.py) script)"
   ]
  },
  {
   "cell_type": "code",
   "execution_count": 7,
   "metadata": {
    "ExecuteTime": {
     "end_time": "2018-09-25T09:37:23.221543Z",
     "start_time": "2018-09-25T09:37:21.289144Z"
    },
    "scrolled": false
   },
   "outputs": [
    {
     "name": "stdout",
     "output_type": "stream",
     "text": [
      "🐶🐶🐶🐶🐶🐶🐶🐶🐶🐶🐶🐶🐶🐶🐶🐶🐶🐶🐶🐶🐶🐶🐶🐶🐶🐶🐶🐶🐶🐶🐶🐶🐶🐶🐶🐶🐶🐶🐶🐶🐶🐶\n",
      "🐶🐶🐶🐶🐶🐶🐶🐶🐶🐶🐶🐶🐶🐶🐶🐶🐶🐶🐶None🐶🐶🐶🐶🐶🐶🐶🐶🐶🐶\n",
      "🐶🐶🐶🐶🐶🐶🐶🐶🐶🐶🐶🐶🐶🐶🐶🐶🐶🐶🐶🐶🐶🐶🐶🐶🐶🐶🐶🐶🐶🐶🐶🐶🐶🐶🐶🐶🐶🐶🐶🐶🐶🐶\n",
      "average gain of coding =  1.9020728649865806 +/- 0.28627877196038465\n",
      "🐶🐶🐶🐶🐶🐶🐶🐶🐶🐶🐶🐶🐶🐶🐶🐶🐶🐶🐶🐶🐶🐶🐶🐶🐶🐶🐶🐶🐶🐶🐶🐶🐶🐶🐶🐶🐶🐶🐶🐶🐶🐶\n",
      "🐶🐶🐶🐶🐶🐶🐶🐶🐶🐶🐶🐶🐶🐶🐶🐶🐶🐶🐶HAP🐶🐶🐶🐶🐶🐶🐶🐶🐶🐶\n",
      "🐶🐶🐶🐶🐶🐶🐶🐶🐶🐶🐶🐶🐶🐶🐶🐶🐶🐶🐶🐶🐶🐶🐶🐶🐶🐶🐶🐶🐶🐶🐶🐶🐶🐶🐶🐶🐶🐶🐶🐶🐶🐶\n",
      "average gain of coding =  1.9016152558844868 +/- 0.28217937913285585\n",
      "🐶🐶🐶🐶🐶🐶🐶🐶🐶🐶🐶🐶🐶🐶🐶🐶🐶🐶🐶🐶🐶🐶🐶🐶🐶🐶🐶🐶🐶🐶🐶🐶🐶🐶🐶🐶🐶🐶🐶🐶🐶🐶\n",
      "🐶🐶🐶🐶🐶🐶🐶🐶🐶🐶🐶🐶🐶🐶🐶🐶🐶🐶🐶HEH🐶🐶🐶🐶🐶🐶🐶🐶🐶🐶\n",
      "🐶🐶🐶🐶🐶🐶🐶🐶🐶🐶🐶🐶🐶🐶🐶🐶🐶🐶🐶🐶🐶🐶🐶🐶🐶🐶🐶🐶🐶🐶🐶🐶🐶🐶🐶🐶🐶🐶🐶🐶🐶🐶\n",
      "average gain of coding =  1.9575331274819803 +/- 0.3095427497898962\n"
     ]
    }
   ],
   "source": [
    "from shl_scripts.shl_encode import sparse_encode\n",
    "sparse_code = {}\n",
    "for homeo_method in homeo_methods:\n",
    "    print(42*'🐶')\n",
    "    print(19*'🐶' + homeo_method + 10*'🐶')\n",
    "    print(42*'🐶')\n",
    "    \n",
    "    if dico[homeo_method].P_cum is None: \n",
    "        gain = np.ones(shl.n_dictionary)\n",
    "    else:\n",
    "        gain = None\n",
    "    sparse_code[homeo_method] = sparse_encode(data[indx, :], dico[homeo_method].dictionary, precision=dico[homeo_method].precision, \n",
    "#                                              P_cum=dico[homeo_method].P_cum, \n",
    "                                              P_cum=None, gain=np.ones(shl.n_dictionary),\n",
    "                                             l0_sparseness=shl.l0_sparseness, C=shl.C)\n",
    "    from shl_scripts.shl_tools import print_stats\n",
    "    SD, SE = print_stats(data[indx, :], dico[homeo_method].dictionary, sparse_code[homeo_method], verbose=False, display=False)\n",
    "    print('average gain of coding = ', (SD/SE).mean(), '+/-', (SD/SE).std())"
   ]
  },
  {
   "cell_type": "code",
   "execution_count": 8,
   "metadata": {
    "ExecuteTime": {
     "end_time": "2018-09-25T09:37:23.256719Z",
     "start_time": "2018-09-25T09:37:23.225493Z"
    }
   },
   "outputs": [
    {
     "data": {
      "text/plain": [
       "(4096, 441)"
      ]
     },
     "execution_count": 8,
     "metadata": {},
     "output_type": "execute_result"
    }
   ],
   "source": [
    "sparse_code[homeo_method].shape"
   ]
  },
  {
   "cell_type": "code",
   "execution_count": 9,
   "metadata": {
    "ExecuteTime": {
     "end_time": "2018-09-25T09:37:23.995031Z",
     "start_time": "2018-09-25T09:37:23.260580Z"
    }
   },
   "outputs": [
    {
     "name": "stdout",
     "output_type": "stream",
     "text": [
      "🐶🐶🐶🐶🐶🐶🐶🐶🐶🐶🐶🐶🐶🐶🐶🐶🐶🐶🐶🐶🐶🐶🐶🐶🐶🐶🐶🐶🐶🐶🐶🐶🐶🐶🐶🐶🐶🐶🐶🐶🐶🐶\n",
      "🐶🐶🐶🐶🐶🐶🐶🐶🐶🐶🐶🐶🐶🐶🐶Non🐶🐶🐶🐶🐶🐶🐶🐶🐶🐶🐶🐶🐶🐶🐶\n",
      "🐶🐶🐶🐶🐶🐶🐶🐶🐶🐶🐶🐶🐶🐶🐶🐶🐶🐶🐶🐶🐶🐶🐶🐶🐶🐶🐶🐶🐶🐶🐶🐶🐶🐶🐶🐶🐶🐶🐶🐶🐶🐶\n",
      "Average of non-zero coefficients 0.03172056583049886 ~= 0.031746031746031744\n",
      "Mean of non-zero coefficients 129.92743764172334 ~= 130.03174603174602\n",
      "Mean of non-zero coefficients 129.92743764172334 +/- 28.7199977736616\n",
      "Median of non-zero coefficients 130.0\n",
      "🐶🐶🐶🐶🐶🐶🐶🐶🐶🐶🐶🐶🐶🐶🐶🐶🐶🐶🐶🐶🐶🐶🐶🐶🐶🐶🐶🐶🐶🐶🐶🐶🐶🐶🐶🐶🐶🐶🐶🐶🐶🐶\n",
      "🐶🐶🐶🐶🐶🐶🐶🐶🐶🐶🐶🐶🐶🐶🐶HAP🐶🐶🐶🐶🐶🐶🐶🐶🐶🐶🐶🐶🐶🐶🐶\n",
      "🐶🐶🐶🐶🐶🐶🐶🐶🐶🐶🐶🐶🐶🐶🐶🐶🐶🐶🐶🐶🐶🐶🐶🐶🐶🐶🐶🐶🐶🐶🐶🐶🐶🐶🐶🐶🐶🐶🐶🐶🐶🐶\n",
      "Average of non-zero coefficients 0.03171558336876417 ~= 0.031746031746031744\n",
      "Mean of non-zero coefficients 129.90702947845804 ~= 130.03174603174602\n",
      "Mean of non-zero coefficients 129.90702947845804 +/- 30.897063690434095\n",
      "Median of non-zero coefficients 128.0\n",
      "🐶🐶🐶🐶🐶🐶🐶🐶🐶🐶🐶🐶🐶🐶🐶🐶🐶🐶🐶🐶🐶🐶🐶🐶🐶🐶🐶🐶🐶🐶🐶🐶🐶🐶🐶🐶🐶🐶🐶🐶🐶🐶\n",
      "🐶🐶🐶🐶🐶🐶🐶🐶🐶🐶🐶🐶🐶🐶🐶HEH🐶🐶🐶🐶🐶🐶🐶🐶🐶🐶🐶🐶🐶🐶🐶\n",
      "🐶🐶🐶🐶🐶🐶🐶🐶🐶🐶🐶🐶🐶🐶🐶🐶🐶🐶🐶🐶🐶🐶🐶🐶🐶🐶🐶🐶🐶🐶🐶🐶🐶🐶🐶🐶🐶🐶🐶🐶🐶🐶\n",
      "Average of non-zero coefficients 0.03171669058248299 ~= 0.031746031746031744\n",
      "Mean of non-zero coefficients 129.91156462585033 ~= 130.03174603174602\n",
      "Mean of non-zero coefficients 129.91156462585033 +/- 23.031849732209814\n",
      "Median of non-zero coefficients 131.0\n"
     ]
    },
    {
     "data": {
      "image/png": "[encoded data removed]",
      "text/plain": [
       "<Figure size 936x360 with 1 Axes>"
      ]
     },
     "metadata": {
      "needs_background": "light"
     },
     "output_type": "display_data"
    }
   ],
   "source": [
    "rho = shl.l0_sparseness / shl.n_dictionary\n",
    "sd = np.sqrt(rho*(1-rho)*record_num_batches)\n",
    "\n",
    "fig, ax= plt.subplots(figsize=(13, 5))\n",
    "for homeo_method, color in zip(homeo_methods, ['g', 'r', 'b']):\n",
    "    print(42*'🐶')\n",
    "    print(15*'🐶' + homeo_method[:3] + 15*'🐶')\n",
    "    print(42*'🐶')\n",
    "    print('Average of non-zero coefficients', (sparse_code[homeo_method]>0).mean(), '~=', rho)\n",
    "    n_i = np.count_nonzero(sparse_code[homeo_method], axis=0)\n",
    "    print('Mean of non-zero coefficients', n_i.mean(), '~=', rho*record_num_batches)\n",
    "    print('Mean of non-zero coefficients', n_i.mean(), '+/-', n_i.std())\n",
    "    print('Median of non-zero coefficients', np.median(n_i))\n",
    "    smarts, edges = np.histogram(n_i, density=True, bins=bins)\n",
    "    smarts /= smarts.sum()\n",
    "    # ax.step(edges, np.hstack((smarts, 0)), where='pre', label='data_' + homeo_method);\n",
    "    ax.fill_between(edges[:-1], smarts, step='pre', label='data_' + homeo_method, alpha=.25, color=color);\n",
    "\n",
    "proba = 1 / np.sqrt(2*np.pi) / sd *  np.exp(-.5 * (edges - rho*record_num_batches)**2 / sd**2)\n",
    "#proba /= proba.sum()\n",
    "ax.plot(edges, proba, 'k--', label='expected', lw=3)\n",
    "ax.legend();"
   ]
  },
  {
   "cell_type": "raw",
   "metadata": {},
   "source": [
    "rho, sparse_code[homeo_method].mean(), homeo_methods"
   ]
  },
  {
   "cell_type": "markdown",
   "metadata": {},
   "source": [
    "## measuring the distance to independance "
   ]
  },
  {
   "cell_type": "code",
   "execution_count": 10,
   "metadata": {
    "ExecuteTime": {
     "end_time": "2018-09-25T09:37:24.140643Z",
     "start_time": "2018-09-25T09:37:24.004499Z"
    }
   },
   "outputs": [
    {
     "name": "stdout",
     "output_type": "stream",
     "text": [
      "log-likelihood for   None is -6.614522756144753 +/- 4.270461475451897\n",
      "log-likelihood for   HAP is -7.130858014798216 +/- 5.168038619695808\n",
      "log-likelihood for   HEH is -5.444768562168246 +/- 2.573329245046075\n",
      "log-likelihood for theory is -3.784028249756185 +/- 0.6861817129961151\n"
     ]
    }
   ],
   "source": [
    "\n",
    "#fig, ax= plt.subplots(figsize=(13, 5))\n",
    "for homeo_method in homeo_methods:\n",
    "    logL = get_logL(sparse_code[homeo_method])\n",
    "    print ('log-likelihood for  ', homeo_method, 'is', logL.mean(), '+/-', logL.std())\n",
    "    #ax.vline(edges, proba, label=homeo_method)\n",
    "\n",
    "logL = get_logL(np.random.rand(record_num_batches, shl.n_dictionary) > 1 - rho)\n",
    "print ('log-likelihood for theory is', logL.mean(), '+/-', logL.std())\n",
    "#for _ in range(10):\n",
    "#    logL = get_logL(np.random.rand(record_num_batches, shl.n_dictionary) > 1 - rho)\n",
    "#ax.plot(edges, proba, label='theory')\n",
    "#ax.legend();"
   ]
  },
  {
   "cell_type": "markdown",
   "metadata": {},
   "source": [
    "## Version used"
   ]
  },
  {
   "cell_type": "code",
   "execution_count": 11,
   "metadata": {
    "ExecuteTime": {
     "end_time": "2018-09-25T09:37:24.562304Z",
     "start_time": "2018-09-25T09:37:24.144155Z"
    }
   },
   "outputs": [
    {
     "data": {
      "application/json": {
       "Software versions": [
        {
         "module": "Python",
         "version": "3.6.5 64bit [GCC 4.2.1 Compatible Apple LLVM 9.1.0 (clang-902.0.39.2)]"
        },
        {
         "module": "IPython",
         "version": "6.5.0"
        },
        {
         "module": "OS",
         "version": "Darwin 17.7.0 x86_64 i386 64bit"
        },
        {
         "module": "shl_scripts",
         "version": "20171221"
        },
        {
         "module": "numpy",
         "version": "1.15.1"
        },
        {
         "module": "shl_scripts",
         "version": "20171221"
        },
        {
         "module": "pandas",
         "version": "0.23.4"
        },
        {
         "module": "matplotlib",
         "version": "3.0.0"
        }
       ]
      },
      "text/html": [
       "<table><tr><th>Software</th><th>Version</th></tr><tr><td>Python</td><td>3.6.5 64bit [GCC 4.2.1 Compatible Apple LLVM 9.1.0 (clang-902.0.39.2)]</td></tr><tr><td>IPython</td><td>6.5.0</td></tr><tr><td>OS</td><td>Darwin 17.7.0 x86_64 i386 64bit</td></tr><tr><td>shl_scripts</td><td>20171221</td></tr><tr><td>numpy</td><td>1.15.1</td></tr><tr><td>shl_scripts</td><td>20171221</td></tr><tr><td>pandas</td><td>0.23.4</td></tr><tr><td>matplotlib</td><td>3.0.0</td></tr><tr><td colspan='2'>Tue Sep 25 11:37:24 2018 CEST</td></tr></table>"
      ],
      "text/latex": [
       "\\begin{tabular}{|l|l|}\\hline\n",
       "{\\bf Software} & {\\bf Version} \\\\ \\hline\\hline\n",
       "Python & 3.6.5 64bit [GCC 4.2.1 Compatible Apple LLVM 9.1.0 (clang-902.0.39.2)] \\\\ \\hline\n",
       "IPython & 6.5.0 \\\\ \\hline\n",
       "OS & Darwin 17.7.0 x86\\_64 i386 64bit \\\\ \\hline\n",
       "shl_scripts & 20171221 \\\\ \\hline\n",
       "numpy & 1.15.1 \\\\ \\hline\n",
       "shl_scripts & 20171221 \\\\ \\hline\n",
       "pandas & 0.23.4 \\\\ \\hline\n",
       "matplotlib & 3.0.0 \\\\ \\hline\n",
       "\\hline \\multicolumn{2}{|l|}{Tue Sep 25 11:37:24 2018 CEST} \\\\ \\hline\n",
       "\\end{tabular}\n"
      ],
      "text/plain": [
       "Software versions\n",
       "Python 3.6.5 64bit [GCC 4.2.1 Compatible Apple LLVM 9.1.0 (clang-902.0.39.2)]\n",
       "IPython 6.5.0\n",
       "OS Darwin 17.7.0 x86_64 i386 64bit\n",
       "shl_scripts 20171221\n",
       "numpy 1.15.1\n",
       "shl_scripts 20171221\n",
       "pandas 0.23.4\n",
       "matplotlib 3.0.0\n",
       "Tue Sep 25 11:37:24 2018 CEST"
      ]
     },
     "execution_count": 11,
     "metadata": {},
     "output_type": "execute_result"
    }
   ],
   "source": [
    "%load_ext version_information\n",
    "%version_information shl_scripts, numpy, shl_scripts, pandas, matplotlib"
   ]
  }
 ],
 "metadata": {
  "kernelspec": {
   "display_name": "Python 3",
   "language": "python",
   "name": "python3"
  },
  "language_info": {
   "codemirror_mode": {
    "name": "ipython",
    "version": 3
   },
   "file_extension": ".py",
   "mimetype": "text/x-python",
   "name": "python",
   "nbconvert_exporter": "python",
   "pygments_lexer": "ipython3",
   "version": "3.6.5"
  },
  "toc": {
   "base_numbering": 1,
   "nav_menu": {
    "height": "102px",
    "width": "252px"
   },
   "number_sections": true,
   "sideBar": true,
   "skip_h1_title": false,
   "title_cell": "Table of Contents",
   "title_sidebar": "Contents",
   "toc_cell": false,
   "toc_position": {},
   "toc_section_display": "block",
   "toc_window_display": false
  }
 },
 "nbformat": 4,
 "nbformat_minor": 2
}
