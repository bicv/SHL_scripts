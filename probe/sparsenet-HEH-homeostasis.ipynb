{
 "cells": [
  {
   "cell_type": "markdown",
   "metadata": {},
   "source": [
    "# Sparse Hebbian Learning with Histogram Equalization Homeostasis : testing with different learning rates\n",
    "\n",
    "In this notebook, we test the convergence of SparseNet as a function of different learning parameters. This shows the relative robusteness of this method according to the coding parameters, but also the importance of homeostasis to obtain an efficient set of filters.\n",
    "\n",
    "It uses the full homeostasis layer (by setting ``alpha_homeo=0.``) - to be compared to a smoother Olshausen-like homeostasis.\n",
    "\n",
    "See also :\n",
    "* http://blog.invibe.net/posts/2015-05-05-reproducing-olshausens-classical-sparsenet.html for a description of how SparseNet is implemented in the scikit-learn package\n",
    "* http://blog.invibe.net/posts/2015-05-06-reproducing-olshausens-classical-sparsenet-part-2.html for a descrtiption of how we managed to implement the homeostasis"
   ]
  },
  {
   "cell_type": "raw",
   "metadata": {},
   "source": [
    "%load_ext autoreload\n",
    "%autoreload 2"
   ]
  },
  {
   "cell_type": "code",
   "execution_count": 1,
   "metadata": {
    "ExecuteTime": {
     "end_time": "2018-05-18T09:27:16.590641Z",
     "start_time": "2018-05-18T09:27:15.928145Z"
    }
   },
   "outputs": [],
   "source": [
    "%matplotlib inline\n",
    "import matplotlib.pyplot as plt\n",
    "import numpy as np\n",
    "np.set_printoptions(precision=2, suppress=True)"
   ]
  },
  {
   "cell_type": "code",
   "execution_count": 2,
   "metadata": {
    "ExecuteTime": {
     "end_time": "2018-05-18T09:27:16.709040Z",
     "start_time": "2018-05-18T09:27:16.592235Z"
    }
   },
   "outputs": [],
   "source": [
    "from shl_scripts.shl_experiments import SHL_set\n",
    "tag = 'HEH'\n",
    "experiments = SHL_set({})"
   ]
  },
  {
   "cell_type": "code",
   "execution_count": 3,
   "metadata": {
    "ExecuteTime": {
     "end_time": "2018-05-18T09:27:16.772501Z",
     "start_time": "2018-05-18T09:27:16.711320Z"
    }
   },
   "outputs": [
    {
     "name": "stdout",
     "output_type": "stream",
     "text": [
      "Overwriting cache_dir/HEH.py\n"
     ]
    }
   ],
   "source": [
    "%%writefile {experiments.shl.cache_dir}/{tag}.py\n",
    "\n",
    "import matplotlib.pyplot as plt\n",
    "import numpy as np\n",
    "np.set_printoptions(precision=2, suppress=True)\n",
    "\n",
    "import sys\n",
    "try:\n",
    "    command = sys.argv[1]\n",
    "except:\n",
    "    command = 'run'\n",
    "try:\n",
    "    n_jobs = sys.argv[2]\n",
    "except:\n",
    "    n_jobs = 4\n",
    "\n",
    "from shl_scripts.shl_experiments import SHL_set\n",
    "tag = 'HEH'\n",
    "opts = dict(homeo_method=tag, verbose=0)\n",
    "\n",
    "experiments = SHL_set(opts, tag=tag)\n",
    "\n",
    "variables = ['eta', 'alpha_homeo']\n",
    "variables = ['eta', 'alpha_homeo', 'eta_homeo']\n",
    "variables = ['eta', 'alpha_homeo', 'eta_homeo', 'l0_sparseness']\n",
    "\n",
    "list_figures = ['show_dico']\n",
    "list_figures = []\n",
    "\n",
    "display_variables = ['error', 'logL', 'cputime']\n",
    "display_variables = ['error', 'logL', 'qerror', 'aerror', 'MI', 'cputime']\n",
    "display_variables = ['error', 'logL', 'perror', 'MC', 'cputime']\n",
    "display_variables = ['F']\n",
    "\n",
    "if command == 'run':\n",
    "    experiments.run(variables=variables, n_jobs=n_jobs)\n",
    "\n",
    "if command == 'plot':\n",
    "    #fig, ax = experiments.scan(variable='eta', list_figures=[], display='dynamic')\n",
    "    #fig, ax = experiments.scan(variable='eta', list_figures=[], display='final')\n",
    "    for variable in variables:\n",
    "        experiments = SHL_set(opts, tag=tag)\n",
    "        experiments.scan(variable=variable, list_figures=list_figures, display='')\n",
    "        plt.show()\n",
    "\n",
    "        for display_variable in display_variables:\n",
    "            print('Time evolution of ', display_variable)\n",
    "            fig, ax = experiments.scan(variable=variable, list_figures=[], display='dynamic', display_variable=display_variable)\n",
    "            plt.show()\n",
    "        plt.show()\n",
    "\n",
    "        for display_variable in display_variables:\n",
    "            print('Comparison at the end of learning for ', display_variable)\n",
    "            fig, ax = experiments.scan(variable=variable, list_figures=[], display='final', \n",
    "                                       label=tag, display_variable=display_variable)\n",
    "            plt.show()\n",
    "        "
   ]
  },
  {
   "cell_type": "code",
   "execution_count": 4,
   "metadata": {
    "ExecuteTime": {
     "end_time": "2018-05-18T09:27:16.863837Z",
     "start_time": "2018-05-18T09:27:16.774521Z"
    }
   },
   "outputs": [],
   "source": [
    "%run {experiments.shl.cache_dir}/{tag}.py load"
   ]
  },
  {
   "cell_type": "code",
   "execution_count": 5,
   "metadata": {
    "ExecuteTime": {
     "end_time": "2018-05-18T09:27:17.185576Z",
     "start_time": "2018-05-18T09:27:16.865697Z"
    }
   },
   "outputs": [
    {
     "name": "stdout",
     "output_type": "stream",
     "text": [
      "-rw-r--r--  1 laurentperrinet  staff  1780481 May 15 11:51 cache_dir/HEH - alpha_homeo=0.00250_dico.pkl\r\n",
      "-rw-r--r--  1 laurentperrinet  staff  1780481 May 15 11:58 cache_dir/HEH - alpha_homeo=0.00354_dico.pkl\r\n",
      "-rw-r--r--  1 laurentperrinet  staff  1780481 May 15 12:05 cache_dir/HEH - alpha_homeo=0.00500_dico.pkl\r\n",
      "-rw-r--r--  1 laurentperrinet  staff  1780481 May 15 10:02 cache_dir/HEH - alpha_homeo=0.00618_dico.pkl\r\n",
      "-rw-r--r--  1 laurentperrinet  staff  1780481 May 15 10:02 cache_dir/HEH - alpha_homeo=0.00697_dico.pkl\r\n",
      "-rw-r--r--  1 laurentperrinet  staff  1780481 May 15 12:11 cache_dir/HEH - alpha_homeo=0.00707_dico.pkl\r\n",
      "-rw-r--r--  1 laurentperrinet  staff  1780481 May 15 10:02 cache_dir/HEH - alpha_homeo=0.00786_dico.pkl\r\n",
      "-rw-r--r--  1 laurentperrinet  staff  1780481 May 15 10:10 cache_dir/HEH - alpha_homeo=0.00887_dico.pkl\r\n",
      "-rw-r--r--  1 laurentperrinet  staff  1780481 May 15 10:10 cache_dir/HEH - alpha_homeo=0.01000_dico.pkl\r\n",
      "-rw-r--r--  1 laurentperrinet  staff  1780481 May 15 10:10 cache_dir/HEH - alpha_homeo=0.01128_dico.pkl\r\n",
      "-rw-r--r--  1 laurentperrinet  staff  1780481 May 15 10:10 cache_dir/HEH - alpha_homeo=0.01272_dico.pkl\r\n",
      "-rw-r--r--  1 laurentperrinet  staff  1780481 May 15 12:18 cache_dir/HEH - alpha_homeo=0.01414_dico.pkl\r\n",
      "-rw-r--r--  1 laurentperrinet  staff  1780481 May 15 10:17 cache_dir/HEH - alpha_homeo=0.01435_dico.pkl\r\n",
      "-rw-r--r--  1 laurentperrinet  staff  1780481 May 15 10:18 cache_dir/HEH - alpha_homeo=0.01618_dico.pkl\r\n",
      "-rw-r--r--  1 laurentperrinet  staff  1780481 May 15 12:25 cache_dir/HEH - alpha_homeo=0.02000_dico.pkl\r\n",
      "-rw-r--r--  1 laurentperrinet  staff  1780481 May 15 12:31 cache_dir/HEH - alpha_homeo=0.02828_dico.pkl\r\n",
      "-rw-r--r--  1 laurentperrinet  staff  1780481 May 15 12:38 cache_dir/HEH - alpha_homeo=0.04000_dico.pkl\r\n",
      "-rw-r--r--  1 laurentperrinet  staff  1954297 May 18 10:10 cache_dir/HEH - alpha_homeo=0.04944_dico.pkl\r\n",
      "-rw-r--r--  1 laurentperrinet  staff  1954297 May 18 10:10 cache_dir/HEH - alpha_homeo=0.05576_dico.pkl\r\n",
      "-rw-r--r--  1 laurentperrinet  staff  1954297 May 18 10:10 cache_dir/HEH - alpha_homeo=0.06289_dico.pkl\r\n",
      "-rw-r--r--  1 laurentperrinet  staff  1954297 May 18 10:31 cache_dir/HEH - alpha_homeo=0.07093_dico.pkl\r\n",
      "-rw-r--r--  1 laurentperrinet  staff  1954297 May 18 10:31 cache_dir/HEH - alpha_homeo=0.08000_dico.pkl\r\n",
      "-rw-r--r--  1 laurentperrinet  staff  1954297 May 18 10:31 cache_dir/HEH - alpha_homeo=0.09023_dico.pkl\r\n",
      "-rw-r--r--  1 laurentperrinet  staff  1954297 May 18 10:31 cache_dir/HEH - alpha_homeo=0.10176_dico.pkl\r\n",
      "-rw-r--r--  1 laurentperrinet  staff  1954297 May 18 10:55 cache_dir/HEH - alpha_homeo=0.11477_dico.pkl\r\n",
      "-rw-r--r--  1 laurentperrinet  staff  1954297 May 18 10:55 cache_dir/HEH - alpha_homeo=0.12944_dico.pkl\r\n",
      "-rw-r--r--  1 laurentperrinet  staff  1780481 May 15 10:58 cache_dir/HEH - eta=0.00125_dico.pkl\r\n",
      "-rw-r--r--  1 laurentperrinet  staff  1780481 May 15 11:05 cache_dir/HEH - eta=0.00177_dico.pkl\r\n",
      "-rw-r--r--  1 laurentperrinet  staff  1954297 May 18 09:26 cache_dir/HEH - eta=0.00185_dico.pkl\r\n",
      "-rw-r--r--  1 laurentperrinet  staff  1954297 May 18 09:26 cache_dir/HEH - eta=0.00209_dico.pkl\r\n",
      "-rw-r--r--  1 laurentperrinet  staff  1954297 May 18 09:26 cache_dir/HEH - eta=0.00236_dico.pkl\r\n",
      "-rw-r--r--  1 laurentperrinet  staff  1780481 May 15 11:12 cache_dir/HEH - eta=0.00250_dico.pkl\r\n",
      "-rw-r--r--  1 laurentperrinet  staff  1954297 May 18 09:26 cache_dir/HEH - eta=0.00266_dico.pkl\r\n",
      "-rw-r--r--  1 laurentperrinet  staff  1954297 May 18 09:48 cache_dir/HEH - eta=0.00300_dico.pkl\r\n",
      "-rw-r--r--  1 laurentperrinet  staff  1780481 May 15 09:45 cache_dir/HEH - eta=0.00309_dico.pkl\r\n",
      "-rw-r--r--  1 laurentperrinet  staff  1954297 May 18 09:48 cache_dir/HEH - eta=0.00338_dico.pkl\r\n",
      "-rw-r--r--  1 laurentperrinet  staff  1780481 May 15 09:45 cache_dir/HEH - eta=0.00349_dico.pkl\r\n",
      "-rw-r--r--  1 laurentperrinet  staff  1780481 May 15 11:18 cache_dir/HEH - eta=0.00354_dico.pkl\r\n",
      "-rw-r--r--  1 laurentperrinet  staff  1954297 May 18 09:48 cache_dir/HEH - eta=0.00382_dico.pkl\r\n",
      "-rw-r--r--  1 laurentperrinet  staff  1780481 May 15 09:45 cache_dir/HEH - eta=0.00393_dico.pkl\r\n",
      "-rw-r--r--  1 laurentperrinet  staff  1954297 May 18 09:48 cache_dir/HEH - eta=0.00430_dico.pkl\r\n",
      "-rw-r--r--  1 laurentperrinet  staff  1780481 May 15 09:45 cache_dir/HEH - eta=0.00443_dico.pkl\r\n",
      "-rw-r--r--  1 laurentperrinet  staff  1954297 May 18 10:10 cache_dir/HEH - eta=0.00485_dico.pkl\r\n",
      "-rw-r--r--  1 laurentperrinet  staff  1780481 May 15 09:54 cache_dir/HEH - eta=0.00500_dico.pkl\r\n",
      "-rw-r--r--  1 laurentperrinet  staff  1780481 May 15 09:54 cache_dir/HEH - eta=0.00564_dico.pkl\r\n",
      "-rw-r--r--  1 laurentperrinet  staff  1954297 May 17 17:05 cache_dir/HEH - eta=0.00618_dico.pkl\r\n",
      "-rw-r--r--  1 laurentperrinet  staff  1780481 May 15 09:54 cache_dir/HEH - eta=0.00636_dico.pkl\r\n",
      "-rw-r--r--  1 laurentperrinet  staff  1954297 May 17 17:05 cache_dir/HEH - eta=0.00697_dico.pkl\r\n",
      "-rw-r--r--  1 laurentperrinet  staff  1780481 May 15 11:25 cache_dir/HEH - eta=0.00707_dico.pkl\r\n",
      "-rw-r--r--  1 laurentperrinet  staff  1780481 May 15 09:54 cache_dir/HEH - eta=0.00717_dico.pkl\r\n",
      "-rw-r--r--  1 laurentperrinet  staff  1954297 May 17 17:05 cache_dir/HEH - eta=0.00786_dico.pkl\r\n",
      "-rw-r--r--  1 laurentperrinet  staff  1780481 May 15 10:02 cache_dir/HEH - eta=0.00809_dico.pkl\r\n",
      "-rw-r--r--  1 laurentperrinet  staff  1954297 May 17 17:05 cache_dir/HEH - eta=0.00887_dico.pkl\r\n",
      "-rw-r--r--  1 laurentperrinet  staff  1780481 May 15 11:31 cache_dir/HEH - eta=0.01000_dico.pkl\r\n",
      "-rw-r--r--  1 laurentperrinet  staff  1780481 May 15 11:38 cache_dir/HEH - eta=0.01414_dico.pkl\r\n",
      "-rw-r--r--  1 laurentperrinet  staff  1780481 May 15 11:45 cache_dir/HEH - eta=0.02000_dico.pkl\r\n",
      "-rw-r--r--  1 laurentperrinet  staff  1954297 May 18 10:55 cache_dir/HEH - eta_homeo=0.01236_dico.pkl\r\n",
      "-rw-r--r--  1 laurentperrinet  staff  1780481 May 15 12:44 cache_dir/HEH - eta_homeo=0.01250_dico.pkl\r\n",
      "-rw-r--r--  1 laurentperrinet  staff  1954297 May 18 10:55 cache_dir/HEH - eta_homeo=0.01394_dico.pkl\r\n",
      "-rw-r--r--  1 laurentperrinet  staff  1954297 May 18 11:16 cache_dir/HEH - eta_homeo=0.01572_dico.pkl\r\n",
      "-rw-r--r--  1 laurentperrinet  staff  1780481 May 15 12:51 cache_dir/HEH - eta_homeo=0.01768_dico.pkl\r\n",
      "-rw-r--r--  1 laurentperrinet  staff  1954297 May 18 11:17 cache_dir/HEH - eta_homeo=0.01773_dico.pkl\r\n",
      "-rw-r--r--  1 laurentperrinet  staff  1954297 May 18 11:17 cache_dir/HEH - eta_homeo=0.02000_dico.pkl\r\n",
      "-rw-r--r--  1 laurentperrinet  staff  1954297 May 18 11:17 cache_dir/HEH - eta_homeo=0.02256_dico.pkl\r\n",
      "-rw-r--r--  1 laurentperrinet  staff  1780481 May 15 12:57 cache_dir/HEH - eta_homeo=0.02500_dico.pkl\r\n",
      "-rw-r--r--  1 laurentperrinet  staff        0 May 18 11:16 cache_dir/HEH - eta_homeo=0.02544_dico.pkl_lock\r\n",
      "-rw-r--r--  1 laurentperrinet  staff        0 May 18 11:16 cache_dir/HEH - eta_homeo=0.02544_dico.pkl_lock_pid-3467_host-fortytwo\r\n",
      "-rw-r--r--  1 laurentperrinet  staff        0 May 18 11:17 cache_dir/HEH - eta_homeo=0.02869_dico.pkl_lock\r\n",
      "-rw-r--r--  1 laurentperrinet  staff        0 May 18 11:17 cache_dir/HEH - eta_homeo=0.02869_dico.pkl_lock_pid-3466_host-fortytwo\r\n",
      "-rw-r--r--  1 laurentperrinet  staff  1780481 May 15 10:18 cache_dir/HEH - eta_homeo=0.03090_dico.pkl\r\n",
      "-rw-r--r--  1 laurentperrinet  staff        0 May 18 11:17 cache_dir/HEH - eta_homeo=0.03236_dico.pkl_lock\r\n",
      "-rw-r--r--  1 laurentperrinet  staff        0 May 18 11:17 cache_dir/HEH - eta_homeo=0.03236_dico.pkl_lock_pid-3464_host-fortytwo\r\n",
      "-rw-r--r--  1 laurentperrinet  staff  1780481 May 15 10:18 cache_dir/HEH - eta_homeo=0.03485_dico.pkl\r\n",
      "-rw-r--r--  1 laurentperrinet  staff  1780481 May 15 13:04 cache_dir/HEH - eta_homeo=0.03536_dico.pkl\r\n",
      "-rw-r--r--  1 laurentperrinet  staff  1780481 May 15 10:25 cache_dir/HEH - eta_homeo=0.03931_dico.pkl\r\n",
      "-rw-r--r--  1 laurentperrinet  staff  1780481 May 15 10:25 cache_dir/HEH - eta_homeo=0.04433_dico.pkl\r\n",
      "-rw-r--r--  1 laurentperrinet  staff  1780481 May 15 10:25 cache_dir/HEH - eta_homeo=0.05000_dico.pkl\r\n",
      "-rw-r--r--  1 laurentperrinet  staff  1780481 May 15 10:25 cache_dir/HEH - eta_homeo=0.05639_dico.pkl\r\n",
      "-rw-r--r--  1 laurentperrinet  staff  1780481 May 15 10:33 cache_dir/HEH - eta_homeo=0.06360_dico.pkl\r\n",
      "-rw-r--r--  1 laurentperrinet  staff  1780481 May 15 13:10 cache_dir/HEH - eta_homeo=0.07071_dico.pkl\r\n",
      "-rw-r--r--  1 laurentperrinet  staff  1780481 May 15 10:33 cache_dir/HEH - eta_homeo=0.07173_dico.pkl\r\n",
      "-rw-r--r--  1 laurentperrinet  staff  1780481 May 15 10:33 cache_dir/HEH - eta_homeo=0.08090_dico.pkl\r\n",
      "-rw-r--r--  1 laurentperrinet  staff  1780481 May 15 13:16 cache_dir/HEH - eta_homeo=0.10000_dico.pkl\r\n",
      "-rw-r--r--  1 laurentperrinet  staff  1780481 May 15 13:23 cache_dir/HEH - eta_homeo=0.14142_dico.pkl\r\n",
      "-rw-r--r--  1 laurentperrinet  staff  1780481 May 15 13:29 cache_dir/HEH - eta_homeo=0.20000_dico.pkl\r\n",
      "-rw-r--r--  1 laurentperrinet  staff  1780426 May 15 10:39 cache_dir/HEH - l0_sparseness=10_dico.pkl\r\n",
      "-rw-r--r--  1 laurentperrinet  staff  1780426 May 15 10:39 cache_dir/HEH - l0_sparseness=11_dico.pkl\r\n",
      "-rw-r--r--  1 laurentperrinet  staff        0 May 18 11:17 cache_dir/HEH - l0_sparseness=12_dico.pkl_lock\r\n",
      "-rw-r--r--  1 laurentperrinet  staff        0 May 18 11:17 cache_dir/HEH - l0_sparseness=12_dico.pkl_lock_pid-3465_host-fortytwo\r\n",
      "-rw-r--r--  1 laurentperrinet  staff  1780426 May 15 10:40 cache_dir/HEH - l0_sparseness=13_dico.pkl\r\n",
      "-rw-r--r--  1 laurentperrinet  staff  1780426 May 15 10:44 cache_dir/HEH - l0_sparseness=14_dico.pkl\r\n",
      "-rw-r--r--  1 laurentperrinet  staff  1780426 May 15 10:48 cache_dir/HEH - l0_sparseness=16_dico.pkl\r\n",
      "-rw-r--r--  1 laurentperrinet  staff  1780426 May 15 10:49 cache_dir/HEH - l0_sparseness=18_dico.pkl\r\n",
      "-rw-r--r--  1 laurentperrinet  staff  1780426 May 15 10:51 cache_dir/HEH - l0_sparseness=21_dico.pkl\r\n",
      "-rw-r--r--  1 laurentperrinet  staff  1780426 May 15 13:50 cache_dir/HEH - l0_sparseness=26_dico.pkl\r\n",
      "-rw-r--r--  1 laurentperrinet  staff  1780426 May 15 14:06 cache_dir/HEH - l0_sparseness=36_dico.pkl\r\n",
      "-rw-r--r--  1 laurentperrinet  staff  1780426 May 15 13:32 cache_dir/HEH - l0_sparseness=3_dico.pkl\r\n",
      "-rw-r--r--  1 laurentperrinet  staff  1780426 May 15 13:35 cache_dir/HEH - l0_sparseness=4_dico.pkl\r\n",
      "-rw-r--r--  1 laurentperrinet  staff  1780426 May 15 14:27 cache_dir/HEH - l0_sparseness=52_dico.pkl\r\n",
      "-rw-r--r--  1 laurentperrinet  staff  1780426 May 15 13:39 cache_dir/HEH - l0_sparseness=6_dico.pkl\r\n",
      "-rw-r--r--  1 laurentperrinet  staff  1780426 May 15 10:31 cache_dir/HEH - l0_sparseness=8_dico.pkl\r\n",
      "-rw-r--r--  1 laurentperrinet  staff  1780426 May 15 10:37 cache_dir/HEH - l0_sparseness=9_dico.pkl\r\n",
      "-rw-r--r--  1 laurentperrinet  staff     1842 May 18 11:27 cache_dir/HEH.py\r\n"
     ]
    }
   ],
   "source": [
    "!ls -l {experiments.shl.cache_dir}/{tag}*\n",
    "!rm -fr {experiments.shl.cache_dir}/{tag}*lock*"
   ]
  },
  {
   "cell_type": "raw",
   "metadata": {},
   "source": [
    "!rm -fr {experiments.shl.cache_dir}/{tag}*\n",
    "#!rm -fr cache_dir/data_data.npy\n",
    "!ls -l {experiments.shl.cache_dir}/{tag}*"
   ]
  },
  {
   "cell_type": "code",
   "execution_count": 6,
   "metadata": {
    "ExecuteTime": {
     "end_time": "2018-05-18T10:15:45.807587Z",
     "start_time": "2018-05-18T09:27:17.187833Z"
    }
   },
   "outputs": [
    {
     "name": "stdout",
     "output_type": "stream",
     "text": [
      "DEBUG: eta 0.007 [0.004326248586243765, 0.004879306646571945, 0.005503066427339067, 0.006206566280269105, 0.007, 0.007894864533352806, 0.00890412657142743, 0.010042410438463819, 0.011326210000000001]\n",
      "DEBUG: alpha_homeo 0.08 [0.049442840985643034, 0.055763504532250804, 0.0628921877410179, 0.07093218606021834, 0.08, 0.09022702323831779, 0.1017614465305992, 0.11477040501101508, 0.1294424]\n",
      "DEBUG: eta_homeo 0.02 [0.012360710246410759, 0.013940876133062701, 0.015723046935254475, 0.017733046515054585, 0.02, 0.022556755809579446, 0.0254403616326498, 0.02869260125275377, 0.0323606]\n",
      "DEBUG: l0_sparseness 21 [12, 14, 16, 18, 21, 23, 26, 30, 33]\n",
      "Running variable eta with value 0.004326248586243765\n",
      "Running variable eta with value 0.004879306646571945\n",
      "Running variable eta with value 0.005503066427339067\n",
      "Running variable eta with value 0.006206566280269105\n",
      "Running variable eta with value 0.007\n"
     ]
    },
    {
     "name": "stderr",
     "output_type": "stream",
     "text": [
      "[Parallel(n_jobs=4)]: Done   1 tasks      | elapsed: 22.2min\n"
     ]
    },
    {
     "name": "stdout",
     "output_type": "stream",
     "text": [
      "Running variable eta with value 0.007894864533352806\n"
     ]
    },
    {
     "name": "stderr",
     "output_type": "stream",
     "text": [
      "[Parallel(n_jobs=4)]: Done   2 tasks      | elapsed: 22.3min\n"
     ]
    },
    {
     "name": "stdout",
     "output_type": "stream",
     "text": [
      "Running variable eta with value 0.00890412657142743\n"
     ]
    },
    {
     "name": "stderr",
     "output_type": "stream",
     "text": [
      "[Parallel(n_jobs=4)]: Done   3 tasks      | elapsed: 22.3min\n"
     ]
    },
    {
     "name": "stdout",
     "output_type": "stream",
     "text": [
      "Running variable eta with value 0.010042410438463819\n"
     ]
    },
    {
     "name": "stderr",
     "output_type": "stream",
     "text": [
      "[Parallel(n_jobs=4)]: Done   4 tasks      | elapsed: 22.3min\n"
     ]
    },
    {
     "name": "stdout",
     "output_type": "stream",
     "text": [
      "Running variable eta with value 0.011326210000000001\n"
     ]
    },
    {
     "name": "stderr",
     "output_type": "stream",
     "text": [
      "[Parallel(n_jobs=4)]: Done   5 tasks      | elapsed: 44.4min\n"
     ]
    },
    {
     "name": "stdout",
     "output_type": "stream",
     "text": [
      "Running variable alpha_homeo with value 0.049442840985643034\n",
      "Running variable alpha_homeo with value 0.055763504532250804\n",
      "Running variable alpha_homeo with value 0.0628921877410179\n",
      "Running variable alpha_homeo with value 0.07093218606021834\n"
     ]
    },
    {
     "name": "stderr",
     "output_type": "stream",
     "text": [
      "[Parallel(n_jobs=4)]: Done   6 tasks      | elapsed: 44.5min\n",
      "[Parallel(n_jobs=4)]: Done   7 tasks      | elapsed: 44.5min\n",
      "[Parallel(n_jobs=4)]: Done   8 tasks      | elapsed: 44.5min\n",
      "[Parallel(n_jobs=4)]: Done   9 tasks      | elapsed: 44.5min\n",
      "[Parallel(n_jobs=4)]: Done  10 tasks      | elapsed: 44.5min\n"
     ]
    },
    {
     "name": "stdout",
     "output_type": "stream",
     "text": [
      "Running variable alpha_homeo with value 0.08\n"
     ]
    },
    {
     "name": "stderr",
     "output_type": "stream",
     "text": [
      "[Parallel(n_jobs=4)]: Done  11 tasks      | elapsed: 44.5min\n"
     ]
    },
    {
     "name": "stdout",
     "output_type": "stream",
     "text": [
      "Running variable alpha_homeo with value 0.09022702323831779\n"
     ]
    },
    {
     "name": "stderr",
     "output_type": "stream",
     "text": [
      "[Parallel(n_jobs=4)]: Done  12 tasks      | elapsed: 44.5min\n"
     ]
    },
    {
     "name": "stdout",
     "output_type": "stream",
     "text": [
      "Running variable alpha_homeo with value 0.1017614465305992\n"
     ]
    },
    {
     "name": "stderr",
     "output_type": "stream",
     "text": [
      "[Parallel(n_jobs=4)]: Done  13 tasks      | elapsed: 44.5min\n"
     ]
    },
    {
     "name": "stdout",
     "output_type": "stream",
     "text": [
      "Running variable alpha_homeo with value 0.11477040501101508\n"
     ]
    },
    {
     "name": "stderr",
     "output_type": "stream",
     "text": [
      "[Parallel(n_jobs=4)]: Done  14 tasks      | elapsed: 44.5min\n"
     ]
    },
    {
     "name": "stdout",
     "output_type": "stream",
     "text": [
      "Running variable alpha_homeo with value 0.1294424\n"
     ]
    },
    {
     "name": "stderr",
     "output_type": "stream",
     "text": [
      "[Parallel(n_jobs=4)]: Done  15 tasks      | elapsed: 44.5min\n",
      "[Parallel(n_jobs=4)]: Done  16 tasks      | elapsed: 44.5min\n"
     ]
    },
    {
     "name": "stdout",
     "output_type": "stream",
     "text": [
      "Running variable eta_homeo with value 0.012360710246410759\n"
     ]
    },
    {
     "name": "stderr",
     "output_type": "stream",
     "text": [
      "[Parallel(n_jobs=4)]: Done  17 tasks      | elapsed: 44.5min\n"
     ]
    },
    {
     "name": "stdout",
     "output_type": "stream",
     "text": [
      "Running variable eta_homeo with value 0.013940876133062701\n"
     ]
    },
    {
     "name": "stderr",
     "output_type": "stream",
     "text": [
      "[Parallel(n_jobs=4)]: Done  18 tasks      | elapsed: 44.5min\n"
     ]
    },
    {
     "name": "stdout",
     "output_type": "stream",
     "text": [
      "Running variable eta_homeo with value 0.015723046935254475\n"
     ]
    },
    {
     "name": "stderr",
     "output_type": "stream",
     "text": [
      "[Parallel(n_jobs=4)]: Done  19 tasks      | elapsed: 44.5min\n"
     ]
    },
    {
     "name": "stdout",
     "output_type": "stream",
     "text": [
      "Running variable eta_homeo with value 0.017733046515054585\n"
     ]
    },
    {
     "name": "stderr",
     "output_type": "stream",
     "text": [
      "[Parallel(n_jobs=4)]: Done  20 tasks      | elapsed: 44.5min\n"
     ]
    },
    {
     "name": "stdout",
     "output_type": "stream",
     "text": [
      "Running variable eta_homeo with value 0.02\n"
     ]
    },
    {
     "name": "stderr",
     "output_type": "stream",
     "text": [
      "[Parallel(n_jobs=4)]: Done  21 tasks      | elapsed: 44.5min\n"
     ]
    },
    {
     "name": "stdout",
     "output_type": "stream",
     "text": [
      "Running variable eta_homeo with value 0.022556755809579446\n"
     ]
    },
    {
     "name": "stderr",
     "output_type": "stream",
     "text": [
      "[Parallel(n_jobs=4)]: Done  22 tasks      | elapsed: 44.5min\n"
     ]
    },
    {
     "name": "stdout",
     "output_type": "stream",
     "text": [
      "Running variable eta_homeo with value 0.0254403616326498\n",
      "Running variable eta_homeo with value 0.02869260125275377\n",
      "Running variable eta_homeo with value 0.0323606\n"
     ]
    },
    {
     "name": "stderr",
     "output_type": "stream",
     "text": [
      "[Parallel(n_jobs=4)]: Done  23 tasks      | elapsed: 44.6min\n"
     ]
    },
    {
     "ename": "KeyboardInterrupt",
     "evalue": "",
     "output_type": "error",
     "traceback": [
      "\u001b[0;31m---------------------------------------------------------------------------\u001b[0m",
      "\u001b[0;31mKeyboardInterrupt\u001b[0m                         Traceback (most recent call last)",
      "\u001b[0;32m~/science/SHL_master/probe/cache_dir/HEH.py\u001b[0m in \u001b[0;36m<module>\u001b[0;34m()\u001b[0m\n\u001b[1;32m     33\u001b[0m \u001b[0;34m\u001b[0m\u001b[0m\n\u001b[1;32m     34\u001b[0m \u001b[0;32mif\u001b[0m \u001b[0mcommand\u001b[0m \u001b[0;34m==\u001b[0m \u001b[0;34m'run'\u001b[0m\u001b[0;34m:\u001b[0m\u001b[0;34m\u001b[0m\u001b[0m\n\u001b[0;32m---> 35\u001b[0;31m     \u001b[0mexperiments\u001b[0m\u001b[0;34m.\u001b[0m\u001b[0mrun\u001b[0m\u001b[0;34m(\u001b[0m\u001b[0mvariables\u001b[0m\u001b[0;34m=\u001b[0m\u001b[0mvariables\u001b[0m\u001b[0;34m,\u001b[0m \u001b[0mn_jobs\u001b[0m\u001b[0;34m=\u001b[0m\u001b[0mn_jobs\u001b[0m\u001b[0;34m)\u001b[0m\u001b[0;34m\u001b[0m\u001b[0m\n\u001b[0m\u001b[1;32m     36\u001b[0m \u001b[0;34m\u001b[0m\u001b[0m\n\u001b[1;32m     37\u001b[0m \u001b[0;32mif\u001b[0m \u001b[0mcommand\u001b[0m \u001b[0;34m==\u001b[0m \u001b[0;34m'plot'\u001b[0m\u001b[0;34m:\u001b[0m\u001b[0;34m\u001b[0m\u001b[0m\n",
      "\u001b[0;32m~/science/SHL_master/shl_scripts/shl_experiments.py\u001b[0m in \u001b[0;36mrun\u001b[0;34m(self, N_scan, variables, base, n_jobs, list_figures, verbose)\u001b[0m\n\u001b[1;32m    419\u001b[0m             \u001b[0;32mfrom\u001b[0m \u001b[0mjoblib\u001b[0m \u001b[0;32mimport\u001b[0m \u001b[0mParallel\u001b[0m\u001b[0;34m,\u001b[0m \u001b[0mdelayed\u001b[0m\u001b[0;34m\u001b[0m\u001b[0m\n\u001b[1;32m    420\u001b[0m             \u001b[0;31m# , backend=\"threading\"\u001b[0m\u001b[0;34m\u001b[0m\u001b[0;34m\u001b[0m\u001b[0m\n\u001b[0;32m--> 421\u001b[0;31m             \u001b[0mParallel\u001b[0m\u001b[0;34m(\u001b[0m\u001b[0mn_jobs\u001b[0m\u001b[0;34m=\u001b[0m\u001b[0mn_jobs\u001b[0m\u001b[0;34m,\u001b[0m \u001b[0mverbose\u001b[0m\u001b[0;34m=\u001b[0m\u001b[0;36m15\u001b[0m\u001b[0;34m)\u001b[0m\u001b[0;34m(\u001b[0m\u001b[0mdelayed\u001b[0m\u001b[0;34m(\u001b[0m\u001b[0mprun\u001b[0m\u001b[0;34m)\u001b[0m\u001b[0;34m(\u001b[0m\u001b[0mvariable\u001b[0m\u001b[0;34m,\u001b[0m \u001b[0mvalue\u001b[0m\u001b[0;34m,\u001b[0m \u001b[0mself\u001b[0m\u001b[0;34m.\u001b[0m\u001b[0mdata\u001b[0m\u001b[0;34m,\u001b[0m \u001b[0mself\u001b[0m\u001b[0;34m.\u001b[0m\u001b[0mopts\u001b[0m\u001b[0;34m,\u001b[0m \u001b[0mself\u001b[0m\u001b[0;34m.\u001b[0m\u001b[0mmatname\u001b[0m\u001b[0;34m(\u001b[0m\u001b[0mvariable\u001b[0m\u001b[0;34m,\u001b[0m \u001b[0mvalue\u001b[0m\u001b[0;34m)\u001b[0m\u001b[0;34m,\u001b[0m \u001b[0mlist_figures\u001b[0m\u001b[0;34m,\u001b[0m \u001b[0mverbose\u001b[0m\u001b[0;34m)\u001b[0m \u001b[0;32mfor\u001b[0m \u001b[0;34m(\u001b[0m\u001b[0mvariable\u001b[0m\u001b[0;34m,\u001b[0m \u001b[0mvalue\u001b[0m\u001b[0;34m)\u001b[0m \u001b[0;32min\u001b[0m \u001b[0mzip\u001b[0m\u001b[0;34m(\u001b[0m\u001b[0mvariables_\u001b[0m\u001b[0;34m,\u001b[0m \u001b[0mvalues_\u001b[0m\u001b[0;34m)\u001b[0m\u001b[0;34m)\u001b[0m\u001b[0;34m\u001b[0m\u001b[0m\n\u001b[0m\u001b[1;32m    422\u001b[0m \u001b[0;34m\u001b[0m\u001b[0m\n\u001b[1;32m    423\u001b[0m     def scan(self, N_scan=None, variable='eta', list_figures=[], base=4,\n",
      "\u001b[0;32m/usr/local/lib/python3.6/site-packages/joblib/parallel.py\u001b[0m in \u001b[0;36m__call__\u001b[0;34m(self, iterable)\u001b[0m\n\u001b[1;32m    787\u001b[0m                 \u001b[0;31m# consumption.\u001b[0m\u001b[0;34m\u001b[0m\u001b[0;34m\u001b[0m\u001b[0m\n\u001b[1;32m    788\u001b[0m                 \u001b[0mself\u001b[0m\u001b[0;34m.\u001b[0m\u001b[0m_iterating\u001b[0m \u001b[0;34m=\u001b[0m \u001b[0;32mFalse\u001b[0m\u001b[0;34m\u001b[0m\u001b[0m\n\u001b[0;32m--> 789\u001b[0;31m             \u001b[0mself\u001b[0m\u001b[0;34m.\u001b[0m\u001b[0mretrieve\u001b[0m\u001b[0;34m(\u001b[0m\u001b[0;34m)\u001b[0m\u001b[0;34m\u001b[0m\u001b[0m\n\u001b[0m\u001b[1;32m    790\u001b[0m             \u001b[0;31m# Make sure that we get a last message telling us we are done\u001b[0m\u001b[0;34m\u001b[0m\u001b[0;34m\u001b[0m\u001b[0m\n\u001b[1;32m    791\u001b[0m             \u001b[0melapsed_time\u001b[0m \u001b[0;34m=\u001b[0m \u001b[0mtime\u001b[0m\u001b[0;34m.\u001b[0m\u001b[0mtime\u001b[0m\u001b[0;34m(\u001b[0m\u001b[0;34m)\u001b[0m \u001b[0;34m-\u001b[0m \u001b[0mself\u001b[0m\u001b[0;34m.\u001b[0m\u001b[0m_start_time\u001b[0m\u001b[0;34m\u001b[0m\u001b[0m\n",
      "\u001b[0;32m/usr/local/lib/python3.6/site-packages/joblib/parallel.py\u001b[0m in \u001b[0;36mretrieve\u001b[0;34m(self)\u001b[0m\n\u001b[1;32m    697\u001b[0m             \u001b[0;32mtry\u001b[0m\u001b[0;34m:\u001b[0m\u001b[0;34m\u001b[0m\u001b[0m\n\u001b[1;32m    698\u001b[0m                 \u001b[0;32mif\u001b[0m \u001b[0mgetattr\u001b[0m\u001b[0;34m(\u001b[0m\u001b[0mself\u001b[0m\u001b[0;34m.\u001b[0m\u001b[0m_backend\u001b[0m\u001b[0;34m,\u001b[0m \u001b[0;34m'supports_timeout'\u001b[0m\u001b[0;34m,\u001b[0m \u001b[0;32mFalse\u001b[0m\u001b[0;34m)\u001b[0m\u001b[0;34m:\u001b[0m\u001b[0;34m\u001b[0m\u001b[0m\n\u001b[0;32m--> 699\u001b[0;31m                     \u001b[0mself\u001b[0m\u001b[0;34m.\u001b[0m\u001b[0m_output\u001b[0m\u001b[0;34m.\u001b[0m\u001b[0mextend\u001b[0m\u001b[0;34m(\u001b[0m\u001b[0mjob\u001b[0m\u001b[0;34m.\u001b[0m\u001b[0mget\u001b[0m\u001b[0;34m(\u001b[0m\u001b[0mtimeout\u001b[0m\u001b[0;34m=\u001b[0m\u001b[0mself\u001b[0m\u001b[0;34m.\u001b[0m\u001b[0mtimeout\u001b[0m\u001b[0;34m)\u001b[0m\u001b[0;34m)\u001b[0m\u001b[0;34m\u001b[0m\u001b[0m\n\u001b[0m\u001b[1;32m    700\u001b[0m                 \u001b[0;32melse\u001b[0m\u001b[0;34m:\u001b[0m\u001b[0;34m\u001b[0m\u001b[0m\n\u001b[1;32m    701\u001b[0m                     \u001b[0mself\u001b[0m\u001b[0;34m.\u001b[0m\u001b[0m_output\u001b[0m\u001b[0;34m.\u001b[0m\u001b[0mextend\u001b[0m\u001b[0;34m(\u001b[0m\u001b[0mjob\u001b[0m\u001b[0;34m.\u001b[0m\u001b[0mget\u001b[0m\u001b[0;34m(\u001b[0m\u001b[0;34m)\u001b[0m\u001b[0;34m)\u001b[0m\u001b[0;34m\u001b[0m\u001b[0m\n",
      "\u001b[0;32m/usr/local/Cellar/python/3.6.5/Frameworks/Python.framework/Versions/3.6/lib/python3.6/multiprocessing/pool.py\u001b[0m in \u001b[0;36mget\u001b[0;34m(self, timeout)\u001b[0m\n\u001b[1;32m    636\u001b[0m \u001b[0;34m\u001b[0m\u001b[0m\n\u001b[1;32m    637\u001b[0m     \u001b[0;32mdef\u001b[0m \u001b[0mget\u001b[0m\u001b[0;34m(\u001b[0m\u001b[0mself\u001b[0m\u001b[0;34m,\u001b[0m \u001b[0mtimeout\u001b[0m\u001b[0;34m=\u001b[0m\u001b[0;32mNone\u001b[0m\u001b[0;34m)\u001b[0m\u001b[0;34m:\u001b[0m\u001b[0;34m\u001b[0m\u001b[0m\n\u001b[0;32m--> 638\u001b[0;31m         \u001b[0mself\u001b[0m\u001b[0;34m.\u001b[0m\u001b[0mwait\u001b[0m\u001b[0;34m(\u001b[0m\u001b[0mtimeout\u001b[0m\u001b[0;34m)\u001b[0m\u001b[0;34m\u001b[0m\u001b[0m\n\u001b[0m\u001b[1;32m    639\u001b[0m         \u001b[0;32mif\u001b[0m \u001b[0;32mnot\u001b[0m \u001b[0mself\u001b[0m\u001b[0;34m.\u001b[0m\u001b[0mready\u001b[0m\u001b[0;34m(\u001b[0m\u001b[0;34m)\u001b[0m\u001b[0;34m:\u001b[0m\u001b[0;34m\u001b[0m\u001b[0m\n\u001b[1;32m    640\u001b[0m             \u001b[0;32mraise\u001b[0m \u001b[0mTimeoutError\u001b[0m\u001b[0;34m\u001b[0m\u001b[0m\n",
      "\u001b[0;32m/usr/local/Cellar/python/3.6.5/Frameworks/Python.framework/Versions/3.6/lib/python3.6/multiprocessing/pool.py\u001b[0m in \u001b[0;36mwait\u001b[0;34m(self, timeout)\u001b[0m\n\u001b[1;32m    633\u001b[0m \u001b[0;34m\u001b[0m\u001b[0m\n\u001b[1;32m    634\u001b[0m     \u001b[0;32mdef\u001b[0m \u001b[0mwait\u001b[0m\u001b[0;34m(\u001b[0m\u001b[0mself\u001b[0m\u001b[0;34m,\u001b[0m \u001b[0mtimeout\u001b[0m\u001b[0;34m=\u001b[0m\u001b[0;32mNone\u001b[0m\u001b[0;34m)\u001b[0m\u001b[0;34m:\u001b[0m\u001b[0;34m\u001b[0m\u001b[0m\n\u001b[0;32m--> 635\u001b[0;31m         \u001b[0mself\u001b[0m\u001b[0;34m.\u001b[0m\u001b[0m_event\u001b[0m\u001b[0;34m.\u001b[0m\u001b[0mwait\u001b[0m\u001b[0;34m(\u001b[0m\u001b[0mtimeout\u001b[0m\u001b[0;34m)\u001b[0m\u001b[0;34m\u001b[0m\u001b[0m\n\u001b[0m\u001b[1;32m    636\u001b[0m \u001b[0;34m\u001b[0m\u001b[0m\n\u001b[1;32m    637\u001b[0m     \u001b[0;32mdef\u001b[0m \u001b[0mget\u001b[0m\u001b[0;34m(\u001b[0m\u001b[0mself\u001b[0m\u001b[0;34m,\u001b[0m \u001b[0mtimeout\u001b[0m\u001b[0;34m=\u001b[0m\u001b[0;32mNone\u001b[0m\u001b[0;34m)\u001b[0m\u001b[0;34m:\u001b[0m\u001b[0;34m\u001b[0m\u001b[0m\n",
      "\u001b[0;32m/usr/local/Cellar/python/3.6.5/Frameworks/Python.framework/Versions/3.6/lib/python3.6/threading.py\u001b[0m in \u001b[0;36mwait\u001b[0;34m(self, timeout)\u001b[0m\n\u001b[1;32m    549\u001b[0m             \u001b[0msignaled\u001b[0m \u001b[0;34m=\u001b[0m \u001b[0mself\u001b[0m\u001b[0;34m.\u001b[0m\u001b[0m_flag\u001b[0m\u001b[0;34m\u001b[0m\u001b[0m\n\u001b[1;32m    550\u001b[0m             \u001b[0;32mif\u001b[0m \u001b[0;32mnot\u001b[0m \u001b[0msignaled\u001b[0m\u001b[0;34m:\u001b[0m\u001b[0;34m\u001b[0m\u001b[0m\n\u001b[0;32m--> 551\u001b[0;31m                 \u001b[0msignaled\u001b[0m \u001b[0;34m=\u001b[0m \u001b[0mself\u001b[0m\u001b[0;34m.\u001b[0m\u001b[0m_cond\u001b[0m\u001b[0;34m.\u001b[0m\u001b[0mwait\u001b[0m\u001b[0;34m(\u001b[0m\u001b[0mtimeout\u001b[0m\u001b[0;34m)\u001b[0m\u001b[0;34m\u001b[0m\u001b[0m\n\u001b[0m\u001b[1;32m    552\u001b[0m             \u001b[0;32mreturn\u001b[0m \u001b[0msignaled\u001b[0m\u001b[0;34m\u001b[0m\u001b[0m\n\u001b[1;32m    553\u001b[0m \u001b[0;34m\u001b[0m\u001b[0m\n",
      "\u001b[0;32m/usr/local/Cellar/python/3.6.5/Frameworks/Python.framework/Versions/3.6/lib/python3.6/threading.py\u001b[0m in \u001b[0;36mwait\u001b[0;34m(self, timeout)\u001b[0m\n\u001b[1;32m    293\u001b[0m         \u001b[0;32mtry\u001b[0m\u001b[0;34m:\u001b[0m    \u001b[0;31m# restore state no matter what (e.g., KeyboardInterrupt)\u001b[0m\u001b[0;34m\u001b[0m\u001b[0m\n\u001b[1;32m    294\u001b[0m             \u001b[0;32mif\u001b[0m \u001b[0mtimeout\u001b[0m \u001b[0;32mis\u001b[0m \u001b[0;32mNone\u001b[0m\u001b[0;34m:\u001b[0m\u001b[0;34m\u001b[0m\u001b[0m\n\u001b[0;32m--> 295\u001b[0;31m                 \u001b[0mwaiter\u001b[0m\u001b[0;34m.\u001b[0m\u001b[0macquire\u001b[0m\u001b[0;34m(\u001b[0m\u001b[0;34m)\u001b[0m\u001b[0;34m\u001b[0m\u001b[0m\n\u001b[0m\u001b[1;32m    296\u001b[0m                 \u001b[0mgotit\u001b[0m \u001b[0;34m=\u001b[0m \u001b[0;32mTrue\u001b[0m\u001b[0;34m\u001b[0m\u001b[0m\n\u001b[1;32m    297\u001b[0m             \u001b[0;32melse\u001b[0m\u001b[0;34m:\u001b[0m\u001b[0;34m\u001b[0m\u001b[0m\n",
      "\u001b[0;31mKeyboardInterrupt\u001b[0m: "
     ]
    }
   ],
   "source": [
    "%run {experiments.shl.cache_dir}/{tag}.py run"
   ]
  },
  {
   "cell_type": "code",
   "execution_count": 7,
   "metadata": {
    "ExecuteTime": {
     "end_time": "2018-05-18T10:15:50.039790Z",
     "start_time": "2018-05-18T10:15:45.810265Z"
    },
    "scrolled": false
   },
   "outputs": [
    {
     "ename": "KeyboardInterrupt",
     "evalue": "",
     "output_type": "error",
     "traceback": [
      "\u001b[0;31m---------------------------------------------------------------------------\u001b[0m",
      "\u001b[0;31mKeyboardInterrupt\u001b[0m                         Traceback (most recent call last)",
      "\u001b[0;32m~/science/SHL_master/probe/cache_dir/HEH.py\u001b[0m in \u001b[0;36m<module>\u001b[0;34m()\u001b[0m\n\u001b[1;32m     40\u001b[0m     \u001b[0;32mfor\u001b[0m \u001b[0mvariable\u001b[0m \u001b[0;32min\u001b[0m \u001b[0mvariables\u001b[0m\u001b[0;34m:\u001b[0m\u001b[0;34m\u001b[0m\u001b[0m\n\u001b[1;32m     41\u001b[0m         \u001b[0mexperiments\u001b[0m \u001b[0;34m=\u001b[0m \u001b[0mSHL_set\u001b[0m\u001b[0;34m(\u001b[0m\u001b[0mopts\u001b[0m\u001b[0;34m,\u001b[0m \u001b[0mtag\u001b[0m\u001b[0;34m=\u001b[0m\u001b[0mtag\u001b[0m\u001b[0;34m)\u001b[0m\u001b[0;34m\u001b[0m\u001b[0m\n\u001b[0;32m---> 42\u001b[0;31m         \u001b[0mexperiments\u001b[0m\u001b[0;34m.\u001b[0m\u001b[0mscan\u001b[0m\u001b[0;34m(\u001b[0m\u001b[0mvariable\u001b[0m\u001b[0;34m=\u001b[0m\u001b[0mvariable\u001b[0m\u001b[0;34m,\u001b[0m \u001b[0mlist_figures\u001b[0m\u001b[0;34m=\u001b[0m\u001b[0mlist_figures\u001b[0m\u001b[0;34m,\u001b[0m \u001b[0mdisplay\u001b[0m\u001b[0;34m=\u001b[0m\u001b[0;34m''\u001b[0m\u001b[0;34m)\u001b[0m\u001b[0;34m\u001b[0m\u001b[0m\n\u001b[0m\u001b[1;32m     43\u001b[0m         \u001b[0mplt\u001b[0m\u001b[0;34m.\u001b[0m\u001b[0mshow\u001b[0m\u001b[0;34m(\u001b[0m\u001b[0;34m)\u001b[0m\u001b[0;34m\u001b[0m\u001b[0m\n\u001b[1;32m     44\u001b[0m \u001b[0;34m\u001b[0m\u001b[0m\n",
      "\u001b[0;32m~/science/SHL_master/shl_scripts/shl_experiments.py\u001b[0m in \u001b[0;36mscan\u001b[0;34m(self, N_scan, variable, list_figures, base, display, display_variable, alpha, color, label, fname, fig, ax, verbose)\u001b[0m\n\u001b[1;32m    427\u001b[0m         \u001b[0;31m# defining  the range of the scan\u001b[0m\u001b[0;34m\u001b[0m\u001b[0;34m\u001b[0m\u001b[0m\n\u001b[1;32m    428\u001b[0m         \u001b[0;32mif\u001b[0m \u001b[0mN_scan\u001b[0m \u001b[0;32mis\u001b[0m \u001b[0;32mNone\u001b[0m\u001b[0;34m:\u001b[0m \u001b[0mN_scan\u001b[0m \u001b[0;34m=\u001b[0m \u001b[0mself\u001b[0m\u001b[0;34m.\u001b[0m\u001b[0mN_scan\u001b[0m\u001b[0;34m\u001b[0m\u001b[0m\n\u001b[0;32m--> 429\u001b[0;31m         \u001b[0mself\u001b[0m\u001b[0;34m.\u001b[0m\u001b[0mrun\u001b[0m\u001b[0;34m(\u001b[0m\u001b[0mN_scan\u001b[0m\u001b[0;34m=\u001b[0m\u001b[0mN_scan\u001b[0m\u001b[0;34m,\u001b[0m \u001b[0mvariables\u001b[0m\u001b[0;34m=\u001b[0m\u001b[0;34m[\u001b[0m\u001b[0mvariable\u001b[0m\u001b[0;34m]\u001b[0m\u001b[0;34m,\u001b[0m \u001b[0mbase\u001b[0m\u001b[0;34m=\u001b[0m\u001b[0mbase\u001b[0m\u001b[0;34m,\u001b[0m \u001b[0mn_jobs\u001b[0m\u001b[0;34m=\u001b[0m\u001b[0;36m1\u001b[0m\u001b[0;34m,\u001b[0m \u001b[0mverbose\u001b[0m\u001b[0;34m=\u001b[0m\u001b[0mverbose\u001b[0m\u001b[0;34m)\u001b[0m\u001b[0;34m\u001b[0m\u001b[0m\n\u001b[0m\u001b[1;32m    430\u001b[0m \u001b[0;34m\u001b[0m\u001b[0m\n\u001b[1;32m    431\u001b[0m         \u001b[0;32mif\u001b[0m \u001b[0mdisplay\u001b[0m \u001b[0;34m==\u001b[0m \u001b[0;34m'dynamic'\u001b[0m\u001b[0;34m:\u001b[0m\u001b[0;34m\u001b[0m\u001b[0m\n",
      "\u001b[0;32m~/science/SHL_master/shl_scripts/shl_experiments.py\u001b[0m in \u001b[0;36mrun\u001b[0;34m(self, N_scan, variables, base, n_jobs, list_figures, verbose)\u001b[0m\n\u001b[1;32m    411\u001b[0m             \u001b[0;32mfor\u001b[0m \u001b[0mvariable\u001b[0m\u001b[0;34m,\u001b[0m \u001b[0mvalue\u001b[0m \u001b[0;32min\u001b[0m \u001b[0mzip\u001b[0m\u001b[0;34m(\u001b[0m\u001b[0mvariables_\u001b[0m\u001b[0;34m,\u001b[0m \u001b[0mvalues_\u001b[0m\u001b[0;34m)\u001b[0m\u001b[0;34m:\u001b[0m\u001b[0;34m\u001b[0m\u001b[0m\n\u001b[1;32m    412\u001b[0m                 shl = prun(variable, value, self.data, self.opts,\n\u001b[0;32m--> 413\u001b[0;31m                             self.matname(variable, value), list_figures, verbose)\n\u001b[0m\u001b[1;32m    414\u001b[0m                 dico = shl.learn_dico(data=self.data,\n\u001b[1;32m    415\u001b[0m                             \u001b[0mmatname\u001b[0m\u001b[0;34m=\u001b[0m\u001b[0mself\u001b[0m\u001b[0;34m.\u001b[0m\u001b[0mmatname\u001b[0m\u001b[0;34m(\u001b[0m\u001b[0mvariable\u001b[0m\u001b[0;34m,\u001b[0m \u001b[0mvalue\u001b[0m\u001b[0;34m)\u001b[0m\u001b[0;34m,\u001b[0m\u001b[0;34m\u001b[0m\u001b[0m\n",
      "\u001b[0;32m~/science/SHL_master/shl_scripts/shl_experiments.py\u001b[0m in \u001b[0;36mprun\u001b[0;34m(variable, value, data, opts, matname, list_figures, verbose)\u001b[0m\n\u001b[1;32m    518\u001b[0m         \u001b[0mdata\u001b[0m \u001b[0;34m=\u001b[0m \u001b[0mshl\u001b[0m\u001b[0;34m.\u001b[0m\u001b[0mget_data\u001b[0m\u001b[0;34m(\u001b[0m\u001b[0;34m**\u001b[0m\u001b[0;34m{\u001b[0m\u001b[0mvariable\u001b[0m\u001b[0;34m:\u001b[0m\u001b[0mvalue\u001b[0m\u001b[0;34m}\u001b[0m\u001b[0;34m)\u001b[0m\u001b[0;34m\u001b[0m\u001b[0m\n\u001b[1;32m    519\u001b[0m     dico = shl.learn_dico(data=data, matname=matname,\n\u001b[0;32m--> 520\u001b[0;31m                 list_figures=list_figures)\n\u001b[0m\u001b[1;32m    521\u001b[0m     \u001b[0;32mreturn\u001b[0m \u001b[0mshl\u001b[0m\u001b[0;34m\u001b[0m\u001b[0m\n\u001b[1;32m    522\u001b[0m \u001b[0;34m\u001b[0m\u001b[0m\n",
      "\u001b[0;32m~/science/SHL_master/shl_scripts/shl_experiments.py\u001b[0m in \u001b[0;36mlearn_dico\u001b[0;34m(self, dictionary, precision, P_cum, data, matname, record_each, folder_exp, list_figures, fname)\u001b[0m\n\u001b[1;32m    255\u001b[0m \u001b[0;34m\u001b[0m\u001b[0m\n\u001b[1;32m    256\u001b[0m                         dico = self.learn_dico(data=data, dictionary=dictionary, precision=precision, P_cum=P_cum,\n\u001b[0;32m--> 257\u001b[0;31m                                                matname=None)\n\u001b[0m\u001b[1;32m    258\u001b[0m                         \u001b[0;32mwith\u001b[0m \u001b[0mopen\u001b[0m\u001b[0;34m(\u001b[0m\u001b[0mfmatname\u001b[0m\u001b[0;34m,\u001b[0m \u001b[0;34m'wb'\u001b[0m\u001b[0;34m)\u001b[0m \u001b[0;32mas\u001b[0m \u001b[0mfp\u001b[0m\u001b[0;34m:\u001b[0m\u001b[0;34m\u001b[0m\u001b[0m\n\u001b[1;32m    259\u001b[0m                             \u001b[0mpickle\u001b[0m\u001b[0;34m.\u001b[0m\u001b[0mdump\u001b[0m\u001b[0;34m(\u001b[0m\u001b[0mdico\u001b[0m\u001b[0;34m,\u001b[0m \u001b[0mfp\u001b[0m\u001b[0;34m)\u001b[0m\u001b[0;34m\u001b[0m\u001b[0m\n",
      "\u001b[0;32m~/science/SHL_master/shl_scripts/shl_experiments.py\u001b[0m in \u001b[0;36mlearn_dico\u001b[0;34m(self, dictionary, precision, P_cum, data, matname, record_each, folder_exp, list_figures, fname)\u001b[0m\n\u001b[1;32m    235\u001b[0m \u001b[0;34m\u001b[0m\u001b[0m\n\u001b[1;32m    236\u001b[0m             \u001b[0;32mif\u001b[0m \u001b[0mself\u001b[0m\u001b[0;34m.\u001b[0m\u001b[0mverbose\u001b[0m\u001b[0;34m:\u001b[0m \u001b[0mprint\u001b[0m\u001b[0;34m(\u001b[0m\u001b[0;34m'Training on %d patches'\u001b[0m \u001b[0;34m%\u001b[0m \u001b[0mlen\u001b[0m\u001b[0;34m(\u001b[0m\u001b[0mdata\u001b[0m\u001b[0;34m)\u001b[0m\u001b[0;34m)\u001b[0m\u001b[0;34m\u001b[0m\u001b[0m\n\u001b[0;32m--> 237\u001b[0;31m             \u001b[0mdico\u001b[0m\u001b[0;34m.\u001b[0m\u001b[0mfit\u001b[0m\u001b[0;34m(\u001b[0m\u001b[0mdata\u001b[0m\u001b[0;34m)\u001b[0m\u001b[0;34m\u001b[0m\u001b[0m\n\u001b[0m\u001b[1;32m    238\u001b[0m \u001b[0;34m\u001b[0m\u001b[0m\n\u001b[1;32m    239\u001b[0m             \u001b[0;32mif\u001b[0m \u001b[0mself\u001b[0m\u001b[0;34m.\u001b[0m\u001b[0mverbose\u001b[0m\u001b[0;34m:\u001b[0m\u001b[0;34m\u001b[0m\u001b[0m\n",
      "\u001b[0;32m~/science/SHL_master/shl_scripts/shl_learn.py\u001b[0m in \u001b[0;36mfit\u001b[0;34m(self, X, y)\u001b[0m\n\u001b[1;32m    152\u001b[0m                                   \u001b[0mrecord_each\u001b[0m\u001b[0;34m=\u001b[0m\u001b[0mself\u001b[0m\u001b[0;34m.\u001b[0m\u001b[0mrecord_each\u001b[0m\u001b[0;34m,\u001b[0m\u001b[0;34m\u001b[0m\u001b[0m\n\u001b[1;32m    153\u001b[0m                                   \u001b[0mrecord_num_batches\u001b[0m\u001b[0;34m=\u001b[0m\u001b[0mself\u001b[0m\u001b[0;34m.\u001b[0m\u001b[0mrecord_num_batches\u001b[0m\u001b[0;34m,\u001b[0m\u001b[0;34m\u001b[0m\u001b[0m\n\u001b[0;32m--> 154\u001b[0;31m                                   \u001b[0mverbose\u001b[0m\u001b[0;34m=\u001b[0m\u001b[0mself\u001b[0m\u001b[0;34m.\u001b[0m\u001b[0mverbose\u001b[0m\u001b[0;34m\u001b[0m\u001b[0m\n\u001b[0m\u001b[1;32m    155\u001b[0m                                   )\n\u001b[1;32m    156\u001b[0m \u001b[0;34m\u001b[0m\u001b[0m\n",
      "\u001b[0;32m~/science/SHL_master/shl_scripts/shl_learn.py\u001b[0m in \u001b[0;36mdict_learning\u001b[0;34m(X, dictionary, precision, eta, beta1, beta2, epsilon, homeo_method, eta_homeo, alpha_homeo, C, nb_quant, P_cum, n_dictionary, l0_sparseness, fit_tol, do_precision, n_iter, one_over_F, batch_size, record_each, record_num_batches, verbose, method, do_sym)\u001b[0m\n\u001b[1;32m    447\u001b[0m                                              \u001b[0mP_cum\u001b[0m\u001b[0;34m=\u001b[0m\u001b[0mP_cum\u001b[0m\u001b[0;34m,\u001b[0m \u001b[0mgain\u001b[0m\u001b[0;34m=\u001b[0m\u001b[0mgain\u001b[0m\u001b[0;34m,\u001b[0m\u001b[0;34m\u001b[0m\u001b[0m\n\u001b[1;32m    448\u001b[0m                                              \u001b[0mC\u001b[0m\u001b[0;34m=\u001b[0m\u001b[0mC\u001b[0m\u001b[0;34m,\u001b[0m \u001b[0mdo_sym\u001b[0m\u001b[0;34m=\u001b[0m\u001b[0mdo_sym\u001b[0m\u001b[0;34m,\u001b[0m\u001b[0;34m\u001b[0m\u001b[0m\n\u001b[0;32m--> 449\u001b[0;31m                                              l0_sparseness=l0_sparseness)\n\u001b[0m\u001b[1;32m    450\u001b[0m \u001b[0;34m\u001b[0m\u001b[0m\n\u001b[1;32m    451\u001b[0m                 \u001b[0;32mfrom\u001b[0m \u001b[0mscipy\u001b[0m\u001b[0;34m.\u001b[0m\u001b[0mstats\u001b[0m \u001b[0;32mimport\u001b[0m \u001b[0mkurtosis\u001b[0m\u001b[0;34m\u001b[0m\u001b[0m\n",
      "\u001b[0;32m~/science/SHL_master/shl_scripts/shl_tools.py\u001b[0m in \u001b[0;36mget_perror\u001b[0;34m(X_train, dictionary, precision, algorithm, fit_tol, P_cum, gain, C, do_sym, l0_sparseness)\u001b[0m\n\u001b[1;32m    216\u001b[0m                              \u001b[0mP_cum\u001b[0m\u001b[0;34m=\u001b[0m\u001b[0mP_cum\u001b[0m\u001b[0;34m,\u001b[0m \u001b[0mgain\u001b[0m\u001b[0;34m=\u001b[0m\u001b[0mgain\u001b[0m\u001b[0;34m,\u001b[0m\u001b[0;34m\u001b[0m\u001b[0m\n\u001b[1;32m    217\u001b[0m                                 \u001b[0mC\u001b[0m\u001b[0;34m=\u001b[0m\u001b[0mC\u001b[0m\u001b[0;34m,\u001b[0m \u001b[0mdo_sym\u001b[0m\u001b[0;34m=\u001b[0m\u001b[0mdo_sym\u001b[0m\u001b[0;34m,\u001b[0m\u001b[0;34m\u001b[0m\u001b[0m\n\u001b[0;32m--> 218\u001b[0;31m                              l0_sparseness=l0_sparseness)\n\u001b[0m\u001b[1;32m    219\u001b[0m \u001b[0;34m\u001b[0m\u001b[0m\n\u001b[1;32m    220\u001b[0m     \u001b[0;31m# thr = np.percentile(sparse_code_bar.ravel(), 100 * (1 - l0_sparseness_high/n_dictionary ), axis=0)\u001b[0m\u001b[0;34m\u001b[0m\u001b[0;34m\u001b[0m\u001b[0m\n",
      "\u001b[0;32m~/science/SHL_master/shl_scripts/shl_encode.py\u001b[0m in \u001b[0;36msparse_encode\u001b[0;34m(X, dictionary, precision, algorithm, fit_tol, P_cum, l0_sparseness, C, do_sym, verbose, gain)\u001b[0m\n\u001b[1;32m    114\u001b[0m         sparse_code = mp(X, dictionary, precision, l0_sparseness=l0_sparseness,\n\u001b[1;32m    115\u001b[0m                          \u001b[0mfit_tol\u001b[0m\u001b[0;34m=\u001b[0m\u001b[0mfit_tol\u001b[0m\u001b[0;34m,\u001b[0m \u001b[0mP_cum\u001b[0m\u001b[0;34m=\u001b[0m\u001b[0mP_cum\u001b[0m\u001b[0;34m,\u001b[0m \u001b[0mC\u001b[0m\u001b[0;34m=\u001b[0m\u001b[0mC\u001b[0m\u001b[0;34m,\u001b[0m \u001b[0mdo_sym\u001b[0m\u001b[0;34m=\u001b[0m\u001b[0mdo_sym\u001b[0m\u001b[0;34m,\u001b[0m\u001b[0;34m\u001b[0m\u001b[0m\n\u001b[0;32m--> 116\u001b[0;31m                          verbose=verbose, gain=gain)\n\u001b[0m\u001b[1;32m    117\u001b[0m     \u001b[0;32melse\u001b[0m\u001b[0;34m:\u001b[0m\u001b[0;34m\u001b[0m\u001b[0m\n\u001b[1;32m    118\u001b[0m         raise ValueError('Sparse coding method must be \"mp\", \"lasso_lars\" '\n",
      "\u001b[0;32m~/science/SHL_master/shl_scripts/shl_encode.py\u001b[0m in \u001b[0;36mmp\u001b[0;34m(X, dictionary, precision, l0_sparseness, fit_tol, alpha_MP, do_sym, P_cum, do_fast, C, verbose, gain)\u001b[0m\n\u001b[1;32m    252\u001b[0m             \u001b[0;31m#while (i_l0 < l0_sparseness) or (SE > fit_tol * SE_0):\u001b[0m\u001b[0;34m\u001b[0m\u001b[0;34m\u001b[0m\u001b[0m\n\u001b[1;32m    253\u001b[0m             \u001b[0;32mfor\u001b[0m \u001b[0mi_l0\u001b[0m \u001b[0;32min\u001b[0m \u001b[0mrange\u001b[0m\u001b[0;34m(\u001b[0m\u001b[0mint\u001b[0m\u001b[0;34m(\u001b[0m\u001b[0ml0_sparseness\u001b[0m\u001b[0;34m)\u001b[0m\u001b[0;34m)\u001b[0m \u001b[0;34m:\u001b[0m\u001b[0;34m\u001b[0m\u001b[0m\n\u001b[0;32m--> 254\u001b[0;31m                 \u001b[0mr\u001b[0m \u001b[0;34m=\u001b[0m \u001b[0mrescaling\u001b[0m\u001b[0;34m(\u001b[0m\u001b[0mc\u001b[0m\u001b[0;34m,\u001b[0m \u001b[0mC\u001b[0m\u001b[0;34m=\u001b[0m\u001b[0mC\u001b[0m\u001b[0;34m,\u001b[0m \u001b[0mdo_sym\u001b[0m\u001b[0;34m=\u001b[0m\u001b[0mdo_sym\u001b[0m\u001b[0;34m)\u001b[0m\u001b[0;34m\u001b[0m\u001b[0m\n\u001b[0m\u001b[1;32m    255\u001b[0m                 \u001b[0mq\u001b[0m \u001b[0;34m=\u001b[0m \u001b[0mquantile\u001b[0m\u001b[0;34m(\u001b[0m\u001b[0mP_cum\u001b[0m\u001b[0;34m,\u001b[0m \u001b[0mr\u001b[0m\u001b[0;34m,\u001b[0m \u001b[0mstick\u001b[0m\u001b[0;34m,\u001b[0m \u001b[0mdo_fast\u001b[0m\u001b[0;34m=\u001b[0m\u001b[0mdo_fast\u001b[0m\u001b[0;34m)\u001b[0m\u001b[0;34m\u001b[0m\u001b[0m\n\u001b[1;32m    256\u001b[0m \u001b[0;34m\u001b[0m\u001b[0m\n",
      "\u001b[0;32m~/science/SHL_master/shl_scripts/shl_encode.py\u001b[0m in \u001b[0;36mrescaling\u001b[0;34m(code, C, do_sym, verbose)\u001b[0m\n\u001b[1;32m    144\u001b[0m \u001b[0;34m\u001b[0m\u001b[0m\n\u001b[1;32m    145\u001b[0m     \"\"\"\n\u001b[0;32m--> 146\u001b[0;31m     \u001b[0;32mreturn\u001b[0m \u001b[0;36m1.\u001b[0m\u001b[0;34m-\u001b[0m\u001b[0mnp\u001b[0m\u001b[0;34m.\u001b[0m\u001b[0mexp\u001b[0m\u001b[0;34m(\u001b[0m\u001b[0;34m-\u001b[0m\u001b[0mrectify\u001b[0m\u001b[0;34m(\u001b[0m\u001b[0mcode\u001b[0m\u001b[0;34m,\u001b[0m \u001b[0mdo_sym\u001b[0m\u001b[0;34m=\u001b[0m\u001b[0mdo_sym\u001b[0m\u001b[0;34m)\u001b[0m\u001b[0;34m/\u001b[0m\u001b[0mC\u001b[0m\u001b[0;34m)\u001b[0m\u001b[0;34m\u001b[0m\u001b[0m\n\u001b[0m\u001b[1;32m    147\u001b[0m \u001b[0;34m\u001b[0m\u001b[0m\n\u001b[1;32m    148\u001b[0m \u001b[0;34m\u001b[0m\u001b[0m\n",
      "\u001b[0;32m~/science/SHL_master/shl_scripts/shl_encode.py\u001b[0m in \u001b[0;36mrectify\u001b[0;34m(code, do_sym, verbose)\u001b[0m\n\u001b[1;32m    132\u001b[0m     \u001b[0;32melse\u001b[0m\u001b[0;34m:\u001b[0m\u001b[0;34m\u001b[0m\u001b[0m\n\u001b[1;32m    133\u001b[0m         \u001b[0;31m# ReLU\u001b[0m\u001b[0;34m\u001b[0m\u001b[0;34m\u001b[0m\u001b[0m\n\u001b[0;32m--> 134\u001b[0;31m         \u001b[0;32mreturn\u001b[0m \u001b[0mcode\u001b[0m\u001b[0;34m*\u001b[0m\u001b[0;34m(\u001b[0m\u001b[0mcode\u001b[0m\u001b[0;34m>\u001b[0m\u001b[0;36m0\u001b[0m\u001b[0;34m)\u001b[0m\u001b[0;34m\u001b[0m\u001b[0m\n\u001b[0m\u001b[1;32m    135\u001b[0m \u001b[0;34m\u001b[0m\u001b[0m\n\u001b[1;32m    136\u001b[0m \u001b[0;34m\u001b[0m\u001b[0m\n",
      "\u001b[0;31mKeyboardInterrupt\u001b[0m: "
     ]
    }
   ],
   "source": [
    "%run {experiments.shl.cache_dir}/{tag}.py plot"
   ]
  },
  {
   "cell_type": "markdown",
   "metadata": {},
   "source": [
    "## Version used"
   ]
  },
  {
   "cell_type": "code",
   "execution_count": 8,
   "metadata": {
    "ExecuteTime": {
     "end_time": "2018-05-18T10:15:50.225951Z",
     "start_time": "2018-05-18T10:15:50.041462Z"
    }
   },
   "outputs": [],
   "source": [
    "%load_ext version_information"
   ]
  },
  {
   "cell_type": "code",
   "execution_count": 9,
   "metadata": {
    "ExecuteTime": {
     "end_time": "2018-05-18T10:15:50.254372Z",
     "start_time": "2018-05-18T10:15:50.227857Z"
    }
   },
   "outputs": [
    {
     "data": {
      "application/json": {
       "Software versions": [
        {
         "module": "Python",
         "version": "3.6.5 64bit [GCC 4.2.1 Compatible Apple LLVM 9.1.0 (clang-902.0.39.1)]"
        },
        {
         "module": "IPython",
         "version": "6.4.0"
        },
        {
         "module": "OS",
         "version": "Darwin 17.5.0 x86_64 i386 64bit"
        },
        {
         "module": "numpy",
         "version": "1.14.3"
        },
        {
         "module": "shl_scripts",
         "version": "20171221"
        }
       ]
      },
      "text/html": [
       "<table><tr><th>Software</th><th>Version</th></tr><tr><td>Python</td><td>3.6.5 64bit [GCC 4.2.1 Compatible Apple LLVM 9.1.0 (clang-902.0.39.1)]</td></tr><tr><td>IPython</td><td>6.4.0</td></tr><tr><td>OS</td><td>Darwin 17.5.0 x86_64 i386 64bit</td></tr><tr><td>numpy</td><td>1.14.3</td></tr><tr><td>shl_scripts</td><td>20171221</td></tr><tr><td colspan='2'>Fri May 18 12:15:50 2018 CEST</td></tr></table>"
      ],
      "text/latex": [
       "\\begin{tabular}{|l|l|}\\hline\n",
       "{\\bf Software} & {\\bf Version} \\\\ \\hline\\hline\n",
       "Python & 3.6.5 64bit [GCC 4.2.1 Compatible Apple LLVM 9.1.0 (clang-902.0.39.1)] \\\\ \\hline\n",
       "IPython & 6.4.0 \\\\ \\hline\n",
       "OS & Darwin 17.5.0 x86\\_64 i386 64bit \\\\ \\hline\n",
       "numpy & 1.14.3 \\\\ \\hline\n",
       "shl_scripts & 20171221 \\\\ \\hline\n",
       "\\hline \\multicolumn{2}{|l|}{Fri May 18 12:15:50 2018 CEST} \\\\ \\hline\n",
       "\\end{tabular}\n"
      ],
      "text/plain": [
       "Software versions\n",
       "Python 3.6.5 64bit [GCC 4.2.1 Compatible Apple LLVM 9.1.0 (clang-902.0.39.1)]\n",
       "IPython 6.4.0\n",
       "OS Darwin 17.5.0 x86_64 i386 64bit\n",
       "numpy 1.14.3\n",
       "shl_scripts 20171221\n",
       "Fri May 18 12:15:50 2018 CEST"
      ]
     },
     "execution_count": 9,
     "metadata": {},
     "output_type": "execute_result"
    }
   ],
   "source": [
    "%version_information numpy, shl_scripts"
   ]
  }
 ],
 "metadata": {
  "kernelspec": {
   "display_name": "Python 3",
   "language": "python",
   "name": "python3"
  },
  "language_info": {
   "codemirror_mode": {
    "name": "ipython",
    "version": 3
   },
   "file_extension": ".py",
   "mimetype": "text/x-python",
   "name": "python",
   "nbconvert_exporter": "python",
   "pygments_lexer": "ipython3",
   "version": "3.6.5"
  },
  "toc": {
   "base_numbering": 1,
   "nav_menu": {
    "height": "81px",
    "width": "252px"
   },
   "number_sections": true,
   "sideBar": true,
   "skip_h1_title": false,
   "title_cell": "Table of Contents",
   "title_sidebar": "Contents",
   "toc_cell": false,
   "toc_position": {},
   "toc_section_display": "block",
   "toc_window_display": false
  }
 },
 "nbformat": 4,
 "nbformat_minor": 2
}
