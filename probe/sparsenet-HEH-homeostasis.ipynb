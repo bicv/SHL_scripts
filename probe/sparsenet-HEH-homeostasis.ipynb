{
 "cells": [
  {
   "cell_type": "markdown",
   "metadata": {},
   "source": [
    "# Sparse Hebbian Learning with Histogram Equalization Homeostasis : testing with different learning rates\n",
    "\n",
    "In this notebook, we test the convergence of SparseNet as a function of different learning parameters. This shows the relative robusteness of this method according to the coding parameters, but also the importance of homeostasis to obtain an efficient set of filters.\n",
    "\n",
    "It uses the full homeostasis layer (by setting ``alpha_homeo=0.``) - to be compared to a smoother Olshausen-like homeostasis.\n",
    "\n",
    "See also :\n",
    "* http://blog.invibe.net/posts/2015-05-05-reproducing-olshausens-classical-sparsenet.html for a description of how SparseNet is implemented in the scikit-learn package\n",
    "* http://blog.invibe.net/posts/2015-05-06-reproducing-olshausens-classical-sparsenet-part-2.html for a descrtiption of how we managed to implement the homeostasis"
   ]
  },
  {
   "cell_type": "raw",
   "metadata": {
    "ExecuteTime": {
     "end_time": "2018-01-22T16:18:27.439004Z",
     "start_time": "2018-01-22T16:18:27.274503Z"
    }
   },
   "source": [
    "%load_ext autoreload\n",
    "%autoreload 2"
   ]
  },
  {
   "cell_type": "code",
   "execution_count": null,
   "metadata": {
    "ExecuteTime": {
     "end_time": "2018-02-12T07:56:17.781468Z",
     "start_time": "2018-02-12T07:56:11.282881Z"
    }
   },
   "outputs": [],
   "source": [
    "%matplotlib inline\n",
    "import matplotlib.pyplot as plt\n",
    "import numpy as np\n",
    "np.set_printoptions(precision=2, suppress=True)\n",
    "from copy import deepcopy"
   ]
  },
  {
   "cell_type": "code",
   "execution_count": null,
   "metadata": {
    "ExecuteTime": {
     "end_time": "2018-02-12T07:56:19.055682Z",
     "start_time": "2018-02-12T07:56:17.786928Z"
    },
    "scrolled": false
   },
   "outputs": [],
   "source": [
    "from shl_scripts.shl_experiments import SHL_set\n",
    "tag = 'HEH'\n",
    "opts = dict(homeo_method=tag, eta_homeo=0.01, alpha_homeo=0.8, C=5., nb_quant=128, P_cum=None, verbose=0)\n",
    "opts = dict(homeo_method=tag, P_cum=None, verbose=0)\n",
    "experiments = SHL_set(opts, tag=tag)\n",
    "list_figures = []\n",
    "list_figures = ['show_dico']\n",
    "display_variables = ['error', 'logL', 'cputime']"
   ]
  },
  {
   "cell_type": "code",
   "execution_count": null,
   "metadata": {
    "ExecuteTime": {
     "end_time": "2018-02-08T20:54:24.120043Z",
     "start_time": "2018-02-08T20:54:23.996344Z"
    }
   },
   "outputs": [],
   "source": [
    "!ls -l {experiments.shl.data_cache}/{tag}*"
   ]
  },
  {
   "cell_type": "raw",
   "metadata": {
    "ExecuteTime": {
     "end_time": "2018-02-12T07:56:19.334356Z",
     "start_time": "2018-02-12T07:56:19.061273Z"
    }
   },
   "source": [
    "!rm -fr {experiments.shl.data_cache}/{tag}*\n",
    "#!rm -fr data_cache/data_data.npy\n",
    "!ls -l {experiments.shl.data_cache}/{tag}*"
   ]
  },
  {
   "cell_type": "markdown",
   "metadata": {},
   "source": [
    "## different learning rates"
   ]
  },
  {
   "cell_type": "code",
   "execution_count": null,
   "metadata": {
    "ExecuteTime": {
     "end_time": "2018-02-12T07:56:22.778035Z",
     "start_time": "2018-02-12T07:56:19.340206Z"
    },
    "scrolled": true
   },
   "outputs": [],
   "source": [
    "experiments.scan(variable='eta', list_figures=list_figures, display='dynamic')\n",
    "for display_variable in display_variables:\n",
    "    fig, ax = experiments.scan(variable='eta', list_figures=[], display='dynamic', display_variable=display_variable)"
   ]
  },
  {
   "cell_type": "markdown",
   "metadata": {},
   "source": [
    "## different homeostatic learning rates"
   ]
  },
  {
   "cell_type": "code",
   "execution_count": null,
   "metadata": {
    "ExecuteTime": {
     "end_time": "2018-02-12T07:56:22.784213Z",
     "start_time": "2018-02-12T07:56:11.254Z"
    },
    "scrolled": true
   },
   "outputs": [],
   "source": [
    "experiments.scan(variable='eta_homeo', list_figures=list_figures, display='dynamic')\n",
    "for display_variable in display_variables:\n",
    "    fig, ax = experiments.scan(variable='eta_homeo', list_figures=[], display='dynamic', display_variable=display_variable)"
   ]
  },
  {
   "cell_type": "code",
   "execution_count": null,
   "metadata": {
    "ExecuteTime": {
     "end_time": "2018-02-12T07:56:22.790627Z",
     "start_time": "2018-02-12T07:56:11.264Z"
    },
    "scrolled": false
   },
   "outputs": [],
   "source": [
    "experiments.scan(variable='alpha_homeo', list_figures=list_figures, display='')\n",
    "for display_variable in display_variables:\n",
    "    fig, ax = experiments.scan(variable='alpha_homeo', list_figures=[], display='dynamic', display_variable=display_variable)"
   ]
  },
  {
   "cell_type": "markdown",
   "metadata": {},
   "source": [
    "## different sparseness"
   ]
  },
  {
   "cell_type": "code",
   "execution_count": null,
   "metadata": {
    "ExecuteTime": {
     "end_time": "2018-02-12T07:56:22.806985Z",
     "start_time": "2018-02-12T07:56:11.270Z"
    },
    "scrolled": false
   },
   "outputs": [],
   "source": [
    "experiments.scan(variable='l0_sparseness', base=4, list_figures=list_figures, display='')\n",
    "\n",
    "for display_variable in display_variables:\n",
    "    fig, ax = experiments.scan(variable='l0_sparseness', base=4, list_figures=[], display='dynamic', display_variable=display_variable)"
   ]
  },
  {
   "cell_type": "markdown",
   "metadata": {},
   "source": [
    "## Version used"
   ]
  },
  {
   "cell_type": "code",
   "execution_count": null,
   "metadata": {
    "ExecuteTime": {
     "end_time": "2018-02-12T07:56:22.817877Z",
     "start_time": "2018-02-12T07:56:11.291Z"
    }
   },
   "outputs": [],
   "source": [
    "%load_ext version_information"
   ]
  },
  {
   "cell_type": "code",
   "execution_count": null,
   "metadata": {
    "ExecuteTime": {
     "end_time": "2018-02-12T07:56:22.820906Z",
     "start_time": "2018-02-12T07:56:11.341Z"
    }
   },
   "outputs": [],
   "source": [
    "%version_information numpy, shl_scripts"
   ]
  }
 ],
 "metadata": {
  "kernelspec": {
   "display_name": "Python 3",
   "language": "python",
   "name": "python3"
  },
  "language_info": {
   "codemirror_mode": {
    "name": "ipython",
    "version": 3
   },
   "file_extension": ".py",
   "mimetype": "text/x-python",
   "name": "python",
   "nbconvert_exporter": "python",
   "pygments_lexer": "ipython3",
   "version": "3.5.2"
  },
  "toc": {
   "nav_menu": {
    "height": "81px",
    "width": "252px"
   },
   "number_sections": true,
   "sideBar": true,
   "skip_h1_title": false,
   "toc_cell": false,
   "toc_position": {},
   "toc_section_display": "block",
   "toc_window_display": false
  }
 },
 "nbformat": 4,
 "nbformat_minor": 2
}
