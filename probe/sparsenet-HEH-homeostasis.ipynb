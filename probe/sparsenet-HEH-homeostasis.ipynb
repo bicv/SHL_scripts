{
 "cells": [
  {
   "cell_type": "markdown",
   "metadata": {},
   "source": [
    "# Sparse Hebbian Learning with Histogram Equalization Homeostasis : testing with different learning rates\n",
    "\n",
    "In this notebook, we test the convergence of SparseNet as a function of different learning parameters. This shows the relative robusteness of this method according to the coding parameters, but also the importance of homeostasis to obtain an efficient set of filters.\n",
    "\n",
    "It uses the full homeostasis layer (by setting ``alpha_homeo=0.``) - to be compared to a smoother Olshausen-like homeostasis.\n",
    "\n",
    "See also :\n",
    "* http://blog.invibe.net/posts/2015-05-05-reproducing-olshausens-classical-sparsenet.html for a description of how SparseNet is implemented in the scikit-learn package\n",
    "* http://blog.invibe.net/posts/2015-05-06-reproducing-olshausens-classical-sparsenet-part-2.html for a descrtiption of how we managed to implement the homeostasis"
   ]
  },
  {
   "cell_type": "code",
   "execution_count": 1,
   "metadata": {
    "ExecuteTime": {
     "end_time": "2018-09-27T07:10:11.011667Z",
     "start_time": "2018-09-27T07:10:10.979157Z"
    }
   },
   "outputs": [],
   "source": [
    "%load_ext autoreload\n",
    "%autoreload 2"
   ]
  },
  {
   "cell_type": "code",
   "execution_count": 2,
   "metadata": {
    "ExecuteTime": {
     "end_time": "2018-09-27T07:10:11.893011Z",
     "start_time": "2018-09-27T07:10:11.019561Z"
    }
   },
   "outputs": [],
   "source": [
    "%matplotlib inline\n",
    "import matplotlib.pyplot as plt\n",
    "import numpy as np\n",
    "np.set_printoptions(precision=2, suppress=True)"
   ]
  },
  {
   "cell_type": "code",
   "execution_count": 3,
   "metadata": {
    "ExecuteTime": {
     "end_time": "2018-09-27T07:10:12.229266Z",
     "start_time": "2018-09-27T07:10:11.898122Z"
    }
   },
   "outputs": [],
   "source": [
    "from shl_scripts.shl_experiments import SHL_set\n",
    "tag = 'HEH'\n",
    "experiments = SHL_set({})"
   ]
  },
  {
   "cell_type": "code",
   "execution_count": 4,
   "metadata": {
    "ExecuteTime": {
     "end_time": "2018-09-27T07:10:12.264611Z",
     "start_time": "2018-09-27T07:10:12.234717Z"
    }
   },
   "outputs": [
    {
     "name": "stdout",
     "output_type": "stream",
     "text": [
      "Overwriting cache_dir/HEH.py\n"
     ]
    }
   ],
   "source": [
    "%%writefile {experiments.shl.cache_dir}/{tag}.py\n",
    "\n",
    "import numpy as np\n",
    "np.set_printoptions(precision=2, suppress=True)\n",
    "\n",
    "import sys\n",
    "try:\n",
    "    command = sys.argv[1]\n",
    "except:\n",
    "    command = 'run'\n",
    "try:\n",
    "    n_jobs = sys.argv[2]\n",
    "except:\n",
    "    n_jobs = 1\n",
    "    n_jobs = 32\n",
    "    \n",
    "from shl_scripts.shl_experiments import SHL_set\n",
    "tag = 'HEH'\n",
    "opts = dict(homeo_method=tag, verbose=0)\n",
    "\n",
    "experiments = SHL_set(opts, tag=tag)\n",
    "\n",
    "variables = ['eta', 'alpha_homeo']\n",
    "variables = ['eta', 'alpha_homeo', 'eta_homeo']\n",
    "variables = ['eta', 'eta_homeo', 'l0_sparseness']\n",
    "variables = ['eta', 'eta_homeo', 'eta_precision', 'alpha_MP']\n",
    "\n",
    "list_figures = []\n",
    "list_figures = ['show_dico']\n",
    "\n",
    "display_variables = ['error', 'logL', 'cputime']\n",
    "display_variables = ['error', 'logL', 'qerror', 'aerror', 'MI', 'cputime']\n",
    "display_variables = ['error', 'logL', 'perror', 'MC', 'cputime']\n",
    "display_variables = ['F']\n",
    "\n",
    "if command == 'run':\n",
    "    experiments.run(variables=variables, n_jobs=n_jobs)\n",
    "\n",
    "if command == 'plot':\n",
    "    import matplotlib.pyplot as plt\n",
    "\n",
    "    #fig, ax = experiments.scan(variable='eta', list_figures=[], display='dynamic')\n",
    "    #fig, ax = experiments.scan(variable='eta', list_figures=[], display='final')\n",
    "    for variable in variables:\n",
    "        experiments = SHL_set(opts, tag=tag, do_run=False)\n",
    "        experiments.scan(variable=variable, list_figures=list_figures, display='', fig_kwargs={'dim_graph':(2, 15)}, verbose=1)\n",
    "        plt.show()\n",
    "\n",
    "        for display_variable in display_variables:\n",
    "            print('Time evolution of ', display_variable)\n",
    "            fig, ax = experiments.scan(variable=variable, list_figures=[], display='dynamic', display_variable=display_variable)\n",
    "            plt.show()\n",
    "        plt.show()\n",
    "\n",
    "        for display_variable in display_variables:\n",
    "            print('Comparison at the end of learning for ', display_variable)\n",
    "            fig, ax = experiments.scan(variable=variable, list_figures=[], display='final', \n",
    "                                       label=tag, display_variable=display_variable)\n",
    "            plt.show()\n",
    "        "
   ]
  },
  {
   "cell_type": "code",
   "execution_count": 5,
   "metadata": {
    "ExecuteTime": {
     "end_time": "2018-09-27T07:10:12.463943Z",
     "start_time": "2018-09-27T07:10:12.271254Z"
    }
   },
   "outputs": [],
   "source": [
    "%run {experiments.shl.cache_dir}/{tag}.py load"
   ]
  },
  {
   "cell_type": "code",
   "execution_count": 6,
   "metadata": {
    "ExecuteTime": {
     "end_time": "2018-09-27T07:10:12.804465Z",
     "start_time": "2018-09-27T07:10:12.470495Z"
    }
   },
   "outputs": [
    {
     "name": "stdout",
     "output_type": "stream",
     "text": [
      "-rw-r--r--  1 laurentperrinet  staff     1973 Sep 27 09:10 cache_dir/HEH.py\r\n",
      "-rw-r--r--  1 laurentperrinet  staff  3657359 Sep 26 15:58 cache_dir/HEH_alpha_MP=0.21654_dico.pkl\r\n",
      "-rw-r--r--  1 laurentperrinet  staff  3657359 Sep 26 15:57 cache_dir/HEH_alpha_MP=0.26218_dico.pkl\r\n",
      "-rw-r--r--  1 laurentperrinet  staff  3657359 Sep 26 15:58 cache_dir/HEH_alpha_MP=0.31744_dico.pkl\r\n",
      "-rw-r--r--  1 laurentperrinet  staff  3657359 Sep 26 15:58 cache_dir/HEH_alpha_MP=0.38434_dico.pkl\r\n",
      "-rw-r--r--  1 laurentperrinet  staff  3657359 Sep 26 15:58 cache_dir/HEH_alpha_MP=0.46534_dico.pkl\r\n",
      "-rw-r--r--  1 laurentperrinet  staff  3657359 Sep 26 16:20 cache_dir/HEH_alpha_MP=0.56342_dico.pkl\r\n",
      "-rw-r--r--  1 laurentperrinet  staff  3657359 Sep 26 16:20 cache_dir/HEH_alpha_MP=1.00000_dico.pkl\r\n",
      "-rw-r--r--  1 laurentperrinet  staff  3657359 Sep 26 15:57 cache_dir/HEH_eta=0.00152_dico.pkl\r\n",
      "-rw-r--r--  1 laurentperrinet  staff  3657359 Sep 26 15:57 cache_dir/HEH_eta=0.00222_dico.pkl\r\n",
      "-rw-r--r--  1 laurentperrinet  staff  3657359 Sep 26 15:57 cache_dir/HEH_eta=0.00326_dico.pkl\r\n",
      "-rw-r--r--  1 laurentperrinet  staff  3657359 Sep 26 15:57 cache_dir/HEH_eta=0.00478_dico.pkl\r\n",
      "-rw-r--r--  1 laurentperrinet  staff  3657359 Sep 26 15:57 cache_dir/HEH_eta=0.00700_dico.pkl\r\n",
      "-rw-r--r--  1 laurentperrinet  staff  3657359 Sep 26 15:58 cache_dir/HEH_eta=0.01026_dico.pkl\r\n",
      "-rw-r--r--  1 laurentperrinet  staff  3657359 Sep 26 15:57 cache_dir/HEH_eta=0.01504_dico.pkl\r\n",
      "-rw-r--r--  1 laurentperrinet  staff  3657359 Sep 26 15:57 cache_dir/HEH_eta=0.02205_dico.pkl\r\n",
      "-rw-r--r--  1 laurentperrinet  staff  3657359 Sep 26 15:57 cache_dir/HEH_eta=0.03233_dico.pkl\r\n",
      "-rw-r--r--  1 laurentperrinet  staff  3657359 Sep 26 15:58 cache_dir/HEH_eta_homeo=0.00433_dico.pkl\r\n",
      "-rw-r--r--  1 laurentperrinet  staff  3657359 Sep 26 15:57 cache_dir/HEH_eta_homeo=0.00635_dico.pkl\r\n",
      "-rw-r--r--  1 laurentperrinet  staff  3657359 Sep 26 15:57 cache_dir/HEH_eta_homeo=0.00931_dico.pkl\r\n",
      "-rw-r--r--  1 laurentperrinet  staff  3657359 Sep 26 15:58 cache_dir/HEH_eta_homeo=0.01364_dico.pkl\r\n",
      "-rw-r--r--  1 laurentperrinet  staff  3657359 Sep 26 15:57 cache_dir/HEH_eta_homeo=0.02000_dico.pkl\r\n",
      "-rw-r--r--  1 laurentperrinet  staff  3657359 Sep 26 15:58 cache_dir/HEH_eta_homeo=0.02932_dico.pkl\r\n",
      "-rw-r--r--  1 laurentperrinet  staff  3657359 Sep 26 15:57 cache_dir/HEH_eta_homeo=0.04298_dico.pkl\r\n",
      "-rw-r--r--  1 laurentperrinet  staff  3657359 Sep 26 15:58 cache_dir/HEH_eta_homeo=0.06300_dico.pkl\r\n",
      "-rw-r--r--  1 laurentperrinet  staff  3657359 Sep 26 15:57 cache_dir/HEH_eta_homeo=0.09236_dico.pkl\r\n",
      "-rw-r--r--  1 laurentperrinet  staff  3657359 Sep 26 15:57 cache_dir/HEH_eta_precision=0.00011_dico.pkl\r\n",
      "-rw-r--r--  1 laurentperrinet  staff  3657359 Sep 26 15:57 cache_dir/HEH_eta_precision=0.00016_dico.pkl\r\n",
      "-rw-r--r--  1 laurentperrinet  staff  3657359 Sep 26 15:57 cache_dir/HEH_eta_precision=0.00023_dico.pkl\r\n",
      "-rw-r--r--  1 laurentperrinet  staff  3657359 Sep 26 15:57 cache_dir/HEH_eta_precision=0.00034_dico.pkl\r\n",
      "-rw-r--r--  1 laurentperrinet  staff  3657359 Sep 26 15:58 cache_dir/HEH_eta_precision=0.00050_dico.pkl\r\n",
      "-rw-r--r--  1 laurentperrinet  staff  3657359 Sep 26 15:58 cache_dir/HEH_eta_precision=0.00073_dico.pkl\r\n",
      "-rw-r--r--  1 laurentperrinet  staff  3657359 Sep 26 15:57 cache_dir/HEH_eta_precision=0.00107_dico.pkl\r\n",
      "-rw-r--r--  1 laurentperrinet  staff  3657359 Sep 26 15:58 cache_dir/HEH_eta_precision=0.00158_dico.pkl\r\n",
      "-rw-r--r--  1 laurentperrinet  staff  3657359 Sep 26 15:57 cache_dir/HEH_eta_precision=0.00231_dico.pkl\r\n"
     ]
    }
   ],
   "source": [
    "!ls -l {experiments.shl.cache_dir}/{tag}*\n",
    "!rm -fr {experiments.shl.cache_dir}/{tag}*lock*"
   ]
  },
  {
   "cell_type": "raw",
   "metadata": {},
   "source": [
    "# this removes older computations and restarts computations\n",
    "!rm -fr {experiments.shl.cache_dir}/{tag}*pkl\n",
    "!ls -l {experiments.shl.cache_dir}/{tag}*"
   ]
  },
  {
   "cell_type": "code",
   "execution_count": null,
   "metadata": {
    "ExecuteTime": {
     "start_time": "2018-09-27T07:10:11.012Z"
    },
    "scrolled": false
   },
   "outputs": [
    {
     "name": "stderr",
     "output_type": "stream",
     "text": [
      "[Parallel(n_jobs=32)]: Using backend LokyBackend with 32 concurrent workers.\n",
      "[Parallel(n_jobs=32)]: Done   1 tasks      | elapsed:    3.0s\n",
      "[Parallel(n_jobs=32)]: Done   3 out of  36 | elapsed:    3.0s remaining:   33.5s\n",
      "[Parallel(n_jobs=32)]: Done   6 out of  36 | elapsed:    3.1s remaining:   15.3s\n",
      "[Parallel(n_jobs=32)]: Done   9 out of  36 | elapsed:    3.1s remaining:    9.3s\n",
      "[Parallel(n_jobs=32)]: Done  12 out of  36 | elapsed:    3.2s remaining:    6.3s\n",
      "[Parallel(n_jobs=32)]: Done  15 out of  36 | elapsed:    3.2s remaining:    4.5s\n",
      "[Parallel(n_jobs=32)]: Done  18 out of  36 | elapsed:    3.3s remaining:    3.3s\n",
      "[Parallel(n_jobs=32)]: Done  21 out of  36 | elapsed:    3.3s remaining:    2.3s\n",
      "[Parallel(n_jobs=32)]: Done  24 out of  36 | elapsed:    3.3s remaining:    1.7s\n",
      "[Parallel(n_jobs=32)]: Done  27 out of  36 | elapsed:    3.3s remaining:    1.1s\n",
      "[Parallel(n_jobs=32)]: Done  30 out of  36 | elapsed:    3.4s remaining:    0.7s\n",
      "[Parallel(n_jobs=32)]: Done  33 out of  36 | elapsed:    3.4s remaining:    0.3s\n"
     ]
    }
   ],
   "source": [
    "%run {experiments.shl.cache_dir}/{tag}.py run"
   ]
  },
  {
   "cell_type": "code",
   "execution_count": null,
   "metadata": {
    "ExecuteTime": {
     "start_time": "2018-09-27T07:10:11.022Z"
    },
    "scrolled": false
   },
   "outputs": [],
   "source": [
    "%run {experiments.shl.cache_dir}/{tag}.py plot"
   ]
  },
  {
   "cell_type": "code",
   "execution_count": null,
   "metadata": {
    "ExecuteTime": {
     "start_time": "2018-09-27T07:10:11.028Z"
    }
   },
   "outputs": [],
   "source": [
    "%load_ext version_information\n",
    "%version_information shl_scripts, numpy, shl_scripts, pandas, matplotlib"
   ]
  }
 ],
 "metadata": {
  "kernelspec": {
   "display_name": "Python 3",
   "language": "python",
   "name": "python3"
  },
  "language_info": {
   "codemirror_mode": {
    "name": "ipython",
    "version": 3
   },
   "file_extension": ".py",
   "mimetype": "text/x-python",
   "name": "python",
   "nbconvert_exporter": "python",
   "pygments_lexer": "ipython3",
   "version": "3.6.5"
  },
  "toc": {
   "base_numbering": 1,
   "nav_menu": {
    "height": "81px",
    "width": "252px"
   },
   "number_sections": true,
   "sideBar": true,
   "skip_h1_title": false,
   "title_cell": "Table of Contents",
   "title_sidebar": "Contents",
   "toc_cell": false,
   "toc_position": {},
   "toc_section_display": "block",
   "toc_window_display": false
  }
 },
 "nbformat": 4,
 "nbformat_minor": 2
}
