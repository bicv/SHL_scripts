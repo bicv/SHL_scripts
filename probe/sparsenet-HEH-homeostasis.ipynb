{
 "cells": [
  {
   "cell_type": "markdown",
   "metadata": {},
   "source": [
    "# Sparse Hebbian Learning with Histogram Equalization Homeostasis : testing with different learning rates\n",
    "\n",
    "In this notebook, we test the convergence of SparseNet as a function of different learning parameters. This shows the relative robusteness of this method according to the coding parameters, but also the importance of homeostasis to obtain an efficient set of filters.\n",
    "\n",
    "It uses the full homeostasis layer (by setting ``alpha_homeo=0.``) - to be compared to a smoother Olshausen-like homeostasis.\n",
    "\n",
    "See also :\n",
    "* http://blog.invibe.net/posts/2015-05-05-reproducing-olshausens-classical-sparsenet.html for a description of how SparseNet is implemented in the scikit-learn package\n",
    "* http://blog.invibe.net/posts/2015-05-06-reproducing-olshausens-classical-sparsenet-part-2.html for a descrtiption of how we managed to implement the homeostasis"
   ]
  },
  {
   "cell_type": "raw",
   "metadata": {},
   "source": [
    "%load_ext autoreload\n",
    "%autoreload 2"
   ]
  },
  {
   "cell_type": "code",
   "execution_count": 1,
   "metadata": {
    "ExecuteTime": {
     "end_time": "2018-09-07T13:41:39.700437Z",
     "start_time": "2018-09-07T13:41:38.380924Z"
    }
   },
   "outputs": [],
   "source": [
    "%matplotlib inline\n",
    "import matplotlib.pyplot as plt\n",
    "import numpy as np\n",
    "np.set_printoptions(precision=2, suppress=True)"
   ]
  },
  {
   "cell_type": "code",
   "execution_count": 2,
   "metadata": {
    "ExecuteTime": {
     "end_time": "2018-09-07T13:42:08.086241Z",
     "start_time": "2018-09-07T13:41:39.713546Z"
    }
   },
   "outputs": [],
   "source": [
    "from shl_scripts.shl_experiments import SHL_set\n",
    "tag = 'HEH'\n",
    "experiments = SHL_set({})"
   ]
  },
  {
   "cell_type": "code",
   "execution_count": 3,
   "metadata": {
    "ExecuteTime": {
     "end_time": "2018-09-07T13:42:08.109547Z",
     "start_time": "2018-09-07T13:42:08.095332Z"
    }
   },
   "outputs": [
    {
     "name": "stdout",
     "output_type": "stream",
     "text": [
      "Writing cache_dir/HEH.py\n"
     ]
    }
   ],
   "source": [
    "%%writefile {experiments.shl.cache_dir}/{tag}.py\n",
    "\n",
    "import matplotlib.pyplot as plt\n",
    "import numpy as np\n",
    "np.set_printoptions(precision=2, suppress=True)\n",
    "\n",
    "import sys\n",
    "try:\n",
    "    command = sys.argv[1]\n",
    "except:\n",
    "    command = 'run'\n",
    "try:\n",
    "    n_jobs = sys.argv[2]\n",
    "except:\n",
    "    n_jobs = 4\n",
    "\n",
    "from shl_scripts.shl_experiments import SHL_set\n",
    "tag = 'HEH'\n",
    "opts = dict(homeo_method=tag, verbose=0)\n",
    "\n",
    "experiments = SHL_set(opts, tag=tag)\n",
    "\n",
    "variables = ['eta', 'alpha_homeo']\n",
    "variables = ['eta', 'alpha_homeo', 'eta_homeo']\n",
    "variables = ['eta', 'alpha_homeo', 'eta_homeo', 'l0_sparseness']\n",
    "\n",
    "list_figures = ['show_dico']\n",
    "list_figures = []\n",
    "\n",
    "display_variables = ['error', 'logL', 'cputime']\n",
    "display_variables = ['error', 'logL', 'qerror', 'aerror', 'MI', 'cputime']\n",
    "display_variables = ['error', 'logL', 'perror', 'MC', 'cputime']\n",
    "display_variables = ['F']\n",
    "\n",
    "if command == 'run':\n",
    "    experiments.run(variables=variables, n_jobs=n_jobs)\n",
    "\n",
    "if command == 'plot':\n",
    "    #fig, ax = experiments.scan(variable='eta', list_figures=[], display='dynamic')\n",
    "    #fig, ax = experiments.scan(variable='eta', list_figures=[], display='final')\n",
    "    for variable in variables:\n",
    "        experiments = SHL_set(opts, tag=tag)\n",
    "        experiments.scan(variable=variable, list_figures=list_figures, display='')\n",
    "        plt.show()\n",
    "\n",
    "        for display_variable in display_variables:\n",
    "            print('Time evolution of ', display_variable)\n",
    "            fig, ax = experiments.scan(variable=variable, list_figures=[], display='dynamic', display_variable=display_variable)\n",
    "            plt.show()\n",
    "        plt.show()\n",
    "\n",
    "        for display_variable in display_variables:\n",
    "            print('Comparison at the end of learning for ', display_variable)\n",
    "            fig, ax = experiments.scan(variable=variable, list_figures=[], display='final', \n",
    "                                       label=tag, display_variable=display_variable)\n",
    "            plt.show()\n",
    "        "
   ]
  },
  {
   "cell_type": "code",
   "execution_count": 4,
   "metadata": {
    "ExecuteTime": {
     "end_time": "2018-09-07T13:42:08.434166Z",
     "start_time": "2018-09-07T13:42:08.157703Z"
    }
   },
   "outputs": [],
   "source": [
    "%run {experiments.shl.cache_dir}/{tag}.py load"
   ]
  },
  {
   "cell_type": "code",
   "execution_count": 5,
   "metadata": {
    "ExecuteTime": {
     "end_time": "2018-09-07T13:42:08.744346Z",
     "start_time": "2018-09-07T13:42:08.439404Z"
    }
   },
   "outputs": [
    {
     "name": "stdout",
     "output_type": "stream",
     "text": [
      "-rw-r--r--  1 laurentperrinet  staff  1842 Sep  7 15:42 cache_dir/HEH.py\r\n"
     ]
    }
   ],
   "source": [
    "!ls -l {experiments.shl.cache_dir}/{tag}*\n",
    "!rm -fr {experiments.shl.cache_dir}/{tag}*lock*"
   ]
  }
 ],
 "metadata": {
  "kernelspec": {
   "display_name": "Python 3",
   "language": "python",
   "name": "python3"
  },
  "language_info": {
   "codemirror_mode": {
    "name": "ipython",
    "version": 3
   },
   "file_extension": ".py",
   "mimetype": "text/x-python",
   "name": "python",
   "nbconvert_exporter": "python",
   "pygments_lexer": "ipython3",
   "version": "3.6.5"
  },
  "toc": {
   "base_numbering": 1,
   "nav_menu": {
    "height": "81px",
    "width": "252px"
   },
   "number_sections": true,
   "sideBar": true,
   "skip_h1_title": false,
   "title_cell": "Table of Contents",
   "title_sidebar": "Contents",
   "toc_cell": false,
   "toc_position": {},
   "toc_section_display": "block",
   "toc_window_display": false
  }
 },
 "nbformat": 4,
 "nbformat_minor": 2
}
