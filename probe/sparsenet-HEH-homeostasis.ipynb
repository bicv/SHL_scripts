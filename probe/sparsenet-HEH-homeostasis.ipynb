{
 "cells": [
  {
   "cell_type": "markdown",
   "metadata": {},
   "source": [
    "# Sparse Hebbian Learning with Histogram Equalization Homeostasis : testing with different learning rates\n",
    "\n",
    "In this notebook, we test the convergence of SparseNet as a function of different learning parameters. This shows the relative robusteness of this method according to the coding parameters, but also the importance of homeostasis to obtain an efficient set of filters.\n",
    "\n",
    "It uses the full homeostasis layer (by setting ``alpha_homeo=0.``) - to be compared to a smoother Olshausen-like homeostasis.\n",
    "\n",
    "See also :\n",
    "* http://blog.invibe.net/posts/2015-05-05-reproducing-olshausens-classical-sparsenet.html for a description of how SparseNet is implemented in the scikit-learn package\n",
    "* http://blog.invibe.net/posts/2015-05-06-reproducing-olshausens-classical-sparsenet-part-2.html for a descrtiption of how we managed to implement the homeostasis"
   ]
  },
  {
   "cell_type": "raw",
   "metadata": {},
   "source": [
    "%load_ext autoreload\n",
    "%autoreload 2"
   ]
  },
  {
   "cell_type": "code",
   "execution_count": 1,
   "metadata": {
    "ExecuteTime": {
     "end_time": "2018-05-17T14:50:35.062087Z",
     "start_time": "2018-05-17T14:50:34.806263Z"
    }
   },
   "outputs": [],
   "source": [
    "%matplotlib inline\n",
    "import matplotlib.pyplot as plt\n",
    "import numpy as np\n",
    "np.set_printoptions(precision=2, suppress=True)"
   ]
  },
  {
   "cell_type": "code",
   "execution_count": 2,
   "metadata": {
    "ExecuteTime": {
     "end_time": "2018-05-17T14:50:35.203030Z",
     "start_time": "2018-05-17T14:50:35.064137Z"
    }
   },
   "outputs": [],
   "source": [
    "from shl_scripts.shl_experiments import SHL_set\n",
    "tag = 'HEH'\n",
    "experiments = SHL_set({})"
   ]
  },
  {
   "cell_type": "code",
   "execution_count": 3,
   "metadata": {
    "ExecuteTime": {
     "end_time": "2018-05-17T14:50:35.210299Z",
     "start_time": "2018-05-17T14:50:35.205259Z"
    }
   },
   "outputs": [
    {
     "name": "stdout",
     "output_type": "stream",
     "text": [
      "Overwriting data_cache/HEH.py\n"
     ]
    }
   ],
   "source": [
    "%%writefile {experiments.shl.data_cache}/{tag}.py\n",
    "\n",
    "import matplotlib.pyplot as plt\n",
    "import numpy as np\n",
    "np.set_printoptions(precision=2, suppress=True)\n",
    "\n",
    "import sys\n",
    "try:\n",
    "    command = sys.argv[1]\n",
    "except:\n",
    "    command = 'run'\n",
    "try:\n",
    "    n_jobs = sys.argv[2]\n",
    "except:\n",
    "    n_jobs = 4\n",
    "\n",
    "from shl_scripts.shl_experiments import SHL_set\n",
    "tag = 'HEH'\n",
    "opts = dict(homeo_method=tag, verbose=0)\n",
    "\n",
    "experiments = SHL_set(opts, tag=tag)\n",
    "\n",
    "variables = ['eta', 'alpha_homeo']\n",
    "variables = ['eta', 'alpha_homeo', 'eta_homeo']\n",
    "variables = ['eta', 'alpha_homeo', 'eta_homeo', 'l0_sparseness']\n",
    "\n",
    "list_figures = ['show_dico']\n",
    "list_figures = []\n",
    "\n",
    "display_variables = ['error', 'logL', 'cputime']\n",
    "display_variables = ['error', 'logL', 'qerror', 'aerror', 'MI', 'cputime']\n",
    "display_variables = ['error', 'logL', 'perror', 'MC', 'cputime']\n",
    "display_variables = ['F']\n",
    "\n",
    "if command == 'run':\n",
    "    experiments.run(variables=variables, n_jobs=n_jobs)\n",
    "\n",
    "if command == 'plot':\n",
    "    #fig, ax = experiments.scan(variable='eta', list_figures=[], display='dynamic')\n",
    "    #fig, ax = experiments.scan(variable='eta', list_figures=[], display='final')\n",
    "    for variable in variables:\n",
    "        experiments = SHL_set(opts, tag=tag)\n",
    "        experiments.scan(variable=variable, list_figures=list_figures, display='')\n",
    "        plt.show()\n",
    "\n",
    "        for display_variable in display_variables:\n",
    "            print('Time evolution of ', display_variable)\n",
    "            fig, ax = experiments.scan(variable=variable, list_figures=[], display='dynamic', display_variable=display_variable)\n",
    "            plt.show()\n",
    "        plt.show()\n",
    "\n",
    "        for display_variable in display_variables:\n",
    "            print('Comparison at the end of learning for ', display_variable)\n",
    "            fig, ax = experiments.scan(variable=variable, list_figures=[], display='final', \n",
    "                                       label=tag, display_variable=display_variable)\n",
    "            plt.show()\n",
    "        "
   ]
  },
  {
   "cell_type": "code",
   "execution_count": 4,
   "metadata": {
    "ExecuteTime": {
     "end_time": "2018-05-17T14:50:35.321870Z",
     "start_time": "2018-05-17T14:50:35.212704Z"
    }
   },
   "outputs": [],
   "source": [
    "%run {experiments.shl.data_cache}/{tag}.py load"
   ]
  },
  {
   "cell_type": "code",
   "execution_count": 5,
   "metadata": {
    "ExecuteTime": {
     "end_time": "2018-05-17T14:50:35.590515Z",
     "start_time": "2018-05-17T14:50:35.324715Z"
    }
   },
   "outputs": [
    {
     "name": "stdout",
     "output_type": "stream",
     "text": [
      "-rw-r--r--  1 laurentperrinet  staff  1780481 May 15 11:51 data_cache/HEH - alpha_homeo=0.00250_dico.pkl\r\n",
      "-rw-r--r--  1 laurentperrinet  staff  1780481 May 15 11:58 data_cache/HEH - alpha_homeo=0.00354_dico.pkl\r\n",
      "-rw-r--r--  1 laurentperrinet  staff  1780481 May 15 12:05 data_cache/HEH - alpha_homeo=0.00500_dico.pkl\r\n",
      "-rw-r--r--  1 laurentperrinet  staff  1780481 May 15 10:02 data_cache/HEH - alpha_homeo=0.00618_dico.pkl\r\n",
      "-rw-r--r--  1 laurentperrinet  staff  1780481 May 15 10:02 data_cache/HEH - alpha_homeo=0.00697_dico.pkl\r\n",
      "-rw-r--r--  1 laurentperrinet  staff  1780481 May 15 12:11 data_cache/HEH - alpha_homeo=0.00707_dico.pkl\r\n",
      "-rw-r--r--  1 laurentperrinet  staff  1780481 May 15 10:02 data_cache/HEH - alpha_homeo=0.00786_dico.pkl\r\n",
      "-rw-r--r--  1 laurentperrinet  staff  1780481 May 15 10:10 data_cache/HEH - alpha_homeo=0.00887_dico.pkl\r\n",
      "-rw-r--r--  1 laurentperrinet  staff  1780481 May 15 10:10 data_cache/HEH - alpha_homeo=0.01000_dico.pkl\r\n",
      "-rw-r--r--  1 laurentperrinet  staff  1780481 May 15 10:10 data_cache/HEH - alpha_homeo=0.01128_dico.pkl\r\n",
      "-rw-r--r--  1 laurentperrinet  staff  1780481 May 15 10:10 data_cache/HEH - alpha_homeo=0.01272_dico.pkl\r\n",
      "-rw-r--r--  1 laurentperrinet  staff  1780481 May 15 12:18 data_cache/HEH - alpha_homeo=0.01414_dico.pkl\r\n",
      "-rw-r--r--  1 laurentperrinet  staff  1780481 May 15 10:17 data_cache/HEH - alpha_homeo=0.01435_dico.pkl\r\n",
      "-rw-r--r--  1 laurentperrinet  staff  1780481 May 15 10:18 data_cache/HEH - alpha_homeo=0.01618_dico.pkl\r\n",
      "-rw-r--r--  1 laurentperrinet  staff  1780481 May 15 12:25 data_cache/HEH - alpha_homeo=0.02000_dico.pkl\r\n",
      "-rw-r--r--  1 laurentperrinet  staff  1780481 May 15 12:31 data_cache/HEH - alpha_homeo=0.02828_dico.pkl\r\n",
      "-rw-r--r--  1 laurentperrinet  staff  1780481 May 15 12:38 data_cache/HEH - alpha_homeo=0.04000_dico.pkl\r\n",
      "-rw-r--r--  1 laurentperrinet  staff        0 May 17 10:00 data_cache/HEH - alpha_homeo=0.06289_dico.pkl_lock\r\n",
      "-rw-r--r--  1 laurentperrinet  staff        0 May 17 10:00 data_cache/HEH - alpha_homeo=0.06289_dico.pkl_lock_pid-2346_host-fortytwo\r\n",
      "-rw-r--r--  1 laurentperrinet  staff        0 May 17 10:00 data_cache/HEH - alpha_homeo=0.07093_dico.pkl_lock\r\n",
      "-rw-r--r--  1 laurentperrinet  staff        0 May 17 10:00 data_cache/HEH - alpha_homeo=0.07093_dico.pkl_lock_pid-2343_host-fortytwo\r\n",
      "-rw-r--r--  1 laurentperrinet  staff        0 May 17 10:00 data_cache/HEH - alpha_homeo=0.08000_dico.pkl_lock\r\n",
      "-rw-r--r--  1 laurentperrinet  staff        0 May 17 10:00 data_cache/HEH - alpha_homeo=0.08000_dico.pkl_lock_pid-2344_host-fortytwo\r\n",
      "-rw-r--r--  1 laurentperrinet  staff  1780481 May 15 10:58 data_cache/HEH - eta=0.00125_dico.pkl\r\n",
      "-rw-r--r--  1 laurentperrinet  staff  1780481 May 15 11:05 data_cache/HEH - eta=0.00177_dico.pkl\r\n",
      "-rw-r--r--  1 laurentperrinet  staff  1780481 May 15 11:12 data_cache/HEH - eta=0.00250_dico.pkl\r\n",
      "-rw-r--r--  1 laurentperrinet  staff  1780481 May 15 09:45 data_cache/HEH - eta=0.00309_dico.pkl\r\n",
      "-rw-r--r--  1 laurentperrinet  staff  1780481 May 15 09:45 data_cache/HEH - eta=0.00349_dico.pkl\r\n",
      "-rw-r--r--  1 laurentperrinet  staff  1780481 May 15 11:18 data_cache/HEH - eta=0.00354_dico.pkl\r\n",
      "-rw-r--r--  1 laurentperrinet  staff  1780481 May 15 09:45 data_cache/HEH - eta=0.00393_dico.pkl\r\n",
      "-rw-r--r--  1 laurentperrinet  staff  1780481 May 15 09:45 data_cache/HEH - eta=0.00443_dico.pkl\r\n",
      "-rw-r--r--  1 laurentperrinet  staff  1780481 May 15 09:54 data_cache/HEH - eta=0.00500_dico.pkl\r\n",
      "-rw-r--r--  1 laurentperrinet  staff  1780481 May 15 09:54 data_cache/HEH - eta=0.00564_dico.pkl\r\n",
      "-rw-r--r--  1 laurentperrinet  staff  1780481 May 15 09:54 data_cache/HEH - eta=0.00636_dico.pkl\r\n",
      "-rw-r--r--  1 laurentperrinet  staff  1780481 May 15 11:25 data_cache/HEH - eta=0.00707_dico.pkl\r\n",
      "-rw-r--r--  1 laurentperrinet  staff  1780481 May 15 09:54 data_cache/HEH - eta=0.00717_dico.pkl\r\n",
      "-rw-r--r--  1 laurentperrinet  staff  1780481 May 15 10:02 data_cache/HEH - eta=0.00809_dico.pkl\r\n",
      "-rw-r--r--  1 laurentperrinet  staff  1780481 May 15 11:31 data_cache/HEH - eta=0.01000_dico.pkl\r\n",
      "-rw-r--r--  1 laurentperrinet  staff  1780481 May 15 11:38 data_cache/HEH - eta=0.01414_dico.pkl\r\n",
      "-rw-r--r--  1 laurentperrinet  staff  1780481 May 15 11:45 data_cache/HEH - eta=0.02000_dico.pkl\r\n",
      "-rw-r--r--  1 laurentperrinet  staff  1780481 May 15 12:44 data_cache/HEH - eta_homeo=0.01250_dico.pkl\r\n",
      "-rw-r--r--  1 laurentperrinet  staff  1780481 May 15 12:51 data_cache/HEH - eta_homeo=0.01768_dico.pkl\r\n",
      "-rw-r--r--  1 laurentperrinet  staff  1780481 May 15 12:57 data_cache/HEH - eta_homeo=0.02500_dico.pkl\r\n",
      "-rw-r--r--  1 laurentperrinet  staff  1780481 May 15 10:18 data_cache/HEH - eta_homeo=0.03090_dico.pkl\r\n",
      "-rw-r--r--  1 laurentperrinet  staff  1780481 May 15 10:18 data_cache/HEH - eta_homeo=0.03485_dico.pkl\r\n",
      "-rw-r--r--  1 laurentperrinet  staff  1780481 May 15 13:04 data_cache/HEH - eta_homeo=0.03536_dico.pkl\r\n",
      "-rw-r--r--  1 laurentperrinet  staff  1780481 May 15 10:25 data_cache/HEH - eta_homeo=0.03931_dico.pkl\r\n",
      "-rw-r--r--  1 laurentperrinet  staff  1780481 May 15 10:25 data_cache/HEH - eta_homeo=0.04433_dico.pkl\r\n",
      "-rw-r--r--  1 laurentperrinet  staff  1780481 May 15 10:25 data_cache/HEH - eta_homeo=0.05000_dico.pkl\r\n",
      "-rw-r--r--  1 laurentperrinet  staff  1780481 May 15 10:25 data_cache/HEH - eta_homeo=0.05639_dico.pkl\r\n",
      "-rw-r--r--  1 laurentperrinet  staff  1780481 May 15 10:33 data_cache/HEH - eta_homeo=0.06360_dico.pkl\r\n",
      "-rw-r--r--  1 laurentperrinet  staff  1780481 May 15 13:10 data_cache/HEH - eta_homeo=0.07071_dico.pkl\r\n",
      "-rw-r--r--  1 laurentperrinet  staff  1780481 May 15 10:33 data_cache/HEH - eta_homeo=0.07173_dico.pkl\r\n",
      "-rw-r--r--  1 laurentperrinet  staff  1780481 May 15 10:33 data_cache/HEH - eta_homeo=0.08090_dico.pkl\r\n",
      "-rw-r--r--  1 laurentperrinet  staff  1780481 May 15 13:16 data_cache/HEH - eta_homeo=0.10000_dico.pkl\r\n",
      "-rw-r--r--  1 laurentperrinet  staff  1780481 May 15 13:23 data_cache/HEH - eta_homeo=0.14142_dico.pkl\r\n",
      "-rw-r--r--  1 laurentperrinet  staff  1780481 May 15 13:29 data_cache/HEH - eta_homeo=0.20000_dico.pkl\r\n",
      "-rw-r--r--  1 laurentperrinet  staff  1780426 May 15 10:39 data_cache/HEH - l0_sparseness=10_dico.pkl\r\n",
      "-rw-r--r--  1 laurentperrinet  staff  1780426 May 15 10:39 data_cache/HEH - l0_sparseness=11_dico.pkl\r\n",
      "-rw-r--r--  1 laurentperrinet  staff  1780426 May 15 10:40 data_cache/HEH - l0_sparseness=13_dico.pkl\r\n",
      "-rw-r--r--  1 laurentperrinet  staff  1780426 May 15 10:44 data_cache/HEH - l0_sparseness=14_dico.pkl\r\n",
      "-rw-r--r--  1 laurentperrinet  staff  1780426 May 15 10:48 data_cache/HEH - l0_sparseness=16_dico.pkl\r\n",
      "-rw-r--r--  1 laurentperrinet  staff  1780426 May 15 10:49 data_cache/HEH - l0_sparseness=18_dico.pkl\r\n",
      "-rw-r--r--  1 laurentperrinet  staff  1780426 May 15 10:51 data_cache/HEH - l0_sparseness=21_dico.pkl\r\n",
      "-rw-r--r--  1 laurentperrinet  staff  1780426 May 15 13:50 data_cache/HEH - l0_sparseness=26_dico.pkl\r\n",
      "-rw-r--r--  1 laurentperrinet  staff  1780426 May 15 14:06 data_cache/HEH - l0_sparseness=36_dico.pkl\r\n",
      "-rw-r--r--  1 laurentperrinet  staff  1780426 May 15 13:32 data_cache/HEH - l0_sparseness=3_dico.pkl\r\n",
      "-rw-r--r--  1 laurentperrinet  staff  1780426 May 15 13:35 data_cache/HEH - l0_sparseness=4_dico.pkl\r\n",
      "-rw-r--r--  1 laurentperrinet  staff  1780426 May 15 14:27 data_cache/HEH - l0_sparseness=52_dico.pkl\r\n",
      "-rw-r--r--  1 laurentperrinet  staff  1780426 May 15 13:39 data_cache/HEH - l0_sparseness=6_dico.pkl\r\n",
      "-rw-r--r--  1 laurentperrinet  staff  1780426 May 15 10:31 data_cache/HEH - l0_sparseness=8_dico.pkl\r\n",
      "-rw-r--r--  1 laurentperrinet  staff  1780426 May 15 10:37 data_cache/HEH - l0_sparseness=9_dico.pkl\r\n",
      "-rw-r--r--  1 laurentperrinet  staff     1853 May 17 16:50 data_cache/HEH.py\r\n"
     ]
    }
   ],
   "source": [
    "!ls -l {experiments.shl.data_cache}/{tag}*\n",
    "!rm -fr {experiments.shl.data_cache}/{tag}*lock*"
   ]
  },
  {
   "cell_type": "raw",
   "metadata": {},
   "source": [
    "!rm -fr {experiments.shl.data_cache}/{tag}*\n",
    "#!rm -fr data_cache/data_data.npy\n",
    "!ls -l {experiments.shl.data_cache}/{tag}*"
   ]
  },
  {
   "cell_type": "code",
   "execution_count": null,
   "metadata": {
    "ExecuteTime": {
     "start_time": "2018-05-17T14:50:34.831Z"
    }
   },
   "outputs": [
    {
     "name": "stdout",
     "output_type": "stream",
     "text": [
      "DEBUG: eta 0.01 [0.006180355123205379, 0.0069704380665313505, 0.007861523467627238, 0.008866523257527292, 0.01, 0.011278377904789723, 0.0127201808163249, 0.014346300626376885, 0.0161803]\n",
      "DEBUG: alpha_homeo 0.08 [0.049442840985643034, 0.055763504532250804, 0.0628921877410179, 0.07093218606021834, 0.08, 0.09022702323831779, 0.1017614465305992, 0.11477040501101508, 0.1294424]\n",
      "DEBUG: eta_homeo 0.02 [0.012360710246410759, 0.013940876133062701, 0.015723046935254475, 0.017733046515054585, 0.02, 0.022556755809579446, 0.0254403616326498, 0.02869260125275377, 0.0323606]\n",
      "DEBUG: l0_sparseness 13 [8, 9, 10, 11, 13, 14, 16, 18, 21]\n",
      "Running variable eta with value 0.006180355123205379\n",
      "Running variable eta with value 0.0069704380665313505\n",
      "Running variable eta with value 0.007861523467627238\n",
      "Running variable eta with value 0.008866523257527292\n",
      "Running variable eta with value 0.01\n",
      "Running variable eta with value 0.011278377904789723\n"
     ]
    },
    {
     "name": "stderr",
     "output_type": "stream",
     "text": [
      "[Parallel(n_jobs=4)]: Done   1 tasks      | elapsed: 14.5min\n",
      "[Parallel(n_jobs=4)]: Done   2 tasks      | elapsed: 14.5min\n"
     ]
    },
    {
     "name": "stdout",
     "output_type": "stream",
     "text": [
      "Running variable eta with value 0.0127201808163249\n"
     ]
    },
    {
     "name": "stderr",
     "output_type": "stream",
     "text": [
      "[Parallel(n_jobs=4)]: Done   3 tasks      | elapsed: 14.5min\n"
     ]
    },
    {
     "name": "stdout",
     "output_type": "stream",
     "text": [
      "Running variable eta with value 0.014346300626376885\n",
      "Running variable eta with value 0.0161803\n"
     ]
    },
    {
     "name": "stderr",
     "output_type": "stream",
     "text": [
      "[Parallel(n_jobs=4)]: Done   4 tasks      | elapsed: 14.5min\n",
      "[Parallel(n_jobs=4)]: Done   5 tasks      | elapsed: 14.5min\n"
     ]
    }
   ],
   "source": [
    "%run {experiments.shl.data_cache}/{tag}.py run"
   ]
  },
  {
   "cell_type": "code",
   "execution_count": null,
   "metadata": {
    "ExecuteTime": {
     "start_time": "2018-05-17T14:50:34.835Z"
    },
    "scrolled": false
   },
   "outputs": [],
   "source": [
    "%run {experiments.shl.data_cache}/{tag}.py plot"
   ]
  },
  {
   "cell_type": "markdown",
   "metadata": {},
   "source": [
    "## Version used"
   ]
  },
  {
   "cell_type": "code",
   "execution_count": null,
   "metadata": {
    "ExecuteTime": {
     "start_time": "2018-05-17T14:50:34.838Z"
    }
   },
   "outputs": [],
   "source": [
    "%load_ext version_information"
   ]
  },
  {
   "cell_type": "code",
   "execution_count": null,
   "metadata": {
    "ExecuteTime": {
     "start_time": "2018-05-17T14:50:34.841Z"
    }
   },
   "outputs": [],
   "source": [
    "%version_information numpy, shl_scripts"
   ]
  }
 ],
 "metadata": {
  "kernelspec": {
   "display_name": "Python 3",
   "language": "python",
   "name": "python3"
  },
  "language_info": {
   "codemirror_mode": {
    "name": "ipython",
    "version": 3
   },
   "file_extension": ".py",
   "mimetype": "text/x-python",
   "name": "python",
   "nbconvert_exporter": "python",
   "pygments_lexer": "ipython3",
   "version": "3.6.5"
  },
  "toc": {
   "base_numbering": 1,
   "nav_menu": {
    "height": "81px",
    "width": "252px"
   },
   "number_sections": true,
   "sideBar": true,
   "skip_h1_title": false,
   "title_cell": "Table of Contents",
   "title_sidebar": "Contents",
   "toc_cell": false,
   "toc_position": {},
   "toc_section_display": "block",
   "toc_window_display": false
  }
 },
 "nbformat": 4,
 "nbformat_minor": 2
}
