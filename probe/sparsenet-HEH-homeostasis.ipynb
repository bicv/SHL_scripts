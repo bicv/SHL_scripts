{
 "cells": [
  {
   "cell_type": "markdown",
   "metadata": {
    "collapsed": true
   },
   "source": [
    "# Sparse Hebbian Learning with Histogram Equalization Homeostasis : testing with different learning rates\n",
    "\n",
    "In this notebook, we test the convergence of SparseNet as a function of different learning parameters. This shows the relative robusteness of this method according to the coding parameters, but also the importance of homeostasis to obtain an efficient set of filters.\n",
    "\n",
    "It uses the full homeostasis layer (by setting ``alpha_homeo=0.``) - to be compared to a smoother Olshausen-like homeostasis.\n",
    "\n",
    "See also :\n",
    "* http://blog.invibe.net/posts/2015-05-05-reproducing-olshausens-classical-sparsenet.html for a description of how SparseNet is implemented in the scikit-learn package\n",
    "* http://blog.invibe.net/posts/2015-05-06-reproducing-olshausens-classical-sparsenet-part-2.html for a descrtiption of how we managed to implement the homeostasis"
   ]
  },
  {
   "cell_type": "code",
   "execution_count": null,
   "metadata": {},
   "outputs": [],
   "source": [
    "%load_ext autoreload\n",
    "%autoreload 2"
   ]
  },
  {
   "cell_type": "code",
   "execution_count": null,
   "metadata": {
    "ExecuteTime": {
<<<<<<< HEAD
     "end_time": "2018-01-19T10:45:57.144642Z",
     "start_time": "2018-01-19T10:45:56.226987Z"
=======
<<<<<<< HEAD
     "end_time": "2018-01-10T16:51:23.369715Z",
     "start_time": "2018-01-10T16:51:22.772626Z"
    },
    "collapsed": true
=======
     "end_time": "2018-01-18T22:15:50.440678Z",
     "start_time": "2018-01-18T22:15:50.026861Z"
>>>>>>> origin/master
    }
>>>>>>> master
   },
   "outputs": [],
   "source": [
    "%matplotlib inline\n",
    "import matplotlib.pyplot as plt\n",
    "import numpy as np\n",
    "np.set_printoptions(precision=2, suppress=True)"
   ]
  },
  {
   "cell_type": "code",
   "execution_count": null,
   "metadata": {
    "ExecuteTime": {
     "end_time": "2018-01-19T10:45:57.547391Z",
     "start_time": "2018-01-19T10:45:57.153795Z"
    },
    "scrolled": false
   },
   "outputs": [],
   "source": [
    "from shl_scripts.shl_experiments import SHL\n",
    "\n",
    "list_figures = ['show_dico', 'time_plot_prob']# 'plot_variance',  'plot_variance_histogram', ,  'time_plot_kurt',  'time_plot_var']DEBUG_DOWNSCALE, verbose = 10, 0\n",
    "DEBUG_DOWNSCALE, verbose = 10, 100\n",
    "DEBUG_DOWNSCALE, verbose = 1, 10\n",
    "N_scan = 7\n",
    "tag = 'HEH'\n",
    "opts = dict(DEBUG_DOWNSCALE=DEBUG_DOWNSCALE, homeo_method=tag, verbose=verbose)\n",
    "data = SHL(**opts).get_data(matname='data')"
   ]
  },
  {
   "cell_type": "code",
   "execution_count": null,
   "metadata": {
    "ExecuteTime": {
     "end_time": "2018-01-19T10:45:57.716284Z",
     "start_time": "2018-01-19T10:45:57.559133Z"
    }
   },
   "outputs": [],
   "source": [
    "!rm -fr data_cache/{tag}*"
   ]
  },
  {
   "cell_type": "markdown",
   "metadata": {},
   "source": [
    "## different learning rates"
   ]
  },
  {
   "cell_type": "code",
   "execution_count": null,
   "metadata": {
    "ExecuteTime": {
     "end_time": "2018-01-19T14:46:13.699045Z",
     "start_time": "2018-01-19T10:45:57.724588Z"
    },
    "scrolled": false
   },
   "outputs": [],
   "source": [
    "for eta in np.logspace(-1, 1, N_scan, base=10)*SHL(**opts).eta['eta']:\n",
    "    shl = SHL(**opts)\n",
    "    matname = tag + ' - eta={}'.format(eta)\n",
    "    shl.eta.update(eta=eta)\n",
    "    dico = shl.learn_dico(data=data, matname=matname, list_figures=list_figures)    \n",
    "    plt.show()    "
   ]
  },
  {
   "cell_type": "markdown",
   "metadata": {},
   "source": [
    "## different homeostatic learning rates"
   ]
  },
  {
   "cell_type": "code",
   "execution_count": null,
   "metadata": {
    "ExecuteTime": {
     "end_time": "2018-01-19T14:46:13.700471Z",
     "start_time": "2018-01-19T10:45:56.261Z"
    },
    "scrolled": true
   },
   "outputs": [],
   "source": [
    "homeo_params = SHL(**opts).homeo_params\n",
    "for eta_homeo in np.logspace(-1, 1, N_scan, base=10)*homeo_params['eta_homeo']:\n",
    "    shl = SHL(**opts)    \n",
    "    matname = tag + ' - eta_homeo={}'.format(eta_homeo)\n",
    "    shl.homeo_params.update(eta_homeo=eta_homeo)\n",
    "    dico = shl.learn_dico(data=data, matname=matname, list_figures=list_figures)    \n",
    "    plt.show()"
   ]
  },
  {
   "cell_type": "markdown",
   "metadata": {},
   "source": [
    "## different sparseness"
   ]
  },
  {
   "cell_type": "code",
   "execution_count": null,
   "metadata": {
    "ExecuteTime": {
     "end_time": "2018-01-19T14:46:13.702060Z",
     "start_time": "2018-01-19T10:45:56.271Z"
    }
   },
   "outputs": [],
   "source": [
    "2**np.arange(N_scan)"
   ]
  },
  {
   "cell_type": "code",
   "execution_count": null,
   "metadata": {
    "ExecuteTime": {
     "end_time": "2018-01-19T14:46:13.703741Z",
     "start_time": "2018-01-19T10:45:56.290Z"
    },
    "scrolled": false
   },
   "outputs": [],
   "source": [
    "for l0_sparseness in 2**np.arange(N_scan):\n",
    "    shl = SHL(**opts, l0_sparseness=l0_sparseness)\n",
    "    matname = tag + ' - l0_sparseness={l0_sparseness}'.format(l0_sparseness=l0_sparseness)\n",
    "    dico = shl.learn_dico(data=data, matname=matname, list_figures=list_figures)    \n",
    "    plt.show()"
   ]
  },
  {
   "cell_type": "markdown",
   "metadata": {},
   "source": [
    "## Version used"
   ]
  },
  {
   "cell_type": "code",
   "execution_count": null,
   "metadata": {
    "ExecuteTime": {
<<<<<<< HEAD
     "end_time": "2018-01-19T14:46:13.705133Z",
     "start_time": "2018-01-19T10:45:56.297Z"
=======
<<<<<<< HEAD
     "end_time": "2018-01-10T17:02:15.254825Z",
     "start_time": "2018-01-10T17:02:15.248391Z"
    },
    "collapsed": true
=======
     "end_time": "2018-01-18T22:20:49.712593Z",
     "start_time": "2018-01-18T22:20:49.706833Z"
>>>>>>> origin/master
    }
>>>>>>> master
   },
   "outputs": [],
   "source": [
    "%load_ext version_information"
   ]
  },
  {
   "cell_type": "code",
   "execution_count": null,
   "metadata": {
    "ExecuteTime": {
     "end_time": "2018-01-19T14:46:13.706469Z",
     "start_time": "2018-01-19T10:45:56.308Z"
    }
   },
   "outputs": [],
   "source": [
    "%version_information numpy, shl_scripts"
   ]
  }
 ],
 "metadata": {
  "kernelspec": {
   "display_name": "Python 3",
   "language": "python",
   "name": "python3"
  },
  "language_info": {
   "codemirror_mode": {
    "name": "ipython",
    "version": 3
   },
   "file_extension": ".py",
   "mimetype": "text/x-python",
   "name": "python",
   "nbconvert_exporter": "python",
   "pygments_lexer": "ipython3",
   "version": "3.6.2"
  },
  "toc": {
   "nav_menu": {
    "height": "81px",
    "width": "252px"
   },
   "number_sections": true,
   "sideBar": true,
   "skip_h1_title": false,
   "toc_cell": false,
   "toc_position": {},
   "toc_section_display": "block",
   "toc_window_display": false
  }
 },
 "nbformat": 4,
 "nbformat_minor": 1
}
