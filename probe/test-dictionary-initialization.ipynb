{
 "cells": [
  {
   "cell_type": "markdown",
   "metadata": {},
   "source": [
    "# Sparse Hebbian Learning with Histogram Equalization Homeostasis : testing two different dictionary initalization strategies"
   ]
  },
  {
   "cell_type": "markdown",
   "metadata": {},
   "source": [
    "1- Dictionary initialized as 2D White Noise"
   ]
  },
  {
   "cell_type": "code",
   "execution_count": null,
   "metadata": {
    "ExecuteTime": {
     "end_time": "2018-01-22T14:52:08.869362Z",
     "start_time": "2018-01-22T14:52:08.814339Z"
    }
   },
   "outputs": [],
   "source": [
    "%load_ext autoreload\n",
    "%autoreload 2"
   ]
  },
  {
   "cell_type": "code",
   "execution_count": null,
   "metadata": {
    "ExecuteTime": {
     "end_time": "2018-01-22T14:52:09.852390Z",
     "start_time": "2018-01-22T14:52:08.871818Z"
    }
   },
   "outputs": [],
   "source": [
    "%matplotlib inline\n",
    "import matplotlib.pyplot as plt\n",
    "import numpy as np\n",
    "np.set_printoptions(precision=2, suppress=True)"
   ]
  },
  {
   "cell_type": "code",
   "execution_count": null,
   "metadata": {
    "ExecuteTime": {
     "end_time": "2018-01-22T14:52:10.095817Z",
     "start_time": "2018-01-22T14:52:09.857061Z"
    }
   },
   "outputs": [],
   "source": [
    "from shl_scripts.shl_experiments import SHL\n",
    "\n",
    "list_figures = ['show_dico']#, 'rec_error', 'plot_variance',  'plot_variance_histogram',  'time_plot_prob',  'time_plot_kurt',  'time_plot_var']\n",
    "DEBUG_DOWNSCALE, verbose = 10, 0\n",
    "DEBUG_DOWNSCALE, verbose = 10, 100\n",
    "DEBUG_DOWNSCALE, verbose = 1, 10\n",
    "N_scan = 7\n",
    "tag = 'DICT_INIT'\n",
    "opts = dict(DEBUG_DOWNSCALE=DEBUG_DOWNSCALE, homeo_method='HAP',\n",
    "              learning_algorithm='mp', verbose=verbose)\n",
    "shl = SHL(**opts)\n",
    "data = shl.get_data(matname='data')"
   ]
  },
  {
   "cell_type": "raw",
   "metadata": {
    "ExecuteTime": {
     "end_time": "2018-01-19T19:50:03.274049Z",
     "start_time": "2018-01-19T19:50:02.997750Z"
    }
   },
   "source": [
    "!rm -fr {shl.data_cache}/{tag}*lock*\n",
    "!rm -fr {shl.data_cache}/{tag}*"
   ]
  },
  {
   "cell_type": "raw",
   "metadata": {
    "ExecuteTime": {
     "end_time": "2018-01-19T10:28:30.691822Z",
     "start_time": "2018-01-19T10:28:30.529632Z"
    }
   },
   "source": [
    "%ls -l {shl.data_cache}"
   ]
  },
  {
   "cell_type": "markdown",
   "metadata": {},
   "source": [
    "## White Noise Initialization + Learning"
   ]
  },
  {
   "cell_type": "code",
   "execution_count": null,
   "metadata": {
    "ExecuteTime": {
     "end_time": "2018-01-22T15:02:13.627640Z",
     "start_time": "2018-01-22T14:52:10.099139Z"
    },
    "scrolled": false
   },
   "outputs": [],
   "source": [
    "matname = tag + '_WHITE'\n",
    "shl = SHL(one_over_F=False, **opts)\n",
    "dico_w = shl.learn_dico(data=data, matname=matname, list_figures=list_figures)"
   ]
  },
  {
   "cell_type": "markdown",
   "metadata": {},
   "source": [
    "## 1/f Noise Initialization + Learning"
   ]
  },
  {
   "cell_type": "code",
   "execution_count": null,
   "metadata": {
    "ExecuteTime": {
     "end_time": "2018-01-22T15:11:29.747613Z",
     "start_time": "2018-01-22T15:02:13.630225Z"
    }
   },
   "outputs": [],
   "source": [
    "matname = tag + '_OVF'\n",
    "shl = SHL(one_over_F=True, **opts)\n",
    "dico_1oF = shl.learn_dico(data=data, matname=matname, list_figures=list_figures)"
   ]
  },
  {
   "cell_type": "raw",
   "metadata": {
    "ExecuteTime": {
     "end_time": "2018-01-22T15:11:31.368627Z",
     "start_time": "2018-01-22T15:11:29.753833Z"
    }
   },
   "source": [
    "fig_error, ax_error = None, None\n",
    "fig_error, ax_error = shl.time_plot(dico_w, variable='error', fig=fig_error, ax=ax_error, color='blue', label='white')\n",
    "fig_error, ax_error = shl.time_plot(dico_1oF, variable='error', fig=fig_error, ax=ax_error, color='red', label='1/f')\n",
    "ax_error.set_ylim((0, .65))\n",
    "ax_error.legend(loc='best');"
   ]
  },
  {
   "cell_type": "code",
   "execution_count": null,
   "metadata": {
    "ExecuteTime": {
     "end_time": "2018-01-22T15:19:31.797444Z",
     "start_time": "2018-01-22T15:19:26.970189Z"
    },
    "scrolled": false
   },
   "outputs": [],
   "source": [
    "for variable in ['error', 'qerror']:\n",
    "    fig_error, ax_error = None, None\n",
    "    fig_error, ax_error = shl.time_plot(dico_w, variable=variable, fig=fig_error, ax=ax_error, color='blue', label='fixed')\n",
    "    fig_error, ax_error = shl.time_plot(dico_1oF, variable=variable, fig=fig_error, ax=ax_error, color='red', label='adam')\n",
    "    #ax_error.set_ylim((0, .65))\n",
    "    ax_error.legend(loc='best')\n",
    "    plt.show();"
   ]
  }
 ],
 "metadata": {
  "kernelspec": {
   "display_name": "Python 3",
   "language": "python",
   "name": "python3"
  },
  "language_info": {
   "codemirror_mode": {
    "name": "ipython",
    "version": 3
   },
   "file_extension": ".py",
   "mimetype": "text/x-python",
   "name": "python",
   "nbconvert_exporter": "python",
   "pygments_lexer": "ipython3",
   "version": "3.6.4"
  },
  "toc": {
   "nav_menu": {},
   "number_sections": true,
   "sideBar": true,
   "skip_h1_title": false,
   "toc_cell": false,
   "toc_position": {},
   "toc_section_display": "block",
   "toc_window_display": false
  }
 },
 "nbformat": 4,
 "nbformat_minor": 2
}
