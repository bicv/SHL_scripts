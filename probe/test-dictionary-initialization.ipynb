{
 "cells": [
  {
   "cell_type": "markdown",
   "metadata": {},
   "source": [
    "# Sparse Hebbian Learning with Histogram Equalization Homeostasis : testing two different dictionary initalization strategies"
   ]
  },
  {
   "cell_type": "markdown",
   "metadata": {},
   "source": [
    "1- Dictionary initialized as 2D White Noise"
   ]
  },
  {
   "cell_type": "code",
   "execution_count": 1,
   "metadata": {
    "ExecuteTime": {
     "end_time": "2018-01-24T13:31:17.073816Z",
     "start_time": "2018-01-24T13:31:17.029048Z"
    }
   },
   "outputs": [],
   "source": [
    "%load_ext autoreload\n",
    "%autoreload 2"
   ]
  },
  {
   "cell_type": "code",
   "execution_count": 2,
   "metadata": {
    "ExecuteTime": {
     "end_time": "2018-01-24T13:31:17.673149Z",
     "start_time": "2018-01-24T13:31:17.078500Z"
    }
   },
   "outputs": [],
   "source": [
    "%matplotlib inline\n",
    "import matplotlib.pyplot as plt\n",
    "import numpy as np\n",
    "np.set_printoptions(precision=2, suppress=True)"
   ]
  },
  {
   "cell_type": "code",
   "execution_count": 3,
   "metadata": {
    "ExecuteTime": {
     "end_time": "2018-01-24T13:31:17.878759Z",
     "start_time": "2018-01-24T13:31:17.677448Z"
    }
   },
   "outputs": [
    {
     "name": "stdout",
     "output_type": "stream",
     "text": [
      "Extracting data..loading the data called : /tmp/data_cache/data_data\n",
      "Data is of shape : (81920, 256) - done in 0.14s.\n"
     ]
    }
   ],
   "source": [
    "from shl_scripts.shl_experiments import SHL\n",
    "\n",
    "list_figures = ['show_dico']#, 'rec_error', 'plot_variance',  'plot_variance_histogram',  'time_plot_prob',  'time_plot_kurt',  'time_plot_var']\n",
    "DEBUG_DOWNSCALE, verbose = 10, 0\n",
    "DEBUG_DOWNSCALE, verbose = 10, 100\n",
    "DEBUG_DOWNSCALE, verbose = 1, 10\n",
    "N_scan = 7\n",
    "tag = 'DICT_INIT'\n",
    "opts = dict(DEBUG_DOWNSCALE=DEBUG_DOWNSCALE, homeo_method='HAP', homeo_params=dict(eta_homeo=0.05, alpha_homeo=0.02),\n",
    "              learning_algorithm='mp', verbose=verbose)\n",
    "shl = SHL(**opts)\n",
    "data = shl.get_data(matname='data')"
   ]
  },
  {
   "cell_type": "code",
   "execution_count": 4,
   "metadata": {
    "ExecuteTime": {
     "end_time": "2018-01-24T13:31:18.180199Z",
     "start_time": "2018-01-24T13:31:17.883093Z"
    }
   },
   "outputs": [],
   "source": [
    "!rm -fr {shl.data_cache}/{tag}*lock*\n",
    "!rm -fr {shl.data_cache}/{tag}*"
   ]
  },
  {
   "cell_type": "code",
   "execution_count": null,
   "metadata": {
    "ExecuteTime": {
     "start_time": "2018-01-24T13:31:17.047Z"
    }
   },
   "outputs": [
    {
     "name": "stdout",
     "output_type": "stream",
     "text": [
      "total 361640\r\n",
      "-rw-r--r--  1 lolo  wheel          0 Jan 24 13:22 HAP - eta_homeo=0.005000000000000001_dico.pkl_lock\r\n",
      "-rw-r--r--  1 lolo  wheel          0 Jan 24 13:22 HAP - eta_homeo=0.005000000000000001_dico.pkl_lock_pid-6591_host-ada\r\n",
      "-rw-r--r--  1 lolo  wheel          0 Jan 24 13:23 HAP - eta_homeo=0.010772173450159418_dico.pkl_lock\r\n",
      "-rw-r--r--  1 lolo  wheel          0 Jan 24 13:23 HAP - eta_homeo=0.010772173450159418_dico.pkl_lock_pid-6636_host-ada\r\n",
      "-rw-r--r--  1 lolo  wheel          0 Jan 24 13:23 HAP - eta_homeo=0.023207944168063894_dico.pkl_lock\r\n",
      "-rw-r--r--  1 lolo  wheel          0 Jan 24 13:23 HAP - eta_homeo=0.023207944168063894_dico.pkl_lock_pid-6673_host-ada\r\n",
      "-rw-r--r--  1 lolo  wheel          0 Jan 24 14:14 HAP - eta_homeo=0.05_dico.pkl_lock\r\n",
      "-rw-r--r--  1 lolo  wheel          0 Jan 24 14:14 HAP - eta_homeo=0.05_dico.pkl_lock_pid-7838_host-ada\r\n",
      "-rw-r--r--  1 lolo  wheel          0 Jan 24 14:16 HAP - eta_homeo=0.10772173450159417_dico.pkl_lock\r\n",
      "-rw-r--r--  1 lolo  wheel          0 Jan 24 14:16 HAP - eta_homeo=0.10772173450159417_dico.pkl_lock_pid-7926_host-ada\r\n",
      "-rw-r--r--  1 lolo  wheel    1456519 Jan 24 14:25 HAP - eta_homeo=0.23207944168063888_dico.pkl\r\n",
      "-rw-r--r--  1 lolo  wheel          0 Jan 24 14:25 HAP - eta_homeo=0.5_dico.pkl_lock\r\n",
      "-rw-r--r--  1 lolo  wheel          0 Jan 24 14:25 HAP - eta_homeo=0.5_dico.pkl_lock_pid-8019_host-ada\r\n",
      "-rw-r--r--  1 lolo  wheel    1028994 Jan 24 10:27 HEH - eta=0.0025000000000000005_dico.pkl\r\n",
      "-rw-r--r--  1 lolo  wheel          0 Jan 24 12:59 HEH - eta=0.005000000000000001_dico.pkl_lock\r\n",
      "-rw-r--r--  1 lolo  wheel          0 Jan 24 12:59 HEH - eta=0.005000000000000001_dico.pkl_lock_pid-5957_host-ada\r\n",
      "-rw-r--r--  1 lolo  wheel    1028994 Jan 24 10:56 HEH - eta=0.005386086725079709_dico.pkl\r\n",
      "-rw-r--r--  1 lolo  wheel    1060920 Jan 24 13:43 HEH - eta=0.010772173450159418_dico.pkl\r\n",
      "-rw-r--r--  1 lolo  wheel    1028994 Jan 24 11:21 HEH - eta=0.011603972084031947_dico.pkl\r\n",
      "-rw-r--r--  1 lolo  wheel    1060920 Jan 24 14:13 HEH - eta=0.023207944168063894_dico.pkl\r\n",
      "-rw-r--r--  1 lolo  wheel    1028994 Jan 24 11:48 HEH - eta=0.025_dico.pkl\r\n",
      "-rw-r--r--  1 lolo  wheel    1028994 Jan 24 12:14 HEH - eta=0.053860867250797084_dico.pkl\r\n",
      "-rw-r--r--  1 lolo  wheel          0 Jan 24 14:13 HEH - eta=0.05_dico.pkl_lock\r\n",
      "-rw-r--r--  1 lolo  wheel          0 Jan 24 14:13 HEH - eta=0.05_dico.pkl_lock_pid-6433_host-ada\r\n",
      "-rw-r--r--  1 lolo  wheel    1028994 Jan 24 12:42 HEH - eta=0.11603972084031944_dico.pkl\r\n",
      "-rw-r--r--  1 lolo  wheel          0 Jan 24 12:42 HEH - eta=0.25_dico.pkl_lock\r\n",
      "-rw-r--r--  1 lolo  wheel          0 Jan 24 12:42 HEH - eta=0.25_dico.pkl_lock_pid-3950_host-ada\r\n",
      "-rw-r--r--  1 lolo  wheel    1157604 Jan 24 10:52 HEH_quantization_dico.pkl\r\n",
      "-rw-r--r--  1 lolo  wheel    1392660 Jan 24 14:20 Olshausen - eta=0.005000000000000001_dico.pkl\r\n",
      "-rw-r--r--  1 lolo  wheel    1392660 Jan 24 14:23 Olshausen - eta=0.010772173450159418_dico.pkl\r\n",
      "-rw-r--r--  1 lolo  wheel    1392660 Jan 24 14:27 Olshausen - eta=0.023207944168063894_dico.pkl\r\n",
      "-rw-r--r--  1 lolo  wheel          0 Jan 24 14:28 Olshausen - eta=0.05_dico.pkl_lock\r\n",
      "-rw-r--r--  1 lolo  wheel          0 Jan 24 14:28 Olshausen - eta=0.05_dico.pkl_lock_pid-7920_host-ada\r\n",
      "-rw-r--r--  1 lolo  wheel  167772288 Jan 24 09:12 data_data.npy\r\n",
      "-rw-r--r--  1 lolo  wheel    1124757 Jan 24 13:25 learning-rates_ADAM_dico.pkl\r\n",
      "-rw-r--r--  1 lolo  wheel    1124703 Jan 24 12:24 learning-rates_fixed_dico.pkl\r\n",
      "-rw-r--r--  1 lolo  wheel          0 Jan 24 14:13 vanilla_dico.pkl_lock\r\n",
      "-rw-r--r--  1 lolo  wheel          0 Jan 24 14:13 vanilla_dico.pkl_lock_pid-7777_host-ada\r\n"
     ]
    }
   ],
   "source": [
    "%ls -l {shl.data_cache}"
   ]
  },
  {
   "cell_type": "markdown",
   "metadata": {},
   "source": [
    "## White Noise Initialization + Learning"
   ]
  },
  {
   "cell_type": "code",
   "execution_count": null,
   "metadata": {
    "ExecuteTime": {
     "start_time": "2018-01-24T13:31:17.057Z"
    },
    "scrolled": false
   },
   "outputs": [
    {
     "name": "stdout",
     "output_type": "stream",
     "text": [
      "No cache found /tmp/data_cache/DICT_INIT_WHITE_dico.pkl: Learning the dictionary with algo = mp \n",
      " Training on 81920 patches... Iteration   0 /   1024 (elapsed time:   0s,  0.0mn)\n",
      "Iteration  103 /   1024 (elapsed time:  28s,  0.0mn)\n",
      "Iteration  206 /   1024 (elapsed time:  55s,  0.0mn)\n"
     ]
    }
   ],
   "source": [
    "matname = tag + '_WHITE'\n",
    "shl = SHL(one_over_F=False, **opts)\n",
    "dico_w = shl.learn_dico(data=data, matname=matname, list_figures=list_figures)"
   ]
  },
  {
   "cell_type": "markdown",
   "metadata": {},
   "source": [
    "## 1/f Noise Initialization + Learning"
   ]
  },
  {
   "cell_type": "code",
   "execution_count": null,
   "metadata": {
    "ExecuteTime": {
     "start_time": "2018-01-24T13:31:17.063Z"
    }
   },
   "outputs": [],
   "source": [
    "matname = tag + '_OVF'\n",
    "shl = SHL(one_over_F=True, **opts)\n",
    "dico_1oF = shl.learn_dico(data=data, matname=matname, list_figures=list_figures)"
   ]
  },
  {
   "cell_type": "raw",
   "metadata": {
    "ExecuteTime": {
     "end_time": "2018-01-22T15:11:31.368627Z",
     "start_time": "2018-01-22T15:11:29.753833Z"
    }
   },
   "source": [
    "fig_error, ax_error = None, None\n",
    "fig_error, ax_error = shl.time_plot(dico_w, variable='error', fig=fig_error, ax=ax_error, color='blue', label='white')\n",
    "fig_error, ax_error = shl.time_plot(dico_1oF, variable='error', fig=fig_error, ax=ax_error, color='red', label='1/f')\n",
    "ax_error.set_ylim((0, .65))\n",
    "ax_error.legend(loc='best');"
   ]
  },
  {
   "cell_type": "code",
   "execution_count": null,
   "metadata": {
    "ExecuteTime": {
     "start_time": "2018-01-24T13:31:17.105Z"
    },
    "scrolled": false
   },
   "outputs": [],
   "source": [
    "for variable in ['error', 'qerror']:\n",
    "    fig_error, ax_error = None, None\n",
    "    fig_error, ax_error = shl.time_plot(dico_w, variable=variable, fig=fig_error, ax=ax_error, color='blue', label='fixed')\n",
    "    fig_error, ax_error = shl.time_plot(dico_1oF, variable=variable, fig=fig_error, ax=ax_error, color='red', label='adam')\n",
    "    #ax_error.set_ylim((0, .65))\n",
    "    ax_error.legend(loc='best')\n",
    "    plt.show();"
   ]
  }
 ],
 "metadata": {
  "kernelspec": {
   "display_name": "Python 3",
   "language": "python",
   "name": "python3"
  },
  "language_info": {
   "codemirror_mode": {
    "name": "ipython",
    "version": 3
   },
   "file_extension": ".py",
   "mimetype": "text/x-python",
   "name": "python",
   "nbconvert_exporter": "python",
   "pygments_lexer": "ipython3",
   "version": "3.6.4"
  },
  "toc": {
   "nav_menu": {},
   "number_sections": true,
   "sideBar": true,
   "skip_h1_title": false,
   "toc_cell": false,
   "toc_position": {},
   "toc_section_display": "block",
   "toc_window_display": false
  }
 },
 "nbformat": 4,
 "nbformat_minor": 2
}
