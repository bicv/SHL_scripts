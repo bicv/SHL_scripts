{
 "cells": [
  {
   "cell_type": "markdown",
   "metadata": {
    "collapsed": true
   },
   "source": [
    "# Sparse Hebbian Learning : testing unsupervised learning with different learning rates\n",
    "\n",
    "In this notebook, we test the convergence of SparseNet as a function of different learning parameters. This shows the relative robusteness of this method according to the coding parameters, but also the importance of homeostasis to obtain an efficient set of filters.\n",
    "\n",
    "See also :\n",
    "* http://blog.invibe.net/posts/2015-05-05-reproducing-olshausens-classical-sparsenet.html for a description of how SparseNet is implemented in the scikit-learn package\n",
    "* http://blog.invibe.net/posts/2015-05-06-reproducing-olshausens-classical-sparsenet-part-2.html for a descrtiption of how we managed to implement the homeostasis"
   ]
  },
  {
   "cell_type": "raw",
   "metadata": {},
   "source": [
    "import time\n",
    "time.sleep(3600*12)"
   ]
  },
  {
   "cell_type": "code",
   "execution_count": 1,
   "metadata": {},
   "outputs": [],
   "source": [
    "%matplotlib inline\n",
    "import matplotlib.pyplot as plt\n",
    "import numpy as np\n",
    "np.set_printoptions(precision=2, suppress=True)"
   ]
  },
  {
   "cell_type": "code",
   "execution_count": 2,
   "metadata": {
    "scrolled": false
   },
   "outputs": [
    {
     "name": "stdout",
     "output_type": "stream",
     "text": [
      "Extracting data..yose07.png, craterlake12.png, clouds43.png, rocky10.png, bora04.png, koala52.png, flowerhill29.png, hibiscus30.png, calcoast09.png, yose05.png, cattails70.png, cucorn50.png, bittern62.png, yellowleaves39.png, bird08.png, geyser27.png, woods54.png, flowers37.png, goldwater67.png, reflection63.png, \n",
      "Data is of shape : (81920, 256) - done in 9.53s."
     ]
    }
   ],
   "source": [
    "from shl_scripts.shl_experiments import SHL\n",
    "\n",
    "list_figures = ['show_dico', 'plot_variance',  'plot_variance_histogram',  'time_plot_prob',  'time_plot_kurt',  'time_plot_var']\n",
    "DEBUG_DOWNSCALE, verbose = 10, 0\n",
    "DEBUG_DOWNSCALE, verbose = 10, 100\n",
    "DEBUG_DOWNSCALE, verbose = 1, 10\n",
    "N_scan = 7\n",
    "tag = 'homeo'\n",
    "shl = SHL(DEBUG_DOWNSCALE=DEBUG_DOWNSCALE, verbose=verbose)\n",
    "data = shl.get_data()"
   ]
  },
  {
   "cell_type": "markdown",
   "metadata": {},
   "source": [
    "## different learning rates"
   ]
  },
  {
   "cell_type": "code",
   "execution_count": 3,
   "metadata": {
    "scrolled": false
   },
   "outputs": [
    {
     "name": "stdout",
     "output_type": "stream",
     "text": [
      "total 14586688\r\n",
      "-rw-r--r--  1 laurentperrinet  staff  212336720 Dec  9 13:20 HAP homeo - alpha_homeo=0.010000000000000002_coding.npy\r\n",
      "-rw-r--r--  1 laurentperrinet  staff    4747488 Dec  9 13:19 HAP homeo - alpha_homeo=0.010000000000000002_dico.pkl\r\n",
      "-rw-r--r--  1 laurentperrinet  staff  212336720 Dec  9 13:48 HAP homeo - alpha_homeo=0.017113283041617806_coding.npy\r\n",
      "-rw-r--r--  1 laurentperrinet  staff    4747488 Dec  9 13:48 HAP homeo - alpha_homeo=0.017113283041617806_dico.pkl\r\n",
      "-rw-r--r--  1 laurentperrinet  staff  212336720 Dec  9 14:17 HAP homeo - alpha_homeo=0.02928644564625236_coding.npy\r\n",
      "-rw-r--r--  1 laurentperrinet  staff    4747488 Dec  9 14:17 HAP homeo - alpha_homeo=0.02928644564625236_dico.pkl\r\n",
      "-rw-r--r--  1 laurentperrinet  staff  212336720 Dec  9 14:46 HAP homeo - alpha_homeo=0.05011872336272723_coding.npy\r\n",
      "-rw-r--r--  1 laurentperrinet  staff    4747488 Dec  9 14:46 HAP homeo - alpha_homeo=0.05011872336272723_dico.pkl\r\n",
      "-rw-r--r--  1 laurentperrinet  staff   59391507 Dec  9 15:15 HAP homeo - alpha_homeo=0.08576958985908939_coding.npy\r\n",
      "-rw-r--r--  1 laurentperrinet  staff    4747488 Dec  9 15:14 HAP homeo - alpha_homeo=0.08576958985908939_dico.pkl\r\n",
      "-rw-r--r--  1 laurentperrinet  staff  212336720 Dec  9 15:44 HAP homeo - alpha_homeo=0.1467799267622069_coding.npy\r\n",
      "-rw-r--r--  1 laurentperrinet  staff    4747488 Dec  9 15:43 HAP homeo - alpha_homeo=0.1467799267622069_dico.pkl\r\n",
      "-rw-r--r--  1 laurentperrinet  staff    4747488 Dec  9 16:12 HAP homeo - alpha_homeo=0.251188643150958_dico.pkl\r\n",
      "-rw-r--r--  1 laurentperrinet  staff    4747488 Dec  9 06:37 HAP homeo - eta=0.0015_dico.pkl\r\n",
      "-rw-r--r--  1 laurentperrinet  staff    4747488 Dec  9 07:05 HAP homeo - eta=0.003231652035047825_dico.pkl\r\n",
      "-rw-r--r--  1 laurentperrinet  staff    4747488 Dec  9 07:34 HAP homeo - eta=0.006962383250419168_dico.pkl\r\n",
      "-rw-r--r--  1 laurentperrinet  staff    4747488 Dec  9 08:02 HAP homeo - eta=0.015_dico.pkl\r\n",
      "-rw-r--r--  1 laurentperrinet  staff  212336720 Dec  9 12:22 HAP homeo - eta_homeo=0.046415888336127774_coding.npy\r\n",
      "-rw-r--r--  1 laurentperrinet  staff    4747488 Dec  9 12:22 HAP homeo - eta_homeo=0.046415888336127774_dico.pkl\r\n",
      "-rw-r--r--  1 laurentperrinet  staff  212336720 Dec  9 12:51 HAP homeo - eta_homeo=0.1_coding.npy\r\n",
      "-rw-r--r--  1 laurentperrinet  staff    4747488 Dec  9 12:50 HAP homeo - eta_homeo=0.1_dico.pkl\r\n",
      "-rw-r--r--  1 laurentperrinet  staff          0 Dec  8 15:27 no homeo - eta=0.0015_dico.pkl_lock\r\n",
      "-rw-r--r--  1 laurentperrinet  staff          0 Dec  8 15:27 no homeo - eta=0.0015_dico.pkl_lock_pid-17410_host-babbage\r\n",
      "-rw-r--r--  1 laurentperrinet  staff  212336720 Dec 11 09:40 no homeo - eta=0.003231652035047825_coding.npy\r\n",
      "-rw-r--r--  1 laurentperrinet  staff    4747481 Dec  8 17:45 no homeo - eta=0.003231652035047825_dico.pkl\r\n",
      "-rw-r--r--  1 laurentperrinet  staff  212336720 Dec 11 09:42 no homeo - eta=0.006962383250419168_coding.npy\r\n",
      "-rw-r--r--  1 laurentperrinet  staff    4747481 Dec  8 18:14 no homeo - eta=0.006962383250419168_dico.pkl\r\n",
      "-rw-r--r--  1 laurentperrinet  staff  212336720 Dec 11 09:43 no homeo - eta=0.015_coding.npy\r\n",
      "-rw-r--r--  1 laurentperrinet  staff    4747481 Dec  8 18:42 no homeo - eta=0.015_dico.pkl\r\n",
      "-rw-r--r--  1 laurentperrinet  staff  212336720 Dec 11 09:45 no homeo - eta=0.03231652035047825_coding.npy\r\n",
      "-rw-r--r--  1 laurentperrinet  staff    4747481 Dec  8 19:11 no homeo - eta=0.03231652035047825_dico.pkl\r\n",
      "-rw-r--r--  1 laurentperrinet  staff  212336720 Dec 11 09:46 no homeo - eta=0.06962383250419166_coding.npy\r\n",
      "-rw-r--r--  1 laurentperrinet  staff    4747481 Dec  8 19:39 no homeo - eta=0.06962383250419166_dico.pkl\r\n",
      "-rw-r--r--  1 laurentperrinet  staff  212336720 Dec 11 09:47 no homeo - eta=0.15_coding.npy\r\n",
      "-rw-r--r--  1 laurentperrinet  staff    4747481 Dec  8 20:08 no homeo - eta=0.15_dico.pkl\r\n",
      "-rw-r--r--  1 laurentperrinet  staff  212336720 Dec 11 13:06 olshausen homeo - alpha_homeo=0.0017113283041617806_coding.npy\r\n",
      "-rw-r--r--  1 laurentperrinet  staff    1685465 Dec 11 13:05 olshausen homeo - alpha_homeo=0.0017113283041617806_dico.pkl\r\n",
      "-rw-r--r--  1 laurentperrinet  staff  212336720 Dec 11 12:56 olshausen homeo - alpha_homeo=0.001_coding.npy\r\n",
      "-rw-r--r--  1 laurentperrinet  staff    1685465 Dec 11 12:55 olshausen homeo - alpha_homeo=0.001_dico.pkl\r\n",
      "-rw-r--r--  1 laurentperrinet  staff  212336720 Dec 11 13:16 olshausen homeo - alpha_homeo=0.0029286445646252357_coding.npy\r\n",
      "-rw-r--r--  1 laurentperrinet  staff    1685465 Dec 11 13:15 olshausen homeo - alpha_homeo=0.0029286445646252357_dico.pkl\r\n",
      "-rw-r--r--  1 laurentperrinet  staff  212336720 Dec 11 13:30 olshausen homeo - alpha_homeo=0.005011872336272723_coding.npy\r\n",
      "-rw-r--r--  1 laurentperrinet  staff    1685465 Dec 11 13:29 olshausen homeo - alpha_homeo=0.005011872336272723_dico.pkl\r\n",
      "-rw-r--r--  1 laurentperrinet  staff  212336720 Dec 11 13:49 olshausen homeo - alpha_homeo=0.008576958985908939_coding.npy\r\n",
      "-rw-r--r--  1 laurentperrinet  staff    1685465 Dec 11 13:48 olshausen homeo - alpha_homeo=0.008576958985908939_dico.pkl\r\n",
      "-rw-r--r--  1 laurentperrinet  staff          0 Dec 11 13:49 olshausen homeo - alpha_homeo=0.014677992676220691_dico.pkl_lock\r\n",
      "-rw-r--r--  1 laurentperrinet  staff          0 Dec 11 13:49 olshausen homeo - alpha_homeo=0.014677992676220691_dico.pkl_lock_pid-45438_host-ekla\r\n",
      "-rw-r--r--  1 laurentperrinet  staff    4747488 Dec  9 04:41 olshausen homeo - alpha_homeo=0.05011872336272723_dico.pkl\r\n",
      "-rw-r--r--  1 laurentperrinet  staff    4747488 Dec  9 05:10 olshausen homeo - alpha_homeo=0.08576958985908939_dico.pkl\r\n",
      "-rw-r--r--  1 laurentperrinet  staff    4747488 Dec  9 05:39 olshausen homeo - alpha_homeo=0.1467799267622069_dico.pkl\r\n",
      "-rw-r--r--  1 laurentperrinet  staff    4747488 Dec  9 06:08 olshausen homeo - alpha_homeo=0.251188643150958_dico.pkl\r\n",
      "-rw-r--r--  1 laurentperrinet  staff  212336720 Dec 11 10:34 olshausen homeo - eta=0.0015_coding.npy\r\n",
      "-rw-r--r--  1 laurentperrinet  staff    1685465 Dec 11 10:33 olshausen homeo - eta=0.0015_dico.pkl\r\n",
      "-rw-r--r--  1 laurentperrinet  staff  212336720 Dec 11 10:46 olshausen homeo - eta=0.003231652035047825_coding.npy\r\n",
      "-rw-r--r--  1 laurentperrinet  staff    1685465 Dec 11 10:46 olshausen homeo - eta=0.003231652035047825_dico.pkl\r\n",
      "-rw-r--r--  1 laurentperrinet  staff  212336720 Dec 11 10:56 olshausen homeo - eta=0.006962383250419168_coding.npy\r\n",
      "-rw-r--r--  1 laurentperrinet  staff    1685465 Dec 11 10:55 olshausen homeo - eta=0.006962383250419168_dico.pkl\r\n",
      "-rw-r--r--  1 laurentperrinet  staff  212336720 Dec 11 11:05 olshausen homeo - eta=0.015_coding.npy\r\n",
      "-rw-r--r--  1 laurentperrinet  staff    1685465 Dec 11 11:05 olshausen homeo - eta=0.015_dico.pkl\r\n",
      "-rw-r--r--  1 laurentperrinet  staff  212336720 Dec 11 11:15 olshausen homeo - eta=0.03231652035047825_coding.npy\r\n",
      "-rw-r--r--  1 laurentperrinet  staff    1685465 Dec 11 11:14 olshausen homeo - eta=0.03231652035047825_dico.pkl\r\n",
      "-rw-r--r--  1 laurentperrinet  staff  212336720 Dec 11 11:24 olshausen homeo - eta=0.06962383250419166_coding.npy\r\n",
      "-rw-r--r--  1 laurentperrinet  staff    1685465 Dec 11 11:23 olshausen homeo - eta=0.06962383250419166_dico.pkl\r\n",
      "-rw-r--r--  1 laurentperrinet  staff  212336720 Dec 11 11:33 olshausen homeo - eta=0.15_coding.npy\r\n",
      "-rw-r--r--  1 laurentperrinet  staff    1685465 Dec 11 11:33 olshausen homeo - eta=0.15_dico.pkl\r\n",
      "-rw-r--r--  1 laurentperrinet  staff  212336720 Dec 11 11:43 olshausen homeo - eta_homeo=0.001_coding.npy\r\n",
      "-rw-r--r--  1 laurentperrinet  staff    1685465 Dec 11 11:43 olshausen homeo - eta_homeo=0.001_dico.pkl\r\n",
      "-rw-r--r--  1 laurentperrinet  staff  212336720 Dec 11 11:54 olshausen homeo - eta_homeo=0.0021544346900318834_coding.npy\r\n",
      "-rw-r--r--  1 laurentperrinet  staff    1685465 Dec 11 11:53 olshausen homeo - eta_homeo=0.0021544346900318834_dico.pkl\r\n",
      "-rw-r--r--  1 laurentperrinet  staff  212336720 Dec 11 12:04 olshausen homeo - eta_homeo=0.004641588833612779_coding.npy\r\n",
      "-rw-r--r--  1 laurentperrinet  staff    1685465 Dec 11 12:04 olshausen homeo - eta_homeo=0.004641588833612779_dico.pkl\r\n",
      "-rw-r--r--  1 laurentperrinet  staff  212336720 Dec 11 12:15 olshausen homeo - eta_homeo=0.01_coding.npy\r\n",
      "-rw-r--r--  1 laurentperrinet  staff    1685465 Dec 11 12:14 olshausen homeo - eta_homeo=0.01_dico.pkl\r\n",
      "-rw-r--r--  1 laurentperrinet  staff  212336720 Dec 11 12:25 olshausen homeo - eta_homeo=0.021544346900318836_coding.npy\r\n",
      "-rw-r--r--  1 laurentperrinet  staff    1685465 Dec 11 12:25 olshausen homeo - eta_homeo=0.021544346900318836_dico.pkl\r\n",
      "-rw-r--r--  1 laurentperrinet  staff  212336720 Dec 11 12:35 olshausen homeo - eta_homeo=0.046415888336127774_coding.npy\r\n",
      "-rw-r--r--  1 laurentperrinet  staff    1685465 Dec 11 12:35 olshausen homeo - eta_homeo=0.046415888336127774_dico.pkl\r\n",
      "-rw-r--r--  1 laurentperrinet  staff  212336720 Dec 11 12:46 olshausen homeo - eta_homeo=0.1_coding.npy\r\n",
      "-rw-r--r--  1 laurentperrinet  staff    1685465 Dec 11 12:45 olshausen homeo - eta_homeo=0.1_dico.pkl\r\n",
      "-rw-r--r--  1 laurentperrinet  staff    5080312 Dec  6 14:25 rescaling - C=0.0_dico.pkl\r\n",
      "-rw-r--r--  1 laurentperrinet  staff    5079288 Dec  7 06:04 rescaling - C=10.0_dico.pkl\r\n",
      "-rw-r--r--  1 laurentperrinet  staff    5079288 Dec  6 18:22 rescaling - C=2.5_dico.pkl\r\n",
      "-rw-r--r--  1 laurentperrinet  staff    5079288 Dec  6 22:25 rescaling - C=5.0_dico.pkl\r",
      "\r\n",
      "-rw-r--r--  1 laurentperrinet  staff    5079288 Dec  7 02:20 rescaling - C=7.5_dico.pkl\r\n",
      "-rw-r--r--  1 laurentperrinet  staff    5080257 Dec  8 06:00 rescaling - auto - nb_quant=128_dico.pkl\r\n",
      "-rw-r--r--  1 laurentperrinet  staff    4789057 Dec  8 05:46 rescaling - auto - nb_quant=16_dico.pkl\r\n",
      "-rw-r--r--  1 laurentperrinet  staff    5413059 Dec  8 06:09 rescaling - auto - nb_quant=256_dico.pkl\r\n",
      "-rw-r--r--  1 laurentperrinet  staff    4830657 Dec  8 05:50 rescaling - auto - nb_quant=32_dico.pkl\r\n",
      "-rw-r--r--  1 laurentperrinet  staff    4913857 Dec  8 05:53 rescaling - auto - nb_quant=64_dico.pkl\r\n",
      "-rw-r--r--  1 laurentperrinet  staff    4768257 Dec  8 05:41 rescaling - auto - nb_quant=8_dico.pkl\r\n",
      "-rw-r--r--  1 laurentperrinet  staff    5079233 Dec  7 22:25 rescaling - nb_quant=128_dico.pkl\r\n",
      "-rw-r--r--  1 laurentperrinet  staff    4788991 Dec  7 13:26 rescaling - nb_quant=16_dico.pkl\r\n",
      "-rw-r--r--  1 laurentperrinet  staff    5411011 Dec  7 22:28 rescaling - nb_quant=256_dico.pkl\r\n"
     ]
    },
    {
     "name": "stdout",
     "output_type": "stream",
     "text": [
      "-rw-r--r--  1 laurentperrinet  staff    4830463 Dec  7 17:05 rescaling - nb_quant=32_dico.pkl\r\n",
      "-rw-r--r--  1 laurentperrinet  staff    4913345 Dec  7 22:23 rescaling - nb_quant=64_dico.pkl\r\n",
      "-rw-r--r--  1 laurentperrinet  staff    4768255 Dec  7 09:47 rescaling - nb_quant=8_dico.pkl\r\n",
      "-rw-r--r--  1 laurentperrinet  staff  212336720 Dec 11 13:46 vanilla_coding.npy\r\n",
      "-rw-r--r--  1 laurentperrinet  staff  167772240 Dec 11 13:26 vanilla_data.npy\r\n",
      "-rw-r--r--  1 laurentperrinet  staff    1685410 Dec 11 13:46 vanilla_dico.pkl\r\n"
     ]
    }
   ],
   "source": [
    "%ls -l data_cache/"
   ]
  },
  {
   "cell_type": "raw",
   "metadata": {},
   "source": [
    "!rm -fr data_cache/homeo*lock*\n",
    "!rm -fr data_cache/homeo*"
   ]
  },
  {
   "cell_type": "code",
   "execution_count": null,
   "metadata": {},
   "outputs": [
    {
     "name": "stdout",
     "output_type": "stream",
     "text": [
      "total 14586688\r\n",
      "-rw-r--r--  1 laurentperrinet  staff  212336720 Dec  9 13:20 HAP homeo - alpha_homeo=0.010000000000000002_coding.npy\r\n",
      "-rw-r--r--  1 laurentperrinet  staff    4747488 Dec  9 13:19 HAP homeo - alpha_homeo=0.010000000000000002_dico.pkl\r\n",
      "-rw-r--r--  1 laurentperrinet  staff  212336720 Dec  9 13:48 HAP homeo - alpha_homeo=0.017113283041617806_coding.npy\r\n",
      "-rw-r--r--  1 laurentperrinet  staff    4747488 Dec  9 13:48 HAP homeo - alpha_homeo=0.017113283041617806_dico.pkl\r\n",
      "-rw-r--r--  1 laurentperrinet  staff  212336720 Dec  9 14:17 HAP homeo - alpha_homeo=0.02928644564625236_coding.npy\r\n",
      "-rw-r--r--  1 laurentperrinet  staff    4747488 Dec  9 14:17 HAP homeo - alpha_homeo=0.02928644564625236_dico.pkl\r\n",
      "-rw-r--r--  1 laurentperrinet  staff  212336720 Dec  9 14:46 HAP homeo - alpha_homeo=0.05011872336272723_coding.npy\r\n",
      "-rw-r--r--  1 laurentperrinet  staff    4747488 Dec  9 14:46 HAP homeo - alpha_homeo=0.05011872336272723_dico.pkl\r\n",
      "-rw-r--r--  1 laurentperrinet  staff   59391507 Dec  9 15:15 HAP homeo - alpha_homeo=0.08576958985908939_coding.npy\r\n",
      "-rw-r--r--  1 laurentperrinet  staff    4747488 Dec  9 15:14 HAP homeo - alpha_homeo=0.08576958985908939_dico.pkl\r\n",
      "-rw-r--r--  1 laurentperrinet  staff  212336720 Dec  9 15:44 HAP homeo - alpha_homeo=0.1467799267622069_coding.npy\r\n",
      "-rw-r--r--  1 laurentperrinet  staff    4747488 Dec  9 15:43 HAP homeo - alpha_homeo=0.1467799267622069_dico.pkl\r\n",
      "-rw-r--r--  1 laurentperrinet  staff    4747488 Dec  9 16:12 HAP homeo - alpha_homeo=0.251188643150958_dico.pkl\r\n",
      "-rw-r--r--  1 laurentperrinet  staff    4747488 Dec  9 06:37 HAP homeo - eta=0.0015_dico.pkl\r\n",
      "-rw-r--r--  1 laurentperrinet  staff    4747488 Dec  9 07:05 HAP homeo - eta=0.003231652035047825_dico.pkl\r\n",
      "-rw-r--r--  1 laurentperrinet  staff    4747488 Dec  9 07:34 HAP homeo - eta=0.006962383250419168_dico.pkl\r\n",
      "-rw-r--r--  1 laurentperrinet  staff    4747488 Dec  9 08:02 HAP homeo - eta=0.015_dico.pkl\r\n",
      "-rw-r--r--  1 laurentperrinet  staff  212336720 Dec  9 12:22 HAP homeo - eta_homeo=0.046415888336127774_coding.npy\r\n",
      "-rw-r--r--  1 laurentperrinet  staff    4747488 Dec  9 12:22 HAP homeo - eta_homeo=0.046415888336127774_dico.pkl\r\n",
      "-rw-r--r--  1 laurentperrinet  staff  212336720 Dec  9 12:51 HAP homeo - eta_homeo=0.1_coding.npy\r\n",
      "-rw-r--r--  1 laurentperrinet  staff    4747488 Dec  9 12:50 HAP homeo - eta_homeo=0.1_dico.pkl\r\n",
      "-rw-r--r--  1 laurentperrinet  staff          0 Dec  8 15:27 no homeo - eta=0.0015_dico.pkl_lock\r\n",
      "-rw-r--r--  1 laurentperrinet  staff          0 Dec  8 15:27 no homeo - eta=0.0015_dico.pkl_lock_pid-17410_host-babbage\r\n",
      "-rw-r--r--  1 laurentperrinet  staff  212336720 Dec 11 09:40 no homeo - eta=0.003231652035047825_coding.npy\r\n",
      "-rw-r--r--  1 laurentperrinet  staff    4747481 Dec  8 17:45 no homeo - eta=0.003231652035047825_dico.pkl\r\n",
      "-rw-r--r--  1 laurentperrinet  staff  212336720 Dec 11 09:42 no homeo - eta=0.006962383250419168_coding.npy\r\n",
      "-rw-r--r--  1 laurentperrinet  staff    4747481 Dec  8 18:14 no homeo - eta=0.006962383250419168_dico.pkl\r\n",
      "-rw-r--r--  1 laurentperrinet  staff  212336720 Dec 11 09:43 no homeo - eta=0.015_coding.npy\r\n",
      "-rw-r--r--  1 laurentperrinet  staff    4747481 Dec  8 18:42 no homeo - eta=0.015_dico.pkl\r\n",
      "-rw-r--r--  1 laurentperrinet  staff  212336720 Dec 11 09:45 no homeo - eta=0.03231652035047825_coding.npy\r\n",
      "-rw-r--r--  1 laurentperrinet  staff    4747481 Dec  8 19:11 no homeo - eta=0.03231652035047825_dico.pkl\r\n",
      "-rw-r--r--  1 laurentperrinet  staff  212336720 Dec 11 09:46 no homeo - eta=0.06962383250419166_coding.npy\r\n",
      "-rw-r--r--  1 laurentperrinet  staff    4747481 Dec  8 19:39 no homeo - eta=0.06962383250419166_dico.pkl\r\n",
      "-rw-r--r--  1 laurentperrinet  staff  212336720 Dec 11 09:47 no homeo - eta=0.15_coding.npy\r\n",
      "-rw-r--r--  1 laurentperrinet  staff    4747481 Dec  8 20:08 no homeo - eta=0.15_dico.pkl\r\n",
      "-rw-r--r--  1 laurentperrinet  staff  212336720 Dec 11 13:06 olshausen homeo - alpha_homeo=0.0017113283041617806_coding.npy\r\n",
      "-rw-r--r--  1 laurentperrinet  staff    1685465 Dec 11 13:05 olshausen homeo - alpha_homeo=0.0017113283041617806_dico.pkl\r\n",
      "-rw-r--r--  1 laurentperrinet  staff  212336720 Dec 11 12:56 olshausen homeo - alpha_homeo=0.001_coding.npy\r\n",
      "-rw-r--r--  1 laurentperrinet  staff    1685465 Dec 11 12:55 olshausen homeo - alpha_homeo=0.001_dico.pkl\r\n",
      "-rw-r--r--  1 laurentperrinet  staff  212336720 Dec 11 13:16 olshausen homeo - alpha_homeo=0.0029286445646252357_coding.npy\r\n",
      "-rw-r--r--  1 laurentperrinet  staff    1685465 Dec 11 13:15 olshausen homeo - alpha_homeo=0.0029286445646252357_dico.pkl\r\n",
      "-rw-r--r--  1 laurentperrinet  staff  212336720 Dec 11 13:30 olshausen homeo - alpha_homeo=0.005011872336272723_coding.npy\r\n",
      "-rw-r--r--  1 laurentperrinet  staff    1685465 Dec 11 13:29 olshausen homeo - alpha_homeo=0.005011872336272723_dico.pkl\r\n",
      "-rw-r--r--  1 laurentperrinet  staff  212336720 Dec 11 13:49 olshausen homeo - alpha_homeo=0.008576958985908939_coding.npy\r\n",
      "-rw-r--r--  1 laurentperrinet  staff    1685465 Dec 11 13:48 olshausen homeo - alpha_homeo=0.008576958985908939_dico.pkl\r\n",
      "-rw-r--r--  1 laurentperrinet  staff          0 Dec 11 13:49 olshausen homeo - alpha_homeo=0.014677992676220691_dico.pkl_lock\r\n",
      "-rw-r--r--  1 laurentperrinet  staff          0 Dec 11 13:49 olshausen homeo - alpha_homeo=0.014677992676220691_dico.pkl_lock_pid-45438_host-ekla\r\n",
      "-rw-r--r--  1 laurentperrinet  staff    4747488 Dec  9 04:41 olshausen homeo - alpha_homeo=0.05011872336272723_dico.pkl\r\n",
      "-rw-r--r--  1 laurentperrinet  staff    4747488 Dec  9 05:10 olshausen homeo - alpha_homeo=0.08576958985908939_dico.pkl\r\n",
      "-rw-r--r--  1 laurentperrinet  staff    4747488 Dec  9 05:39 olshausen homeo - alpha_homeo=0.1467799267622069_dico.pkl\r\n",
      "-rw-r--r--  1 laurentperrinet  staff    4747488 Dec  9 06:08 olshausen homeo - alpha_homeo=0.251188643150958_dico.pkl\r\n",
      "-rw-r--r--  1 laurentperrinet  staff  212336720 Dec 11 10:34 olshausen homeo - eta=0.0015_coding.npy\r\n",
      "-rw-r--r--  1 laurentperrinet  staff    1685465 Dec 11 10:33 olshausen homeo - eta=0.0015_dico.pkl\r\n",
      "-rw-r--r--  1 laurentperrinet  staff  212336720 Dec 11 10:46 olshausen homeo - eta=0.003231652035047825_coding.npy\r\n",
      "-rw-r--r--  1 laurentperrinet  staff    1685465 Dec 11 10:46 olshausen homeo - eta=0.003231652035047825_dico.pkl\r\n",
      "-rw-r--r--  1 laurentperrinet  staff  212336720 Dec 11 10:56 olshausen homeo - eta=0.006962383250419168_coding.npy\r\n",
      "-rw-r--r--  1 laurentperrinet  staff    1685465 Dec 11 10:55 olshausen homeo - eta=0.006962383250419168_dico.pkl\r\n",
      "-rw-r--r--  1 laurentperrinet  staff  212336720 Dec 11 11:05 olshausen homeo - eta=0.015_coding.npy\r\n",
      "-rw-r--r--  1 laurentperrinet  staff    1685465 Dec 11 11:05 olshausen homeo - eta=0.015_dico.pkl\r\n",
      "-rw-r--r--  1 laurentperrinet  staff  212336720 Dec 11 11:15 olshausen homeo - eta=0.03231652035047825_coding.npy\r\n",
      "-rw-r--r--  1 laurentperrinet  staff    1685465 Dec 11 11:14 olshausen homeo - eta=0.03231652035047825_dico.pkl\r\n",
      "-rw-r--r--  1 laurentperrinet  staff  212336720 Dec 11 11:24 olshausen homeo - eta=0.06962383250419166_coding.npy\r\n",
      "-rw-r--r--  1 laurentperrinet  staff    1685465 Dec 11 11:23 olshausen homeo - eta=0.06962383250419166_dico.pkl\r\n",
      "-rw-r--r--  1 laurentperrinet  staff  212336720 Dec 11 11:33 olshausen homeo - eta=0.15_coding.npy\r\n",
      "-rw-r--r--  1 laurentperrinet  staff    1685465 Dec 11 11:33 olshausen homeo - eta=0.15_dico.pkl\r\n",
      "-rw-r--r--  1 laurentperrinet  staff  212336720 Dec 11 11:43 olshausen homeo - eta_homeo=0.001_coding.npy\r\n",
      "-rw-r--r--  1 laurentperrinet  staff    1685465 Dec 11 11:43 olshausen homeo - eta_homeo=0.001_dico.pkl\r\n",
      "-rw-r--r--  1 laurentperrinet  staff  212336720 Dec 11 11:54 olshausen homeo - eta_homeo=0.0021544346900318834_coding.npy\r\n",
      "-rw-r--r--  1 laurentperrinet  staff    1685465 Dec 11 11:53 olshausen homeo - eta_homeo=0.0021544346900318834_dico.pkl\r\n",
      "-rw-r--r--  1 laurentperrinet  staff  212336720 Dec 11 12:04 olshausen homeo - eta_homeo=0.004641588833612779_coding.npy\r\n",
      "-rw-r--r--  1 laurentperrinet  staff    1685465 Dec 11 12:04 olshausen homeo - eta_homeo=0.004641588833612779_dico.pkl\r\n",
      "-rw-r--r--  1 laurentperrinet  staff  212336720 Dec 11 12:15 olshausen homeo - eta_homeo=0.01_coding.npy\r\n",
      "-rw-r--r--  1 laurentperrinet  staff    1685465 Dec 11 12:14 olshausen homeo - eta_homeo=0.01_dico.pkl\r\n",
      "-rw-r--r--  1 laurentperrinet  staff  212336720 Dec 11 12:25 olshausen homeo - eta_homeo=0.021544346900318836_coding.npy\r\n",
      "-rw-r--r--  1 laurentperrinet  staff    1685465 Dec 11 12:25 olshausen homeo - eta_homeo=0.021544346900318836_dico.pkl\r\n",
      "-rw-r--r--  1 laurentperrinet  staff  212336720 Dec 11 12:35 olshausen homeo - eta_homeo=0.046415888336127774_coding.npy\r\n",
      "-rw-r--r--  1 laurentperrinet  staff    1685465 Dec 11 12:35 olshausen homeo - eta_homeo=0.046415888336127774_dico.pkl\r\n",
      "-rw-r--r--  1 laurentperrinet  staff  212336720 Dec 11 12:46 olshausen homeo - eta_homeo=0.1_coding.npy\r\n",
      "-rw-r--r--  1 laurentperrinet  staff    1685465 Dec 11 12:45 olshausen homeo - eta_homeo=0.1_dico.pkl\r\n",
      "-rw-r--r--  1 laurentperrinet  staff    5080312 Dec  6 14:25 rescaling - C=0.0_dico.pkl\r\n",
      "-rw-r--r--  1 laurentperrinet  staff    5079288 Dec  7 06:04 rescaling - C=10.0_dico.pkl\r\n",
      "-rw-r--r--  1 laurentperrinet  staff    5079288 Dec  6 18:22 rescaling - C=2.5_dico.pkl\r\n",
      "-rw-r--r--  1 laurentperrinet  staff    5079288 Dec  6 22:25 rescaling - C=5.0_dico.pkl\r",
      "\r\n",
      "-rw-r--r--  1 laurentperrinet  staff    5079288 Dec  7 02:20 rescaling - C=7.5_dico.pkl\r\n",
      "-rw-r--r--  1 laurentperrinet  staff    5080257 Dec  8 06:00 rescaling - auto - nb_quant=128_dico.pkl\r\n",
      "-rw-r--r--  1 laurentperrinet  staff    4789057 Dec  8 05:46 rescaling - auto - nb_quant=16_dico.pkl\r\n",
      "-rw-r--r--  1 laurentperrinet  staff    5413059 Dec  8 06:09 rescaling - auto - nb_quant=256_dico.pkl\r\n",
      "-rw-r--r--  1 laurentperrinet  staff    4830657 Dec  8 05:50 rescaling - auto - nb_quant=32_dico.pkl\r\n",
      "-rw-r--r--  1 laurentperrinet  staff    4913857 Dec  8 05:53 rescaling - auto - nb_quant=64_dico.pkl\r\n",
      "-rw-r--r--  1 laurentperrinet  staff    4768257 Dec  8 05:41 rescaling - auto - nb_quant=8_dico.pkl\r\n",
      "-rw-r--r--  1 laurentperrinet  staff    5079233 Dec  7 22:25 rescaling - nb_quant=128_dico.pkl\r\n",
      "-rw-r--r--  1 laurentperrinet  staff    4788991 Dec  7 13:26 rescaling - nb_quant=16_dico.pkl\r\n",
      "-rw-r--r--  1 laurentperrinet  staff    5411011 Dec  7 22:28 rescaling - nb_quant=256_dico.pkl\r\n",
      "-rw-r--r--  1 laurentperrinet  staff    4830463 Dec  7 17:05 rescaling - nb_quant=32_dico.pkl\r\n",
      "-rw-r--r--  1 laurentperrinet  staff    4913345 Dec  7 22:23 rescaling - nb_quant=64_dico.pkl\r\n",
      "-rw-r--r--  1 laurentperrinet  staff    4768255 Dec  7 09:47 rescaling - nb_quant=8_dico.pkl\r\n",
      "-rw-r--r--  1 laurentperrinet  staff  212336720 Dec 11 13:46 vanilla_coding.npy\r\n",
      "-rw-r--r--  1 laurentperrinet  staff  167772240 Dec 11 13:26 vanilla_data.npy\r\n",
      "-rw-r--r--  1 laurentperrinet  staff    1685410 Dec 11 13:46 vanilla_dico.pkl\r\n"
     ]
    }
   ],
   "source": [
    "%ls -l data_cache/"
   ]
  },
  {
   "cell_type": "code",
   "execution_count": null,
   "metadata": {
    "scrolled": true
   },
   "outputs": [
    {
     "name": "stdout",
     "output_type": "stream",
     "text": [
      "No cache found data_cache/homeo - eta=0.002_dico.pkl: Learning the dictionary with algo = mp \n",
      " Training on 81920 patches... Iteration   0 /   16384 (elapsed time:   0s,  0.0mn)\n",
      "Iteration  1639 /   16384 (elapsed time:  145s,  2.0mn)\n",
      "Iteration  3278 /   16384 (elapsed time:  286s,  4.0mn)\n"
     ]
    }
   ],
   "source": [
    "for eta in np.logspace(-1, 1, N_scan, base=10)*shl.eta:\n",
    "    matname = tag + ' - eta={}'.format(eta)\n",
    "    shl = SHL(DEBUG_DOWNSCALE=DEBUG_DOWNSCALE, do_HAP=True,\n",
    "              learning_algorithm='mp', eta=eta, verbose=verbose)\n",
    "    dico = shl.learn_dico(data=data, matname=matname, list_figures=list_figures)\n",
    "    plt.show()"
   ]
  },
  {
   "cell_type": "code",
   "execution_count": null,
   "metadata": {
    "scrolled": true
   },
   "outputs": [],
   "source": [
    "for eta_homeo in np.logspace(-1, 1, N_scan, base=10)*shl.eta_homeo:\n",
    "    matname = tag + ' - eta_homeo={eta_homeo}'.format(eta_homeo=eta_homeo)\n",
    "    shl = SHL(DEBUG_DOWNSCALE=DEBUG_DOWNSCALE, do_HAP=True,\n",
    "              learning_algorithm='mp', eta_homeo=eta_homeo, verbose=verbose)\n",
    "    dico = shl.learn_dico(data=data, matname=matname, list_figures=list_figures)\n",
    "    plt.show()"
   ]
  },
  {
   "cell_type": "code",
   "execution_count": null,
   "metadata": {},
   "outputs": [],
   "source": [
    "2**np.arange(N_scan)"
   ]
  },
  {
   "cell_type": "code",
   "execution_count": null,
   "metadata": {
    "scrolled": false
   },
   "outputs": [],
   "source": [
    "for l0_sparseness in 2**np.arange(N_scan):\n",
    "    matname = tag + ' - l0_sparseness={l0_sparseness}'.format(l0_sparseness=l0_sparseness)\n",
    "    shl = SHL(DEBUG_DOWNSCALE=DEBUG_DOWNSCALE, do_HAP=True,\n",
    "              l0_sparseness=l0_sparseness, verbose=verbose)\n",
    "    dico = shl.learn_dico(data=data, matname=matname, list_figures=list_figures)      \n",
    "    plt.show()"
   ]
  },
  {
   "cell_type": "code",
   "execution_count": null,
   "metadata": {
    "scrolled": true
   },
   "outputs": [],
   "source": [
    "for alpha_homeo in np.logspace(-1, 1, N_scan, base=10)*shl.eta_homeo:\n",
    "    matname = tag + ' - alpha_homeo={alpha_homeo}'.format(alpha_homeo=alpha_homeo)\n",
    "    shl = SHL(DEBUG_DOWNSCALE=DEBUG_DOWNSCALE, do_HAP=True,\n",
    "              learning_algorithm='mp', alpha_homeo=alpha_homeo, verbose=verbose)\n",
    "    dico = shl.learn_dico(data=data, matname=matname, list_figures=list_figures)\n",
    "    plt.show()"
   ]
  },
  {
   "cell_type": "markdown",
   "metadata": {},
   "source": [
    "## Version used"
   ]
  },
  {
   "cell_type": "code",
   "execution_count": null,
   "metadata": {},
   "outputs": [],
   "source": [
    "%load_ext version_information"
   ]
  },
  {
   "cell_type": "code",
   "execution_count": null,
   "metadata": {},
   "outputs": [],
   "source": [
    "%version_information numpy, shl_scripts"
   ]
  }
 ],
 "metadata": {
  "kernelspec": {
   "display_name": "Python 3",
   "language": "python",
   "name": "python3"
  },
  "language_info": {
   "codemirror_mode": {
    "name": "ipython",
    "version": 3
   },
   "file_extension": ".py",
   "mimetype": "text/x-python",
   "name": "python",
   "nbconvert_exporter": "python",
   "pygments_lexer": "ipython3",
   "version": "3.6.3"
  },
  "toc": {
   "colors": {
    "hover_highlight": "#DAA520",
    "navigate_num": "#000000",
    "navigate_text": "#333333",
    "running_highlight": "#FF0000",
    "selected_highlight": "#FFD700",
    "sidebar_border": "#EEEEEE",
    "wrapper_background": "#FFFFFF"
   },
   "moveMenuLeft": true,
   "nav_menu": {
    "height": "81px",
    "width": "252px"
   },
   "navigate_menu": true,
   "number_sections": true,
   "sideBar": true,
   "skip_h1_title": false,
   "threshold": 4,
   "toc_cell": false,
   "toc_position": {},
   "toc_section_display": "block",
   "toc_window_display": false,
   "widenNotebook": false
  }
 },
 "nbformat": 4,
 "nbformat_minor": 1
}
