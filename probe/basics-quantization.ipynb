{
 "cells": [
  {
   "cell_type": "markdown",
   "metadata": {},
   "source": [
    "# Sparse Hebbian Learning: basics\n",
    "\n",
    "We are interested here in learning the \"optimal\" components of a set of images (let's say some \"natural\", usual images). As there is no supervisor to guide the learning, this is called unsupervised learning. Our basic hypothesis to find the best (\"optimal\") components will be to assume that *a priori* the most sparse is more plausible. We will implement the derived algorithm in this set of scripts.\n",
    "\n",
    "Here, we will show the basic operations that are implemented in this package. "
   ]
  },
  {
   "cell_type": "code",
   "execution_count": 1,
   "metadata": {
    "ExecuteTime": {
     "end_time": "2018-02-23T11:43:42.820799Z",
     "start_time": "2018-02-23T11:43:42.793344Z"
    }
   },
   "outputs": [],
   "source": [
    "%load_ext autoreload\n",
    "%autoreload 2"
   ]
  },
  {
   "cell_type": "code",
   "execution_count": 2,
   "metadata": {
    "ExecuteTime": {
     "end_time": "2018-02-23T11:43:43.197377Z",
     "start_time": "2018-02-23T11:43:42.824016Z"
    }
   },
   "outputs": [],
   "source": [
    "%matplotlib inline\n",
    "import matplotlib.pyplot as plt\n",
    "import numpy as np\n",
    "np.set_printoptions(precision=4, suppress=True)"
   ]
  },
  {
   "cell_type": "markdown",
   "metadata": {},
   "source": [
    "## experiments\n",
    "\n",
    "To test and control for the role of different parameters, we will have a first object (in the [shl_experiments.py](https://github.com/bicv/SHL_scripts/blob/master/shl_scripts/shl_experiments.py) script) that controls a learning experiment. It contains all relevant parameters, but can also keep a trace of the history of some statistics. This is useful to compare the relative efficiency of the different solutions.\n"
   ]
  },
  {
   "cell_type": "code",
   "execution_count": 3,
   "metadata": {
    "ExecuteTime": {
     "end_time": "2018-02-23T11:43:43.221650Z",
     "start_time": "2018-02-23T11:43:43.199604Z"
    }
   },
   "outputs": [],
   "source": [
    "DEBUG_DOWNSCALE, verbose = 10, 0\n",
    "DEBUG_DOWNSCALE, verbose = 1, 0\n",
    "DEBUG_DOWNSCALE, verbose = 10, 10\n",
    "DEBUG_DOWNSCALE, verbose = 1, 10\n",
    "\n",
    "homeo_method = 'HEH'\n",
    "tag = 'quantization'\n",
    "\n",
    "matname = tag + '_' + homeo_method\n",
    "opts = dict(DEBUG_DOWNSCALE=DEBUG_DOWNSCALE, homeo_method=homeo_method, eta_homeo=0.05, alpha_homeo=0.02, C=5., nb_quant=128, P_cum=None, verbose=verbose)"
   ]
  },
  {
   "cell_type": "code",
   "execution_count": 4,
   "metadata": {
    "ExecuteTime": {
     "end_time": "2018-02-23T11:44:56.906727Z",
     "start_time": "2018-02-23T11:43:43.224077Z"
    },
    "scrolled": false
   },
   "outputs": [
    {
     "name": "stdout",
     "output_type": "stream",
     "text": [
      "Extracting data..No cache found data_cache/quantization_data: Extracting data... Extracting data..Photo2018-01-18_0440462510.jpg, Photo2018-01-18_0309392473.jpg, Photo2018-01-18_0343102547.jpg, Photo2018-02-18_0911262631 square.jpg, Photo2018-01-18_0327052545.jpg, Photo2018-01-18_0440352508.jpg, Photo2018-01-18_0230432458.jpg, Photo2018-01-18_0316462527.jpg, Photo2018-01-18_0553172551.jpg, Photo2018-01-18_0423102502.jpg, Photo2018-01-18_0422432500.jpg, Photo2018-01-18_0441022511.jpg, Data is of shape : (65532, 144) - done in 73.40s.\n",
      "Data is of shape : (65532, 144) - done in 73.64s.\n"
     ]
    }
   ],
   "source": [
    "from shl_scripts.shl_experiments import SHL\n",
    "shl = SHL(**opts)\n",
    "data = shl.get_data(matname='quantization')"
   ]
  },
  {
   "cell_type": "code",
   "execution_count": 5,
   "metadata": {
    "ExecuteTime": {
     "end_time": "2018-02-23T11:44:57.118795Z",
     "start_time": "2018-02-23T11:44:56.914207Z"
    },
    "scrolled": true
   },
   "outputs": [
    {
     "name": "stdout",
     "output_type": "stream",
     "text": [
      "-rw-r--r--  1 laurentperrinet  staff  75492992 Feb 23 12:44 data_cache/quantization_data.npy\r\n"
     ]
    }
   ],
   "source": [
    "!ls -l {shl.data_cache}/{tag}*"
   ]
  },
  {
   "cell_type": "raw",
   "metadata": {
    "ExecuteTime": {
     "end_time": "2018-02-23T11:43:35.456848Z",
     "start_time": "2018-02-23T11:43:35.295340Z"
    }
   },
   "source": [
    "!rm {shl.data_cache}/{tag}*"
   ]
  },
  {
   "cell_type": "code",
   "execution_count": 6,
   "metadata": {
    "ExecuteTime": {
     "end_time": "2018-02-23T11:44:57.294680Z",
     "start_time": "2018-02-23T11:44:57.121944Z"
    }
   },
   "outputs": [
    {
     "name": "stdout",
     "output_type": "stream",
     "text": [
      "ls: data_cache/quantization_HEH*: No such file or directory\r\n"
     ]
    }
   ],
   "source": [
    "!ls -l {shl.data_cache}/{matname}*"
   ]
  },
  {
   "cell_type": "code",
   "execution_count": 7,
   "metadata": {
    "ExecuteTime": {
     "end_time": "2018-02-23T11:44:57.464258Z",
     "start_time": "2018-02-23T11:44:57.297912Z"
    },
    "scrolled": false
   },
   "outputs": [
    {
     "name": "stdout",
     "output_type": "stream",
     "text": [
      "number of patches, size of patches =  (65532, 144)\n",
      "average of patches =  1.2082279857504907e-05  +/-  0.0066444470393307664\n",
      "average energy of data =  0.029788900141200267 +/- 0.037919085394187625\n"
     ]
    }
   ],
   "source": [
    "print('number of patches, size of patches = ', data.shape)\n",
    "print('average of patches = ', data.mean(), ' +/- ', data.mean(axis=1).std())\n",
    "SE = np.sqrt(np.mean(data**2, axis=1))\n",
    "print('average energy of data = ', SE.mean(), '+/-', SE.std())"
   ]
  },
  {
   "cell_type": "code",
   "execution_count": 8,
   "metadata": {
    "ExecuteTime": {
     "end_time": "2018-02-23T11:44:57.497237Z",
     "start_time": "2018-02-23T11:44:57.467001Z"
    },
    "scrolled": true
   },
   "outputs": [
    {
     "data": {
      "text/plain": [
       "False"
      ]
     },
     "execution_count": 8,
     "metadata": {},
     "output_type": "execute_result"
    }
   ],
   "source": [
    "shl.do_precision"
   ]
  },
  {
   "cell_type": "markdown",
   "metadata": {},
   "source": [
    "## learning\n",
    "\n",
    "The actual learning is done in a second object (here ``dico``) from which we can access another set of properties and functions  (see the [shl_learn.py](https://github.com/bicv/SHL_scripts/blob/master/shl_scripts/shl_learn.py) script):"
   ]
  },
  {
   "cell_type": "code",
   "execution_count": null,
   "metadata": {
    "ExecuteTime": {
     "start_time": "2018-02-23T11:43:42.821Z"
    },
    "scrolled": false
   },
   "outputs": [
    {
     "name": "stdout",
     "output_type": "stream",
     "text": [
      "No cache found data_cache/quantization_HEH_dico.pkl: Learning the dictionary with algo = mp \n",
      " Training on 65532 patches\n",
      "Iteration   1 /   1025 (elapsed time:   3s,   0mn   3s)\n",
      "Iteration  129 /   1025 (elapsed time:  525s,   8mn  45s)\n"
     ]
    }
   ],
   "source": [
    "list_figures = ['show_dico']#, 'time_plot_error', 'time_plot_aerror']#, 'plot_variance',  'plot_variance_histogram',  'time_plot_prob',  'time_plot_kurt',  'time_plot_var']\n",
    "\n",
    "dico = shl.learn_dico(data=data, list_figures=list_figures, matname=matname)"
   ]
  },
  {
   "cell_type": "code",
   "execution_count": null,
   "metadata": {
    "ExecuteTime": {
     "start_time": "2018-02-23T11:43:42.825Z"
    }
   },
   "outputs": [],
   "source": [
    "print('size of dictionary = (number of filters, size of imagelets) = ', dico.dictionary.shape)\n",
    "print('average of filters = ',  dico.dictionary.mean(axis=1).mean(), \n",
    "      '+/-',  dico.dictionary.mean(axis=1).std())\n",
    "SE = np.sqrt(np.sum(dico.dictionary**2, axis=1))\n",
    "print('average energy of filters = ', SE.mean(), '+/-', SE.std())"
   ]
  },
  {
   "cell_type": "markdown",
   "metadata": {},
   "source": [
    "## coding\n",
    "\n",
    "The learning itself is done via a gradient descent but is highly dependent on the coding / decoding algorithm. This belongs to a another function (in the [shl_encode.py](https://github.com/bicv/SHL_scripts/blob/master/shl_scripts/shl_encode.py) script)"
   ]
  },
  {
   "cell_type": "raw",
   "metadata": {
    "ExecuteTime": {
     "end_time": "2018-01-19T13:07:21.084535Z",
     "start_time": "2018-01-19T13:07:20.898988Z"
    }
   },
   "source": [
    "!rm /tmp/data_cache/quantization_coding.npy"
   ]
  },
  {
   "cell_type": "code",
   "execution_count": null,
   "metadata": {
    "ExecuteTime": {
     "start_time": "2018-02-23T11:43:42.855Z"
    },
    "scrolled": false
   },
   "outputs": [],
   "source": [
    "from shl_scripts.shl_encode import mp\n",
    "nb_quant = 128\n",
    "record_num_batches = 256\n",
    "np.random.seed(1973)\n",
    "indx = np.random.permutation(data.shape[0])[:record_num_batches]\n",
    "#sparse_code = shl.code(data, dico, matname=matname)\n",
    "P_cum_zeroeffect = np.linspace(0, 1, nb_quant, endpoint=True)[np.newaxis, :] * np.ones((shl.n_dictionary, 1))\n",
    "#P_cum = dico.P_cum\n",
    "#P_cum = None\n",
    "l0_sparseness = 150\n",
    "l0_sparseness = shl.l0_sparseness\n",
    "\n",
    "for P_cum, gain in zip([None, P_cum_zeroeffect, dico.P_cum], [np.ones(shl.n_dictionary), None, None]):\n",
    "    print(50*'🐒')\n",
    "    sparse_code = mp(data[indx, :], dico.dictionary, l0_sparseness=l0_sparseness, P_cum=P_cum, gain=gain)\n",
    "\n",
    "    print('number of codes, size of codewords = ', sparse_code.shape)\n",
    "    print('average of codewords = ', sparse_code.mean())\n",
    "    print('l0-sparseness of codewords = ', (sparse_code>0).mean(), ' ~= l0/M =', shl.l0_sparseness/shl.n_dictionary)\n",
    "    print('average energy of codewords = ', sparse_code.std(axis=0).mean())\n",
    "    print('std of the average of individual patches = ', sparse_code.mean(axis=0).std())\n",
    "\n",
    "    patches = sparse_code @ dico.dictionary\n",
    "    print('number of codes, size of reconstructed images = ', patches.shape)\n",
    "\n",
    "    from shl_scripts.shl_tools import show_data\n",
    "    max_patches = 10\n",
    "    fig, axs = show_data(data[indx, :][:max_patches, :])\n",
    "    plt.show()\n",
    "    fig, axs = show_data(patches[:max_patches, :])\n",
    "    plt.show()\n",
    "    \n",
    "    error = (data[indx, :] - patches)\n",
    "    fig, axs = show_data(error[:max_patches, :], cmax=np.max(np.abs(data[:max_patches, :])))\n",
    "    plt.show()\n",
    "    print('average of data patches = ', data.mean(), '+/-', data.mean(axis=1).std())\n",
    "    print('average of residual patches = ', error.mean(), '+/-', error.mean(axis=1).std())\n",
    "    SD = np.sqrt(np.mean(data[indx, :]**2, axis=1))\n",
    "    #SD = np.linalg.norm(data[indx, :])/record_num_batches\n",
    "\n",
    "    print('median energy of data = ', np.median(SD))\n",
    "    print('average energy of data = ', SD.mean(), '+/-', SD.std())\n",
    "    #print('total energy of data = ', np.sqrt(np.sum(data**2)))\n",
    "    #print('total deviation of data = ', np.sum(np.abs(data)))\n",
    "    print('average error = ', error.mean(), '+/-', error.std())\n",
    "    SE = np.sqrt(np.mean(error**2, axis=1))\n",
    "    #SE = np.linalg.norm(error)/record_num_batches\n",
    "\n",
    "    print('average energy of residual = ', SE.mean(), '+/-', SE.std())\n",
    "    print('median energy of residual = ', np.median(SE))\n",
    "    #print('total energy of residual = ', np.sqrt(np.sum(error**2)))\n",
    "    #print('total deviation of residual = ', np.sum(np.abs(error)))\n",
    "    print('average gain of coding = ', (SD/SE).mean(), '+/-', (SD/SE).std())"
   ]
  },
  {
   "cell_type": "markdown",
   "metadata": {},
   "source": [
    "## Quantization of the coefficients"
   ]
  },
  {
   "cell_type": "code",
   "execution_count": null,
   "metadata": {
    "ExecuteTime": {
     "start_time": "2018-02-23T11:43:42.860Z"
    }
   },
   "outputs": [],
   "source": [
    "from shl_scripts.shl_learn import get_P_cum\n",
    "C = 5.\n",
    "P_cum = get_P_cum(sparse_code, C=C, nb_quant=nb_quant)\n",
    "P_cum.shape"
   ]
  },
  {
   "cell_type": "code",
   "execution_count": null,
   "metadata": {
    "ExecuteTime": {
     "start_time": "2018-02-23T11:43:42.864Z"
    }
   },
   "outputs": [],
   "source": [
    "P_cum = dico.P_cum\n",
    "P_cum.shape"
   ]
  },
  {
   "cell_type": "code",
   "execution_count": null,
   "metadata": {
    "ExecuteTime": {
     "start_time": "2018-02-23T11:43:42.868Z"
    }
   },
   "outputs": [],
   "source": [
    "from shl_scripts.shl_tools import plot_P_cum\n",
    "fig, ax = plot_P_cum(P_cum, verbose=False);\n",
    "ax.set_ylim(0.85, 1.01);"
   ]
  },
  {
   "cell_type": "code",
   "execution_count": null,
   "metadata": {
    "ExecuteTime": {
     "start_time": "2018-02-23T11:43:42.873Z"
    }
   },
   "outputs": [],
   "source": [
    "P_cum.shape"
   ]
  },
  {
   "cell_type": "code",
   "execution_count": null,
   "metadata": {
    "ExecuteTime": {
     "start_time": "2018-02-23T11:43:42.876Z"
    }
   },
   "outputs": [],
   "source": [
    "from shl_scripts.shl_encode import quantile, rescaling\n",
    "#sparse_code = mp(data, dico.dictionary, l0_sparseness=l0_sparseness, P_cum=P_cum)\n",
    "stick = np.arange(shl.n_dictionary)*nb_quant\n",
    "q = quantile(P_cum, rescaling(sparse_code, C=C), stick, do_fast=True)"
   ]
  },
  {
   "cell_type": "code",
   "execution_count": null,
   "metadata": {
    "ExecuteTime": {
     "start_time": "2018-02-23T11:43:42.887Z"
    },
    "scrolled": true
   },
   "outputs": [],
   "source": [
    "from shl_scripts.shl_encode import inv_quantile, inv_rescaling\n",
    "q_sparse_code = inv_rescaling(inv_quantile(P_cum, q), C=C)\n",
    "print('total deviation of coefficients = ', np.mean(np.abs(q_sparse_code-sparse_code)))"
   ]
  },
  {
   "cell_type": "code",
   "execution_count": null,
   "metadata": {
    "ExecuteTime": {
     "start_time": "2018-02-23T11:43:42.890Z"
    },
    "scrolled": false
   },
   "outputs": [],
   "source": [
    "plt.scatter(sparse_code.ravel(), q_sparse_code.ravel(), alpha=.2);"
   ]
  },
  {
   "cell_type": "code",
   "execution_count": null,
   "metadata": {
    "ExecuteTime": {
     "start_time": "2018-02-23T11:43:42.894Z"
    }
   },
   "outputs": [],
   "source": [
    "P_cum.mean(axis=0).shape"
   ]
  },
  {
   "cell_type": "code",
   "execution_count": null,
   "metadata": {
    "ExecuteTime": {
     "start_time": "2018-02-23T11:43:42.900Z"
    }
   },
   "outputs": [],
   "source": [
    "P_cum_mean = P_cum.mean(axis=0)[np.newaxis, :] * np.ones((shl.n_dictionary, nb_quant))\n",
    "fig, ax = plot_P_cum(P_cum_mean, verbose=False);\n",
    "ax.set_ylim(0.5, 1.01);"
   ]
  },
  {
   "cell_type": "code",
   "execution_count": null,
   "metadata": {
    "ExecuteTime": {
     "start_time": "2018-02-23T11:43:42.902Z"
    }
   },
   "outputs": [],
   "source": [
    "#q_sparse_code = inv_rescaling(inv_quantile(P_cum_mean, q), C=C)\n",
    "q_sparse_code = inv_rescaling(inv_quantile(P_cum_mean, q), C=C)\n",
    "print('total deviation of coefficients = ', np.mean(np.abs(sparse_code)))\n",
    "print('total deviation of coefficients = ', np.mean(np.abs(q_sparse_code-sparse_code)))"
   ]
  },
  {
   "cell_type": "code",
   "execution_count": null,
   "metadata": {
    "ExecuteTime": {
     "start_time": "2018-02-23T11:43:42.905Z"
    }
   },
   "outputs": [],
   "source": [
    "plt.scatter(sparse_code.ravel(), q_sparse_code.ravel(), alpha=.2);"
   ]
  },
  {
   "cell_type": "code",
   "execution_count": null,
   "metadata": {
    "ExecuteTime": {
     "start_time": "2018-02-23T11:43:42.909Z"
    },
    "scrolled": true
   },
   "outputs": [],
   "source": [
    "patches = q_sparse_code @ dico.dictionary\n",
    "error = data[indx, :] - patches\n",
    "fig, axs = show_data(error[:max_patches, :], cmax=np.max(np.abs(data[:max_patches, :])))\n",
    "print('average of data patches = ', data.mean(), '+/-', data.mean(axis=1).std())\n",
    "print('average of residual patches = ', error.mean(), '+/-', error.mean(axis=1).std())\n",
    "#SD = np.sqrt(np.mean(data[indx, :]**2, axis=1))\n",
    "SD = np.linalg.norm(data[indx, :])/record_num_batches\n",
    "print('median energy of data = ', np.median(SD))\n",
    "print('average energy of data = ', SD.mean(), '+/-', SD.std())\n",
    "#print('total energy of data = ', np.sqrt(np.sum(data**2)))\n",
    "#print('total deviation of data = ', np.sum(np.abs(data)))\n",
    "#SE = np.sqrt(np.mean(error**2, axis=1))\n",
    "SE = np.linalg.norm(error)/record_num_batches\n",
    "\n",
    "print('average energy of residual = ', SE.mean(), '+/-', SE.std())\n",
    "print('median energy of residual = ', np.median(SE))\n",
    "#print('total energy of residual = ', np.sqrt(np.sum(error**2)))\n",
    "#print('total deviation of residual = ', np.sum(np.abs(error)))\n",
    "print('average gain of coding = ', (SD/SE).mean(), '+/-', (SD/SE).std())"
   ]
  },
  {
   "cell_type": "code",
   "execution_count": null,
   "metadata": {
    "ExecuteTime": {
     "start_time": "2018-02-23T11:43:42.912Z"
    }
   },
   "outputs": [],
   "source": [
    "P_cum[0, -2]"
   ]
  },
  {
   "cell_type": "markdown",
   "metadata": {},
   "source": [
    "## Version used"
   ]
  },
  {
   "cell_type": "code",
   "execution_count": null,
   "metadata": {
    "ExecuteTime": {
     "start_time": "2018-02-23T11:43:42.918Z"
    }
   },
   "outputs": [],
   "source": [
    "%load_ext version_information\n",
    "%version_information numpy, shl_scripts"
   ]
  }
 ],
 "metadata": {
  "kernelspec": {
   "display_name": "Python 3",
   "language": "python",
   "name": "python3"
  },
  "language_info": {
   "codemirror_mode": {
    "name": "ipython",
    "version": 3
   },
   "file_extension": ".py",
   "mimetype": "text/x-python",
   "name": "python",
   "nbconvert_exporter": "python",
   "pygments_lexer": "ipython3",
   "version": "3.6.4"
  },
  "toc": {
   "nav_menu": {
    "height": "102px",
    "width": "252px"
   },
   "number_sections": true,
   "sideBar": true,
   "skip_h1_title": false,
   "toc_cell": false,
   "toc_position": {},
   "toc_section_display": "block",
   "toc_window_display": false
  }
 },
 "nbformat": 4,
 "nbformat_minor": 2
}
