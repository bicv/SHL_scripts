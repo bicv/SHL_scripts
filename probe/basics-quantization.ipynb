{
 "cells": [
  {
   "cell_type": "markdown",
   "metadata": {
    "collapsed": true
   },
   "source": [
    "# Sparse Hebbian Learning: basics\n",
    "\n",
    "We are interested here in learning the \"optimal\" components of a set of images (let's say some \"natural\", usual images). As there is no supervisor to guide the learning, this is called unsupervised learning. Our basic hypothesis to find the best (\"optimal\") components will be to assume that *a priori* the most sparse is more plausible. We will implement the derived algorithm in this set of scripts.\n",
    "\n",
    "Here, we will show the basic operations that are implemented in this package. "
   ]
  },
  {
   "cell_type": "raw",
   "metadata": {
    "ExecuteTime": {
     "end_time": "2018-01-23T22:04:06.251814Z",
     "start_time": "2018-01-23T22:04:06.221795Z"
    }
   },
   "source": [
    "%load_ext autoreload\n",
    "%autoreload 2"
   ]
  },
  {
   "cell_type": "code",
   "execution_count": null,
   "metadata": {
    "ExecuteTime": {
     "end_time": "2018-01-23T22:06:10.611546Z",
     "start_time": "2018-01-23T22:06:09.176535Z"
    }
   },
   "outputs": [],
   "source": [
    "%matplotlib inline\n",
    "import matplotlib.pyplot as plt\n",
    "import numpy as np\n",
    "np.set_printoptions(precision=4, suppress=True)"
   ]
  },
  {
   "cell_type": "markdown",
   "metadata": {},
   "source": [
    "## experiments\n",
    "\n",
    "To test and control for the role of different parameters, we will have a first object (in the [shl_experiments.py](https://github.com/bicv/SHL_scripts/blob/master/shl_scripts/shl_experiments.py) script) that controls a learning experiment. It contains all relevant parameters, but can also keep a trace of the history of some statistics. This is useful to compare the relative efficiency of the different solutions.\n"
   ]
  },
  {
   "cell_type": "code",
   "execution_count": null,
   "metadata": {
    "ExecuteTime": {
     "end_time": "2018-01-23T22:06:10.625378Z",
     "start_time": "2018-01-23T22:06:10.615651Z"
    }
   },
   "outputs": [],
   "source": [
    "DEBUG_DOWNSCALE, verbose = 10, 0\n",
    "DEBUG_DOWNSCALE, verbose = 1, 0\n",
    "DEBUG_DOWNSCALE, verbose = 10, 10\n",
    "DEBUG_DOWNSCALE, verbose = 1, 10\n",
    "#matname = 'HAP_quantization'\n",
    "homeo_method = 'HEH'\n",
    "matname = homeo_method + '_quantization'\n"
   ]
  },
  {
   "cell_type": "code",
   "execution_count": null,
   "metadata": {
    "ExecuteTime": {
     "end_time": "2018-01-23T22:06:11.117309Z",
     "start_time": "2018-01-23T22:06:10.628104Z"
    },
    "scrolled": false
   },
   "outputs": [],
   "source": [
    "from shl_scripts.shl_experiments import SHL\n",
    "opts = dict(DEBUG_DOWNSCALE=DEBUG_DOWNSCALE, verbose=verbose, homeo_method=homeo_method)\n",
    "shl = SHL(**opts)\n",
    "data = shl.get_data(matname='data')"
   ]
  },
  {
   "cell_type": "code",
   "execution_count": null,
   "metadata": {
    "ExecuteTime": {
     "end_time": "2018-01-23T22:06:11.262841Z",
     "start_time": "2018-01-23T22:06:11.120294Z"
    },
    "scrolled": true
   },
   "outputs": [],
   "source": [
    "!ls -l {shl.data_cache}/{matname}*"
   ]
  },
  {
   "cell_type": "raw",
   "metadata": {
    "ExecuteTime": {
     "end_time": "2018-01-22T15:17:08.334409Z",
     "start_time": "2018-01-22T15:17:08.189117Z"
    }
   },
   "source": [
    "!rm {shl.data_cache}/{matname}*"
   ]
  },
  {
   "cell_type": "code",
   "execution_count": null,
   "metadata": {
    "ExecuteTime": {
     "end_time": "2018-01-23T22:06:11.411023Z",
     "start_time": "2018-01-23T22:06:11.269860Z"
    }
   },
   "outputs": [],
   "source": [
    "!ls -l {shl.data_cache}/{matname}*"
   ]
  },
  {
   "cell_type": "code",
   "execution_count": null,
   "metadata": {
    "ExecuteTime": {
     "end_time": "2018-01-23T22:06:12.075200Z",
     "start_time": "2018-01-23T22:06:11.415916Z"
    },
    "scrolled": false
   },
   "outputs": [],
   "source": [
    "print('number of patches, size of patches = ', data.shape)\n",
    "print('average of patches = ', data.mean(), ' +/- ', data.mean(axis=1).std())\n",
    "SE = np.sqrt(np.mean(data**2, axis=1))\n",
    "print('average energy of data = ', SE.mean(), '+/-', SE.std())"
   ]
  },
  {
   "cell_type": "code",
   "execution_count": null,
   "metadata": {
    "ExecuteTime": {
     "end_time": "2018-01-23T22:06:12.131146Z",
     "start_time": "2018-01-23T22:06:12.080686Z"
    },
    "scrolled": true
   },
   "outputs": [],
   "source": [
    "shl.do_precision"
   ]
  },
  {
   "cell_type": "markdown",
   "metadata": {},
   "source": [
    "## learning\n",
    "\n",
    "The actual learning is done in a second object (here ``dico``) from which we can access another set of properties and functions  (see the [shl_learn.py](https://github.com/bicv/SHL_scripts/blob/master/shl_scripts/shl_learn.py) script):"
   ]
  },
  {
   "cell_type": "code",
   "execution_count": null,
   "metadata": {
    "ExecuteTime": {
     "end_time": "2018-01-23T22:06:13.230264Z",
     "start_time": "2018-01-23T22:06:12.137141Z"
    },
    "scrolled": false
   },
   "outputs": [],
   "source": [
    "list_figures = ['show_dico', 'time_plot_error', 'time_plot_qerror']#, 'plot_variance',  'plot_variance_histogram',  'time_plot_prob',  'time_plot_kurt',  'time_plot_var']\n",
    "\n",
    "dico = shl.learn_dico(data=data, list_figures=list_figures, matname=matname)"
   ]
  },
  {
   "cell_type": "code",
   "execution_count": null,
   "metadata": {
    "ExecuteTime": {
     "end_time": "2018-01-23T22:06:13.924435Z",
     "start_time": "2018-01-23T22:06:13.232649Z"
    }
   },
   "outputs": [],
   "source": [
    "print('size of dictionary = (number of filters, size of imagelets) = ', dico.dictionary.shape)\n",
    "print('average of filters = ',  dico.dictionary.mean(axis=1).mean(), \n",
    "      '+/-',  dico.dictionary.mean(axis=1).std())\n",
    "SE = np.sqrt(np.sum(dico.dictionary**2, axis=1))\n",
    "print('average energy of filters = ', SE.mean(), '+/-', SE.std())"
   ]
  },
  {
   "cell_type": "markdown",
   "metadata": {},
   "source": [
    "## coding\n",
    "\n",
    "The learning itself is done via a gradient descent but is highly dependent on the coding / decoding algorithm. This belongs to a another function (in the [shl_encode.py](https://github.com/bicv/SHL_scripts/blob/master/shl_scripts/shl_encode.py) script)"
   ]
  },
  {
   "cell_type": "raw",
   "metadata": {
    "ExecuteTime": {
     "end_time": "2018-01-19T13:07:21.084535Z",
     "start_time": "2018-01-19T13:07:20.898988Z"
    }
   },
   "source": [
    "!rm /tmp/data_cache/quantization_coding.npy"
   ]
  },
  {
   "cell_type": "code",
   "execution_count": null,
   "metadata": {
    "ExecuteTime": {
     "end_time": "2018-01-23T22:06:13.925721Z",
     "start_time": "2018-01-23T22:06:09.252Z"
    }
   },
   "outputs": [],
   "source": [
    "from shl_scripts.shl_encode import mp\n",
    "nb_quant = 100\n",
    "#sparse_code = shl.code(data, dico, matname=matname)\n",
    "P_cum_zeroeffect = np.linspace(0, 1, nb_quant, endpoint=True)[np.newaxis, :] * np.ones((shl.n_dictionary, 1))\n",
    "#P_cum = dico.P_cum\n",
    "P_cum = None\n",
    "l0_sparseness = 200\n",
    "l0_sparseness = shl.l0_sparseness\n",
    "sparse_code = mp(data, dico.dictionary, l0_sparseness=l0_sparseness, P_cum=P_cum)\n",
    "\n",
    "print('number of codes, size of codewords = ', sparse_code.shape)\n",
    "print('average of codewords = ', sparse_code.mean())\n",
    "print('l0-sparseness of codewords = ', (sparse_code>0).mean(), ' ~= l0/M =', shl.l0_sparseness/shl.n_dictionary)\n",
    "print('average energy of codewords = ', sparse_code.std(axis=0).mean())\n",
    "print('std of the average of individual patches = ', sparse_code.mean(axis=0).std())"
   ]
  },
  {
   "cell_type": "code",
   "execution_count": null,
   "metadata": {
    "ExecuteTime": {
     "end_time": "2018-01-23T22:06:13.927404Z",
     "start_time": "2018-01-23T22:06:09.258Z"
    },
    "scrolled": true
   },
   "outputs": [],
   "source": [
    "patches = sparse_code @ dico.dictionary\n",
    "print('number of codes, size of reconstructed images = ', patches.shape)"
   ]
  },
  {
   "cell_type": "code",
   "execution_count": null,
   "metadata": {
    "ExecuteTime": {
     "end_time": "2018-01-23T22:06:13.929007Z",
     "start_time": "2018-01-23T22:06:09.264Z"
    }
   },
   "outputs": [],
   "source": [
    "from shl_scripts.shl_tools import show_data\n",
    "max_patches = 10\n",
    "fig, axs = show_data(data[:max_patches, :])\n",
    "fig, axs = show_data(patches[:max_patches, :])\n"
   ]
  },
  {
   "cell_type": "code",
   "execution_count": null,
   "metadata": {
    "ExecuteTime": {
     "end_time": "2018-01-23T22:06:13.930625Z",
     "start_time": "2018-01-23T22:06:09.267Z"
    },
    "scrolled": false
   },
   "outputs": [],
   "source": [
    "error = data - patches\n",
    "fig, axs = show_data(error[:max_patches, :], cmax=np.max(np.abs(data[:max_patches, :])))\n",
    "print('average of data patches = ', data.mean(), '+/-', data.mean(axis=1).std())\n",
    "print('average of residual patches = ', error.mean(), '+/-', error.mean(axis=1).std())\n",
    "SD = np.sqrt(np.mean(data**2, axis=1))\n",
    "print('median energy of data = ', np.median(SD))\n",
    "print('average energy of data = ', SD.mean(), '+/-', SD.std())\n",
    "#print('total energy of data = ', np.sqrt(np.sum(data**2)))\n",
    "#print('total deviation of data = ', np.sum(np.abs(data)))\n",
    "SE = np.sqrt(np.mean(error**2, axis=1))\n",
    "print('average energy of residual = ', SE.mean(), '+/-', SE.std())\n",
    "print('median energy of residual = ', np.median(SE))\n",
    "#print('total energy of residual = ', np.sqrt(np.sum(error**2)))\n",
    "#print('total deviation of residual = ', np.sum(np.abs(error)))\n",
    "print('average gain of coding = ', (SD/SE).mean(), '+/-', (SD/SE).std())"
   ]
  },
  {
   "cell_type": "markdown",
   "metadata": {},
   "source": [
    "## Quantization of the coefficients"
   ]
  },
  {
   "cell_type": "code",
   "execution_count": null,
   "metadata": {
    "ExecuteTime": {
     "end_time": "2018-01-23T22:06:13.932316Z",
     "start_time": "2018-01-23T22:06:09.270Z"
    }
   },
   "outputs": [],
   "source": [
    "from shl_scripts.shl_learn import get_P_cum\n",
    "C = 5.\n",
    "P_cum = get_P_cum(sparse_code, C=C, nb_quant=100)"
   ]
  },
  {
   "cell_type": "code",
   "execution_count": null,
   "metadata": {
    "ExecuteTime": {
     "end_time": "2018-01-23T22:06:13.934078Z",
     "start_time": "2018-01-23T22:06:09.273Z"
    }
   },
   "outputs": [],
   "source": [
    "from shl_scripts.shl_tools import plot_P_cum\n",
    "fig, ax = plot_P_cum(P_cum, verbose=False);\n",
    "ax.set_ylim(0.5, 1.01);"
   ]
  },
  {
   "cell_type": "code",
   "execution_count": null,
   "metadata": {
    "ExecuteTime": {
     "end_time": "2018-01-23T22:06:13.935510Z",
     "start_time": "2018-01-23T22:06:09.277Z"
    }
   },
   "outputs": [],
   "source": [
    "P_cum.shape"
   ]
  },
  {
   "cell_type": "code",
   "execution_count": null,
   "metadata": {
    "ExecuteTime": {
     "end_time": "2018-01-23T22:06:13.937217Z",
     "start_time": "2018-01-23T22:06:09.279Z"
    }
   },
   "outputs": [],
   "source": [
    "from shl_scripts.shl_encode import quantile, rescaling\n",
    "#sparse_code = mp(data, dico.dictionary, l0_sparseness=l0_sparseness, P_cum=P_cum)\n",
    "stick = np.arange(shl.n_dictionary)*nb_quant\n",
    "q = quantile(P_cum, rescaling(sparse_code, C=C), stick)"
   ]
  },
  {
   "cell_type": "code",
   "execution_count": null,
   "metadata": {
    "ExecuteTime": {
     "end_time": "2018-01-23T22:06:13.939029Z",
     "start_time": "2018-01-23T22:06:09.283Z"
    },
    "scrolled": true
   },
   "outputs": [],
   "source": [
    "from shl_scripts.shl_encode import inv_quantile, inv_rescaling\n",
    "q_sparse_code = inv_rescaling(inv_quantile(P_cum, q), C=C)\n",
    "print('total deviation of coefficients = ', np.mean(np.abs(q_sparse_code-sparse_code)))"
   ]
  },
  {
   "cell_type": "code",
   "execution_count": null,
   "metadata": {
    "ExecuteTime": {
     "end_time": "2018-01-23T22:06:13.946126Z",
     "start_time": "2018-01-23T22:06:09.287Z"
    },
    "scrolled": false
   },
   "outputs": [],
   "source": [
    "idx= 12\n",
    "plt.scatter(sparse_code[idx, :], q_sparse_code[idx, :])"
   ]
  },
  {
   "cell_type": "code",
   "execution_count": null,
   "metadata": {
    "ExecuteTime": {
     "end_time": "2018-01-23T22:06:13.948759Z",
     "start_time": "2018-01-23T22:06:09.291Z"
    }
   },
   "outputs": [],
   "source": [
    "P_cum.mean(axis=0).shape"
   ]
  },
  {
   "cell_type": "code",
   "execution_count": null,
   "metadata": {
    "ExecuteTime": {
     "end_time": "2018-01-23T22:06:13.950040Z",
     "start_time": "2018-01-23T22:06:09.295Z"
    }
   },
   "outputs": [],
   "source": [
    "P_cum_mean = P_cum.mean(axis=0)[np.newaxis, :] * np.ones((shl.n_dictionary, nb_quant))\n",
    "fig, ax = plot_P_cum(P_cum_mean, verbose=False);\n",
    "ax.set_ylim(0.5, 1.01);"
   ]
  },
  {
   "cell_type": "code",
   "execution_count": null,
   "metadata": {
    "ExecuteTime": {
     "end_time": "2018-01-23T22:06:13.952119Z",
     "start_time": "2018-01-23T22:06:09.298Z"
    }
   },
   "outputs": [],
   "source": [
    "q_sparse_code = inv_rescaling(inv_quantile(P_cum_mean, q), C=C)\n",
    "q_sparse_code = inv_rescaling(inv_quantile(P_cum_mean, q), C=C)\n",
    "print('total deviation of coefficients = ', np.mean(np.abs(sparse_code)))\n",
    "print('total deviation of coefficients = ', np.mean(np.abs(q_sparse_code-sparse_code)))"
   ]
  },
  {
   "cell_type": "code",
   "execution_count": null,
   "metadata": {
    "ExecuteTime": {
     "end_time": "2018-01-23T22:06:13.953659Z",
     "start_time": "2018-01-23T22:06:09.301Z"
    }
   },
   "outputs": [],
   "source": [
    "np.log(np.exp(42.))"
   ]
  },
  {
   "cell_type": "code",
   "execution_count": null,
   "metadata": {
    "ExecuteTime": {
     "end_time": "2018-01-23T22:06:13.955953Z",
     "start_time": "2018-01-23T22:06:09.305Z"
    }
   },
   "outputs": [],
   "source": [
    "plt.scatter(sparse_code[idx, :], q_sparse_code[idx, :])"
   ]
  },
  {
   "cell_type": "code",
   "execution_count": null,
   "metadata": {
    "ExecuteTime": {
     "end_time": "2018-01-23T22:06:13.957423Z",
     "start_time": "2018-01-23T22:06:09.310Z"
    }
   },
   "outputs": [],
   "source": [
    "patches = q_sparse_code @ dico.dictionary\n",
    "error = data - patches\n",
    "fig, axs = show_data(error[:max_patches, :], cmax=np.max(np.abs(data[:max_patches, :])))\n",
    "print('average of data patches = ', data.mean(), '+/-', data.mean(axis=1).std())\n",
    "print('average of residual patches = ', error.mean(), '+/-', error.mean(axis=1).std())\n",
    "SD = np.sqrt(np.mean(data**2, axis=1))\n",
    "print('median energy of data = ', np.median(SD))\n",
    "print('average energy of data = ', SD.mean(), '+/-', SD.std())\n",
    "#print('total energy of data = ', np.sqrt(np.sum(data**2)))\n",
    "#print('total deviation of data = ', np.sum(np.abs(data)))\n",
    "SE = np.sqrt(np.mean(error**2, axis=1))\n",
    "print('average energy of residual = ', SE.mean(), '+/-', SE.std())\n",
    "print('median energy of residual = ', np.median(SE))\n",
    "#print('total energy of residual = ', np.sqrt(np.sum(error**2)))\n",
    "#print('total deviation of residual = ', np.sum(np.abs(error)))\n",
    "print('average gain of coding = ', (SD/SE).mean(), '+/-', (SD/SE).std())"
   ]
  },
  {
   "cell_type": "markdown",
   "metadata": {},
   "source": [
    "## Version used"
   ]
  },
  {
   "cell_type": "code",
   "execution_count": null,
   "metadata": {
    "ExecuteTime": {
     "end_time": "2018-01-23T22:06:13.959004Z",
     "start_time": "2018-01-23T22:06:09.323Z"
    }
   },
   "outputs": [],
   "source": [
    "%load_ext version_information\n",
    "%version_information numpy, shl_scripts"
   ]
  }
 ],
 "metadata": {
  "kernelspec": {
   "display_name": "Python 3",
   "language": "python",
   "name": "python3"
  },
  "language_info": {
   "codemirror_mode": {
    "name": "ipython",
    "version": 3
   },
   "file_extension": ".py",
   "mimetype": "text/x-python",
   "name": "python",
   "nbconvert_exporter": "python",
   "pygments_lexer": "ipython3",
   "version": "3.6.4"
  },
  "toc": {
   "nav_menu": {
    "height": "102px",
    "width": "252px"
   },
   "number_sections": true,
   "sideBar": true,
   "skip_h1_title": false,
   "toc_cell": false,
   "toc_position": {},
   "toc_section_display": "block",
   "toc_window_display": false
  }
 },
 "nbformat": 4,
 "nbformat_minor": 1
}
