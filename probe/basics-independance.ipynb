{
 "cells": [
  {
   "cell_type": "markdown",
   "metadata": {},
   "source": [
    "# Sparse Hebbian Learning: toward a quantitative measure of the quality of filters\n",
    "\n",
    "We are interested here in learning the \"optimal\" components of a set of images (let's say some \"natural\", usual images). As there is no supervisor to guide the learning, this is called unsupervised learning. Our basic hypothesis to find the best (\"optimal\") components will be to assume that *a priori* the most sparse is more plausible. We will implement the derived algorithm in this set of scripts.\n",
    "\n"
   ]
  },
  {
   "cell_type": "code",
   "execution_count": 1,
   "metadata": {
    "ExecuteTime": {
     "end_time": "2018-03-06T16:02:34.098913Z",
     "start_time": "2018-03-06T16:02:34.081305Z"
    }
   },
   "outputs": [],
   "source": [
    "%load_ext autoreload\n",
    "%autoreload 2"
   ]
  },
  {
   "cell_type": "code",
   "execution_count": 2,
   "metadata": {
    "ExecuteTime": {
     "end_time": "2018-03-06T16:02:34.659000Z",
     "start_time": "2018-03-06T16:02:34.101564Z"
    }
   },
   "outputs": [],
   "source": [
    "%matplotlib inline\n",
    "import matplotlib.pyplot as plt\n",
    "import numpy as np\n",
    "np.set_printoptions(precision=4, suppress=True)\n",
    "import pandas as pd"
   ]
  },
  {
   "cell_type": "markdown",
   "metadata": {},
   "source": [
    "## experiments\n",
    "\n",
    "To test and control for the role of different parameters, we will have a first object (in the [shl_experiments.py](https://github.com/bicv/SHL_scripts/blob/master/shl_scripts/shl_experiments.py) script) that controls a learning experiment. It contains all relevant parameters, but can also keep a trace of the history of some statistics. This is useful to compare the relative efficiency of the different solutions.\n"
   ]
  },
  {
   "cell_type": "code",
   "execution_count": 3,
   "metadata": {
    "ExecuteTime": {
     "end_time": "2018-03-06T16:02:34.925805Z",
     "start_time": "2018-03-06T16:02:34.661101Z"
    }
   },
   "outputs": [
    {
     "name": "stdout",
     "output_type": "stream",
     "text": [
      "Extracting data..loading the data called : data_cache/independance_data\n",
      "Data is of shape : (262140, 144) - done in 0.22s.\n"
     ]
    }
   ],
   "source": [
    "DEBUG_DOWNSCALE, verbose = 10, 0\n",
    "DEBUG_DOWNSCALE, verbose = 1, 0\n",
    "DEBUG_DOWNSCALE, verbose = 10, 10\n",
    "DEBUG_DOWNSCALE, verbose = 1, 10\n",
    "\n",
    "tag = 'independance'\n",
    "\n",
    "eta_homeo = 0.1\n",
    "\n",
    "nb_quant = 128\n",
    "nb_quant = 256\n",
    "C = 5.\n",
    "\n",
    "homeo_methods = ['HAP', 'None']\n",
    "alpha_homeo = 0.2\n",
    "\n",
    "homeo_methods = ['HEH', 'None']\n",
    "alpha_homeo = 0.0\n",
    "\n",
    "n_iter = 2**13 + 1\n",
    "\n",
    "record_num_batches = 2**12\n",
    "N_show = 120\n",
    "ymin = .95\n",
    "max_patches = 10\n",
    "seed = 42\n",
    "np.random.seed(seed)\n",
    "\n",
    "opts = dict(DEBUG_DOWNSCALE=DEBUG_DOWNSCALE, n_iter=n_iter, \n",
    "            eta_homeo=eta_homeo, alpha_homeo=alpha_homeo, \n",
    "            C=C, nb_quant=nb_quant, P_cum=None, verbose=verbose)\n",
    "\n",
    "from shl_scripts.shl_experiments import SHL\n",
    "shl = SHL(**opts)\n",
    "data = shl.get_data(matname=tag)"
   ]
  },
  {
   "cell_type": "code",
   "execution_count": 4,
   "metadata": {
    "ExecuteTime": {
     "end_time": "2018-03-06T16:02:35.192780Z",
     "start_time": "2018-03-06T16:02:34.928065Z"
    },
    "scrolled": false
   },
   "outputs": [
    {
     "name": "stdout",
     "output_type": "stream",
     "text": [
      "-rw-r--r--  1 laurentperrinet  staff    2533678 Mar  5 17:52 data_cache/independance_HAP_dico.pkl\r\n",
      "-rw-r--r--  1 laurentperrinet  staff    2533679 Mar  6 10:09 data_cache/independance_None_dico.pkl\r\n",
      "-rw-r--r--  1 laurentperrinet  staff  301985408 Mar  5 16:36 data_cache/independance_data.npy\r\n"
     ]
    }
   ],
   "source": [
    "!ls -l {shl.data_cache}/{tag}*\n",
    "!rm -fr {shl.data_cache}/{tag}*lock*"
   ]
  },
  {
   "cell_type": "raw",
   "metadata": {
    "ExecuteTime": {
     "end_time": "2018-03-06T16:02:35.492994Z",
     "start_time": "2018-03-06T16:02:35.196706Z"
    }
   },
   "source": [
    "!rm {shl.data_cache}/{tag}*\n",
    "!ls -l {shl.data_cache}/{tag}*"
   ]
  },
  {
   "cell_type": "code",
   "execution_count": 6,
   "metadata": {
    "ExecuteTime": {
     "end_time": "2018-03-06T16:02:35.838699Z",
     "start_time": "2018-03-06T16:02:35.496414Z"
    },
    "scrolled": false
   },
   "outputs": [
    {
     "name": "stdout",
     "output_type": "stream",
     "text": [
      "number of patches, size of patches =  (262140, 144)\n",
      "average of patches =  1.4578306989484052e-05  +/-  0.006638689828201611\n",
      "average energy of data =  0.029647154513547106 +/- 0.03759209103599952\n"
     ]
    }
   ],
   "source": [
    "print('number of patches, size of patches = ', data.shape)\n",
    "print('average of patches = ', data.mean(), ' +/- ', data.mean(axis=1).std())\n",
    "SE = np.sqrt(np.mean(data**2, axis=1))\n",
    "print('average energy of data = ', SE.mean(), '+/-', SE.std())"
   ]
  },
  {
   "cell_type": "raw",
   "metadata": {
    "ExecuteTime": {
     "end_time": "2018-02-15T08:52:01.571586Z",
     "start_time": "2018-02-15T08:52:01.495857Z"
    }
   },
   "source": [
    "l0_sparseness = shl.l0_sparseness\n",
    "l0_sparseness_noise = 200 #shl.n_dictionary #"
   ]
  },
  {
   "cell_type": "code",
   "execution_count": 7,
   "metadata": {
    "ExecuteTime": {
     "end_time": "2018-03-06T16:02:35.869026Z",
     "start_time": "2018-03-06T16:02:35.841362Z"
    }
   },
   "outputs": [],
   "source": [
    "stick = np.arange(shl.n_dictionary)*nb_quant\n",
    "\n",
    "indx = np.random.permutation(data.shape[0])[:record_num_batches]\n",
    "P_cum_zeroeffect = np.linspace(0, 1, nb_quant, endpoint=True)[np.newaxis, :] * np.ones((shl.n_dictionary, 1))\n"
   ]
  },
  {
   "cell_type": "markdown",
   "metadata": {},
   "source": [
    "## learning\n",
    "\n",
    "The actual learning is done in a second object (here ``dico``) from which we can access another set of properties and functions  (see the [shl_learn.py](https://github.com/bicv/SHL_scripts/blob/master/shl_scripts/shl_learn.py) script):"
   ]
  },
  {
   "cell_type": "code",
   "execution_count": null,
   "metadata": {
    "ExecuteTime": {
     "start_time": "2018-03-06T16:02:34.148Z"
    },
    "scrolled": false
   },
   "outputs": [
    {
     "name": "stdout",
     "output_type": "stream",
     "text": [
      "No cache found data_cache/independance_HEH_dico.pkl: Learning the dictionary with algo = mp \n",
      " Training on 262140 patches\n",
      "Iteration   1 /   8193 (elapsed time:   1s,   0mn   1s)\n",
      "Iteration  129 /   8193 (elapsed time:  238s,   3mn  58s)\n",
      "Iteration  257 /   8193 (elapsed time:  684s,  11mn  24s)\n",
      "Iteration  385 /   8193 (elapsed time:  1122s,  18mn  42s)\n",
      "Iteration  513 /   8193 (elapsed time:  1558s,  25mn  58s)\n",
      "Iteration  641 /   8193 (elapsed time:  1997s,  33mn  17s)\n",
      "Iteration  769 /   8193 (elapsed time:  2437s,  40mn  37s)\n",
      "Iteration  897 /   8193 (elapsed time:  5176s,  86mn  16s)\n",
      "Iteration  1025 /   8193 (elapsed time:  8649s,  144mn   9s)\n",
      "Iteration  1153 /   8193 (elapsed time:  12271s,  204mn  31s)\n",
      "Iteration  1281 /   8193 (elapsed time:  16202s,  270mn   2s)\n",
      "Iteration  1409 /   8193 (elapsed time:  22096s,  368mn  16s)\n",
      "Iteration  1537 /   8193 (elapsed time:  27939s,  465mn  39s)\n",
      "Iteration  1665 /   8193 (elapsed time:  33997s,  566mn  37s)\n",
      "Iteration  1793 /   8193 (elapsed time:  38792s,  646mn  32s)\n",
      "Iteration  1921 /   8193 (elapsed time:  44802s,  746mn  42s)\n",
      "Iteration  2049 /   8193 (elapsed time:  50055s,  834mn  15s)\n"
     ]
    }
   ],
   "source": [
    "list_figures = ['show_dico', 'time_plot_error', 'time_plot_logL']\n",
    "\n",
    "dico = {}\n",
    "for homeo_method in homeo_methods:\n",
    "    shl = SHL(homeo_method=homeo_method, **opts)\n",
    "    dico[homeo_method] = shl.learn_dico(data=data, list_figures=list_figures, matname=tag + '_' + homeo_method)\n",
    "\n",
    "    print('size of dictionary = (number of filters, size of imagelets) = ', dico[homeo_method].dictionary.shape)\n",
    "    print('average of filters = ',  dico[homeo_method].dictionary.mean(axis=1).mean(), \n",
    "          '+/-',  dico[homeo_method].dictionary.mean(axis=1).std())\n",
    "    SE = np.sqrt(np.sum(dico[homeo_method].dictionary**2, axis=1))\n",
    "    print('average energy of filters = ', SE.mean(), '+/-', SE.std())\n",
    "\n",
    "    if not dico[homeo_method].P_cum is None: \n",
    "        from shl_scripts.shl_tools import plot_P_cum\n",
    "        fig, ax = plot_P_cum(dico[homeo_method].P_cum, ymin=ymin, verbose=False, alpha=.15);"
   ]
  },
  {
   "cell_type": "markdown",
   "metadata": {},
   "source": [
    "## theory\n",
    "\n"
   ]
  },
  {
   "cell_type": "raw",
   "metadata": {
    "ExecuteTime": {
     "end_time": "2018-02-15T15:47:38.856955Z",
     "start_time": "2018-02-15T15:47:38.796854Z"
    }
   },
   "source": [
    "sparse_code_binary.shape"
   ]
  },
  {
   "cell_type": "code",
   "execution_count": null,
   "metadata": {
    "ExecuteTime": {
     "start_time": "2018-03-06T16:02:34.190Z"
    }
   },
   "outputs": [],
   "source": [
    "from scipy.stats import binom\n",
    "# define the mean\n",
    "rho = shl.l0_sparseness / shl.n_dictionary\n",
    "\n",
    "# draw binomial samples\n",
    "sparse_code_binary = np.random.rand(record_num_batches, shl.n_dictionary) > 1 - rho\n",
    "\n",
    "# define the theoretical standard deviation\n",
    "sd = np.sqrt(rho*(1-rho)*record_num_batches)\n",
    "\n",
    "# the binomial probability is defined from 0 to record_num_batches \\times shl.n_dictionary\n",
    "# for visualization, we show the part around non-zero probabilities:\n",
    "#record_num_batches_high = int(rho * record_num_batches + 15. * sd)\n",
    "record_num_batches_high = int(2.5 * rho * record_num_batches)\n",
    "bins = np.arange(record_num_batches_high)\n",
    "\n",
    "print('Sum of non-zero coefficients', sparse_code_binary.sum(), '~=', shl.l0_sparseness*record_num_batches)\n",
    "print('average non-zeros', np.count_nonzero(sparse_code_binary, axis=0).mean(), '~=', rho*record_num_batches)\n",
    "fig, ax= plt.subplots(figsize=(13, 5))\n",
    "smarts, edges = np.histogram(np.count_nonzero(sparse_code_binary, axis=0), density=True, bins=bins)\n",
    "smarts /= smarts.sum()\n",
    "ax.step(edges, np.hstack((smarts, 0)), where='pre', label='data');\n",
    "#edges_mid = .5*( edges[1:] + edges[:-1] )\n",
    "#print(rho, s, edges)\n",
    "proba = np.exp(-.5 * (edges - rho*record_num_batches)**2 / sd**2)\n",
    "proba /= proba.sum()\n",
    "ax.plot(edges, proba, label='gaussian pmf');\n",
    "proba_binom = binom.pmf(edges, record_num_batches, rho)\n",
    "proba_binom /= proba_binom.sum()\n",
    "ax.plot(edges, proba_binom, 'bo', ms=1, label='binom pmf')\n",
    "ax.legend()"
   ]
  },
  {
   "cell_type": "code",
   "execution_count": null,
   "metadata": {
    "ExecuteTime": {
     "start_time": "2018-03-06T16:02:34.192Z"
    }
   },
   "outputs": [],
   "source": [
    "def get_logL(sparse_code):\n",
    "    record_num_batches = sparse_code.shape[0]\n",
    "    rho_hat = np.count_nonzero(sparse_code_binary, axis=0).mean()/record_num_batches\n",
    "    #rho = shl.l0_sparseness / shl.n_dictionary\n",
    "    sd = np.sqrt(rho_hat*(1-rho_hat)*record_num_batches)\n",
    "\n",
    "    measures = np.count_nonzero(sparse_code, axis=0)\n",
    "\n",
    "    # likelihood = 1 / np.sqrt(2*np.pi) / sd *  np.exp(-.5 * (measures - rho)**2 / sd**2)\n",
    "    logL = -.5 * (measures - rho_hat*record_num_batches)**2 / sd**2\n",
    "    logL -= np.log(np.sqrt(2*np.pi) * sd)\n",
    "    #print(np.log(np.sum(np.exp(logL))), np.log(np.sqrt(2*np.pi) * sd))\n",
    "    #logL -= np.log(np.sum(np.exp(logL)))\n",
    "    return logL\n",
    "    "
   ]
  },
  {
   "cell_type": "code",
   "execution_count": null,
   "metadata": {
    "ExecuteTime": {
     "start_time": "2018-03-06T16:02:34.195Z"
    }
   },
   "outputs": [],
   "source": [
    "rho = shl.l0_sparseness / shl.n_dictionary\n",
    "sd = np.sqrt(rho*(1-rho)*record_num_batches)\n",
    "\n",
    "for _ in range(10):\n",
    "    sparse_code_binary = np.random.rand(record_num_batches, shl.n_dictionary) > 1 - rho\n",
    "    logL = get_logL(sparse_code_binary)\n",
    "    print ('log-likelihood for random sample=', logL.mean(), '+/-', logL.std())\n"
   ]
  },
  {
   "cell_type": "markdown",
   "metadata": {},
   "source": [
    "## coding\n",
    "\n",
    "The learning itself is done via a gradient descent but is highly dependent on the coding / decoding algorithm. This belongs to a another function (in the [shl_encode.py](https://github.com/bicv/SHL_scripts/blob/master/shl_scripts/shl_encode.py) script)"
   ]
  },
  {
   "cell_type": "code",
   "execution_count": null,
   "metadata": {
    "ExecuteTime": {
     "start_time": "2018-03-06T16:02:34.197Z"
    }
   },
   "outputs": [],
   "source": [
    "from shl_scripts.shl_tools import show_data\n",
    "def print_stats(data, dictionary, sparse_code):\n",
    "    print(42*'🐒')\n",
    "\n",
    "    print('number of codes, size of codewords = ', sparse_code.shape)\n",
    "    print('average of codewords = ', sparse_code.mean())\n",
    "    print('average std of codewords = ', sparse_code.std())\n",
    "    print('l0-sparseness of codewords = ', (sparse_code>0).mean(), ' ~= l0/M =', shl.l0_sparseness/shl.n_dictionary)\n",
    "    print('std of the average of individual patches = ', sparse_code.mean(axis=0).std())\n",
    "\n",
    "\n",
    "    plt.matshow(sparse_code[:N_show, :])\n",
    "    plt.show()\n",
    "    fig, axs = show_data(data[:max_patches, :])\n",
    "    plt.show()\n",
    "\n",
    "    patches = sparse_code @ dictionary\n",
    "    error = data - patches\n",
    "    \n",
    "    print('number of codes, size of reconstructed images = ', patches.shape)\n",
    "\n",
    "    fig, axs = show_data(patches[:max_patches, :])\n",
    "    plt.show()\n",
    "    fig, axs = show_data(error[:max_patches, :], cmax=np.max(np.abs(patches[:max_patches, :])))\n",
    "    plt.show()\n",
    "    print('average of data patches = ', data.mean(), '+/-', data.mean(axis=1).std())\n",
    "    print('average of residual patches = ', error.mean(), '+/-', error.mean(axis=1).std())\n",
    "    SD = np.sqrt(np.mean(data**2, axis=1))\n",
    "\n",
    "    print('median energy of data = ', np.median(SD))\n",
    "    print('average energy of data = ', SD.mean(), '+/-', SD.std())\n",
    "    \n",
    "    SE = np.sqrt(np.mean(error**2, axis=1))\n",
    "\n",
    "    print('average energy of residual = ', SE.mean(), '+/-', SE.std())\n",
    "    print('median energy of residual = ', np.median(SE))\n",
    "    print('average gain of coding = ', (SD/SE).mean(), '+/-', (SD/SE).std())\n",
    "    \n",
    "    return SD, SE"
   ]
  },
  {
   "cell_type": "code",
   "execution_count": null,
   "metadata": {
    "ExecuteTime": {
     "start_time": "2018-03-06T16:02:34.199Z"
    }
   },
   "outputs": [],
   "source": [
    "homeo_methods"
   ]
  },
  {
   "cell_type": "code",
   "execution_count": null,
   "metadata": {
    "ExecuteTime": {
     "start_time": "2018-03-06T16:02:34.202Z"
    },
    "scrolled": false
   },
   "outputs": [],
   "source": [
    "from shl_scripts.shl_encode import sparse_encode\n",
    "sparse_code = {}\n",
    "for homeo_method in homeo_methods:\n",
    "    if dico[homeo_method].P_cum is None: \n",
    "        gain = np.ones(shl.n_dictionary)\n",
    "    else:\n",
    "        gain = None\n",
    "    sparse_code[homeo_method] = sparse_encode(data[indx, :], dico[homeo_method].dictionary, \n",
    "                                 P_cum=dico[homeo_method].P_cum, l0_sparseness = shl.l0_sparseness, C=C, gain=gain)\n",
    "    SD, SE = print_stats(data[indx, :], dico[homeo_method].dictionary, sparse_code[homeo_method])"
   ]
  },
  {
   "cell_type": "code",
   "execution_count": null,
   "metadata": {
    "ExecuteTime": {
     "start_time": "2018-03-06T16:02:34.230Z"
    }
   },
   "outputs": [],
   "source": [
    "sparse_code[homeo_method].shape"
   ]
  },
  {
   "cell_type": "code",
   "execution_count": null,
   "metadata": {
    "ExecuteTime": {
     "start_time": "2018-03-06T16:02:34.232Z"
    }
   },
   "outputs": [],
   "source": [
    "rho = shl.l0_sparseness / shl.n_dictionary\n",
    "sd = np.sqrt(rho*(1-rho)*record_num_batches)\n",
    "\n",
    "fig, ax= plt.subplots(figsize=(13, 5))\n",
    "for homeo_method, color in zip(homeo_methods, ['r', 'b']):\n",
    "    print('Average of non-zero coefficients', (sparse_code[homeo_method]>0).mean(), '~=', rho)\n",
    "    n_i = np.count_nonzero(sparse_code[homeo_method], axis=0)\n",
    "    print('Mean of non-zero coefficients', n_i.mean(), '~=', rho*record_num_batches)\n",
    "    print('Mean of non-zero coefficients', n_i.mean(), '+/-', n_i.std())\n",
    "    print('Median of non-zero coefficients', np.median(n_i))\n",
    "    smarts, edges = np.histogram(n_i, density=True, bins=bins)\n",
    "    smarts /= smarts.sum()\n",
    "    # ax.step(edges, np.hstack((smarts, 0)), where='pre', label='data_' + homeo_method);\n",
    "    ax.fill_between(edges[:-1], smarts, step='pre', label='data_' + homeo_method, alpha=.6, color=color);\n",
    "\n",
    "proba = 1 / np.sqrt(2*np.pi) / sd *  np.exp(-.5 * (edges - rho*record_num_batches)**2 / sd**2)\n",
    "#proba /= proba.sum()\n",
    "ax.plot(edges, proba, label='expected')\n",
    "ax.legend();"
   ]
  },
  {
   "cell_type": "code",
   "execution_count": null,
   "metadata": {
    "ExecuteTime": {
     "start_time": "2018-03-06T16:02:34.234Z"
    }
   },
   "outputs": [],
   "source": [
    "rho, sparse_code[homeo_method].mean(), homeo_methods"
   ]
  },
  {
   "cell_type": "markdown",
   "metadata": {},
   "source": [
    "## measuring the distance to independance "
   ]
  },
  {
   "cell_type": "code",
   "execution_count": null,
   "metadata": {
    "ExecuteTime": {
     "start_time": "2018-03-06T16:02:34.236Z"
    }
   },
   "outputs": [],
   "source": [
    "#fig, ax= plt.subplots(figsize=(13, 5))\n",
    "for homeo_method in homeo_methods:\n",
    "    logL = get_logL(sparse_code[homeo_method])\n",
    "    print ('log-likelihood for homeo_method=', homeo_method, 'is', logL.mean(), '+/-', logL.std())\n",
    "    #ax.vline(edges, proba, label=homeo_method)\n",
    "\n",
    "logL = get_logL(np.random.rand(record_num_batches, shl.n_dictionary) > 1 - rho)\n",
    "print ('log-likelihood for theory is', logL.mean(), '+/-', logL.std())\n",
    "#for _ in range(10):\n",
    "#    logL = get_logL(np.random.rand(record_num_batches, shl.n_dictionary) > 1 - rho)\n",
    "#ax.plot(edges, proba, label='theory')\n",
    "#ax.legend();"
   ]
  },
  {
   "cell_type": "markdown",
   "metadata": {},
   "source": [
    "## Version used"
   ]
  },
  {
   "cell_type": "code",
   "execution_count": null,
   "metadata": {
    "ExecuteTime": {
     "start_time": "2018-03-06T16:02:34.240Z"
    }
   },
   "outputs": [],
   "source": [
    "%load_ext version_information\n",
    "%version_information numpy, shl_scripts, pandas"
   ]
  }
 ],
 "metadata": {
  "kernelspec": {
   "display_name": "Python 3",
   "language": "python",
   "name": "python3"
  },
  "language_info": {
   "codemirror_mode": {
    "name": "ipython",
    "version": 3
   },
   "file_extension": ".py",
   "mimetype": "text/x-python",
   "name": "python",
   "nbconvert_exporter": "python",
   "pygments_lexer": "ipython3",
   "version": "3.6.4"
  },
  "toc": {
   "nav_menu": {
    "height": "102px",
    "width": "252px"
   },
   "number_sections": true,
   "sideBar": true,
   "skip_h1_title": false,
   "title_cell": "Table of Contents",
   "title_sidebar": "Contents",
   "toc_cell": false,
   "toc_position": {},
   "toc_section_display": "block",
   "toc_window_display": false
  }
 },
 "nbformat": 4,
 "nbformat_minor": 2
}
