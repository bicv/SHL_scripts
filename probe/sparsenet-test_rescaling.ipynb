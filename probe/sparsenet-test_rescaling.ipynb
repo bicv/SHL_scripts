{
 "cells": [
  {
   "cell_type": "markdown",
   "metadata": {},
   "source": [
    "# Sparse Hebbian Learning with full homeostasis : testing different rescaling functions\n",
    "\n",
    "In this notebook, we test the convergence of SparseNet as a function of different parameters tuning the quantization. These parameters only influence the way we select dictionary elements and thus the homeostasis.\n",
    "\n"
   ]
  },
  {
   "cell_type": "code",
   "execution_count": 1,
   "metadata": {
    "ExecuteTime": {
     "end_time": "2018-03-09T11:18:25.265343Z",
     "start_time": "2018-03-09T11:18:25.251989Z"
    }
   },
   "outputs": [],
   "source": [
    "%load_ext autoreload\n",
    "%autoreload 2"
   ]
  },
  {
   "cell_type": "code",
   "execution_count": 2,
   "metadata": {
    "ExecuteTime": {
     "end_time": "2018-03-09T11:18:25.538956Z",
     "start_time": "2018-03-09T11:18:25.267418Z"
    }
   },
   "outputs": [],
   "source": [
    "%matplotlib inline\n",
    "import matplotlib.pyplot as plt\n",
    "import numpy as np\n",
    "np.set_printoptions(precision=2, suppress=True)"
   ]
  },
  {
   "cell_type": "code",
   "execution_count": 3,
   "metadata": {
    "ExecuteTime": {
     "end_time": "2018-03-09T11:18:25.658809Z",
     "start_time": "2018-03-09T11:18:25.540759Z"
    },
    "scrolled": false
   },
   "outputs": [
    {
     "name": "stdout",
     "output_type": "stream",
     "text": [
      "Extracting data..loading the data called : data_cache/data_data\n",
      "Data is of shape : (81920, 256) - done in 0.09s.\n"
     ]
    }
   ],
   "source": [
    "from shl_scripts.shl_experiments import SHL_set\n",
    "tag = 'rescaling'\n",
    "opts = dict(homeo_method='HEH', eta_homeo=0.05, C=10., nb_quant=256, P_cum=None, verbose=1)\n",
    "opts = dict(homeo_method='HEH', n_iter=513, record_each=32, eta_homeo=0.1, C=5., nb_quant=256, P_cum=None, verbose=1)\n",
    "opts = dict(homeo_method='HEH', verbose=1)\n",
    "\n",
    "experiments = SHL_set(opts, tag=tag)\n",
    "list_figures = []\n",
    "list_figures = ['show_dico', 'show_Pcum']"
   ]
  },
  {
   "cell_type": "code",
   "execution_count": 4,
   "metadata": {
    "ExecuteTime": {
     "end_time": "2018-03-09T11:18:25.917494Z",
     "start_time": "2018-03-09T11:18:25.660758Z"
    }
   },
   "outputs": [
    {
     "name": "stdout",
     "output_type": "stream",
     "text": [
      "-rw-r--r--  1 laurentperrinet  staff  2594598 Mar  7 13:46 data_cache/rescaling - C=1.00000_dico.pkl\n",
      "-rw-r--r--  1 laurentperrinet  staff  2594598 Mar  7 17:58 data_cache/rescaling - C=1.58740_dico.pkl\n",
      "-rw-r--r--  1 laurentperrinet  staff  2594598 Mar  7 22:49 data_cache/rescaling - C=10.07937_dico.pkl\n",
      "-rw-r--r--  1 laurentperrinet  staff  2594598 Mar  7 23:37 data_cache/rescaling - C=16.00000_dico.pkl\n",
      "-rw-r--r--  1 laurentperrinet  staff  2594598 Mar  7 20:12 data_cache/rescaling - C=2.51984_dico.pkl\n",
      "-rw-r--r--  1 laurentperrinet  staff  2594598 Mar  7 21:08 data_cache/rescaling - C=4.00000_dico.pkl\n",
      "-rw-r--r--  1 laurentperrinet  staff  2594598 Mar  7 21:59 data_cache/rescaling - C=6.34960_dico.pkl\n",
      "-rw-r--r--  1 laurentperrinet  staff  1628726 Mar  8 00:02 data_cache/rescaling - nb_quant=101_dico.pkl\n",
      "-rw-r--r--  1 laurentperrinet  staff  5534864 Mar  8 01:03 data_cache/rescaling - nb_quant=1024_dico.pkl\n",
      "-rw-r--r--  1 laurentperrinet  staff  1882646 Mar  8 00:14 data_cache/rescaling - nb_quant=161_dico.pkl\n",
      "-rw-r--r--  1 laurentperrinet  staff  2284688 Mar  8 00:26 data_cache/rescaling - nb_quant=256_dico.pkl\n",
      "-rw-r--r--  1 laurentperrinet  staff  2919488 Mar  8 00:38 data_cache/rescaling - nb_quant=406_dico.pkl\n",
      "-rw-r--r--  1 laurentperrinet  staff  3930936 Mar  8 00:50 data_cache/rescaling - nb_quant=645_dico.pkl\n",
      "-rw-r--r--  1 laurentperrinet  staff  1472142 Mar  7 23:50 data_cache/rescaling - nb_quant=64_dico.pkl\n",
      "ls: data_cache/rescaling*lock*: No such file or directory\n"
     ]
    }
   ],
   "source": [
    "!ls -l {experiments.shl.data_cache}/{tag}*\n",
    "!ls -l {experiments.shl.data_cache}/{tag}*lock*"
   ]
  },
  {
   "cell_type": "raw",
   "metadata": {
    "ExecuteTime": {
     "end_time": "2018-03-08T15:44:33.210225Z",
     "start_time": "2018-03-08T15:44:32.887218Z"
    }
   },
   "source": [
    "!rm -fr {experiments.shl.data_cache}/{tag}*\n",
    "!ls -l {experiments.shl.data_cache}/{tag}*"
   ]
  },
  {
   "cell_type": "markdown",
   "metadata": {},
   "source": [
    "## different rescaling values"
   ]
  },
  {
   "cell_type": "code",
   "execution_count": null,
   "metadata": {
    "ExecuteTime": {
     "start_time": "2018-03-09T11:18:25.248Z"
    },
    "scrolled": false
   },
   "outputs": [
    {
     "name": "stdout",
     "output_type": "stream",
     "text": [
      "No cache found data_cache/rescaling - C=0.50000_dico.pkl: Learning the dictionary with algo = mp \n",
      " Training on 81920 patches\n",
      "[dict_learning] Iteration   1 /   4097 (elapsed time:   1s,   0mn   1s)\n",
      "Iteration  129 /   4097 (elapsed time:  237s,   3mn  57s)\n",
      "Iteration  257 /   4097 (elapsed time:  475s,   7mn  55s)\n",
      "Iteration  385 /   4097 (elapsed time:  711s,  11mn  51s)\n",
      "Iteration  513 /   4097 (elapsed time:  947s,  15mn  47s)\n",
      "Iteration  641 /   4097 (elapsed time:  1183s,  19mn  43s)\n",
      "Iteration  769 /   4097 (elapsed time:  1419s,  23mn  39s)\n",
      "Iteration  897 /   4097 (elapsed time:  1665s,  27mn  45s)\n",
      "Iteration  1025 /   4097 (elapsed time:  1902s,  31mn  42s)\n",
      "Iteration  1153 /   4097 (elapsed time:  2137s,  35mn  37s)\n",
      "Iteration  1281 /   4097 (elapsed time:  2374s,  39mn  34s)\n",
      "Iteration  1409 /   4097 (elapsed time:  2880s,  48mn   0s)\n",
      "Iteration  1537 /   4097 (elapsed time:  3392s,  56mn  32s)\n",
      "Iteration  1665 /   4097 (elapsed time:  3905s,  65mn   5s)\n",
      "Iteration  1793 /   4097 (elapsed time:  4416s,  73mn  36s)\n",
      "Iteration  1921 /   4097 (elapsed time:  4927s,  82mn   7s)\n",
      "Iteration  2049 /   4097 (elapsed time:  5445s,  90mn  45s)\n",
      "Iteration  2177 /   4097 (elapsed time:  5982s,  99mn  42s)\n",
      "Iteration  2305 /   4097 (elapsed time:  6508s,  108mn  28s)\n",
      "Iteration  2433 /   4097 (elapsed time:  6777s,  112mn  57s)\n",
      "Iteration  2561 /   4097 (elapsed time:  7014s,  116mn  54s)\n",
      "Iteration  2689 /   4097 (elapsed time:  7250s,  120mn  50s)\n",
      "Iteration  2817 /   4097 (elapsed time:  7484s,  124mn  44s)\n",
      "Iteration  2945 /   4097 (elapsed time:  7719s,  128mn  39s)\n",
      "Iteration  3073 /   4097 (elapsed time:  7970s,  132mn  50s)\n",
      "Iteration  3201 /   4097 (elapsed time:  8195s,  136mn  35s)\n",
      "Iteration  3329 /   4097 (elapsed time:  8547s,  142mn  27s)\n",
      "Iteration  3457 /   4097 (elapsed time:  9107s,  151mn  47s)\n",
      "Iteration  3585 /   4097 (elapsed time:  9655s,  160mn  55s)\n",
      "Iteration  3713 /   4097 (elapsed time:  10177s,  169mn  37s)\n",
      "Iteration  3841 /   4097 (elapsed time:  10711s,  178mn  31s)\n",
      "Iteration  3969 /   4097 (elapsed time:  11285s,  188mn   5s)\n"
     ]
    }
   ],
   "source": [
    "experiments.scan(variable='C', list_figures=[], display='')\n",
    "plt.show()\n",
    "fig, ax = experiments.scan(variable='C', list_figures=list_figures, display='final')\n",
    "plt.show()"
   ]
  },
  {
   "cell_type": "markdown",
   "metadata": {},
   "source": [
    "## different quantization parameters"
   ]
  },
  {
   "cell_type": "markdown",
   "metadata": {},
   "source": [
    "with a fixed $C$, we now change the number of quantization steps used to compute the histogram:"
   ]
  },
  {
   "cell_type": "code",
   "execution_count": null,
   "metadata": {
    "ExecuteTime": {
     "start_time": "2018-03-09T11:18:25.250Z"
    },
    "scrolled": false
   },
   "outputs": [],
   "source": [
    "experiments.scan(variable='nb_quant', list_figures=[], display='')\n",
    "plt.show()\n",
    "fig, ax = experiments.scan(variable='nb_quant', list_figures=list_figures, display='final')\n",
    "plt.show()\n"
   ]
  },
  {
   "cell_type": "markdown",
   "metadata": {},
   "source": [
    "## Version used"
   ]
  },
  {
   "cell_type": "code",
   "execution_count": null,
   "metadata": {
    "ExecuteTime": {
     "start_time": "2018-03-09T11:18:25.252Z"
    }
   },
   "outputs": [],
   "source": [
    "%load_ext version_information\n",
    "%version_information numpy, shl_scripts"
   ]
  }
 ],
 "metadata": {
  "kernelspec": {
   "display_name": "Python 3",
   "language": "python",
   "name": "python3"
  },
  "language_info": {
   "codemirror_mode": {
    "name": "ipython",
    "version": 3
   },
   "file_extension": ".py",
   "mimetype": "text/x-python",
   "name": "python",
   "nbconvert_exporter": "python",
   "pygments_lexer": "ipython3",
   "version": "3.6.4"
  },
  "toc": {
   "nav_menu": {
    "height": "81px",
    "width": "252px"
   },
   "number_sections": true,
   "sideBar": true,
   "skip_h1_title": false,
   "title_cell": "Table of Contents",
   "title_sidebar": "Contents",
   "toc_cell": false,
   "toc_position": {},
   "toc_section_display": "block",
   "toc_window_display": false
  }
 },
 "nbformat": 4,
 "nbformat_minor": 2
}
