{
 "cells": [
  {
   "cell_type": "markdown",
   "metadata": {},
   "source": [
    "# Sparse Hebbian Learning with full homeostasis : testing different rescaling functions\n",
    "\n",
    "In this notebook, we test the convergence of SparseNet as a function of different parameters tuning the quantization. These parameters only influence the way we select dictionary elements and thus the homeostasis.\n",
    "\n"
   ]
  },
  {
   "cell_type": "code",
   "execution_count": null,
   "metadata": {
    "ExecuteTime": {
     "end_time": "2018-02-23T08:52:18.314792Z",
     "start_time": "2018-02-23T08:52:18.292621Z"
    }
   },
   "outputs": [],
   "source": [
    "%load_ext autoreload\n",
    "%autoreload 2"
   ]
  },
  {
   "cell_type": "code",
   "execution_count": null,
   "metadata": {
    "ExecuteTime": {
     "end_time": "2018-02-23T08:52:18.806323Z",
     "start_time": "2018-02-23T08:52:18.316753Z"
    }
   },
   "outputs": [],
   "source": [
    "%matplotlib inline\n",
    "import matplotlib.pyplot as plt\n",
    "import numpy as np\n",
    "np.set_printoptions(precision=2, suppress=True)"
   ]
  },
  {
   "cell_type": "code",
   "execution_count": null,
   "metadata": {
    "ExecuteTime": {
     "end_time": "2018-02-23T08:52:18.973990Z",
     "start_time": "2018-02-23T08:52:18.810481Z"
    },
    "scrolled": false
   },
   "outputs": [],
   "source": [
    "from shl_scripts.shl_experiments import SHL_set\n",
    "tag = 'rescaling'\n",
    "opts = dict(homeo_method='HEH', eta_homeo=0.05, C=10., nb_quant=256, P_cum=None, verbose=1)\n",
    "opts = dict(homeo_method='HEH', n_iter=513, record_each=32, eta_homeo=0.1, C=5., nb_quant=256, P_cum=None, verbose=1)\n",
    "experiments = SHL_set(opts, tag=tag)\n",
    "list_figures = []\n",
    "list_figures = ['show_dico', 'show_Pcum']"
   ]
  },
  {
   "cell_type": "code",
   "execution_count": null,
   "metadata": {
    "ExecuteTime": {
     "end_time": "2018-02-23T08:52:19.124199Z",
     "start_time": "2018-02-23T08:52:18.976104Z"
    }
   },
   "outputs": [],
   "source": [
    "!ls -l {experiments.shl.data_cache}/{tag}*"
   ]
  },
  {
   "cell_type": "raw",
   "metadata": {
    "ExecuteTime": {
     "end_time": "2018-02-23T11:44:53.957386Z",
     "start_time": "2018-02-23T11:44:53.565653Z"
    }
   },
   "source": [
    "!rm -fr {experiments.shl.data_cache}/{tag}*\n",
    "!ls -l {experiments.shl.data_cache}/{tag}*"
   ]
  },
  {
   "cell_type": "markdown",
   "metadata": {},
   "source": [
    "## different rescaling values"
   ]
  },
  {
   "cell_type": "code",
   "execution_count": null,
   "metadata": {
    "ExecuteTime": {
     "end_time": "2018-02-23T10:08:59.127220Z",
     "start_time": "2018-02-23T08:52:19.126708Z"
    },
    "scrolled": false
   },
   "outputs": [],
   "source": [
    "experiments.scan(variable='C', list_figures=[], display='')\n",
    "plt.show()\n",
    "fig, ax = experiments.scan(variable='C', list_figures=list_figures, display='final')\n",
    "plt.show()"
   ]
  },
  {
   "cell_type": "markdown",
   "metadata": {},
   "source": [
    "## different quantization parameters"
   ]
  },
  {
   "cell_type": "markdown",
   "metadata": {},
   "source": [
    "with a fixed $C$, we now change the number of quantization steps used to compute the histogram:"
   ]
  },
  {
   "cell_type": "code",
   "execution_count": null,
   "metadata": {
    "ExecuteTime": {
     "end_time": "2018-02-23T11:25:55.220136Z",
     "start_time": "2018-02-23T10:08:59.129347Z"
    },
    "scrolled": false
   },
   "outputs": [],
   "source": [
    "experiments.scan(variable='nb_quant', list_figures=[], display='')\n",
    "plt.show()\n",
    "fig, ax = experiments.scan(variable='nb_quant', list_figures=list_figures, display='final')\n",
    "plt.show()\n"
   ]
  },
  {
   "cell_type": "markdown",
   "metadata": {},
   "source": [
    "## Version used"
   ]
  },
  {
   "cell_type": "code",
   "execution_count": null,
   "metadata": {
    "ExecuteTime": {
     "end_time": "2018-02-23T11:25:55.314493Z",
     "start_time": "2018-02-23T11:25:55.223253Z"
    }
   },
   "outputs": [],
   "source": [
    "%load_ext version_information\n",
    "%version_information numpy, shl_scripts"
   ]
  }
 ],
 "metadata": {
  "kernelspec": {
   "display_name": "Python 3",
   "language": "python",
   "name": "python3"
  },
  "language_info": {
   "codemirror_mode": {
    "name": "ipython",
    "version": 3
   },
   "file_extension": ".py",
   "mimetype": "text/x-python",
   "name": "python",
   "nbconvert_exporter": "python",
   "pygments_lexer": "ipython3",
   "version": "3.6.4"
  },
  "toc": {
   "nav_menu": {
    "height": "81px",
    "width": "252px"
   },
   "number_sections": true,
   "sideBar": true,
   "skip_h1_title": false,
   "toc_cell": false,
   "toc_position": {},
   "toc_section_display": "block",
   "toc_window_display": false
  }
 },
 "nbformat": 4,
 "nbformat_minor": 2
}
