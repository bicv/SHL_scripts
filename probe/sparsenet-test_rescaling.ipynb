{
 "cells": [
  {
   "cell_type": "markdown",
   "metadata": {},
   "source": [
    "# Sparse Hebbian Learning with full homeostasis : testing different rescaling functions\n",
    "\n",
    "In this notebook, we test the convergence of SparseNet as a function of different parameters tuning the quantization. These parameters only influence the way we select dictionary elements and thus the homeostasis.\n",
    "\n"
   ]
  },
  {
   "cell_type": "code",
   "execution_count": 1,
   "metadata": {
    "ExecuteTime": {
     "end_time": "2018-05-11T09:14:07.153858Z",
     "start_time": "2018-05-11T09:14:07.142323Z"
    }
   },
   "outputs": [],
   "source": [
    "%load_ext autoreload\n",
    "%autoreload 2"
   ]
  },
  {
   "cell_type": "code",
   "execution_count": 2,
   "metadata": {
    "ExecuteTime": {
     "end_time": "2018-05-11T09:14:07.429460Z",
     "start_time": "2018-05-11T09:14:07.155323Z"
    }
   },
   "outputs": [],
   "source": [
    "%matplotlib inline\n",
    "import matplotlib.pyplot as plt\n",
    "import numpy as np\n",
    "np.set_printoptions(precision=2, suppress=True)"
   ]
  },
  {
   "cell_type": "code",
   "execution_count": 3,
   "metadata": {
    "ExecuteTime": {
     "end_time": "2018-05-11T09:14:07.581324Z",
     "start_time": "2018-05-11T09:14:07.430973Z"
    },
    "scrolled": false
   },
   "outputs": [
    {
     "name": "stdout",
     "output_type": "stream",
     "text": [
      "Extracting data..loading the data called : data_cache/data_data\n",
      "Data is of shape : (65520, 324) - done in 0.10s.\n"
     ]
    }
   ],
   "source": [
    "from shl_scripts.shl_experiments import SHL_set\n",
    "tag = 'rescaling'\n",
    "#opts = dict(homeo_method='HEH', eta_homeo=0.05, C=10., nb_quant=256, P_cum=None, verbose=1)\n",
    "#opts = dict(homeo_method='HEH', n_iter=513, record_each=32, eta_homeo=0.1, C=5., nb_quant=256, P_cum=None, verbose=1)\n",
    "opts = dict(homeo_method='HEH', verbose=1)\n",
    "\n",
    "experiments = SHL_set(opts, tag=tag)\n",
    "list_figures = []\n",
    "list_figures = ['show_dico', 'show_Pcum']\n",
    "display_variables = ['error', 'logL', 'qerror', 'aerror', 'MI', 'cputime']\n",
    "display_variables = ['error', 'MC', 'cputime']\n"
   ]
  },
  {
   "cell_type": "code",
   "execution_count": 4,
   "metadata": {
    "ExecuteTime": {
     "end_time": "2018-05-11T09:14:07.837860Z",
     "start_time": "2018-05-11T09:14:07.583009Z"
    }
   },
   "outputs": [
    {
     "name": "stdout",
     "output_type": "stream",
     "text": [
      "-rw-r--r--  1 laurentperrinet  staff  2405197 Apr 27 18:46 data_cache/rescaling - C=1.25000_dico.pkl\n",
      "-rw-r--r--  1 laurentperrinet  staff  2405197 Apr 27 20:27 data_cache/rescaling - C=1.98425_dico.pkl\n",
      "-rw-r--r--  1 laurentperrinet  staff  2405197 Apr 28 02:32 data_cache/rescaling - C=12.59921_dico.pkl\n",
      "-rw-r--r--  1 laurentperrinet  staff  2405197 Apr 28 03:54 data_cache/rescaling - C=20.00000_dico.pkl\n",
      "-rw-r--r--  1 laurentperrinet  staff  2405197 Apr 27 22:03 data_cache/rescaling - C=3.14980_dico.pkl\n",
      "-rw-r--r--  1 laurentperrinet  staff  2405197 Apr 27 23:40 data_cache/rescaling - C=5.00000_dico.pkl\n",
      "-rw-r--r--  1 laurentperrinet  staff  2405197 Apr 28 01:10 data_cache/rescaling - C=7.93701_dico.pkl\n",
      "-rw-r--r--  1 laurentperrinet  staff  1858300 Apr 28 06:30 data_cache/rescaling - nb_quant=101_dico.pkl\n",
      "-rw-r--r--  1 laurentperrinet  staff  5114646 Apr 28 13:03 data_cache/rescaling - nb_quant=1024_dico.pkl\n",
      "-rw-r--r--  1 laurentperrinet  staff  2069980 Apr 28 07:47 data_cache/rescaling - nb_quant=161_dico.pkl\n",
      "-rw-r--r--  1 laurentperrinet  staff  2405142 Apr 28 09:06 data_cache/rescaling - nb_quant=256_dico.pkl\n",
      "-rw-r--r--  1 laurentperrinet  staff  2934342 Apr 28 10:23 data_cache/rescaling - nb_quant=406_dico.pkl\n",
      "-rw-r--r--  1 laurentperrinet  staff  3777534 Apr 28 11:42 data_cache/rescaling - nb_quant=645_dico.pkl\n",
      "-rw-r--r--  1 laurentperrinet  staff  1727764 Apr 28 05:13 data_cache/rescaling - nb_quant=64_dico.pkl\n",
      "ls: data_cache/rescaling*lock*: No such file or directory\n"
     ]
    }
   ],
   "source": [
    "!ls -l {experiments.shl.data_cache}/{tag}*\n",
    "!ls -l {experiments.shl.data_cache}/{tag}*lock*"
   ]
  },
  {
   "cell_type": "raw",
   "metadata": {},
   "source": [
    "!rm -fr {experiments.shl.data_cache}/{tag}*\n",
    "!ls -l {experiments.shl.data_cache}/{tag}*"
   ]
  },
  {
   "cell_type": "markdown",
   "metadata": {},
   "source": [
    "## different rescaling values"
   ]
  },
  {
   "cell_type": "code",
   "execution_count": null,
   "metadata": {
    "ExecuteTime": {
     "start_time": "2018-05-11T09:14:07.144Z"
    },
    "scrolled": false
   },
   "outputs": [
    {
     "name": "stdout",
     "output_type": "stream",
     "text": [
      "No cache found data_cache/rescaling - C=0.50000_dico.pkl: Learning the dictionary with algo = mp \n",
      " Training on 65520 patches\n",
      "[dict_learning] Iteration   1 /   4097 (elapsed time:   1s,   0mn   1s)\n",
      "Iteration  129 /   4097 (elapsed time:  150s,   2mn  30s)\n",
      "Iteration  257 /   4097 (elapsed time:  298s,   4mn  58s)\n",
      "Iteration  385 /   4097 (elapsed time:  467s,   7mn  47s)\n",
      "Iteration  513 /   4097 (elapsed time:  630s,  10mn  30s)\n",
      "Iteration  641 /   4097 (elapsed time:  787s,  13mn   7s)\n",
      "Iteration  769 /   4097 (elapsed time:  940s,  15mn  40s)\n",
      "Iteration  897 /   4097 (elapsed time:  1088s,  18mn   8s)\n",
      "Iteration  1025 /   4097 (elapsed time:  1233s,  20mn  33s)\n",
      "Iteration  1153 /   4097 (elapsed time:  1380s,  23mn   0s)\n",
      "Iteration  1281 /   4097 (elapsed time:  1524s,  25mn  24s)\n",
      "Iteration  1409 /   4097 (elapsed time:  1669s,  27mn  49s)\n",
      "Iteration  1537 /   4097 (elapsed time:  1812s,  30mn  12s)\n",
      "Iteration  1665 /   4097 (elapsed time:  1958s,  32mn  38s)\n",
      "Iteration  1793 /   4097 (elapsed time:  2104s,  35mn   4s)\n",
      "Iteration  1921 /   4097 (elapsed time:  2249s,  37mn  29s)\n",
      "Iteration  2049 /   4097 (elapsed time:  2392s,  39mn  52s)\n"
     ]
    }
   ],
   "source": [
    "experiments.scan(variable='C', list_figures=list_figures, display='')\n",
    "plt.show()\n",
    "for display_variable in display_variables:\n",
    "    fig, ax = experiments.scan(variable='C', list_figures=[], display='final', display_variable=display_variable)\n",
    "    #plt.show()"
   ]
  },
  {
   "cell_type": "markdown",
   "metadata": {},
   "source": [
    "## different quantization parameters"
   ]
  },
  {
   "cell_type": "markdown",
   "metadata": {},
   "source": [
    "with a fixed $C$, we now change the number of quantization steps used to compute the histogram:"
   ]
  },
  {
   "cell_type": "code",
   "execution_count": null,
   "metadata": {
    "ExecuteTime": {
     "start_time": "2018-05-11T09:14:07.146Z"
    },
    "scrolled": false
   },
   "outputs": [],
   "source": [
    "experiments.scan(variable='nb_quant', list_figures=list_figures, display='')\n",
    "plt.show()\n",
    "for display_variable in display_variables:\n",
    "    fig, ax = experiments.scan(variable='nb_quant', list_figures=[], display='final', display_variable=display_variable)\n",
    "    #plt.show()"
   ]
  },
  {
   "cell_type": "markdown",
   "metadata": {},
   "source": [
    "## Version used"
   ]
  },
  {
   "cell_type": "code",
   "execution_count": null,
   "metadata": {
    "ExecuteTime": {
     "start_time": "2018-05-11T09:14:07.148Z"
    }
   },
   "outputs": [],
   "source": [
    "%load_ext version_information\n",
    "%version_information numpy, shl_scripts"
   ]
  }
 ],
 "metadata": {
  "kernelspec": {
   "display_name": "Python 3",
   "language": "python",
   "name": "python3"
  },
  "language_info": {
   "codemirror_mode": {
    "name": "ipython",
    "version": 3
   },
   "file_extension": ".py",
   "mimetype": "text/x-python",
   "name": "python",
   "nbconvert_exporter": "python",
   "pygments_lexer": "ipython3",
   "version": "3.6.5"
  },
  "toc": {
   "base_numbering": 1,
   "nav_menu": {
    "height": "81px",
    "width": "252px"
   },
   "number_sections": true,
   "sideBar": true,
   "skip_h1_title": false,
   "title_cell": "Table of Contents",
   "title_sidebar": "Contents",
   "toc_cell": false,
   "toc_position": {},
   "toc_section_display": "block",
   "toc_window_display": false
  }
 },
 "nbformat": 4,
 "nbformat_minor": 2
}
