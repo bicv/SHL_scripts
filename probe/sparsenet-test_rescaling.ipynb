{
 "cells": [
  {
   "cell_type": "markdown",
   "metadata": {},
   "source": [
    "# Sparse Hebbian Learning with full homeostasis : testing different rescaling functions\n",
    "\n",
    "In this notebook, we test the convergence of SparseNet as a function of different parameters tuning the quantization. These parameters only influence the way we select dictionary elements and thus the homeostasis.\n",
    "\n"
   ]
  },
  {
   "cell_type": "code",
   "execution_count": 11,
   "metadata": {
    "ExecuteTime": {
     "end_time": "2018-02-20T15:56:50.302856Z",
     "start_time": "2018-02-20T15:56:50.273897Z"
    }
   },
   "outputs": [
    {
     "name": "stdout",
     "output_type": "stream",
     "text": [
      "The autoreload extension is already loaded. To reload it, use:\n",
      "  %reload_ext autoreload\n"
     ]
    }
   ],
   "source": [
    "%load_ext autoreload\n",
    "%autoreload 2"
   ]
  },
  {
   "cell_type": "code",
   "execution_count": 12,
   "metadata": {
    "ExecuteTime": {
     "end_time": "2018-02-20T15:56:51.088443Z",
     "start_time": "2018-02-20T15:56:50.306314Z"
    }
   },
   "outputs": [],
   "source": [
    "%matplotlib inline\n",
    "import matplotlib.pyplot as plt\n",
    "import numpy as np\n",
    "np.set_printoptions(precision=2, suppress=True)"
   ]
  },
  {
   "cell_type": "code",
   "execution_count": 13,
   "metadata": {
    "ExecuteTime": {
     "end_time": "2018-02-20T15:56:51.261442Z",
     "start_time": "2018-02-20T15:56:51.091130Z"
    },
    "scrolled": false
   },
   "outputs": [
    {
     "name": "stdout",
     "output_type": "stream",
     "text": [
      "Extracting data..loading the data called : data_cache/data_data\n",
      "Data is of shape : (81920, 256) - done in 0.14s.\n"
     ]
    }
   ],
   "source": [
    "from shl_scripts.shl_experiments import SHL_set\n",
    "tag = 'rescaling'\n",
    "opts = dict(homeo_method='HEH', eta_homeo=0.05, C=10., nb_quant=256, P_cum=None, verbose=1)\n",
    "experiments = SHL_set(opts, tag=tag)\n",
    "list_figures = []\n",
    "list_figures = ['show_dico', 'show_Pcum']"
   ]
  },
  {
   "cell_type": "code",
   "execution_count": 14,
   "metadata": {
    "ExecuteTime": {
     "end_time": "2018-02-20T15:56:51.422178Z",
     "start_time": "2018-02-20T15:56:51.264371Z"
    }
   },
   "outputs": [
    {
     "name": "stdout",
     "output_type": "stream",
     "text": [
      "ls: data_cache/rescaling*: No such file or directory\n"
     ]
    }
   ],
   "source": [
    "!ls -l {experiments.shl.data_cache}/{tag}*"
   ]
  },
  {
   "cell_type": "raw",
   "metadata": {
    "ExecuteTime": {
     "end_time": "2018-01-31T10:24:11.679235Z",
     "start_time": "2018-01-31T10:24:11.503367Z"
    }
   },
   "source": [
    "!rm -fr {experiments.shl.data_cache}/{tag}*\n",
    "!ls -l {experiments.shl.data_cache}"
   ]
  },
  {
   "cell_type": "markdown",
   "metadata": {},
   "source": [
    "## different rescaling values"
   ]
  },
  {
   "cell_type": "code",
   "execution_count": null,
   "metadata": {
    "ExecuteTime": {
     "end_time": "2018-02-21T00:50:30.594155Z",
     "start_time": "2018-02-20T15:56:51.425879Z"
    },
    "scrolled": false
   },
   "outputs": [
    {
     "name": "stdout",
     "output_type": "stream",
     "text": [
      "No cache found data_cache/rescaling - C=2.5_dico.pkl: Learning the dictionary with algo = mp \n",
      " Training on 81920 patches... [dict_learning] Iteration   1 /   8193 (elapsed time:   1s,   0mn   1s)\n",
      "Iteration  129 /   8193 (elapsed time:  143s,   2mn  23s)\n",
      "Iteration  257 /   8193 (elapsed time:  282s,   4mn  42s)\n",
      "Iteration  385 /   8193 (elapsed time:  420s,   7mn   0s)\n",
      "Iteration  513 /   8193 (elapsed time:  561s,   9mn  21s)\n",
      "Iteration  641 /   8193 (elapsed time:  702s,  11mn  42s)\n",
      "Iteration  769 /   8193 (elapsed time:  837s,  13mn  57s)\n",
      "Iteration  897 /   8193 (elapsed time:  972s,  16mn  12s)\n",
      "Iteration  1025 /   8193 (elapsed time:  1106s,  18mn  26s)\n",
      "Iteration  1153 /   8193 (elapsed time:  1239s,  20mn  39s)\n",
      "Iteration  1281 /   8193 (elapsed time:  1376s,  22mn  56s)\n",
      "Iteration  1409 /   8193 (elapsed time:  1515s,  25mn  15s)\n",
      "Iteration  1537 /   8193 (elapsed time:  1657s,  27mn  37s)\n",
      "Iteration  1665 /   8193 (elapsed time:  1792s,  29mn  52s)\n",
      "Iteration  1793 /   8193 (elapsed time:  1929s,  32mn   9s)\n",
      "Iteration  1921 /   8193 (elapsed time:  2079s,  34mn  39s)\n",
      "Iteration  2049 /   8193 (elapsed time:  2217s,  36mn  57s)\n",
      "Iteration  2177 /   8193 (elapsed time:  2347s,  39mn   7s)\n",
      "Iteration  2305 /   8193 (elapsed time:  2483s,  41mn  23s)\n",
      "Iteration  2433 /   8193 (elapsed time:  2615s,  43mn  35s)\n",
      "Iteration  2561 /   8193 (elapsed time:  2747s,  45mn  47s)\n",
      "Iteration  2689 /   8193 (elapsed time:  2886s,  48mn   6s)\n",
      "Iteration  2817 /   8193 (elapsed time:  3021s,  50mn  21s)\n",
      "Iteration  2945 /   8193 (elapsed time:  3151s,  52mn  31s)\n",
      "Iteration  3073 /   8193 (elapsed time:  3283s,  54mn  43s)\n",
      "Iteration  3201 /   8193 (elapsed time:  3417s,  56mn  57s)\n",
      "Iteration  3329 /   8193 (elapsed time:  3546s,  59mn   6s)\n",
      "Iteration  3457 /   8193 (elapsed time:  3675s,  61mn  15s)\n",
      "Iteration  3585 /   8193 (elapsed time:  3805s,  63mn  25s)\n",
      "Iteration  3713 /   8193 (elapsed time:  3935s,  65mn  35s)\n",
      "Iteration  3841 /   8193 (elapsed time:  4065s,  67mn  45s)\n",
      "Iteration  3969 /   8193 (elapsed time:  4192s,  69mn  52s)\n",
      "Iteration  4097 /   8193 (elapsed time:  4321s,  72mn   1s)\n",
      "Iteration  4225 /   8193 (elapsed time:  4450s,  74mn  10s)\n",
      "Iteration  4353 /   8193 (elapsed time:  4579s,  76mn  19s)\n",
      "Iteration  4481 /   8193 (elapsed time:  4710s,  78mn  30s)\n",
      "Iteration  4609 /   8193 (elapsed time:  4841s,  80mn  41s)\n",
      "Iteration  4737 /   8193 (elapsed time:  4970s,  82mn  50s)\n",
      "Iteration  4865 /   8193 (elapsed time:  5098s,  84mn  58s)\n",
      "Iteration  4993 /   8193 (elapsed time:  5226s,  87mn   6s)\n",
      "Iteration  5121 /   8193 (elapsed time:  5357s,  89mn  17s)\n",
      "Iteration  5249 /   8193 (elapsed time:  5488s,  91mn  28s)\n",
      "Iteration  5377 /   8193 (elapsed time:  5616s,  93mn  36s)\n",
      "Iteration  5505 /   8193 (elapsed time:  5744s,  95mn  44s)\n",
      "Iteration  5633 /   8193 (elapsed time:  5873s,  97mn  53s)\n",
      "Iteration  5761 /   8193 (elapsed time:  6002s,  100mn   2s)\n",
      "Iteration  5889 /   8193 (elapsed time:  6132s,  102mn  12s)\n",
      "Iteration  6017 /   8193 (elapsed time:  6261s,  104mn  21s)\n",
      "Iteration  6145 /   8193 (elapsed time:  6389s,  106mn  29s)\n",
      "Iteration  6273 /   8193 (elapsed time:  6516s,  108mn  36s)\n",
      "Iteration  6401 /   8193 (elapsed time:  6647s,  110mn  47s)\n",
      "Iteration  6529 /   8193 (elapsed time:  6774s,  112mn  54s)\n",
      "Iteration  6657 /   8193 (elapsed time:  6901s,  115mn   1s)\n",
      "Iteration  6785 /   8193 (elapsed time:  7029s,  117mn   9s)\n",
      "Iteration  6913 /   8193 (elapsed time:  7157s,  119mn  17s)\n",
      "Iteration  7041 /   8193 (elapsed time:  7283s,  121mn  23s)\n",
      "Iteration  7169 /   8193 (elapsed time:  7411s,  123mn  31s)\n",
      "Iteration  7297 /   8193 (elapsed time:  7541s,  125mn  41s)\n",
      "Iteration  7425 /   8193 (elapsed time:  7669s,  127mn  49s)\n",
      "Iteration  7553 /   8193 (elapsed time:  7796s,  129mn  56s)\n",
      "Iteration  7681 /   8193 (elapsed time:  7924s,  132mn   4s)\n",
      "Iteration  7809 /   8193 (elapsed time:  8050s,  134mn  10s)\n",
      "Iteration  7937 /   8193 (elapsed time:  8178s,  136mn  18s)\n",
      "Iteration  8065 /   8193 (elapsed time:  8307s,  138mn  27s)\n",
      "Iteration  8193 /   8193 (elapsed time:  8435s,  140mn  35s)\n",
      "done in 8437.50s.\n",
      "No cache found data_cache/rescaling - C=3.9685026299204984_dico.pkl: Learning the dictionary with algo = mp \n",
      " Training on 81920 patches... [dict_learning] Iteration   1 /   8193 (elapsed time:   1s,   0mn   1s)\n",
      "Iteration  129 /   8193 (elapsed time:  129s,   2mn   9s)\n",
      "Iteration  257 /   8193 (elapsed time:  256s,   4mn  16s)\n",
      "Iteration  385 /   8193 (elapsed time:  385s,   6mn  25s)\n",
      "Iteration  513 /   8193 (elapsed time:  512s,   8mn  32s)\n",
      "Iteration  641 /   8193 (elapsed time:  639s,  10mn  39s)\n",
      "Iteration  769 /   8193 (elapsed time:  768s,  12mn  48s)\n",
      "Iteration  897 /   8193 (elapsed time:  893s,  14mn  53s)\n",
      "Iteration  1025 /   8193 (elapsed time:  1021s,  17mn   1s)\n",
      "Iteration  1153 /   8193 (elapsed time:  1149s,  19mn   9s)\n",
      "Iteration  1281 /   8193 (elapsed time:  1274s,  21mn  14s)\n",
      "Iteration  1409 /   8193 (elapsed time:  1402s,  23mn  22s)\n",
      "Iteration  1537 /   8193 (elapsed time:  1529s,  25mn  29s)\n",
      "Iteration  1665 /   8193 (elapsed time:  1657s,  27mn  37s)\n",
      "Iteration  1793 /   8193 (elapsed time:  1781s,  29mn  41s)\n",
      "Iteration  1921 /   8193 (elapsed time:  1910s,  31mn  50s)\n",
      "Iteration  2049 /   8193 (elapsed time:  2036s,  33mn  56s)\n",
      "Iteration  2177 /   8193 (elapsed time:  2164s,  36mn   4s)\n",
      "Iteration  2305 /   8193 (elapsed time:  2294s,  38mn  14s)\n",
      "Iteration  2433 /   8193 (elapsed time:  2421s,  40mn  21s)\n",
      "Iteration  2561 /   8193 (elapsed time:  2547s,  42mn  27s)\n",
      "Iteration  2689 /   8193 (elapsed time:  2674s,  44mn  34s)\n",
      "Iteration  2817 /   8193 (elapsed time:  2804s,  46mn  44s)\n",
      "Iteration  2945 /   8193 (elapsed time:  2933s,  48mn  53s)\n",
      "Iteration  3073 /   8193 (elapsed time:  3063s,  51mn   3s)\n",
      "Iteration  3201 /   8193 (elapsed time:  3194s,  53mn  14s)\n",
      "Iteration  3329 /   8193 (elapsed time:  3323s,  55mn  23s)\n",
      "Iteration  3457 /   8193 (elapsed time:  3450s,  57mn  30s)\n",
      "Iteration  3585 /   8193 (elapsed time:  3580s,  59mn  40s)\n",
      "Iteration  3713 /   8193 (elapsed time:  3713s,  61mn  53s)\n",
      "Iteration  3841 /   8193 (elapsed time:  3844s,  64mn   4s)\n",
      "Iteration  3969 /   8193 (elapsed time:  3973s,  66mn  13s)\n",
      "Iteration  4097 /   8193 (elapsed time:  4100s,  68mn  20s)\n",
      "Iteration  4225 /   8193 (elapsed time:  4232s,  70mn  32s)\n",
      "Iteration  4353 /   8193 (elapsed time:  4361s,  72mn  41s)\n",
      "Iteration  4481 /   8193 (elapsed time:  4486s,  74mn  46s)\n",
      "Iteration  4609 /   8193 (elapsed time:  4613s,  76mn  53s)\n",
      "Iteration  4737 /   8193 (elapsed time:  4739s,  78mn  59s)\n",
      "Iteration  4865 /   8193 (elapsed time:  4865s,  81mn   5s)\n",
      "Iteration  4993 /   8193 (elapsed time:  4991s,  83mn  11s)\n",
      "Iteration  5121 /   8193 (elapsed time:  5116s,  85mn  16s)\n",
      "Iteration  5249 /   8193 (elapsed time:  5243s,  87mn  23s)\n",
      "Iteration  5377 /   8193 (elapsed time:  5371s,  89mn  31s)\n",
      "Iteration  5505 /   8193 (elapsed time:  5499s,  91mn  39s)\n",
      "Iteration  5633 /   8193 (elapsed time:  5625s,  93mn  45s)\n",
      "Iteration  5761 /   8193 (elapsed time:  5756s,  95mn  56s)\n",
      "Iteration  5889 /   8193 (elapsed time:  5887s,  98mn   7s)\n",
      "Iteration  6017 /   8193 (elapsed time:  6017s,  100mn  17s)\n",
      "Iteration  6145 /   8193 (elapsed time:  6147s,  102mn  27s)\n",
      "Iteration  6273 /   8193 (elapsed time:  6284s,  104mn  44s)\n",
      "Iteration  6401 /   8193 (elapsed time:  6421s,  107mn   1s)\n",
      "Iteration  6529 /   8193 (elapsed time:  6558s,  109mn  18s)\n",
      "Iteration  6657 /   8193 (elapsed time:  6697s,  111mn  37s)\n",
      "Iteration  6785 /   8193 (elapsed time:  6838s,  113mn  58s)\n",
      "Iteration  6913 /   8193 (elapsed time:  6980s,  116mn  20s)\n",
      "Iteration  7041 /   8193 (elapsed time:  7121s,  118mn  41s)\n",
      "Iteration  7169 /   8193 (elapsed time:  7272s,  121mn  12s)\n",
      "Iteration  7297 /   8193 (elapsed time:  7408s,  123mn  28s)\n",
      "Iteration  7425 /   8193 (elapsed time:  7548s,  125mn  48s)\n",
      "Iteration  7553 /   8193 (elapsed time:  7692s,  128mn  12s)\n",
      "Iteration  7681 /   8193 (elapsed time:  7831s,  130mn  31s)\n",
      "Iteration  7809 /   8193 (elapsed time:  7970s,  132mn  50s)\n",
      "Iteration  7937 /   8193 (elapsed time:  8101s,  135mn   1s)\n",
      "Iteration  8065 /   8193 (elapsed time:  8240s,  137mn  20s)\n",
      "Iteration  8193 /   8193 (elapsed time:  8368s,  139mn  28s)\n",
      "done in 8369.89s.\n",
      "No cache found data_cache/rescaling - C=6.299605249474366_dico.pkl: Learning the dictionary with algo = mp \n",
      " Training on 81920 patches... [dict_learning] Iteration   1 /   8193 (elapsed time:   1s,   0mn   1s)\n",
      "Iteration  129 /   8193 (elapsed time:  132s,   2mn  12s)\n",
      "Iteration  257 /   8193 (elapsed time:  264s,   4mn  24s)\n",
      "Iteration  385 /   8193 (elapsed time:  396s,   6mn  36s)\n",
      "Iteration  513 /   8193 (elapsed time:  530s,   8mn  50s)\n",
      "Iteration  641 /   8193 (elapsed time:  693s,  11mn  33s)\n",
      "Iteration  769 /   8193 (elapsed time:  843s,  14mn   3s)\n",
      "Iteration  897 /   8193 (elapsed time:  987s,  16mn  27s)\n",
      "Iteration  1025 /   8193 (elapsed time:  1173s,  19mn  33s)\n",
      "Iteration  1153 /   8193 (elapsed time:  1376s,  22mn  56s)\n",
      "Iteration  1281 /   8193 (elapsed time:  1536s,  25mn  36s)\n",
      "Iteration  1409 /   8193 (elapsed time:  1686s,  28mn   6s)\n",
      "Iteration  1537 /   8193 (elapsed time:  1840s,  30mn  40s)\n",
      "Iteration  1665 /   8193 (elapsed time:  1996s,  33mn  16s)\n",
      "Iteration  1793 /   8193 (elapsed time:  2157s,  35mn  57s)\n",
      "Iteration  1921 /   8193 (elapsed time:  2334s,  38mn  54s)\n",
      "Iteration  2049 /   8193 (elapsed time:  2531s,  42mn  11s)\n",
      "Iteration  2177 /   8193 (elapsed time:  2770s,  46mn  10s)\n",
      "Iteration  2305 /   8193 (elapsed time:  3001s,  50mn   1s)\n",
      "Iteration  2433 /   8193 (elapsed time:  3246s,  54mn   6s)\n",
      "Iteration  2561 /   8193 (elapsed time:  3497s,  58mn  17s)\n",
      "Iteration  2689 /   8193 (elapsed time:  3765s,  62mn  45s)\n",
      "Iteration  2817 /   8193 (elapsed time:  4018s,  66mn  58s)\n",
      "Iteration  2945 /   8193 (elapsed time:  4282s,  71mn  22s)\n",
      "Iteration  3073 /   8193 (elapsed time:  4586s,  76mn  26s)\n",
      "Iteration  3201 /   8193 (elapsed time:  4865s,  81mn   5s)\n",
      "Iteration  3329 /   8193 (elapsed time:  5187s,  86mn  27s)\n",
      "Iteration  3457 /   8193 (elapsed time:  5508s,  91mn  48s)\n",
      "Iteration  3585 /   8193 (elapsed time:  5827s,  97mn   7s)\n",
      "Iteration  3713 /   8193 (elapsed time:  6147s,  102mn  27s)\n",
      "Iteration  3841 /   8193 (elapsed time:  6476s,  107mn  56s)\n",
      "Iteration  3969 /   8193 (elapsed time:  6811s,  113mn  31s)\n",
      "Iteration  4097 /   8193 (elapsed time:  7145s,  119mn   5s)\n",
      "Iteration  4225 /   8193 (elapsed time:  7480s,  124mn  40s)\n",
      "Iteration  4353 /   8193 (elapsed time:  7820s,  130mn  20s)\n",
      "Iteration  4481 /   8193 (elapsed time:  8157s,  135mn  57s)\n",
      "Iteration  4609 /   8193 (elapsed time:  8497s,  141mn  37s)\n",
      "Iteration  4737 /   8193 (elapsed time:  8821s,  147mn   1s)\n",
      "Iteration  4865 /   8193 (elapsed time:  9141s,  152mn  21s)\n",
      "Iteration  4993 /   8193 (elapsed time:  9461s,  157mn  41s)\n",
      "Iteration  5121 /   8193 (elapsed time:  9780s,  163mn   0s)\n",
      "Iteration  5249 /   8193 (elapsed time:  10102s,  168mn  22s)\n",
      "Iteration  5377 /   8193 (elapsed time:  10424s,  173mn  44s)\n",
      "Iteration  5505 /   8193 (elapsed time:  10716s,  178mn  36s)\n",
      "Iteration  5633 /   8193 (elapsed time:  11021s,  183mn  41s)\n",
      "Iteration  5761 /   8193 (elapsed time:  11348s,  189mn   8s)\n",
      "Iteration  5889 /   8193 (elapsed time:  11682s,  194mn  42s)\n",
      "Iteration  6017 /   8193 (elapsed time:  12011s,  200mn  11s)\n",
      "Iteration  6145 /   8193 (elapsed time:  12344s,  205mn  44s)\n",
      "Iteration  6273 /   8193 (elapsed time:  12673s,  211mn  13s)\n",
      "Iteration  6401 /   8193 (elapsed time:  13000s,  216mn  40s)\n",
      "Iteration  6529 /   8193 (elapsed time:  13327s,  222mn   7s)\n",
      "Iteration  6657 /   8193 (elapsed time:  13654s,  227mn  34s)\n",
      "Iteration  6785 /   8193 (elapsed time:  13982s,  233mn   2s)\n",
      "Iteration  6913 /   8193 (elapsed time:  14314s,  238mn  34s)\n",
      "Iteration  7041 /   8193 (elapsed time:  14647s,  244mn   7s)\n",
      "Iteration  7169 /   8193 (elapsed time:  14977s,  249mn  37s)\n",
      "Iteration  7297 /   8193 (elapsed time:  15312s,  255mn  12s)\n",
      "Iteration  7425 /   8193 (elapsed time:  15646s,  260mn  46s)\n",
      "Iteration  7553 /   8193 (elapsed time:  15943s,  265mn  43s)\n",
      "Iteration  7681 /   8193 (elapsed time:  16220s,  270mn  20s)\n",
      "Iteration  7809 /   8193 (elapsed time:  16508s,  275mn   8s)\n",
      "Iteration  7937 /   8193 (elapsed time:  16769s,  279mn  29s)\n",
      "Iteration  8065 /   8193 (elapsed time:  17031s,  283mn  51s)\n",
      "Iteration  8193 /   8193 (elapsed time:  17303s,  288mn  23s)\n",
      "done in 17306.72s.\n",
      "No cache found data_cache/rescaling - C=10.0_dico.pkl: Learning the dictionary with algo = mp \n",
      " Training on 81920 patches... [dict_learning] Iteration   1 /   8193 (elapsed time:   3s,   0mn   3s)\n",
      "Iteration  129 /   8193 (elapsed time:  274s,   4mn  34s)\n",
      "Iteration  257 /   8193 (elapsed time:  542s,   9mn   2s)\n",
      "Iteration  385 /   8193 (elapsed time:  811s,  13mn  31s)\n",
      "Iteration  513 /   8193 (elapsed time:  1070s,  17mn  50s)\n",
      "Iteration  641 /   8193 (elapsed time:  1325s,  22mn   5s)\n",
      "Iteration  769 /   8193 (elapsed time:  1580s,  26mn  20s)\n",
      "Iteration  897 /   8193 (elapsed time:  1828s,  30mn  28s)\n",
      "Iteration  1025 /   8193 (elapsed time:  2061s,  34mn  21s)\n",
      "Iteration  1153 /   8193 (elapsed time:  2274s,  37mn  54s)\n",
      "Iteration  1281 /   8193 (elapsed time:  2491s,  41mn  31s)\n",
      "Iteration  1409 /   8193 (elapsed time:  2713s,  45mn  13s)\n",
      "Iteration  1537 /   8193 (elapsed time:  2945s,  49mn   5s)\n",
      "Iteration  1665 /   8193 (elapsed time:  3182s,  53mn   2s)\n",
      "Iteration  1793 /   8193 (elapsed time:  3429s,  57mn   9s)\n",
      "Iteration  1921 /   8193 (elapsed time:  3678s,  61mn  18s)\n",
      "Iteration  2049 /   8193 (elapsed time:  3914s,  65mn  14s)\n",
      "Iteration  2177 /   8193 (elapsed time:  4142s,  69mn   2s)\n",
      "Iteration  2305 /   8193 (elapsed time:  4374s,  72mn  54s)\n",
      "Iteration  2433 /   8193 (elapsed time:  4537s,  75mn  37s)\n",
      "Iteration  2561 /   8193 (elapsed time:  4692s,  78mn  12s)\n",
      "Iteration  2689 /   8193 (elapsed time:  4860s,  81mn   0s)\n",
      "Iteration  2817 /   8193 (elapsed time:  5026s,  83mn  46s)\n",
      "Iteration  2945 /   8193 (elapsed time:  5185s,  86mn  25s)\n",
      "Iteration  3073 /   8193 (elapsed time:  5342s,  89mn   2s)\n",
      "Iteration  3201 /   8193 (elapsed time:  5490s,  91mn  30s)\n",
      "Iteration  3329 /   8193 (elapsed time:  5633s,  93mn  53s)\n",
      "Iteration  3457 /   8193 (elapsed time:  5784s,  96mn  24s)\n",
      "Iteration  3585 /   8193 (elapsed time:  5935s,  98mn  55s)\n",
      "Iteration  3713 /   8193 (elapsed time:  6100s,  101mn  40s)\n",
      "Iteration  3841 /   8193 (elapsed time:  6266s,  104mn  26s)\n",
      "Iteration  3969 /   8193 (elapsed time:  6433s,  107mn  13s)\n",
      "Iteration  4097 /   8193 (elapsed time:  6590s,  109mn  50s)\n",
      "Iteration  4225 /   8193 (elapsed time:  6737s,  112mn  17s)\n",
      "Iteration  4353 /   8193 (elapsed time:  6896s,  114mn  56s)\n",
      "Iteration  4481 /   8193 (elapsed time:  7064s,  117mn  44s)\n",
      "Iteration  4609 /   8193 (elapsed time:  7225s,  120mn  25s)\n",
      "Iteration  4737 /   8193 (elapsed time:  7384s,  123mn   4s)\n",
      "Iteration  4865 /   8193 (elapsed time:  7542s,  125mn  42s)\n",
      "Iteration  4993 /   8193 (elapsed time:  7713s,  128mn  33s)\n",
      "Iteration  5121 /   8193 (elapsed time:  7879s,  131mn  19s)\n",
      "Iteration  5249 /   8193 (elapsed time:  8051s,  134mn  11s)\n",
      "Iteration  5377 /   8193 (elapsed time:  8204s,  136mn  44s)\n",
      "Iteration  5505 /   8193 (elapsed time:  8358s,  139mn  18s)\n",
      "Iteration  5633 /   8193 (elapsed time:  8512s,  141mn  52s)\n",
      "Iteration  5761 /   8193 (elapsed time:  8671s,  144mn  31s)\n",
      "Iteration  5889 /   8193 (elapsed time:  8825s,  147mn   5s)\n",
      "Iteration  6017 /   8193 (elapsed time:  8986s,  149mn  46s)\n",
      "Iteration  6145 /   8193 (elapsed time:  9137s,  152mn  17s)\n",
      "Iteration  6273 /   8193 (elapsed time:  9292s,  154mn  52s)\n",
      "Iteration  6401 /   8193 (elapsed time:  9437s,  157mn  17s)\n",
      "Iteration  6529 /   8193 (elapsed time:  9589s,  159mn  49s)\n"
     ]
    }
   ],
   "source": [
    "experiments.scan(variable='C', list_figures=[], display='')\n",
    "fig, ax = experiments.scan(variable='C', list_figures=list_figures, display='final')"
   ]
  },
  {
   "cell_type": "markdown",
   "metadata": {},
   "source": [
    "## different quantization parameters"
   ]
  },
  {
   "cell_type": "markdown",
   "metadata": {},
   "source": [
    "with a fixed $C$, we now change the number of quantization steps used to compute the histogram:"
   ]
  },
  {
   "cell_type": "code",
   "execution_count": null,
   "metadata": {
    "ExecuteTime": {
     "start_time": "2018-02-20T15:56:50.371Z"
    }
   },
   "outputs": [],
   "source": [
    "experiments.scan(variable='nb_quant', list_figures=[], display='')\n",
    "fig, ax = experiments.scan(variable='nb_quant', list_figures=list_figures, display='final')"
   ]
  },
  {
   "cell_type": "markdown",
   "metadata": {},
   "source": [
    "## Version used"
   ]
  },
  {
   "cell_type": "code",
   "execution_count": null,
   "metadata": {
    "ExecuteTime": {
     "start_time": "2018-02-20T15:56:50.376Z"
    }
   },
   "outputs": [],
   "source": [
    "%load_ext version_information\n",
    "%version_information numpy, shl_scripts"
   ]
  }
 ],
 "metadata": {
  "kernelspec": {
   "display_name": "Python 3",
   "language": "python",
   "name": "python3"
  },
  "language_info": {
   "codemirror_mode": {
    "name": "ipython",
    "version": 3
   },
   "file_extension": ".py",
   "mimetype": "text/x-python",
   "name": "python",
   "nbconvert_exporter": "python",
   "pygments_lexer": "ipython3",
   "version": "3.6.4"
  },
  "toc": {
   "nav_menu": {
    "height": "81px",
    "width": "252px"
   },
   "number_sections": true,
   "sideBar": true,
   "skip_h1_title": false,
   "toc_cell": false,
   "toc_position": {},
   "toc_section_display": "block",
   "toc_window_display": false
  }
 },
 "nbformat": 4,
 "nbformat_minor": 2
}
