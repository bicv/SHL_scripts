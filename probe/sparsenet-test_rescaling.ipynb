{
 "cells": [
  {
   "cell_type": "markdown",
   "metadata": {},
   "source": [
    "# Sparse Hebbian Learning with full homeostasis : testing different rescaling functions\n",
    "\n",
    "In this notebook, we test the convergence of SparseNet as a function of different parameters tuning the quantization. These parameters only influence the way we select dictionary elements and thus the homeostasis.\n",
    "\n"
   ]
  },
  {
   "cell_type": "code",
   "execution_count": 1,
   "metadata": {
    "ExecuteTime": {
     "end_time": "2018-09-07T13:21:32.836493Z",
     "start_time": "2018-09-07T13:21:32.810595Z"
    }
   },
   "outputs": [],
   "source": [
    "%load_ext autoreload\n",
    "%autoreload 2"
   ]
  },
  {
   "cell_type": "code",
   "execution_count": 2,
   "metadata": {
    "ExecuteTime": {
     "end_time": "2018-09-07T13:21:33.434988Z",
     "start_time": "2018-09-07T13:21:32.840412Z"
    }
   },
   "outputs": [],
   "source": [
    "%matplotlib inline\n",
    "import matplotlib.pyplot as plt\n",
    "import numpy as np\n",
    "np.set_printoptions(precision=2, suppress=True)"
   ]
  },
  {
   "cell_type": "code",
   "execution_count": 3,
   "metadata": {
    "ExecuteTime": {
     "end_time": "2018-09-07T13:21:33.535405Z",
     "start_time": "2018-09-07T13:21:33.439295Z"
    },
    "scrolled": false
   },
   "outputs": [],
   "source": [
    "from shl_scripts.shl_experiments import SHL_set\n",
    "tag = 'rescaling'\n",
    "\n",
    "list_figures = []\n",
    "list_figures = ['show_dico', 'show_Pcum']\n",
    "list_figures = ['show_Pcum']\n",
    "display_variables = ['error', 'logL', 'qerror', 'aerror', 'MI', 'cputime']\n",
    "display_variables = ['error', 'logL', 'perror', 'MC', 'cputime']"
   ]
  },
  {
   "cell_type": "code",
   "execution_count": 4,
   "metadata": {
    "ExecuteTime": {
     "end_time": "2018-09-07T13:21:33.827112Z",
     "start_time": "2018-09-07T13:21:33.539674Z"
    }
   },
   "outputs": [
    {
     "name": "stdout",
     "output_type": "stream",
     "text": [
      "ls: {experiments.shl.data_cache}/{tag}*: No such file or directory\n",
      "ls: {experiments.shl.data_cache}/{tag}*lock*: No such file or directory\n"
     ]
    }
   ],
   "source": [
    "!ls -l {experiments.shl.cache_dir}/{tag}*\n",
    "!ls -l {experiments.shl.cache_dir}/{tag}*lock*"
   ]
  },
  {
   "cell_type": "raw",
   "metadata": {},
   "source": [
    "!rm -fr {experiments.shl.cache_dir}/{tag}*\n",
    "!ls -l {experiments.shl.cache_dir}/{tag}*"
   ]
  },
  {
   "cell_type": "markdown",
   "metadata": {},
   "source": [
    "## different rescaling values"
   ]
  },
  {
   "cell_type": "code",
   "execution_count": null,
   "metadata": {
    "ExecuteTime": {
     "start_time": "2018-09-07T13:21:32.817Z"
    },
    "scrolled": false
   },
   "outputs": [
    {
     "name": "stdout",
     "output_type": "stream",
     "text": [
      "Extracting data..loading the data called : cache_dir/data_data\n",
      "Data is of shape : (65520, 324) - done in 0.17s.\n",
      "No cache found cache_dir/rescaling - C=0.75000_dico.pkl: Learning the dictionary with algo = mp \n",
      " Training on 65520 patches\n",
      "[dict_learning] Iteration   1 /   1025 (elapsed time:   1s,   0mn   1s)\n",
      "Iteration  33 /   1025 (elapsed time:  56s,   0mn  56s)\n",
      "Iteration  65 /   1025 (elapsed time:  111s,   1mn  51s)\n",
      "Iteration  97 /   1025 (elapsed time:  165s,   2mn  45s)\n",
      "Iteration  129 /   1025 (elapsed time:  220s,   3mn  40s)\n",
      "Iteration  161 /   1025 (elapsed time:  275s,   4mn  35s)\n",
      "Iteration  193 /   1025 (elapsed time:  331s,   5mn  31s)\n",
      "Iteration  225 /   1025 (elapsed time:  387s,   6mn  27s)\n",
      "Iteration  257 /   1025 (elapsed time:  442s,   7mn  22s)\n",
      "Iteration  289 /   1025 (elapsed time:  498s,   8mn  18s)\n",
      "Iteration  321 /   1025 (elapsed time:  553s,   9mn  13s)\n",
      "Iteration  353 /   1025 (elapsed time:  607s,  10mn   7s)\n",
      "Iteration  385 /   1025 (elapsed time:  661s,  11mn   1s)\n",
      "Iteration  417 /   1025 (elapsed time:  715s,  11mn  55s)\n",
      "Iteration  449 /   1025 (elapsed time:  772s,  12mn  52s)\n",
      "Iteration  481 /   1025 (elapsed time:  837s,  13mn  57s)\n",
      "Iteration  513 /   1025 (elapsed time:  905s,  15mn   5s)\n",
      "Iteration  545 /   1025 (elapsed time:  973s,  16mn  13s)\n",
      "Iteration  577 /   1025 (elapsed time:  1042s,  17mn  22s)\n",
      "Iteration  609 /   1025 (elapsed time:  1112s,  18mn  32s)\n",
      "Iteration  641 /   1025 (elapsed time:  1181s,  19mn  41s)\n"
     ]
    }
   ],
   "source": [
    "opts = dict(homeo_method='HEH', verbose=1)\n",
    "experiments = SHL_set(opts, tag=tag)\n",
    "\n",
    "experiments.scan(variable='C', list_figures=list_figures, display='')\n",
    "plt.show()\n",
    "for display_variable in display_variables:\n",
    "    fig, ax = experiments.scan(variable='C', list_figures=[], display='final', display_variable=display_variable)\n",
    "    #plt.show()"
   ]
  },
  {
   "cell_type": "markdown",
   "metadata": {},
   "source": [
    "## different quantization parameters"
   ]
  },
  {
   "cell_type": "markdown",
   "metadata": {},
   "source": [
    "with a fixed $C$, we now change the number of quantization steps used to compute the histogram:"
   ]
  },
  {
   "cell_type": "code",
   "execution_count": null,
   "metadata": {
    "ExecuteTime": {
     "start_time": "2018-09-07T13:21:32.822Z"
    },
    "scrolled": false
   },
   "outputs": [],
   "source": [
    "opts = dict(homeo_method='HEH', verbose=1)\n",
    "experiments = SHL_set(opts, tag=tag)\n",
    "\n",
    "experiments.scan(variable='nb_quant', list_figures=list_figures, display='')\n",
    "plt.show()\n",
    "for display_variable in display_variables:\n",
    "    fig, ax = experiments.scan(variable='nb_quant', list_figures=[], display='final', display_variable=display_variable)\n",
    "    #plt.show()"
   ]
  },
  {
   "cell_type": "markdown",
   "metadata": {},
   "source": [
    "## Version used"
   ]
  },
  {
   "cell_type": "code",
   "execution_count": null,
   "metadata": {
    "ExecuteTime": {
     "start_time": "2018-09-07T13:21:32.826Z"
    }
   },
   "outputs": [],
   "source": [
    "%load_ext version_information\n",
    "%version_information numpy, shl_scripts"
   ]
  }
 ],
 "metadata": {
  "kernelspec": {
   "display_name": "Python 3",
   "language": "python",
   "name": "python3"
  },
  "language_info": {
   "codemirror_mode": {
    "name": "ipython",
    "version": 3
   },
   "file_extension": ".py",
   "mimetype": "text/x-python",
   "name": "python",
   "nbconvert_exporter": "python",
   "pygments_lexer": "ipython3",
   "version": "3.6.5"
  },
  "toc": {
   "base_numbering": 1,
   "nav_menu": {
    "height": "81px",
    "width": "252px"
   },
   "number_sections": true,
   "sideBar": true,
   "skip_h1_title": false,
   "title_cell": "Table of Contents",
   "title_sidebar": "Contents",
   "toc_cell": false,
   "toc_position": {},
   "toc_section_display": "block",
   "toc_window_display": false
  }
 },
 "nbformat": 4,
 "nbformat_minor": 2
}
