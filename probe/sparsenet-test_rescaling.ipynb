{
 "cells": [
  {
   "cell_type": "markdown",
   "metadata": {},
   "source": [
    "# Sparse Hebbian Learning with full homeostasis : testing different rescaling functions\n",
    "\n",
    "In this notebook, we test the convergence of SparseNet as a function of different parameters tuning the quantization. These parameters only influence the way we select dictionary elements and thus the homeostasis.\n",
    "\n"
   ]
  },
  {
   "cell_type": "code",
   "execution_count": 1,
   "metadata": {
    "ExecuteTime": {
     "end_time": "2018-02-23T08:31:09.536547Z",
     "start_time": "2018-02-23T08:31:09.493559Z"
    }
   },
   "outputs": [],
   "source": [
    "%load_ext autoreload\n",
    "%autoreload 2"
   ]
  },
  {
   "cell_type": "code",
   "execution_count": 2,
   "metadata": {
    "ExecuteTime": {
     "end_time": "2018-02-23T08:31:10.857900Z",
     "start_time": "2018-02-23T08:31:09.540157Z"
    }
   },
   "outputs": [],
   "source": [
    "%matplotlib inline\n",
    "import matplotlib.pyplot as plt\n",
    "import numpy as np\n",
    "np.set_printoptions(precision=2, suppress=True)"
   ]
  },
  {
   "cell_type": "code",
   "execution_count": 3,
   "metadata": {
    "ExecuteTime": {
     "end_time": "2018-02-23T08:31:11.152405Z",
     "start_time": "2018-02-23T08:31:10.861326Z"
    },
    "scrolled": false
   },
   "outputs": [
    {
     "name": "stdout",
     "output_type": "stream",
     "text": [
      "Extracting data..loading the data called : data_cache/data_data\n",
      "Data is of shape : (81920, 144) - done in 0.12s.\n"
     ]
    }
   ],
   "source": [
    "from shl_scripts.shl_experiments import SHL_set\n",
    "tag = 'rescaling'\n",
    "opts = dict(homeo_method='HEH', eta_homeo=0.05, C=10., nb_quant=256, P_cum=None, verbose=1)\n",
    "opts = dict(homeo_method='HEH', n_iter=65, record_each=8, eta_homeo=0.1, C=5., nb_quant=256, P_cum=None, verbose=1)\n",
    "experiments = SHL_set(opts, tag=tag)\n",
    "list_figures = []\n",
    "list_figures = ['show_dico', 'show_Pcum']"
   ]
  },
  {
   "cell_type": "code",
   "execution_count": 4,
   "metadata": {
    "ExecuteTime": {
     "end_time": "2018-02-23T08:31:11.416490Z",
     "start_time": "2018-02-23T08:31:11.158795Z"
    }
   },
   "outputs": [
    {
     "name": "stdout",
     "output_type": "stream",
     "text": [
      "ls: data_cache/rescaling*: No such file or directory\r\n"
     ]
    }
   ],
   "source": [
    "!ls -l {experiments.shl.data_cache}/{tag}*"
   ]
  },
  {
   "cell_type": "raw",
   "metadata": {
    "ExecuteTime": {
     "end_time": "2018-02-23T08:31:02.095398Z",
     "start_time": "2018-02-23T08:31:01.787090Z"
    }
   },
   "source": [
    "!rm -fr {experiments.shl.data_cache}/{tag}*\n",
    "!ls -l {experiments.shl.data_cache}/{tag}*"
   ]
  },
  {
   "cell_type": "markdown",
   "metadata": {},
   "source": [
    "## different rescaling values"
   ]
  },
  {
   "cell_type": "code",
   "execution_count": null,
   "metadata": {
    "ExecuteTime": {
     "start_time": "2018-02-23T08:31:09.400Z"
    },
    "scrolled": false
   },
   "outputs": [
    {
     "name": "stdout",
     "output_type": "stream",
     "text": [
      "No cache found data_cache/rescaling - C=1.25000_dico.pkl: Learning the dictionary with algo = mp \n",
      " Training on 81920 patches\n",
      "[dict_learning] Iteration   1 /   64 (elapsed time:   5s,   0mn   5s)\n",
      "done in 331.98s.\n",
      "No cache found data_cache/rescaling - C=1.98425_dico.pkl: Learning the dictionary with algo = mp \n",
      " Training on 81920 patches\n",
      "[dict_learning] Iteration   1 /   64 (elapsed time:   4s,   0mn   4s)\n",
      "done in 167.30s.\n",
      "No cache found data_cache/rescaling - C=3.14980_dico.pkl: Learning the dictionary with algo = mp \n",
      " Training on 81920 patches\n",
      "[dict_learning] Iteration   1 /   64 (elapsed time:   2s,   0mn   2s)\n",
      "done in 142.76s.\n",
      "No cache found data_cache/rescaling - C=5.00000_dico.pkl: Learning the dictionary with algo = mp \n",
      " Training on 81920 patches\n",
      "[dict_learning] Iteration   1 /   64 (elapsed time:   1s,   0mn   1s)\n",
      "done in 99.01s.\n",
      "No cache found data_cache/rescaling - C=7.93701_dico.pkl: Learning the dictionary with algo = mp \n",
      " Training on 81920 patches\n",
      "[dict_learning] Iteration   1 /   64 (elapsed time:   2s,   0mn   2s)\n",
      "done in 96.66s.\n",
      "No cache found data_cache/rescaling - C=12.59921_dico.pkl: Learning the dictionary with algo = mp \n",
      " Training on 81920 patches\n",
      "[dict_learning] Iteration   1 /   64 (elapsed time:   2s,   0mn   2s)\n"
     ]
    }
   ],
   "source": [
    "experiments.scan(variable='C', list_figures=[], display='')\n",
    "plt.show()\n",
    "fig, ax = experiments.scan(variable='C', list_figures=list_figures, display='final')\n",
    "plt.show()"
   ]
  },
  {
   "cell_type": "markdown",
   "metadata": {},
   "source": [
    "## different quantization parameters"
   ]
  },
  {
   "cell_type": "markdown",
   "metadata": {},
   "source": [
    "with a fixed $C$, we now change the number of quantization steps used to compute the histogram:"
   ]
  },
  {
   "cell_type": "code",
   "execution_count": null,
   "metadata": {
    "ExecuteTime": {
     "start_time": "2018-02-23T08:31:09.404Z"
    }
   },
   "outputs": [],
   "source": [
    "experiments.scan(variable='nb_quant', list_figures=[], display='')\n",
    "plt.show()\n",
    "fig, ax = experiments.scan(variable='nb_quant', list_figures=list_figures, display='final')\n",
    "plt.show()\n"
   ]
  },
  {
   "cell_type": "markdown",
   "metadata": {},
   "source": [
    "## Version used"
   ]
  },
  {
   "cell_type": "code",
   "execution_count": null,
   "metadata": {
    "ExecuteTime": {
     "start_time": "2018-02-23T08:31:09.407Z"
    }
   },
   "outputs": [],
   "source": [
    "%load_ext version_information\n",
    "%version_information numpy, shl_scripts"
   ]
  }
 ],
 "metadata": {
  "kernelspec": {
   "display_name": "Python 3",
   "language": "python",
   "name": "python3"
  },
  "language_info": {
   "codemirror_mode": {
    "name": "ipython",
    "version": 3
   },
   "file_extension": ".py",
   "mimetype": "text/x-python",
   "name": "python",
   "nbconvert_exporter": "python",
   "pygments_lexer": "ipython3",
   "version": "3.6.4"
  },
  "toc": {
   "nav_menu": {
    "height": "81px",
    "width": "252px"
   },
   "number_sections": true,
   "sideBar": true,
   "skip_h1_title": false,
   "toc_cell": false,
   "toc_position": {},
   "toc_section_display": "block",
   "toc_window_display": false
  }
 },
 "nbformat": 4,
 "nbformat_minor": 2
}
