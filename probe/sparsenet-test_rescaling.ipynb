{
 "cells": [
  {
   "cell_type": "markdown",
   "metadata": {},
   "source": [
    "# Sparse Hebbian Learning with full homeostasis : testing different rescaling functions\n",
    "\n",
    "In this notebook, we test the convergence of SparseNet as a function of different parameters tuning the quantization. These parameters only influence the way we select dictionary elements and thus the homeostasis.\n",
    "\n"
   ]
  },
  {
   "cell_type": "code",
   "execution_count": 1,
   "metadata": {
    "ExecuteTime": {
     "end_time": "2018-03-06T15:56:24.759847Z",
     "start_time": "2018-03-06T15:56:24.744977Z"
    }
   },
   "outputs": [],
   "source": [
    "%load_ext autoreload\n",
    "%autoreload 2"
   ]
  },
  {
   "cell_type": "code",
   "execution_count": 2,
   "metadata": {
    "ExecuteTime": {
     "end_time": "2018-03-06T15:56:25.071602Z",
     "start_time": "2018-03-06T15:56:24.762241Z"
    }
   },
   "outputs": [],
   "source": [
    "%matplotlib inline\n",
    "import matplotlib.pyplot as plt\n",
    "import numpy as np\n",
    "np.set_printoptions(precision=2, suppress=True)"
   ]
  },
  {
   "cell_type": "code",
   "execution_count": 3,
   "metadata": {
    "ExecuteTime": {
     "end_time": "2018-03-06T15:56:25.186313Z",
     "start_time": "2018-03-06T15:56:25.073675Z"
    },
    "scrolled": false
   },
   "outputs": [
    {
     "name": "stdout",
     "output_type": "stream",
     "text": [
      "Extracting data..loading the data called : data_cache/data_data\n",
      "Data is of shape : (81920, 256) - done in 0.09s.\n"
     ]
    }
   ],
   "source": [
    "from shl_scripts.shl_experiments import SHL_set\n",
    "tag = 'rescaling'\n",
    "opts = dict(homeo_method='HEH', eta_homeo=0.05, C=10., nb_quant=256, P_cum=None, verbose=1)\n",
    "opts = dict(homeo_method='HEH', n_iter=513, record_each=32, eta_homeo=0.1, C=5., nb_quant=256, P_cum=None, verbose=1)\n",
    "opts = dict(homeo_method='HEH', verbose=1)\n",
    "experiments = SHL_set(opts, tag=tag)\n",
    "list_figures = []\n",
    "list_figures = ['show_dico', 'show_Pcum']"
   ]
  },
  {
   "cell_type": "code",
   "execution_count": 4,
   "metadata": {
    "ExecuteTime": {
     "end_time": "2018-03-06T15:56:25.441459Z",
     "start_time": "2018-03-06T15:56:25.188532Z"
    }
   },
   "outputs": [
    {
     "name": "stdout",
     "output_type": "stream",
     "text": [
      "ls: data_cache/rescaling*: No such file or directory\n",
      "ls: data_cache/rescaling*lock*: No such file or directory\n"
     ]
    }
   ],
   "source": [
    "!ls -l {experiments.shl.data_cache}/{tag}*\n",
    "!ls -l {experiments.shl.data_cache}/{tag}*lock*"
   ]
  },
  {
   "cell_type": "raw",
   "metadata": {
    "ExecuteTime": {
     "end_time": "2018-02-23T11:44:53.957386Z",
     "start_time": "2018-02-23T11:44:53.565653Z"
    }
   },
   "source": [
    "!rm -fr {experiments.shl.data_cache}/{tag}*\n",
    "!ls -l {experiments.shl.data_cache}/{tag}*"
   ]
  },
  {
   "cell_type": "markdown",
   "metadata": {},
   "source": [
    "## different rescaling values"
   ]
  },
  {
   "cell_type": "code",
   "execution_count": null,
   "metadata": {
    "ExecuteTime": {
     "start_time": "2018-03-06T15:56:24.748Z"
    },
    "scrolled": false
   },
   "outputs": [
    {
     "name": "stdout",
     "output_type": "stream",
     "text": [
      "No cache found data_cache/rescaling - C=1.00000_dico.pkl: Learning the dictionary with algo = mp \n",
      " Training on 81920 patches\n",
      "[dict_learning] Iteration   1 /   4097 (elapsed time:   1s,   0mn   1s)\n",
      "Iteration  129 /   4097 (elapsed time:  130s,   2mn  10s)\n",
      "Iteration  257 /   4097 (elapsed time:  256s,   4mn  16s)\n",
      "Iteration  385 /   4097 (elapsed time:  388s,   6mn  28s)\n",
      "Iteration  513 /   4097 (elapsed time:  713s,  11mn  53s)\n",
      "Iteration  641 /   4097 (elapsed time:  1222s,  20mn  22s)\n",
      "Iteration  769 /   4097 (elapsed time:  1722s,  28mn  42s)\n",
      "Iteration  897 /   4097 (elapsed time:  2220s,  37mn   0s)\n",
      "Iteration  1025 /   4097 (elapsed time:  2722s,  45mn  22s)\n",
      "Iteration  1153 /   4097 (elapsed time:  5503s,  91mn  43s)\n",
      "Iteration  1281 /   4097 (elapsed time:  9064s,  151mn   4s)\n",
      "Iteration  1409 /   4097 (elapsed time:  12793s,  213mn  13s)\n",
      "Iteration  1537 /   4097 (elapsed time:  18311s,  305mn  11s)\n",
      "Iteration  1665 /   4097 (elapsed time:  24624s,  410mn  24s)\n",
      "Iteration  1793 /   4097 (elapsed time:  30759s,  512mn  39s)\n",
      "Iteration  1921 /   4097 (elapsed time:  36681s,  611mn  21s)\n",
      "Iteration  2049 /   4097 (elapsed time:  43064s,  717mn  44s)\n",
      "Iteration  2177 /   4097 (elapsed time:  49034s,  817mn  14s)\n",
      "Iteration  2305 /   4097 (elapsed time:  54222s,  903mn  42s)\n",
      "Iteration  2433 /   4097 (elapsed time:  59686s,  994mn  46s)\n",
      "Iteration  2561 /   4097 (elapsed time:  66783s,  1113mn   3s)\n",
      "Iteration  2689 /   4097 (elapsed time:  67387s,  1123mn   7s)\n",
      "Iteration  2817 /   4097 (elapsed time:  67898s,  1131mn  38s)\n",
      "Iteration  2945 /   4097 (elapsed time:  68349s,  1139mn   9s)\n",
      "Iteration  3073 /   4097 (elapsed time:  68787s,  1146mn  27s)\n",
      "Iteration  3201 /   4097 (elapsed time:  69224s,  1153mn  44s)\n",
      "Iteration  3329 /   4097 (elapsed time:  69662s,  1161mn   2s)\n",
      "Iteration  3457 /   4097 (elapsed time:  70102s,  1168mn  22s)\n",
      "Iteration  3585 /   4097 (elapsed time:  72274s,  1204mn  34s)\n",
      "Iteration  3713 /   4097 (elapsed time:  73903s,  1231mn  43s)\n",
      "Iteration  3841 /   4097 (elapsed time:  74253s,  1237mn  33s)\n",
      "Iteration  3969 /   4097 (elapsed time:  74606s,  1243mn  26s)\n",
      "Iteration  4097 /   4097 (elapsed time:  74984s,  1249mn  44s)\n",
      "done in 74987.63s.\n",
      "No cache found data_cache/rescaling - C=1.58740_dico.pkl: Learning the dictionary with algo = mp \n",
      " Training on 81920 patches\n",
      "[dict_learning] Iteration   1 /   4097 (elapsed time:   3s,   0mn   3s)\n",
      "Iteration  129 /   4097 (elapsed time:  349s,   5mn  49s)\n",
      "Iteration  257 /   4097 (elapsed time:  696s,  11mn  36s)\n",
      "Iteration  385 /   4097 (elapsed time:  2959s,  49mn  19s)\n",
      "Iteration  513 /   4097 (elapsed time:  5709s,  95mn   9s)\n"
     ]
    }
   ],
   "source": [
    "experiments.scan(variable='C', list_figures=[], display='')\n",
    "plt.show()\n",
    "fig, ax = experiments.scan(variable='C', list_figures=list_figures, display='final')\n",
    "plt.show()"
   ]
  },
  {
   "cell_type": "markdown",
   "metadata": {},
   "source": [
    "## different quantization parameters"
   ]
  },
  {
   "cell_type": "markdown",
   "metadata": {},
   "source": [
    "with a fixed $C$, we now change the number of quantization steps used to compute the histogram:"
   ]
  },
  {
   "cell_type": "code",
   "execution_count": null,
   "metadata": {
    "ExecuteTime": {
     "start_time": "2018-03-06T15:56:24.752Z"
    },
    "scrolled": false
   },
   "outputs": [],
   "source": [
    "experiments.scan(variable='nb_quant', list_figures=[], display='')\n",
    "plt.show()\n",
    "fig, ax = experiments.scan(variable='nb_quant', list_figures=list_figures, display='final')\n",
    "plt.show()\n"
   ]
  },
  {
   "cell_type": "markdown",
   "metadata": {},
   "source": [
    "## Version used"
   ]
  },
  {
   "cell_type": "code",
   "execution_count": null,
   "metadata": {
    "ExecuteTime": {
     "start_time": "2018-03-06T15:56:24.755Z"
    }
   },
   "outputs": [],
   "source": [
    "%load_ext version_information\n",
    "%version_information numpy, shl_scripts"
   ]
  }
 ],
 "metadata": {
  "kernelspec": {
   "display_name": "Python 3",
   "language": "python",
   "name": "python3"
  },
  "language_info": {
   "codemirror_mode": {
    "name": "ipython",
    "version": 3
   },
   "file_extension": ".py",
   "mimetype": "text/x-python",
   "name": "python",
   "nbconvert_exporter": "python",
   "pygments_lexer": "ipython3",
   "version": "3.6.4"
  },
  "toc": {
   "nav_menu": {
    "height": "81px",
    "width": "252px"
   },
   "number_sections": true,
   "sideBar": true,
   "skip_h1_title": false,
   "title_cell": "Table of Contents",
   "title_sidebar": "Contents",
   "toc_cell": false,
   "toc_position": {},
   "toc_section_display": "block",
   "toc_window_display": false
  }
 },
 "nbformat": 4,
 "nbformat_minor": 2
}
