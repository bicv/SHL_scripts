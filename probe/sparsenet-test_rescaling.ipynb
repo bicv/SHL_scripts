{
 "cells": [
  {
   "cell_type": "markdown",
   "metadata": {},
   "source": [
    "# Sparse Hebbian Learning with full homeostasis : testing different rescaling functions\n",
    "\n",
    "In this notebook, we test the convergence of SparseNet as a function of different parameters tuning the quantization. These parameters only influence the way we select dictionary elements and thus the homeostasis.\n",
    "\n"
   ]
  },
  {
   "cell_type": "raw",
   "metadata": {
    "ExecuteTime": {
     "end_time": "2018-01-23T08:02:42.956225Z",
     "start_time": "2018-01-23T08:02:42.837672Z"
    }
   },
   "source": [
    "%load_ext autoreload\n",
    "%autoreload 2"
   ]
  },
  {
   "cell_type": "code",
   "execution_count": 1,
   "metadata": {
    "ExecuteTime": {
     "end_time": "2018-01-31T17:17:45.989172Z",
     "start_time": "2018-01-31T17:17:45.538756Z"
    }
   },
   "outputs": [],
   "source": [
    "%matplotlib inline\n",
    "import matplotlib.pyplot as plt\n",
    "import numpy as np\n",
    "np.set_printoptions(precision=2, suppress=True)"
   ]
  },
  {
   "cell_type": "code",
   "execution_count": 2,
   "metadata": {
    "ExecuteTime": {
     "end_time": "2018-01-31T17:17:46.152544Z",
     "start_time": "2018-01-31T17:17:45.991651Z"
    },
    "scrolled": false
   },
   "outputs": [
    {
     "name": "stdout",
     "output_type": "stream",
     "text": [
      "Extracting data..loading the data called : /tmp/data_cache/data_data\n",
      "Data is of shape : (81920, 256) - done in 0.14s.\n"
     ]
    }
   ],
   "source": [
    "from shl_scripts.shl_experiments import SHL_set\n",
    "tag = 'rescaling'\n",
    "opts = dict(homeo_method='HEH', homeo_params=dict(eta_homeo=0.05, C=5., nb_quant=128, P_cum=None), verbose=1)\n",
    "experiments = SHL_set(opts, tag=tag)\n",
    "list_figures = ['show_dico']\n",
    "list_figures = []"
   ]
  },
  {
   "cell_type": "raw",
   "metadata": {},
   "source": [
    "import time\n",
    "time.sleep(3600*15)"
   ]
  },
  {
   "cell_type": "code",
   "execution_count": 3,
   "metadata": {
    "ExecuteTime": {
     "end_time": "2018-01-31T17:17:46.297606Z",
     "start_time": "2018-01-31T17:17:46.155122Z"
    }
   },
   "outputs": [
    {
     "name": "stdout",
     "output_type": "stream",
     "text": [
      "-rw-r--r--  1 lolo  wheel  1068959 Jan 31 12:16 /tmp/data_cache/rescaling - C=1.0_dico.pkl\r\n",
      "-rw-r--r--  1 lolo  wheel  1068959 Jan 31 14:23 /tmp/data_cache/rescaling - C=10.0_dico.pkl\r\n",
      "-rw-r--r--  1 lolo  wheel  1068959 Jan 31 12:52 /tmp/data_cache/rescaling - C=3.25_dico.pkl\r\n",
      "-rw-r--r--  1 lolo  wheel  1068959 Jan 31 13:26 /tmp/data_cache/rescaling - C=5.5_dico.pkl\r\n",
      "-rw-r--r--  1 lolo  wheel  1068959 Jan 31 13:55 /tmp/data_cache/rescaling - C=7.75_dico.pkl\r\n",
      "-rw-r--r--  1 lolo  wheel  1068966 Jan 31 17:03 /tmp/data_cache/rescaling - nb_quant=128_dico.pkl\r\n",
      "-rw-r--r--  1 lolo  wheel   778662 Jan 31 15:29 /tmp/data_cache/rescaling - nb_quant=16_dico.pkl\r\n",
      "-rw-r--r--  1 lolo  wheel  1400743 Jan 31 17:36 /tmp/data_cache/rescaling - nb_quant=256_dico.pkl\r\n",
      "-rw-r--r--  1 lolo  wheel   820134 Jan 31 15:53 /tmp/data_cache/rescaling - nb_quant=32_dico.pkl\r\n",
      "-rw-r--r--  1 lolo  wheel   903078 Jan 31 16:19 /tmp/data_cache/rescaling - nb_quant=64_dico.pkl\r\n",
      "-rw-r--r--  1 lolo  wheel   757926 Jan 31 14:58 /tmp/data_cache/rescaling - nb_quant=8_dico.pkl\r\n"
     ]
    }
   ],
   "source": [
    "!ls -l {experiments.shl.data_cache}/{tag}*"
   ]
  },
  {
   "cell_type": "raw",
   "metadata": {
    "ExecuteTime": {
     "end_time": "2018-01-31T10:24:11.679235Z",
     "start_time": "2018-01-31T10:24:11.503367Z"
    }
   },
   "source": [
    "!rm -fr {experiments.shl.data_cache}/{tag}*"
   ]
  },
  {
   "cell_type": "raw",
   "metadata": {},
   "source": [
    "!ls -l {experiments.shl.data_cache}"
   ]
  },
  {
   "cell_type": "raw",
   "metadata": {
    "ExecuteTime": {
     "end_time": "2018-01-31T10:24:21.433537Z",
     "start_time": "2018-01-31T10:24:21.420216Z"
    }
   },
   "source": [
    "homeo_params = shl.homeo_params\n",
    "homeo_params"
   ]
  },
  {
   "cell_type": "markdown",
   "metadata": {},
   "source": [
    "We will use the ``joblib`` package do distribute this computation on different CPUs."
   ]
  },
  {
   "cell_type": "raw",
   "metadata": {},
   "source": [
    "from joblib import Parallel, delayed\n",
    "Parallel(n_jobs=n_jobs)(delayed(np.sqrt)(i ** 2) for i in range(10))"
   ]
  },
  {
   "cell_type": "markdown",
   "metadata": {},
   "source": [
    "## different rescaling values"
   ]
  },
  {
   "cell_type": "code",
   "execution_count": 4,
   "metadata": {
    "ExecuteTime": {
     "end_time": "2018-01-31T20:02:04.502863Z",
     "start_time": "2018-01-31T17:17:46.300595Z"
    },
    "scrolled": false
   },
   "outputs": [
    {
     "name": "stdout",
     "output_type": "stream",
     "text": [
      "No cache found /tmp/data_cache/rescaling - C=0.5_dico.pkl: Learning the dictionary with algo = mp \n",
      " Training on 81920 patches... [dict_learning] Iteration   0 /   1025 (elapsed time:   2s,  0.0mn)\n",
      "Iteration  128 /   1025 (elapsed time:  233s,  3.0mn)\n",
      "Iteration  256 /   1025 (elapsed time:  446s,  7.0mn)\n",
      "Iteration  384 /   1025 (elapsed time:  662s,  11.0mn)\n",
      "Iteration  512 /   1025 (elapsed time:  873s,  14.0mn)\n",
      "Iteration  640 /   1025 (elapsed time:  1048s,  17.0mn)\n",
      "Iteration  768 /   1025 (elapsed time:  1222s,  20.0mn)\n",
      "Iteration  896 /   1025 (elapsed time:  1397s,  23.0mn)\n",
      "Iteration  1024 /   1025 (elapsed time:  1571s,  26.0mn)\n",
      "done in 1574.51s.\n",
      "No cache found /tmp/data_cache/rescaling - C=1.0772173450159417_dico.pkl: Learning the dictionary with algo = mp \n",
      " Training on 81920 patches... [dict_learning] Iteration   0 /   1025 (elapsed time:   1s,  0.0mn)\n",
      "Iteration  128 /   1025 (elapsed time:  177s,  2.0mn)\n",
      "Iteration  256 /   1025 (elapsed time:  351s,  5.0mn)\n",
      "Iteration  384 /   1025 (elapsed time:  525s,  8.0mn)\n",
      "Iteration  512 /   1025 (elapsed time:  699s,  11.0mn)\n",
      "Iteration  640 /   1025 (elapsed time:  874s,  14.0mn)\n",
      "Iteration  768 /   1025 (elapsed time:  1047s,  17.0mn)\n",
      "Iteration  896 /   1025 (elapsed time:  1222s,  20.0mn)\n",
      "Iteration  1024 /   1025 (elapsed time:  1397s,  23.0mn)\n",
      "done in 1399.66s.\n",
      "No cache found /tmp/data_cache/rescaling - C=2.320794416806389_dico.pkl: Learning the dictionary with algo = mp \n",
      " Training on 81920 patches... [dict_learning] Iteration   0 /   1025 (elapsed time:   1s,  0.0mn)\n",
      "Iteration  128 /   1025 (elapsed time:  176s,  2.0mn)\n",
      "Iteration  256 /   1025 (elapsed time:  349s,  5.0mn)\n",
      "Iteration  384 /   1025 (elapsed time:  523s,  8.0mn)\n",
      "Iteration  512 /   1025 (elapsed time:  696s,  11.0mn)\n",
      "Iteration  640 /   1025 (elapsed time:  868s,  14.0mn)\n",
      "Iteration  768 /   1025 (elapsed time:  1036s,  17.0mn)\n",
      "Iteration  896 /   1025 (elapsed time:  1205s,  20.0mn)\n",
      "Iteration  1024 /   1025 (elapsed time:  1374s,  22.0mn)\n",
      "done in 1377.47s.\n",
      "No cache found /tmp/data_cache/rescaling - C=5.0_dico.pkl: Learning the dictionary with algo = mp \n",
      " Training on 81920 patches... [dict_learning] Iteration   0 /   1025 (elapsed time:   1s,  0.0mn)\n",
      "Iteration  128 /   1025 (elapsed time:  169s,  2.0mn)\n",
      "Iteration  256 /   1025 (elapsed time:  337s,  5.0mn)\n",
      "Iteration  384 /   1025 (elapsed time:  505s,  8.0mn)\n",
      "Iteration  512 /   1025 (elapsed time:  675s,  11.0mn)\n",
      "Iteration  640 /   1025 (elapsed time:  843s,  14.0mn)\n",
      "Iteration  768 /   1025 (elapsed time:  1011s,  16.0mn)\n",
      "Iteration  896 /   1025 (elapsed time:  1180s,  19.0mn)\n",
      "Iteration  1024 /   1025 (elapsed time:  1348s,  22.0mn)\n",
      "done in 1351.48s.\n",
      "No cache found /tmp/data_cache/rescaling - C=10.772173450159418_dico.pkl: Learning the dictionary with algo = mp \n",
      " Training on 81920 patches... [dict_learning] Iteration   0 /   1025 (elapsed time:   1s,  0.0mn)\n",
      "Iteration  128 /   1025 (elapsed time:  169s,  2.0mn)\n",
      "Iteration  256 /   1025 (elapsed time:  337s,  5.0mn)\n",
      "Iteration  384 /   1025 (elapsed time:  507s,  8.0mn)\n",
      "Iteration  512 /   1025 (elapsed time:  674s,  11.0mn)\n",
      "Iteration  640 /   1025 (elapsed time:  844s,  14.0mn)\n",
      "Iteration  768 /   1025 (elapsed time:  1013s,  16.0mn)\n",
      "Iteration  896 /   1025 (elapsed time:  1182s,  19.0mn)\n",
      "Iteration  1024 /   1025 (elapsed time:  1351s,  22.0mn)\n",
      "done in 1354.01s.\n",
      "No cache found /tmp/data_cache/rescaling - C=23.20794416806389_dico.pkl: Learning the dictionary with algo = mp \n",
      " Training on 81920 patches... [dict_learning] Iteration   0 /   1025 (elapsed time:   1s,  0.0mn)\n",
      "Iteration  128 /   1025 (elapsed time:  170s,  2.0mn)\n",
      "Iteration  256 /   1025 (elapsed time:  338s,  5.0mn)\n",
      "Iteration  384 /   1025 (elapsed time:  507s,  8.0mn)\n",
      "Iteration  512 /   1025 (elapsed time:  675s,  11.0mn)\n",
      "Iteration  640 /   1025 (elapsed time:  844s,  14.0mn)\n",
      "Iteration  768 /   1025 (elapsed time:  1011s,  16.0mn)\n",
      "Iteration  896 /   1025 (elapsed time:  1179s,  19.0mn)\n",
      "Iteration  1024 /   1025 (elapsed time:  1358s,  22.0mn)\n",
      "done in 1362.90s.\n",
      "No cache found /tmp/data_cache/rescaling - C=50.0_dico.pkl: Learning the dictionary with algo = mp \n",
      " Training on 81920 patches... [dict_learning] Iteration   0 /   1025 (elapsed time:   2s,  0.0mn)\n",
      "Iteration  128 /   1025 (elapsed time:  183s,  3.0mn)\n",
      "Iteration  256 /   1025 (elapsed time:  366s,  6.0mn)\n",
      "Iteration  384 /   1025 (elapsed time:  550s,  9.0mn)\n",
      "Iteration  512 /   1025 (elapsed time:  728s,  12.0mn)\n",
      "Iteration  640 /   1025 (elapsed time:  905s,  15.0mn)\n",
      "Iteration  768 /   1025 (elapsed time:  1081s,  18.0mn)\n",
      "Iteration  896 /   1025 (elapsed time:  1254s,  20.0mn)\n",
      "Iteration  1024 /   1025 (elapsed time:  1434s,  23.0mn)\n",
      "done in 1437.33s.\n",
      "loading the dico called : /tmp/data_cache/rescaling - C=0.5_dico.pkl\n",
      "loading the dico called : /tmp/data_cache/rescaling - C=1.0772173450159417_dico.pkl\n",
      "loading the dico called : /tmp/data_cache/rescaling - C=2.320794416806389_dico.pkl\n",
      "loading the dico called : /tmp/data_cache/rescaling - C=5.0_dico.pkl\n",
      "loading the dico called : /tmp/data_cache/rescaling - C=10.772173450159418_dico.pkl\n",
      "loading the dico called : /tmp/data_cache/rescaling - C=23.20794416806389_dico.pkl\n",
      "loading the dico called : /tmp/data_cache/rescaling - C=50.0_dico.pkl\n"
     ]
    },
    {
     "data": {
      "image/png": "[encoded data removed]",
      "text/plain": [
       "<matplotlib.figure.Figure at 0x111b4f160>"
      ]
     },
     "metadata": {},
     "output_type": "display_data"
    }
   ],
   "source": [
    "experiments.scan(vtype='homeo_params', variable='C', list_figures=list_figures, display='')\n",
    "fig, ax = experiments.scan(vtype='homeo_params', variable='C', list_figures=[], display='final')"
   ]
  },
  {
   "cell_type": "markdown",
   "metadata": {},
   "source": [
    "## different quantization parameters"
   ]
  },
  {
   "cell_type": "raw",
   "metadata": {
    "scrolled": true
   },
   "source": [
    "2 ** np.arange(3, 9)"
   ]
  },
  {
   "cell_type": "markdown",
   "metadata": {},
   "source": [
    "with a fixed $C=5.$"
   ]
  },
  {
   "cell_type": "code",
   "execution_count": 5,
   "metadata": {
    "ExecuteTime": {
     "end_time": "2018-01-31T22:21:06.494248Z",
     "start_time": "2018-01-31T20:02:04.506574Z"
    }
   },
   "outputs": [
    {
     "name": "stdout",
     "output_type": "stream",
     "text": [
      "No cache found /tmp/data_cache/rescaling - nb_quant=12_dico.pkl: Learning the dictionary with algo = mp \n",
      " Training on 81920 patches... [dict_learning] Iteration   0 /   1025 (elapsed time:   1s,  0.0mn)\n",
      "Iteration  128 /   1025 (elapsed time:  182s,  3.0mn)\n",
      "Iteration  256 /   1025 (elapsed time:  362s,  6.0mn)\n",
      "Iteration  384 /   1025 (elapsed time:  549s,  9.0mn)\n",
      "Iteration  512 /   1025 (elapsed time:  728s,  12.0mn)\n",
      "Iteration  640 /   1025 (elapsed time:  906s,  15.0mn)\n",
      "Iteration  768 /   1025 (elapsed time:  1087s,  18.0mn)\n",
      "Iteration  896 /   1025 (elapsed time:  1266s,  21.0mn)\n",
      "Iteration  1024 /   1025 (elapsed time:  1447s,  24.0mn)\n",
      "done in 1450.66s.\n",
      "No cache found /tmp/data_cache/rescaling - nb_quant=27_dico.pkl: Learning the dictionary with algo = mp \n",
      " Training on 81920 patches... [dict_learning] Iteration   0 /   1025 (elapsed time:   2s,  0.0mn)\n",
      "Iteration  128 /   1025 (elapsed time:  185s,  3.0mn)\n",
      "Iteration  256 /   1025 (elapsed time:  362s,  6.0mn)\n",
      "Iteration  384 /   1025 (elapsed time:  541s,  9.0mn)\n",
      "Iteration  512 /   1025 (elapsed time:  721s,  12.0mn)\n",
      "Iteration  640 /   1025 (elapsed time:  889s,  14.0mn)\n",
      "Iteration  768 /   1025 (elapsed time:  1058s,  17.0mn)\n",
      "Iteration  896 /   1025 (elapsed time:  1225s,  20.0mn)\n",
      "Iteration  1024 /   1025 (elapsed time:  1394s,  23.0mn)\n",
      "done in 1396.61s.\n",
      "No cache found /tmp/data_cache/rescaling - nb_quant=59_dico.pkl: Learning the dictionary with algo = mp \n",
      " Training on 81920 patches... [dict_learning] Iteration   0 /   1025 (elapsed time:   1s,  0.0mn)\n",
      "Iteration  128 /   1025 (elapsed time:  168s,  2.0mn)\n",
      "Iteration  256 /   1025 (elapsed time:  337s,  5.0mn)\n",
      "Iteration  384 /   1025 (elapsed time:  505s,  8.0mn)\n",
      "Iteration  512 /   1025 (elapsed time:  672s,  11.0mn)\n",
      "Iteration  640 /   1025 (elapsed time:  840s,  14.0mn)\n",
      "Iteration  768 /   1025 (elapsed time:  1008s,  16.0mn)\n",
      "Iteration  896 /   1025 (elapsed time:  1176s,  19.0mn)\n",
      "Iteration  1024 /   1025 (elapsed time:  1343s,  22.0mn)\n",
      "done in 1345.74s.\n",
      "loading the dico called : /tmp/data_cache/rescaling - nb_quant=128_dico.pkl\n",
      "No cache found /tmp/data_cache/rescaling - nb_quant=275_dico.pkl: Learning the dictionary with algo = mp \n",
      " Training on 81920 patches... [dict_learning] Iteration   0 /   1025 (elapsed time:   1s,  0.0mn)\n",
      "Iteration  128 /   1025 (elapsed time:  171s,  2.0mn)\n",
      "Iteration  256 /   1025 (elapsed time:  340s,  5.0mn)\n",
      "Iteration  384 /   1025 (elapsed time:  511s,  8.0mn)\n",
      "Iteration  512 /   1025 (elapsed time:  681s,  11.0mn)\n",
      "Iteration  640 /   1025 (elapsed time:  853s,  14.0mn)\n",
      "Iteration  768 /   1025 (elapsed time:  1022s,  17.0mn)\n",
      "Iteration  896 /   1025 (elapsed time:  1192s,  19.0mn)\n",
      "Iteration  1024 /   1025 (elapsed time:  1361s,  22.0mn)\n",
      "done in 1364.22s.\n",
      "No cache found /tmp/data_cache/rescaling - nb_quant=594_dico.pkl: Learning the dictionary with algo = mp \n",
      " Training on 81920 patches... [dict_learning] Iteration   0 /   1025 (elapsed time:   1s,  0.0mn)\n",
      "Iteration  128 /   1025 (elapsed time:  174s,  2.0mn)\n",
      "Iteration  256 /   1025 (elapsed time:  347s,  5.0mn)\n",
      "Iteration  384 /   1025 (elapsed time:  521s,  8.0mn)\n",
      "Iteration  512 /   1025 (elapsed time:  693s,  11.0mn)\n",
      "Iteration  640 /   1025 (elapsed time:  866s,  14.0mn)\n",
      "Iteration  768 /   1025 (elapsed time:  1039s,  17.0mn)\n",
      "Iteration  896 /   1025 (elapsed time:  1212s,  20.0mn)\n",
      "Iteration  1024 /   1025 (elapsed time:  1385s,  23.0mn)\n",
      "done in 1387.68s.\n",
      "No cache found /tmp/data_cache/rescaling - nb_quant=1280_dico.pkl: Learning the dictionary with algo = mp \n",
      " Training on 81920 patches... [dict_learning] Iteration   0 /   1025 (elapsed time:   1s,  0.0mn)\n",
      "Iteration  128 /   1025 (elapsed time:  177s,  2.0mn)\n",
      "Iteration  256 /   1025 (elapsed time:  349s,  5.0mn)\n",
      "Iteration  384 /   1025 (elapsed time:  521s,  8.0mn)\n",
      "Iteration  512 /   1025 (elapsed time:  693s,  11.0mn)\n",
      "Iteration  640 /   1025 (elapsed time:  870s,  14.0mn)\n",
      "Iteration  768 /   1025 (elapsed time:  1047s,  17.0mn)\n",
      "Iteration  896 /   1025 (elapsed time:  1221s,  20.0mn)\n",
      "Iteration  1024 /   1025 (elapsed time:  1393s,  23.0mn)\n",
      "done in 1396.66s.\n",
      "loading the dico called : /tmp/data_cache/rescaling - nb_quant=12_dico.pkl\n",
      "loading the dico called : /tmp/data_cache/rescaling - nb_quant=27_dico.pkl\n",
      "loading the dico called : /tmp/data_cache/rescaling - nb_quant=59_dico.pkl\n",
      "loading the dico called : /tmp/data_cache/rescaling - nb_quant=128_dico.pkl\n",
      "loading the dico called : /tmp/data_cache/rescaling - nb_quant=275_dico.pkl\n",
      "loading the dico called : /tmp/data_cache/rescaling - nb_quant=594_dico.pkl\n",
      "loading the dico called : /tmp/data_cache/rescaling - nb_quant=1280_dico.pkl\n"
     ]
    },
    {
     "data": {
      "image/png": "[encoded data removed]",
      "text/plain": [
       "<matplotlib.figure.Figure at 0x1136e78d0>"
      ]
     },
     "metadata": {},
     "output_type": "display_data"
    }
   ],
   "source": [
    "experiments.scan(vtype='homeo_params', variable='nb_quant', list_figures=list_figures, display='')\n",
    "fig, ax = experiments.scan(vtype='homeo_params', variable='nb_quant', list_figures=[], display='final')"
   ]
  },
  {
   "cell_type": "raw",
   "metadata": {
    "ExecuteTime": {
     "end_time": "2018-01-31T16:36:40.091590Z",
     "start_time": "2018-01-31T13:23:22.340851Z"
    },
    "scrolled": false
   },
   "source": [
    "from joblib import Parallel, delayed\n",
    "def run(nb_quant, list_figures, data, homeo_params=homeo_params):\n",
    "    matname = tag + ' - nb_quant={}'.format(nb_quant)\n",
    "    shl = SHL(**deepcopy(opts))\n",
    "    homeo_params=shl.homeo_params\n",
    "    homeo_params.update(C=5., nb_quant=nb_quant)\n",
    "    opts.update(homeo_params=homeo_params)\n",
    "    \n",
    "    dico = shl.learn_dico(data=data, matname=matname, list_figures=list_figures)\n",
    "    return dico\n",
    "\n",
    "nb_quants = 2 ** np.arange(3, 9)\n",
    "if not n_jobs==1: out = Parallel(n_jobs=n_jobs, verbose=15)(delayed(run)(int(nb_quant), [], data, homeo_params) for nb_quant in  nb_quants)\n",
    "\n",
    "for nb_quant in  nb_quants:\n",
    "    dico = run(nb_quant, list_figures=list_figures, data=data, homeo_params=homeo_params)\n",
    "\n",
    "    plt.show()"
   ]
  },
  {
   "cell_type": "raw",
   "metadata": {
    "ExecuteTime": {
     "end_time": "2018-01-31T16:36:40.105877Z",
     "start_time": "2018-01-31T16:36:40.095827Z"
    },
    "scrolled": true
   },
   "source": [
    "shl = SHL(**deepcopy(opts))\n",
    "homeo_params = shl.homeo_params\n",
    "homeo_params"
   ]
  },
  {
   "cell_type": "raw",
   "metadata": {
    "ExecuteTime": {
     "end_time": "2018-01-31T16:36:40.117652Z",
     "start_time": "2018-01-31T16:36:40.108780Z"
    }
   },
   "source": [
    "print(homeo_params.update(eta_homeo=42))"
   ]
  },
  {
   "cell_type": "raw",
   "metadata": {
    "ExecuteTime": {
     "end_time": "2018-01-24T04:58:01.937349Z",
     "start_time": "2018-01-23T15:33:33.614687Z"
    }
   },
   "source": [
    "shl = SHL(**opts)\n",
    "for eta_homeo in np.logspace(-1, 1, N_scan, base=10)*shl.homeo_params['eta_homeo']:\n",
    "    matname = tag + ' - eta_homeo={eta_homeo}'.format(eta_homeo=eta_homeo)\n",
    "    homeo_params=shl.homeo_params\n",
    "    homeo_params.update(eta_homeo=eta_homeo)\n",
    "    opts.update(homeo_params=homeo_params)\n",
    "    shl = SHL(**deepcopy(opts))\n",
    "    dico = shl.learn_dico(data=data, matname=matname, list_figures=list_figures)\n",
    "    plt.show()"
   ]
  },
  {
   "cell_type": "raw",
   "metadata": {
    "ExecuteTime": {
     "end_time": "2018-01-24T04:59:18.274419Z",
     "start_time": "2018-01-24T04:58:01.940150Z"
    },
    "scrolled": false
   },
   "source": [
    "nb_quants = 2 ** np.arange(3, 9)\n",
    "opts_ = opts.copy()\n",
    "for nb_quant in  nb_quants:\n",
    "    matname = tag + ' - nb_quant={}'.format(nb_quant)\n",
    "    homeo_params = shl.homeo_params\n",
    "    homeo_params.update(C=5.)\n",
    "    homeo_params.update(nb_quant=nb_quant)\n",
    "    opts.update(homeo_params=homeo_params)\n",
    "    shl = SHL(**deepcopy(opts))\n",
    "    dico = shl.learn_dico(data=data, matname=matname, list_figures=list_figures)\n",
    "    plt.show()"
   ]
  },
  {
   "cell_type": "markdown",
   "metadata": {},
   "source": [
    "with an adaptive rescaling function ($C=0.$)"
   ]
  },
  {
   "cell_type": "raw",
   "metadata": {
    "ExecuteTime": {
     "end_time": "2018-01-13T07:42:25.336794Z",
     "start_time": "2018-01-13T06:30:29.742520Z"
    },
    "scrolled": false
   },
   "source": [
    "shl = SHL(**deepcopy(opts))\n",
    "opts_ = deepcopy(opts)\n",
    "\n",
    "from joblib import Parallel, delayed\n",
    "def run(shl, nb_quant, list_figures, data):\n",
    "    matname = tag + ' - auto - nb_quant={}'.format(nb_quant)\n",
    "    homeo_params = shl.homeo_params\n",
    "    homeo_params.update(C=0.)\n",
    "    homeo_params.update(nb_quant=nb_quant)\n",
    "    opts_.update(homeo_params=homeo_params)\n",
    "    shl = SHL(**deepcopy(opts))\n",
    "    dico = shl.learn_dico(data=data, matname=matname, list_figures=list_figures)\n",
    "    return dico\n",
    "\n",
    "nb_quants = 2 ** np.arange(3, 9)\n",
    "if not n_jobs==1: out = Parallel(n_jobs=n_jobs, verbose=15)(delayed(run)(shl, int(nb_quant), [], data) for nb_quant in  nb_quants)\n",
    "\n",
    "for nb_quant in  nb_quants:\n",
    "    dico = run(shl, nb_quant, list_figures, data)\n",
    "    plt.show()"
   ]
  },
  {
   "cell_type": "markdown",
   "metadata": {},
   "source": [
    "## Version used"
   ]
  },
  {
   "cell_type": "code",
   "execution_count": 6,
   "metadata": {
    "ExecuteTime": {
     "end_time": "2018-01-31T22:21:06.608289Z",
     "start_time": "2018-01-31T22:21:06.501717Z"
    }
   },
   "outputs": [
    {
     "data": {
      "application/json": {
       "Software versions": [
        {
         "module": "Python",
         "version": "3.6.4 64bit [GCC 4.2.1 Compatible Apple LLVM 9.0.0 (clang-900.0.39.2)]"
        },
        {
         "module": "IPython",
         "version": "6.2.1"
        },
        {
         "module": "OS",
         "version": "Darwin 17.3.0 x86_64 i386 64bit"
        },
        {
         "module": "numpy",
         "version": "1.14.0"
        },
        {
         "module": "shl_scripts",
         "version": "20171221"
        }
       ]
      },
      "text/html": [
       "<table><tr><th>Software</th><th>Version</th></tr><tr><td>Python</td><td>3.6.4 64bit [GCC 4.2.1 Compatible Apple LLVM 9.0.0 (clang-900.0.39.2)]</td></tr><tr><td>IPython</td><td>6.2.1</td></tr><tr><td>OS</td><td>Darwin 17.3.0 x86_64 i386 64bit</td></tr><tr><td>numpy</td><td>1.14.0</td></tr><tr><td>shl_scripts</td><td>20171221</td></tr><tr><td colspan='2'>Wed Jan 31 23:21:06 2018 CET</td></tr></table>"
      ],
      "text/latex": [
       "\\begin{tabular}{|l|l|}\\hline\n",
       "{\\bf Software} & {\\bf Version} \\\\ \\hline\\hline\n",
       "Python & 3.6.4 64bit [GCC 4.2.1 Compatible Apple LLVM 9.0.0 (clang-900.0.39.2)] \\\\ \\hline\n",
       "IPython & 6.2.1 \\\\ \\hline\n",
       "OS & Darwin 17.3.0 x86\\_64 i386 64bit \\\\ \\hline\n",
       "numpy & 1.14.0 \\\\ \\hline\n",
       "shl_scripts & 20171221 \\\\ \\hline\n",
       "\\hline \\multicolumn{2}{|l|}{Wed Jan 31 23:21:06 2018 CET} \\\\ \\hline\n",
       "\\end{tabular}\n"
      ],
      "text/plain": [
       "Software versions\n",
       "Python 3.6.4 64bit [GCC 4.2.1 Compatible Apple LLVM 9.0.0 (clang-900.0.39.2)]\n",
       "IPython 6.2.1\n",
       "OS Darwin 17.3.0 x86_64 i386 64bit\n",
       "numpy 1.14.0\n",
       "shl_scripts 20171221\n",
       "Wed Jan 31 23:21:06 2018 CET"
      ]
     },
     "execution_count": 6,
     "metadata": {},
     "output_type": "execute_result"
    }
   ],
   "source": [
    "%load_ext version_information\n",
    "%version_information numpy, shl_scripts"
   ]
  }
 ],
 "metadata": {
  "kernelspec": {
   "display_name": "Python 3",
   "language": "python",
   "name": "python3"
  },
  "language_info": {
   "codemirror_mode": {
    "name": "ipython",
    "version": 3
   },
   "file_extension": ".py",
   "mimetype": "text/x-python",
   "name": "python",
   "nbconvert_exporter": "python",
   "pygments_lexer": "ipython3",
   "version": "3.6.4"
  },
  "toc": {
   "nav_menu": {
    "height": "81px",
    "width": "252px"
   },
   "number_sections": true,
   "sideBar": true,
   "skip_h1_title": false,
   "toc_cell": false,
   "toc_position": {},
   "toc_section_display": "block",
   "toc_window_display": false
  }
 },
 "nbformat": 4,
 "nbformat_minor": 2
}
