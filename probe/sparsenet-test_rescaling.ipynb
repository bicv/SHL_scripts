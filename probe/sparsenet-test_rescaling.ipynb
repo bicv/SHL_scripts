{
 "cells": [
  {
   "cell_type": "markdown",
   "metadata": {},
   "source": [
    "# Sparse Hebbian Learning with full homeostasis : testing different rescaling functions\n",
    "\n",
    "In this notebook, we test the convergence of SparseNet as a function of different parameters tuning the quantization. These parameters only influence the way we select dictionary elements and thus the homeostasis.\n",
    "\n"
   ]
  },
  {
   "cell_type": "code",
   "execution_count": 1,
   "metadata": {
    "ExecuteTime": {
     "end_time": "2018-05-11T14:54:57.356301Z",
     "start_time": "2018-05-11T14:54:57.342176Z"
    }
   },
   "outputs": [],
   "source": [
    "%load_ext autoreload\n",
    "%autoreload 2"
   ]
  },
  {
   "cell_type": "code",
   "execution_count": 2,
   "metadata": {
    "ExecuteTime": {
     "end_time": "2018-05-11T14:54:57.646215Z",
     "start_time": "2018-05-11T14:54:57.358629Z"
    }
   },
   "outputs": [],
   "source": [
    "%matplotlib inline\n",
    "import matplotlib.pyplot as plt\n",
    "import numpy as np\n",
    "np.set_printoptions(precision=2, suppress=True)"
   ]
  },
  {
   "cell_type": "code",
   "execution_count": 3,
   "metadata": {
    "ExecuteTime": {
     "end_time": "2018-05-11T14:54:57.797992Z",
     "start_time": "2018-05-11T14:54:57.648463Z"
    },
    "scrolled": false
   },
   "outputs": [
    {
     "name": "stdout",
     "output_type": "stream",
     "text": [
      "Extracting data..loading the data called : data_cache/data_data\n",
      "Data is of shape : (65520, 324) - done in 0.09s.\n"
     ]
    }
   ],
   "source": [
    "from shl_scripts.shl_experiments import SHL_set\n",
    "tag = 'rescaling'\n",
    "#opts = dict(homeo_method='HEH', eta_homeo=0.05, C=10., nb_quant=256, P_cum=None, verbose=1)\n",
    "#opts = dict(homeo_method='HEH', n_iter=513, record_each=32, eta_homeo=0.1, C=5., nb_quant=256, P_cum=None, verbose=1)\n",
    "opts = dict(homeo_method='HEH', verbose=1)\n",
    "\n",
    "experiments = SHL_set(opts, tag=tag)\n",
    "list_figures = []\n",
    "list_figures = ['show_dico', 'show_Pcum']\n",
    "display_variables = ['error', 'logL', 'qerror', 'aerror', 'MI', 'cputime']\n",
    "display_variables = ['error', 'logL', 'perror', 'MC', 'cputime']"
   ]
  },
  {
   "cell_type": "code",
   "execution_count": 4,
   "metadata": {
    "ExecuteTime": {
     "end_time": "2018-05-11T14:54:58.070442Z",
     "start_time": "2018-05-11T14:54:57.800219Z"
    }
   },
   "outputs": [
    {
     "name": "stdout",
     "output_type": "stream",
     "text": [
      "-rw-r--r--  1 laurentperrinet  staff        0 May 11 11:14 data_cache/rescaling - C=0.50000_dico.pkl_lock\n",
      "-rw-r--r--  1 laurentperrinet  staff        0 May 11 11:14 data_cache/rescaling - C=0.50000_dico.pkl_lock_pid-51525_host-fortytwo\n",
      "-rw-r--r--  1 laurentperrinet  staff        0 May 11 13:15 data_cache/rescaling - C=0.79370_dico.pkl_lock\n",
      "-rw-r--r--  1 laurentperrinet  staff        0 May 11 13:15 data_cache/rescaling - C=0.79370_dico.pkl_lock_pid-5107_host-fortytwo\n",
      "-rw-r--r--  1 laurentperrinet  staff  2405197 Apr 27 18:46 data_cache/rescaling - C=1.25000_dico.pkl\n",
      "-rw-r--r--  1 laurentperrinet  staff  2405197 Apr 27 20:27 data_cache/rescaling - C=1.98425_dico.pkl\n",
      "-rw-r--r--  1 laurentperrinet  staff  2405197 Apr 28 02:32 data_cache/rescaling - C=12.59921_dico.pkl\n",
      "-rw-r--r--  1 laurentperrinet  staff  2405197 Apr 28 03:54 data_cache/rescaling - C=20.00000_dico.pkl\n",
      "-rw-r--r--  1 laurentperrinet  staff  2405197 Apr 27 22:03 data_cache/rescaling - C=3.14980_dico.pkl\n",
      "-rw-r--r--  1 laurentperrinet  staff  2405197 Apr 27 23:40 data_cache/rescaling - C=5.00000_dico.pkl\n",
      "-rw-r--r--  1 laurentperrinet  staff  2405197 Apr 28 01:10 data_cache/rescaling - C=7.93701_dico.pkl\n",
      "-rw-r--r--  1 laurentperrinet  staff  1858300 Apr 28 06:30 data_cache/rescaling - nb_quant=101_dico.pkl\n",
      "-rw-r--r--  1 laurentperrinet  staff  5114646 Apr 28 13:03 data_cache/rescaling - nb_quant=1024_dico.pkl\n",
      "-rw-r--r--  1 laurentperrinet  staff  2069980 Apr 28 07:47 data_cache/rescaling - nb_quant=161_dico.pkl\n",
      "-rw-r--r--  1 laurentperrinet  staff  2405142 Apr 28 09:06 data_cache/rescaling - nb_quant=256_dico.pkl\n",
      "-rw-r--r--  1 laurentperrinet  staff  2934342 Apr 28 10:23 data_cache/rescaling - nb_quant=406_dico.pkl\n",
      "-rw-r--r--  1 laurentperrinet  staff  3777534 Apr 28 11:42 data_cache/rescaling - nb_quant=645_dico.pkl\n",
      "-rw-r--r--  1 laurentperrinet  staff  1727764 Apr 28 05:13 data_cache/rescaling - nb_quant=64_dico.pkl\n",
      "-rw-r--r--  1 laurentperrinet  staff  0 May 11 11:14 data_cache/rescaling - C=0.50000_dico.pkl_lock\n",
      "-rw-r--r--  1 laurentperrinet  staff  0 May 11 11:14 data_cache/rescaling - C=0.50000_dico.pkl_lock_pid-51525_host-fortytwo\n",
      "-rw-r--r--  1 laurentperrinet  staff  0 May 11 13:15 data_cache/rescaling - C=0.79370_dico.pkl_lock\n",
      "-rw-r--r--  1 laurentperrinet  staff  0 May 11 13:15 data_cache/rescaling - C=0.79370_dico.pkl_lock_pid-5107_host-fortytwo\n"
     ]
    }
   ],
   "source": [
    "!ls -l {experiments.shl.data_cache}/{tag}*\n",
    "!ls -l {experiments.shl.data_cache}/{tag}*lock*"
   ]
  },
  {
   "cell_type": "raw",
   "metadata": {},
   "source": [
    "!rm -fr {experiments.shl.data_cache}/{tag}*\n",
    "!ls -l {experiments.shl.data_cache}/{tag}*"
   ]
  },
  {
   "cell_type": "markdown",
   "metadata": {},
   "source": [
    "## different rescaling values"
   ]
  },
  {
   "cell_type": "code",
   "execution_count": null,
   "metadata": {
    "ExecuteTime": {
     "start_time": "2018-05-11T14:54:57.352Z"
    },
    "scrolled": false
   },
   "outputs": [
    {
     "name": "stdout",
     "output_type": "stream",
     "text": [
      "the computation is locked data_cache/rescaling - C=0.50000_dico.pkl_lock_pid-2798_host-fortytwo\n",
      "the computation is locked data_cache/rescaling - C=0.50000_dico.pkl_lock_pid-2798_host-fortytwo\n",
      "the computation is locked data_cache/rescaling - C=0.79370_dico.pkl_lock_pid-2798_host-fortytwo\n",
      "the computation is locked data_cache/rescaling - C=0.79370_dico.pkl_lock_pid-2798_host-fortytwo\n",
      "No cache found data_cache/rescaling - C=1.25992_dico.pkl: Learning the dictionary with algo = mp \n",
      " Training on 65520 patches\n",
      "[dict_learning] Iteration   1 /   1025 (elapsed time:   1s,   0mn   1s)\n",
      "Iteration  129 /   1025 (elapsed time:  93s,   1mn  33s)\n",
      "Iteration  257 /   1025 (elapsed time:  188s,   3mn   8s)\n"
     ]
    }
   ],
   "source": [
    "experiments.scan(variable='C', list_figures=list_figures, display='')\n",
    "plt.show()\n",
    "for display_variable in display_variables:\n",
    "    fig, ax = experiments.scan(variable='C', list_figures=[], display='final', display_variable=display_variable)\n",
    "    #plt.show()"
   ]
  },
  {
   "cell_type": "markdown",
   "metadata": {},
   "source": [
    "## different quantization parameters"
   ]
  },
  {
   "cell_type": "markdown",
   "metadata": {},
   "source": [
    "with a fixed $C$, we now change the number of quantization steps used to compute the histogram:"
   ]
  },
  {
   "cell_type": "code",
   "execution_count": null,
   "metadata": {
    "ExecuteTime": {
     "start_time": "2018-05-11T14:54:57.355Z"
    },
    "scrolled": false
   },
   "outputs": [],
   "source": [
    "experiments.scan(variable='nb_quant', list_figures=list_figures, display='')\n",
    "plt.show()\n",
    "for display_variable in display_variables:\n",
    "    fig, ax = experiments.scan(variable='nb_quant', list_figures=[], display='final', display_variable=display_variable)\n",
    "    #plt.show()"
   ]
  },
  {
   "cell_type": "markdown",
   "metadata": {},
   "source": [
    "## Version used"
   ]
  },
  {
   "cell_type": "code",
   "execution_count": null,
   "metadata": {
    "ExecuteTime": {
     "start_time": "2018-05-11T14:54:57.356Z"
    }
   },
   "outputs": [],
   "source": [
    "%load_ext version_information\n",
    "%version_information numpy, shl_scripts"
   ]
  }
 ],
 "metadata": {
  "kernelspec": {
   "display_name": "Python 3",
   "language": "python",
   "name": "python3"
  },
  "language_info": {
   "codemirror_mode": {
    "name": "ipython",
    "version": 3
   },
   "file_extension": ".py",
   "mimetype": "text/x-python",
   "name": "python",
   "nbconvert_exporter": "python",
   "pygments_lexer": "ipython3",
   "version": "3.6.5"
  },
  "toc": {
   "base_numbering": 1,
   "nav_menu": {
    "height": "81px",
    "width": "252px"
   },
   "number_sections": true,
   "sideBar": true,
   "skip_h1_title": false,
   "title_cell": "Table of Contents",
   "title_sidebar": "Contents",
   "toc_cell": false,
   "toc_position": {},
   "toc_section_display": "block",
   "toc_window_display": false
  }
 },
 "nbformat": 4,
 "nbformat_minor": 2
}
