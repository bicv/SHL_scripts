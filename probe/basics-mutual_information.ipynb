{
 "cells": [
  {
   "cell_type": "markdown",
   "metadata": {},
   "source": [
    "# Sparse Hebbian Learning: toward a quantitative measure of the quality of filters\n",
    "\n",
    "We are interested here in learning the \"optimal\" components of a set of images (let's say some \"natural\", usual images). As there is no supervisor to guide the learning, this is called unsupervised learning. Our basic hypothesis to find the best (\"optimal\") components will be to assume that *a priori* the most sparse is more plausible. We will implement the derived algorithm in this set of scripts.\n",
    "\n"
   ]
  },
  {
   "cell_type": "code",
   "execution_count": 1,
   "metadata": {
    "ExecuteTime": {
     "end_time": "2018-03-05T15:34:50.656881Z",
     "start_time": "2018-03-05T15:34:50.608257Z"
    }
   },
   "outputs": [],
   "source": [
    "%load_ext autoreload\n",
    "%autoreload 2"
   ]
  },
  {
   "cell_type": "code",
   "execution_count": 2,
   "metadata": {
    "ExecuteTime": {
     "end_time": "2018-03-05T15:34:51.865657Z",
     "start_time": "2018-03-05T15:34:50.660431Z"
    }
   },
   "outputs": [],
   "source": [
    "%matplotlib inline\n",
    "import matplotlib.pyplot as plt\n",
    "import numpy as np\n",
    "np.set_printoptions(precision=4, suppress=True)\n",
    "import pandas as pd"
   ]
  },
  {
   "cell_type": "markdown",
   "metadata": {},
   "source": [
    "## experiments\n",
    "\n",
    "To test and control for the role of different parameters, we will have a first object (in the [shl_experiments.py](https://github.com/bicv/SHL_scripts/blob/master/shl_scripts/shl_experiments.py) script) that controls a learning experiment. It contains all relevant parameters, but can also keep a trace of the history of some statistics. This is useful to compare the relative efficiency of the different solutions.\n"
   ]
  },
  {
   "cell_type": "code",
   "execution_count": 3,
   "metadata": {
    "ExecuteTime": {
     "end_time": "2018-03-05T15:36:26.745658Z",
     "start_time": "2018-03-05T15:34:51.870551Z"
    }
   },
   "outputs": [
    {
     "name": "stdout",
     "output_type": "stream",
     "text": [
      "Extracting data..No cache found data_cache/mutual_information_data: Extracting data... Extracting data..Photo2018-01-18_0440462510.jpg, Photo2018-01-18_0309392473.jpg, Photo2018-01-18_0343102547.jpg, Photo2018-02-18_0911262631 square.jpg, Photo2018-01-18_0327052545.jpg, Photo2018-01-18_0440352508.jpg, Photo2018-01-18_0230432458.jpg, Photo2018-01-18_0316462527.jpg, Photo2018-01-18_0553172551.jpg, Photo2018-01-18_0423102502.jpg, Photo2018-01-18_0422432500.jpg, Photo2018-01-18_0441022511.jpg, Data is of shape : (262140, 144) - done in 94.02s.\n",
      "Data is of shape : (262140, 144) - done in 94.76s.\n"
     ]
    }
   ],
   "source": [
    "DEBUG_DOWNSCALE, verbose = 10, 0\n",
    "DEBUG_DOWNSCALE, verbose = 1, 0\n",
    "DEBUG_DOWNSCALE, verbose = 10, 10\n",
    "DEBUG_DOWNSCALE, verbose = 1, 10\n",
    "\n",
    "tag = 'mutual_information'\n",
    "\n",
    "eta_homeo = 0.02\n",
    "\n",
    "homeo_methods = ['HEH', 'None']\n",
    "nb_quant = 128\n",
    "nb_quant = 256\n",
    "C = 5.\n",
    "alpha_homeo = 0.0\n",
    "\n",
    "homeo_methods = ['HAP', 'None']\n",
    "alpha_homeo = 1.\n",
    "\n",
    "n_iter = 2**13 + 1\n",
    "\n",
    "record_num_batches = 2**12\n",
    "N_show = 120\n",
    "max_patches = 10\n",
    "seed = 42\n",
    "np.random.seed(seed)\n",
    "\n",
    "opts = dict(DEBUG_DOWNSCALE=DEBUG_DOWNSCALE, n_iter=n_iter, \n",
    "            eta_homeo=eta_homeo, alpha_homeo=alpha_homeo, \n",
    "            C=C, nb_quant=nb_quant, P_cum=None, verbose=verbose)\n",
    "\n",
    "from shl_scripts.shl_experiments import SHL\n",
    "shl = SHL(**opts)\n",
    "data = shl.get_data(matname=tag)"
   ]
  },
  {
   "cell_type": "code",
   "execution_count": 4,
   "metadata": {
    "ExecuteTime": {
     "end_time": "2018-03-05T15:36:27.092269Z",
     "start_time": "2018-03-05T15:36:26.750573Z"
    },
    "scrolled": false
   },
   "outputs": [
    {
     "name": "stdout",
     "output_type": "stream",
     "text": [
      "-rw-r--r--  1 laurentperrinet  staff  301985408 Mar  5 16:36 data_cache/mutual_information_data.npy\r\n"
     ]
    }
   ],
   "source": [
    "!ls -l {shl.data_cache}/{tag}*\n",
    "!rm -fr {shl.data_cache}/{tag}*lock*"
   ]
  },
  {
   "cell_type": "raw",
   "metadata": {
    "ExecuteTime": {
     "end_time": "2018-03-05T15:34:45.462377Z",
     "start_time": "2018-03-05T15:34:45.043024Z"
    }
   },
   "source": [
    "!rm {shl.data_cache}/{tag}*\n",
    "!ls -l {shl.data_cache}/{tag}*"
   ]
  },
  {
   "cell_type": "code",
   "execution_count": 5,
   "metadata": {
    "ExecuteTime": {
     "end_time": "2018-03-05T15:36:27.749527Z",
     "start_time": "2018-03-05T15:36:27.101562Z"
    },
    "scrolled": false
   },
   "outputs": [
    {
     "name": "stdout",
     "output_type": "stream",
     "text": [
      "number of patches, size of patches =  (262140, 144)\n",
      "average of patches =  1.4578306989484052e-05  +/-  0.006638689828201611\n",
      "average energy of data =  0.029647154513547106 +/- 0.03759209103599952\n"
     ]
    }
   ],
   "source": [
    "print('number of patches, size of patches = ', data.shape)\n",
    "print('average of patches = ', data.mean(), ' +/- ', data.mean(axis=1).std())\n",
    "SE = np.sqrt(np.mean(data**2, axis=1))\n",
    "print('average energy of data = ', SE.mean(), '+/-', SE.std())"
   ]
  },
  {
   "cell_type": "raw",
   "metadata": {
    "ExecuteTime": {
     "end_time": "2018-02-15T08:52:01.571586Z",
     "start_time": "2018-02-15T08:52:01.495857Z"
    }
   },
   "source": [
    "l0_sparseness = shl.l0_sparseness\n",
    "l0_sparseness_noise = 200 #shl.n_dictionary #"
   ]
  },
  {
   "cell_type": "code",
   "execution_count": 6,
   "metadata": {
    "ExecuteTime": {
     "end_time": "2018-03-05T15:36:27.857320Z",
     "start_time": "2018-03-05T15:36:27.752814Z"
    }
   },
   "outputs": [],
   "source": [
    "stick = np.arange(shl.n_dictionary)*nb_quant\n",
    "\n",
    "indx = np.random.permutation(data.shape[0])[:record_num_batches]\n",
    "P_cum_zeroeffect = np.linspace(0, 1, nb_quant, endpoint=True)[np.newaxis, :] * np.ones((shl.n_dictionary, 1))\n"
   ]
  },
  {
   "cell_type": "markdown",
   "metadata": {},
   "source": [
    "## learning\n",
    "\n",
    "The actual learning is done in a second object (here ``dico``) from which we can access another set of properties and functions  (see the [shl_learn.py](https://github.com/bicv/SHL_scripts/blob/master/shl_scripts/shl_learn.py) script):"
   ]
  },
  {
   "cell_type": "code",
   "execution_count": null,
   "metadata": {
    "ExecuteTime": {
     "start_time": "2018-03-05T15:34:50.638Z"
    },
    "scrolled": false
   },
   "outputs": [
    {
     "name": "stdout",
     "output_type": "stream",
     "text": [
      "No cache found data_cache/mutual_information_HAP_dico.pkl: Learning the dictionary with algo = mp \n",
      " Training on 262140 patches\n",
      "Iteration   1 /   8193 (elapsed time:   2s,   0mn   2s)\n",
      "Iteration  129 /   8193 (elapsed time:  64s,   1mn   4s)\n",
      "Iteration  257 /   8193 (elapsed time:  125s,   2mn   5s)\n",
      "Iteration  385 /   8193 (elapsed time:  185s,   3mn   5s)\n",
      "Iteration  513 /   8193 (elapsed time:  246s,   4mn   6s)\n",
      "Iteration  641 /   8193 (elapsed time:  307s,   5mn   7s)\n",
      "Iteration  769 /   8193 (elapsed time:  368s,   6mn   8s)\n",
      "Iteration  897 /   8193 (elapsed time:  429s,   7mn   9s)\n",
      "Iteration  1025 /   8193 (elapsed time:  489s,   8mn   9s)\n",
      "Iteration  1153 /   8193 (elapsed time:  550s,   9mn  10s)\n",
      "Iteration  1281 /   8193 (elapsed time:  611s,  10mn  11s)\n",
      "Iteration  1409 /   8193 (elapsed time:  672s,  11mn  12s)\n",
      "Iteration  1537 /   8193 (elapsed time:  733s,  12mn  13s)\n",
      "Iteration  1665 /   8193 (elapsed time:  796s,  13mn  16s)\n",
      "Iteration  1793 /   8193 (elapsed time:  860s,  14mn  20s)\n",
      "Iteration  1921 /   8193 (elapsed time:  926s,  15mn  26s)\n",
      "Iteration  2049 /   8193 (elapsed time:  987s,  16mn  27s)\n",
      "Iteration  2177 /   8193 (elapsed time:  1048s,  17mn  28s)\n",
      "Iteration  2305 /   8193 (elapsed time:  1109s,  18mn  29s)\n",
      "Iteration  2433 /   8193 (elapsed time:  1170s,  19mn  30s)\n",
      "Iteration  2561 /   8193 (elapsed time:  1234s,  20mn  34s)\n"
     ]
    }
   ],
   "source": [
    "list_figures = ['show_dico', 'time_plot_error', 'time_plot_logL', 'show_Pcum']\n",
    "\n",
    "dico = {}\n",
    "for homeo_method in homeo_methods:\n",
    "    shl = SHL(homeo_method=homeo_method, **opts)\n",
    "    dico[homeo_method] = shl.learn_dico(data=data, list_figures=list_figures, matname=tag + '_' + homeo_method)\n",
    "\n",
    "    print('size of dictionary = (number of filters, size of imagelets) = ', dico[homeo_method].dictionary.shape)\n",
    "    print('average of filters = ',  dico[homeo_method].dictionary.mean(axis=1).mean(), \n",
    "          '+/-',  dico[homeo_method].dictionary.mean(axis=1).std())\n",
    "    SE = np.sqrt(np.sum(dico[homeo_method].dictionary**2, axis=1))\n",
    "    print('average energy of filters = ', SE.mean(), '+/-', SE.std())"
   ]
  },
  {
   "cell_type": "raw",
   "metadata": {
    "ExecuteTime": {
     "end_time": "2018-02-17T08:53:57.728802Z",
     "start_time": "2018-02-17T08:53:54.506458Z"
    },
    "scrolled": false
   },
   "source": [
    "    if not dico[homeo_method].P_cum is None: \n",
    "        from shl_scripts.shl_tools import plot_P_cum\n",
    "        fig, ax = plot_P_cum(dico[homeo_method].P_cum, verbose=False, alpha=.15);\n",
    "        ax.set_ylim(0.95, 1.001)\n",
    "        #ax.set_xmargin(0.);"
   ]
  },
  {
   "cell_type": "markdown",
   "metadata": {},
   "source": [
    "## theory\n",
    "\n"
   ]
  },
  {
   "cell_type": "raw",
   "metadata": {
    "ExecuteTime": {
     "end_time": "2018-02-15T15:47:38.856955Z",
     "start_time": "2018-02-15T15:47:38.796854Z"
    }
   },
   "source": [
    "sparse_code_binary.shape"
   ]
  },
  {
   "cell_type": "code",
   "execution_count": null,
   "metadata": {
    "ExecuteTime": {
     "start_time": "2018-03-05T15:34:50.692Z"
    }
   },
   "outputs": [],
   "source": [
    "from scipy.stats import binom\n",
    "# define the mean\n",
    "rho = shl.l0_sparseness / shl.n_dictionary\n",
    "\n",
    "# draw binomial samples\n",
    "sparse_code_binary = np.random.rand(record_num_batches, shl.n_dictionary) > 1 - rho"
   ]
  },
  {
   "cell_type": "code",
   "execution_count": null,
   "metadata": {
    "ExecuteTime": {
     "start_time": "2018-03-05T15:34:50.696Z"
    }
   },
   "outputs": [],
   "source": [
    "print('Sum of non-zero coefficients', sparse_code_binary.sum(), '~=', shl.l0_sparseness*record_num_batches)\n",
    "print('average non-zeros', np.count_nonzero(sparse_code_binary, axis=0).mean(), '~=', rho*record_num_batches)\n",
    "print('activation vector', np.count_nonzero(sparse_code_binary, axis=0))"
   ]
  },
  {
   "cell_type": "code",
   "execution_count": null,
   "metadata": {
    "ExecuteTime": {
     "start_time": "2018-03-05T15:34:50.700Z"
    }
   },
   "outputs": [],
   "source": [
    "b_ij = (sparse_code_binary[:, np.newaxis, :]>0) * (sparse_code_binary[:, :, np.newaxis]>0)\n",
    "print('Shape of co-occurrences', b_ij.shape)\n",
    "print('activation vector', np.count_nonzero(b_ij, axis=0))\n",
    "fig, ax= plt.subplots(figsize=(13, 13))\n",
    "ax.imshow(np.log(np.count_nonzero(b_ij, axis=0)));\n",
    "print('marginal activation vector', np.count_nonzero(b_ij, axis=0).mean(axis=-1))"
   ]
  },
  {
   "cell_type": "code",
   "execution_count": null,
   "metadata": {
    "ExecuteTime": {
     "start_time": "2018-03-05T15:34:50.705Z"
    }
   },
   "outputs": [],
   "source": [
    "b_ij = (sparse_code_binary[:, np.newaxis, :]>0) * (sparse_code_binary[:, :, np.newaxis]>0)\n",
    "P_ij = 1.*np.count_nonzero(b_ij, axis=0)\n",
    "P_ij /= P_ij.sum()\n",
    "P_i = 1.*np.count_nonzero(sparse_code_binary, axis=0)\n",
    "P_i /= P_i.sum()\n",
    "fig, ax= plt.subplots(figsize=(13, 13))\n",
    "MI_ = - (P_ij * np.log( P_i[:, np.newaxis]*P_i[np.newaxis, :] / P_ij  ))\n",
    "MI_[P_ij==0] = 0\n",
    "MI_[(P_i[:, np.newaxis]*P_i[np.newaxis, :])==0] = 0\n",
    "print('Min-Max', MI_.min(), MI_.max())\n",
    "ax.imshow(MI_);"
   ]
  },
  {
   "cell_type": "code",
   "execution_count": null,
   "metadata": {
    "ExecuteTime": {
     "start_time": "2018-03-05T15:34:50.709Z"
    }
   },
   "outputs": [],
   "source": [
    "fig, ax= plt.subplots(figsize=(13, 5))\n",
    "ax.hist(MI_.ravel(), bins=200)\n",
    "ax.set_yscale('log');"
   ]
  },
  {
   "cell_type": "code",
   "execution_count": null,
   "metadata": {
    "ExecuteTime": {
     "start_time": "2018-03-05T15:34:50.714Z"
    }
   },
   "outputs": [],
   "source": [
    "def get_MI(sparse_code):\n",
    "    b_ij = (sparse_code[:, np.newaxis, :]>0) * (sparse_code[:, :, np.newaxis]>0)\n",
    "    P_ij = 1.*np.count_nonzero(b_ij, axis=0)\n",
    "    P_ij /= P_ij.sum()\n",
    "    P_i = 1.*np.count_nonzero(sparse_code_binary, axis=0)\n",
    "    P_i /= P_i.sum()\n",
    "    MI_ = - P_ij * np.log( P_i[:, np.newaxis]*P_i[np.newaxis, :] / P_ij  )\n",
    "    MI_[P_ij==0] = 0\n",
    "    MI_[(P_i[:, np.newaxis]*P_i[np.newaxis, :])==0] = 0\n",
    "    return MI_.sum()\n",
    "    "
   ]
  },
  {
   "cell_type": "code",
   "execution_count": null,
   "metadata": {
    "ExecuteTime": {
     "start_time": "2018-03-05T15:34:50.718Z"
    }
   },
   "outputs": [],
   "source": [
    "for _ in range(10):\n",
    "    sparse_code_binary = np.random.rand(record_num_batches, shl.n_dictionary) > 1 - rho\n",
    "    MI = get_MI(sparse_code_binary)\n",
    "    print ('Mutual information for random sample=', MI)"
   ]
  },
  {
   "cell_type": "markdown",
   "metadata": {},
   "source": [
    "## coding\n",
    "\n",
    "The learning itself is done via a gradient descent but is highly dependent on the coding / decoding algorithm. This belongs to a another function (in the [shl_encode.py](https://github.com/bicv/SHL_scripts/blob/master/shl_scripts/shl_encode.py) script)"
   ]
  },
  {
   "cell_type": "code",
   "execution_count": null,
   "metadata": {
    "ExecuteTime": {
     "start_time": "2018-03-05T15:34:50.723Z"
    }
   },
   "outputs": [],
   "source": [
    "from shl_scripts.shl_tools import show_data\n",
    "def print_stats(data, dictionary, sparse_code):\n",
    "    print(42*'🐒')\n",
    "\n",
    "    print('number of codes, size of codewords = ', sparse_code.shape)\n",
    "    print('average of codewords = ', sparse_code.mean())\n",
    "    print('average std of codewords = ', sparse_code.std())\n",
    "    print('l0-sparseness of codewords = ', (sparse_code>0).mean(), ' ~= l0/M =', shl.l0_sparseness/shl.n_dictionary)\n",
    "    print('std of the average of individual patches = ', sparse_code.mean(axis=0).std())\n",
    "\n",
    "\n",
    "    plt.matshow(sparse_code[:N_show, :])\n",
    "    plt.show()\n",
    "    fig, axs = show_data(data[:max_patches, :])\n",
    "    plt.show()\n",
    "\n",
    "    patches = sparse_code @ dictionary\n",
    "    error = data - patches\n",
    "    \n",
    "    print('number of codes, size of reconstructed images = ', patches.shape)\n",
    "\n",
    "    fig, axs = show_data(patches[:max_patches, :])\n",
    "    plt.show()\n",
    "    fig, axs = show_data(error[:max_patches, :], cmax=np.max(np.abs(patches[:max_patches, :])))\n",
    "    plt.show()\n",
    "    print('average of data patches = ', data.mean(), '+/-', data.mean(axis=1).std())\n",
    "    print('average of residual patches = ', error.mean(), '+/-', error.mean(axis=1).std())\n",
    "    SD = np.sqrt(np.mean(data**2, axis=1))\n",
    "\n",
    "    print('median energy of data = ', np.median(SD))\n",
    "    print('average energy of data = ', SD.mean(), '+/-', SD.std())\n",
    "    \n",
    "    SE = np.sqrt(np.mean(error**2, axis=1))\n",
    "\n",
    "    print('average energy of residual = ', SE.mean(), '+/-', SE.std())\n",
    "    print('median energy of residual = ', np.median(SE))\n",
    "    print('average gain of coding = ', (SD/SE).mean(), '+/-', (SD/SE).std())\n",
    "    \n",
    "    return SD, SE"
   ]
  },
  {
   "cell_type": "code",
   "execution_count": null,
   "metadata": {
    "ExecuteTime": {
     "start_time": "2018-03-05T15:34:50.728Z"
    }
   },
   "outputs": [],
   "source": [
    "homeo_methods"
   ]
  },
  {
   "cell_type": "code",
   "execution_count": null,
   "metadata": {
    "ExecuteTime": {
     "start_time": "2018-03-05T15:34:50.737Z"
    },
    "scrolled": false
   },
   "outputs": [],
   "source": [
    "from shl_scripts.shl_encode import sparse_encode\n",
    "sparse_code = {}\n",
    "for homeo_method in homeo_methods:\n",
    "    if dico[homeo_method].P_cum is None: \n",
    "        gain = np.ones(shl.n_dictionary)\n",
    "    else:\n",
    "        gain = None\n",
    "    sparse_code[homeo_method] = sparse_encode(data[indx, :], dico[homeo_method].dictionary, \n",
    "                                 P_cum=dico[homeo_method].P_cum, l0_sparseness = shl.l0_sparseness, C=C, gain=gain)\n",
    "    SD, SE = print_stats(data[indx, :], dico[homeo_method].dictionary, sparse_code[homeo_method])"
   ]
  },
  {
   "cell_type": "markdown",
   "metadata": {},
   "source": [
    "## measuring the distance to independance "
   ]
  },
  {
   "cell_type": "code",
   "execution_count": null,
   "metadata": {
    "ExecuteTime": {
     "start_time": "2018-03-05T15:34:50.742Z"
    }
   },
   "outputs": [],
   "source": [
    "#fig, ax= plt.subplots(figsize=(13, 5))\n",
    "for homeo_method in homeo_methods:\n",
    "    MI = get_MI(sparse_code[homeo_method])\n",
    "    print ('Mutual information for homeo_method=', homeo_method, 'is', MI)\n"
   ]
  },
  {
   "cell_type": "code",
   "execution_count": null,
   "metadata": {
    "ExecuteTime": {
     "start_time": "2018-03-05T15:34:50.747Z"
    }
   },
   "outputs": [],
   "source": [
    "shl.l0_sparseness/shl.n_dictionary"
   ]
  },
  {
   "cell_type": "markdown",
   "metadata": {},
   "source": [
    "## Version used"
   ]
  },
  {
   "cell_type": "code",
   "execution_count": null,
   "metadata": {
    "ExecuteTime": {
     "start_time": "2018-03-05T15:34:50.752Z"
    }
   },
   "outputs": [],
   "source": [
    "%load_ext version_information\n",
    "%version_information numpy, shl_scripts, pandas"
   ]
  }
 ],
 "metadata": {
  "kernelspec": {
   "display_name": "Python 3",
   "language": "python",
   "name": "python3"
  },
  "language_info": {
   "codemirror_mode": {
    "name": "ipython",
    "version": 3
   },
   "file_extension": ".py",
   "mimetype": "text/x-python",
   "name": "python",
   "nbconvert_exporter": "python",
   "pygments_lexer": "ipython3",
   "version": "3.6.4"
  },
  "toc": {
   "nav_menu": {
    "height": "102px",
    "width": "252px"
   },
   "number_sections": true,
   "sideBar": true,
   "skip_h1_title": false,
   "toc_cell": false,
   "toc_position": {},
   "toc_section_display": "block",
   "toc_window_display": false
  }
 },
 "nbformat": 4,
 "nbformat_minor": 2
}
