{
 "cells": [
  {
   "cell_type": "markdown",
   "metadata": {},
   "source": [
    "# Sparse Hebbian Learning : reproducing SparseNet\n",
    "\n",
    "In this notebook, we test the convergence of SparseNet as a function of different learning parameters. This shows the relative robusteness of this method according to the coding parameters, but also the importance of homeostasis to obtain an efficient set of filters.\n",
    "\n",
    "See also :\n",
    "* http://blog.invibe.net/posts/2015-05-05-reproducing-olshausens-classical-sparsenet.html for a description of how SparseNet is implemented in the scikit-learn package\n",
    "* http://blog.invibe.net/posts/2015-05-06-reproducing-olshausens-classical-sparsenet-part-2.html for a descrtiption of how we managed to implement the homeostasis"
   ]
  },
  {
   "cell_type": "raw",
   "metadata": {},
   "source": [
    "%load_ext autoreload\n",
    "%autoreload 2"
   ]
  },
  {
   "cell_type": "code",
   "execution_count": 1,
   "metadata": {
    "ExecuteTime": {
     "end_time": "2018-09-28T07:20:14.092742Z",
     "start_time": "2018-09-28T07:20:13.726047Z"
    }
   },
   "outputs": [],
   "source": [
    "%matplotlib inline\n",
    "import matplotlib.pyplot as plt\n",
    "import numpy as np\n",
    "np.set_printoptions(precision=2, suppress=True)\n",
    "from copy import deepcopy"
   ]
  },
  {
   "cell_type": "markdown",
   "metadata": {},
   "source": [
    "## Homeostasis à-la-SparseNet"
   ]
  },
  {
   "cell_type": "code",
   "execution_count": 2,
   "metadata": {
    "ExecuteTime": {
     "end_time": "2018-09-28T07:20:14.223193Z",
     "start_time": "2018-09-28T07:20:14.096626Z"
    }
   },
   "outputs": [],
   "source": [
    "from shl_scripts.shl_experiments import SHL_set\n",
    "tag = 'OLS'\n",
    "experiments = SHL_set({})"
   ]
  },
  {
   "cell_type": "code",
   "execution_count": 3,
   "metadata": {
    "ExecuteTime": {
     "end_time": "2018-09-28T13:29:59.747806Z",
     "start_time": "2018-09-28T13:29:59.667573Z"
    },
    "scrolled": true
   },
   "outputs": [
    {
     "name": "stdout",
     "output_type": "stream",
     "text": [
      "Overwriting cache_dir/OLS.py\n"
     ]
    }
   ],
   "source": [
    "%%writefile {experiments.shl.cache_dir}/{tag}.py\n",
    "\n",
    "import numpy as np\n",
    "np.set_printoptions(precision=2, suppress=True)\n",
    "\n",
    "try:\n",
    "    import sys\n",
    "    command = sys.argv[1]\n",
    "except:\n",
    "    command = 'run'\n",
    "try:\n",
    "    n_jobs = sys.argv[2]\n",
    "except:\n",
    "    n_jobs = 1\n",
    "    n_jobs = 9\n",
    "    n_jobs = 35\n",
    "    n_jobs = 4\n",
    "    n_jobs = 10\n",
    "\n",
    "from shl_scripts.shl_experiments import SHL_set\n",
    "tag = 'OLS'\n",
    "opts = dict(homeo_method=tag, verbose=0)\n",
    "\n",
    "experiments = SHL_set(opts, tag=tag)\n",
    "\n",
    "variables = ['eta']\n",
    "variables = ['eta', 'alpha_homeo']\n",
    "variables = ['eta', 'eta_homeo', 'alpha_MP', 'eta_precision', ]\n",
    "variables = ['eta', 'eta_homeo', 'l0_sparseness']\n",
    "variables = ['eta', 'eta_homeo']\n",
    "variables = ['eta', 'eta_homeo', 'alpha_homeo', 'l0_sparseness']\n",
    "\n",
    "list_figures = []\n",
    "list_figures = ['show_dico', 'show_Pcum']\n",
    "list_figures = ['show_dico', ]\n",
    "\n",
    "display_variables = ['error', 'logL', 'perror', 'aerror', 'MI', 'cputime', 'F']\n",
    "display_variables = ['error', 'qerror', 'F']\n",
    "\n",
    "if command == 'run':\n",
    "    experiments.run(variables=variables, n_jobs=n_jobs)\n",
    "\n",
    "if command == 'plot':\n",
    "    import matplotlib.pyplot as plt\n",
    "    for variable in variables:\n",
    "        experiments = SHL_set(opts, tag=tag)\n",
    "        experiments.scan(variable=variable, list_figures=list_figures, display='', fig_kwargs={'dim_graph':(2, 15)}, verbose=1)\n",
    "        plt.show()\n",
    "\n",
    "        for display_variable in display_variables:\n",
    "            print('Time evolution of ', display_variable)\n",
    "            fig, ax = experiments.scan(variable=variable, list_figures=[], display='dynamic', display_variable=display_variable)\n",
    "            plt.show()\n",
    "        plt.show()\n",
    "\n",
    "        for display_variable in display_variables:\n",
    "            print('Comparison at the end of learning for ', display_variable)\n",
    "            fig, ax = experiments.scan(variable=variable, list_figures=[], display='final', \n",
    "                                       label=tag, display_variable=display_variable)\n",
    "            plt.show()\n",
    "        "
   ]
  },
  {
   "cell_type": "code",
   "execution_count": 4,
   "metadata": {
    "ExecuteTime": {
     "end_time": "2018-09-28T13:30:00.293572Z",
     "start_time": "2018-09-28T13:29:59.758885Z"
    }
   },
   "outputs": [],
   "source": [
    "%run {experiments.shl.cache_dir}/{tag}.py load"
   ]
  },
  {
   "cell_type": "code",
   "execution_count": 5,
   "metadata": {
    "ExecuteTime": {
     "end_time": "2018-09-28T07:20:14.479916Z",
     "start_time": "2018-09-28T07:20:14.226610Z"
    }
   },
   "outputs": [
    {
     "name": "stdout",
     "output_type": "stream",
     "text": [
      "-rw-r--r--  1 laurentperrinet  staff  7589089 Jul 17 21:05 cache_dir/OLS_eta=0.01000_dico.pkl\n",
      "-rw-r--r--  1 laurentperrinet  staff  7589089 Jul 17 21:05 cache_dir/OLS_eta=0.00707_dico.pkl\n",
      "-rw-r--r--  1 laurentperrinet  staff  7589089 Jul 17 21:07 cache_dir/OLS_eta=0.00125_dico.pkl\n",
      "-rw-r--r--  1 laurentperrinet  staff  7589089 Jul 17 21:08 cache_dir/OLS_eta=0.00354_dico.pkl\n",
      "-rw-r--r--  1 laurentperrinet  staff  7589089 Jul 17 21:08 cache_dir/OLS_eta=0.01414_dico.pkl\n",
      "-rw-r--r--  1 laurentperrinet  staff  7589089 Jul 17 21:09 cache_dir/OLS_eta=0.00177_dico.pkl\n",
      "-rw-r--r--  1 laurentperrinet  staff  7589089 Jul 17 21:10 cache_dir/OLS_eta=0.00250_dico.pkl\n",
      "-rw-r--r--  1 laurentperrinet  staff  7589089 Jul 17 21:11 cache_dir/OLS_eta_homeo=0.01000_dico.pkl\n",
      "-rw-r--r--  1 laurentperrinet  staff  7589089 Jul 17 21:12 cache_dir/OLS_eta=0.00500_dico.pkl\n",
      "-rw-r--r--  1 laurentperrinet  staff  7589089 Jul 17 21:12 cache_dir/OLS_eta=0.02000_dico.pkl\n",
      "-rw-r--r--  1 laurentperrinet  staff  7589089 Jul 18 06:16 cache_dir/OLS_eta_homeo=0.01414_dico.pkl\n",
      "-rw-r--r--  1 laurentperrinet  staff  7589089 Jul 18 06:16 cache_dir/OLS_eta_homeo=0.02000_dico.pkl\n",
      "-rw-r--r--  1 laurentperrinet  staff  7589089 Jul 18 06:18 cache_dir/OLS_eta_homeo=0.04000_dico.pkl\n",
      "-rw-r--r--  1 laurentperrinet  staff  7589089 Jul 18 06:18 cache_dir/OLS_eta_homeo=0.02828_dico.pkl\n",
      "-rw-r--r--  1 laurentperrinet  staff  7589089 Jul 18 06:21 cache_dir/OLS_eta_homeo=0.05657_dico.pkl\n",
      "-rw-r--r--  1 laurentperrinet  staff  7589089 Jul 18 06:21 cache_dir/OLS_eta_homeo=0.08000_dico.pkl\n",
      "-rw-r--r--  1 laurentperrinet  staff  7589089 Jul 18 06:22 cache_dir/OLS_alpha_MP=0.29730_dico.pkl\n",
      "-rw-r--r--  1 laurentperrinet  staff  7589089 Jul 18 06:23 cache_dir/OLS_alpha_MP=0.25000_dico.pkl\n",
      "-rw-r--r--  1 laurentperrinet  staff  7589089 Jul 18 06:23 cache_dir/OLS_eta_homeo=0.11314_dico.pkl\n",
      "-rw-r--r--  1 laurentperrinet  staff  7589089 Jul 18 06:25 cache_dir/OLS_eta_homeo=0.16000_dico.pkl\n",
      "-rw-r--r--  1 laurentperrinet  staff  7589089 Jul 18 10:23 cache_dir/OLS_alpha_MP=0.35355_dico.pkl\n",
      "-rw-r--r--  1 laurentperrinet  staff  7589089 Jul 18 10:24 cache_dir/OLS_alpha_MP=0.59460_dico.pkl\n",
      "-rw-r--r--  1 laurentperrinet  staff  7589089 Jul 18 10:24 cache_dir/OLS_alpha_MP=0.42045_dico.pkl\n",
      "-rw-r--r--  1 laurentperrinet  staff  7589089 Jul 18 10:24 cache_dir/OLS_alpha_MP=0.50000_dico.pkl\n",
      "-rw-r--r--  1 laurentperrinet  staff  7589089 Jul 18 10:25 cache_dir/OLS_alpha_MP=0.84090_dico.pkl\n",
      "-rw-r--r--  1 laurentperrinet  staff  7589089 Jul 18 10:25 cache_dir/OLS_alpha_MP=0.70711_dico.pkl\n",
      "-rw-r--r--  1 laurentperrinet  staff  7589089 Jul 18 10:25 cache_dir/OLS_alpha_MP=1.00000_dico.pkl\n",
      "-rw-r--r--  1 laurentperrinet  staff     1865 Jul 19 11:12 cache_dir/OLS.py\n"
     ]
    }
   ],
   "source": [
    "!ls -ltr {experiments.shl.cache_dir}/{tag}*\n",
    "!rm -fr {experiments.shl.cache_dir}/{tag}*lock*"
   ]
  },
  {
   "cell_type": "raw",
   "metadata": {},
   "source": [
    "!rm -fr {experiments.shl.cache_dir}/{tag}*\n",
    "#!rm -fr {experiments.shl.cache_dir}/data_data.npy\n",
    "!ls -ltr {experiments.shl.cache_dir}/{tag}*"
   ]
  },
  {
   "cell_type": "code",
   "execution_count": null,
   "metadata": {
    "ExecuteTime": {
     "start_time": "2018-09-28T13:29:56.806Z"
    },
    "scrolled": true
   },
   "outputs": [
    {
     "name": "stderr",
     "output_type": "stream",
     "text": [
      "[Parallel(n_jobs=10)]: Using backend LokyBackend with 10 concurrent workers.\n",
      "[Parallel(n_jobs=10)]: Done   1 tasks      | elapsed:    1.9s\n",
      "[Parallel(n_jobs=10)]: Done   2 tasks      | elapsed:    1.9s\n",
      "[Parallel(n_jobs=10)]: Done   3 tasks      | elapsed:    1.9s\n",
      "[Parallel(n_jobs=10)]: Done   4 tasks      | elapsed:    1.9s\n",
      "[Parallel(n_jobs=10)]: Done   5 tasks      | elapsed:    1.9s\n",
      "[Parallel(n_jobs=10)]: Done   6 tasks      | elapsed:    1.9s\n",
      "[Parallel(n_jobs=10)]: Done   7 tasks      | elapsed:    1.9s\n",
      "[Parallel(n_jobs=10)]: Done   8 tasks      | elapsed:    1.9s\n",
      "[Parallel(n_jobs=10)]: Done   9 tasks      | elapsed:    1.9s\n",
      "[Parallel(n_jobs=10)]: Done  10 tasks      | elapsed:    1.9s\n",
      "[Parallel(n_jobs=10)]: Done  11 tasks      | elapsed:    2.0s\n",
      "[Parallel(n_jobs=10)]: Done  12 tasks      | elapsed:    2.0s\n",
      "[Parallel(n_jobs=10)]: Done  13 tasks      | elapsed:    2.0s\n",
      "[Parallel(n_jobs=10)]: Done  14 tasks      | elapsed:    2.0s\n",
      "[Parallel(n_jobs=10)]: Done  15 tasks      | elapsed:    2.0s\n",
      "[Parallel(n_jobs=10)]: Done  16 tasks      | elapsed:    2.0s\n",
      "[Parallel(n_jobs=10)]: Done  17 tasks      | elapsed: 123.7min\n",
      "[Parallel(n_jobs=10)]: Done  20 out of  36 | elapsed: 125.2min remaining: 100.2min\n",
      "[Parallel(n_jobs=10)]: Done  23 out of  36 | elapsed: 125.7min remaining: 71.0min\n",
      "[Parallel(n_jobs=10)]: Done  26 out of  36 | elapsed: 126.4min remaining: 48.6min\n",
      "[Parallel(n_jobs=10)]: Done  29 out of  36 | elapsed: 177.3min remaining: 42.8min\n",
      "[Parallel(n_jobs=10)]: Done  32 out of  36 | elapsed: 206.7min remaining: 25.8min\n"
     ]
    }
   ],
   "source": [
    "%run {experiments.shl.cache_dir}/{tag}.py run"
   ]
  },
  {
   "cell_type": "code",
   "execution_count": null,
   "metadata": {
    "ExecuteTime": {
     "start_time": "2018-09-28T13:29:56.853Z"
    }
   },
   "outputs": [],
   "source": [
    "%run {experiments.shl.cache_dir}/{tag}.py plot"
   ]
  },
  {
   "cell_type": "markdown",
   "metadata": {},
   "source": [
    "## Version used"
   ]
  },
  {
   "cell_type": "code",
   "execution_count": null,
   "metadata": {
    "ExecuteTime": {
     "end_time": "2018-09-28T11:27:59.954204Z",
     "start_time": "2018-09-28T11:27:59.628424Z"
    }
   },
   "outputs": [],
   "source": [
    "%load_ext version_information\n",
    "%version_information numpy, shl_scripts"
   ]
  }
 ],
 "metadata": {
  "kernelspec": {
   "display_name": "Python 3",
   "language": "python",
   "name": "python3"
  },
  "language_info": {
   "codemirror_mode": {
    "name": "ipython",
    "version": 3
   },
   "file_extension": ".py",
   "mimetype": "text/x-python",
   "name": "python",
   "nbconvert_exporter": "python",
   "pygments_lexer": "ipython3",
   "version": "3.7.4"
  },
  "toc": {
   "base_numbering": 1,
   "nav_menu": {
    "height": "99px",
    "width": "252px"
   },
   "number_sections": true,
   "sideBar": true,
   "skip_h1_title": false,
   "title_cell": "Table of Contents",
   "title_sidebar": "Contents",
   "toc_cell": false,
   "toc_position": {},
   "toc_section_display": "block",
   "toc_window_display": false
  }
 },
 "nbformat": 4,
 "nbformat_minor": 4
}
