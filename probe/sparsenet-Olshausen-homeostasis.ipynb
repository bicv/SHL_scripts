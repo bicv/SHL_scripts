{
 "cells": [
  {
   "cell_type": "markdown",
   "metadata": {},
   "source": [
    "# Sparse Hebbian Learning : reproducing SparseNet\n",
    "\n",
    "In this notebook, we test the convergence of SparseNet as a function of different learning parameters. This shows the relative robusteness of this method according to the coding parameters, but also the importance of homeostasis to obtain an efficient set of filters.\n",
    "\n",
    "See also :\n",
    "* http://blog.invibe.net/posts/2015-05-05-reproducing-olshausens-classical-sparsenet.html for a description of how SparseNet is implemented in the scikit-learn package\n",
    "* http://blog.invibe.net/posts/2015-05-06-reproducing-olshausens-classical-sparsenet-part-2.html for a descrtiption of how we managed to implement the homeostasis"
   ]
  },
  {
   "cell_type": "raw",
   "metadata": {
    "ExecuteTime": {
     "end_time": "2018-01-23T08:02:16.538369Z",
     "start_time": "2018-01-23T08:02:16.463618Z"
    }
   },
   "source": [
    "%load_ext autoreload\n",
    "%autoreload 2"
   ]
  },
  {
   "cell_type": "code",
   "execution_count": 1,
   "metadata": {
    "ExecuteTime": {
     "end_time": "2018-02-13T12:09:44.880036Z",
     "start_time": "2018-02-13T12:09:44.294653Z"
    }
   },
   "outputs": [],
   "source": [
    "%matplotlib inline\n",
    "import matplotlib.pyplot as plt\n",
    "import numpy as np\n",
    "np.set_printoptions(precision=2, suppress=True)\n",
    "from copy import deepcopy"
   ]
  },
  {
   "cell_type": "code",
   "execution_count": 2,
   "metadata": {
    "ExecuteTime": {
     "end_time": "2018-02-13T12:09:45.071401Z",
     "start_time": "2018-02-13T12:09:44.883632Z"
    }
   },
   "outputs": [],
   "source": [
    "from shl_scripts.shl_experiments import SHL_set\n",
    "tag = 'Olshausen'\n",
    "opts = dict(homeo_method=tag, eta_homeo=0.05, alpha_homeo=0.02, verbose=0)\n",
    "experiments = SHL_set(opts, tag=tag)\n",
    "list_figures = []\n",
    "list_figures = ['show_dico']"
   ]
  },
  {
   "cell_type": "raw",
   "metadata": {
    "ExecuteTime": {
     "end_time": "2018-02-13T12:09:35.472407Z",
     "start_time": "2018-02-13T12:09:35.330980Z"
    }
   },
   "source": [
    "!rm -fr {experiments.shl.data_cache}/{tag}*lock*\n",
    "#!rm -fr {experiments.shl.data_cache}/{tag}*\n",
    "#!rm -fr {experiments.shl.data_cache}/data_data.npy"
   ]
  },
  {
   "cell_type": "code",
   "execution_count": 3,
   "metadata": {
    "ExecuteTime": {
     "end_time": "2018-02-13T12:09:45.223007Z",
     "start_time": "2018-02-13T12:09:45.075524Z"
    }
   },
   "outputs": [
    {
     "name": "stdout",
     "output_type": "stream",
     "text": [
      "-rw-r--r--  1 laurentperrinet  staff  1608219 Feb 12 17:18 data_cache/Olshausen - eta=0.00030000000000000003_dico.pkl\r\n",
      "-rw-r--r--  1 laurentperrinet  staff  1608219 Feb 12 17:45 data_cache/Olshausen - eta=0.000646330407009565_dico.pkl\r\n",
      "-rw-r--r--  1 laurentperrinet  staff  1608219 Feb 12 18:06 data_cache/Olshausen - eta=0.0013924766500838337_dico.pkl\r\n",
      "-rw-r--r--  1 laurentperrinet  staff  1608219 Feb 12 18:28 data_cache/Olshausen - eta=0.003_dico.pkl\r\n",
      "-rw-r--r--  1 laurentperrinet  staff  1608219 Feb 12 18:50 data_cache/Olshausen - eta=0.00646330407009565_dico.pkl\r\n",
      "-rw-r--r--  1 laurentperrinet  staff  1608219 Feb 12 19:12 data_cache/Olshausen - eta=0.013924766500838332_dico.pkl\r\n",
      "-rw-r--r--  1 laurentperrinet  staff  1608219 Feb 12 19:33 data_cache/Olshausen - eta=0.03_dico.pkl\r\n",
      "-rw-r--r--  1 laurentperrinet  staff  1608219 Feb 13 10:03 data_cache/Olshausen - eta_homeo=0.005000000000000001_dico.pkl\r\n",
      "-rw-r--r--  1 laurentperrinet  staff  1608219 Feb 13 10:22 data_cache/Olshausen - eta_homeo=0.010772173450159418_dico.pkl\r\n",
      "-rw-r--r--  1 laurentperrinet  staff  1608219 Feb 13 10:39 data_cache/Olshausen - eta_homeo=0.023207944168063894_dico.pkl\r\n",
      "-rw-r--r--  1 laurentperrinet  staff  1608219 Feb 13 10:56 data_cache/Olshausen - eta_homeo=0.05_dico.pkl\r\n",
      "-rw-r--r--  1 laurentperrinet  staff  1608219 Feb 13 11:14 data_cache/Olshausen - eta_homeo=0.10772173450159417_dico.pkl\r\n",
      "-rw-r--r--  1 laurentperrinet  staff  1608219 Feb 13 11:57 data_cache/Olshausen - eta_homeo=0.5_dico.pkl\r\n"
     ]
    }
   ],
   "source": [
    "!ls -ltr {experiments.shl.data_cache}/{tag}*"
   ]
  },
  {
   "cell_type": "markdown",
   "metadata": {},
   "source": [
    "## Homeostasis à-la-SparseNet"
   ]
  },
  {
   "cell_type": "code",
   "execution_count": null,
   "metadata": {
    "ExecuteTime": {
     "end_time": "2018-02-13T12:09:45.495807Z",
     "start_time": "2018-02-13T12:09:44.322Z"
    },
    "scrolled": false
   },
   "outputs": [],
   "source": [
    "experiments.scan(variable='eta', list_figures=list_figures, display='')\n",
    "fig, ax = experiments.scan(variable='eta', list_figures=[], display='final')   "
   ]
  },
  {
   "cell_type": "code",
   "execution_count": null,
   "metadata": {
    "ExecuteTime": {
     "end_time": "2018-02-13T12:09:45.499956Z",
     "start_time": "2018-02-13T12:09:44.329Z"
    },
    "scrolled": false
   },
   "outputs": [],
   "source": [
    "experiments.scan(variable='eta_homeo', list_figures=list_figures, display='')\n",
    "fig, ax = experiments.scan(variable='eta_homeo', list_figures=[], display='final')"
   ]
  },
  {
   "cell_type": "code",
   "execution_count": null,
   "metadata": {
    "ExecuteTime": {
     "end_time": "2018-02-13T12:09:45.501895Z",
     "start_time": "2018-02-13T12:09:44.334Z"
    },
    "scrolled": false
   },
   "outputs": [],
   "source": [
    "experiments.scan(variable='alpha_homeo', list_figures=list_figures, display='')\n",
    "fig, ax = experiments.scan(variable='alpha_homeo', list_figures=[], display='final')"
   ]
  },
  {
   "cell_type": "markdown",
   "metadata": {},
   "source": [
    "## comparing the result of learning with different sparse algorithms"
   ]
  },
  {
   "cell_type": "code",
   "execution_count": null,
   "metadata": {
    "ExecuteTime": {
     "end_time": "2018-02-13T12:09:45.504350Z",
     "start_time": "2018-02-13T12:09:44.337Z"
    },
    "scrolled": false
   },
   "outputs": [],
   "source": [
    "for algorithm in ['lasso_lars', 'lasso_cd', 'lars', 'threshold', 'omp', 'mp']:\n",
    "    experiments = SHL_set(opts, tag=tag + ' - algorithm={}'.format(algorithm))\n",
    "    experiments.scan(variable='eta', list_figures=list_figures, display='')\n",
    "    fig, ax = experiments.scan(variable='eta', list_figures=[], display='final')   "
   ]
  },
  {
   "cell_type": "markdown",
   "metadata": {},
   "source": [
    "## Version used"
   ]
  },
  {
   "cell_type": "code",
   "execution_count": null,
   "metadata": {
    "ExecuteTime": {
     "end_time": "2018-02-13T12:09:45.507851Z",
     "start_time": "2018-02-13T12:09:44.344Z"
    }
   },
   "outputs": [],
   "source": [
    "%load_ext version_information\n",
    "%version_information numpy, shl_scripts"
   ]
  }
 ],
 "metadata": {
  "kernelspec": {
   "display_name": "Python 3",
   "language": "python",
   "name": "python3"
  },
  "language_info": {
   "codemirror_mode": {
    "name": "ipython",
    "version": 3
   },
   "file_extension": ".py",
   "mimetype": "text/x-python",
   "name": "python",
   "nbconvert_exporter": "python",
   "pygments_lexer": "ipython3",
   "version": "3.6.4"
  },
  "toc": {
   "nav_menu": {
    "height": "99px",
    "width": "252px"
   },
   "number_sections": true,
   "sideBar": true,
   "skip_h1_title": false,
   "toc_cell": false,
   "toc_position": {},
   "toc_section_display": "block",
   "toc_window_display": false
  }
 },
 "nbformat": 4,
 "nbformat_minor": 2
}
