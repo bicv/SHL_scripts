{
 "cells": [
  {
   "cell_type": "code",
   "execution_count": 1,
   "metadata": {
    "ExecuteTime": {
     "end_time": "2018-02-07T13:55:31.240545Z",
     "start_time": "2018-02-07T13:55:31.195221Z"
    }
   },
   "outputs": [],
   "source": [
    "%load_ext autoreload\n",
    "%autoreload 2"
   ]
  },
  {
   "cell_type": "code",
   "execution_count": 2,
   "metadata": {
    "ExecuteTime": {
     "end_time": "2018-02-07T13:55:31.934012Z",
     "start_time": "2018-02-07T13:55:31.245363Z"
    }
   },
   "outputs": [],
   "source": [
    "%matplotlib inline\n",
    "import matplotlib.pyplot as plt\n",
    "import numpy as np\n",
    "np.set_printoptions(precision=4, suppress=True)"
   ]
  },
  {
   "cell_type": "markdown",
   "metadata": {
    "collapsed": true
   },
   "source": [
    "# Sparse Hebbian Learning: testing the tools in the package\n",
    "\n",
    "This notebook aims at show-casing the different tools implemented in the package.\n"
   ]
  },
  {
   "cell_type": "code",
   "execution_count": 3,
   "metadata": {
    "ExecuteTime": {
     "end_time": "2018-02-07T13:55:31.998054Z",
     "start_time": "2018-02-07T13:55:31.938051Z"
    }
   },
   "outputs": [],
   "source": [
    "from shl_scripts.shl_experiments import SHL\n",
    "\n",
    "DEBUG_DOWNSCALE, verbose = 4, 1"
   ]
  },
  {
   "cell_type": "code",
   "execution_count": 4,
   "metadata": {
    "ExecuteTime": {
     "end_time": "2018-02-07T13:55:32.046319Z",
     "start_time": "2018-02-07T13:55:32.003047Z"
    },
    "scrolled": true
   },
   "outputs": [],
   "source": [
    "matname = 'test_tools'\n",
    "shl = SHL(DEBUG_DOWNSCALE=DEBUG_DOWNSCALE, verbose=verbose)"
   ]
  },
  {
   "cell_type": "code",
   "execution_count": 5,
   "metadata": {
    "ExecuteTime": {
     "end_time": "2018-02-07T13:55:32.103119Z",
     "start_time": "2018-02-07T13:55:32.051747Z"
    }
   },
   "outputs": [
    {
     "name": "stdout",
     "output_type": "stream",
     "text": [
      "Help on SHL in module shl_scripts.shl_experiments object:\n",
      "\n",
      "class SHL(builtins.object)\n",
      " |  Base class to define SHL experiments:\n",
      " |      - initialization\n",
      " |      - coding and learning\n",
      " |      - visualization\n",
      " |      - quantitative analysis\n",
      " |  \n",
      " |  Methods defined here:\n",
      " |  \n",
      " |  __init__(self, height=256, width=256, patch_width=16, datapath='database/', name_database='kodakdb', n_dictionary=324, learning_algorithm='mp', fit_tol=None, do_precision=False, do_mask=True, l0_sparseness=30, one_over_F=True, n_iter=4097, eta={'eta': 0.001, 'beta1': 0.9, 'beta2': 0.999, 'epsilon': 1e-08}, homeo_method='HEH', homeo_params={'eta_homeo': 0.05, 'C': 5.0, 'nb_quant': 256, 'P_cum': None}, do_sym=False, max_patches=4096, seed=42, patch_norm=False, batch_size=512, record_each=128, n_image=None, DEBUG_DOWNSCALE=1, verbose=0, data_cache='/tmp/data_cache')\n",
      " |      Initialize self.  See help(type(self)) for accurate signature.\n",
      " |  \n",
      " |  code(self, data, dico, coding_algorithm='mp', matname=None, P_cum=None, fit_tol=None, l0_sparseness=None)\n",
      " |  \n",
      " |  decode(self, sparse_code, dico)\n",
      " |  \n",
      " |  get_data(self, matname=None, patch_width=None)\n",
      " |  \n",
      " |  learn_dico(self, dictionary=None, precision=None, P_cum=None, data=None, matname=None, record_each=None, folder_exp=None, list_figures=[], fname=None)\n",
      " |  \n",
      " |  plot_error(self, dico, fig=None, ax=None)\n",
      " |  \n",
      " |  plot_variance(self, sparse_code, fname=None, fig=None, ax=None)\n",
      " |  \n",
      " |  plot_variance_histogram(self, sparse_code, fname=None, fig=None, ax=None)\n",
      " |  \n",
      " |  show_dico(self, dico, data=None, title=None, fname=None, dpi=200, fig=None, ax=None)\n",
      " |  \n",
      " |  show_dico_in_order(self, dico, data=None, title=None, fname=None, dpi=200, fig=None, ax=None)\n",
      " |  \n",
      " |  time_plot(self, dico, variable='kurt', fname=None, N_nosample=1, color=None, label=None, fig=None, ax=None)\n",
      " |  \n",
      " |  ----------------------------------------------------------------------\n",
      " |  Data descriptors defined here:\n",
      " |  \n",
      " |  __dict__\n",
      " |      dictionary for instance variables (if defined)\n",
      " |  \n",
      " |  __weakref__\n",
      " |      list of weak references to the object (if defined)\n",
      "\n"
     ]
    }
   ],
   "source": [
    "help(shl)"
   ]
  },
  {
   "cell_type": "markdown",
   "metadata": {},
   "source": [
    "\n",
    "## loading a database\n"
   ]
  },
  {
   "cell_type": "code",
   "execution_count": 6,
   "metadata": {
    "ExecuteTime": {
     "end_time": "2018-02-07T13:55:34.702562Z",
     "start_time": "2018-02-07T13:55:32.108052Z"
    },
    "scrolled": false
   },
   "outputs": [
    {
     "name": "stdout",
     "output_type": "stream",
     "text": [
      "Extracting data..16.0\n",
      "bird08.png, Data is of shape : (10, 256) - done in 0.27s.\n"
     ]
    },
    {
     "data": {
      "text/plain": [
       "<matplotlib.figure.Figure at 0x1081ae2b0>"
      ]
     },
     "metadata": {},
     "output_type": "display_data"
    },
    {
     "data": {
      "image/png": "[encoded data removed]",
      "text/plain": [
       "<matplotlib.figure.Figure at 0x1086def98>"
      ]
     },
     "metadata": {},
     "output_type": "display_data"
    },
    {
     "name": "stdout",
     "output_type": "stream",
     "text": [
      "Extracting data..16.0\n",
      "bird08.png, Data is of shape : (10, 256) - done in 0.25s.\n"
     ]
    },
    {
     "data": {
      "text/plain": [
       "<matplotlib.figure.Figure at 0x1087d4a90>"
      ]
     },
     "metadata": {},
     "output_type": "display_data"
    },
    {
     "data": {
      "image/png": "[encoded data removed]",
      "text/plain": [
       "<matplotlib.figure.Figure at 0x10882d048>"
      ]
     },
     "metadata": {},
     "output_type": "display_data"
    }
   ],
   "source": [
    "max_patches = 10\n",
    "from shl_scripts.shl_tools import show_data\n",
    "\n",
    "for i, (do_mask, label) in enumerate(zip([False, True], ['Without mask', 'With mask'])):\n",
    "    data = SHL(DEBUG_DOWNSCALE=1, verbose=verbose, max_patches=max_patches, n_image=1, do_mask=do_mask).get_data()\n",
    "    fig, axs = show_data(data)\n",
    "    axs[0].set_ylabel(label);\n",
    "    plt.show();"
   ]
  },
  {
   "cell_type": "code",
   "execution_count": 7,
   "metadata": {
    "ExecuteTime": {
     "end_time": "2018-02-07T13:55:40.827436Z",
     "start_time": "2018-02-07T13:55:34.707297Z"
    }
   },
   "outputs": [
    {
     "name": "stdout",
     "output_type": "stream",
     "text": [
      "Extracting data..No cache found /tmp/data_cache/test_tools_data: Extracting data... Extracting data..16.0\n",
      "bird08.png, 16.0\n",
      "yellowleaves39.png, 16.0\n",
      "rocky10.png, 16.0\n",
      "bittern62.png, 16.0\n",
      "flowerhill29.png, 16.0\n",
      "clouds43.png, 16.0\n",
      "goldwater67.png, 16.0\n",
      "calcoast09.png, 16.0\n",
      "yose05.png, 16.0\n",
      "woods54.png, 16.0\n",
      "koala52.png, 16.0\n",
      "bora04.png, 16.0\n",
      "flowers37.png, 16.0\n",
      "yose07.png, 16.0\n",
      "cattails70.png, 16.0\n",
      "hibiscus30.png, 16.0\n",
      "cucorn50.png, 16.0\n",
      "geyser27.png, 16.0\n",
      "reflection63.png, 16.0\n",
      "craterlake12.png, Data is of shape : (20480, 256) - done in 5.91s.\n",
      "Data is of shape : (20480, 256) - done in 6.08s.\n"
     ]
    }
   ],
   "source": [
    "data = shl.get_data(matname=matname)"
   ]
  },
  {
   "cell_type": "markdown",
   "metadata": {},
   "source": [
    "\n",
    "## initializing the dictionary\n"
   ]
  },
  {
   "cell_type": "code",
   "execution_count": 8,
   "metadata": {
    "ExecuteTime": {
     "end_time": "2018-02-07T13:55:42.467872Z",
     "start_time": "2018-02-07T13:55:40.830815Z"
    },
    "scrolled": false
   },
   "outputs": [
    {
     "name": "stdout",
     "output_type": "stream",
     "text": [
      "16.0\n"
     ]
    },
    {
     "data": {
      "text/plain": [
       "<matplotlib.figure.Figure at 0x1088a7278>"
      ]
     },
     "metadata": {},
     "output_type": "display_data"
    },
    {
     "data": {
      "image/png": "[encoded data removed]",
      "text/plain": [
       "<matplotlib.figure.Figure at 0x1088d6f98>"
      ]
     },
     "metadata": {},
     "output_type": "display_data"
    }
   ],
   "source": [
    "from shl_scripts.shl_tools import ovf_dictionary\n",
    "data = ovf_dictionary(max_patches, n_pixels=shl.patch_width**2)\n",
    "fig, axs = show_data(data);"
   ]
  },
  {
   "cell_type": "markdown",
   "metadata": {},
   "source": [
    "\n",
    "## caching tools : loading a database\n"
   ]
  },
  {
   "cell_type": "code",
   "execution_count": 9,
   "metadata": {
    "ExecuteTime": {
     "end_time": "2018-02-07T13:55:42.501198Z",
     "start_time": "2018-02-07T13:55:42.471697Z"
    },
    "scrolled": true
   },
   "outputs": [],
   "source": [
    "matname = 'test_tools'\n",
    "shl = SHL(DEBUG_DOWNSCALE=DEBUG_DOWNSCALE, verbose=verbose)"
   ]
  },
  {
   "cell_type": "markdown",
   "metadata": {},
   "source": [
    "Let's first remove potential data cache:"
   ]
  },
  {
   "cell_type": "code",
   "execution_count": 10,
   "metadata": {
    "ExecuteTime": {
     "end_time": "2018-02-07T13:55:42.695699Z",
     "start_time": "2018-02-07T13:55:42.506473Z"
    }
   },
   "outputs": [
    {
     "name": "stdout",
     "output_type": "stream",
     "text": [
      "rm: data_cache/test_tools*: No such file or directory\r\n"
     ]
    }
   ],
   "source": [
    "!rm data_cache/{matname}*"
   ]
  },
  {
   "cell_type": "markdown",
   "metadata": {},
   "source": [
    "If the data cache does not exist (as a file), it creates it:"
   ]
  },
  {
   "cell_type": "code",
   "execution_count": 11,
   "metadata": {
    "ExecuteTime": {
     "end_time": "2018-02-07T13:55:42.789367Z",
     "start_time": "2018-02-07T13:55:42.701016Z"
    }
   },
   "outputs": [
    {
     "name": "stdout",
     "output_type": "stream",
     "text": [
      "Extracting data..loading the data called : /tmp/data_cache/test_tools_data\n",
      "Data is of shape : (20480, 256) - done in 0.03s.\n"
     ]
    }
   ],
   "source": [
    "data = shl.get_data(matname=matname)"
   ]
  },
  {
   "cell_type": "markdown",
   "metadata": {},
   "source": [
    "But if the data cache exists, it loads it:"
   ]
  },
  {
   "cell_type": "code",
   "execution_count": null,
   "metadata": {
    "ExecuteTime": {
     "start_time": "2018-02-07T13:55:31.222Z"
    }
   },
   "outputs": [
    {
     "name": "stdout",
     "output_type": "stream",
     "text": [
      "Extracting data..loading the data called : /tmp/data_cache/test_tools_data\n",
      "Data is of shape : (20480, 256) - done in 0.04s.\n"
     ]
    }
   ],
   "source": [
    "data = shl.get_data(matname=matname)"
   ]
  },
  {
   "cell_type": "markdown",
   "metadata": {},
   "source": [
    "\n",
    "## caching tools : learning, then reloading the dictionary\n"
   ]
  },
  {
   "cell_type": "markdown",
   "metadata": {},
   "source": [
    "If the dictionary does not exist (as a file), it learns it:"
   ]
  },
  {
   "cell_type": "code",
   "execution_count": null,
   "metadata": {
    "ExecuteTime": {
     "start_time": "2018-02-07T13:55:31.230Z"
    },
    "scrolled": false
   },
   "outputs": [
    {
     "name": "stdout",
     "output_type": "stream",
     "text": [
      "No cache found /tmp/data_cache/test_tools_dico.pkl: Learning the dictionary with algo = mp \n",
      " Training on 20480 patches... 16.0\n",
      "[dict_learning] Iteration   0 /   1024 (elapsed time:   3s,  0.0mn)\n"
     ]
    }
   ],
   "source": [
    "list_figures = ['show_dico']\n",
    "dico = shl.learn_dico(data=data, matname=matname, list_figures=list_figures)"
   ]
  },
  {
   "cell_type": "markdown",
   "metadata": {},
   "source": [
    "But if the dictionary exists, it loads it:"
   ]
  },
  {
   "cell_type": "code",
   "execution_count": null,
   "metadata": {
    "ExecuteTime": {
     "start_time": "2018-02-07T13:55:31.236Z"
    },
    "scrolled": false
   },
   "outputs": [],
   "source": [
    "dico = shl.learn_dico(data=data, matname=matname, list_figures=list_figures)"
   ]
  },
  {
   "cell_type": "markdown",
   "metadata": {},
   "source": [
    "\n",
    "## caching tools : resuming a learning\n",
    "\n",
    "If we give a dictionary as an argument to the learning method, then we resume the learning from this dictionary and overwrite the data cache.\n"
   ]
  },
  {
   "cell_type": "code",
   "execution_count": null,
   "metadata": {
    "ExecuteTime": {
     "start_time": "2018-02-07T13:55:31.246Z"
    },
    "scrolled": false
   },
   "outputs": [],
   "source": [
    "dico = shl.learn_dico(data=data, matname=matname, dictionary=dico.dictionary, list_figures=list_figures)"
   ]
  },
  {
   "cell_type": "markdown",
   "metadata": {},
   "source": [
    "\n",
    "## caching tools : coding\n"
   ]
  },
  {
   "cell_type": "code",
   "execution_count": null,
   "metadata": {
    "ExecuteTime": {
     "start_time": "2018-02-07T13:55:31.255Z"
    },
    "scrolled": false
   },
   "outputs": [],
   "source": [
    "%%time\n",
    "sparse_code = shl.code(data, dico)"
   ]
  },
  {
   "cell_type": "code",
   "execution_count": null,
   "metadata": {
    "ExecuteTime": {
     "start_time": "2018-02-07T13:55:31.260Z"
    },
    "scrolled": false
   },
   "outputs": [],
   "source": [
    "sparse_code = shl.code(data, dico, matname=matname)"
   ]
  },
  {
   "cell_type": "markdown",
   "metadata": {
    "collapsed": true
   },
   "source": [
    "## plotting tools"
   ]
  },
  {
   "cell_type": "markdown",
   "metadata": {},
   "source": [
    "The simplest solution is to pass a list of figures to the learning method:"
   ]
  },
  {
   "cell_type": "code",
   "execution_count": null,
   "metadata": {
    "ExecuteTime": {
     "start_time": "2018-02-07T13:55:31.266Z"
    }
   },
   "outputs": [],
   "source": [
    "df_variable = dico.record['kurt']"
   ]
  },
  {
   "cell_type": "code",
   "execution_count": null,
   "metadata": {
    "ExecuteTime": {
     "start_time": "2018-02-07T13:55:31.271Z"
    }
   },
   "outputs": [],
   "source": [
    "df_variable.ndim"
   ]
  },
  {
   "cell_type": "code",
   "execution_count": null,
   "metadata": {
    "ExecuteTime": {
     "start_time": "2018-02-07T13:55:31.276Z"
    },
    "scrolled": false
   },
   "outputs": [],
   "source": [
    "list_figures = ['show_dico',  'time_plot_prob',  'time_plot_kurt',  'time_plot_var']\n",
    "dico = shl.learn_dico(matname=matname, list_figures=list_figures)"
   ]
  },
  {
   "cell_type": "markdown",
   "metadata": {},
   "source": [
    "But one can also generate every single figure independently:"
   ]
  },
  {
   "cell_type": "code",
   "execution_count": null,
   "metadata": {
    "ExecuteTime": {
     "start_time": "2018-02-07T13:55:31.283Z"
    }
   },
   "outputs": [],
   "source": [
    "shl.plot_variance(sparse_code);"
   ]
  },
  {
   "cell_type": "code",
   "execution_count": null,
   "metadata": {
    "ExecuteTime": {
     "start_time": "2018-02-07T13:55:31.287Z"
    },
    "scrolled": false
   },
   "outputs": [],
   "source": [
    "shl.plot_variance_histogram(sparse_code);"
   ]
  },
  {
   "cell_type": "code",
   "execution_count": null,
   "metadata": {
    "ExecuteTime": {
     "start_time": "2018-02-07T13:55:31.293Z"
    },
    "scrolled": false
   },
   "outputs": [],
   "source": [
    "fig_error, ax_error = None, None\n",
    "fig_error, ax_error = shl.time_plot(dico, variable='error', fig=fig_error, ax=ax_error, color='blue', label='one');\n",
    "dico = shl.learn_dico(data=data, dictionary=dico.dictionary, matname=None, list_figures=list_figures)\n",
    "fig_error, ax_error = shl.time_plot(dico, variable='error', fig=fig_error, ax=ax_error, color='red', label='two');\n",
    "ax_error.set_ylim(0, .9)\n",
    "ax_error.legend(loc='best');"
   ]
  },
  {
   "cell_type": "markdown",
   "metadata": {},
   "source": [
    "And combine them:"
   ]
  },
  {
   "cell_type": "code",
   "execution_count": null,
   "metadata": {
    "ExecuteTime": {
     "start_time": "2018-02-07T13:55:31.299Z"
    }
   },
   "outputs": [],
   "source": [
    "fig, axs = plt.subplots(2, 1, figsize=(13, 8))\n",
    "fig, axs[0] = shl.plot_variance(sparse_code, fig=fig, ax=axs[0])\n",
    "fig, axs[1] = shl.plot_variance_histogram(sparse_code, fig=fig, ax=axs[1])"
   ]
  },
  {
   "cell_type": "markdown",
   "metadata": {},
   "source": [
    "## Version used"
   ]
  },
  {
   "cell_type": "code",
   "execution_count": null,
   "metadata": {
    "ExecuteTime": {
     "start_time": "2018-02-07T13:55:31.304Z"
    }
   },
   "outputs": [],
   "source": [
    "%load_ext version_information\n",
    "%version_information numpy, shl_scripts"
   ]
  }
 ],
 "metadata": {
  "kernelspec": {
   "display_name": "Python 3",
   "language": "python",
   "name": "python3"
  },
  "language_info": {
   "codemirror_mode": {
    "name": "ipython",
    "version": 3
   },
   "file_extension": ".py",
   "mimetype": "text/x-python",
   "name": "python",
   "nbconvert_exporter": "python",
   "pygments_lexer": "ipython3",
   "version": "3.6.4"
  },
  "toc": {
   "nav_menu": {
    "height": "63px",
    "width": "252px"
   },
   "number_sections": true,
   "sideBar": true,
   "skip_h1_title": false,
   "toc_cell": false,
   "toc_position": {},
   "toc_section_display": "block",
   "toc_window_display": false
  }
 },
 "nbformat": 4,
 "nbformat_minor": 1
}
