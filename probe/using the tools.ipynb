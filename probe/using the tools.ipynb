{
 "cells": [
  {
   "cell_type": "code",
   "execution_count": null,
   "metadata": {
    "ExecuteTime": {
     "end_time": "2018-01-12T16:12:00.259092Z",
     "start_time": "2018-01-12T16:12:00.232423Z"
    }
   },
   "outputs": [],
   "source": [
    "%load_ext autoreload\n",
    "%autoreload 2"
   ]
  },
  {
   "cell_type": "code",
   "execution_count": null,
   "metadata": {
    "ExecuteTime": {
     "end_time": "2018-01-12T16:12:03.085734Z",
     "start_time": "2018-01-12T16:12:00.362654Z"
    }
   },
   "outputs": [],
   "source": [
    "%matplotlib inline\n",
    "import matplotlib.pyplot as plt\n",
    "import numpy as np\n",
    "np.set_printoptions(precision=4, suppress=True)"
   ]
  },
  {
   "cell_type": "markdown",
   "metadata": {
    "collapsed": true
   },
   "source": [
    "# Sparse Hebbian Learning: testing the tools in the package\n",
    "\n",
    "This notebook aims at show-casing the different tools implemented in the package.\n"
   ]
  },
  {
   "cell_type": "code",
   "execution_count": null,
   "metadata": {
    "ExecuteTime": {
     "end_time": "2018-01-12T16:12:03.307083Z",
     "start_time": "2018-01-12T16:12:03.089668Z"
    }
   },
   "outputs": [],
   "source": [
    "from shl_scripts.shl_experiments import SHL\n",
    "\n",
    "DEBUG_DOWNSCALE, verbose = 4, 1"
   ]
  },
  {
   "cell_type": "code",
   "execution_count": null,
   "metadata": {
    "ExecuteTime": {
     "end_time": "2018-01-12T16:12:03.365240Z",
     "start_time": "2018-01-12T16:12:03.310496Z"
    },
    "scrolled": true
   },
   "outputs": [],
   "source": [
    "matname = 'test_tools'\n",
    "shl = SHL(DEBUG_DOWNSCALE=DEBUG_DOWNSCALE, verbose=verbose)"
   ]
  },
  {
   "cell_type": "code",
   "execution_count": null,
   "metadata": {
    "ExecuteTime": {
     "end_time": "2018-01-12T16:12:03.572385Z",
     "start_time": "2018-01-12T16:12:03.368327Z"
    }
   },
   "outputs": [],
   "source": [
    "help(shl)"
   ]
  },
  {
   "cell_type": "markdown",
   "metadata": {},
   "source": [
    "\n",
    "## caching tools : loading a database\n"
   ]
  },
  {
   "cell_type": "code",
   "execution_count": null,
   "metadata": {
    "ExecuteTime": {
     "end_time": "2018-01-15T08:43:54.275164Z",
     "start_time": "2018-01-15T08:43:49.844118Z"
    },
    "scrolled": false
   },
   "outputs": [],
   "source": [
    "max_patches = 10\n",
    "fig, axs = plt.subplots(2, max_patches, figsize=(15, 3))\n",
    "for i, do_mask in enumerate([False, True]):\n",
    "    data = SHL(DEBUG_DOWNSCALE=DEBUG_DOWNSCALE, verbose=verbose, max_patches=max_patches, do_mask=do_mask).get_data()\n",
    "    cmax = np.max(np.abs(data))\n",
    "    for j in range(max_patches):\n",
    "        axs[i, j].imshow(data[j, :].reshape(shl.patch_size),\n",
    "                         cmap=plt.cm.gray_r, vmin=-cmax, vmax=+cmax,\n",
    "                         interpolation='nearest')\n",
    "        axs[i, j].set_xticks(())\n",
    "        axs[i, j].set_yticks(())\n",
    "axs[0, 0].set_ylabel('Without mask')\n",
    "axs[1, 0].set_ylabel('With mask');"
   ]
  },
  {
   "cell_type": "code",
   "execution_count": null,
   "metadata": {
    "ExecuteTime": {
     "end_time": "2018-01-12T16:12:36.736492Z",
     "start_time": "2018-01-12T16:12:36.102540Z"
    }
   },
   "outputs": [],
   "source": [
    "data = shl.get_data(matname=matname)"
   ]
  },
  {
   "cell_type": "markdown",
   "metadata": {},
   "source": [
    "\n",
    "## caching tools : loading a database\n"
   ]
  },
  {
   "cell_type": "code",
   "execution_count": null,
   "metadata": {
    "ExecuteTime": {
     "end_time": "2018-01-12T16:12:36.819921Z",
     "start_time": "2018-01-12T16:12:36.743943Z"
    },
    "scrolled": true
   },
   "outputs": [],
   "source": [
    "matname = 'test_tools'\n",
    "shl = SHL(DEBUG_DOWNSCALE=DEBUG_DOWNSCALE, verbose=verbose)"
   ]
  },
  {
   "cell_type": "markdown",
   "metadata": {},
   "source": [
    "Let's first remove potential data cache:"
   ]
  },
  {
   "cell_type": "code",
   "execution_count": null,
   "metadata": {
    "ExecuteTime": {
     "end_time": "2018-01-12T16:12:37.237396Z",
     "start_time": "2018-01-12T16:12:36.828312Z"
    }
   },
   "outputs": [],
   "source": [
    "!rm data_cache/{matname}*"
   ]
  },
  {
   "cell_type": "markdown",
   "metadata": {},
   "source": [
    "If the data cache does not exist (as a file), it creates it:"
   ]
  },
  {
   "cell_type": "code",
   "execution_count": null,
   "metadata": {
    "ExecuteTime": {
     "end_time": "2018-01-12T16:12:57.039979Z",
     "start_time": "2018-01-12T16:12:37.245224Z"
    }
   },
   "outputs": [],
   "source": [
    "data = shl.get_data(matname=matname)"
   ]
  },
  {
   "cell_type": "markdown",
   "metadata": {},
   "source": [
    "But if the data cache exists, it loads it:"
   ]
  },
  {
   "cell_type": "code",
   "execution_count": null,
   "metadata": {
    "ExecuteTime": {
     "end_time": "2018-01-12T16:12:57.457805Z",
     "start_time": "2018-01-12T16:12:57.044388Z"
    }
   },
   "outputs": [],
   "source": [
    "data = shl.get_data(matname=matname)"
   ]
  },
  {
   "cell_type": "markdown",
   "metadata": {},
   "source": [
    "\n",
    "## caching tools : learning, then reloading the dictionary\n"
   ]
  },
  {
   "cell_type": "markdown",
   "metadata": {},
   "source": [
    "If the dictionary does not exist (as a file), it learns it:"
   ]
  },
  {
   "cell_type": "code",
   "execution_count": null,
   "metadata": {
    "ExecuteTime": {
     "end_time": "2018-01-12T16:20:49.962956Z",
     "start_time": "2018-01-12T16:12:57.464392Z"
    },
    "scrolled": false
   },
   "outputs": [],
   "source": [
    "list_figures = ['show_dico']\n",
    "dico = shl.learn_dico(data=data, matname=matname, list_figures=list_figures)"
   ]
  },
  {
   "cell_type": "markdown",
   "metadata": {},
   "source": [
    "But if the dictionary exists, it loads it:"
   ]
  },
  {
   "cell_type": "code",
   "execution_count": null,
   "metadata": {
    "ExecuteTime": {
     "end_time": "2018-01-12T16:22:54.407627Z",
     "start_time": "2018-01-12T16:20:49.966848Z"
    },
    "scrolled": false
   },
   "outputs": [],
   "source": [
    "dico = shl.learn_dico(data=data, matname=matname, list_figures=list_figures)"
   ]
  },
  {
   "cell_type": "markdown",
   "metadata": {},
   "source": [
    "\n",
    "## caching tools : resuming a learning\n",
    "\n",
    "If we give a dictionary as an argument to the learning method, then we resume the learning from this dictionary and overwrite the data cache.\n"
   ]
  },
  {
   "cell_type": "code",
   "execution_count": null,
   "metadata": {
    "ExecuteTime": {
     "end_time": "2018-01-12T16:29:55.741257Z",
     "start_time": "2018-01-12T16:22:54.411095Z"
    },
    "scrolled": false
   },
   "outputs": [],
   "source": [
    "dico = shl.learn_dico(data=data, matname=matname, dictionary=dico.dictionary, list_figures=list_figures)"
   ]
  },
  {
   "cell_type": "markdown",
   "metadata": {},
   "source": [
    "\n",
    "## caching tools : coding\n"
   ]
  },
  {
   "cell_type": "code",
   "execution_count": null,
   "metadata": {
    "ExecuteTime": {
     "end_time": "2018-01-12T16:30:06.888625Z",
     "start_time": "2018-01-12T16:29:55.745082Z"
    },
    "scrolled": false
   },
   "outputs": [],
   "source": [
    "%%time\n",
    "sparse_code = shl.code(data, dico)"
   ]
  },
  {
   "cell_type": "code",
   "execution_count": null,
   "metadata": {
    "ExecuteTime": {
     "end_time": "2018-01-12T16:30:16.662308Z",
     "start_time": "2018-01-12T16:30:06.891172Z"
    },
    "scrolled": false
   },
   "outputs": [],
   "source": [
    "sparse_code = shl.code(data, dico, matname=matname)"
   ]
  },
  {
   "cell_type": "markdown",
   "metadata": {
    "collapsed": true
   },
   "source": [
    "## plotting tools"
   ]
  },
  {
   "cell_type": "markdown",
   "metadata": {},
   "source": [
    "The simplest solution is to pass a list of figures to the learning method:"
   ]
  },
  {
   "cell_type": "code",
   "execution_count": null,
   "metadata": {
    "ExecuteTime": {
     "end_time": "2018-01-12T16:32:03.396924Z",
     "start_time": "2018-01-12T16:30:16.665875Z"
    },
    "scrolled": false
   },
   "outputs": [],
   "source": [
    "list_figures = ['show_dico',  'time_plot_prob',  'time_plot_kurt',  'time_plot_var']\n",
    "dico = shl.learn_dico(matname=matname, list_figures=list_figures)"
   ]
  },
  {
   "cell_type": "markdown",
   "metadata": {},
   "source": [
    "But one can also generate every single figure independently:"
   ]
  },
  {
   "cell_type": "code",
   "execution_count": null,
   "metadata": {
    "ExecuteTime": {
     "end_time": "2018-01-12T16:32:08.332653Z",
     "start_time": "2018-01-12T16:32:03.399394Z"
    }
   },
   "outputs": [],
   "source": [
    "shl.plot_variance(sparse_code);"
   ]
  },
  {
   "cell_type": "code",
   "execution_count": null,
   "metadata": {
    "ExecuteTime": {
     "end_time": "2018-01-12T16:32:09.951644Z",
     "start_time": "2018-01-12T16:32:08.335124Z"
    },
    "scrolled": false
   },
   "outputs": [],
   "source": [
    "shl.plot_variance_histogram(sparse_code);"
   ]
  },
  {
   "cell_type": "markdown",
   "metadata": {},
   "source": [
    "And combine them:"
   ]
  },
  {
   "cell_type": "code",
   "execution_count": null,
   "metadata": {
    "ExecuteTime": {
     "end_time": "2018-01-12T16:32:16.404274Z",
     "start_time": "2018-01-12T16:32:09.954447Z"
    }
   },
   "outputs": [],
   "source": [
    "fig, axs = plt.subplots(2, 1, figsize=(13, 8))\n",
    "fig, axs[0] = shl.plot_variance(sparse_code, fig=fig, ax=axs[0])\n",
    "fig, axs[1] = shl.plot_variance_histogram(sparse_code, fig=fig, ax=axs[1])"
   ]
  },
  {
   "cell_type": "markdown",
   "metadata": {},
   "source": [
    "## Version used"
   ]
  },
  {
   "cell_type": "code",
   "execution_count": null,
   "metadata": {
    "ExecuteTime": {
     "end_time": "2018-01-12T16:32:16.604331Z",
     "start_time": "2018-01-12T16:32:16.408047Z"
    }
   },
   "outputs": [],
   "source": [
    "%load_ext version_information\n",
    "%version_information numpy, shl_scripts"
   ]
  }
 ],
 "metadata": {
  "kernelspec": {
   "display_name": "Python 3",
   "language": "python",
   "name": "python3"
  },
  "language_info": {
   "codemirror_mode": {
    "name": "ipython",
    "version": 3
   },
   "file_extension": ".py",
   "mimetype": "text/x-python",
   "name": "python",
   "nbconvert_exporter": "python",
   "pygments_lexer": "ipython3",
   "version": "3.6.4"
  },
  "toc": {
   "nav_menu": {
    "height": "63px",
    "width": "252px"
   },
   "number_sections": true,
   "sideBar": true,
   "skip_h1_title": false,
   "toc_cell": false,
   "toc_position": {},
   "toc_section_display": "block",
   "toc_window_display": false
  }
 },
 "nbformat": 4,
 "nbformat_minor": 1
}
