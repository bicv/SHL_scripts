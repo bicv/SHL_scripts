{
 "cells": [
  {
   "cell_type": "markdown",
   "metadata": {},
   "source": [
    "# Homeostasis à-la-SparseNet on the activation probability\n",
    "\n",
    "In this notebook, we test the convergence of SparseNet as a function of different learning parameters. This shows the relative robusteness of this method according to the coding parameters, but also the importance of homeostasis to obtain an efficient set of filters.\n",
    "\n",
    "See also :\n",
    "* http://blog.invibe.net/posts/2015-05-05-reproducing-olshausens-classical-sparsenet.html for a description of how SparseNet is implemented in the scikit-learn package\n",
    "* http://blog.invibe.net/posts/2015-05-06-reproducing-olshausens-classical-sparsenet-part-2.html for a descrtiption of how we managed to implement the homeostasis"
   ]
  },
  {
   "cell_type": "code",
   "execution_count": 1,
   "metadata": {
    "ExecuteTime": {
     "end_time": "2018-05-17T14:52:33.085549Z",
     "start_time": "2018-05-17T14:52:33.068942Z"
    }
   },
   "outputs": [],
   "source": [
    "%load_ext autoreload\n",
    "%autoreload 2"
   ]
  },
  {
   "cell_type": "code",
   "execution_count": 2,
   "metadata": {
    "ExecuteTime": {
     "end_time": "2018-05-17T14:52:33.377199Z",
     "start_time": "2018-05-17T14:52:33.087810Z"
    }
   },
   "outputs": [],
   "source": [
    "%matplotlib inline\n",
    "import matplotlib.pyplot as plt\n",
    "import numpy as np\n",
    "np.set_printoptions(precision=2, suppress=True)"
   ]
  },
  {
   "cell_type": "code",
   "execution_count": 3,
   "metadata": {
    "ExecuteTime": {
     "end_time": "2018-05-17T14:52:33.535432Z",
     "start_time": "2018-05-17T14:52:33.379164Z"
    }
   },
   "outputs": [],
   "source": [
    "from shl_scripts.shl_experiments import SHL_set\n",
    "tag = 'nohomeo'\n",
    "opts = dict(homeo_method='None', verbose=0)\n",
    "experiments = SHL_set(opts, tag=tag)\n",
    "\n",
    "list_figures = ['show_dico']\n",
    "list_figures = []\n",
    "\n",
    "\n",
    "display_variables = ['error', 'logL', 'cputime']\n",
    "display_variables = ['error', 'logL', 'perror', 'MC', 'cputime']\n",
    "display_variables = ['F']\n"
   ]
  },
  {
   "cell_type": "code",
   "execution_count": 4,
   "metadata": {
    "ExecuteTime": {
     "end_time": "2018-05-17T14:52:33.813581Z",
     "start_time": "2018-05-17T14:52:33.537680Z"
    }
   },
   "outputs": [
    {
     "name": "stdout",
     "output_type": "stream",
     "text": [
      "-rw-r--r--  1 laurentperrinet  staff  1693904 May 14 17:19 data_cache/nohomeo - algorithm=lars - eta=0.00125_dico.pkl\r\n",
      "-rw-r--r--  1 laurentperrinet  staff  1780484 May 15 11:43 data_cache/nohomeo - algorithm=lars - eta=0.00177_dico.pkl\r\n",
      "-rw-r--r--  1 laurentperrinet  staff  1693904 May 14 17:24 data_cache/nohomeo - algorithm=lars - eta=0.00198_dico.pkl\r\n",
      "-rw-r--r--  1 laurentperrinet  staff  1780484 May 15 12:02 data_cache/nohomeo - algorithm=lars - eta=0.00250_dico.pkl\r\n",
      "-rw-r--r--  1 laurentperrinet  staff  1693904 May 14 17:28 data_cache/nohomeo - algorithm=lars - eta=0.00315_dico.pkl\r\n",
      "-rw-r--r--  1 laurentperrinet  staff  1780484 May 15 12:20 data_cache/nohomeo - algorithm=lars - eta=0.00354_dico.pkl\r\n",
      "-rw-r--r--  1 laurentperrinet  staff  1693904 May 14 17:33 data_cache/nohomeo - algorithm=lars - eta=0.00500_dico.pkl\r\n",
      "-rw-r--r--  1 laurentperrinet  staff  1780484 May 15 12:39 data_cache/nohomeo - algorithm=lars - eta=0.00707_dico.pkl\r\n",
      "-rw-r--r--  1 laurentperrinet  staff  1693904 May 14 17:38 data_cache/nohomeo - algorithm=lars - eta=0.00794_dico.pkl\r\n",
      "-rw-r--r--  1 laurentperrinet  staff  1780484 May 15 12:57 data_cache/nohomeo - algorithm=lars - eta=0.01000_dico.pkl\r\n",
      "-rw-r--r--  1 laurentperrinet  staff  1693904 May 14 17:42 data_cache/nohomeo - algorithm=lars - eta=0.01260_dico.pkl\r\n",
      "-rw-r--r--  1 laurentperrinet  staff  1780484 May 15 13:15 data_cache/nohomeo - algorithm=lars - eta=0.01414_dico.pkl\r\n",
      "-rw-r--r--  1 laurentperrinet  staff  1693904 May 14 17:47 data_cache/nohomeo - algorithm=lars - eta=0.02000_dico.pkl\r\n",
      "-rw-r--r--  1 laurentperrinet  staff  1693908 May 14 17:00 data_cache/nohomeo - algorithm=lasso_cd - eta=0.00125_dico.pkl\r\n",
      "-rw-r--r--  1 laurentperrinet  staff  1780488 May 15 10:55 data_cache/nohomeo - algorithm=lasso_cd - eta=0.00177_dico.pkl\r\n",
      "-rw-r--r--  1 laurentperrinet  staff  1693908 May 14 17:02 data_cache/nohomeo - algorithm=lasso_cd - eta=0.00198_dico.pkl\r\n",
      "-rw-r--r--  1 laurentperrinet  staff  1780488 May 15 11:01 data_cache/nohomeo - algorithm=lasso_cd - eta=0.00250_dico.pkl\r\n",
      "-rw-r--r--  1 laurentperrinet  staff  1693908 May 14 17:04 data_cache/nohomeo - algorithm=lasso_cd - eta=0.00315_dico.pkl\r\n",
      "-rw-r--r--  1 laurentperrinet  staff  1780488 May 15 11:07 data_cache/nohomeo - algorithm=lasso_cd - eta=0.00354_dico.pkl\r\n",
      "-rw-r--r--  1 laurentperrinet  staff  1693908 May 14 17:07 data_cache/nohomeo - algorithm=lasso_cd - eta=0.00500_dico.pkl\r\n",
      "-rw-r--r--  1 laurentperrinet  staff  1780488 May 15 11:12 data_cache/nohomeo - algorithm=lasso_cd - eta=0.00707_dico.pkl\r\n",
      "-rw-r--r--  1 laurentperrinet  staff  1693908 May 14 17:09 data_cache/nohomeo - algorithm=lasso_cd - eta=0.00794_dico.pkl\r\n",
      "-rw-r--r--  1 laurentperrinet  staff  1780488 May 15 11:18 data_cache/nohomeo - algorithm=lasso_cd - eta=0.01000_dico.pkl\r\n",
      "-rw-r--r--  1 laurentperrinet  staff  1693908 May 14 17:12 data_cache/nohomeo - algorithm=lasso_cd - eta=0.01260_dico.pkl\r\n",
      "-rw-r--r--  1 laurentperrinet  staff  1780488 May 15 11:24 data_cache/nohomeo - algorithm=lasso_cd - eta=0.01414_dico.pkl\r\n",
      "-rw-r--r--  1 laurentperrinet  staff  1693908 May 14 17:14 data_cache/nohomeo - algorithm=lasso_cd - eta=0.02000_dico.pkl\r\n",
      "-rw-r--r--  1 laurentperrinet  staff  1693910 May 14 16:51 data_cache/nohomeo - algorithm=lasso_lars - eta=0.00125_dico.pkl\r\n",
      "-rw-r--r--  1 laurentperrinet  staff  1780490 May 15 10:31 data_cache/nohomeo - algorithm=lasso_lars - eta=0.00177_dico.pkl\r\n",
      "-rw-r--r--  1 laurentperrinet  staff  1693910 May 14 16:52 data_cache/nohomeo - algorithm=lasso_lars - eta=0.00198_dico.pkl\r\n",
      "-rw-r--r--  1 laurentperrinet  staff  1780490 May 15 10:35 data_cache/nohomeo - algorithm=lasso_lars - eta=0.00250_dico.pkl\r\n",
      "-rw-r--r--  1 laurentperrinet  staff  1693910 May 14 16:53 data_cache/nohomeo - algorithm=lasso_lars - eta=0.00315_dico.pkl\r\n",
      "-rw-r--r--  1 laurentperrinet  staff  1780490 May 15 10:39 data_cache/nohomeo - algorithm=lasso_lars - eta=0.00354_dico.pkl\r\n",
      "-rw-r--r--  1 laurentperrinet  staff  1693910 May 14 16:54 data_cache/nohomeo - algorithm=lasso_lars - eta=0.00500_dico.pkl\r\n",
      "-rw-r--r--  1 laurentperrinet  staff  1780490 May 15 10:42 data_cache/nohomeo - algorithm=lasso_lars - eta=0.00707_dico.pkl\r\n",
      "-rw-r--r--  1 laurentperrinet  staff  1693910 May 14 16:55 data_cache/nohomeo - algorithm=lasso_lars - eta=0.00794_dico.pkl\r\n",
      "-rw-r--r--  1 laurentperrinet  staff  1780490 May 15 10:46 data_cache/nohomeo - algorithm=lasso_lars - eta=0.01000_dico.pkl\r\n",
      "-rw-r--r--  1 laurentperrinet  staff  1693910 May 14 16:56 data_cache/nohomeo - algorithm=lasso_lars - eta=0.01260_dico.pkl\r\n",
      "-rw-r--r--  1 laurentperrinet  staff  1780490 May 15 10:49 data_cache/nohomeo - algorithm=lasso_lars - eta=0.01414_dico.pkl\r\n",
      "-rw-r--r--  1 laurentperrinet  staff  1693910 May 14 16:57 data_cache/nohomeo - algorithm=lasso_lars - eta=0.02000_dico.pkl\r\n",
      "-rw-r--r--  1 laurentperrinet  staff  1693902 May 14 18:11 data_cache/nohomeo - algorithm=mp - eta=0.00125_dico.pkl\r\n",
      "-rw-r--r--  1 laurentperrinet  staff  1780482 May 15 14:13 data_cache/nohomeo - algorithm=mp - eta=0.00177_dico.pkl\r\n",
      "-rw-r--r--  1 laurentperrinet  staff  1693902 May 14 18:12 data_cache/nohomeo - algorithm=mp - eta=0.00198_dico.pkl\r\n",
      "-rw-r--r--  1 laurentperrinet  staff  1780482 May 15 14:15 data_cache/nohomeo - algorithm=mp - eta=0.00250_dico.pkl\r\n",
      "-rw-r--r--  1 laurentperrinet  staff  1693902 May 14 18:13 data_cache/nohomeo - algorithm=mp - eta=0.00315_dico.pkl\r\n",
      "-rw-r--r--  1 laurentperrinet  staff  1780482 May 15 14:17 data_cache/nohomeo - algorithm=mp - eta=0.00354_dico.pkl\r\n",
      "-rw-r--r--  1 laurentperrinet  staff  1693902 May 14 18:14 data_cache/nohomeo - algorithm=mp - eta=0.00500_dico.pkl\r\n",
      "-rw-r--r--  1 laurentperrinet  staff  1780482 May 15 14:19 data_cache/nohomeo - algorithm=mp - eta=0.00707_dico.pkl\r\n",
      "-rw-r--r--  1 laurentperrinet  staff  1693902 May 14 18:15 data_cache/nohomeo - algorithm=mp - eta=0.00794_dico.pkl\r\n",
      "-rw-r--r--  1 laurentperrinet  staff  1780482 May 15 14:21 data_cache/nohomeo - algorithm=mp - eta=0.01000_dico.pkl\r\n",
      "-rw-r--r--  1 laurentperrinet  staff  1693902 May 14 18:15 data_cache/nohomeo - algorithm=mp - eta=0.01260_dico.pkl\r\n",
      "-rw-r--r--  1 laurentperrinet  staff  1780482 May 15 14:22 data_cache/nohomeo - algorithm=mp - eta=0.01414_dico.pkl\r\n",
      "-rw-r--r--  1 laurentperrinet  staff  1693902 May 14 18:16 data_cache/nohomeo - algorithm=mp - eta=0.02000_dico.pkl\r\n",
      "-rw-r--r--  1 laurentperrinet  staff  1693903 May 14 17:56 data_cache/nohomeo - algorithm=omp - eta=0.00125_dico.pkl\r\n",
      "-rw-r--r--  1 laurentperrinet  staff  1780483 May 15 13:24 data_cache/nohomeo - algorithm=omp - eta=0.00177_dico.pkl\r\n",
      "-rw-r--r--  1 laurentperrinet  staff  1693903 May 14 17:58 data_cache/nohomeo - algorithm=omp - eta=0.00198_dico.pkl\r\n",
      "-rw-r--r--  1 laurentperrinet  staff  1780483 May 15 13:33 data_cache/nohomeo - algorithm=omp - eta=0.00250_dico.pkl\r\n",
      "-rw-r--r--  1 laurentperrinet  staff  1693903 May 14 18:01 data_cache/nohomeo - algorithm=omp - eta=0.00315_dico.pkl\r\n",
      "-rw-r--r--  1 laurentperrinet  staff  1780483 May 15 13:43 data_cache/nohomeo - algorithm=omp - eta=0.00354_dico.pkl\r\n",
      "-rw-r--r--  1 laurentperrinet  staff  1693903 May 14 18:03 data_cache/nohomeo - algorithm=omp - eta=0.00500_dico.pkl\r\n",
      "-rw-r--r--  1 laurentperrinet  staff  1780483 May 15 13:52 data_cache/nohomeo - algorithm=omp - eta=0.00707_dico.pkl\r\n",
      "-rw-r--r--  1 laurentperrinet  staff  1693903 May 14 18:06 data_cache/nohomeo - algorithm=omp - eta=0.00794_dico.pkl\r\n",
      "-rw-r--r--  1 laurentperrinet  staff  1780483 May 15 14:02 data_cache/nohomeo - algorithm=omp - eta=0.01000_dico.pkl\r\n",
      "-rw-r--r--  1 laurentperrinet  staff  1693903 May 14 18:08 data_cache/nohomeo - algorithm=omp - eta=0.01260_dico.pkl\r\n",
      "-rw-r--r--  1 laurentperrinet  staff  1780483 May 15 14:11 data_cache/nohomeo - algorithm=omp - eta=0.01414_dico.pkl\r\n",
      "-rw-r--r--  1 laurentperrinet  staff  1693903 May 14 18:11 data_cache/nohomeo - algorithm=omp - eta=0.02000_dico.pkl\r\n",
      "-rw-r--r--  1 laurentperrinet  staff  1693909 May 14 17:48 data_cache/nohomeo - algorithm=threshold - eta=0.00125_dico.pkl\r\n",
      "-rw-r--r--  1 laurentperrinet  staff  1693909 May 14 17:49 data_cache/nohomeo - algorithm=threshold - eta=0.00198_dico.pkl\r\n",
      "-rw-r--r--  1 laurentperrinet  staff  1693909 May 14 17:50 data_cache/nohomeo - algorithm=threshold - eta=0.00315_dico.pkl\r\n",
      "-rw-r--r--  1 laurentperrinet  staff  1693909 May 14 17:50 data_cache/nohomeo - algorithm=threshold - eta=0.00500_dico.pkl\r\n",
      "-rw-r--r--  1 laurentperrinet  staff  1693909 May 14 17:51 data_cache/nohomeo - algorithm=threshold - eta=0.00794_dico.pkl\r\n",
      "-rw-r--r--  1 laurentperrinet  staff  1693909 May 14 17:52 data_cache/nohomeo - algorithm=threshold - eta=0.01260_dico.pkl\r\n",
      "-rw-r--r--  1 laurentperrinet  staff  1693909 May 14 17:53 data_cache/nohomeo - algorithm=threshold - eta=0.02000_dico.pkl\r\n",
      "-rw-r--r--  1 laurentperrinet  staff  1780427 May 15 10:23 data_cache/nohomeo - batch_size=1024_dico.pkl\r\n",
      "-rw-r--r--  1 laurentperrinet  staff  1693847 May 14 16:48 data_cache/nohomeo - batch_size=128_dico.pkl\r\n",
      "-rw-r--r--  1 laurentperrinet  staff  1693847 May 14 16:45 data_cache/nohomeo - batch_size=16_dico.pkl\r\n",
      "-rw-r--r--  1 laurentperrinet  staff  1780426 May 15 10:25 data_cache/nohomeo - batch_size=181_dico.pkl\r\n",
      "-rw-r--r--  1 laurentperrinet  staff  1693848 May 14 16:49 data_cache/nohomeo - batch_size=256_dico.pkl\r\n",
      "-rw-r--r--  1 laurentperrinet  staff  1693847 May 14 16:46 data_cache/nohomeo - batch_size=32_dico.pkl\r\n",
      "-rw-r--r--  1 laurentperrinet  staff  1780427 May 15 10:28 data_cache/nohomeo - batch_size=362_dico.pkl\r\n",
      "-rw-r--r--  1 laurentperrinet  staff  1693847 May 14 16:50 data_cache/nohomeo - batch_size=45_dico.pkl\r\n",
      "-rw-r--r--  1 laurentperrinet  staff  1780427 May 15 10:19 data_cache/nohomeo - batch_size=512_dico.pkl\r\n",
      "-rw-r--r--  1 laurentperrinet  staff  1693847 May 14 16:47 data_cache/nohomeo - batch_size=64_dico.pkl\r\n",
      "-rw-r--r--  1 laurentperrinet  staff  1693847 May 14 16:50 data_cache/nohomeo - batch_size=90_dico.pkl\r\n",
      "-rw-r--r--  1 laurentperrinet  staff  1468110 May 14 16:32 data_cache/nohomeo - eta=0.00125_dico.pkl\r\n",
      "-rw-r--r--  1 laurentperrinet  staff  1780482 May 15 09:41 data_cache/nohomeo - eta=0.00177_dico.pkl\r\n",
      "-rw-r--r--  1 laurentperrinet  staff  1468110 May 14 16:33 data_cache/nohomeo - eta=0.00198_dico.pkl\r\n",
      "-rw-r--r--  1 laurentperrinet  staff  1780482 May 15 09:43 data_cache/nohomeo - eta=0.00250_dico.pkl\r\n",
      "-rw-r--r--  1 laurentperrinet  staff  1468110 May 14 16:33 data_cache/nohomeo - eta=0.00315_dico.pkl\r\n",
      "-rw-r--r--  1 laurentperrinet  staff  1780482 May 15 09:46 data_cache/nohomeo - eta=0.00354_dico.pkl\r\n",
      "-rw-r--r--  1 laurentperrinet  staff  1468110 May 14 16:34 data_cache/nohomeo - eta=0.00500_dico.pkl\r\n",
      "-rw-r--r--  1 laurentperrinet  staff  1780482 May 15 09:49 data_cache/nohomeo - eta=0.00707_dico.pkl\r\n",
      "-rw-r--r--  1 laurentperrinet  staff  1468110 May 14 16:35 data_cache/nohomeo - eta=0.00794_dico.pkl\r\n",
      "-rw-r--r--  1 laurentperrinet  staff  1780482 May 15 09:51 data_cache/nohomeo - eta=0.01000_dico.pkl\r\n",
      "-rw-r--r--  1 laurentperrinet  staff  1468110 May 14 16:36 data_cache/nohomeo - eta=0.01260_dico.pkl\r\n",
      "-rw-r--r--  1 laurentperrinet  staff  1780482 May 15 09:54 data_cache/nohomeo - eta=0.01414_dico.pkl\r\n",
      "-rw-r--r--  1 laurentperrinet  staff  1468110 May 14 16:37 data_cache/nohomeo - eta=0.02000_dico.pkl\r\n",
      "-rw-r--r--  1 laurentperrinet  staff  1683026 May 15 09:55 data_cache/nohomeo - n_iter=1024_dico.pkl\r\n",
      "-rw-r--r--  1 laurentperrinet  staff  1693847 May 14 16:38 data_cache/nohomeo - n_iter=1025_dico.pkl\r\n",
      "-rw-r--r--  1 laurentperrinet  staff  1726314 May 15 10:12 data_cache/nohomeo - n_iter=1448_dico.pkl\r\n",
      "-rw-r--r--  1 laurentperrinet  staff  1726313 May 14 16:45 data_cache/nohomeo - n_iter=1449_dico.pkl\r\n",
      "-rw-r--r--  1 laurentperrinet  staff  1780427 May 15 09:58 data_cache/nohomeo - n_iter=2049_dico.pkl\r\n",
      "-rw-r--r--  1 laurentperrinet  staff  1780426 May 14 16:40 data_cache/nohomeo - n_iter=2050_dico.pkl\r\n",
      "-rw-r--r--  1 laurentperrinet  staff  1618159 May 14 16:37 data_cache/nohomeo - n_iter=256_dico.pkl\r\n",
      "-rw-r--r--  1 laurentperrinet  staff  1845362 May 15 10:16 data_cache/nohomeo - n_iter=2897_dico.pkl\r\n",
      "-rw-r--r--  1 laurentperrinet  staff  1953588 May 15 10:02 data_cache/nohomeo - n_iter=4098_dico.pkl\r\n",
      "-rw-r--r--  1 laurentperrinet  staff  1953587 May 14 16:43 data_cache/nohomeo - n_iter=4100_dico.pkl\r\n",
      "-rw-r--r--  1 laurentperrinet  staff  1639707 May 14 16:37 data_cache/nohomeo - n_iter=512_dico.pkl\r\n",
      "-rw-r--r--  1 laurentperrinet  staff  1661378 May 14 16:44 data_cache/nohomeo - n_iter=724_dico.pkl\r\n",
      "-rw-r--r--  1 laurentperrinet  staff  2299892 May 15 10:11 data_cache/nohomeo - n_iter=8196_dico.pkl\r\n"
     ]
    }
   ],
   "source": [
    "!ls -l {experiments.shl.data_cache}/{tag}*\n",
    "!rm -fr {experiments.shl.data_cache}/{tag}*lock*"
   ]
  },
  {
   "cell_type": "raw",
   "metadata": {},
   "source": [
    "!rm -fr {experiments.shl.data_cache}/{tag}*\n",
    "#!rm -fr data_cache/data_data.npy\n",
    "!ls -l {experiments.shl.data_cache}/{tag}*"
   ]
  },
  {
   "cell_type": "markdown",
   "metadata": {},
   "source": [
    "## With different learning rates but without homeostasis\n",
    "\n",
    "Here,we only ensure the norm ofthe filters is constant."
   ]
  },
  {
   "cell_type": "code",
   "execution_count": 5,
   "metadata": {
    "ExecuteTime": {
     "end_time": "2018-05-17T14:59:39.693066Z",
     "start_time": "2018-05-17T14:52:33.817021Z"
    },
    "scrolled": false
   },
   "outputs": [
    {
     "ename": "KeyError",
     "evalue": "'qerror'",
     "output_type": "error",
     "traceback": [
      "\u001b[0;31m---------------------------------------------------------------------------\u001b[0m",
      "\u001b[0;31mKeyError\u001b[0m                                  Traceback (most recent call last)",
      "\u001b[0;32m/usr/local/lib/python3.6/site-packages/pandas/core/indexes/base.py\u001b[0m in \u001b[0;36mget_loc\u001b[0;34m(self, key, method, tolerance)\u001b[0m\n\u001b[1;32m   2524\u001b[0m             \u001b[0;32mtry\u001b[0m\u001b[0;34m:\u001b[0m\u001b[0;34m\u001b[0m\u001b[0m\n\u001b[0;32m-> 2525\u001b[0;31m                 \u001b[0;32mreturn\u001b[0m \u001b[0mself\u001b[0m\u001b[0;34m.\u001b[0m\u001b[0m_engine\u001b[0m\u001b[0;34m.\u001b[0m\u001b[0mget_loc\u001b[0m\u001b[0;34m(\u001b[0m\u001b[0mkey\u001b[0m\u001b[0;34m)\u001b[0m\u001b[0;34m\u001b[0m\u001b[0m\n\u001b[0m\u001b[1;32m   2526\u001b[0m             \u001b[0;32mexcept\u001b[0m \u001b[0mKeyError\u001b[0m\u001b[0;34m:\u001b[0m\u001b[0;34m\u001b[0m\u001b[0m\n",
      "\u001b[0;32mpandas/_libs/index.pyx\u001b[0m in \u001b[0;36mpandas._libs.index.IndexEngine.get_loc\u001b[0;34m()\u001b[0m\n",
      "\u001b[0;32mpandas/_libs/index.pyx\u001b[0m in \u001b[0;36mpandas._libs.index.IndexEngine.get_loc\u001b[0;34m()\u001b[0m\n",
      "\u001b[0;32mpandas/_libs/hashtable_class_helper.pxi\u001b[0m in \u001b[0;36mpandas._libs.hashtable.PyObjectHashTable.get_item\u001b[0;34m()\u001b[0m\n",
      "\u001b[0;32mpandas/_libs/hashtable_class_helper.pxi\u001b[0m in \u001b[0;36mpandas._libs.hashtable.PyObjectHashTable.get_item\u001b[0;34m()\u001b[0m\n",
      "\u001b[0;31mKeyError\u001b[0m: 'qerror'",
      "\nDuring handling of the above exception, another exception occurred:\n",
      "\u001b[0;31mKeyError\u001b[0m                                  Traceback (most recent call last)",
      "\u001b[0;32m<ipython-input-5-c1ca9a9d085e>\u001b[0m in \u001b[0;36m<module>\u001b[0;34m()\u001b[0m\n\u001b[1;32m      3\u001b[0m \u001b[0;34m\u001b[0m\u001b[0m\n\u001b[1;32m      4\u001b[0m \u001b[0;32mfor\u001b[0m \u001b[0mdisplay_variable\u001b[0m \u001b[0;32min\u001b[0m \u001b[0mdisplay_variables\u001b[0m\u001b[0;34m:\u001b[0m\u001b[0;34m\u001b[0m\u001b[0m\n\u001b[0;32m----> 5\u001b[0;31m     \u001b[0mfig\u001b[0m\u001b[0;34m,\u001b[0m \u001b[0max\u001b[0m \u001b[0;34m=\u001b[0m \u001b[0mexperiments\u001b[0m\u001b[0;34m.\u001b[0m\u001b[0mscan\u001b[0m\u001b[0;34m(\u001b[0m\u001b[0mvariable\u001b[0m\u001b[0;34m=\u001b[0m\u001b[0;34m'eta'\u001b[0m\u001b[0;34m,\u001b[0m \u001b[0mlist_figures\u001b[0m\u001b[0;34m=\u001b[0m\u001b[0;34m[\u001b[0m\u001b[0;34m]\u001b[0m\u001b[0;34m,\u001b[0m \u001b[0mdisplay\u001b[0m\u001b[0;34m=\u001b[0m\u001b[0;34m'dynamic'\u001b[0m\u001b[0;34m,\u001b[0m \u001b[0mdisplay_variable\u001b[0m\u001b[0;34m=\u001b[0m\u001b[0mdisplay_variable\u001b[0m\u001b[0;34m)\u001b[0m\u001b[0;34m\u001b[0m\u001b[0m\n\u001b[0m\u001b[1;32m      6\u001b[0m     \u001b[0mplt\u001b[0m\u001b[0;34m.\u001b[0m\u001b[0mshow\u001b[0m\u001b[0;34m(\u001b[0m\u001b[0;34m)\u001b[0m\u001b[0;34m\u001b[0m\u001b[0m\n\u001b[1;32m      7\u001b[0m \u001b[0;34m\u001b[0m\u001b[0m\n",
      "\u001b[0;32m~/science/SHL_master/shl_scripts/shl_experiments.py\u001b[0m in \u001b[0;36mscan\u001b[0;34m(self, N_scan, variable, list_figures, base, display, display_variable, alpha, color, label, fname, fig, ax, verbose)\u001b[0m\n\u001b[1;32m    450\u001b[0m                     \u001b[0mlabel\u001b[0m \u001b[0;34m=\u001b[0m \u001b[0;34m'%s=%d'\u001b[0m \u001b[0;34m%\u001b[0m \u001b[0;34m(\u001b[0m\u001b[0mvariable\u001b[0m\u001b[0;34m,\u001b[0m \u001b[0mvalue\u001b[0m\u001b[0;34m)\u001b[0m\u001b[0;34m\u001b[0m\u001b[0m\n\u001b[1;32m    451\u001b[0m                 fig_error, ax_error = shl.time_plot(dico, variable=display_variable,\n\u001b[0;32m--> 452\u001b[0;31m                         fig=fig_error, ax=ax_error, label=label)\n\u001b[0m\u001b[1;32m    453\u001b[0m             \u001b[0;32melif\u001b[0m \u001b[0mdisplay\u001b[0m \u001b[0;34m==\u001b[0m \u001b[0;34m'final'\u001b[0m\u001b[0;34m:\u001b[0m\u001b[0;34m\u001b[0m\u001b[0m\n\u001b[1;32m    454\u001b[0m                 \u001b[0;32mtry\u001b[0m\u001b[0;34m:\u001b[0m\u001b[0;34m\u001b[0m\u001b[0m\n",
      "\u001b[0;32m~/science/SHL_master/shl_scripts/shl_experiments.py\u001b[0m in \u001b[0;36mtime_plot\u001b[0;34m(self, dico, variable, fname, N_nosample, color, label, fig, ax)\u001b[0m\n\u001b[1;32m    343\u001b[0m     \u001b[0;32mdef\u001b[0m \u001b[0mtime_plot\u001b[0m\u001b[0;34m(\u001b[0m\u001b[0mself\u001b[0m\u001b[0;34m,\u001b[0m \u001b[0mdico\u001b[0m\u001b[0;34m,\u001b[0m \u001b[0mvariable\u001b[0m\u001b[0;34m=\u001b[0m\u001b[0;34m'kurt'\u001b[0m\u001b[0;34m,\u001b[0m \u001b[0mfname\u001b[0m\u001b[0;34m=\u001b[0m\u001b[0;32mNone\u001b[0m\u001b[0;34m,\u001b[0m \u001b[0mN_nosample\u001b[0m\u001b[0;34m=\u001b[0m\u001b[0;36m1\u001b[0m\u001b[0;34m,\u001b[0m \u001b[0mcolor\u001b[0m\u001b[0;34m=\u001b[0m\u001b[0;32mNone\u001b[0m\u001b[0;34m,\u001b[0m \u001b[0mlabel\u001b[0m\u001b[0;34m=\u001b[0m\u001b[0;32mNone\u001b[0m\u001b[0;34m,\u001b[0m \u001b[0mfig\u001b[0m\u001b[0;34m=\u001b[0m\u001b[0;32mNone\u001b[0m\u001b[0;34m,\u001b[0m \u001b[0max\u001b[0m\u001b[0;34m=\u001b[0m\u001b[0;32mNone\u001b[0m\u001b[0;34m)\u001b[0m\u001b[0;34m:\u001b[0m\u001b[0;34m\u001b[0m\u001b[0m\n\u001b[1;32m    344\u001b[0m         \u001b[0;32mfrom\u001b[0m \u001b[0mshl_scripts\u001b[0m\u001b[0;34m.\u001b[0m\u001b[0mshl_tools\u001b[0m \u001b[0;32mimport\u001b[0m \u001b[0mtime_plot\u001b[0m\u001b[0;34m\u001b[0m\u001b[0m\n\u001b[0;32m--> 345\u001b[0;31m         \u001b[0;32mreturn\u001b[0m \u001b[0mtime_plot\u001b[0m\u001b[0;34m(\u001b[0m\u001b[0mself\u001b[0m\u001b[0;34m,\u001b[0m \u001b[0mdico\u001b[0m\u001b[0;34m,\u001b[0m \u001b[0mvariable\u001b[0m\u001b[0;34m=\u001b[0m\u001b[0mvariable\u001b[0m\u001b[0;34m,\u001b[0m \u001b[0mfname\u001b[0m\u001b[0;34m=\u001b[0m\u001b[0mfname\u001b[0m\u001b[0;34m,\u001b[0m \u001b[0mN_nosample\u001b[0m\u001b[0;34m=\u001b[0m\u001b[0mN_nosample\u001b[0m\u001b[0;34m,\u001b[0m \u001b[0mcolor\u001b[0m\u001b[0;34m=\u001b[0m\u001b[0mcolor\u001b[0m\u001b[0;34m,\u001b[0m \u001b[0mlabel\u001b[0m\u001b[0;34m=\u001b[0m\u001b[0mlabel\u001b[0m\u001b[0;34m,\u001b[0m \u001b[0mfig\u001b[0m\u001b[0;34m=\u001b[0m\u001b[0mfig\u001b[0m\u001b[0;34m,\u001b[0m \u001b[0max\u001b[0m\u001b[0;34m=\u001b[0m\u001b[0max\u001b[0m\u001b[0;34m)\u001b[0m\u001b[0;34m\u001b[0m\u001b[0m\n\u001b[0m\u001b[1;32m    346\u001b[0m \u001b[0;34m\u001b[0m\u001b[0m\n\u001b[1;32m    347\u001b[0m     \u001b[0;32mdef\u001b[0m \u001b[0mshow_dico\u001b[0m\u001b[0;34m(\u001b[0m\u001b[0mself\u001b[0m\u001b[0;34m,\u001b[0m \u001b[0mdico\u001b[0m\u001b[0;34m,\u001b[0m \u001b[0mdata\u001b[0m\u001b[0;34m=\u001b[0m\u001b[0;32mNone\u001b[0m\u001b[0;34m,\u001b[0m \u001b[0mtitle\u001b[0m\u001b[0;34m=\u001b[0m\u001b[0;32mNone\u001b[0m\u001b[0;34m,\u001b[0m \u001b[0mfname\u001b[0m\u001b[0;34m=\u001b[0m\u001b[0;32mNone\u001b[0m\u001b[0;34m,\u001b[0m \u001b[0mdpi\u001b[0m\u001b[0;34m=\u001b[0m\u001b[0;36m200\u001b[0m\u001b[0;34m,\u001b[0m \u001b[0mfig\u001b[0m\u001b[0;34m=\u001b[0m\u001b[0;32mNone\u001b[0m\u001b[0;34m,\u001b[0m \u001b[0max\u001b[0m\u001b[0;34m=\u001b[0m\u001b[0;32mNone\u001b[0m\u001b[0;34m)\u001b[0m\u001b[0;34m:\u001b[0m\u001b[0;34m\u001b[0m\u001b[0m\n",
      "\u001b[0;32m~/science/SHL_master/shl_scripts/shl_tools.py\u001b[0m in \u001b[0;36mtime_plot\u001b[0;34m(shl_exp, dico, variable, unit, N_nosample, alpha, color, label, fname, fig, ax)\u001b[0m\n\u001b[1;32m    769\u001b[0m         \u001b[0max\u001b[0m \u001b[0;34m=\u001b[0m \u001b[0mfig\u001b[0m\u001b[0;34m.\u001b[0m\u001b[0madd_subplot\u001b[0m\u001b[0;34m(\u001b[0m\u001b[0;36m111\u001b[0m\u001b[0;34m)\u001b[0m\u001b[0;34m\u001b[0m\u001b[0m\n\u001b[1;32m    770\u001b[0m \u001b[0;34m\u001b[0m\u001b[0m\n\u001b[0;32m--> 771\u001b[0;31m     \u001b[0mlearning_time\u001b[0m\u001b[0;34m,\u001b[0m \u001b[0mA\u001b[0m \u001b[0;34m=\u001b[0m \u001b[0mget_record\u001b[0m\u001b[0;34m(\u001b[0m\u001b[0mdico\u001b[0m\u001b[0;34m,\u001b[0m \u001b[0mvariable\u001b[0m\u001b[0;34m,\u001b[0m \u001b[0mN_nosample\u001b[0m\u001b[0;34m)\u001b[0m\u001b[0;34m\u001b[0m\u001b[0m\n\u001b[0m\u001b[1;32m    772\u001b[0m \u001b[0;34m\u001b[0m\u001b[0m\n\u001b[1;32m    773\u001b[0m     \u001b[0;31m# print(learning_time, A[:, :-N_nosample].shape, df_variable[ind])\u001b[0m\u001b[0;34m\u001b[0m\u001b[0;34m\u001b[0m\u001b[0m\n",
      "\u001b[0;32m~/science/SHL_master/shl_scripts/shl_tools.py\u001b[0m in \u001b[0;36mget_record\u001b[0;34m(dico, variable, N_nosample)\u001b[0m\n\u001b[1;32m    740\u001b[0m         \u001b[0;31m# print('HACK')\u001b[0m\u001b[0;34m\u001b[0m\u001b[0;34m\u001b[0m\u001b[0m\n\u001b[1;32m    741\u001b[0m         \u001b[0mlearning_time\u001b[0m\u001b[0;34m,\u001b[0m \u001b[0mA1\u001b[0m \u001b[0;34m=\u001b[0m \u001b[0mget_record\u001b[0m\u001b[0;34m(\u001b[0m\u001b[0mdico\u001b[0m\u001b[0;34m,\u001b[0m \u001b[0;34m'error'\u001b[0m\u001b[0;34m,\u001b[0m \u001b[0mN_nosample\u001b[0m\u001b[0;34m)\u001b[0m\u001b[0;34m\u001b[0m\u001b[0m\n\u001b[0;32m--> 742\u001b[0;31m         \u001b[0mlearning_time\u001b[0m\u001b[0;34m,\u001b[0m \u001b[0mA2\u001b[0m \u001b[0;34m=\u001b[0m \u001b[0mget_record\u001b[0m\u001b[0;34m(\u001b[0m\u001b[0mdico\u001b[0m\u001b[0;34m,\u001b[0m \u001b[0;34m'qerror'\u001b[0m\u001b[0;34m,\u001b[0m \u001b[0mN_nosample\u001b[0m\u001b[0;34m)\u001b[0m\u001b[0;34m\u001b[0m\u001b[0m\n\u001b[0m\u001b[1;32m    743\u001b[0m         \u001b[0mA\u001b[0m \u001b[0;34m=\u001b[0m \u001b[0;36m80.\u001b[0m\u001b[0;34m*\u001b[0m\u001b[0mA1\u001b[0m \u001b[0;34m+\u001b[0m \u001b[0;36m.3\u001b[0m\u001b[0;34m*\u001b[0m\u001b[0mA2\u001b[0m\u001b[0;34m\u001b[0m\u001b[0m\n\u001b[1;32m    744\u001b[0m     \u001b[0;32melse\u001b[0m\u001b[0;34m:\u001b[0m\u001b[0;34m\u001b[0m\u001b[0m\n",
      "\u001b[0;32m~/science/SHL_master/shl_scripts/shl_tools.py\u001b[0m in \u001b[0;36mget_record\u001b[0;34m(dico, variable, N_nosample)\u001b[0m\n\u001b[1;32m    744\u001b[0m     \u001b[0;32melse\u001b[0m\u001b[0;34m:\u001b[0m\u001b[0;34m\u001b[0m\u001b[0m\n\u001b[1;32m    745\u001b[0m         \u001b[0;31m# try:\u001b[0m\u001b[0;34m\u001b[0m\u001b[0;34m\u001b[0m\u001b[0m\n\u001b[0;32m--> 746\u001b[0;31m         \u001b[0mdf_variable\u001b[0m \u001b[0;34m=\u001b[0m \u001b[0mdico\u001b[0m\u001b[0;34m.\u001b[0m\u001b[0mrecord\u001b[0m\u001b[0;34m[\u001b[0m\u001b[0mvariable\u001b[0m\u001b[0;34m]\u001b[0m\u001b[0;34m\u001b[0m\u001b[0m\n\u001b[0m\u001b[1;32m    747\u001b[0m         \u001b[0mlearning_time\u001b[0m \u001b[0;34m=\u001b[0m \u001b[0mnp\u001b[0m\u001b[0;34m.\u001b[0m\u001b[0marray\u001b[0m\u001b[0;34m(\u001b[0m\u001b[0mdf_variable\u001b[0m\u001b[0;34m.\u001b[0m\u001b[0mindex\u001b[0m\u001b[0;34m)\u001b[0m  \u001b[0;31m# np.arange(0, dico.n_iter, dico.record_each)\u001b[0m\u001b[0;34m\u001b[0m\u001b[0m\n\u001b[1;32m    748\u001b[0m         \u001b[0;31m# if df_variable.ndim==1:\u001b[0m\u001b[0;34m\u001b[0m\u001b[0;34m\u001b[0m\u001b[0m\n",
      "\u001b[0;32m/usr/local/lib/python3.6/site-packages/pandas/core/frame.py\u001b[0m in \u001b[0;36m__getitem__\u001b[0;34m(self, key)\u001b[0m\n\u001b[1;32m   2137\u001b[0m             \u001b[0;32mreturn\u001b[0m \u001b[0mself\u001b[0m\u001b[0;34m.\u001b[0m\u001b[0m_getitem_multilevel\u001b[0m\u001b[0;34m(\u001b[0m\u001b[0mkey\u001b[0m\u001b[0;34m)\u001b[0m\u001b[0;34m\u001b[0m\u001b[0m\n\u001b[1;32m   2138\u001b[0m         \u001b[0;32melse\u001b[0m\u001b[0;34m:\u001b[0m\u001b[0;34m\u001b[0m\u001b[0m\n\u001b[0;32m-> 2139\u001b[0;31m             \u001b[0;32mreturn\u001b[0m \u001b[0mself\u001b[0m\u001b[0;34m.\u001b[0m\u001b[0m_getitem_column\u001b[0m\u001b[0;34m(\u001b[0m\u001b[0mkey\u001b[0m\u001b[0;34m)\u001b[0m\u001b[0;34m\u001b[0m\u001b[0m\n\u001b[0m\u001b[1;32m   2140\u001b[0m \u001b[0;34m\u001b[0m\u001b[0m\n\u001b[1;32m   2141\u001b[0m     \u001b[0;32mdef\u001b[0m \u001b[0m_getitem_column\u001b[0m\u001b[0;34m(\u001b[0m\u001b[0mself\u001b[0m\u001b[0;34m,\u001b[0m \u001b[0mkey\u001b[0m\u001b[0;34m)\u001b[0m\u001b[0;34m:\u001b[0m\u001b[0;34m\u001b[0m\u001b[0m\n",
      "\u001b[0;32m/usr/local/lib/python3.6/site-packages/pandas/core/frame.py\u001b[0m in \u001b[0;36m_getitem_column\u001b[0;34m(self, key)\u001b[0m\n\u001b[1;32m   2144\u001b[0m         \u001b[0;31m# get column\u001b[0m\u001b[0;34m\u001b[0m\u001b[0;34m\u001b[0m\u001b[0m\n\u001b[1;32m   2145\u001b[0m         \u001b[0;32mif\u001b[0m \u001b[0mself\u001b[0m\u001b[0;34m.\u001b[0m\u001b[0mcolumns\u001b[0m\u001b[0;34m.\u001b[0m\u001b[0mis_unique\u001b[0m\u001b[0;34m:\u001b[0m\u001b[0;34m\u001b[0m\u001b[0m\n\u001b[0;32m-> 2146\u001b[0;31m             \u001b[0;32mreturn\u001b[0m \u001b[0mself\u001b[0m\u001b[0;34m.\u001b[0m\u001b[0m_get_item_cache\u001b[0m\u001b[0;34m(\u001b[0m\u001b[0mkey\u001b[0m\u001b[0;34m)\u001b[0m\u001b[0;34m\u001b[0m\u001b[0m\n\u001b[0m\u001b[1;32m   2147\u001b[0m \u001b[0;34m\u001b[0m\u001b[0m\n\u001b[1;32m   2148\u001b[0m         \u001b[0;31m# duplicate columns & possible reduce dimensionality\u001b[0m\u001b[0;34m\u001b[0m\u001b[0;34m\u001b[0m\u001b[0m\n",
      "\u001b[0;32m/usr/local/lib/python3.6/site-packages/pandas/core/generic.py\u001b[0m in \u001b[0;36m_get_item_cache\u001b[0;34m(self, item)\u001b[0m\n\u001b[1;32m   1840\u001b[0m         \u001b[0mres\u001b[0m \u001b[0;34m=\u001b[0m \u001b[0mcache\u001b[0m\u001b[0;34m.\u001b[0m\u001b[0mget\u001b[0m\u001b[0;34m(\u001b[0m\u001b[0mitem\u001b[0m\u001b[0;34m)\u001b[0m\u001b[0;34m\u001b[0m\u001b[0m\n\u001b[1;32m   1841\u001b[0m         \u001b[0;32mif\u001b[0m \u001b[0mres\u001b[0m \u001b[0;32mis\u001b[0m \u001b[0;32mNone\u001b[0m\u001b[0;34m:\u001b[0m\u001b[0;34m\u001b[0m\u001b[0m\n\u001b[0;32m-> 1842\u001b[0;31m             \u001b[0mvalues\u001b[0m \u001b[0;34m=\u001b[0m \u001b[0mself\u001b[0m\u001b[0;34m.\u001b[0m\u001b[0m_data\u001b[0m\u001b[0;34m.\u001b[0m\u001b[0mget\u001b[0m\u001b[0;34m(\u001b[0m\u001b[0mitem\u001b[0m\u001b[0;34m)\u001b[0m\u001b[0;34m\u001b[0m\u001b[0m\n\u001b[0m\u001b[1;32m   1843\u001b[0m             \u001b[0mres\u001b[0m \u001b[0;34m=\u001b[0m \u001b[0mself\u001b[0m\u001b[0;34m.\u001b[0m\u001b[0m_box_item_values\u001b[0m\u001b[0;34m(\u001b[0m\u001b[0mitem\u001b[0m\u001b[0;34m,\u001b[0m \u001b[0mvalues\u001b[0m\u001b[0;34m)\u001b[0m\u001b[0;34m\u001b[0m\u001b[0m\n\u001b[1;32m   1844\u001b[0m             \u001b[0mcache\u001b[0m\u001b[0;34m[\u001b[0m\u001b[0mitem\u001b[0m\u001b[0;34m]\u001b[0m \u001b[0;34m=\u001b[0m \u001b[0mres\u001b[0m\u001b[0;34m\u001b[0m\u001b[0m\n",
      "\u001b[0;32m/usr/local/lib/python3.6/site-packages/pandas/core/internals.py\u001b[0m in \u001b[0;36mget\u001b[0;34m(self, item, fastpath)\u001b[0m\n\u001b[1;32m   3841\u001b[0m \u001b[0;34m\u001b[0m\u001b[0m\n\u001b[1;32m   3842\u001b[0m             \u001b[0;32mif\u001b[0m \u001b[0;32mnot\u001b[0m \u001b[0misna\u001b[0m\u001b[0;34m(\u001b[0m\u001b[0mitem\u001b[0m\u001b[0;34m)\u001b[0m\u001b[0;34m:\u001b[0m\u001b[0;34m\u001b[0m\u001b[0m\n\u001b[0;32m-> 3843\u001b[0;31m                 \u001b[0mloc\u001b[0m \u001b[0;34m=\u001b[0m \u001b[0mself\u001b[0m\u001b[0;34m.\u001b[0m\u001b[0mitems\u001b[0m\u001b[0;34m.\u001b[0m\u001b[0mget_loc\u001b[0m\u001b[0;34m(\u001b[0m\u001b[0mitem\u001b[0m\u001b[0;34m)\u001b[0m\u001b[0;34m\u001b[0m\u001b[0m\n\u001b[0m\u001b[1;32m   3844\u001b[0m             \u001b[0;32melse\u001b[0m\u001b[0;34m:\u001b[0m\u001b[0;34m\u001b[0m\u001b[0m\n\u001b[1;32m   3845\u001b[0m                 \u001b[0mindexer\u001b[0m \u001b[0;34m=\u001b[0m \u001b[0mnp\u001b[0m\u001b[0;34m.\u001b[0m\u001b[0marange\u001b[0m\u001b[0;34m(\u001b[0m\u001b[0mlen\u001b[0m\u001b[0;34m(\u001b[0m\u001b[0mself\u001b[0m\u001b[0;34m.\u001b[0m\u001b[0mitems\u001b[0m\u001b[0;34m)\u001b[0m\u001b[0;34m)\u001b[0m\u001b[0;34m[\u001b[0m\u001b[0misna\u001b[0m\u001b[0;34m(\u001b[0m\u001b[0mself\u001b[0m\u001b[0;34m.\u001b[0m\u001b[0mitems\u001b[0m\u001b[0;34m)\u001b[0m\u001b[0;34m]\u001b[0m\u001b[0;34m\u001b[0m\u001b[0m\n",
      "\u001b[0;32m/usr/local/lib/python3.6/site-packages/pandas/core/indexes/base.py\u001b[0m in \u001b[0;36mget_loc\u001b[0;34m(self, key, method, tolerance)\u001b[0m\n\u001b[1;32m   2525\u001b[0m                 \u001b[0;32mreturn\u001b[0m \u001b[0mself\u001b[0m\u001b[0;34m.\u001b[0m\u001b[0m_engine\u001b[0m\u001b[0;34m.\u001b[0m\u001b[0mget_loc\u001b[0m\u001b[0;34m(\u001b[0m\u001b[0mkey\u001b[0m\u001b[0;34m)\u001b[0m\u001b[0;34m\u001b[0m\u001b[0m\n\u001b[1;32m   2526\u001b[0m             \u001b[0;32mexcept\u001b[0m \u001b[0mKeyError\u001b[0m\u001b[0;34m:\u001b[0m\u001b[0;34m\u001b[0m\u001b[0m\n\u001b[0;32m-> 2527\u001b[0;31m                 \u001b[0;32mreturn\u001b[0m \u001b[0mself\u001b[0m\u001b[0;34m.\u001b[0m\u001b[0m_engine\u001b[0m\u001b[0;34m.\u001b[0m\u001b[0mget_loc\u001b[0m\u001b[0;34m(\u001b[0m\u001b[0mself\u001b[0m\u001b[0;34m.\u001b[0m\u001b[0m_maybe_cast_indexer\u001b[0m\u001b[0;34m(\u001b[0m\u001b[0mkey\u001b[0m\u001b[0;34m)\u001b[0m\u001b[0;34m)\u001b[0m\u001b[0;34m\u001b[0m\u001b[0m\n\u001b[0m\u001b[1;32m   2528\u001b[0m \u001b[0;34m\u001b[0m\u001b[0m\n\u001b[1;32m   2529\u001b[0m         \u001b[0mindexer\u001b[0m \u001b[0;34m=\u001b[0m \u001b[0mself\u001b[0m\u001b[0;34m.\u001b[0m\u001b[0mget_indexer\u001b[0m\u001b[0;34m(\u001b[0m\u001b[0;34m[\u001b[0m\u001b[0mkey\u001b[0m\u001b[0;34m]\u001b[0m\u001b[0;34m,\u001b[0m \u001b[0mmethod\u001b[0m\u001b[0;34m=\u001b[0m\u001b[0mmethod\u001b[0m\u001b[0;34m,\u001b[0m \u001b[0mtolerance\u001b[0m\u001b[0;34m=\u001b[0m\u001b[0mtolerance\u001b[0m\u001b[0;34m)\u001b[0m\u001b[0;34m\u001b[0m\u001b[0m\n",
      "\u001b[0;32mpandas/_libs/index.pyx\u001b[0m in \u001b[0;36mpandas._libs.index.IndexEngine.get_loc\u001b[0;34m()\u001b[0m\n",
      "\u001b[0;32mpandas/_libs/index.pyx\u001b[0m in \u001b[0;36mpandas._libs.index.IndexEngine.get_loc\u001b[0;34m()\u001b[0m\n",
      "\u001b[0;32mpandas/_libs/hashtable_class_helper.pxi\u001b[0m in \u001b[0;36mpandas._libs.hashtable.PyObjectHashTable.get_item\u001b[0;34m()\u001b[0m\n",
      "\u001b[0;32mpandas/_libs/hashtable_class_helper.pxi\u001b[0m in \u001b[0;36mpandas._libs.hashtable.PyObjectHashTable.get_item\u001b[0;34m()\u001b[0m\n",
      "\u001b[0;31mKeyError\u001b[0m: 'qerror'"
     ]
    },
    {
     "data": {
      "image/png": "[encoded data removed]",
      "text/plain": [
       "<Figure size 1152x288 with 1 Axes>"
      ]
     },
     "metadata": {},
     "output_type": "display_data"
    }
   ],
   "source": [
    "experiments.scan(variable='eta', list_figures=list_figures, display='')\n",
    "plt.show()\n",
    "\n",
    "for display_variable in display_variables:\n",
    "    fig, ax = experiments.scan(variable='eta', list_figures=[], display='dynamic', display_variable=display_variable)\n",
    "    plt.show()\n",
    "\n",
    "for display_variable in display_variables:\n",
    "    fig, ax = experiments.scan(variable='eta', list_figures=[], display='final', display_variable=display_variable)\n",
    "    plt.show()"
   ]
  },
  {
   "cell_type": "markdown",
   "metadata": {},
   "source": [
    "## CPU time as a function of the number of iterations\n",
    "\n",
    "Should be linear:"
   ]
  },
  {
   "cell_type": "code",
   "execution_count": null,
   "metadata": {
    "ExecuteTime": {
     "end_time": "2018-05-17T14:59:39.694331Z",
     "start_time": "2018-05-17T14:52:33.072Z"
    },
    "scrolled": false
   },
   "outputs": [],
   "source": [
    "for variable in ['n_iter', 'batch_size']:#, 'patch_width']:\n",
    "    experiments.scan(variable=variable, base=4, N_scan=5, list_figures=list_figures, display='')\n",
    "    for display_variable in display_variables:\n",
    "        fig_error, ax_error = experiments.scan(variable=variable, base=2, N_scan=5, list_figures=[], display='dynamic', display_variable=display_variable)\n",
    "        plt.show()\n",
    "    for display_variable in display_variables:\n",
    "        fig, ax = experiments.scan(list_figures=[], variable=variable, base=2, N_scan=5, display='final', display_variable=display_variable)\n",
    "        plt.show()"
   ]
  },
  {
   "cell_type": "markdown",
   "metadata": {},
   "source": [
    "## effect of the size of imagelet\n"
   ]
  },
  {
   "cell_type": "raw",
   "metadata": {
    "scrolled": false
   },
   "source": [
    "experiments.scan(variable='patch_width', base=4, N_scan=5, list_figures=list_figures, display='')\n",
    "fig_error, ax_error = experiments.scan(variable='patch_width', base=4, N_scan=5, list_figures=[], display='dynamic')\n",
    "plt.show()\n",
    "for display_variable in display_variables:\n",
    "    fig, ax = experiments.scan(list_figures=[], variable='patch_width', base=4, N_scan=5, display='final', display_variable=display_variable)\n",
    "    plt.show()"
   ]
  },
  {
   "cell_type": "markdown",
   "metadata": {},
   "source": [
    "## comparing the result of learning with different sparse algorithms"
   ]
  },
  {
   "cell_type": "code",
   "execution_count": null,
   "metadata": {
    "ExecuteTime": {
     "end_time": "2018-05-17T14:59:39.696172Z",
     "start_time": "2018-05-17T14:52:33.092Z"
    },
    "scrolled": false
   },
   "outputs": [],
   "source": [
    "for display_variable in display_variables:          \n",
    "    fig, ax = None, None\n",
    "    for algorithm in ['lasso_lars', 'lasso_cd', 'lars', 'omp', 'mp']: # 'threshold', \n",
    "        opts = dict(homeo_method='None', learning_algorithm=algorithm, verbose=0)\n",
    "\n",
    "        experiments = SHL_set(opts, tag=tag + ' - algorithm={}'.format(algorithm))\n",
    "        experiments.scan(variable='eta', list_figures=list_figures, display='')\n",
    "        fig, ax = experiments.scan(variable='eta', list_figures=[], display='final', fig=fig, ax=ax, label=algorithm, display_variable=display_variable)   \n",
    "    ax.legend()\n",
    "    plt.show()"
   ]
  },
  {
   "cell_type": "markdown",
   "metadata": {},
   "source": [
    "## Version used"
   ]
  },
  {
   "cell_type": "code",
   "execution_count": null,
   "metadata": {
    "ExecuteTime": {
     "end_time": "2018-05-17T14:59:39.698332Z",
     "start_time": "2018-05-17T14:52:33.094Z"
    }
   },
   "outputs": [],
   "source": [
    "%load_ext version_information\n",
    "%version_information numpy, matplotlib, shl_scripts"
   ]
  }
 ],
 "metadata": {
  "kernelspec": {
   "display_name": "Python 3",
   "language": "python",
   "name": "python3"
  },
  "language_info": {
   "codemirror_mode": {
    "name": "ipython",
    "version": 3
   },
   "file_extension": ".py",
   "mimetype": "text/x-python",
   "name": "python",
   "nbconvert_exporter": "python",
   "pygments_lexer": "ipython3",
   "version": "3.6.5"
  },
  "toc": {
   "base_numbering": 1,
   "nav_menu": {
    "height": "99px",
    "width": "252px"
   },
   "number_sections": true,
   "sideBar": true,
   "skip_h1_title": false,
   "title_cell": "Table of Contents",
   "title_sidebar": "Contents",
   "toc_cell": false,
   "toc_position": {},
   "toc_section_display": "block",
   "toc_window_display": false
  }
 },
 "nbformat": 4,
 "nbformat_minor": 2
}
