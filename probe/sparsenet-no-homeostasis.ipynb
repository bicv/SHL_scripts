{
 "cells": [
  {
   "cell_type": "markdown",
   "metadata": {},
   "source": [
    "# Homeostasis à-la-SparseNet on the activation probability\n",
    "\n",
    "In this notebook, we test the convergence of SparseNet as a function of different learning parameters. This shows the relative robusteness of this method according to the coding parameters, but also the importance of homeostasis to obtain an efficient set of filters.\n",
    "\n",
    "See also :\n",
    "* http://blog.invibe.net/posts/2015-05-05-reproducing-olshausens-classical-sparsenet.html for a description of how SparseNet is implemented in the scikit-learn package\n",
    "* http://blog.invibe.net/posts/2015-05-06-reproducing-olshausens-classical-sparsenet-part-2.html for a descrtiption of how we managed to implement the homeostasis"
   ]
  },
  {
   "cell_type": "code",
   "execution_count": 1,
   "metadata": {
    "ExecuteTime": {
     "end_time": "2018-09-26T08:03:15.327261Z",
     "start_time": "2018-09-26T08:03:15.308114Z"
    }
   },
   "outputs": [],
   "source": [
    "%load_ext autoreload\n",
    "%autoreload 2"
   ]
  },
  {
   "cell_type": "code",
   "execution_count": 2,
   "metadata": {
    "ExecuteTime": {
     "end_time": "2018-09-26T08:03:15.827617Z",
     "start_time": "2018-09-26T08:03:15.329663Z"
    }
   },
   "outputs": [],
   "source": [
    "%matplotlib inline\n",
    "import matplotlib.pyplot as plt\n",
    "import numpy as np\n",
    "np.set_printoptions(precision=2, suppress=True)"
   ]
  },
  {
   "cell_type": "code",
   "execution_count": 3,
   "metadata": {
    "ExecuteTime": {
     "end_time": "2018-09-26T08:03:16.065583Z",
     "start_time": "2018-09-26T08:03:15.829623Z"
    }
   },
   "outputs": [],
   "source": [
    "from shl_scripts.shl_experiments import SHL_set\n",
    "tag = 'nohomeo'\n",
    "opts = dict(homeo_method='None', verbose=0)\n",
    "experiments = SHL_set(opts, tag=tag)\n",
    "\n",
    "list_figures = []\n",
    "list_figures = ['show_dico']\n",
    "\n",
    "\n",
    "display_variables = ['error', 'logL', 'cputime']\n",
    "display_variables = ['error', 'logL', 'perror', 'MC', 'cputime']\n",
    "display_variables = ['F']\n"
   ]
  },
  {
   "cell_type": "code",
   "execution_count": 4,
   "metadata": {
    "ExecuteTime": {
     "end_time": "2018-09-26T08:03:16.350401Z",
     "start_time": "2018-09-26T08:03:16.068659Z"
    }
   },
   "outputs": [
    {
     "name": "stdout",
     "output_type": "stream",
     "text": [
      "-rw-r--r--  1 lolo  staff  2194267 Sep 17 11:11 cache_dir/nohomeo - algorithm=lasso_lars - eta=0.00500_dico.pkl\r\n",
      "-rw-r--r--  1 lolo  staff  2194259 Sep 17 11:08 cache_dir/nohomeo - eta=0.00500_dico.pkl\r\n",
      "-rw-r--r--  1 lolo  staff  4620187 Sep 15 00:05 cache_dir/nohomeo - eta=0.01000_dico.pkl\r\n",
      "-rw-r--r--  1 lolo  staff  4620187 Sep 15 06:11 cache_dir/nohomeo - eta=0.01414_dico.pkl\r\n",
      "-rw-r--r--  1 lolo  staff  4620187 Sep 15 11:37 cache_dir/nohomeo - eta=0.02000_dico.pkl\r\n",
      "-rw-r--r--  1 lolo  staff  4620187 Sep 15 16:02 cache_dir/nohomeo - eta=0.02828_dico.pkl\r\n",
      "-rw-r--r--  1 lolo  staff  4620187 Sep 15 18:22 cache_dir/nohomeo - eta=0.04000_dico.pkl\r\n",
      "-rw-r--r--  1 lolo  staff  4620187 Sep 15 22:41 cache_dir/nohomeo - eta=0.05657_dico.pkl\r\n",
      "-rw-r--r--  1 lolo  staff  4620187 Sep 16 04:04 cache_dir/nohomeo - eta=0.08000_dico.pkl\r\n",
      "-rw-r--r--  1 lolo  staff  4620187 Sep 16 09:29 cache_dir/nohomeo - eta=0.11314_dico.pkl\r\n",
      "-rw-r--r--  1 lolo  staff  4620187 Sep 16 14:28 cache_dir/nohomeo - eta=0.16000_dico.pkl\r\n",
      "-rw-r--r--  1 lolo  staff  5768112 Sep 17 00:03 cache_dir/nohomeo - n_iter=11586_dico.pkl\r\n",
      "-rw-r--r--  1 lolo  staff  7392612 Sep 17 02:58 cache_dir/nohomeo - n_iter=16386_dico.pkl\r\n",
      "-rw-r--r--  1 lolo  staff  2529935 Sep 16 15:30 cache_dir/nohomeo - n_iter=2048_dico.pkl\r\n",
      "-rw-r--r--  1 lolo  staff  9688572 Sep 17 08:24 cache_dir/nohomeo - n_iter=23173_dico.pkl\r\n",
      "-rw-r--r--  1 lolo  staff  2822345 Sep 16 16:32 cache_dir/nohomeo - n_iter=2896_dico.pkl\r\n",
      "-rw-r--r--  1 lolo  staff  3223055 Sep 16 17:43 cache_dir/nohomeo - n_iter=4096_dico.pkl\r\n",
      "-rw-r--r--  1 lolo  staff  3807875 Sep 16 19:23 cache_dir/nohomeo - n_iter=5793_dico.pkl\r\n",
      "-rw-r--r--  1 lolo  staff  4620132 Sep 16 21:32 cache_dir/nohomeo - n_iter=8193_dico.pkl\r\n"
     ]
    }
   ],
   "source": [
    "!ls -l {experiments.shl.cache_dir}/{tag}*\n",
    "!rm -fr {experiments.shl.cache_dir}/{tag}*lock*"
   ]
  },
  {
   "cell_type": "raw",
   "metadata": {},
   "source": [
    "!rm -fr {experiments.shl.cache_dir}/{tag}*\n",
    "#!rm -fr cache_dir/data_data.npy\n",
    "!ls -l {experiments.shl.cache_dir}/{tag}*"
   ]
  },
  {
   "cell_type": "markdown",
   "metadata": {},
   "source": [
    "## With different learning rates but without homeostasis\n",
    "\n",
    "Here,we only ensure the norm ofthe filters is constant."
   ]
  },
  {
   "cell_type": "code",
   "execution_count": null,
   "metadata": {
    "ExecuteTime": {
     "start_time": "2018-09-26T08:03:15.319Z"
    },
    "scrolled": false
   },
   "outputs": [],
   "source": [
    "experiments.scan(variable='eta', list_figures=list_figures, display='')\n",
    "plt.show()\n",
    "\n",
    "for display_variable in display_variables:\n",
    "    fig, ax = experiments.scan(variable='eta', list_figures=[], display='dynamic', display_variable=display_variable)\n",
    "    plt.show()\n",
    "\n",
    "for display_variable in display_variables:\n",
    "    fig, ax = experiments.scan(variable='eta', list_figures=[], display='final', display_variable=display_variable)\n",
    "    plt.show()"
   ]
  },
  {
   "cell_type": "markdown",
   "metadata": {},
   "source": [
    "## comparing the result of learning with different sparse algorithms"
   ]
  },
  {
   "cell_type": "code",
   "execution_count": null,
   "metadata": {
    "ExecuteTime": {
     "start_time": "2018-09-26T08:03:15.323Z"
    },
    "scrolled": false
   },
   "outputs": [],
   "source": [
    "for display_variable in display_variables:          \n",
    "    fig, ax = None, None\n",
    "    for algorithm in ['lasso_lars', 'lasso_cd', 'lars', 'omp', 'mp']: # 'threshold', \n",
    "        opts = dict(homeo_method='None', learning_algorithm=algorithm, verbose=0)\n",
    "\n",
    "        experiments = SHL_set(opts, tag=tag + ' - algorithm={}'.format(algorithm))\n",
    "        experiments.scan(variable='eta', list_figures=list_figures, display='')\n",
    "        fig, ax = experiments.scan(variable='eta', list_figures=[], display='final', fig=fig, ax=ax, label=algorithm, display_variable=display_variable)   \n",
    "    ax.legend()\n",
    "    plt.show()"
   ]
  },
  {
   "cell_type": "markdown",
   "metadata": {},
   "source": [
    "## CPU time as a function of the number of iterations\n",
    "\n",
    "Should be linear:"
   ]
  },
  {
   "cell_type": "code",
   "execution_count": null,
   "metadata": {
    "ExecuteTime": {
     "start_time": "2018-09-26T08:03:15.326Z"
    },
    "scrolled": false
   },
   "outputs": [],
   "source": [
    "for variable in ['n_iter', 'batch_size']:#, 'patch_width']:\n",
    "    experiments.scan(variable=variable, list_figures=list_figures, display='')\n",
    "    for display_variable in display_variables:\n",
    "        fig_error, ax_error = experiments.scan(variable=variable, list_figures=[], display='dynamic', display_variable=display_variable)\n",
    "        plt.show()\n",
    "    for display_variable in display_variables:\n",
    "        fig, ax = experiments.scan(list_figures=[], variable=variable, display='final', display_variable=display_variable)\n",
    "        plt.show()"
   ]
  },
  {
   "cell_type": "markdown",
   "metadata": {},
   "source": [
    "## effect of the size of imagelet\n"
   ]
  },
  {
   "cell_type": "raw",
   "metadata": {
    "scrolled": false
   },
   "source": [
    "experiments.scan(variable='patch_width', list_figures=list_figures, display='')\n",
    "fig_error, ax_error = experiments.scan(variable='patch_width', base=4, N_scan=5, list_figures=[], display='dynamic')\n",
    "plt.show()\n",
    "for display_variable in display_variables:\n",
    "    fig, ax = experiments.scan(list_figures=[], variable='patch_width', base=4, N_scan=5, display='final', display_variable=display_variable)\n",
    "    plt.show()"
   ]
  },
  {
   "cell_type": "markdown",
   "metadata": {},
   "source": [
    "## Version used"
   ]
  },
  {
   "cell_type": "code",
   "execution_count": null,
   "metadata": {
    "ExecuteTime": {
     "start_time": "2018-09-26T08:03:15.359Z"
    }
   },
   "outputs": [],
   "source": [
    "%load_ext version_information\n",
    "%version_information numpy, matplotlib, shl_scripts"
   ]
  }
 ],
 "metadata": {
  "kernelspec": {
   "display_name": "Python 3",
   "language": "python",
   "name": "python3"
  },
  "language_info": {
   "codemirror_mode": {
    "name": "ipython",
    "version": 3
   },
   "file_extension": ".py",
   "mimetype": "text/x-python",
   "name": "python",
   "nbconvert_exporter": "python",
   "pygments_lexer": "ipython3",
   "version": "3.6.5"
  },
  "toc": {
   "base_numbering": 1,
   "nav_menu": {
    "height": "99px",
    "width": "252px"
   },
   "number_sections": true,
   "sideBar": true,
   "skip_h1_title": false,
   "title_cell": "Table of Contents",
   "title_sidebar": "Contents",
   "toc_cell": false,
   "toc_position": {},
   "toc_section_display": "block",
   "toc_window_display": false
  }
 },
 "nbformat": 4,
 "nbformat_minor": 2
}
