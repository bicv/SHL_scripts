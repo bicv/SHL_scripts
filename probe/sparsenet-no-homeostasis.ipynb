{
 "cells": [
  {
   "cell_type": "markdown",
   "metadata": {},
   "source": [
    "# Homeostasis à-la-SparseNet on the activation probability\n",
    "\n",
    "In this notebook, we test the convergence of SparseNet as a function of different learning parameters. This shows the relative robusteness of this method according to the coding parameters, but also the importance of homeostasis to obtain an efficient set of filters.\n",
    "\n",
    "See also :\n",
    "* http://blog.invibe.net/posts/2015-05-05-reproducing-olshausens-classical-sparsenet.html for a description of how SparseNet is implemented in the scikit-learn package\n",
    "* http://blog.invibe.net/posts/2015-05-06-reproducing-olshausens-classical-sparsenet-part-2.html for a descrtiption of how we managed to implement the homeostasis"
   ]
  },
  {
   "cell_type": "code",
   "execution_count": 1,
   "metadata": {
    "ExecuteTime": {
     "end_time": "2018-02-13T15:27:22.641751Z",
     "start_time": "2018-02-13T15:27:22.610746Z"
    }
   },
   "outputs": [],
   "source": [
    "%load_ext autoreload\n",
    "%autoreload 2"
   ]
  },
  {
   "cell_type": "code",
   "execution_count": 2,
   "metadata": {
    "ExecuteTime": {
     "end_time": "2018-02-13T15:27:23.181452Z",
     "start_time": "2018-02-13T15:27:22.645013Z"
    }
   },
   "outputs": [],
   "source": [
    "%matplotlib inline\n",
    "import matplotlib.pyplot as plt\n",
    "import numpy as np\n",
    "np.set_printoptions(precision=2, suppress=True)"
   ]
  },
  {
   "cell_type": "code",
   "execution_count": null,
   "metadata": {
    "ExecuteTime": {
     "start_time": "2018-02-13T15:27:22.579Z"
    }
   },
   "outputs": [],
   "source": [
    "from shl_scripts.shl_experiments import SHL_set\n",
    "tag = 'nohomeo'\n",
    "opts = dict(homeo_method='None', verbose=0)\n",
    "experiments = SHL_set(opts, tag=tag)\n",
    "list_figures=[]\n",
    "list_figures=['show_dico']\n",
    "display_variables = ['error', 'qerror', 'aerror', 'perror', 'cputime']\n"
   ]
  },
  {
   "cell_type": "raw",
   "metadata": {
    "ExecuteTime": {
     "end_time": "2018-02-13T15:23:07.890072Z",
     "start_time": "2018-02-13T15:23:07.687409Z"
    }
   },
   "source": [
    "\n",
    "!rm -fr {experiments.shl.data_cache}/{tag}*\n",
    "#!rm -fr data_cache/data_data.npy"
   ]
  },
  {
   "cell_type": "markdown",
   "metadata": {},
   "source": [
    "## With different learning rates but without homeostasis\n",
    "\n",
    "Here,we only ensure the norm ofthe filters is constant."
   ]
  },
  {
   "cell_type": "code",
   "execution_count": null,
   "metadata": {
    "ExecuteTime": {
     "start_time": "2018-02-13T15:27:22.620Z"
    },
    "scrolled": false
   },
   "outputs": [],
   "source": [
    "experiments.scan(variable='eta', list_figures=list_figures, display='')"
   ]
  },
  {
   "cell_type": "code",
   "execution_count": null,
   "metadata": {
    "ExecuteTime": {
     "start_time": "2018-02-13T15:27:22.624Z"
    },
    "scrolled": false
   },
   "outputs": [],
   "source": [
    "fig_error, ax_error = experiments.scan(variable='eta', list_figures=[], display='dynamic')"
   ]
  },
  {
   "cell_type": "code",
   "execution_count": null,
   "metadata": {
    "ExecuteTime": {
     "start_time": "2018-02-13T15:27:22.628Z"
    },
    "scrolled": false
   },
   "outputs": [],
   "source": [
    "for display_variable in display_variables:\n",
    "    fig, ax = experiments.scan(variable='eta', list_figures=[], display='final', display_variable=display_variable)"
   ]
  },
  {
   "cell_type": "markdown",
   "metadata": {},
   "source": [
    "## CPU time as a function of the number of iterations\n",
    "\n",
    "Should be linear:"
   ]
  },
  {
   "cell_type": "code",
   "execution_count": null,
   "metadata": {
    "ExecuteTime": {
     "start_time": "2018-02-13T15:27:22.631Z"
    },
    "scrolled": false
   },
   "outputs": [],
   "source": [
    "experiments.scan(variable='n_iter', base=4, N_scan=5, list_figures=list_figures, display='')\n",
    "for display_variable in display_variables:\n",
    "    fig, ax = experiments.scan(list_figures=[], variable='n_iter', base=4, N_scan=5, display='final', display_variable=display_variable)\n",
    "    plt.show()"
   ]
  },
  {
   "cell_type": "markdown",
   "metadata": {},
   "source": [
    "## effect of the size of imagelet\n"
   ]
  },
  {
   "cell_type": "code",
   "execution_count": null,
   "metadata": {
    "ExecuteTime": {
     "start_time": "2018-02-13T15:27:22.636Z"
    },
    "scrolled": false
   },
   "outputs": [],
   "source": [
    "experiments.scan(variable='patch_width', base=4, N_scan=5, list_figures=list_figures, display='')\n",
    "for display_variable in display_variables:\n",
    "    fig, ax = experiments.scan(list_figures=[], variable='patch_width', base=4, N_scan=5, display='final', display_variable=display_variable)\n",
    "    plt.show()"
   ]
  },
  {
   "cell_type": "raw",
   "metadata": {
    "ExecuteTime": {
     "end_time": "2018-01-31T14:44:55.602524Z",
     "start_time": "2018-01-31T14:44:55.566393Z"
    }
   },
   "source": [
    "from shl_scripts.shl_experiments import SHL\n",
    "\n",
    "shl = SHL(**opts)\n",
    "dico = shl.learn_dico(data=experiments.data, matname=experiments.matname(variable='n_iter', value=2050))\n",
    "dico.record['cputime']"
   ]
  },
  {
   "cell_type": "markdown",
   "metadata": {},
   "source": [
    "## Version used"
   ]
  },
  {
   "cell_type": "code",
   "execution_count": null,
   "metadata": {
    "ExecuteTime": {
     "start_time": "2018-02-13T15:27:22.672Z"
    }
   },
   "outputs": [],
   "source": [
    "%load_ext version_information\n",
    "%version_information numpy, shl_scripts"
   ]
  }
 ],
 "metadata": {
  "kernelspec": {
   "display_name": "Python 3",
   "language": "python",
   "name": "python3"
  },
  "language_info": {
   "codemirror_mode": {
    "name": "ipython",
    "version": 3
   },
   "file_extension": ".py",
   "mimetype": "text/x-python",
   "name": "python",
   "nbconvert_exporter": "python",
   "pygments_lexer": "ipython3",
   "version": "3.6.4"
  },
  "toc": {
   "nav_menu": {
    "height": "99px",
    "width": "252px"
   },
   "number_sections": true,
   "sideBar": true,
   "skip_h1_title": false,
   "toc_cell": false,
   "toc_position": {},
   "toc_section_display": "block",
   "toc_window_display": false
  }
 },
 "nbformat": 4,
 "nbformat_minor": 2
}
