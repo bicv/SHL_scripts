{
 "cells": [
  {
   "cell_type": "markdown",
   "metadata": {},
   "source": [
    "# Homeostasis à-la-SparseNet on the activation probability\n",
    "\n",
    "In this notebook, we test the convergence of SparseNet as a function of different learning parameters. This shows the relative robusteness of this method according to the coding parameters, but also the importance of homeostasis to obtain an efficient set of filters.\n",
    "\n",
    "See also :\n",
    "* http://blog.invibe.net/posts/2015-05-05-reproducing-olshausens-classical-sparsenet.html for a description of how SparseNet is implemented in the scikit-learn package\n",
    "* http://blog.invibe.net/posts/2015-05-06-reproducing-olshausens-classical-sparsenet-part-2.html for a descrtiption of how we managed to implement the homeostasis"
   ]
  },
  {
   "cell_type": "code",
   "execution_count": 1,
   "metadata": {
    "ExecuteTime": {
     "end_time": "2018-03-06T15:55:12.017877Z",
     "start_time": "2018-03-06T15:55:12.005774Z"
    }
   },
   "outputs": [],
   "source": [
    "%load_ext autoreload\n",
    "%autoreload 2"
   ]
  },
  {
   "cell_type": "code",
   "execution_count": 2,
   "metadata": {
    "ExecuteTime": {
     "end_time": "2018-03-06T15:55:12.262239Z",
     "start_time": "2018-03-06T15:55:12.019813Z"
    }
   },
   "outputs": [],
   "source": [
    "%matplotlib inline\n",
    "import matplotlib.pyplot as plt\n",
    "import numpy as np\n",
    "np.set_printoptions(precision=2, suppress=True)"
   ]
  },
  {
   "cell_type": "code",
   "execution_count": 3,
   "metadata": {
    "ExecuteTime": {
     "end_time": "2018-03-06T15:55:12.349932Z",
     "start_time": "2018-03-06T15:55:12.263859Z"
    }
   },
   "outputs": [],
   "source": [
    "from shl_scripts.shl_experiments import SHL_set\n",
    "tag = 'nohomeo'\n",
    "opts = dict(homeo_method='None', verbose=0)\n",
    "experiments = SHL_set(opts, tag=tag)\n",
    "list_figures=['show_dico']\n",
    "list_figures=[]\n",
    "display_variables = ['error', 'logL', 'cputime']"
   ]
  },
  {
   "cell_type": "code",
   "execution_count": 4,
   "metadata": {
    "ExecuteTime": {
     "end_time": "2018-03-06T15:55:12.599059Z",
     "start_time": "2018-03-06T15:55:12.351707Z"
    }
   },
   "outputs": [
    {
     "name": "stdout",
     "output_type": "stream",
     "text": [
      "ls: data_cache/nohomeo*: No such file or directory\r\n"
     ]
    }
   ],
   "source": [
    "!ls -l {experiments.shl.data_cache}/{tag}*\n",
    "!rm -fr {experiments.shl.data_cache}/{tag}*lock*"
   ]
  },
  {
   "cell_type": "raw",
   "metadata": {
    "ExecuteTime": {
     "end_time": "2018-02-15T16:01:53.127775Z",
     "start_time": "2018-02-15T16:01:52.797832Z"
    }
   },
   "source": [
    "!rm -fr {experiments.shl.data_cache}/{tag}*\n",
    "#!rm -fr data_cache/data_data.npy\n",
    "!ls -l {experiments.shl.data_cache}/{tag}*"
   ]
  },
  {
   "cell_type": "markdown",
   "metadata": {},
   "source": [
    "## With different learning rates but without homeostasis\n",
    "\n",
    "Here,we only ensure the norm ofthe filters is constant."
   ]
  },
  {
   "cell_type": "code",
   "execution_count": null,
   "metadata": {
    "ExecuteTime": {
     "start_time": "2018-03-06T15:55:12.007Z"
    },
    "scrolled": false
   },
   "outputs": [],
   "source": [
    "experiments.scan(variable='eta', list_figures=list_figures, display='')\n",
    "plt.show()\n",
    "\n",
    "for display_variable in display_variables:\n",
    "    fig, ax = experiments.scan(variable='eta', list_figures=[], display='dynamic', display_variable=display_variable)\n",
    "    plt.show()\n",
    "\n",
    "for display_variable in display_variables:\n",
    "    fig, ax = experiments.scan(variable='eta', list_figures=[], display='final', display_variable=display_variable)\n",
    "    plt.show()"
   ]
  },
  {
   "cell_type": "markdown",
   "metadata": {},
   "source": [
    "## CPU time as a function of the number of iterations\n",
    "\n",
    "Should be linear:"
   ]
  },
  {
   "cell_type": "code",
   "execution_count": null,
   "metadata": {
    "ExecuteTime": {
     "start_time": "2018-03-06T15:55:12.010Z"
    },
    "scrolled": false
   },
   "outputs": [],
   "source": [
    "for variable in ['n_iter', 'batch_size', 'patch_width']:\n",
    "    experiments.scan(variable=variable, base=4, N_scan=5, list_figures=list_figures, display='')\n",
    "    for display_variable in display_variables:\n",
    "        fig_error, ax_error = experiments.scan(variable=variable, base=4, N_scan=5, list_figures=[], display='dynamic', display_variable=display_variable)\n",
    "        plt.show()\n",
    "    for display_variable in display_variables:\n",
    "        fig, ax = experiments.scan(list_figures=[], variable=variable, base=4, N_scan=5, display='final', display_variable=display_variable)\n",
    "        plt.show()"
   ]
  },
  {
   "cell_type": "markdown",
   "metadata": {},
   "source": [
    "## effect of the size of imagelet\n"
   ]
  },
  {
   "cell_type": "raw",
   "metadata": {
    "ExecuteTime": {
     "end_time": "2018-02-16T08:24:24.196382Z",
     "start_time": "2018-02-16T07:55:33.168182Z"
    },
    "scrolled": false
   },
   "source": [
    "experiments.scan(variable='patch_width', base=4, N_scan=5, list_figures=list_figures, display='')\n",
    "fig_error, ax_error = experiments.scan(variable='patch_width', base=4, N_scan=5, list_figures=[], display='dynamic')\n",
    "plt.show()\n",
    "for display_variable in display_variables:\n",
    "    fig, ax = experiments.scan(list_figures=[], variable='patch_width', base=4, N_scan=5, display='final', display_variable=display_variable)\n",
    "    plt.show()"
   ]
  },
  {
   "cell_type": "markdown",
   "metadata": {},
   "source": [
    "## comparing the result of learning with different sparse algorithms"
   ]
  },
  {
   "cell_type": "code",
   "execution_count": null,
   "metadata": {
    "ExecuteTime": {
     "start_time": "2018-03-06T15:55:12.023Z"
    },
    "scrolled": false
   },
   "outputs": [],
   "source": [
    "for display_variable in display_variables:          \n",
    "    fig, ax = None, None\n",
    "    for algorithm in ['lasso_lars', 'lasso_cd', 'lars', 'threshold', 'omp', 'mp']:\n",
    "        opts = dict(homeo_method='None', learning_algorithm=algorithm, verbose=0)\n",
    "\n",
    "        experiments = SHL_set(opts, tag=tag + ' - algorithm={}'.format(algorithm))\n",
    "        experiments.scan(variable='eta', list_figures=list_figures, display='')\n",
    "        fig, ax = experiments.scan(variable='eta', list_figures=[], display='final', fig=fig, ax=ax, label=algorithm, display_variable=display_variable)   \n",
    "    ax.legend()\n",
    "    plt.show()"
   ]
  },
  {
   "cell_type": "markdown",
   "metadata": {},
   "source": [
    "## Version used"
   ]
  },
  {
   "cell_type": "code",
   "execution_count": null,
   "metadata": {
    "ExecuteTime": {
     "start_time": "2018-03-06T15:55:12.024Z"
    }
   },
   "outputs": [],
   "source": [
    "%load_ext version_information\n",
    "%version_information numpy, shl_scripts"
   ]
  }
 ],
 "metadata": {
  "kernelspec": {
   "display_name": "Python 3",
   "language": "python",
   "name": "python3"
  },
  "language_info": {
   "codemirror_mode": {
    "name": "ipython",
    "version": 3
   },
   "file_extension": ".py",
   "mimetype": "text/x-python",
   "name": "python",
   "nbconvert_exporter": "python",
   "pygments_lexer": "ipython3",
   "version": "3.6.4"
  },
  "toc": {
   "nav_menu": {
    "height": "99px",
    "width": "252px"
   },
   "number_sections": true,
   "sideBar": true,
   "skip_h1_title": false,
   "title_cell": "Table of Contents",
   "title_sidebar": "Contents",
   "toc_cell": false,
   "toc_position": {},
   "toc_section_display": "block",
   "toc_window_display": false
  }
 },
 "nbformat": 4,
 "nbformat_minor": 2
}
