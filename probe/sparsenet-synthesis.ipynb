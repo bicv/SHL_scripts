{
 "cells": [
  {
   "cell_type": "raw",
   "metadata": {},
   "source": [
    "import time\n",
    "time.sleep(32*3600)"
   ]
  },
  {
   "cell_type": "markdown",
   "metadata": {},
   "source": [
    "# Synthesis of all algorithms\n"
   ]
  },
  {
   "cell_type": "code",
   "execution_count": 1,
   "metadata": {
    "ExecuteTime": {
     "end_time": "2018-10-02T07:01:05.079637Z",
     "start_time": "2018-10-02T07:01:05.065945Z"
    }
   },
   "outputs": [],
   "source": [
    "%load_ext autoreload\n",
    "%autoreload 2"
   ]
  },
  {
   "cell_type": "code",
   "execution_count": 2,
   "metadata": {
    "ExecuteTime": {
     "end_time": "2018-10-02T07:01:05.446067Z",
     "start_time": "2018-10-02T07:01:05.082030Z"
    }
   },
   "outputs": [],
   "source": [
    "%matplotlib inline"
   ]
  },
  {
   "cell_type": "markdown",
   "metadata": {},
   "source": [
    "## a synthesis\n",
    "\n"
   ]
  },
  {
   "cell_type": "code",
   "execution_count": 3,
   "metadata": {},
   "outputs": [],
   "source": [
    "%mkdir -p cache_dir"
   ]
  },
  {
   "cell_type": "code",
   "execution_count": 4,
   "metadata": {
    "ExecuteTime": {
     "end_time": "2018-10-02T07:01:05.464301Z",
     "start_time": "2018-10-02T07:01:05.448798Z"
    }
   },
   "outputs": [
    {
     "name": "stdout",
     "output_type": "stream",
     "text": [
      "Overwriting cache_dir/synthesis.py\n"
     ]
    }
   ],
   "source": [
    "%%writefile cache_dir/synthesis.py\n",
    "\n",
    "try:\n",
    "    import sys\n",
    "    command = sys.argv[1]\n",
    "except:\n",
    "    command = 'run'\n",
    "\n",
    "metatag = 'synthesis'\n",
    "from shl_scripts.shl_experiments import SHL_set\n",
    "verbose = 0\n",
    "\n",
    "homeo_methods = ['None', 'HAP']\n",
    "homeo_methods = ['None', 'EMP', 'EXP', 'HAP']\n",
    "homeo_methods = ['None', 'EMP', 'EXP', 'HAP', 'HEH']\n",
    "homeo_methods = ['None', 'EMP', 'HAP', 'eHAP', 'HEH', 'OLS']\n",
    "\n",
    "\n",
    "variables = ['alpha_homeo']\n",
    "variables = ['eta', 'alpha_homeo']\n",
    "variables = ['eta', 'alpha_homeo', 'eta_homeo', 'l0_sparseness', 'n_dictionary']\n",
    "variables = ['eta', 'alpha_homeo', 'eta_homeo']\n",
    "variables = ['eta', 'eta_homeo', 'l0_sparseness', 'alpha_MP']\n",
    "variables = ['eta', 'eta_homeo', 'alpha_homeo', # 'eta_precision', \n",
    "             'alpha_MP', 'l0_sparseness', 'n_dictionary']\n",
    "\n",
    "display_variables = ['error', 'logL', 'cputime']\n",
    "display_variables = ['error', 'logL', 'perror', 'perror']\n",
    "display_variables = ['F']\n",
    "\n",
    "list_figures = ['show_dico', 'time_plot_MC']\n",
    "list_figures = []\n",
    "list_figures = ['show_dico']\n",
    "\n",
    "try:\n",
    "    n_jobs = int(sys.argv[2])\n",
    "    print('n_jobs=', n_jobs)\n",
    "except:\n",
    "    n_jobs = 4\n",
    "    n_jobs = 9\n",
    "    n_jobs = 10\n",
    "    n_jobs = 1\n",
    "    #n_jobs = 35\n",
    "\n",
    "experiments = SHL_set(opts={}, tag=metatag)\n",
    "\n",
    "if command == 'run':\n",
    "    for tag in homeo_methods:\n",
    "        default = dict(verbose=verbose, homeo_method=tag)\n",
    "        experiments = SHL_set(default, tag=metatag + '_' + tag)\n",
    "        experiments.run(variables=variables, n_jobs=n_jobs)\n",
    "    \n",
    "if command == 'plot':\n",
    "    import matplotlib.pyplot as plt\n",
    "\n",
    "    for variable in variables:\n",
    "\n",
    "        for tag in homeo_methods:\n",
    "            print('homeo_method=', tag)\n",
    "            default = dict(verbose=verbose, homeo_method=tag)\n",
    "            experiments = SHL_set(default, tag=metatag + '_' + tag)\n",
    "            experiments.scan(variable=variable, list_figures=list_figures, display='', fig_kwargs={'dim_graph':(2, 15)}, verbose=1)\n",
    "        \n",
    "        for display_variable in display_variables:\n",
    "\n",
    "            fig, ax = None, None\n",
    "            for tag in homeo_methods:\n",
    "                default = dict(verbose=verbose, homeo_method=tag)\n",
    "                experiments = SHL_set(default, tag=metatag + '_' + tag)\n",
    "                fig, ax = experiments.scan(variable=variable, list_figures=[], display='dynamic', fig=fig, ax=ax, label=tag, display_variable=display_variable)\n",
    "            ax.legend()\n",
    "            plt.show()            \n",
    "        \n",
    "            fig, ax = None, None\n",
    "            for tag in homeo_methods:\n",
    "                default = dict(verbose=verbose, homeo_method=tag)\n",
    "                experiments = SHL_set(default, tag=metatag + '_' + tag)\n",
    "                fig, ax = experiments.scan(variable=variable, list_figures=[], display='final', fig=fig, ax=ax, label=tag, display_variable=display_variable)\n",
    "            ax.legend()\n",
    "            plt.show()            "
   ]
  },
  {
   "cell_type": "code",
   "execution_count": 5,
   "metadata": {
    "ExecuteTime": {
     "end_time": "2018-10-02T07:01:05.595857Z",
     "start_time": "2018-10-02T07:01:05.465838Z"
    }
   },
   "outputs": [],
   "source": [
    "%run cache_dir/synthesis.py load"
   ]
  },
  {
   "cell_type": "code",
   "execution_count": 6,
   "metadata": {
    "ExecuteTime": {
     "end_time": "2018-10-02T07:01:05.610826Z",
     "start_time": "2018-10-02T07:01:05.597256Z"
    }
   },
   "outputs": [
    {
     "data": {
      "text/plain": [
       "('cache_dir', 'synthesis')"
      ]
     },
     "execution_count": 6,
     "metadata": {},
     "output_type": "execute_result"
    }
   ],
   "source": [
    "experiments.shl.cache_dir, metatag"
   ]
  },
  {
   "cell_type": "code",
   "execution_count": 7,
   "metadata": {
    "ExecuteTime": {
     "end_time": "2018-10-02T07:01:05.883949Z",
     "start_time": "2018-10-02T07:01:05.612195Z"
    }
   },
   "outputs": [
    {
     "name": "stdout",
     "output_type": "stream",
     "text": [
      "-rw-r--r--  1 501  staff  0 Jan 14 22:00 cache_dir/synthesis_HAP_alpha_MP=0.42045_dico.pkl_lock\n",
      "-rw-r--r--  1 501  staff  0 Jan 14 22:00 cache_dir/synthesis_HAP_alpha_MP=0.42045_dico.pkl_lock_pid-5894_host-fortytwo\n",
      "-rw-r--r--  1 501  staff  0 Jan 14 22:01 cache_dir/synthesis_HAP_alpha_MP=0.50000_dico.pkl_lock\n",
      "-rw-r--r--  1 501  staff  0 Jan 14 22:01 cache_dir/synthesis_HAP_alpha_MP=0.50000_dico.pkl_lock_pid-5895_host-fortytwo\n",
      "-rw-r--r--  1 501  staff  0 Jan 14 22:01 cache_dir/synthesis_HAP_alpha_MP=0.59460_dico.pkl_lock\n",
      "-rw-r--r--  1 501  staff  0 Jan 14 22:01 cache_dir/synthesis_HAP_alpha_MP=0.59460_dico.pkl_lock_pid-5890_host-fortytwo\n",
      "-rw-r--r--  1 501  staff  0 Jan 14 22:01 cache_dir/synthesis_HAP_alpha_MP=0.70711_dico.pkl_lock\n",
      "-rw-r--r--  1 501  staff  0 Jan 14 22:01 cache_dir/synthesis_HAP_alpha_MP=0.70711_dico.pkl_lock_pid-5886_host-fortytwo\n",
      "-rw-r--r--  1 501  staff  0 Jan 14 22:01 cache_dir/synthesis_HAP_alpha_MP=0.84090_dico.pkl_lock\n",
      "-rw-r--r--  1 501  staff  0 Jan 14 22:01 cache_dir/synthesis_HAP_alpha_MP=0.84090_dico.pkl_lock_pid-5898_host-fortytwo\n",
      "-rw-r--r--  1 501  staff  0 Jan 14 22:01 cache_dir/synthesis_HAP_alpha_MP=1.00000_dico.pkl_lock\n",
      "-rw-r--r--  1 501  staff  0 Jan 14 22:01 cache_dir/synthesis_HAP_alpha_MP=1.00000_dico.pkl_lock_pid-5891_host-fortytwo\n",
      "-rw-r--r--  1 501  staff  0 Jan 14 22:02 cache_dir/synthesis_HAP_l0_sparseness=10_dico.pkl_lock\n",
      "-rw-r--r--  1 501  staff  0 Jan 14 22:02 cache_dir/synthesis_HAP_l0_sparseness=10_dico.pkl_lock_pid-5896_host-fortytwo\n",
      "-rw-r--r--  1 501  staff  0 Jan 14 22:02 cache_dir/synthesis_HAP_l0_sparseness=116_dico.pkl_lock\n",
      "-rw-r--r--  1 501  staff  0 Jan 14 22:02 cache_dir/synthesis_HAP_l0_sparseness=116_dico.pkl_lock_pid-4012_host-fortytwo\n",
      "-rw-r--r--  1 501  staff  0 Jan 14 22:02 cache_dir/synthesis_HAP_l0_sparseness=14_dico.pkl_lock\n",
      "-rw-r--r--  1 501  staff  0 Jan 14 22:02 cache_dir/synthesis_HAP_l0_sparseness=14_dico.pkl_lock_pid-5893_host-fortytwo\n",
      "-rw-r--r--  1 501  staff  0 Jan 14 22:02 cache_dir/synthesis_HAP_l0_sparseness=20_dico.pkl_lock\n",
      "-rw-r--r--  1 501  staff  0 Jan 14 22:02 cache_dir/synthesis_HAP_l0_sparseness=20_dico.pkl_lock_pid-5899_host-fortytwo\n",
      "-rw-r--r--  1 501  staff  0 Jan 14 22:02 cache_dir/synthesis_HAP_l0_sparseness=29_dico.pkl_lock\n",
      "-rw-r--r--  1 501  staff  0 Jan 14 22:02 cache_dir/synthesis_HAP_l0_sparseness=29_dico.pkl_lock_pid-5888_host-fortytwo\n",
      "-rw-r--r--  1 501  staff  0 Jan 14 22:02 cache_dir/synthesis_HAP_l0_sparseness=41_dico.pkl_lock\n",
      "-rw-r--r--  1 501  staff  0 Jan 14 22:02 cache_dir/synthesis_HAP_l0_sparseness=41_dico.pkl_lock_pid-5897_host-fortytwo\n",
      "-rw-r--r--  1 501  staff  0 Jan 14 22:02 cache_dir/synthesis_HAP_l0_sparseness=58_dico.pkl_lock\n",
      "-rw-r--r--  1 501  staff  0 Jan 14 22:02 cache_dir/synthesis_HAP_l0_sparseness=58_dico.pkl_lock_pid-5889_host-fortytwo\n",
      "-rw-r--r--  1 501  staff  0 Jan 14 22:02 cache_dir/synthesis_HAP_l0_sparseness=7_dico.pkl_lock\n",
      "-rw-r--r--  1 501  staff  0 Jan 14 22:02 cache_dir/synthesis_HAP_l0_sparseness=7_dico.pkl_lock_pid-5887_host-fortytwo\n",
      "-rw-r--r--  1 501  staff  0 Jan 14 22:02 cache_dir/synthesis_HAP_l0_sparseness=82_dico.pkl_lock\n",
      "-rw-r--r--  1 501  staff  0 Jan 14 22:02 cache_dir/synthesis_HAP_l0_sparseness=82_dico.pkl_lock_pid-5892_host-fortytwo\n",
      "-rw-r--r--  1 501  staff  0 Jan 15 04:18 cache_dir/synthesis_HAP_n_dictionary=220_dico.pkl_lock\n",
      "-rw-r--r--  1 501  staff  0 Jan 15 04:18 cache_dir/synthesis_HAP_n_dictionary=220_dico.pkl_lock_pid-56029_host-ekla\n"
     ]
    }
   ],
   "source": [
    "!ls -l {experiments.shl.cache_dir}/{metatag}*lock*\n",
    "!rm -fr  {experiments.shl.cache_dir}/{metatag}*lock*"
   ]
  },
  {
   "cell_type": "code",
   "execution_count": 9,
   "metadata": {
    "ExecuteTime": {
     "end_time": "2018-10-02T07:01:06.049789Z",
     "start_time": "2018-10-02T07:01:05.889120Z"
    }
   },
   "outputs": [
    {
     "name": "stdout",
     "output_type": "stream",
     "text": [
      "-rw-r--r--  1 501  staff   2.7K Jan 15 06:55 cache_dir/synthesis.py\n",
      "-rw-r--r--  1 501  staff   3.5M Jan 13 08:50 cache_dir/synthesis_EMP_alpha_MP=0.25000_dico.pkl\n",
      "-rw-r--r--  1 501  staff   3.5M Jan 13 08:52 cache_dir/synthesis_EMP_alpha_MP=0.29730_dico.pkl\n",
      "-rw-r--r--  1 501  staff   3.5M Jan 13 08:50 cache_dir/synthesis_EMP_alpha_MP=0.35355_dico.pkl\n",
      "-rw-r--r--  1 501  staff   3.5M Jan 13 16:05 cache_dir/synthesis_EMP_alpha_MP=0.42045_dico.pkl\n",
      "-rw-r--r--  1 501  staff   3.5M Jan 13 16:05 cache_dir/synthesis_EMP_alpha_MP=0.50000_dico.pkl\n",
      "-rw-r--r--  1 501  staff   3.5M Jan 13 16:06 cache_dir/synthesis_EMP_alpha_MP=0.59460_dico.pkl\n",
      "-rw-r--r--  1 501  staff   3.5M Jan 13 16:06 cache_dir/synthesis_EMP_alpha_MP=0.70711_dico.pkl\n",
      "-rw-r--r--  1 501  staff   3.5M Jan 13 16:05 cache_dir/synthesis_EMP_alpha_MP=0.84090_dico.pkl\n",
      "-rw-r--r--  1 501  staff   3.5M Jan 13 16:07 cache_dir/synthesis_EMP_alpha_MP=1.00000_dico.pkl\n",
      "-rw-r--r--  1 501  staff   3.5M Jan 13 08:49 cache_dir/synthesis_EMP_alpha_homeo=0.62500_dico.pkl\n",
      "-rw-r--r--  1 501  staff   3.5M Jan 13 08:48 cache_dir/synthesis_EMP_alpha_homeo=0.88388_dico.pkl\n",
      "-rw-r--r--  1 501  staff   3.5M Jan 13 08:48 cache_dir/synthesis_EMP_alpha_homeo=1.25000_dico.pkl\n",
      "-rw-r--r--  1 501  staff   3.5M Jan 13 08:50 cache_dir/synthesis_EMP_alpha_homeo=1.76777_dico.pkl\n",
      "-rw-r--r--  1 501  staff   3.5M Jan 13 08:49 cache_dir/synthesis_EMP_alpha_homeo=10.00000_dico.pkl\n",
      "-rw-r--r--  1 501  staff   3.5M Jan 13 08:51 cache_dir/synthesis_EMP_alpha_homeo=2.50000_dico.pkl\n",
      "-rw-r--r--  1 501  staff   3.5M Jan 13 08:50 cache_dir/synthesis_EMP_alpha_homeo=3.53553_dico.pkl\n",
      "-rw-r--r--  1 501  staff   3.5M Jan 13 08:50 cache_dir/synthesis_EMP_alpha_homeo=5.00000_dico.pkl\n",
      "-rw-r--r--  1 501  staff   3.5M Jan 13 08:49 cache_dir/synthesis_EMP_alpha_homeo=7.07107_dico.pkl\n",
      "-rw-r--r--  1 501  staff   3.5M Jan 13 03:37 cache_dir/synthesis_EMP_eta=0.00375_dico.pkl\n",
      "-rw-r--r--  1 501  staff   3.5M Jan 13 03:38 cache_dir/synthesis_EMP_eta=0.00530_dico.pkl\n",
      "-rw-r--r--  1 501  staff   3.5M Jan 13 03:37 cache_dir/synthesis_EMP_eta=0.00750_dico.pkl\n",
      "-rw-r--r--  1 501  staff   3.5M Jan 13 03:37 cache_dir/synthesis_EMP_eta=0.01061_dico.pkl\n",
      "-rw-r--r--  1 501  staff   3.5M Jan 13 03:38 cache_dir/synthesis_EMP_eta=0.01500_dico.pkl\n",
      "-rw-r--r--  1 501  staff   3.5M Jan 13 03:37 cache_dir/synthesis_EMP_eta=0.02121_dico.pkl\n",
      "-rw-r--r--  1 501  staff   3.5M Jan 13 03:38 cache_dir/synthesis_EMP_eta=0.03000_dico.pkl\n",
      "-rw-r--r--  1 501  staff   3.5M Jan 13 03:37 cache_dir/synthesis_EMP_eta=0.04243_dico.pkl\n",
      "-rw-r--r--  1 501  staff   3.5M Jan 13 03:37 cache_dir/synthesis_EMP_eta=0.06000_dico.pkl\n",
      "-rw-r--r--  1 501  staff   3.5M Jan 13 03:36 cache_dir/synthesis_EMP_eta_homeo=0.00250_dico.pkl\n",
      "-rw-r--r--  1 501  staff   3.5M Jan 13 03:37 cache_dir/synthesis_EMP_eta_homeo=0.00354_dico.pkl\n",
      "-rw-r--r--  1 501  staff   3.5M Jan 13 03:37 cache_dir/synthesis_EMP_eta_homeo=0.00500_dico.pkl\n",
      "-rw-r--r--  1 501  staff   3.5M Jan 13 03:37 cache_dir/synthesis_EMP_eta_homeo=0.00707_dico.pkl\n",
      "-rw-r--r--  1 501  staff   3.5M Jan 13 03:38 cache_dir/synthesis_EMP_eta_homeo=0.01000_dico.pkl\n",
      "-rw-r--r--  1 501  staff   3.5M Jan 13 03:38 cache_dir/synthesis_EMP_eta_homeo=0.01414_dico.pkl\n",
      "-rw-r--r--  1 501  staff   3.5M Jan 13 08:48 cache_dir/synthesis_EMP_eta_homeo=0.02000_dico.pkl\n",
      "-rw-r--r--  1 501  staff   3.5M Jan 13 08:48 cache_dir/synthesis_EMP_eta_homeo=0.02828_dico.pkl\n",
      "-rw-r--r--  1 501  staff   3.5M Jan 13 08:48 cache_dir/synthesis_EMP_eta_homeo=0.04000_dico.pkl\n",
      "-rw-r--r--  1 501  staff   3.5M Jan 13 15:09 cache_dir/synthesis_EMP_l0_sparseness=10_dico.pkl\n",
      "-rw-r--r--  1 501  staff   3.5M Jan 13 19:45 cache_dir/synthesis_EMP_l0_sparseness=116_dico.pkl\n",
      "-rw-r--r--  1 501  staff   3.5M Jan 13 15:21 cache_dir/synthesis_EMP_l0_sparseness=14_dico.pkl\n",
      "-rw-r--r--  1 501  staff   3.5M Jan 13 15:40 cache_dir/synthesis_EMP_l0_sparseness=20_dico.pkl\n",
      "-rw-r--r--  1 501  staff   3.5M Jan 13 16:08 cache_dir/synthesis_EMP_l0_sparseness=29_dico.pkl\n",
      "-rw-r--r--  1 501  staff   3.5M Jan 13 16:42 cache_dir/synthesis_EMP_l0_sparseness=41_dico.pkl\n",
      "-rw-r--r--  1 501  staff   3.5M Jan 13 17:28 cache_dir/synthesis_EMP_l0_sparseness=58_dico.pkl\n",
      "-rw-r--r--  1 501  staff   3.5M Jan 13 14:59 cache_dir/synthesis_EMP_l0_sparseness=7_dico.pkl\n",
      "-rw-r--r--  1 501  staff   3.5M Jan 13 18:27 cache_dir/synthesis_EMP_l0_sparseness=82_dico.pkl\n",
      "-rw-r--r--  1 501  staff   915K Jan 13 16:44 cache_dir/synthesis_EMP_n_dictionary=110_dico.pkl\n",
      "-rw-r--r--  1 501  staff   9.8M Jan 14 04:41 cache_dir/synthesis_EMP_n_dictionary=1247_dico.pkl\n",
      "-rw-r--r--  1 501  staff   1.2M Jan 13 17:32 cache_dir/synthesis_EMP_n_dictionary=155_dico.pkl\n",
      "-rw-r--r--  1 501  staff    14M Jan 14 08:07 cache_dir/synthesis_EMP_n_dictionary=1764_dico.pkl\n",
      "-rw-r--r--  1 501  staff   1.8M Jan 13 18:35 cache_dir/synthesis_EMP_n_dictionary=220_dico.pkl\n",
      "-rw-r--r--  1 501  staff   2.5M Jan 13 19:54 cache_dir/synthesis_EMP_n_dictionary=311_dico.pkl\n",
      "-rw-r--r--  1 501  staff   3.5M Jan 13 21:37 cache_dir/synthesis_EMP_n_dictionary=441_dico.pkl\n",
      "-rw-r--r--  1 501  staff   4.9M Jan 13 23:35 cache_dir/synthesis_EMP_n_dictionary=623_dico.pkl\n",
      "-rw-r--r--  1 501  staff   6.9M Jan 14 02:15 cache_dir/synthesis_EMP_n_dictionary=882_dico.pkl\n",
      "-rw-r--r--  1 501  staff   3.5M Jan 14 22:02 cache_dir/synthesis_HAP_alpha_MP=0.25000_dico.pkl\n",
      "-rw-r--r--  1 501  staff   3.5M Jan 14 22:02 cache_dir/synthesis_HAP_alpha_MP=0.29730_dico.pkl\n",
      "-rw-r--r--  1 501  staff   3.5M Jan 14 22:02 cache_dir/synthesis_HAP_alpha_MP=0.35355_dico.pkl\n",
      "-rw-r--r--  1 501  staff   3.5M Jan 14 22:01 cache_dir/synthesis_HAP_alpha_homeo=0.62500_dico.pkl\n",
      "-rw-r--r--  1 501  staff   3.5M Jan 14 22:02 cache_dir/synthesis_HAP_alpha_homeo=0.88388_dico.pkl\n",
      "-rw-r--r--  1 501  staff   3.5M Jan 14 22:02 cache_dir/synthesis_HAP_alpha_homeo=1.25000_dico.pkl\n",
      "-rw-r--r--  1 501  staff   3.5M Jan 14 22:02 cache_dir/synthesis_HAP_alpha_homeo=1.76777_dico.pkl\n",
      "-rw-r--r--  1 501  staff   3.5M Jan 14 22:01 cache_dir/synthesis_HAP_alpha_homeo=10.00000_dico.pkl\n",
      "-rw-r--r--  1 501  staff   3.5M Jan 14 22:02 cache_dir/synthesis_HAP_alpha_homeo=2.50000_dico.pkl\n",
      "-rw-r--r--  1 501  staff   3.5M Jan 14 22:02 cache_dir/synthesis_HAP_alpha_homeo=3.53553_dico.pkl\n",
      "-rw-r--r--  1 501  staff   3.5M Jan 14 22:02 cache_dir/synthesis_HAP_alpha_homeo=5.00000_dico.pkl\n",
      "-rw-r--r--  1 501  staff   3.5M Jan 14 22:01 cache_dir/synthesis_HAP_alpha_homeo=7.07107_dico.pkl\n",
      "-rw-r--r--  1 501  staff   3.5M Jan 14 14:45 cache_dir/synthesis_HAP_eta=0.00375_dico.pkl\n",
      "-rw-r--r--  1 501  staff   3.5M Jan 14 14:44 cache_dir/synthesis_HAP_eta=0.00530_dico.pkl\n",
      "-rw-r--r--  1 501  staff   3.5M Jan 14 14:44 cache_dir/synthesis_HAP_eta=0.00750_dico.pkl\n",
      "-rw-r--r--  1 501  staff   3.5M Jan 14 14:44 cache_dir/synthesis_HAP_eta=0.01061_dico.pkl\n",
      "-rw-r--r--  1 501  staff   3.5M Jan 14 14:45 cache_dir/synthesis_HAP_eta=0.01500_dico.pkl\n",
      "-rw-r--r--  1 501  staff   3.5M Jan 14 14:44 cache_dir/synthesis_HAP_eta=0.02121_dico.pkl\n",
      "-rw-r--r--  1 501  staff   3.5M Jan 14 14:44 cache_dir/synthesis_HAP_eta=0.03000_dico.pkl\n",
      "-rw-r--r--  1 501  staff   3.5M Jan 14 14:45 cache_dir/synthesis_HAP_eta=0.04243_dico.pkl\n",
      "-rw-r--r--  1 501  staff   3.5M Jan 14 14:44 cache_dir/synthesis_HAP_eta=0.06000_dico.pkl\n",
      "-rw-r--r--  1 501  staff   3.5M Jan 14 14:44 cache_dir/synthesis_HAP_eta_homeo=0.00250_dico.pkl\n",
      "-rw-r--r--  1 501  staff   3.5M Jan 14 14:44 cache_dir/synthesis_HAP_eta_homeo=0.00354_dico.pkl\n",
      "-rw-r--r--  1 501  staff   3.5M Jan 14 14:44 cache_dir/synthesis_HAP_eta_homeo=0.00500_dico.pkl\n",
      "-rw-r--r--  1 501  staff   3.5M Jan 14 14:44 cache_dir/synthesis_HAP_eta_homeo=0.00707_dico.pkl\n",
      "-rw-r--r--  1 501  staff   3.5M Jan 14 14:44 cache_dir/synthesis_HAP_eta_homeo=0.01000_dico.pkl\n",
      "-rw-r--r--  1 501  staff   3.5M Jan 14 14:44 cache_dir/synthesis_HAP_eta_homeo=0.01414_dico.pkl\n",
      "-rw-r--r--  1 501  staff   3.5M Jan 14 23:28 cache_dir/synthesis_HAP_eta_homeo=0.02000_dico.pkl\n",
      "-rw-r--r--  1 501  staff   3.5M Jan 14 22:01 cache_dir/synthesis_HAP_eta_homeo=0.02828_dico.pkl\n",
      "-rw-r--r--  1 501  staff   3.5M Jan 14 22:00 cache_dir/synthesis_HAP_eta_homeo=0.04000_dico.pkl\n",
      "-rw-r--r--  1 501  staff   915K Jan 15 01:31 cache_dir/synthesis_HAP_n_dictionary=110_dico.pkl\n",
      "-rw-r--r--  1 501  staff   1.2M Jan 15 04:18 cache_dir/synthesis_HAP_n_dictionary=155_dico.pkl\n",
      "-rw-r--r--  1 501  staff   3.5M Jan 12 02:13 cache_dir/synthesis_None_alpha_MP=0.25000_dico.pkl\n",
      "-rw-r--r--  1 501  staff   3.5M Jan 12 02:12 cache_dir/synthesis_None_alpha_MP=0.29730_dico.pkl\n",
      "-rw-r--r--  1 501  staff   3.5M Jan 12 02:11 cache_dir/synthesis_None_alpha_MP=0.35355_dico.pkl\n",
      "-rw-r--r--  1 501  staff   3.5M Jan 12 13:40 cache_dir/synthesis_None_alpha_MP=0.42045_dico.pkl\n",
      "-rw-r--r--  1 501  staff   3.5M Jan 12 13:42 cache_dir/synthesis_None_alpha_MP=0.50000_dico.pkl\n",
      "-rw-r--r--  1 501  staff   3.5M Jan 12 13:43 cache_dir/synthesis_None_alpha_MP=0.59460_dico.pkl\n",
      "-rw-r--r--  1 501  staff   3.5M Jan 12 13:45 cache_dir/synthesis_None_alpha_MP=0.70711_dico.pkl\n",
      "-rw-r--r--  1 501  staff   3.5M Jan 12 13:45 cache_dir/synthesis_None_alpha_MP=0.84090_dico.pkl\n",
      "-rw-r--r--  1 501  staff   3.5M Jan 12 13:45 cache_dir/synthesis_None_alpha_MP=1.00000_dico.pkl\n",
      "-rw-r--r--  1 501  staff   3.5M Jan 12 02:11 cache_dir/synthesis_None_alpha_homeo=0.62500_dico.pkl\n",
      "-rw-r--r--  1 501  staff   3.5M Jan 12 02:11 cache_dir/synthesis_None_alpha_homeo=0.88388_dico.pkl\n",
      "-rw-r--r--  1 501  staff   3.5M Jan 12 02:11 cache_dir/synthesis_None_alpha_homeo=1.25000_dico.pkl\n",
      "-rw-r--r--  1 501  staff   3.5M Jan 12 02:11 cache_dir/synthesis_None_alpha_homeo=1.76777_dico.pkl\n",
      "-rw-r--r--  1 501  staff   3.5M Jan 12 02:12 cache_dir/synthesis_None_alpha_homeo=10.00000_dico.pkl\n",
      "-rw-r--r--  1 501  staff   3.5M Jan 12 02:11 cache_dir/synthesis_None_alpha_homeo=2.50000_dico.pkl\n",
      "-rw-r--r--  1 501  staff   3.5M Jan 12 02:11 cache_dir/synthesis_None_alpha_homeo=3.53553_dico.pkl\n",
      "-rw-r--r--  1 501  staff   3.5M Jan 12 02:11 cache_dir/synthesis_None_alpha_homeo=5.00000_dico.pkl\n",
      "-rw-r--r--  1 501  staff   3.5M Jan 12 02:12 cache_dir/synthesis_None_alpha_homeo=7.07107_dico.pkl\n",
      "-rw-r--r--  1 501  staff   3.5M Jan 11 20:47 cache_dir/synthesis_None_eta=0.00375_dico.pkl\n",
      "-rw-r--r--  1 501  staff   3.5M Jan 11 20:47 cache_dir/synthesis_None_eta=0.00530_dico.pkl\n",
      "-rw-r--r--  1 501  staff   3.5M Jan 11 20:47 cache_dir/synthesis_None_eta=0.00750_dico.pkl\n",
      "-rw-r--r--  1 501  staff   3.5M Jan 11 20:47 cache_dir/synthesis_None_eta=0.01061_dico.pkl\n",
      "-rw-r--r--  1 501  staff   3.5M Jan 11 20:47 cache_dir/synthesis_None_eta=0.01500_dico.pkl\n",
      "-rw-r--r--  1 501  staff   3.5M Jan 11 20:47 cache_dir/synthesis_None_eta=0.02121_dico.pkl\n",
      "-rw-r--r--  1 501  staff   3.5M Jan 11 20:47 cache_dir/synthesis_None_eta=0.03000_dico.pkl\n",
      "-rw-r--r--  1 501  staff   3.5M Jan 11 20:47 cache_dir/synthesis_None_eta=0.04243_dico.pkl\n",
      "-rw-r--r--  1 501  staff   3.5M Jan 11 20:47 cache_dir/synthesis_None_eta=0.06000_dico.pkl\n",
      "-rw-r--r--  1 501  staff   3.5M Jan 11 20:47 cache_dir/synthesis_None_eta_homeo=0.00250_dico.pkl\n",
      "-rw-r--r--  1 501  staff   3.5M Jan 11 20:47 cache_dir/synthesis_None_eta_homeo=0.00354_dico.pkl\n",
      "-rw-r--r--  1 501  staff   3.5M Jan 11 20:47 cache_dir/synthesis_None_eta_homeo=0.00500_dico.pkl\n",
      "-rw-r--r--  1 501  staff   3.5M Jan 11 20:47 cache_dir/synthesis_None_eta_homeo=0.00707_dico.pkl\n",
      "-rw-r--r--  1 501  staff   3.5M Jan 11 20:47 cache_dir/synthesis_None_eta_homeo=0.01000_dico.pkl\n",
      "-rw-r--r--  1 501  staff   3.5M Jan 11 20:47 cache_dir/synthesis_None_eta_homeo=0.01414_dico.pkl\n",
      "-rw-r--r--  1 501  staff   3.5M Jan 12 02:09 cache_dir/synthesis_None_eta_homeo=0.02000_dico.pkl\n",
      "-rw-r--r--  1 501  staff   3.5M Jan 12 02:10 cache_dir/synthesis_None_eta_homeo=0.02828_dico.pkl\n",
      "-rw-r--r--  1 501  staff   3.5M Jan 12 02:11 cache_dir/synthesis_None_eta_homeo=0.04000_dico.pkl\n",
      "-rw-r--r--  1 501  staff   3.5M Jan 12 12:12 cache_dir/synthesis_None_l0_sparseness=10_dico.pkl\n",
      "-rw-r--r--  1 501  staff   3.5M Jan 12 16:03 cache_dir/synthesis_None_l0_sparseness=116_dico.pkl\n",
      "-rw-r--r--  1 501  staff   3.5M Jan 12 12:32 cache_dir/synthesis_None_l0_sparseness=14_dico.pkl\n",
      "-rw-r--r--  1 501  staff   3.5M Jan 12 13:01 cache_dir/synthesis_None_l0_sparseness=20_dico.pkl\n",
      "-rw-r--r--  1 501  staff   3.5M Jan 12 13:46 cache_dir/synthesis_None_l0_sparseness=29_dico.pkl\n",
      "-rw-r--r--  1 501  staff   3.5M Jan 12 14:24 cache_dir/synthesis_None_l0_sparseness=41_dico.pkl\n",
      "-rw-r--r--  1 501  staff   3.5M Jan 12 14:55 cache_dir/synthesis_None_l0_sparseness=58_dico.pkl\n",
      "-rw-r--r--  1 501  staff   3.5M Jan 12 11:56 cache_dir/synthesis_None_l0_sparseness=7_dico.pkl\n",
      "-rw-r--r--  1 501  staff   3.5M Jan 12 15:26 cache_dir/synthesis_None_l0_sparseness=82_dico.pkl\n",
      "-rw-r--r--  1 501  staff   915K Jan 12 14:27 cache_dir/synthesis_None_n_dictionary=110_dico.pkl\n",
      "-rw-r--r--  1 501  staff   9.8M Jan 12 19:31 cache_dir/synthesis_None_n_dictionary=1247_dico.pkl\n",
      "-rw-r--r--  1 501  staff   1.2M Jan 12 14:58 cache_dir/synthesis_None_n_dictionary=155_dico.pkl\n",
      "-rw-r--r--  1 501  staff    14M Jan 12 22:28 cache_dir/synthesis_None_n_dictionary=1764_dico.pkl\n",
      "-rw-r--r--  1 501  staff   1.8M Jan 12 15:29 cache_dir/synthesis_None_n_dictionary=220_dico.pkl\n",
      "-rw-r--r--  1 501  staff   2.5M Jan 12 16:05 cache_dir/synthesis_None_n_dictionary=311_dico.pkl\n",
      "-rw-r--r--  1 501  staff   3.5M Jan 12 16:45 cache_dir/synthesis_None_n_dictionary=441_dico.pkl\n",
      "-rw-r--r--  1 501  staff   4.9M Jan 12 17:27 cache_dir/synthesis_None_n_dictionary=623_dico.pkl\n",
      "-rw-r--r--  1 501  staff   6.9M Jan 12 18:22 cache_dir/synthesis_None_n_dictionary=882_dico.pkl\n"
     ]
    }
   ],
   "source": [
    "!ls -lh {experiments.shl.cache_dir}/{metatag}*\n"
   ]
  },
  {
   "cell_type": "raw",
   "metadata": {},
   "source": [
    "# this removes cached files and restarts computations\n",
    "!rm -fr {experiments.shl.cache_dir}/{metatag}*pkl\n",
    "#!rm -fr data_cacyhe/data_data.npy"
   ]
  },
  {
   "cell_type": "raw",
   "metadata": {},
   "source": [
    "%%bash\n",
    "\n",
    "rsync -av -u ../shl_scripts laurent@10.164.7.21:science/SHL_master/\n",
    "scp cache_dir/synthesis.py laurent@10.164.7.21:science/SHL_master/probe/cache_dir\n",
    "#ssh laurent@10.164.7.21 'cd ~/science/SHL_master/probe/ ; rm -fr cache_dir/synthesis_\\*'\n",
    "ssh laurent@10.164.7.21 'cd ~/science/SHL_master/probe/ ; ipython3 cache_dir/synthesis.py'\n",
    "rsync -av --exclude \\*lock\\* laurent@10.164.7.21:science/SHL_master/probe/cache_dir/synthesis_\\* cache_dir"
   ]
  },
  {
   "cell_type": "markdown",
   "metadata": {},
   "source": [
    "## CPU time as a function of the number of dictionary elements\n",
    "\n"
   ]
  },
  {
   "cell_type": "code",
   "execution_count": null,
   "metadata": {
    "ExecuteTime": {
     "end_time": "2018-10-02T07:01:09.696353Z",
     "start_time": "2018-10-02T07:01:06.052664Z"
    }
   },
   "outputs": [
    {
     "name": "stdout",
     "output_type": "stream",
     "text": [
      "n_jobs= 1\n"
     ]
    }
   ],
   "source": [
    "%run cache_dir/synthesis.py run 1"
   ]
  },
  {
   "cell_type": "code",
   "execution_count": null,
   "metadata": {
    "ExecuteTime": {
     "end_time": "2018-10-02T07:13:43.332079Z",
     "start_time": "2018-10-02T07:01:09.698544Z"
    }
   },
   "outputs": [],
   "source": [
    "%run cache_dir/synthesis.py plot"
   ]
  },
  {
   "cell_type": "markdown",
   "metadata": {},
   "source": [
    "\n",
    "tester:\n",
    "- l0 sparseness avec MP et OMP\n",
    "\n",
    "## Version used"
   ]
  },
  {
   "cell_type": "markdown",
   "metadata": {
    "ExecuteTime": {
     "end_time": "2018-10-02T07:13:43.418017Z",
     "start_time": "2018-10-02T07:13:43.346069Z"
    }
   },
   "source": [
    "## %load_ext version_information\n",
    "%version_information shl_scripts, numpy, shl_scripts, pandas, matplotlib"
   ]
  }
 ],
 "metadata": {
  "kernelspec": {
   "display_name": "Python 3",
   "language": "python",
   "name": "python3"
  },
  "language_info": {
   "codemirror_mode": {
    "name": "ipython",
    "version": 3
   },
   "file_extension": ".py",
   "mimetype": "text/x-python",
   "name": "python",
   "nbconvert_exporter": "python",
   "pygments_lexer": "ipython3",
   "version": "3.7.4"
  },
  "toc": {
   "base_numbering": 1,
   "nav_menu": {
    "height": "99px",
    "width": "252px"
   },
   "number_sections": true,
   "sideBar": true,
   "skip_h1_title": false,
   "title_cell": "Table of Contents",
   "title_sidebar": "Contents",
   "toc_cell": false,
   "toc_position": {},
   "toc_section_display": "block",
   "toc_window_display": false
  }
 },
 "nbformat": 4,
 "nbformat_minor": 4
}
