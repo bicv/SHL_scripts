{
 "cells": [
  {
   "cell_type": "markdown",
   "metadata": {},
   "source": [
    "# Synthesis of all algorithms\n"
   ]
  },
  {
   "cell_type": "code",
   "execution_count": null,
   "metadata": {
    "ExecuteTime": {
     "end_time": "2018-02-09T09:44:04.124948Z",
     "start_time": "2018-02-09T09:44:04.095554Z"
    }
   },
   "outputs": [],
   "source": [
    "%load_ext autoreload\n",
    "%autoreload 2"
   ]
  },
  {
   "cell_type": "code",
   "execution_count": null,
   "metadata": {
    "ExecuteTime": {
     "end_time": "2018-02-09T09:44:04.638699Z",
     "start_time": "2018-02-09T09:44:04.140003Z"
    }
   },
   "outputs": [],
   "source": [
    "%matplotlib inline"
   ]
  },
  {
   "cell_type": "raw",
   "metadata": {
    "ExecuteTime": {
     "start_time": "2018-02-08T20:58:08.758Z"
    }
   },
   "source": [
    "!rm -fr {experiments.shl.data_cache}/synthesis*\n",
    "#!rm -fr data_cache/data_data.npy"
   ]
  },
  {
   "cell_type": "markdown",
   "metadata": {},
   "source": [
    "## a synthesis\n",
    "\n"
   ]
  },
  {
   "cell_type": "code",
   "execution_count": null,
   "metadata": {
    "ExecuteTime": {
     "end_time": "2018-02-09T09:44:23.946513Z",
     "start_time": "2018-02-09T09:44:04.645638Z"
    },
    "scrolled": false
   },
   "outputs": [],
   "source": [
    "from shl_scripts.shl_experiments import SHL_set\n",
    "verbose = 0\n",
    "default = dict(eta=.002, beta1=.9, beta2=.999, epsilon=1.e-8, verbose=verbose)\n",
    "\n",
    "opts = {}\n",
    "opts['nohomeo'] = dict(homeo_method='None')\n",
    "#opts['EMP'] = dict(homeo_method='EMP', eta_homeo=0.01, alpha_homeo=0.1)\n",
    "#opts['EXP'] = dict(homeo_method='EXP', eta_homeo=0.01, alpha_homeo=0.1)\n",
    "opts['HAP'] = dict(homeo_method='HAP', eta_homeo=0.01, alpha_homeo=0.1)\n",
    "#opts['HEH'] = dict(homeo_method='HEH', eta_homeo=0.05, C=5., nb_quant=128, P_cum=None)\n",
    "\n",
    "display_variables = ['error', 'qerror', 'aerror', 'cputime']\n",
    "for display_variable in display_variables:\n",
    "    fig, ax = None, None\n",
    "\n",
    "    for tag in opts.keys():\n",
    "        opts[tag].update(default)\n",
    "        experiments = SHL_set(opts[tag], tag='synthesis_' + tag)\n",
    "        fig, ax = experiments.scan(list_figures=[], display='final', fig=fig, ax=ax, label=tag, display_variable=display_variable)\n",
    "    \n",
    "    ax.legend()"
   ]
  },
  {
   "cell_type": "markdown",
   "metadata": {},
   "source": [
    "## CPU time as a function of the number of dictionary elements\n",
    "\n"
   ]
  },
  {
   "cell_type": "code",
   "execution_count": null,
   "metadata": {
    "ExecuteTime": {
     "end_time": "2018-02-09T09:44:24.740275Z",
     "start_time": "2018-02-09T09:44:23.954923Z"
    },
    "scrolled": false
   },
   "outputs": [],
   "source": [
    "for display_variable in display_variables:\n",
    "    fig, ax = None, None\n",
    "\n",
    "    for tag in opts.keys():\n",
    "        opts[tag].update(default)\n",
    "        experiments = SHL_set(opts[tag], tag='synthesis_' + tag)\n",
    "        fig, ax = experiments.scan(list_figures=[], base=4, N_scan=5, variable='n_dictionary', display='final', fig=fig, ax=ax, label=tag, display_variable=display_variable)\n",
    "    ax.legend()    "
   ]
  },
  {
   "cell_type": "code",
   "execution_count": null,
   "metadata": {
    "ExecuteTime": {
     "end_time": "2018-02-09T09:44:24.743675Z",
     "start_time": "2018-02-09T09:44:04.088Z"
    },
    "scrolled": false
   },
   "outputs": [],
   "source": [
    "\n",
    "for display_variable in display_variables:\n",
    "    fig, ax = None, None\n",
    "\n",
    "    for tag in opts.keys():\n",
    "        opts[tag].update(default)\n",
    "        experiments = SHL_set(opts[tag], tag='synthesis_' + tag)\n",
    "        fig, ax = experiments.scan(list_figures=[], base=4, N_scan=5, variable='l0_sparseness', display='final', fig=fig, ax=ax, label=tag, display_variable=display_variable)\n",
    "    ax.legend()    \n",
    "    \n",
    "    "
   ]
  },
  {
   "cell_type": "markdown",
   "metadata": {},
   "source": [
    "\n",
    "tester:\n",
    "- l0 sparseness avec MP et OMP\n",
    "\n",
    "## Version used"
   ]
  },
  {
   "cell_type": "code",
   "execution_count": null,
   "metadata": {
    "ExecuteTime": {
     "end_time": "2018-02-09T09:44:24.749949Z",
     "start_time": "2018-02-09T09:44:04.091Z"
    }
   },
   "outputs": [],
   "source": [
    "%load_ext version_information\n",
    "%version_information numpy, shl_scripts"
   ]
  }
 ],
 "metadata": {
  "kernelspec": {
   "display_name": "Python 3",
   "language": "python",
   "name": "python3"
  },
  "language_info": {
   "codemirror_mode": {
    "name": "ipython",
    "version": 3
   },
   "file_extension": ".py",
   "mimetype": "text/x-python",
   "name": "python",
   "nbconvert_exporter": "python",
   "pygments_lexer": "ipython3",
   "version": "3.6.4"
  },
  "toc": {
   "nav_menu": {
    "height": "99px",
    "width": "252px"
   },
   "number_sections": true,
   "sideBar": true,
   "skip_h1_title": false,
   "toc_cell": false,
   "toc_position": {},
   "toc_section_display": "block",
   "toc_window_display": false
  }
 },
 "nbformat": 4,
 "nbformat_minor": 2
}
