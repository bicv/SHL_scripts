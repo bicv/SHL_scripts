{
 "cells": [
  {
   "cell_type": "markdown",
   "metadata": {},
   "source": [
    "# Synthesis of all algorithms\n"
   ]
  },
  {
   "cell_type": "code",
   "execution_count": null,
   "metadata": {
    "ExecuteTime": {
     "start_time": "2018-03-05T16:06:35.174Z"
    }
   },
   "outputs": [],
   "source": [
    "%load_ext autoreload\n",
    "%autoreload 2"
   ]
  },
  {
   "cell_type": "code",
   "execution_count": null,
   "metadata": {
    "ExecuteTime": {
     "start_time": "2018-03-05T16:06:35.373Z"
    }
   },
   "outputs": [],
   "source": [
    "%matplotlib inline"
   ]
  },
  {
   "cell_type": "markdown",
   "metadata": {},
   "source": [
    "## a synthesis\n",
    "\n"
   ]
  },
  {
   "cell_type": "code",
   "execution_count": null,
   "metadata": {
    "ExecuteTime": {
     "start_time": "2018-03-05T16:06:35.997Z"
    }
   },
   "outputs": [],
   "source": [
    "%mkdir -p data_cache/synthesis.py\n"
   ]
  },
  {
   "cell_type": "code",
   "execution_count": null,
   "metadata": {
    "ExecuteTime": {
     "start_time": "2018-03-05T16:06:36.213Z"
    },
    "scrolled": false
   },
   "outputs": [],
   "source": [
    "%%writefile data_cache/synthesis.py\n",
    "\n",
    "try:\n",
    "    import sys\n",
    "    command = sys.argv[1]\n",
    "except:\n",
    "    command = 'run'\n",
    "\n",
    "metatag = 'synthesis_'\n",
    "from shl_scripts.shl_experiments import SHL_set\n",
    "verbose = 0\n",
    "default = dict(eta=.02, beta1=.9, beta2=.999, epsilon=1.e-8, n_iter=2**15+1,\n",
    "               nb_quant=128, n_dictionary=23**2, patch_width=16, verbose=verbose)\n",
    "\n",
    "opts = {}\n",
    "opts['nohomeo'] = dict(homeo_method='None')\n",
    "opts['EMP'] = dict(homeo_method='EMP', eta_homeo=0.05, alpha_homeo=0.5)\n",
    "opts['EXP'] = dict(homeo_method='EXP', eta_homeo=0.05, alpha_homeo=0.5)\n",
    "opts['HAP'] = dict(homeo_method='HAP', eta_homeo=0.05, alpha_homeo=0.5)\n",
    "opts['HEH'] = dict(homeo_method='HEH', eta_homeo=0.05, C=4., nb_quant=128, P_cum=None)\n",
    "\n",
    "variables = ['alpha_homeo']\n",
    "variables = ['eta', 'alpha_homeo', 'eta_homeo', 'l0_sparseness', 'n_dictionary']\n",
    "display_variables = ['error', 'logL', 'cputime']\n",
    "\n",
    "if command == 'run':\n",
    "    for variable in variables:\n",
    "        for tag in opts.keys():\n",
    "            opts[tag].update(default)\n",
    "            experiments = SHL_set(opts[tag], tag=metatag + tag)\n",
    "            experiments.scan(variable=variable, list_figures=[], display='')\n",
    "\n",
    "if command == 'plot':\n",
    "    import matplotlib.pyplot as plt\n",
    "\n",
    "    for variable in variables:\n",
    "        for display_variable in display_variables:\n",
    "            fig, ax = None, None\n",
    "\n",
    "            for tag in opts.keys():\n",
    "                #print(opts[tag], display_variable)\n",
    "                opts[tag].update(default)\n",
    "                experiments = SHL_set(opts[tag], tag=metatag + tag)\n",
    "                fig, ax = experiments.scan(variable=variable, list_figures=[], display='final', fig=fig, ax=ax, label=tag, display_variable=display_variable)\n",
    "\n",
    "            ax.legend()\n",
    "            plt.show()            "
   ]
  },
  {
   "cell_type": "code",
   "execution_count": null,
   "metadata": {
    "ExecuteTime": {
     "start_time": "2018-03-05T16:06:36.717Z"
    }
   },
   "outputs": [],
   "source": [
    "%run data_cache/synthesis.py load"
   ]
  },
  {
   "cell_type": "code",
   "execution_count": null,
   "metadata": {
    "ExecuteTime": {
     "start_time": "2018-03-05T16:06:37.078Z"
    }
   },
   "outputs": [],
   "source": [
    "!ls -l {experiments.shl.data_cache}/synthesis_*\n",
    "!rm -fr  {experiments.shl.data_cache}/synthesis_*lock*"
   ]
  },
  {
   "cell_type": "code",
   "execution_count": null,
   "metadata": {
    "ExecuteTime": {
     "start_time": "2018-03-05T16:06:37.766Z"
    }
   },
   "outputs": [],
   "source": [
    "!rm -fr  {experiments.shl.data_cache}/synthesis_*_conflict-*"
   ]
  },
  {
   "cell_type": "raw",
   "metadata": {
    "ExecuteTime": {
     "end_time": "2018-02-22T16:08:17.052753Z",
     "start_time": "2018-02-22T16:08:16.914804Z"
    }
   },
   "source": [
    "!rm -fr {experiments.shl.data_cache}/synthesis_*\n",
    "#!rm -fr data_cache/data_data.npy"
   ]
  },
  {
   "cell_type": "raw",
   "metadata": {
    "ExecuteTime": {
     "start_time": "2018-02-19T10:38:23.922Z"
    }
   },
   "source": [
    "%%bash\n",
    "\n",
    "rsync -av -u ../shl_scripts laurent@10.164.7.21:science/SHL_master/\n",
    "scp data_cache/synthesis.py laurent@10.164.7.21:science/SHL_master/probe/data_cache\n",
    "#ssh laurent@10.164.7.21 'cd ~/science/SHL_master/probe/ ; rm -fr data_cache/synthesis_\\*'\n",
    "ssh laurent@10.164.7.21 'cd ~/science/SHL_master/probe/ ; ipython3 data_cache/synthesis.py'\n",
    "rsync -av --exclude \\*lock\\* laurent@10.164.7.21:science/SHL_master/probe/data_cache/synthesis_\\* data_cache"
   ]
  },
  {
   "cell_type": "markdown",
   "metadata": {},
   "source": [
    "## CPU time as a function of the number of dictionary elements\n",
    "\n"
   ]
  },
  {
   "cell_type": "code",
   "execution_count": null,
   "metadata": {
    "ExecuteTime": {
     "start_time": "2018-02-23T15:04:35.248Z"
    }
   },
   "outputs": [],
   "source": [
    "%run data_cache/synthesis.py run"
   ]
  },
  {
   "cell_type": "code",
   "execution_count": null,
   "metadata": {
    "ExecuteTime": {
     "start_time": "2018-02-23T15:04:36.473Z"
    },
    "scrolled": false
   },
   "outputs": [],
   "source": [
    "%run data_cache/synthesis.py plot"
   ]
  },
  {
   "cell_type": "code",
   "execution_count": 9,
   "metadata": {
    "ExecuteTime": {
     "end_time": "2018-02-23T15:01:03.333866Z",
     "start_time": "2018-02-23T15:01:03.242782Z"
    }
   },
   "outputs": [
    {
     "data": {
      "text/plain": [
       "(65536, 16.32192809488736)"
      ]
     },
     "execution_count": 9,
     "metadata": {},
     "output_type": "execute_result"
    }
   ],
   "source": [
    "import numpy as np\n",
    "2**16, np.log2(81920)"
   ]
  },
  {
   "cell_type": "code",
   "execution_count": 10,
   "metadata": {
    "ExecuteTime": {
     "end_time": "2018-02-23T15:01:03.392574Z",
     "start_time": "2018-02-23T15:01:03.336904Z"
    }
   },
   "outputs": [
    {
     "data": {
      "text/plain": [
       "16"
      ]
     },
     "execution_count": 10,
     "metadata": {},
     "output_type": "execute_result"
    }
   ],
   "source": [
    "experiments.shl.patch_width\n"
   ]
  },
  {
   "cell_type": "raw",
   "metadata": {
    "ExecuteTime": {
     "end_time": "2018-02-20T16:33:45.751614Z",
     "start_time": "2018-02-20T15:04:11.377760Z"
    }
   },
   "source": [
    "for display_variable in display_variables:\n",
    "    fig, ax = None, None\n",
    "\n",
    "    for tag in opts.keys():\n",
    "        opts[tag].update(default)\n",
    "        experiments = SHL_set(opts[tag], tag='synthesis_' + tag)\n",
    "        fig, ax = experiments.scan(list_figures=[], base=4, N_scan=5, variable='n_dictionary', display='final', fig=fig, ax=ax, label=tag, display_variable=display_variable)\n",
    "    ax.legend()    "
   ]
  },
  {
   "cell_type": "raw",
   "metadata": {
    "ExecuteTime": {
     "end_time": "2018-02-20T16:33:55.435130Z",
     "start_time": "2018-02-20T16:33:45.755226Z"
    }
   },
   "source": [
    "\n",
    "for display_variable in display_variables:\n",
    "    fig, ax = None, None\n",
    "\n",
    "    for tag in opts.keys():\n",
    "        opts[tag].update(default)\n",
    "        experiments = SHL_set(opts[tag], tag='synthesis_' + tag)\n",
    "        fig, ax = experiments.scan(list_figures=[], base=4, N_scan=5, variable='l0_sparseness', display='final', fig=fig, ax=ax, label=tag, display_variable=display_variable)\n",
    "    ax.legend()    \n",
    "    \n",
    "    "
   ]
  },
  {
   "cell_type": "markdown",
   "metadata": {},
   "source": [
    "\n",
    "tester:\n",
    "- l0 sparseness avec MP et OMP\n",
    "\n",
    "## Version used"
   ]
  },
  {
   "cell_type": "code",
   "execution_count": 11,
   "metadata": {
    "ExecuteTime": {
     "end_time": "2018-02-23T15:01:03.508136Z",
     "start_time": "2018-02-23T15:01:03.395267Z"
    }
   },
   "outputs": [
    {
     "data": {
      "application/json": {
       "Software versions": [
        {
         "module": "Python",
         "version": "3.6.4 64bit [GCC 4.2.1 Compatible Apple LLVM 9.0.0 (clang-900.0.39.2)]"
        },
        {
         "module": "IPython",
         "version": "6.2.1"
        },
        {
         "module": "OS",
         "version": "Darwin 17.4.0 x86_64 i386 64bit"
        },
        {
         "module": "numpy",
         "version": "1.14.1"
        },
        {
         "module": "shl_scripts",
         "version": "20171221"
        },
        {
         "module": "pandas",
         "version": "0.22.0"
        }
       ]
      },
      "text/html": [
       "<table><tr><th>Software</th><th>Version</th></tr><tr><td>Python</td><td>3.6.4 64bit [GCC 4.2.1 Compatible Apple LLVM 9.0.0 (clang-900.0.39.2)]</td></tr><tr><td>IPython</td><td>6.2.1</td></tr><tr><td>OS</td><td>Darwin 17.4.0 x86_64 i386 64bit</td></tr><tr><td>numpy</td><td>1.14.1</td></tr><tr><td>shl_scripts</td><td>20171221</td></tr><tr><td>pandas</td><td>0.22.0</td></tr><tr><td colspan='2'>Fri Feb 23 16:01:03 2018 CET</td></tr></table>"
      ],
      "text/latex": [
       "\\begin{tabular}{|l|l|}\\hline\n",
       "{\\bf Software} & {\\bf Version} \\\\ \\hline\\hline\n",
       "Python & 3.6.4 64bit [GCC 4.2.1 Compatible Apple LLVM 9.0.0 (clang-900.0.39.2)] \\\\ \\hline\n",
       "IPython & 6.2.1 \\\\ \\hline\n",
       "OS & Darwin 17.4.0 x86\\_64 i386 64bit \\\\ \\hline\n",
       "numpy & 1.14.1 \\\\ \\hline\n",
       "shl_scripts & 20171221 \\\\ \\hline\n",
       "pandas & 0.22.0 \\\\ \\hline\n",
       "\\hline \\multicolumn{2}{|l|}{Fri Feb 23 16:01:03 2018 CET} \\\\ \\hline\n",
       "\\end{tabular}\n"
      ],
      "text/plain": [
       "Software versions\n",
       "Python 3.6.4 64bit [GCC 4.2.1 Compatible Apple LLVM 9.0.0 (clang-900.0.39.2)]\n",
       "IPython 6.2.1\n",
       "OS Darwin 17.4.0 x86_64 i386 64bit\n",
       "numpy 1.14.1\n",
       "shl_scripts 20171221\n",
       "pandas 0.22.0\n",
       "Fri Feb 23 16:01:03 2018 CET"
      ]
     },
     "execution_count": 11,
     "metadata": {},
     "output_type": "execute_result"
    }
   ],
   "source": [
    "%load_ext version_information\n",
    "%version_information numpy, shl_scripts, pandas"
   ]
  }
 ],
 "metadata": {
  "kernelspec": {
   "display_name": "Python 3",
   "language": "python",
   "name": "python3"
  },
  "language_info": {
   "codemirror_mode": {
    "name": "ipython",
    "version": 3
   },
   "file_extension": ".py",
   "mimetype": "text/x-python",
   "name": "python",
   "nbconvert_exporter": "python",
   "pygments_lexer": "ipython3",
   "version": "3.6.4"
  },
  "toc": {
   "nav_menu": {
    "height": "99px",
    "width": "252px"
   },
   "number_sections": true,
   "sideBar": true,
   "skip_h1_title": false,
   "toc_cell": false,
   "toc_position": {},
   "toc_section_display": "block",
   "toc_window_display": false
  }
 },
 "nbformat": 4,
 "nbformat_minor": 2
}
