{
 "cells": [
  {
   "cell_type": "markdown",
   "metadata": {},
   "source": [
    "# Synthesis of all algorithms\n"
   ]
  },
  {
   "cell_type": "code",
   "execution_count": null,
   "metadata": {
    "ExecuteTime": {
     "end_time": "2018-02-15T08:49:22.697201Z",
     "start_time": "2018-02-15T08:49:22.664750Z"
    }
   },
   "outputs": [],
   "source": [
    "%load_ext autoreload\n",
    "%autoreload 2"
   ]
  },
  {
   "cell_type": "code",
   "execution_count": null,
   "metadata": {
    "ExecuteTime": {
     "end_time": "2018-02-15T08:49:23.451508Z",
     "start_time": "2018-02-15T08:49:22.700540Z"
    }
   },
   "outputs": [],
   "source": [
    "%matplotlib inline"
   ]
  },
  {
   "cell_type": "markdown",
   "metadata": {},
   "source": [
    "## a synthesis\n",
    "\n"
   ]
  },
  {
   "cell_type": "code",
   "execution_count": null,
   "metadata": {
    "ExecuteTime": {
     "end_time": "2018-02-15T08:49:23.483653Z",
     "start_time": "2018-02-15T08:49:23.454796Z"
    },
    "scrolled": false
   },
   "outputs": [],
   "source": [
    "%%writefile data_cache/synthesis.py\n",
    "\n",
    "metatag = 'synthesis_'\n",
    "\n",
    "for variable in ['eta', 'alpha_homeo', 'eta_homeo', 'l0_sparseness']:\n",
    "    from shl_scripts.shl_experiments import SHL_set\n",
    "    verbose = 0\n",
    "    default = dict(eta=.002, beta1=.9, beta2=.999, epsilon=1.e-8, \n",
    "                   nb_quant=128, n_dictionary=21**2, patch_width=13, verbose=verbose)\n",
    "\n",
    "    opts = {}\n",
    "    opts['nohomeo'] = dict(homeo_method='None')\n",
    "    #opts['EMP'] = dict(homeo_method='EMP', eta_homeo=0.01, alpha_homeo=0.1)\n",
    "    #opts['EXP'] = dict(homeo_method='EXP', eta_homeo=0.01, alpha_homeo=0.1)\n",
    "    opts['HAP'] = dict(homeo_method='HAP', eta_homeo=0.01, alpha_homeo=0.1)\n",
    "    opts['HEH'] = dict(homeo_method='HEH', eta_homeo=0.05, C=5., nb_quant=128, P_cum=None)\n",
    "\n",
    "    display_variables = ['error', 'qerror', 'aerror', 'perror', 'cputime']\n",
    "    for display_variable in display_variables:\n",
    "        fig, ax = None, None\n",
    "\n",
    "        for tag in opts.keys():\n",
    "            opts[tag].update(default)\n",
    "            experiments = SHL_set(opts[tag], tag=metatag + tag)\n",
    "            fig, ax = experiments.scan(variable=variable, list_figures=[], display='final', fig=fig, ax=ax, label=tag, display_variable=display_variable)\n",
    "\n",
    "        ax.legend()"
   ]
  },
  {
   "cell_type": "raw",
   "metadata": {
    "ExecuteTime": {
     "end_time": "2018-02-15T10:41:01.223318Z",
     "start_time": "2018-02-15T10:41:00.752641Z"
    }
   },
   "source": [
    "!rm -fr {experiments.shl.data_cache}/synthesis_*\n",
    "#!rm -fr data_cache/data_data.npy"
   ]
  },
  {
   "cell_type": "code",
   "execution_count": null,
   "metadata": {
    "ExecuteTime": {
     "end_time": "2018-02-15T10:40:42.323603Z",
     "start_time": "2018-02-15T08:49:23.486500Z"
    },
    "scrolled": false
   },
   "outputs": [],
   "source": [
    "%run data_cache/synthesis.py"
   ]
  },
  {
   "cell_type": "markdown",
   "metadata": {},
   "source": [
    "## CPU time as a function of the number of dictionary elements\n",
    "\n"
   ]
  },
  {
   "cell_type": "code",
   "execution_count": null,
   "metadata": {
    "ExecuteTime": {
     "end_time": "2018-02-15T10:40:42.931968Z",
     "start_time": "2018-02-15T10:40:42.352876Z"
    }
   },
   "outputs": [],
   "source": [
    "experiments.shl.patch_width\n"
   ]
  },
  {
   "cell_type": "code",
   "execution_count": null,
   "metadata": {
    "ExecuteTime": {
     "end_time": "2018-02-15T10:40:58.200103Z",
     "start_time": "2018-02-15T10:40:42.958716Z"
    },
    "scrolled": false
   },
   "outputs": [],
   "source": [
    "for display_variable in display_variables:\n",
    "    fig, ax = None, None\n",
    "\n",
    "    for tag in opts.keys():\n",
    "        opts[tag].update(default)\n",
    "        experiments = SHL_set(opts[tag], tag='synthesis_' + tag)\n",
    "        fig, ax = experiments.scan(list_figures=[], base=4, N_scan=5, variable='n_dictionary', display='final', fig=fig, ax=ax, label=tag, display_variable=display_variable)\n",
    "    ax.legend()    "
   ]
  },
  {
   "cell_type": "code",
   "execution_count": null,
   "metadata": {
    "ExecuteTime": {
     "end_time": "2018-02-15T10:40:58.201514Z",
     "start_time": "2018-02-15T08:49:22.688Z"
    },
    "scrolled": false
   },
   "outputs": [],
   "source": [
    "\n",
    "for display_variable in display_variables:\n",
    "    fig, ax = None, None\n",
    "\n",
    "    for tag in opts.keys():\n",
    "        opts[tag].update(default)\n",
    "        experiments = SHL_set(opts[tag], tag='synthesis_' + tag)\n",
    "        fig, ax = experiments.scan(list_figures=[], base=4, N_scan=5, variable='l0_sparseness', display='final', fig=fig, ax=ax, label=tag, display_variable=display_variable)\n",
    "    ax.legend()    \n",
    "    \n",
    "    "
   ]
  },
  {
   "cell_type": "markdown",
   "metadata": {},
   "source": [
    "\n",
    "tester:\n",
    "- l0 sparseness avec MP et OMP\n",
    "\n",
    "## Version used"
   ]
  },
  {
   "cell_type": "code",
   "execution_count": null,
   "metadata": {
    "ExecuteTime": {
     "end_time": "2018-02-15T10:40:58.203184Z",
     "start_time": "2018-02-15T08:49:22.691Z"
    }
   },
   "outputs": [],
   "source": [
    "%load_ext version_information\n",
    "%version_information numpy, shl_scripts, pandas"
   ]
  }
 ],
 "metadata": {
  "kernelspec": {
   "display_name": "Python 3",
   "language": "python",
   "name": "python3"
  },
  "toc": {
   "nav_menu": {
    "height": "99px",
    "width": "252px"
   },
   "number_sections": true,
   "sideBar": true,
   "skip_h1_title": false,
   "toc_cell": false,
   "toc_position": {},
   "toc_section_display": "block",
   "toc_window_display": false
  }
 },
 "nbformat": 4,
 "nbformat_minor": 2
}
