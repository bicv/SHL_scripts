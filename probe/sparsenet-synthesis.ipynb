{
 "cells": [
  {
   "cell_type": "markdown",
   "metadata": {},
   "source": [
    "# Synthesis of all algorithms\n"
   ]
  },
  {
   "cell_type": "code",
   "execution_count": 1,
   "metadata": {
    "ExecuteTime": {
     "end_time": "2018-04-27T14:41:44.320805Z",
     "start_time": "2018-04-27T14:41:44.307167Z"
    }
   },
   "outputs": [],
   "source": [
    "%load_ext autoreload\n",
    "%autoreload 2"
   ]
  },
  {
   "cell_type": "code",
   "execution_count": 2,
   "metadata": {
    "ExecuteTime": {
     "end_time": "2018-04-27T14:41:44.575029Z",
     "start_time": "2018-04-27T14:41:44.322513Z"
    }
   },
   "outputs": [],
   "source": [
    "%matplotlib inline"
   ]
  },
  {
   "cell_type": "markdown",
   "metadata": {},
   "source": [
    "## a synthesis\n",
    "\n"
   ]
  },
  {
   "cell_type": "code",
   "execution_count": 3,
   "metadata": {
    "ExecuteTime": {
     "end_time": "2018-04-27T14:41:44.592548Z",
     "start_time": "2018-04-27T14:41:44.577079Z"
    },
    "scrolled": false
   },
   "outputs": [
    {
     "name": "stdout",
     "output_type": "stream",
     "text": [
      "Writing data_cache/synthesis.py\n"
     ]
    }
   ],
   "source": [
    "%%writefile data_cache/synthesis.py\n",
    "\n",
    "try:\n",
    "    import sys\n",
    "    command = sys.argv[1]\n",
    "except:\n",
    "    command = 'run'\n",
    "\n",
    "metatag = 'synthesis_'\n",
    "from shl_scripts.shl_experiments import SHL_set\n",
    "verbose = 0\n",
    "#default = dict(eta=.02, beta1=.9, beta2=.999, epsilon=1.e-8, n_iter=2**15+1,\n",
    "#               nb_quant=128, n_dictionary=23**2, patch_width=16, verbose=verbose)\n",
    "default = dict(verbose=verbose)\n",
    "\n",
    "# opts = {}\n",
    "# opts['nohomeo'] = dict(homeo_method='None')\n",
    "# opts['EMP'] = dict(homeo_method='EMP', eta_homeo=0.01, alpha_homeo=0.1)\n",
    "# opts['EXP'] = dict(homeo_method='EXP', eta_homeo=0.01, alpha_homeo=0.1)\n",
    "# opts['HAP'] = dict(homeo_method='HAP', eta_homeo=0.01, alpha_homeo=0.1)\n",
    "# opts['HEH'] = dict(homeo_method='HEH', eta_homeo=0.01, C=4., nb_quant=128, P_cum=None)\n",
    "\n",
    "\n",
    "homeo_methods = ['None', 'HAP']\n",
    "homeo_methods = ['None', 'EMP', 'EXP', 'HAP']\n",
    "homeo_methods = ['None', 'EMP', 'EXP', 'HAP', 'HEH']\n",
    "\n",
    "\n",
    "variables = ['alpha_homeo']\n",
    "variables = ['eta', 'alpha_homeo']\n",
    "variables = ['eta', 'alpha_homeo', 'eta_homeo', 'l0_sparseness']\n",
    "variables = ['eta', 'alpha_homeo', 'eta_homeo']\n",
    "variables = ['eta', 'alpha_homeo', 'eta_homeo', 'l0_sparseness', 'n_dictionary']\n",
    "\n",
    "display_variables = ['error', 'logL', 'cputime']\n",
    "display_variables = ['error', 'logL']\n",
    "\n",
    "n_jobs = 6\n",
    "n_jobs = 1\n",
    "\n",
    "if command == 'run':\n",
    "    for tag in homeo_methods:\n",
    "        default.update(homeo_method=tag)\n",
    "        experiments = SHL_set(default, tag=metatag + tag)\n",
    "        experiments.run(variables=variables, n_jobs=n_jobs)\n",
    "    \n",
    "if command == 'plot':\n",
    "    import matplotlib.pyplot as plt\n",
    "\n",
    "    for variable in variables:\n",
    "        list_figures = []\n",
    "        list_figures = ['show_dico', 'time_plot_MC']\n",
    "\n",
    "        for tag in homeo_methods:\n",
    "            default.update(homeo_method=tag)\n",
    "            experiments = SHL_set(default, tag=metatag + tag)\n",
    "            experiments.scan(variable=variable, list_figures=list_figures, display='')\n",
    "        \n",
    "        for display_variable in display_variables:\n",
    "\n",
    "            fig, ax = None, None\n",
    "            for tag in homeo_methods:\n",
    "                default.update(homeo_method=tag)\n",
    "                experiments = SHL_set(default, tag=metatag + tag)\n",
    "                fig, ax = experiments.scan(variable=variable, list_figures=[], display='dynamic', fig=fig, ax=ax, label=tag, display_variable=display_variable)\n",
    "            ax.legend()\n",
    "            plt.show()            \n",
    "        \n",
    "            fig, ax = None, None\n",
    "            for tag in homeo_methods:\n",
    "                default.update(homeo_method=tag)\n",
    "                experiments = SHL_set(default, tag=metatag + tag)\n",
    "                fig, ax = experiments.scan(variable=variable, list_figures=[], display='final', fig=fig, ax=ax, label=tag, display_variable=display_variable)\n",
    "\n",
    "            ax.legend()\n",
    "            plt.show()            "
   ]
  },
  {
   "cell_type": "code",
   "execution_count": 4,
   "metadata": {
    "ExecuteTime": {
     "end_time": "2018-04-27T14:41:44.646750Z",
     "start_time": "2018-04-27T14:41:44.594591Z"
    }
   },
   "outputs": [],
   "source": [
    "%run data_cache/synthesis.py load"
   ]
  },
  {
   "cell_type": "raw",
   "metadata": {
    "scrolled": true
   },
   "source": [
    "!ls -l {experiments.shl.data_cache}/synthesis_*\n",
    "!rm -fr  {experiments.shl.data_cache}/synthesis_*lock*"
   ]
  },
  {
   "cell_type": "raw",
   "metadata": {},
   "source": [
    "!rm -fr {experiments.shl.data_cache}/synthesis_*\n",
    "#!rm -fr data_cacyhe/data_data.npy"
   ]
  },
  {
   "cell_type": "raw",
   "metadata": {},
   "source": [
    "%%bash\n",
    "\n",
    "rsync -av -u ../shl_scripts laurent@10.164.7.21:science/SHL_master/\n",
    "scp data_cache/synthesis.py laurent@10.164.7.21:science/SHL_master/probe/data_cache\n",
    "#ssh laurent@10.164.7.21 'cd ~/science/SHL_master/probe/ ; rm -fr data_cache/synthesis_\\*'\n",
    "ssh laurent@10.164.7.21 'cd ~/science/SHL_master/probe/ ; ipython3 data_cache/synthesis.py'\n",
    "rsync -av --exclude \\*lock\\* laurent@10.164.7.21:science/SHL_master/probe/data_cache/synthesis_\\* data_cache"
   ]
  },
  {
   "cell_type": "markdown",
   "metadata": {},
   "source": [
    "## CPU time as a function of the number of dictionary elements\n",
    "\n"
   ]
  },
  {
   "cell_type": "code",
   "execution_count": null,
   "metadata": {
    "ExecuteTime": {
     "start_time": "2018-04-27T14:41:44.334Z"
    },
    "scrolled": false
   },
   "outputs": [],
   "source": [
    "%run data_cache/synthesis.py run"
   ]
  },
  {
   "cell_type": "code",
   "execution_count": null,
   "metadata": {
    "ExecuteTime": {
     "start_time": "2018-04-27T14:41:44.337Z"
    },
    "scrolled": false
   },
   "outputs": [],
   "source": [
    "%run data_cache/synthesis.py plot"
   ]
  },
  {
   "cell_type": "markdown",
   "metadata": {},
   "source": [
    "\n",
    "tester:\n",
    "- l0 sparseness avec MP et OMP\n",
    "\n",
    "## Version used"
   ]
  },
  {
   "cell_type": "code",
   "execution_count": null,
   "metadata": {
    "ExecuteTime": {
     "start_time": "2018-04-27T14:41:44.338Z"
    }
   },
   "outputs": [],
   "source": [
    "# %load_ext version_information\n",
    "%version_information numpy, shl_scripts, pandas"
   ]
  }
 ],
 "metadata": {
  "kernelspec": {
   "display_name": "Python 3",
   "language": "python",
   "name": "python3"
  },
  "language_info": {
   "codemirror_mode": {
    "name": "ipython",
    "version": 3
   },
   "file_extension": ".py",
   "mimetype": "text/x-python",
   "name": "python",
   "nbconvert_exporter": "python",
   "pygments_lexer": "ipython3",
   "version": "3.6.5"
  },
  "toc": {
   "base_numbering": 1,
   "nav_menu": {
    "height": "99px",
    "width": "252px"
   },
   "number_sections": true,
   "sideBar": true,
   "skip_h1_title": false,
   "title_cell": "Table of Contents",
   "title_sidebar": "Contents",
   "toc_cell": false,
   "toc_position": {},
   "toc_section_display": "block",
   "toc_window_display": false
  }
 },
 "nbformat": 4,
 "nbformat_minor": 2
}
