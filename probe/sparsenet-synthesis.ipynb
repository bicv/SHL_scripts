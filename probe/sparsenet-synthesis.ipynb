{
 "cells": [
  {
   "cell_type": "markdown",
   "metadata": {},
   "source": [
    "# Synthesis of all algorithms\n"
   ]
  },
  {
   "cell_type": "code",
   "execution_count": 1,
   "metadata": {
    "ExecuteTime": {
     "end_time": "2018-09-07T13:01:04.605884Z",
     "start_time": "2018-09-07T13:01:04.573827Z"
    }
   },
   "outputs": [],
   "source": [
    "%load_ext autoreload\n",
    "%autoreload 2"
   ]
  },
  {
   "cell_type": "code",
   "execution_count": 2,
   "metadata": {
    "ExecuteTime": {
     "end_time": "2018-09-07T13:01:05.247926Z",
     "start_time": "2018-09-07T13:01:04.608538Z"
    }
   },
   "outputs": [],
   "source": [
    "%matplotlib inline"
   ]
  },
  {
   "cell_type": "markdown",
   "metadata": {},
   "source": [
    "## a synthesis\n",
    "\n"
   ]
  },
  {
   "cell_type": "code",
   "execution_count": 3,
   "metadata": {
    "ExecuteTime": {
     "end_time": "2018-09-07T13:01:05.340305Z",
     "start_time": "2018-09-07T13:01:05.251398Z"
    },
    "scrolled": false
   },
   "outputs": [
    {
     "name": "stdout",
     "output_type": "stream",
     "text": [
      "Overwriting cache_dir/synthesis.py\n"
     ]
    }
   ],
   "source": [
    "%%writefile cache_dir/synthesis.py\n",
    "\n",
    "try:\n",
    "    import sys\n",
    "    command = sys.argv[1]\n",
    "except:\n",
    "    command = 'run'\n",
    "\n",
    "metatag = 'synthesis_'\n",
    "from shl_scripts.shl_experiments import SHL_set\n",
    "verbose = 0\n",
    "\n",
    "homeo_methods = ['None', 'HAP']\n",
    "homeo_methods = ['None', 'EMP', 'EXP', 'HAP']\n",
    "homeo_methods = ['None', 'EMP', 'EXP', 'HAP', 'HEH']\n",
    "homeo_methods = ['None', 'EMP', 'HAP', 'HEH', 'OLS']\n",
    "\n",
    "\n",
    "variables = ['alpha_homeo']\n",
    "variables = ['eta', 'alpha_homeo']\n",
    "variables = ['eta', 'alpha_homeo', 'eta_homeo', 'l0_sparseness']\n",
    "variables = ['eta', 'alpha_homeo', 'eta_homeo']\n",
    "variables = ['eta', 'alpha_homeo', 'eta_homeo', 'l0_sparseness', 'n_dictionary']\n",
    "\n",
    "display_variables = ['error', 'logL', 'cputime']\n",
    "display_variables = ['error', 'logL', 'perror', 'perror']\n",
    "display_variables = ['F']\n",
    "\n",
    "list_figures = ['show_dico', 'time_plot_MC']\n",
    "list_figures = []\n",
    "\n",
    "\n",
    "n_jobs = 6\n",
    "n_jobs = 1\n",
    "n_jobs = 4\n",
    "\n",
    "\n",
    "if command == 'run':\n",
    "    \n",
    "    for tag in homeo_methods:\n",
    "        default = dict(verbose=verbose, homeo_method=tag)\n",
    "        experiments = SHL_set(default, tag=metatag + tag)\n",
    "        experiments.run(variables=variables, n_jobs=n_jobs)\n",
    "    \n",
    "if command == 'plot':\n",
    "    import matplotlib.pyplot as plt\n",
    "\n",
    "    for variable in variables:\n",
    "\n",
    "        for tag in homeo_methods:\n",
    "            default = dict(verbose=verbose, homeo_method=tag)\n",
    "            experiments = SHL_set(default, tag=metatag + tag)\n",
    "            experiments.scan(variable=variable, list_figures=list_figures, display='')\n",
    "        \n",
    "        for display_variable in display_variables:\n",
    "\n",
    "            fig, ax = None, None\n",
    "            for tag in homeo_methods:\n",
    "                default = dict(verbose=verbose, homeo_method=tag)\n",
    "                experiments = SHL_set(default, tag=metatag + tag)\n",
    "                fig, ax = experiments.scan(variable=variable, list_figures=[], display='dynamic', fig=fig, ax=ax, label=tag, display_variable=display_variable)\n",
    "            ax.legend()\n",
    "            plt.show()            \n",
    "        \n",
    "            fig, ax = None, None\n",
    "            for tag in homeo_methods:\n",
    "                default = dict(verbose=verbose, homeo_method=tag)\n",
    "                experiments = SHL_set(default, tag=metatag + tag)\n",
    "                fig, ax = experiments.scan(variable=variable, list_figures=[], display='final', fig=fig, ax=ax, label=tag, display_variable=display_variable)\n",
    "\n",
    "            ax.legend()\n",
    "            plt.show()            "
   ]
  },
  {
   "cell_type": "code",
   "execution_count": 4,
   "metadata": {
    "ExecuteTime": {
     "end_time": "2018-09-07T13:01:05.462115Z",
     "start_time": "2018-09-07T13:01:05.343152Z"
    }
   },
   "outputs": [],
   "source": [
    "%run cache_dir/synthesis.py load"
   ]
  },
  {
   "cell_type": "code",
   "execution_count": 5,
   "metadata": {
    "ExecuteTime": {
     "end_time": "2018-09-07T13:01:05.748820Z",
     "start_time": "2018-09-07T13:01:05.465960Z"
    }
   },
   "outputs": [
    {
     "name": "stdout",
     "output_type": "stream",
     "text": [
      "ls: {experiments.shl.cache_dir}/synthesis_*: No such file or directory\r\n"
     ]
    }
   ],
   "source": [
    "!ls -l {experiments.shl.cache_dir}/synthesis_*\n",
    "!rm -fr  {experiments.shl.cache_dir}/synthesis_*lock*"
   ]
  },
  {
   "cell_type": "raw",
   "metadata": {},
   "source": [
    "!rm -fr {experiments.shl.cache_dir}/synthesis_*\n",
    "#!rm -fr data_cacyhe/data_data.npy"
   ]
  },
  {
   "cell_type": "raw",
   "metadata": {},
   "source": [
    "%%bash\n",
    "\n",
    "rsync -av -u ../shl_scripts laurent@10.164.7.21:science/SHL_master/\n",
    "scp cache_dir/synthesis.py laurent@10.164.7.21:science/SHL_master/probe/cache_dir\n",
    "#ssh laurent@10.164.7.21 'cd ~/science/SHL_master/probe/ ; rm -fr cache_dir/synthesis_\\*'\n",
    "ssh laurent@10.164.7.21 'cd ~/science/SHL_master/probe/ ; ipython3 cache_dir/synthesis.py'\n",
    "rsync -av --exclude \\*lock\\* laurent@10.164.7.21:science/SHL_master/probe/cache_dir/synthesis_\\* cache_dir"
   ]
  },
  {
   "cell_type": "markdown",
   "metadata": {},
   "source": [
    "## CPU time as a function of the number of dictionary elements\n",
    "\n"
   ]
  },
  {
   "cell_type": "code",
   "execution_count": null,
   "metadata": {
    "ExecuteTime": {
     "start_time": "2018-09-07T13:01:04.723Z"
    },
    "scrolled": false
   },
   "outputs": [
    {
     "name": "stderr",
     "output_type": "stream",
     "text": [
      "[Parallel(n_jobs=4)]: Using backend LokyBackend with 4 concurrent workers.\n",
      "[Parallel(n_jobs=4)]: Done   1 tasks      | elapsed:    2.1s\n",
      "[Parallel(n_jobs=4)]: Done   2 tasks      | elapsed:    2.1s\n",
      "[Parallel(n_jobs=4)]: Done   3 tasks      | elapsed:    2.1s\n",
      "[Parallel(n_jobs=4)]: Done   4 tasks      | elapsed:    2.1s\n",
      "[Parallel(n_jobs=4)]: Done   5 tasks      | elapsed:    2.1s\n",
      "[Parallel(n_jobs=4)]: Done   6 tasks      | elapsed:    2.1s\n",
      "[Parallel(n_jobs=4)]: Done   7 tasks      | elapsed:    2.1s\n",
      "[Parallel(n_jobs=4)]: Done   8 tasks      | elapsed:    2.2s\n",
      "[Parallel(n_jobs=4)]: Done   9 tasks      | elapsed:    2.2s\n",
      "[Parallel(n_jobs=4)]: Done  10 tasks      | elapsed:    2.2s\n",
      "[Parallel(n_jobs=4)]: Done  11 tasks      | elapsed:    2.2s\n",
      "[Parallel(n_jobs=4)]: Done  12 tasks      | elapsed:    2.2s\n",
      "[Parallel(n_jobs=4)]: Done  13 tasks      | elapsed:    2.2s\n",
      "[Parallel(n_jobs=4)]: Done  14 tasks      | elapsed:    2.2s\n",
      "[Parallel(n_jobs=4)]: Done  15 tasks      | elapsed:    2.2s\n",
      "[Parallel(n_jobs=4)]: Done  16 tasks      | elapsed:    2.2s\n",
      "[Parallel(n_jobs=4)]: Done  17 tasks      | elapsed:    2.2s\n",
      "[Parallel(n_jobs=4)]: Done  18 tasks      | elapsed:    2.2s\n",
      "[Parallel(n_jobs=4)]: Done  19 tasks      | elapsed:  7.1min\n",
      "[Parallel(n_jobs=4)]: Done  20 tasks      | elapsed:  7.1min\n",
      "[Parallel(n_jobs=4)]: Done  21 tasks      | elapsed:  7.2min\n",
      "[Parallel(n_jobs=4)]: Done  22 tasks      | elapsed:  7.2min\n",
      "[Parallel(n_jobs=4)]: Done  23 tasks      | elapsed:  7.2min\n",
      "[Parallel(n_jobs=4)]: Done  24 tasks      | elapsed: 13.0min\n",
      "[Parallel(n_jobs=4)]: Done  25 tasks      | elapsed: 13.0min\n",
      "[Parallel(n_jobs=4)]: Done  26 tasks      | elapsed: 13.0min\n",
      "[Parallel(n_jobs=4)]: Done  27 tasks      | elapsed: 13.0min\n",
      "[Parallel(n_jobs=4)]: Done  28 tasks      | elapsed: 13.0min\n",
      "[Parallel(n_jobs=4)]: Done  29 tasks      | elapsed: 13.0min\n",
      "[Parallel(n_jobs=4)]: Done  30 tasks      | elapsed: 13.0min\n",
      "[Parallel(n_jobs=4)]: Done  31 tasks      | elapsed: 13.0min\n",
      "[Parallel(n_jobs=4)]: Done  32 tasks      | elapsed: 13.0min\n",
      "[Parallel(n_jobs=4)]: Done  33 tasks      | elapsed: 13.0min\n",
      "[Parallel(n_jobs=4)]: Done  34 tasks      | elapsed: 13.0min\n",
      "[Parallel(n_jobs=4)]: Done  35 tasks      | elapsed: 13.0min\n",
      "[Parallel(n_jobs=4)]: Done  36 tasks      | elapsed: 13.0min\n",
      "[Parallel(n_jobs=4)]: Done  37 tasks      | elapsed: 13.0min\n",
      "[Parallel(n_jobs=4)]: Done  38 tasks      | elapsed: 13.0min\n",
      "[Parallel(n_jobs=4)]: Done  42 out of  45 | elapsed: 13.0min remaining:   55.7s\n",
      "[Parallel(n_jobs=4)]: Done  45 out of  45 | elapsed: 13.0min finished\n",
      "[Parallel(n_jobs=4)]: Using backend LokyBackend with 4 concurrent workers.\n",
      "[Parallel(n_jobs=4)]: Done   1 tasks      | elapsed:    0.2s\n",
      "[Parallel(n_jobs=4)]: Batch computation too fast (0.1533s.) Setting batch_size=2.\n",
      "[Parallel(n_jobs=4)]: Done   2 tasks      | elapsed:    0.2s\n",
      "[Parallel(n_jobs=4)]: Done   3 tasks      | elapsed:    0.2s\n",
      "[Parallel(n_jobs=4)]: Done   4 tasks      | elapsed:  5.0min\n",
      "[Parallel(n_jobs=4)]: Done   5 tasks      | elapsed:  5.0min\n",
      "[Parallel(n_jobs=4)]: Done   6 tasks      | elapsed:  5.0min\n",
      "[Parallel(n_jobs=4)]: Done   7 tasks      | elapsed:  5.0min\n",
      "[Parallel(n_jobs=4)]: Done   8 tasks      | elapsed:  9.7min\n",
      "[Parallel(n_jobs=4)]: Done  10 tasks      | elapsed:  9.7min\n",
      "[Parallel(n_jobs=4)]: Batch computation too slow (583.1235s.) Setting batch_size=1.\n",
      "[Parallel(n_jobs=4)]: Done  12 tasks      | elapsed: 14.6min\n",
      "[Parallel(n_jobs=4)]: Done  14 tasks      | elapsed: 14.6min\n",
      "[Parallel(n_jobs=4)]: Done  16 tasks      | elapsed: 19.4min\n",
      "[Parallel(n_jobs=4)]: Done  18 tasks      | elapsed: 19.4min\n"
     ]
    }
   ],
   "source": [
    "%run cache_dir/synthesis.py run"
   ]
  },
  {
   "cell_type": "code",
   "execution_count": null,
   "metadata": {
    "ExecuteTime": {
     "start_time": "2018-09-07T13:01:04.729Z"
    },
    "scrolled": false
   },
   "outputs": [],
   "source": [
    "%run cache_dir/synthesis.py plot"
   ]
  },
  {
   "cell_type": "markdown",
   "metadata": {},
   "source": [
    "\n",
    "tester:\n",
    "- l0 sparseness avec MP et OMP\n",
    "\n",
    "## Version used"
   ]
  },
  {
   "cell_type": "code",
   "execution_count": null,
   "metadata": {
    "ExecuteTime": {
     "start_time": "2018-09-07T13:01:04.732Z"
    }
   },
   "outputs": [],
   "source": [
    "# %load_ext version_information\n",
    "%version_information numpy, shl_scripts, pandas"
   ]
  }
 ],
 "metadata": {
  "kernelspec": {
   "display_name": "Python 3",
   "language": "python",
   "name": "python3"
  },
  "language_info": {
   "codemirror_mode": {
    "name": "ipython",
    "version": 3
   },
   "file_extension": ".py",
   "mimetype": "text/x-python",
   "name": "python",
   "nbconvert_exporter": "python",
   "pygments_lexer": "ipython3",
   "version": "3.6.5"
  },
  "toc": {
   "base_numbering": 1,
   "nav_menu": {
    "height": "99px",
    "width": "252px"
   },
   "number_sections": true,
   "sideBar": true,
   "skip_h1_title": false,
   "title_cell": "Table of Contents",
   "title_sidebar": "Contents",
   "toc_cell": false,
   "toc_position": {},
   "toc_section_display": "block",
   "toc_window_display": false
  }
 },
 "nbformat": 4,
 "nbformat_minor": 2
}
