{
 "cells": [
  {
   "cell_type": "raw",
   "metadata": {},
   "source": [
    "import time\n",
    "time.sleep(32*3600)"
   ]
  },
  {
   "cell_type": "markdown",
   "metadata": {},
   "source": [
    "# Synthesis of all algorithms\n"
   ]
  },
  {
   "cell_type": "code",
   "execution_count": 1,
   "metadata": {
    "ExecuteTime": {
     "end_time": "2018-10-02T07:01:05.079637Z",
     "start_time": "2018-10-02T07:01:05.065945Z"
    }
   },
   "outputs": [],
   "source": [
    "%load_ext autoreload\n",
    "%autoreload 2"
   ]
  },
  {
   "cell_type": "code",
   "execution_count": 2,
   "metadata": {
    "ExecuteTime": {
     "end_time": "2018-10-02T07:01:05.446067Z",
     "start_time": "2018-10-02T07:01:05.082030Z"
    }
   },
   "outputs": [],
   "source": [
    "%matplotlib inline"
   ]
  },
  {
   "cell_type": "markdown",
   "metadata": {},
   "source": [
    "## a synthesis\n",
    "\n"
   ]
  },
  {
   "cell_type": "code",
   "execution_count": 3,
   "metadata": {},
   "outputs": [],
   "source": [
    "%mkdir -p cache_dir"
   ]
  },
  {
   "cell_type": "code",
   "execution_count": 4,
   "metadata": {
    "ExecuteTime": {
     "end_time": "2018-10-02T07:01:05.464301Z",
     "start_time": "2018-10-02T07:01:05.448798Z"
    }
   },
   "outputs": [
    {
     "name": "stdout",
     "output_type": "stream",
     "text": [
      "Writing cache_dir/synthesis.py\n"
     ]
    }
   ],
   "source": [
    "%%writefile cache_dir/synthesis.py\n",
    "\n",
    "try:\n",
    "    import sys\n",
    "    command = sys.argv[1]\n",
    "except:\n",
    "    command = 'run'\n",
    "\n",
    "metatag = 'synthesis'\n",
    "from shl_scripts.shl_experiments import SHL_set\n",
    "verbose = 0\n",
    "\n",
    "homeo_methods = ['None', 'HAP']\n",
    "homeo_methods = ['None', 'EMP', 'EXP', 'HAP']\n",
    "homeo_methods = ['None', 'EMP', 'EXP', 'HAP', 'HEH']\n",
    "homeo_methods = ['None', 'EMP', 'HAP', 'eHAP', 'HEH', 'OLS']\n",
    "homeo_methods = ['None', 'HAP', 'OLS']\n",
    "\n",
    "\n",
    "variables = ['alpha_homeo']\n",
    "variables = ['eta', 'alpha_homeo']\n",
    "variables = ['eta', 'alpha_homeo', 'eta_homeo', 'l0_sparseness', 'n_dictionary']\n",
    "variables = ['eta', 'alpha_homeo', 'eta_homeo']\n",
    "variables = ['eta', 'eta_homeo', 'l0_sparseness', 'alpha_MP']\n",
    "variables = ['eta', 'eta_homeo', 'alpha_homeo', 'epsilon', 'beta1', 'beta2', 'batch_size', # 'eta_precision', \n",
    "             'alpha_MP', 'l0_sparseness', ]\n",
    "\n",
    "display_variables = ['error', 'logL', 'cputime']\n",
    "display_variables = ['error', 'logL', 'perror', 'perror']\n",
    "display_variables = ['F']\n",
    "\n",
    "list_figures = ['show_dico', 'time_plot_MC']\n",
    "list_figures = []\n",
    "list_figures = ['show_dico']\n",
    "\n",
    "try:\n",
    "    n_jobs = int(sys.argv[2])\n",
    "    print('n_jobs=', n_jobs)\n",
    "except:\n",
    "    n_jobs = 4\n",
    "    n_jobs = 9\n",
    "    n_jobs = 10\n",
    "    n_jobs = 1\n",
    "    #n_jobs = 35\n",
    "    n_jobs = 21\n",
    "\n",
    "experiments = SHL_set(opts={}, tag=metatag)\n",
    "\n",
    "if command == 'run':\n",
    "    for tag in homeo_methods:\n",
    "        default = dict(verbose=verbose, homeo_method=tag)\n",
    "        experiments = SHL_set(default, tag=metatag + '_' + tag)\n",
    "        experiments.run(variables=variables, n_jobs=n_jobs)\n",
    "    \n",
    "if command == 'plot':\n",
    "    import matplotlib.pyplot as plt\n",
    "\n",
    "    for variable in variables:\n",
    "\n",
    "        for tag in homeo_methods:\n",
    "            print('homeo_method=', tag)\n",
    "            default = dict(verbose=verbose, homeo_method=tag)\n",
    "            experiments = SHL_set(default, tag=metatag + '_' + tag)\n",
    "            experiments.scan(variable=variable, list_figures=list_figures, display='', fig_kwargs={'dim_graph':(2, 15)}, verbose=1)\n",
    "        \n",
    "        for display_variable in display_variables:\n",
    "\n",
    "            fig, ax = None, None\n",
    "            for tag in homeo_methods:\n",
    "                default = dict(verbose=verbose, homeo_method=tag)\n",
    "                experiments = SHL_set(default, tag=metatag + '_' + tag)\n",
    "                fig, ax = experiments.scan(variable=variable, list_figures=[], display='dynamic', fig=fig, ax=ax, label=tag, display_variable=display_variable)\n",
    "            ax.legend()\n",
    "            plt.show()            \n",
    "        \n",
    "            fig, ax = None, None\n",
    "            for tag in homeo_methods:\n",
    "                default = dict(verbose=verbose, homeo_method=tag)\n",
    "                experiments = SHL_set(default, tag=metatag + '_' + tag)\n",
    "                fig, ax = experiments.scan(variable=variable, list_figures=[], display='final', fig=fig, ax=ax, label=tag, display_variable=display_variable)\n",
    "            ax.legend()\n",
    "            plt.show()            "
   ]
  },
  {
   "cell_type": "code",
   "execution_count": 5,
   "metadata": {
    "ExecuteTime": {
     "end_time": "2018-10-02T07:01:05.595857Z",
     "start_time": "2018-10-02T07:01:05.465838Z"
    }
   },
   "outputs": [],
   "source": [
    "%run cache_dir/synthesis.py load"
   ]
  },
  {
   "cell_type": "code",
   "execution_count": 6,
   "metadata": {
    "ExecuteTime": {
     "end_time": "2018-10-02T07:01:05.610826Z",
     "start_time": "2018-10-02T07:01:05.597256Z"
    }
   },
   "outputs": [
    {
     "data": {
      "text/plain": [
       "('cache_dir', 'synthesis')"
      ]
     },
     "execution_count": 6,
     "metadata": {},
     "output_type": "execute_result"
    }
   ],
   "source": [
    "experiments.shl.cache_dir, metatag"
   ]
  },
  {
   "cell_type": "code",
   "execution_count": 7,
   "metadata": {
    "ExecuteTime": {
     "end_time": "2018-10-02T07:01:05.883949Z",
     "start_time": "2018-10-02T07:01:05.612195Z"
    }
   },
   "outputs": [
    {
     "name": "stdout",
     "output_type": "stream",
     "text": [
      "ls: cache_dir/synthesis*lock*: No such file or directory\n"
     ]
    }
   ],
   "source": [
    "!ls -l {experiments.shl.cache_dir}/{metatag}*lock*\n",
    "!rm -fr  {experiments.shl.cache_dir}/{metatag}*lock*"
   ]
  },
  {
   "cell_type": "code",
   "execution_count": 8,
   "metadata": {
    "ExecuteTime": {
     "end_time": "2018-10-02T07:01:06.049789Z",
     "start_time": "2018-10-02T07:01:05.889120Z"
    }
   },
   "outputs": [
    {
     "name": "stdout",
     "output_type": "stream",
     "text": [
      "-rw-r--r--  1 laurentperrinet  staff   2.7K Jul 19 10:07 cache_dir/synthesis.py\n"
     ]
    }
   ],
   "source": [
    "!ls -lh {experiments.shl.cache_dir}/{metatag}*\n"
   ]
  },
  {
   "cell_type": "raw",
   "metadata": {},
   "source": [
    "# this removes cached files and restarts computations\n",
    "!rm -fr {experiments.shl.cache_dir}/{metatag}*pkl\n",
    "#!rm -fr data_cacyhe/data_data.npy"
   ]
  },
  {
   "cell_type": "raw",
   "metadata": {},
   "source": [
    "%%bash\n",
    "\n",
    "rsync -av -u ../shl_scripts laurent@10.164.7.21:science/SHL_master/\n",
    "scp cache_dir/synthesis.py laurent@10.164.7.21:science/SHL_master/probe/cache_dir\n",
    "#ssh laurent@10.164.7.21 'cd ~/science/SHL_master/probe/ ; rm -fr cache_dir/synthesis_\\*'\n",
    "ssh laurent@10.164.7.21 'cd ~/science/SHL_master/probe/ ; ipython3 cache_dir/synthesis.py'\n",
    "rsync -av --exclude \\*lock\\* laurent@10.164.7.21:science/SHL_master/probe/cache_dir/synthesis_\\* cache_dir"
   ]
  },
  {
   "cell_type": "markdown",
   "metadata": {},
   "source": [
    "## CPU time as a function of the number of dictionary elements\n",
    "\n"
   ]
  },
  {
   "cell_type": "code",
   "execution_count": null,
   "metadata": {
    "ExecuteTime": {
     "end_time": "2018-10-02T07:01:09.696353Z",
     "start_time": "2018-10-02T07:01:06.052664Z"
    }
   },
   "outputs": [
    {
     "name": "stdout",
     "output_type": "stream",
     "text": [
      "n_jobs= 1\n"
     ]
    }
   ],
   "source": [
    "%run cache_dir/synthesis.py run 1"
   ]
  },
  {
   "cell_type": "code",
   "execution_count": null,
   "metadata": {
    "ExecuteTime": {
     "end_time": "2018-10-02T07:13:43.332079Z",
     "start_time": "2018-10-02T07:01:09.698544Z"
    }
   },
   "outputs": [],
   "source": [
    "%run cache_dir/synthesis.py plot"
   ]
  },
  {
   "cell_type": "markdown",
   "metadata": {},
   "source": [
    "\n",
    "tester:\n",
    "- l0 sparseness avec MP et OMP\n",
    "\n",
    "## Version used"
   ]
  },
  {
   "cell_type": "markdown",
   "metadata": {
    "ExecuteTime": {
     "end_time": "2018-10-02T07:13:43.418017Z",
     "start_time": "2018-10-02T07:13:43.346069Z"
    }
   },
   "source": [
    "## %load_ext version_information\n",
    "%version_information shl_scripts, numpy, shl_scripts, pandas, matplotlib"
   ]
  }
 ],
 "metadata": {
  "kernelspec": {
   "display_name": "Python 3",
   "language": "python",
   "name": "python3"
  },
  "language_info": {
   "codemirror_mode": {
    "name": "ipython",
    "version": 3
   },
   "file_extension": ".py",
   "mimetype": "text/x-python",
   "name": "python",
   "nbconvert_exporter": "python",
   "pygments_lexer": "ipython3",
   "version": "3.7.4"
  },
  "toc": {
   "base_numbering": 1,
   "nav_menu": {
    "height": "99px",
    "width": "252px"
   },
   "number_sections": true,
   "sideBar": true,
   "skip_h1_title": false,
   "title_cell": "Table of Contents",
   "title_sidebar": "Contents",
   "toc_cell": false,
   "toc_position": {},
   "toc_section_display": "block",
   "toc_window_display": false
  }
 },
 "nbformat": 4,
 "nbformat_minor": 4
}
