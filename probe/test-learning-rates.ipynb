{
 "cells": [
  {
   "cell_type": "markdown",
   "metadata": {},
   "source": [
    "# Sparse Hebbian Learning : testing two different learning rates strategies"
   ]
  },
  {
   "cell_type": "code",
   "execution_count": null,
   "metadata": {
    "ExecuteTime": {
     "end_time": "2018-03-06T15:55:23.581059Z",
     "start_time": "2018-03-06T15:55:23.567767Z"
    }
   },
   "outputs": [],
   "source": [
    "%load_ext autoreload\n",
    "%autoreload 2"
   ]
  },
  {
   "cell_type": "code",
   "execution_count": null,
   "metadata": {
    "ExecuteTime": {
     "end_time": "2018-03-06T15:55:23.873369Z",
     "start_time": "2018-03-06T15:55:23.583152Z"
    }
   },
   "outputs": [],
   "source": [
    "%matplotlib inline\n",
    "import matplotlib.pyplot as plt\n",
    "import numpy as np\n",
    "np.set_printoptions(precision=2, suppress=True)\n",
    "from copy import deepcopy"
   ]
  },
  {
   "cell_type": "code",
   "execution_count": null,
   "metadata": {
    "ExecuteTime": {
     "end_time": "2018-03-06T15:55:23.984927Z",
     "start_time": "2018-03-06T15:55:23.875389Z"
    }
   },
   "outputs": [],
   "source": [
    "from shl_scripts.shl_experiments import SHL\n",
    "\n",
    "list_figures = ['show_dico']#, 'rec_error', 'plot_variance',  'plot_variance_histogram',  'time_plot_prob',  'time_plot_kurt',  'time_plot_var']\n",
    "DEBUG_DOWNSCALE, verbose = 10, 0\n",
    "DEBUG_DOWNSCALE, verbose = 10, 100\n",
    "DEBUG_DOWNSCALE, verbose = 1, 10\n",
    "\n",
    "tag = 'learning-rates'\n",
    "opts = dict(DEBUG_DOWNSCALE=DEBUG_DOWNSCALE, n_iter=2**10, record_each=16, \n",
    "            homeo_method='HAP', verbose=verbose)\n",
    "shl = SHL(**opts)\n",
    "data = shl.get_data(matname='data')"
   ]
  },
  {
   "cell_type": "raw",
   "metadata": {
    "ExecuteTime": {
     "end_time": "2018-01-31T10:31:35.763810Z",
     "start_time": "2018-01-31T10:31:35.438062Z"
    }
   },
   "source": [
    "!rm -fr {shl.data_cache}/{tag}*lock*\n",
    "!rm -fr {shl.data_cache}/{tag}*"
   ]
  },
  {
   "cell_type": "raw",
   "metadata": {
    "ExecuteTime": {
     "end_time": "2018-01-24T14:01:59.596156Z",
     "start_time": "2018-01-24T14:01:59.436177Z"
    }
   },
   "source": [
    "%ls -ltr {shl.data_cache}"
   ]
  },
  {
   "cell_type": "markdown",
   "metadata": {},
   "source": [
    "## fixed learning rate"
   ]
  },
  {
   "cell_type": "code",
   "execution_count": null,
   "metadata": {
    "ExecuteTime": {
     "end_time": "2018-03-06T15:58:39.327343Z",
     "start_time": "2018-03-06T15:55:23.986645Z"
    },
    "scrolled": false
   },
   "outputs": [],
   "source": [
    "matname = tag + '_fixed'\n",
    "shl = SHL(eta=0.01, beta1=0., **deepcopy(opts))\n",
    "dico_fixed = shl.learn_dico(data=data, matname=matname, list_figures=list_figures)"
   ]
  },
  {
   "cell_type": "markdown",
   "metadata": {},
   "source": [
    "## ADAM\n",
    "\n",
    "See https://arxiv.org/pdf/1412.6980.pdf"
   ]
  },
  {
   "cell_type": "code",
   "execution_count": null,
   "metadata": {
    "ExecuteTime": {
     "end_time": "2018-03-06T16:02:14.802700Z",
     "start_time": "2018-03-06T15:58:39.329362Z"
    },
    "scrolled": false
   },
   "outputs": [],
   "source": [
    "matname = tag + '_ADAM'\n",
    "shl = SHL(eta=.002, beta1=.9, beta2=.999, epsilon=1.e-8, **deepcopy(opts))\n",
    "dico_adam = shl.learn_dico(data=data, matname=matname, list_figures=list_figures)"
   ]
  },
  {
   "cell_type": "code",
   "execution_count": null,
   "metadata": {
    "ExecuteTime": {
     "end_time": "2018-03-06T16:02:15.310400Z",
     "start_time": "2018-03-06T16:02:14.805242Z"
    },
    "scrolled": false
   },
   "outputs": [],
   "source": [
    "for variable in ['error', 'logL']:\n",
    "    fig_error, ax_error = None, None\n",
    "    fig_error, ax_error = shl.time_plot(dico_fixed, variable=variable, fig=fig_error, ax=ax_error, color='blue', label='fixed')\n",
    "    fig_error, ax_error = shl.time_plot(dico_adam, variable=variable, fig=fig_error, ax=ax_error, color='red', label='adam')\n",
    "    #ax_error.set_ylim((0, .65))\n",
    "    ax_error.legend(loc='best')\n",
    "    plt.show();"
   ]
  },
  {
   "cell_type": "markdown",
   "metadata": {},
   "source": [
    "## Version used"
   ]
  },
  {
   "cell_type": "code",
   "execution_count": null,
   "metadata": {
    "ExecuteTime": {
     "end_time": "2018-03-06T16:02:15.362994Z",
     "start_time": "2018-03-06T16:02:15.312901Z"
    }
   },
   "outputs": [],
   "source": [
    "%load_ext version_information\n",
    "%version_information numpy, shl_scripts, pandas"
   ]
  }
 ],
 "metadata": {
  "kernelspec": {
   "display_name": "Python 3",
   "language": "python",
   "name": "python3"
  },
  "language_info": {
   "codemirror_mode": {
    "name": "ipython",
    "version": 3
   },
   "file_extension": ".py",
   "mimetype": "text/x-python",
   "name": "python",
   "nbconvert_exporter": "python",
   "pygments_lexer": "ipython3",
   "version": "3.6.4"
  },
  "toc": {
   "nav_menu": {},
   "number_sections": true,
   "sideBar": true,
   "skip_h1_title": false,
   "title_cell": "Table of Contents",
   "title_sidebar": "Contents",
   "toc_cell": false,
   "toc_position": {},
   "toc_section_display": "block",
   "toc_window_display": false
  }
 },
 "nbformat": 4,
 "nbformat_minor": 2
}
