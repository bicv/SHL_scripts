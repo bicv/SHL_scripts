{
 "cells": [
  {
   "cell_type": "markdown",
   "metadata": {},
   "source": [
    "# Sparse Hebbian Learning: basics\n",
    "\n",
    "We are interested here in learning the \"optimal\" components of a set of images (let's say some \"natural\", usual images). As there is no supervisor to guide the learning, this is called unsupervised learning. Our basic hypothesis to find the best (\"optimal\") components will be to assume that *a priori* the most sparse is more plausible. We will implement the derived algorithm in this set of scripts.\n",
    "\n",
    "Here, we will show the basic operations that are implemented in this package. "
   ]
  },
  {
   "cell_type": "code",
   "execution_count": 1,
   "metadata": {
    "ExecuteTime": {
     "end_time": "2018-09-26T11:07:03.014432Z",
     "start_time": "2018-09-26T11:07:02.989731Z"
    }
   },
   "outputs": [],
   "source": [
    "%load_ext autoreload\n",
    "%autoreload 2"
   ]
  },
  {
   "cell_type": "code",
   "execution_count": 2,
   "metadata": {
    "ExecuteTime": {
     "end_time": "2018-09-26T11:07:03.401999Z",
     "start_time": "2018-09-26T11:07:03.017179Z"
    }
   },
   "outputs": [],
   "source": [
    "%matplotlib inline\n",
    "import matplotlib.pyplot as plt\n",
    "import numpy as np\n",
    "np.set_printoptions(precision=4, suppress=True)"
   ]
  },
  {
   "cell_type": "markdown",
   "metadata": {},
   "source": [
    "## experiments\n",
    "\n",
    "To test and control for the role of different parameters, we will have a first object (in the [shl_experiments.py](https://github.com/bicv/SparseHebbianLearning/blob/master/shl_scripts/shl_experiments.py) script) that controls a learning experiment. It contains all relevant parameters, but can also keep a trace of the history of some statistics. This is useful to compare the relative efficiency of the different solutions.\n"
   ]
  },
  {
   "cell_type": "code",
   "execution_count": 3,
   "metadata": {
    "ExecuteTime": {
     "end_time": "2018-09-26T11:07:03.427279Z",
     "start_time": "2018-09-26T11:07:03.404953Z"
    }
   },
   "outputs": [],
   "source": [
    "matname = 'basics'"
   ]
  },
  {
   "cell_type": "code",
   "execution_count": 4,
   "metadata": {
    "ExecuteTime": {
     "end_time": "2018-09-26T11:07:03.482357Z",
     "start_time": "2018-09-26T11:07:03.429301Z"
    }
   },
   "outputs": [],
   "source": [
    "from shl_scripts.shl_experiments import SHL"
   ]
  },
  {
   "cell_type": "code",
   "execution_count": 5,
   "metadata": {
    "ExecuteTime": {
     "end_time": "2018-09-26T11:07:03.509855Z",
     "start_time": "2018-09-26T11:07:03.485039Z"
    },
    "scrolled": false
   },
   "outputs": [
    {
     "name": "stdout",
     "output_type": "stream",
     "text": [
      "Help on SHL in module shl_scripts.shl_experiments object:\n",
      "\n",
      "class SHL(builtins.object)\n",
      " |  Base class to define SHL experiments:\n",
      " |      - initialization\n",
      " |      - coding and learning\n",
      " |      - visualization\n",
      " |      - quantitative analysis\n",
      " |  \n",
      " |  Methods defined here:\n",
      " |  \n",
      " |  __init__(self, height=256, width=256, patch_width=16, N_patches=65536, datapath='../database/', name_database='kodakdb', do_mask=False, do_bandpass=True, over_patches=16, patch_ds=1, n_dictionary=441, learning_algorithm='mp', fit_tol=None, l0_sparseness=14, alpha_MP=0.9, one_over_F=True, n_iter=8193, eta=0.007, beta1=0.9, beta2=0.999, epsilon=1e-08, do_precision=False, eta_precision=0.0005, homeo_method='HEH', eta_homeo=0.02, alpha_homeo=0.08, C=3.0, nb_quant=128, P_cum=None, do_sym=False, seed=42, patch_norm=False, batch_size=32, record_each=64, record_num_batches=1024, n_image=None, DEBUG_DOWNSCALE=1, verbose=0, cache_dir='cache_dir')\n",
      " |      Initialize self.  See help(type(self)) for accurate signature.\n",
      " |  \n",
      " |  code(self, data, dico, coding_algorithm='mp', matname=None, P_cum=None, fit_tol=None, l0_sparseness=None)\n",
      " |  \n",
      " |  decode(self, sparse_code, dico)\n",
      " |  \n",
      " |  get_data(self, matname=None, patch_width=None)\n",
      " |  \n",
      " |  learn_dico(self, dictionary=None, precision=None, P_cum=None, data=None, matname=None, record_each=None, folder_exp=None, list_figures=[], fig_kwargs={'fig': None, 'ax': None})\n",
      " |  \n",
      " |  plot_error(self, dico, **fig_kwargs)\n",
      " |  \n",
      " |  plot_variance(self, sparse_code, **fig_kwargs)\n",
      " |  \n",
      " |  plot_variance_histogram(self, sparse_code, **fig_kwargs)\n",
      " |  \n",
      " |  show_Pcum(self, dico, title=None, verbose=False, n_yticks=21, alpha=0.05, c='g', **fig_kwargs)\n",
      " |  \n",
      " |  show_dico(self, dico, data=None, title=None, **fig_kwargs)\n",
      " |  \n",
      " |  show_dico_in_order(self, dico, data=None, title=None, **fig_kwargs)\n",
      " |  \n",
      " |  time_plot(self, dico, variable='kurt', N_nosample=1, **fig_kwargs)\n",
      " |  \n",
      " |  ----------------------------------------------------------------------\n",
      " |  Data descriptors defined here:\n",
      " |  \n",
      " |  __dict__\n",
      " |      dictionary for instance variables (if defined)\n",
      " |  \n",
      " |  __weakref__\n",
      " |      list of weak references to the object (if defined)\n",
      "\n"
     ]
    }
   ],
   "source": [
    "shl = SHL(verbose=10)\n",
    "help(shl)"
   ]
  },
  {
   "cell_type": "code",
   "execution_count": 6,
   "metadata": {
    "ExecuteTime": {
     "end_time": "2018-09-26T11:07:03.659828Z",
     "start_time": "2018-09-26T11:07:03.512906Z"
    }
   },
   "outputs": [
    {
     "name": "stdout",
     "output_type": "stream",
     "text": [
      "-rw-r--r--  1 lolo  staff  134185088 Sep 26 13:05 cache_dir/basics_data.npy\r\n",
      "-rw-r--r--  1 lolo  staff          0 Sep 26 13:05 cache_dir/basics_dico.pkl_lock\r\n",
      "-rw-r--r--  1 lolo  staff          0 Sep 26 13:05 cache_dir/basics_dico.pkl_lock_pid-4572_host-ada\r\n"
     ]
    }
   ],
   "source": [
    "!ls -l {shl.cache_dir}/{matname}*"
   ]
  },
  {
   "cell_type": "code",
   "execution_count": 7,
   "metadata": {
    "ExecuteTime": {
     "end_time": "2018-09-26T11:07:03.933420Z",
     "start_time": "2018-09-26T11:07:03.662779Z"
    }
   },
   "outputs": [
    {
     "name": "stdout",
     "output_type": "stream",
     "text": [
      "ls: cache_dir/basics*: No such file or directory\r\n"
     ]
    }
   ],
   "source": [
    "!rm {shl.cache_dir}/{matname}*pkl*\n",
    "!ls -l {shl.cache_dir}/{matname}*"
   ]
  },
  {
   "cell_type": "code",
   "execution_count": 8,
   "metadata": {
    "ExecuteTime": {
     "end_time": "2018-09-26T11:07:20.870903Z",
     "start_time": "2018-09-26T11:07:03.936323Z"
    },
    "scrolled": false
   },
   "outputs": [
    {
     "name": "stdout",
     "output_type": "stream",
     "text": [
      "Extracting data..No cache found cache_dir/basics_data: Extracting data... Extracting data..bird08.png, yellowleaves39.png, rocky10.png, bittern62.png, flowerhill29.png, clouds43.png, goldwater67.png, calcoast09.png, yose05.png, woods54.png, koala52.png, bora04.png, flowers37.png, yose07.png, cattails70.png, hibiscus30.png, cucorn50.png, geyser27.png, reflection63.png, craterlake12.png, Data is of shape : (65520, 256) - done in 16.25s.\n",
      "Data is of shape : (65520, 256) - done in 16.78s.\n",
      "number of patches, size of patches =  (65520, 256)\n",
      "average of patches =  -4.193836974888984e-19  +/-  0.01106396040570928\n",
      "average energy of data =  4.846976510135289 +/- 1.457199891149408\n"
     ]
    }
   ],
   "source": [
    "data = shl.get_data(matname=matname)\n",
    "print('number of patches, size of patches = ', data.shape)\n",
    "print('average of patches = ', data.mean(), ' +/- ', data.mean(axis=1).std())\n",
    "SE = np.sqrt(np.sum(data**2, axis=1))\n",
    "print('average energy of data = ', SE.mean(), '+/-', SE.std())"
   ]
  },
  {
   "cell_type": "markdown",
   "metadata": {},
   "source": [
    "## learning\n",
    "\n",
    "The actual learning is done in a second object (here ``dico``) from which we can access another set of properties and functions  (see the [shl_learn.py](https://github.com/bicv/SparseHebbianLearning/blob/master/shl_scripts/shl_learn.py) script):"
   ]
  },
  {
   "cell_type": "code",
   "execution_count": null,
   "metadata": {
    "ExecuteTime": {
     "start_time": "2018-09-26T11:07:02.992Z"
    },
    "scrolled": false
   },
   "outputs": [
    {
     "name": "stdout",
     "output_type": "stream",
     "text": [
      "No cache found cache_dir/basics_dico.pkl: Learning the dictionary with algo = mp \n",
      " Training on 65520 patches\n",
      "Iteration   1 /   8193 (elapsed time:   0s,   0mn   0s)\n",
      "Iteration  65 /   8193 (elapsed time:  14s,   0mn  14s)\n",
      "Iteration  129 /   8193 (elapsed time:  28s,   0mn  28s)\n",
      "Iteration  193 /   8193 (elapsed time:  42s,   0mn  42s)\n",
      "Iteration  257 /   8193 (elapsed time:  56s,   0mn  56s)\n",
      "Iteration  321 /   8193 (elapsed time:  70s,   1mn  10s)\n",
      "Iteration  385 /   8193 (elapsed time:  83s,   1mn  23s)\n",
      "Iteration  449 /   8193 (elapsed time:  98s,   1mn  38s)\n",
      "Iteration  513 /   8193 (elapsed time:  113s,   1mn  53s)\n",
      "Iteration  577 /   8193 (elapsed time:  127s,   2mn   7s)\n",
      "Iteration  641 /   8193 (elapsed time:  141s,   2mn  21s)\n",
      "Iteration  705 /   8193 (elapsed time:  156s,   2mn  36s)\n",
      "Iteration  769 /   8193 (elapsed time:  171s,   2mn  51s)\n",
      "Iteration  833 /   8193 (elapsed time:  187s,   3mn   7s)\n",
      "Iteration  897 /   8193 (elapsed time:  201s,   3mn  21s)\n",
      "Iteration  961 /   8193 (elapsed time:  215s,   3mn  35s)\n",
      "Iteration  1025 /   8193 (elapsed time:  230s,   3mn  50s)\n",
      "Iteration  1089 /   8193 (elapsed time:  244s,   4mn   4s)\n",
      "Iteration  1153 /   8193 (elapsed time:  258s,   4mn  18s)\n",
      "Iteration  1217 /   8193 (elapsed time:  272s,   4mn  32s)\n",
      "Iteration  1281 /   8193 (elapsed time:  286s,   4mn  46s)\n",
      "Iteration  1345 /   8193 (elapsed time:  298s,   4mn  58s)\n",
      "Iteration  1409 /   8193 (elapsed time:  313s,   5mn  13s)\n",
      "Iteration  1473 /   8193 (elapsed time:  326s,   5mn  26s)\n",
      "Iteration  1537 /   8193 (elapsed time:  340s,   5mn  40s)\n",
      "Iteration  1601 /   8193 (elapsed time:  355s,   5mn  55s)\n",
      "Iteration  1665 /   8193 (elapsed time:  369s,   6mn   9s)\n",
      "Iteration  1729 /   8193 (elapsed time:  383s,   6mn  23s)\n",
      "Iteration  1793 /   8193 (elapsed time:  396s,   6mn  36s)\n",
      "Iteration  1857 /   8193 (elapsed time:  411s,   6mn  51s)\n",
      "Iteration  1921 /   8193 (elapsed time:  424s,   7mn   4s)\n",
      "Iteration  1985 /   8193 (elapsed time:  438s,   7mn  18s)\n",
      "Iteration  2049 /   8193 (elapsed time:  451s,   7mn  31s)\n",
      "Iteration  2113 /   8193 (elapsed time:  465s,   7mn  45s)\n",
      "Iteration  2177 /   8193 (elapsed time:  479s,   7mn  59s)\n",
      "Iteration  2241 /   8193 (elapsed time:  492s,   8mn  12s)\n",
      "Iteration  2305 /   8193 (elapsed time:  506s,   8mn  26s)\n",
      "Iteration  2369 /   8193 (elapsed time:  519s,   8mn  39s)\n",
      "Iteration  2433 /   8193 (elapsed time:  533s,   8mn  53s)\n",
      "Iteration  2497 /   8193 (elapsed time:  547s,   9mn   7s)\n",
      "Iteration  2561 /   8193 (elapsed time:  560s,   9mn  20s)\n",
      "Iteration  2625 /   8193 (elapsed time:  574s,   9mn  34s)\n",
      "Iteration  2689 /   8193 (elapsed time:  587s,   9mn  47s)\n",
      "Iteration  2753 /   8193 (elapsed time:  602s,  10mn   2s)\n",
      "Iteration  2817 /   8193 (elapsed time:  615s,  10mn  15s)\n",
      "Iteration  2881 /   8193 (elapsed time:  629s,  10mn  29s)\n",
      "Iteration  2945 /   8193 (elapsed time:  643s,  10mn  43s)\n",
      "Iteration  3009 /   8193 (elapsed time:  656s,  10mn  56s)\n",
      "Iteration  3073 /   8193 (elapsed time:  669s,  11mn   9s)\n",
      "Iteration  3137 /   8193 (elapsed time:  682s,  11mn  22s)\n",
      "Iteration  3201 /   8193 (elapsed time:  694s,  11mn  34s)\n",
      "Iteration  3265 /   8193 (elapsed time:  706s,  11mn  46s)\n",
      "Iteration  3329 /   8193 (elapsed time:  716s,  11mn  56s)\n",
      "Iteration  3393 /   8193 (elapsed time:  727s,  12mn   7s)\n",
      "Iteration  3457 /   8193 (elapsed time:  737s,  12mn  17s)\n",
      "Iteration  3521 /   8193 (elapsed time:  748s,  12mn  28s)\n",
      "Iteration  3585 /   8193 (elapsed time:  759s,  12mn  39s)\n",
      "Iteration  3649 /   8193 (elapsed time:  770s,  12mn  50s)\n",
      "Iteration  3713 /   8193 (elapsed time:  781s,  13mn   1s)\n",
      "Iteration  3777 /   8193 (elapsed time:  792s,  13mn  12s)\n",
      "Iteration  3841 /   8193 (elapsed time:  802s,  13mn  22s)\n",
      "Iteration  3905 /   8193 (elapsed time:  812s,  13mn  32s)\n",
      "Iteration  3969 /   8193 (elapsed time:  823s,  13mn  43s)\n",
      "Iteration  4033 /   8193 (elapsed time:  833s,  13mn  53s)\n",
      "Iteration  4097 /   8193 (elapsed time:  844s,  14mn   4s)\n",
      "Iteration  4161 /   8193 (elapsed time:  855s,  14mn  15s)\n",
      "Iteration  4225 /   8193 (elapsed time:  866s,  14mn  26s)\n",
      "Iteration  4289 /   8193 (elapsed time:  876s,  14mn  36s)\n",
      "Iteration  4353 /   8193 (elapsed time:  887s,  14mn  47s)\n",
      "Iteration  4417 /   8193 (elapsed time:  898s,  14mn  58s)\n",
      "Iteration  4481 /   8193 (elapsed time:  909s,  15mn   9s)\n",
      "Iteration  4545 /   8193 (elapsed time:  919s,  15mn  19s)\n",
      "Iteration  4609 /   8193 (elapsed time:  930s,  15mn  30s)\n",
      "Iteration  4673 /   8193 (elapsed time:  940s,  15mn  40s)\n",
      "Iteration  4737 /   8193 (elapsed time:  951s,  15mn  51s)\n",
      "Iteration  4801 /   8193 (elapsed time:  962s,  16mn   2s)\n",
      "Iteration  4865 /   8193 (elapsed time:  972s,  16mn  12s)\n",
      "Iteration  4929 /   8193 (elapsed time:  983s,  16mn  23s)\n",
      "Iteration  4993 /   8193 (elapsed time:  994s,  16mn  34s)\n",
      "Iteration  5057 /   8193 (elapsed time:  1005s,  16mn  45s)\n",
      "Iteration  5121 /   8193 (elapsed time:  1016s,  16mn  56s)\n",
      "Iteration  5185 /   8193 (elapsed time:  1026s,  17mn   6s)\n",
      "Iteration  5249 /   8193 (elapsed time:  1037s,  17mn  17s)\n",
      "Iteration  5313 /   8193 (elapsed time:  1047s,  17mn  27s)\n"
     ]
    }
   ],
   "source": [
    "list_figures = ['show_dico', 'time_plot_error', 'time_plot_logL', 'show_Pcum']#, 'plot_variance',  'plot_variance_histogram',  'time_plot_prob',  'time_plot_kurt',  'time_plot_var']\n",
    "dico = shl.learn_dico(data=data, list_figures=list_figures, matname=matname)"
   ]
  },
  {
   "cell_type": "code",
   "execution_count": null,
   "metadata": {
    "ExecuteTime": {
     "start_time": "2018-09-26T11:07:02.995Z"
    },
    "scrolled": false
   },
   "outputs": [],
   "source": [
    "help(dico)"
   ]
  },
  {
   "cell_type": "code",
   "execution_count": null,
   "metadata": {
    "ExecuteTime": {
     "start_time": "2018-09-26T11:07:02.998Z"
    }
   },
   "outputs": [],
   "source": [
    "print('size of dictionary = (number of filters, size of imagelets) = ', dico.dictionary.shape)\n",
    "print('average of filters = ',  dico.dictionary.mean(axis=1).mean(), \n",
    "      '+/-',  dico.dictionary.mean(axis=1).std())\n",
    "SE = np.sqrt(np.sum(dico.dictionary**2, axis=1))\n",
    "print('average energy of filters = ', SE.mean(), '+/-', SE.std())"
   ]
  },
  {
   "cell_type": "markdown",
   "metadata": {},
   "source": [
    "## coding\n",
    "\n",
    "The learning itself is done via a gradient descent but is highly dependent on the coding / decoding algorithm. This belongs to a another function (in the [shl_encode.py](https://github.com/bicv/SparseHebbianLearning/blob/master/shl_scripts/shl_encode.py) script)"
   ]
  },
  {
   "cell_type": "code",
   "execution_count": null,
   "metadata": {
    "ExecuteTime": {
     "start_time": "2018-09-26T11:07:03.002Z"
    }
   },
   "outputs": [],
   "source": [
    "sparse_code = shl.code(data, dico, matname=matname, l0_sparseness=45)\n",
    "print('number of codes, size of codewords = ', sparse_code.shape)\n",
    "print('average of codewords = ', sparse_code.mean())\n",
    "print('average energy of codewords = ', sparse_code.std(axis=0).mean())\n",
    "print('std of the average of individual patches = ', sparse_code.mean(axis=0).std())"
   ]
  },
  {
   "cell_type": "code",
   "execution_count": null,
   "metadata": {
    "ExecuteTime": {
     "start_time": "2018-09-26T11:07:03.005Z"
    }
   },
   "outputs": [],
   "source": [
    "patches = sparse_code @ dico.dictionary\n",
    "print('number of codes, size of reconstructed images = ', patches.shape)"
   ]
  },
  {
   "cell_type": "code",
   "execution_count": null,
   "metadata": {
    "ExecuteTime": {
     "start_time": "2018-09-26T11:07:03.008Z"
    },
    "scrolled": false
   },
   "outputs": [],
   "source": [
    "error = data - patches\n",
    "print('average of residual patches = ', error.mean(), '+/-', error.mean(axis=1).std())\n",
    "SE = np.sqrt(np.sum(error**2, axis=1))\n",
    "print('average energy of residual = ', SE.mean(), '+/-', SE.std())"
   ]
  },
  {
   "cell_type": "markdown",
   "metadata": {},
   "source": [
    "## Version used"
   ]
  },
  {
   "cell_type": "code",
   "execution_count": null,
   "metadata": {
    "ExecuteTime": {
     "start_time": "2018-09-26T11:07:03.014Z"
    }
   },
   "outputs": [],
   "source": [
    "%load_ext version_information\n",
    "%version_information numpy, shl_scripts"
   ]
  }
 ],
 "metadata": {
  "kernelspec": {
   "display_name": "Python 3",
   "language": "python",
   "name": "python3"
  },
  "language_info": {
   "codemirror_mode": {
    "name": "ipython",
    "version": 3
   },
   "file_extension": ".py",
   "mimetype": "text/x-python",
   "name": "python",
   "nbconvert_exporter": "python",
   "pygments_lexer": "ipython3",
   "version": "3.6.5"
  },
  "toc": {
   "base_numbering": 1,
   "nav_menu": {
    "height": "102px",
    "width": "252px"
   },
   "number_sections": true,
   "sideBar": true,
   "skip_h1_title": false,
   "title_cell": "Table of Contents",
   "title_sidebar": "Contents",
   "toc_cell": false,
   "toc_position": {},
   "toc_section_display": "block",
   "toc_window_display": false
  }
 },
 "nbformat": 4,
 "nbformat_minor": 2
}
