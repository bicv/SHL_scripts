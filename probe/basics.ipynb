{
 "cells": [
  {
   "cell_type": "markdown",
   "metadata": {
    "collapsed": true
   },
   "source": [
    "# Sparse Hebbian Learning: basics\n",
    "\n",
    "We are interested here in learning the \"optimal\" components of a set of images (let's say some \"natural\", usual images). As there is no supervisor to guide the learning, this is called unsupervised learning. Our basic hypothesis to find the best (\"optimal\") components will be to assume that *a priori* the most sparse is more plausible. We will implement the derived algorithm in this set of scripts.\n",
    "\n",
    "Here, we will show the basic operations that are implemented in this package. "
   ]
  },
  {
   "cell_type": "code",
   "execution_count": null,
   "metadata": {
    "ExecuteTime": {
     "end_time": "2018-01-22T14:44:26.455568Z",
     "start_time": "2018-01-22T14:44:26.424403Z"
    }
   },
   "outputs": [],
   "source": [
    "%load_ext autoreload\n",
    "%autoreload 2"
   ]
  },
  {
   "cell_type": "code",
   "execution_count": null,
   "metadata": {
    "ExecuteTime": {
     "end_time": "2018-01-22T14:44:26.916530Z",
     "start_time": "2018-01-22T14:44:26.463964Z"
    }
   },
   "outputs": [],
   "source": [
    "%matplotlib inline\n",
    "import matplotlib.pyplot as plt\n",
    "import numpy as np\n",
    "np.set_printoptions(precision=4, suppress=True)"
   ]
  },
  {
   "cell_type": "markdown",
   "metadata": {},
   "source": [
    "## experiments\n",
    "\n",
    "To test and control for the role of different parameters, we will have a first object (in the [shl_experiments.py](https://github.com/bicv/SHL_scripts/blob/master/shl_scripts/shl_experiments.py) script) that controls a learning experiment. It contains all relevant parameters, but can also keep a trace of the history of some statistics. This is useful to compare the relative efficiency of the different solutions.\n"
   ]
  },
  {
   "cell_type": "code",
   "execution_count": null,
   "metadata": {
    "ExecuteTime": {
     "end_time": "2018-01-22T14:44:26.944345Z",
     "start_time": "2018-01-22T14:44:26.919241Z"
    }
   },
   "outputs": [],
   "source": [
    "DEBUG_DOWNSCALE, verbose = 10, 0\n",
    "DEBUG_DOWNSCALE, verbose = 1, 0\n",
    "DEBUG_DOWNSCALE, verbose = 10, 10\n",
    "DEBUG_DOWNSCALE, verbose = 1, 10\n",
    "matname = 'vanilla'"
   ]
  },
  {
   "cell_type": "code",
   "execution_count": null,
   "metadata": {
    "ExecuteTime": {
     "end_time": "2018-01-22T14:44:27.092939Z",
     "start_time": "2018-01-22T14:44:26.946875Z"
    },
    "scrolled": true
   },
   "outputs": [],
   "source": [
    "!ls -l {shl.data_cache}/{matname}*"
   ]
  },
  {
   "cell_type": "raw",
   "metadata": {
    "ExecuteTime": {
     "end_time": "2018-01-19T19:49:52.422230Z",
     "start_time": "2018-01-19T19:49:52.278479Z"
    }
   },
   "source": [
    "!rm {shl.data_cache}/{matname}*"
   ]
  },
  {
   "cell_type": "code",
   "execution_count": null,
   "metadata": {
    "ExecuteTime": {
     "end_time": "2018-01-22T14:44:27.246829Z",
     "start_time": "2018-01-22T14:44:27.096908Z"
    }
   },
   "outputs": [],
   "source": [
    "!ls -l {shl.data_cache}/{matname}*"
   ]
  },
  {
   "cell_type": "code",
   "execution_count": null,
   "metadata": {
    "ExecuteTime": {
     "end_time": "2018-01-22T14:44:27.319328Z",
     "start_time": "2018-01-22T14:44:27.258189Z"
    }
   },
   "outputs": [],
   "source": [
    "from shl_scripts.shl_experiments import SHL\n",
    "help(SHL)"
   ]
  },
  {
   "cell_type": "code",
   "execution_count": null,
   "metadata": {
    "ExecuteTime": {
     "end_time": "2018-01-22T14:44:27.571225Z",
     "start_time": "2018-01-22T14:44:27.328282Z"
    },
    "scrolled": false
   },
   "outputs": [],
   "source": [
    "shl = SHL(DEBUG_DOWNSCALE=DEBUG_DOWNSCALE, verbose=verbose)\n",
    "data = shl.get_data(matname='data')"
   ]
  },
  {
   "cell_type": "code",
   "execution_count": null,
   "metadata": {
    "ExecuteTime": {
     "end_time": "2018-01-22T14:44:27.921133Z",
     "start_time": "2018-01-22T14:44:27.618922Z"
    },
    "scrolled": false
   },
   "outputs": [],
   "source": [
    "print('number of patches, size of patches = ', data.shape)\n",
    "print('average of patches = ', data.mean(), ' +/- ', data.mean(axis=1).std())\n",
    "SE = np.sqrt(np.sum(data**2, axis=1))\n",
    "print('average energy of data = ', SE.mean(), '+/-', SE.std())"
   ]
  },
  {
   "cell_type": "code",
   "execution_count": null,
   "metadata": {
    "ExecuteTime": {
     "end_time": "2018-01-22T14:44:27.960503Z",
     "start_time": "2018-01-22T14:44:27.924121Z"
    },
    "scrolled": true
   },
   "outputs": [],
   "source": [
    "shl.do_precision"
   ]
  },
  {
   "cell_type": "markdown",
   "metadata": {},
   "source": [
    "## learning\n",
    "\n",
    "The actual learning is done in a second object (here ``dico``) from which we can access another set of properties and functions  (see the [shl_learn.py](https://github.com/bicv/SHL_scripts/blob/master/shl_scripts/shl_learn.py) script):"
   ]
  },
  {
   "cell_type": "code",
   "execution_count": null,
   "metadata": {
    "ExecuteTime": {
     "end_time": "2018-01-22T14:51:23.182235Z",
     "start_time": "2018-01-22T14:44:27.964759Z"
    },
    "scrolled": false
   },
   "outputs": [],
   "source": [
    "list_figures = ['show_dico', 'time_plot_error', 'time_plot_qerror']#, 'plot_variance',  'plot_variance_histogram',  'time_plot_prob',  'time_plot_kurt',  'time_plot_var']\n",
    "dico = shl.learn_dico(data=data, list_figures=list_figures, matname=matname)"
   ]
  },
  {
   "cell_type": "code",
   "execution_count": null,
   "metadata": {
    "ExecuteTime": {
     "end_time": "2018-01-22T14:51:23.242626Z",
     "start_time": "2018-01-22T14:51:23.184672Z"
    },
    "scrolled": false
   },
   "outputs": [],
   "source": [
    "help(dico)"
   ]
  },
  {
   "cell_type": "code",
   "execution_count": null,
   "metadata": {
    "ExecuteTime": {
     "end_time": "2018-01-22T14:51:23.324938Z",
     "start_time": "2018-01-22T14:51:23.245676Z"
    }
   },
   "outputs": [],
   "source": [
    "print('size of dictionary = (number of filters, size of imagelets) = ', dico.dictionary.shape)\n",
    "print('average of filters = ',  dico.dictionary.mean(axis=1).mean(), \n",
    "      '+/-',  dico.dictionary.mean(axis=1).std())\n",
    "SE = np.sqrt(np.sum(dico.dictionary**2, axis=1))\n",
    "print('average energy of filters = ', SE.mean(), '+/-', SE.std())"
   ]
  },
  {
   "cell_type": "markdown",
   "metadata": {},
   "source": [
    "## coding\n",
    "\n",
    "The learning itself is done via a gradient descent but is highly dependent on the coding / decoding algorithm. This belongs to a another function (in the [shl_encode.py](https://github.com/bicv/SHL_scripts/blob/master/shl_scripts/shl_encode.py) script)"
   ]
  },
  {
   "cell_type": "code",
   "execution_count": null,
   "metadata": {
    "ExecuteTime": {
     "end_time": "2018-01-22T14:51:57.785297Z",
     "start_time": "2018-01-22T14:51:23.331533Z"
    }
   },
   "outputs": [],
   "source": [
    "sparse_code = shl.code(data, dico, matname=matname, l0_sparseness=45)\n",
    "print('number of codes, size of codewords = ', sparse_code.shape)\n",
    "print('average of codewords = ', sparse_code.mean())\n",
    "print('average energy of codewords = ', sparse_code.std(axis=0).mean())\n",
    "print('std of the average of individual patches = ', sparse_code.mean(axis=0).std())"
   ]
  },
  {
   "cell_type": "code",
   "execution_count": null,
   "metadata": {
    "ExecuteTime": {
     "end_time": "2018-01-22T14:51:58.517488Z",
     "start_time": "2018-01-22T14:51:57.789370Z"
    }
   },
   "outputs": [],
   "source": [
    "patches = sparse_code @ dico.dictionary\n",
    "print('number of codes, size of reconstructed images = ', patches.shape)"
   ]
  },
  {
   "cell_type": "code",
   "execution_count": null,
   "metadata": {
    "ExecuteTime": {
     "end_time": "2018-01-22T14:51:59.036387Z",
     "start_time": "2018-01-22T14:51:58.521889Z"
    },
    "scrolled": false
   },
   "outputs": [],
   "source": [
    "error = data - patches\n",
    "print('average of residual patches = ', error.mean(), '+/-', error.mean(axis=1).std())\n",
    "SE = np.sqrt(np.sum(error**2, axis=1))\n",
    "print('average energy of residual = ', SE.mean(), '+/-', SE.std())"
   ]
  },
  {
   "cell_type": "markdown",
   "metadata": {},
   "source": [
    "## Version used"
   ]
  },
  {
   "cell_type": "code",
   "execution_count": null,
   "metadata": {
    "ExecuteTime": {
     "end_time": "2018-01-22T14:51:59.154479Z",
     "start_time": "2018-01-22T14:51:59.043669Z"
    }
   },
   "outputs": [],
   "source": [
    "%load_ext version_information\n",
    "%version_information numpy, shl_scripts"
   ]
  }
 ],
 "metadata": {
  "kernelspec": {
   "display_name": "Python 3",
   "language": "python",
   "name": "python3"
  },
  "language_info": {
   "codemirror_mode": {
    "name": "ipython",
    "version": 3
   },
   "file_extension": ".py",
   "mimetype": "text/x-python",
   "name": "python",
   "nbconvert_exporter": "python",
   "pygments_lexer": "ipython3",
   "version": "3.6.4"
  },
  "toc": {
   "nav_menu": {
    "height": "102px",
    "width": "252px"
   },
   "number_sections": true,
   "sideBar": true,
   "skip_h1_title": false,
   "toc_cell": false,
   "toc_position": {},
   "toc_section_display": "block",
   "toc_window_display": false
  }
 },
 "nbformat": 4,
 "nbformat_minor": 1
}
