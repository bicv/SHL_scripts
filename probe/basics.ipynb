{
 "cells": [
  {
   "cell_type": "markdown",
   "metadata": {},
   "source": [
    "# Sparse Hebbian Learning: basics\n",
    "\n",
    "We are interested here in learning the \"optimal\" components of a set of images (let's say some \"natural\", usual images). As there is no supervisor to guide the learning, this is called unsupervised learning. Our basic hypothesis to find the best (\"optimal\") components will be to assume that *a priori* the most sparse is more plausible. We will implement the derived algorithm in this set of scripts.\n",
    "\n",
    "Here, we will show the basic operations that are implemented in this package. "
   ]
  },
  {
   "cell_type": "code",
   "execution_count": 1,
   "metadata": {
    "ExecuteTime": {
     "end_time": "2018-09-26T22:07:12.561848Z",
     "start_time": "2018-09-26T22:07:12.537528Z"
    }
   },
   "outputs": [],
   "source": [
    "%load_ext autoreload\n",
    "%autoreload 2"
   ]
  },
  {
   "cell_type": "code",
   "execution_count": 2,
   "metadata": {
    "ExecuteTime": {
     "end_time": "2018-09-26T22:07:12.918531Z",
     "start_time": "2018-09-26T22:07:12.565040Z"
    }
   },
   "outputs": [],
   "source": [
    "%matplotlib inline\n",
    "import matplotlib.pyplot as plt\n",
    "import numpy as np\n",
    "np.set_printoptions(precision=4, suppress=True)"
   ]
  },
  {
   "cell_type": "markdown",
   "metadata": {},
   "source": [
    "## experiments\n",
    "\n",
    "To test and control for the role of different parameters, we will have a first object (in the [shl_experiments.py](https://github.com/bicv/SparseHebbianLearning/blob/master/shl_scripts/shl_experiments.py) script) that controls a learning experiment. It contains all relevant parameters, but can also keep a trace of the history of some statistics. This is useful to compare the relative efficiency of the different solutions.\n"
   ]
  },
  {
   "cell_type": "code",
   "execution_count": 3,
   "metadata": {
    "ExecuteTime": {
     "end_time": "2018-09-26T22:07:12.942953Z",
     "start_time": "2018-09-26T22:07:12.920954Z"
    }
   },
   "outputs": [],
   "source": [
    "matname = 'basics'"
   ]
  },
  {
   "cell_type": "code",
   "execution_count": 4,
   "metadata": {
    "ExecuteTime": {
     "end_time": "2018-09-26T22:07:12.999525Z",
     "start_time": "2018-09-26T22:07:12.946003Z"
    }
   },
   "outputs": [],
   "source": [
    "from shl_scripts.shl_experiments import SHL"
   ]
  },
  {
   "cell_type": "code",
   "execution_count": 5,
   "metadata": {
    "ExecuteTime": {
     "end_time": "2018-09-26T22:07:13.024635Z",
     "start_time": "2018-09-26T22:07:13.001885Z"
    }
   },
   "outputs": [
    {
     "name": "stdout",
     "output_type": "stream",
     "text": [
      "Help on SHL in module shl_scripts.shl_experiments object:\n",
      "\n",
      "class SHL(builtins.object)\n",
      " |  SHL(height=256, width=256, patch_width=21, N_patches=65536, datapath='../database/', name_database='kodakdb', do_mask=True, do_bandpass=True, over_patches=16, patch_ds=1, n_dictionary=676, learning_algorithm='mp', fit_tol=None, l0_sparseness=34, alpha_MP=0.95, one_over_F=True, n_iter=4097, eta=0.015, beta1=0.95, beta2=0.999, epsilon=1e-08, do_precision=False, eta_precision=0.0005, homeo_method='HAP', eta_homeo=0.01, alpha_homeo=2.5, C=3.0, nb_quant=128, P_cum=None, do_sym=False, seed=42, patch_norm=False, batch_size=1024, record_each=32, record_num_batches=1024, n_image=None, DEBUG_DOWNSCALE=1, verbose=0, cache_dir='cache_dir')\n",
      " |  \n",
      " |  Base class to define SHL experiments:\n",
      " |      - initialization\n",
      " |      - coding and learning\n",
      " |      - visualization\n",
      " |      - quantitative analysis\n",
      " |  \n",
      " |  Methods defined here:\n",
      " |  \n",
      " |  __init__(self, height=256, width=256, patch_width=21, N_patches=65536, datapath='../database/', name_database='kodakdb', do_mask=True, do_bandpass=True, over_patches=16, patch_ds=1, n_dictionary=676, learning_algorithm='mp', fit_tol=None, l0_sparseness=34, alpha_MP=0.95, one_over_F=True, n_iter=4097, eta=0.015, beta1=0.95, beta2=0.999, epsilon=1e-08, do_precision=False, eta_precision=0.0005, homeo_method='HAP', eta_homeo=0.01, alpha_homeo=2.5, C=3.0, nb_quant=128, P_cum=None, do_sym=False, seed=42, patch_norm=False, batch_size=1024, record_each=32, record_num_batches=1024, n_image=None, DEBUG_DOWNSCALE=1, verbose=0, cache_dir='cache_dir')\n",
      " |      Initialize self.  See help(type(self)) for accurate signature.\n",
      " |  \n",
      " |  code(self, data, dico, coding_algorithm='mp', matname=None, P_cum=None, fit_tol=None, l0_sparseness=None, gain=None)\n",
      " |  \n",
      " |  decode(self, sparse_code, dico)\n",
      " |  \n",
      " |  get_data(self, matname=None, patch_width=None)\n",
      " |  \n",
      " |  learn_dico(self, dictionary=None, precision=None, P_cum=None, data=None, matname=None, record_each=None, folder_exp=None, list_figures=[], fig_kwargs={'fig': None, 'ax': None})\n",
      " |  \n",
      " |  plot_error(self, dico, **fig_kwargs)\n",
      " |  \n",
      " |  plot_variance(self, sparse_code, **fig_kwargs)\n",
      " |  \n",
      " |  plot_variance_histogram(self, sparse_code, **fig_kwargs)\n",
      " |  \n",
      " |  show_Pcum(self, dico, title=None, verbose=False, n_yticks=21, alpha=0.05, c='g', **fig_kwargs)\n",
      " |  \n",
      " |  show_dico(self, dico, data=None, title=None, **fig_kwargs)\n",
      " |  \n",
      " |  show_dico_in_order(self, dico, data=None, title=None, **fig_kwargs)\n",
      " |  \n",
      " |  time_plot(self, dico, variable='kurt', N_nosample=1, **fig_kwargs)\n",
      " |  \n",
      " |  ----------------------------------------------------------------------\n",
      " |  Data descriptors defined here:\n",
      " |  \n",
      " |  __dict__\n",
      " |      dictionary for instance variables (if defined)\n",
      " |  \n",
      " |  __weakref__\n",
      " |      list of weak references to the object (if defined)\n",
      "\n"
     ]
    }
   ],
   "source": [
    "shl = SHL(homeo_method='HAP', DEBUG_DOWNSCALE=1, verbose=10)\n",
    "help(shl)"
   ]
  },
  {
   "cell_type": "code",
   "execution_count": 6,
   "metadata": {
    "ExecuteTime": {
     "end_time": "2018-09-26T22:07:13.179285Z",
     "start_time": "2018-09-26T22:07:13.027828Z"
    }
   },
   "outputs": [
    {
     "name": "stdout",
     "output_type": "stream",
     "text": [
      "-rw-r--r--  1 laurentperrinet  staff  231154688 Sep 26  2018 cache_dir/basics_coding.npy\n",
      "-rw-r--r--  1 laurentperrinet  staff  134185088 Sep 26  2018 cache_dir/basics_data.npy\n",
      "-rw-r--r--  1 laurentperrinet  staff          0 Jul 10 16:30 cache_dir/basics_dico.pkl_lock\n",
      "-rw-r--r--  1 laurentperrinet  staff          0 Jul 10 16:30 cache_dir/basics_dico.pkl_lock_pid-52870_host-fortytwo\n"
     ]
    }
   ],
   "source": [
    "!ls -l {shl.cache_dir}/{matname}*"
   ]
  },
  {
   "cell_type": "code",
   "execution_count": 7,
   "metadata": {
    "ExecuteTime": {
     "end_time": "2018-09-26T22:07:13.447438Z",
     "start_time": "2018-09-26T22:07:13.182440Z"
    }
   },
   "outputs": [
    {
     "name": "stdout",
     "output_type": "stream",
     "text": [
      "ls: cache_dir/basics*: No such file or directory\n"
     ]
    }
   ],
   "source": [
    "!rm {shl.cache_dir}/{matname}*\n",
    "!ls -l {shl.cache_dir}/{matname}*"
   ]
  },
  {
   "cell_type": "code",
   "execution_count": 8,
   "metadata": {
    "ExecuteTime": {
     "end_time": "2018-09-26T22:07:13.854778Z",
     "start_time": "2018-09-26T22:07:13.450003Z"
    }
   },
   "outputs": [
    {
     "name": "stdout",
     "output_type": "stream",
     "text": [
      "Extracting data..No cache found cache_dir/basics_data: Extracting data... Extracting data..bittern62.png, reflection63.png, yose07.png, rocky10.png, koala52.png, craterlake12.png, clouds43.png, yellowleaves39.png, yose05.png, goldwater67.png, bird08.png, cattails70.png, flowers37.png, woods54.png, cucorn50.png, bora04.png, geyser27.png, flowerhill29.png, calcoast09.png, hibiscus30.png, Data is of shape : (65520, 441) - done in 25.41s.\n",
      "Data is of shape : (65520, 441) - done in 27.46s.\n",
      "number of patches, size of patches =  (65520, 441)\n",
      "average of patches =  -4.1888600727021664e-05  +/-  0.006270387629074682\n",
      "average energy of data =  5.477384347012861 +/- 1.557168782769748\n"
     ]
    }
   ],
   "source": [
    "data = shl.get_data(matname=matname)\n",
    "print('number of patches, size of patches = ', data.shape)\n",
    "print('average of patches = ', data.mean(), ' +/- ', data.mean(axis=1).std())\n",
    "SE = np.sqrt(np.sum(data**2, axis=1))\n",
    "print('average energy of data = ', SE.mean(), '+/-', SE.std())"
   ]
  },
  {
   "cell_type": "markdown",
   "metadata": {},
   "source": [
    "## learning\n",
    "\n",
    "The actual learning is done in a second object (here ``dico``) from which we can access another set of properties and functions  (see the [shl_learn.py](https://github.com/bicv/SparseHebbianLearning/blob/master/shl_scripts/shl_learn.py) script):"
   ]
  },
  {
   "cell_type": "code",
   "execution_count": null,
   "metadata": {
    "ExecuteTime": {
     "end_time": "2018-09-26T22:30:51.351170Z",
     "start_time": "2018-09-26T22:07:13.857297Z"
    }
   },
   "outputs": [
    {
     "name": "stdout",
     "output_type": "stream",
     "text": [
      "No cache found cache_dir/basics_dico.pkl: Learning the dictionary with algo = mp \n",
      " Training on 65520 patches\n",
      "Iteration   1 /   4097 (elapsed time:  14s,   0mn  14s)\n",
      "Iteration  33 /   4097 (elapsed time:  1279s,  21mn  19s)\n",
      "Iteration  65 /   4097 (elapsed time:  2678s,  44mn  38s)\n",
      "Iteration  97 /   4097 (elapsed time:  4042s,  67mn  22s)\n",
      "Iteration  129 /   4097 (elapsed time:  5310s,  88mn  30s)\n",
      "Iteration  161 /   4097 (elapsed time:  6503s,  108mn  23s)\n",
      "Iteration  193 /   4097 (elapsed time:  7702s,  128mn  22s)\n",
      "Iteration  225 /   4097 (elapsed time:  8887s,  148mn   7s)\n",
      "Iteration  257 /   4097 (elapsed time:  10062s,  167mn  42s)\n",
      "Iteration  289 /   4097 (elapsed time:  11193s,  186mn  33s)\n",
      "Iteration  321 /   4097 (elapsed time:  12303s,  205mn   3s)\n",
      "Iteration  353 /   4097 (elapsed time:  13415s,  223mn  35s)\n",
      "Iteration  385 /   4097 (elapsed time:  14540s,  242mn  20s)\n",
      "Iteration  417 /   4097 (elapsed time:  15616s,  260mn  16s)\n",
      "Iteration  449 /   4097 (elapsed time:  16685s,  278mn   5s)\n",
      "Iteration  481 /   4097 (elapsed time:  17737s,  295mn  37s)\n",
      "Iteration  513 /   4097 (elapsed time:  18824s,  313mn  44s)\n",
      "Iteration  545 /   4097 (elapsed time:  19882s,  331mn  22s)\n",
      "Iteration  577 /   4097 (elapsed time:  20947s,  349mn   7s)\n",
      "Iteration  609 /   4097 (elapsed time:  22015s,  366mn  55s)\n",
      "Iteration  641 /   4097 (elapsed time:  23078s,  384mn  38s)\n",
      "Iteration  673 /   4097 (elapsed time:  24130s,  402mn  10s)\n",
      "Iteration  705 /   4097 (elapsed time:  25189s,  419mn  49s)\n",
      "Iteration  737 /   4097 (elapsed time:  26244s,  437mn  24s)\n",
      "Iteration  769 /   4097 (elapsed time:  27330s,  455mn  30s)\n",
      "Iteration  801 /   4097 (elapsed time:  28388s,  473mn   8s)\n",
      "Iteration  833 /   4097 (elapsed time:  29437s,  490mn  37s)\n",
      "Iteration  865 /   4097 (elapsed time:  30484s,  508mn   4s)\n",
      "Iteration  897 /   4097 (elapsed time:  31541s,  525mn  41s)\n",
      "Iteration  929 /   4097 (elapsed time:  32604s,  543mn  24s)\n",
      "Iteration  961 /   4097 (elapsed time:  33649s,  560mn  49s)\n",
      "Iteration  993 /   4097 (elapsed time:  34719s,  578mn  39s)\n",
      "Iteration  1025 /   4097 (elapsed time:  35779s,  596mn  19s)\n",
      "Iteration  1057 /   4097 (elapsed time:  36844s,  614mn   4s)\n",
      "Iteration  1089 /   4097 (elapsed time:  37899s,  631mn  39s)\n",
      "Iteration  1121 /   4097 (elapsed time:  38969s,  649mn  29s)\n",
      "Iteration  1153 /   4097 (elapsed time:  40030s,  667mn  10s)\n",
      "Iteration  1185 /   4097 (elapsed time:  41104s,  685mn   4s)\n",
      "Iteration  1217 /   4097 (elapsed time:  42163s,  702mn  43s)\n",
      "Iteration  1249 /   4097 (elapsed time:  43218s,  720mn  18s)\n",
      "Iteration  1281 /   4097 (elapsed time:  44268s,  737mn  48s)\n",
      "Iteration  1313 /   4097 (elapsed time:  45356s,  755mn  56s)\n",
      "Iteration  1345 /   4097 (elapsed time:  46425s,  773mn  45s)\n",
      "Iteration  1377 /   4097 (elapsed time:  47486s,  791mn  26s)\n",
      "Iteration  1409 /   4097 (elapsed time:  48541s,  809mn   1s)\n",
      "Iteration  1441 /   4097 (elapsed time:  49606s,  826mn  46s)\n",
      "Iteration  1473 /   4097 (elapsed time:  50668s,  844mn  28s)\n",
      "Iteration  1505 /   4097 (elapsed time:  51717s,  861mn  57s)\n",
      "Iteration  1537 /   4097 (elapsed time:  52780s,  879mn  40s)\n",
      "Iteration  1569 /   4097 (elapsed time:  53847s,  897mn  27s)\n",
      "Iteration  1601 /   4097 (elapsed time:  54907s,  915mn   7s)\n",
      "Iteration  1633 /   4097 (elapsed time:  55959s,  932mn  39s)\n",
      "Iteration  1665 /   4097 (elapsed time:  57022s,  950mn  22s)\n",
      "Iteration  1697 /   4097 (elapsed time:  58081s,  968mn   1s)\n",
      "Iteration  1729 /   4097 (elapsed time:  59120s,  985mn  20s)\n",
      "Iteration  1761 /   4097 (elapsed time:  60177s,  1002mn  57s)\n",
      "Iteration  1793 /   4097 (elapsed time:  61253s,  1020mn  53s)\n",
      "Iteration  1825 /   4097 (elapsed time:  62437s,  1040mn  37s)\n",
      "Iteration  1857 /   4097 (elapsed time:  63580s,  1059mn  40s)\n",
      "Iteration  1889 /   4097 (elapsed time:  64733s,  1078mn  53s)\n",
      "Iteration  1921 /   4097 (elapsed time:  65895s,  1098mn  15s)\n",
      "Iteration  1953 /   4097 (elapsed time:  67114s,  1118mn  34s)\n",
      "Iteration  1985 /   4097 (elapsed time:  68776s,  1146mn  16s)\n",
      "Iteration  2017 /   4097 (elapsed time:  70112s,  1168mn  32s)\n",
      "Iteration  2049 /   4097 (elapsed time:  71396s,  1189mn  56s)\n"
     ]
    }
   ],
   "source": [
    "list_figures = ['show_dico', 'time_plot_error', 'time_plot_logL', 'show_Pcum']#, 'plot_variance',  'plot_variance_histogram',  'time_plot_prob',  'time_plot_kurt',  'time_plot_var']\n",
    "dico = shl.learn_dico(data=data, list_figures=list_figures, matname=matname)"
   ]
  },
  {
   "cell_type": "code",
   "execution_count": null,
   "metadata": {
    "ExecuteTime": {
     "end_time": "2018-09-26T22:30:51.389174Z",
     "start_time": "2018-09-26T22:30:51.354804Z"
    }
   },
   "outputs": [],
   "source": [
    "help(dico)"
   ]
  },
  {
   "cell_type": "code",
   "execution_count": null,
   "metadata": {
    "ExecuteTime": {
     "end_time": "2018-09-26T22:30:51.425174Z",
     "start_time": "2018-09-26T22:30:51.393048Z"
    }
   },
   "outputs": [],
   "source": [
    "print('size of dictionary = (number of filters, size of imagelets) = ', dico.dictionary.shape)\n",
    "print('average of filters = ',  dico.dictionary.mean(axis=1).mean(), \n",
    "      '+/-',  dico.dictionary.mean(axis=1).std())\n",
    "SE = np.sqrt(np.sum(dico.dictionary**2, axis=1))\n",
    "print('average energy of filters = ', SE.mean(), '+/-', SE.std())"
   ]
  },
  {
   "cell_type": "markdown",
   "metadata": {},
   "source": [
    "## coding\n",
    "\n",
    "The learning itself is done via a gradient descent but is highly dependent on the coding / decoding algorithm. This belongs to a another function (in the [shl_encode.py](https://github.com/bicv/SparseHebbianLearning/blob/master/shl_scripts/shl_encode.py) script)"
   ]
  },
  {
   "cell_type": "code",
   "execution_count": null,
   "metadata": {
    "ExecuteTime": {
     "end_time": "2018-09-26T22:30:52.205421Z",
     "start_time": "2018-09-26T22:30:51.428175Z"
    }
   },
   "outputs": [],
   "source": [
    "sparse_code = shl.code(data, dico, matname=matname, l0_sparseness=45)\n",
    "print('number of codes, size of codewords = ', sparse_code.shape)\n",
    "print('average of codewords = ', sparse_code.mean())\n",
    "print('average energy of codewords = ', sparse_code.std(axis=0).mean())\n",
    "print('std of the average of individual patches = ', sparse_code.mean(axis=0).std())"
   ]
  },
  {
   "cell_type": "code",
   "execution_count": null,
   "metadata": {
    "ExecuteTime": {
     "end_time": "2018-09-26T22:30:52.642005Z",
     "start_time": "2018-09-26T22:30:52.210162Z"
    }
   },
   "outputs": [],
   "source": [
    "patches = sparse_code @ dico.dictionary\n",
    "print('number of codes, size of reconstructed images = ', patches.shape)"
   ]
  },
  {
   "cell_type": "code",
   "execution_count": null,
   "metadata": {
    "ExecuteTime": {
     "end_time": "2018-09-26T22:30:52.896065Z",
     "start_time": "2018-09-26T22:30:52.645605Z"
    }
   },
   "outputs": [],
   "source": [
    "error = data - patches\n",
    "print('average of residual patches = ', error.mean(), '+/-', error.mean(axis=1).std())\n",
    "SE = np.sqrt(np.sum(error**2, axis=1))\n",
    "print('average energy of residual = ', SE.mean(), '+/-', SE.std())"
   ]
  },
  {
   "cell_type": "markdown",
   "metadata": {},
   "source": [
    "## Version used"
   ]
  },
  {
   "cell_type": "code",
   "execution_count": null,
   "metadata": {
    "ExecuteTime": {
     "end_time": "2018-09-26T22:30:53.184374Z",
     "start_time": "2018-09-26T22:30:52.899898Z"
    }
   },
   "outputs": [],
   "source": [
    "%load_ext version_information\n",
    "%version_information numpy, shl_scripts"
   ]
  }
 ],
 "metadata": {
  "kernelspec": {
   "display_name": "Python 3",
   "language": "python",
   "name": "python3"
  },
  "language_info": {
   "codemirror_mode": {
    "name": "ipython",
    "version": 3
   },
   "file_extension": ".py",
   "mimetype": "text/x-python",
   "name": "python",
   "nbconvert_exporter": "python",
   "pygments_lexer": "ipython3",
   "version": "3.7.4"
  },
  "toc": {
   "base_numbering": 1,
   "nav_menu": {
    "height": "102px",
    "width": "252px"
   },
   "number_sections": true,
   "sideBar": true,
   "skip_h1_title": false,
   "title_cell": "Table of Contents",
   "title_sidebar": "Contents",
   "toc_cell": false,
   "toc_position": {},
   "toc_section_display": "block",
   "toc_window_display": false
  }
 },
 "nbformat": 4,
 "nbformat_minor": 4
}
