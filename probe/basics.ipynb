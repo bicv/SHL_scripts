{
 "cells": [
  {
   "cell_type": "markdown",
   "metadata": {
    "collapsed": true
   },
   "source": [
    "# Sparse Hebbian Learning: basics\n",
    "\n",
    "We are interested here in learning the \"optimal\" components of a set of images (let's say some \"natural\", usual images). As there is no supervisor to guide the learning, this is called unsupervised learning. Our basic hypothesis to find the best (\"optimal\") components will be to assume that *a priori* the most sparse is more plausible. We will implement the derived algorithm in this set of scripts.\n",
    "\n",
    "Here, we will show the basic operations that are implemented in this package. "
   ]
  },
  {
   "cell_type": "code",
   "execution_count": 1,
   "metadata": {
    "ExecuteTime": {
     "end_time": "2018-01-19T19:49:51.688633Z",
     "start_time": "2018-01-19T19:49:51.666308Z"
    }
   },
   "outputs": [],
   "source": [
    "%load_ext autoreload\n",
    "%autoreload 2"
   ]
  },
  {
   "cell_type": "code",
   "execution_count": 2,
   "metadata": {
    "ExecuteTime": {
     "end_time": "2018-01-19T19:49:52.113730Z",
     "start_time": "2018-01-19T19:49:51.690752Z"
    }
   },
   "outputs": [],
   "source": [
    "%matplotlib inline\n",
    "import matplotlib.pyplot as plt\n",
    "import numpy as np\n",
    "np.set_printoptions(precision=4, suppress=True)"
   ]
  },
  {
   "cell_type": "markdown",
   "metadata": {},
   "source": [
    "## experiments\n",
    "\n",
    "To test and control for the role of different parameters, we will have a first object (in the [shl_experiments.py](https://github.com/bicv/SHL_scripts/blob/master/shl_scripts/shl_experiments.py) script) that controls a learning experiment. It contains all relevant parameters, but can also keep a trace of the history of some statistics. This is useful to compare the relative efficiency of the different solutions.\n"
   ]
  },
  {
   "cell_type": "code",
   "execution_count": 3,
   "metadata": {
    "ExecuteTime": {
     "end_time": "2018-01-19T19:49:52.133694Z",
     "start_time": "2018-01-19T19:49:52.115546Z"
    }
   },
   "outputs": [],
   "source": [
    "DEBUG_DOWNSCALE, verbose = 10, 0\n",
    "DEBUG_DOWNSCALE, verbose = 1, 0\n",
    "DEBUG_DOWNSCALE, verbose = 10, 10\n",
    "DEBUG_DOWNSCALE, verbose = 1, 10\n",
    "matname = 'vanilla'"
   ]
  },
  {
   "cell_type": "code",
   "execution_count": 4,
   "metadata": {
    "ExecuteTime": {
     "end_time": "2018-01-19T19:49:52.275952Z",
     "start_time": "2018-01-19T19:49:52.135442Z"
    },
    "scrolled": true
   },
   "outputs": [
    {
     "name": "stdout",
     "output_type": "stream",
     "text": [
      "ls: {shl.data_cache}/{matname}*: No such file or directory\r\n"
     ]
    }
   ],
   "source": [
    "!ls -l {shl.data_cache}/{matname}*"
   ]
  },
  {
   "cell_type": "raw",
   "metadata": {
    "ExecuteTime": {
     "end_time": "2018-01-19T19:49:52.422230Z",
     "start_time": "2018-01-19T19:49:52.278479Z"
    }
   },
   "source": [
    "!rm {shl.data_cache}/{matname}*"
   ]
  },
  {
   "cell_type": "code",
   "execution_count": 6,
   "metadata": {
    "ExecuteTime": {
     "end_time": "2018-01-19T19:49:52.566229Z",
     "start_time": "2018-01-19T19:49:52.424644Z"
    }
   },
   "outputs": [
    {
     "name": "stdout",
     "output_type": "stream",
     "text": [
      "ls: {shl.data_cache}/{matname}*: No such file or directory\r\n"
     ]
    }
   ],
   "source": [
    "!ls -l {shl.data_cache}/{matname}*"
   ]
  },
  {
   "cell_type": "code",
   "execution_count": 7,
   "metadata": {
    "ExecuteTime": {
     "end_time": "2018-01-19T19:49:52.601035Z",
     "start_time": "2018-01-19T19:49:52.568845Z"
    }
   },
   "outputs": [
    {
     "name": "stdout",
     "output_type": "stream",
     "text": [
      "Help on class SHL in module shl_scripts.shl_experiments:\n",
      "\n",
      "class SHL(builtins.object)\n",
      " |  Base class to define SHL experiments:\n",
      " |      - initialization\n",
      " |      - coding and learning\n",
      " |      - visualization\n",
      " |      - quantitative analysis\n",
      " |  \n",
      " |  Methods defined here:\n",
      " |  \n",
      " |  __init__(self, height=256, width=256, patch_size=(16, 16), datapath='database/', name_database='kodakdb', n_dictionary=576, learning_algorithm='mp', fit_tol=None, do_precision=False, do_mask=True, l0_sparseness=50, l0_sparseness_end=None, one_over_F=True, n_iter=4096, eta={'eta': 0.05, 'beta1': 0}, homeo_method='HAP', homeo_params={'eta_homeo': 0.05, 'alpha_homeo': 0.02}, do_sym=False, max_patches=4096, seed=42, patch_norm=False, batch_size=512, record_each=128, n_image=None, DEBUG_DOWNSCALE=1, verbose=0, data_cache='/tmp/data_cache')\n",
      " |      Initialize self.  See help(type(self)) for accurate signature.\n",
      " |  \n",
      " |  code(self, data, dico, coding_algorithm='mp', matname=None, fit_tol=None, l0_sparseness=None)\n",
      " |  \n",
      " |  decode(self, sparse_code, dico)\n",
      " |  \n",
      " |  get_data(self, matname=None)\n",
      " |  \n",
      " |  learn_dico(self, dictionary=None, precision=None, P_cum=None, data=None, matname=None, record_each=None, folder_exp=None, list_figures=[], fname=None)\n",
      " |  \n",
      " |  plot_error(self, dico, fig=None, ax=None)\n",
      " |  \n",
      " |  plot_variance(self, sparse_code, fname=None, fig=None, ax=None)\n",
      " |  \n",
      " |  plot_variance_histogram(self, sparse_code, fname=None, fig=None, ax=None)\n",
      " |  \n",
      " |  show_dico(self, dico, data=None, title=None, fname=None, dpi=200, fig=None, ax=None)\n",
      " |  \n",
      " |  show_dico_in_order(self, dico, data=None, title=None, fname=None, dpi=200, fig=None, ax=None)\n",
      " |  \n",
      " |  time_plot(self, dico, variable='kurt', fname=None, N_nosample=1, color=None, label=None, fig=None, ax=None)\n",
      " |  \n",
      " |  ----------------------------------------------------------------------\n",
      " |  Data descriptors defined here:\n",
      " |  \n",
      " |  __dict__\n",
      " |      dictionary for instance variables (if defined)\n",
      " |  \n",
      " |  __weakref__\n",
      " |      list of weak references to the object (if defined)\n",
      "\n"
     ]
    }
   ],
   "source": [
    "from shl_scripts.shl_experiments import SHL\n",
    "help(SHL)"
   ]
  },
  {
   "cell_type": "code",
   "execution_count": 8,
   "metadata": {
    "ExecuteTime": {
     "end_time": "2018-01-19T19:49:52.964268Z",
     "start_time": "2018-01-19T19:49:52.602918Z"
    },
    "scrolled": false
   },
   "outputs": [
    {
     "name": "stdout",
     "output_type": "stream",
     "text": [
      "Extracting data..loading the data called : /tmp/data_cache/data_data\n",
      "Data is of shape : (81920, 256) - done in 0.34s.\n"
     ]
    }
   ],
   "source": [
    "shl = SHL(DEBUG_DOWNSCALE=DEBUG_DOWNSCALE, verbose=verbose)\n",
    "data = shl.get_data(matname='data')"
   ]
  },
  {
   "cell_type": "code",
   "execution_count": 9,
   "metadata": {
    "ExecuteTime": {
     "end_time": "2018-01-19T19:49:53.138467Z",
     "start_time": "2018-01-19T19:49:52.966715Z"
    },
    "scrolled": false
   },
   "outputs": [
    {
     "name": "stdout",
     "output_type": "stream",
     "text": [
      "number of patches, size of patches =  (81920, 256)\n",
      "average of patches =  -1.7639963793800375e-05  +/-  0.06079668950903575\n",
      "average energy of data =  9.369575095193781 +/- 9.187046851180245\n"
     ]
    }
   ],
   "source": [
    "print('number of patches, size of patches = ', data.shape)\n",
    "print('average of patches = ', data.mean(), ' +/- ', data.mean(axis=1).std())\n",
    "SE = np.sqrt(np.sum(data**2, axis=1))\n",
    "print('average energy of data = ', SE.mean(), '+/-', SE.std())"
   ]
  },
  {
   "cell_type": "code",
   "execution_count": null,
   "metadata": {
    "ExecuteTime": {
     "start_time": "2018-01-19T19:49:51.689Z"
    },
    "scrolled": true
   },
   "outputs": [
    {
     "data": {
      "text/plain": [
       "False"
      ]
     },
     "execution_count": 10,
     "metadata": {},
     "output_type": "execute_result"
    }
   ],
   "source": [
    "shl.do_precision"
   ]
  },
  {
   "cell_type": "markdown",
   "metadata": {},
   "source": [
    "## learning\n",
    "\n",
    "The actual learning is done in a second object (here ``dico``) from which we can access another set of properties and functions  (see the [shl_learn.py](https://github.com/bicv/SHL_scripts/blob/master/shl_scripts/shl_learn.py) script):"
   ]
  },
  {
   "cell_type": "code",
   "execution_count": null,
   "metadata": {
    "ExecuteTime": {
     "start_time": "2018-01-19T19:49:51.700Z"
    },
    "scrolled": false
   },
   "outputs": [
    {
     "name": "stdout",
     "output_type": "stream",
     "text": [
      "No cache found /tmp/data_cache/vanilla_dico.pkl: Learning the dictionary with algo = mp \n",
      " Training on 81920 patches... Iteration   0 /   4096 (elapsed time:   0s,  0.0mn)\n",
      "(100,) (576,) (100,)\n",
      "(100,) (576,) (100,)\n",
      "(100,) (576,) (100,)\n",
      "(100,) (576,) (100,)\n",
      "Iteration  410 /   4096 (elapsed time:  5087s,  84.0mn)\n",
      "(100,) (576,) (100,)\n",
      "(100,) (576,) (100,)\n",
      "(100,) (576,) (100,)\n",
      "Iteration  820 /   4096 (elapsed time:  8921s,  148.0mn)\n",
      "(100,) (576,) (100,)\n",
      "(100,) (576,) (100,)\n",
      "(100,) (576,) (100,)\n",
      "Iteration  1230 /   4096 (elapsed time:  12611s,  210.0mn)\n",
      "(100,) (576,) (100,)\n",
      "(100,) (576,) (100,)\n",
      "(100,) (576,) (100,)\n",
      "Iteration  1640 /   4096 (elapsed time:  16268s,  271.0mn)\n",
      "(100,) (576,) (100,)\n",
      "(100,) (576,) (100,)\n",
      "(100,) (576,) (100,)\n",
      "(100,) (576,) (100,)\n",
      "Iteration  2050 /   4096 (elapsed time:  21079s,  351.0mn)\n",
      "(100,) (576,) (100,)\n",
      "(100,) (576,) (100,)\n",
      "(100,) (576,) (100,)\n",
      "Iteration  2460 /   4096 (elapsed time:  24732s,  412.0mn)\n",
      "(100,) (576,) (100,)\n",
      "(100,) (576,) (100,)\n",
      "(100,) (576,) (100,)\n",
      "Iteration  2870 /   4096 (elapsed time:  28381s,  473.0mn)\n",
      "(100,) (576,) (100,)\n",
      "(100,) (576,) (100,)\n",
      "(100,) (576,) (100,)\n",
      "Iteration  3280 /   4096 (elapsed time:  31885s,  531.0mn)\n",
      "(100,) (576,) (100,)\n"
     ]
    }
   ],
   "source": [
    "list_figures = ['show_dico', 'time_plot_error', 'time_plot_qerror']#, 'plot_variance',  'plot_variance_histogram',  'time_plot_prob',  'time_plot_kurt',  'time_plot_var']\n",
    "dico = shl.learn_dico(data=data, list_figures=list_figures, matname=matname)"
   ]
  },
  {
   "cell_type": "code",
   "execution_count": null,
   "metadata": {
    "ExecuteTime": {
     "start_time": "2018-01-19T19:49:51.702Z"
    },
    "scrolled": false
   },
   "outputs": [],
   "source": [
    "help(dico)"
   ]
  },
  {
   "cell_type": "code",
   "execution_count": null,
   "metadata": {
    "ExecuteTime": {
     "start_time": "2018-01-19T19:49:51.705Z"
    }
   },
   "outputs": [],
   "source": [
    "print('size of dictionary = (number of filters, size of imagelets) = ', dico.dictionary.shape)\n",
    "print('average of filters = ',  dico.dictionary.mean(axis=1).mean(), \n",
    "      '+/-',  dico.dictionary.mean(axis=1).std())\n",
    "SE = np.sqrt(np.sum(dico.dictionary**2, axis=1))\n",
    "print('average energy of filters = ', SE.mean(), '+/-', SE.std())"
   ]
  },
  {
   "cell_type": "markdown",
   "metadata": {},
   "source": [
    "## coding\n",
    "\n",
    "The learning itself is done via a gradient descent but is highly dependent on the coding / decoding algorithm. This belongs to a another function (in the [shl_encode.py](https://github.com/bicv/SHL_scripts/blob/master/shl_scripts/shl_encode.py) script)"
   ]
  },
  {
   "cell_type": "code",
   "execution_count": null,
   "metadata": {
    "ExecuteTime": {
     "start_time": "2018-01-19T19:49:51.709Z"
    }
   },
   "outputs": [],
   "source": [
    "sparse_code = shl.code(data, dico, matname=matname, l0_sparseness=45)\n",
    "print('number of codes, size of codewords = ', sparse_code.shape)\n",
    "print('average of codewords = ', sparse_code.mean())\n",
    "print('average energy of codewords = ', sparse_code.std(axis=0).mean())\n",
    "print('std of the average of individual patches = ', sparse_code.mean(axis=0).std())"
   ]
  },
  {
   "cell_type": "code",
   "execution_count": null,
   "metadata": {
    "ExecuteTime": {
     "start_time": "2018-01-19T19:49:51.711Z"
    }
   },
   "outputs": [],
   "source": [
    "patches = sparse_code @ dico.dictionary\n",
    "print('number of codes, size of reconstructed images = ', patches.shape)"
   ]
  },
  {
   "cell_type": "code",
   "execution_count": null,
   "metadata": {
    "ExecuteTime": {
     "start_time": "2018-01-19T19:49:51.715Z"
    },
    "scrolled": false
   },
   "outputs": [],
   "source": [
    "error = data - patches\n",
    "print('average of residual patches = ', error.mean(), '+/-', error.mean(axis=1).std())\n",
    "SE = np.sqrt(np.sum(error**2, axis=1))\n",
    "print('average energy of residual = ', SE.mean(), '+/-', SE.std())"
   ]
  },
  {
   "cell_type": "markdown",
   "metadata": {},
   "source": [
    "## Version used"
   ]
  },
  {
   "cell_type": "code",
   "execution_count": null,
   "metadata": {
    "ExecuteTime": {
     "start_time": "2018-01-19T19:49:51.717Z"
    }
   },
   "outputs": [],
   "source": [
    "%load_ext version_information\n",
    "%version_information numpy, shl_scripts"
   ]
  }
 ],
 "metadata": {
  "kernelspec": {
   "display_name": "Python 3",
   "language": "python",
   "name": "python3"
  },
  "language_info": {
   "codemirror_mode": {
    "name": "ipython",
    "version": 3
   },
   "file_extension": ".py",
   "mimetype": "text/x-python",
   "name": "python",
   "nbconvert_exporter": "python",
   "pygments_lexer": "ipython3",
   "version": "3.6.4"
  },
  "toc": {
   "nav_menu": {
    "height": "102px",
    "width": "252px"
   },
   "number_sections": true,
   "sideBar": true,
   "skip_h1_title": false,
   "toc_cell": false,
   "toc_position": {},
   "toc_section_display": "block",
   "toc_window_display": false
  }
 },
 "nbformat": 4,
 "nbformat_minor": 1
}
